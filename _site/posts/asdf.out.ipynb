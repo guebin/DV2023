{
  "cells": [
    {
      "cell_type": "markdown",
      "metadata": {},
      "source": [
        "# draft\n",
        "\n",
        "최규빈  \n",
        "2023-09-20\n",
        "\n",
        "# 4. Pandas: query"
      ],
      "id": "cff4bf24-5682-4bea-8727-8860d85a3ed5"
    },
    {
      "cell_type": "code",
      "execution_count": 226,
      "metadata": {},
      "outputs": [],
      "source": [
        "df=pd.DataFrame(np.random.normal(size=(20,4)),columns=list('ABCD'),index=pd.date_range('20221226',periods=20)).assign(E=['A']*10+['B']*10)\n",
        "df"
      ],
      "id": "a2ba1a32-4d2d-46b6-9dc2-e81335ebe5ab"
    },
    {
      "cell_type": "markdown",
      "metadata": {},
      "source": [
        "## A. 기본 query\n",
        "\n",
        "`-` 예시1: `A>0 and B<0`"
      ],
      "id": "c70eebd2-0349-4aff-83ed-27ddd7b44dde"
    },
    {
      "cell_type": "code",
      "execution_count": 227,
      "metadata": {},
      "outputs": [],
      "source": [
        "df.query('A>0 and B<0')"
      ],
      "id": "a3240240-a6ae-4e8c-855e-15722380c118"
    },
    {
      "cell_type": "markdown",
      "metadata": {},
      "source": [
        "`-` 예시2: `A<B<C`"
      ],
      "id": "36f9892b-bfd3-49fc-89d5-3c77362494a8"
    },
    {
      "cell_type": "code",
      "execution_count": 228,
      "metadata": {},
      "outputs": [],
      "source": [
        "df.query('A<B<C')"
      ],
      "id": "9fb79ec2-220a-4c8e-840b-d461c78447ef"
    },
    {
      "cell_type": "markdown",
      "metadata": {},
      "source": [
        "`-` 예시3: `(A+B/2) > 0`"
      ],
      "id": "26324164-b500-47c7-a475-f6d92e9c1f49"
    },
    {
      "cell_type": "code",
      "execution_count": 229,
      "metadata": {},
      "outputs": [],
      "source": [
        "df.query('(A+B)>0')"
      ],
      "id": "52801425-d694-4031-9e10-7579d5451af1"
    },
    {
      "cell_type": "markdown",
      "metadata": {},
      "source": [
        "`-` 예시4: `(A+B/2) > 0` and `E=='A'`"
      ],
      "id": "f372f38b-85ad-42b8-93c8-ae2b532a1023"
    },
    {
      "cell_type": "code",
      "execution_count": 230,
      "metadata": {},
      "outputs": [],
      "source": [
        "df.query('(A+B)>0 and E==\"A\"')"
      ],
      "id": "b1c63456-7f16-41a9-93af-10396dac71b4"
    },
    {
      "cell_type": "code",
      "execution_count": 231,
      "metadata": {},
      "outputs": [],
      "source": [
        "df.query(\"(A+B)>0 and E=='A'\")"
      ],
      "id": "eeca6e7d-e14f-48c2-be47-76de70d9c272"
    },
    {
      "cell_type": "markdown",
      "metadata": {},
      "source": [
        "## B. 외부변수를 이용\n",
        "\n",
        "`-` 예시"
      ],
      "id": "573c137a-d7d6-45bd-8fd9-289736115feb"
    },
    {
      "cell_type": "code",
      "execution_count": 205,
      "metadata": {},
      "outputs": [],
      "source": [
        "mean = df.A.mean()\n",
        "mean"
      ],
      "id": "7440e264-b72d-42a5-9ebf-7ca2533edce7"
    },
    {
      "cell_type": "code",
      "execution_count": 206,
      "metadata": {},
      "outputs": [],
      "source": [
        "df.query('A > @mean')"
      ],
      "id": "88dddd64-afd9-4008-96c1-15b5dfeac676"
    },
    {
      "cell_type": "markdown",
      "metadata": {},
      "source": [
        "## C. Index로 query\n",
        "\n",
        "`-` 예시"
      ],
      "id": "e76094ec-b916-4a3b-a19c-95596156486a"
    },
    {
      "cell_type": "code",
      "execution_count": 217,
      "metadata": {},
      "outputs": [],
      "source": [
        "df.query('index <= \"2022-12-30\" or index == \"2023-01-10\"')"
      ],
      "id": "300ea217-e1cf-451c-8733-93782a337d9f"
    },
    {
      "cell_type": "markdown",
      "metadata": {},
      "source": [
        "# 5. Pandas: 할당\n",
        "\n",
        "`-` 자료"
      ],
      "id": "14a3d260-ae2d-4839-aea2-addf3aed7801"
    },
    {
      "cell_type": "code",
      "execution_count": 219,
      "metadata": {},
      "outputs": [],
      "source": [
        "np.random.seed(43052)\n",
        "att = np.random.choice(np.arange(10,21)*5,20)\n",
        "rep = np.random.choice(np.arange(5,21)*5,20)\n",
        "mid = np.random.choice(np.arange(0,21)*5,20)\n",
        "fin = np.random.choice(np.arange(0,21)*5,20)\n",
        "df = pd.DataFrame({'att':att,'rep':rep,'mid':mid,'fin':fin})\n",
        "df"
      ],
      "id": "6c0ed28e-74f6-458f-bf40-9e83c9b57047"
    },
    {
      "cell_type": "markdown",
      "metadata": {},
      "source": [
        "## A. `df.assign()`\n",
        "\n",
        "`-` 방법1: assign을 이용한 추가"
      ],
      "id": "558a336c-11d2-44a2-acf0-403a03b39e86"
    },
    {
      "cell_type": "code",
      "execution_count": 220,
      "metadata": {},
      "outputs": [],
      "source": [
        "df.assign(total = df.att*0.1 + df.rep*0.2 + df.mid*0.35 + df.fin*0.35) "
      ],
      "id": "f401ec56-8374-41dc-9e8f-a62e092cffa5"
    },
    {
      "cell_type": "markdown",
      "metadata": {},
      "source": [
        "> 이 방법은 df를 일시적으로 변화시킴\n",
        "\n",
        "## B. `df.eval()`\n",
        "\n",
        "`-` 방법2: eval을 이용한 추가"
      ],
      "id": "3bdf49a0-1648-498e-9b31-c7675556972c"
    },
    {
      "cell_type": "code",
      "execution_count": 221,
      "metadata": {},
      "outputs": [],
      "source": [
        "df.eval('total = att*0.1 + rep*0.2 + mid*0.3 + fin*0.4') "
      ],
      "id": "5aff3424-c498-4892-a857-beafea26f787"
    },
    {
      "cell_type": "markdown",
      "metadata": {},
      "source": [
        "> 이 방법은 df를 일시적으로 변화시킴\n",
        "\n",
        "## C. `df[colname] = xxx`\n",
        "\n",
        "`-` 방법3: `df['total']` 을 이용한 할당"
      ],
      "id": "7cf91d60-0d52-44b7-969d-45492dcd2494"
    },
    {
      "cell_type": "code",
      "execution_count": 183,
      "metadata": {},
      "outputs": [],
      "source": [
        "df['total'] = df.att*0.1 + df.rep*0.2 + df.mid*0.3 + df.fin*0.4\n",
        "df"
      ],
      "id": "de95a596-ea8a-44fc-ab22-d4a60a58fc27"
    },
    {
      "cell_type": "markdown",
      "metadata": {},
      "source": [
        "> 이 방법은 df를 영구적으로 변화시킴\n",
        "\n",
        "# 6. HW\n",
        "\n",
        "`-` 문제: 아래의 자료에서 입학년도를 추가하고 싶다면?"
      ],
      "id": "3c475c6b-922e-40cc-935d-8b6ebb782b33"
    },
    {
      "cell_type": "code",
      "execution_count": 184,
      "metadata": {},
      "outputs": [],
      "source": [
        "np.random.seed(43052)\n",
        "att = np.random.choice(np.arange(10,21)*5,20)\n",
        "rep = np.random.choice(np.arange(5,21)*5,20)\n",
        "mid = np.random.choice(np.arange(0,21)*5,20)\n",
        "fin = np.random.choice(np.arange(0,21)*5,20)\n",
        "student_id = [ '2023-12362', '2022-12471', '2023-12333', '2022-12400', '2022-12377',\n",
        "               '2022-12469', '2023-12314', '2022-12363', '2023-12445', '2023-12336',\n",
        "               '2023-12426', '2022-12380', '2023-12422', '2022-12488', '2022-12370',\n",
        "               '2023-12443', '2022-12463', '2023-12491', '2023-12340', '2022-12312' ]\n",
        "df = pd.DataFrame({'student_id':student_id,'att':att,'rep':rep,'mid':mid,'fin':fin})\n",
        "df.head()"
      ],
      "id": "d9c98a1e-1ba9-4077-b2b8-d9b2ddb78f98"
    },
    {
      "cell_type": "code",
      "execution_count": 185,
      "metadata": {},
      "outputs": [],
      "source": [
        "df.assign(year=[l.split('-')[0] for l in df.student_id]).query('year==\"2022\"')"
      ],
      "id": "35974663-6bcb-4e69-a29c-46e4926dcafe"
    },
    {
      "cell_type": "markdown",
      "metadata": {},
      "source": [
        "# 3. `map(function, list)`\n",
        "\n",
        "## A. `lambda`\n",
        "\n",
        "`-` 예시1: $x \\to x+2$"
      ],
      "id": "cae6e10b-9599-4367-b05d-89ee5e5417ae"
    },
    {
      "cell_type": "code",
      "execution_count": 3,
      "metadata": {},
      "outputs": [],
      "source": [
        "f = lambda x: x+2 \n",
        "f(3)"
      ],
      "id": "23a07e54-8008-4320-973f-a1e4c9be7128"
    },
    {
      "cell_type": "markdown",
      "metadata": {},
      "source": [
        "`-` 예시2: $x,y \\to x+y$"
      ],
      "id": "8a80ff5e-b9e3-44e6-80b3-dce3d6631ae3"
    },
    {
      "cell_type": "code",
      "execution_count": 4,
      "metadata": {},
      "outputs": [],
      "source": [
        "f = lambda x,y: x+y \n",
        "f(3,5)"
      ],
      "id": "f2b0c947-5fc6-44a0-bf91-7dc09d822045"
    },
    {
      "cell_type": "markdown",
      "metadata": {},
      "source": [
        "`-` 예시3: ‘2023-09’ $\\to$ 9"
      ],
      "id": "0c2cc22f-4556-4345-aa98-b87365e000ff"
    },
    {
      "cell_type": "code",
      "execution_count": 16,
      "metadata": {},
      "outputs": [],
      "source": [
        "int('2023-09'[-2:])"
      ],
      "id": "876eeeda-3028-48f8-b726-217c7e0a56fb"
    },
    {
      "cell_type": "code",
      "execution_count": 17,
      "metadata": {},
      "outputs": [],
      "source": [
        "f = lambda x: int(x[-2:])\n",
        "f('2023-09')"
      ],
      "id": "b4f7da6f-6a82-4518-b867-ce9ff4d35034"
    },
    {
      "cell_type": "code",
      "execution_count": 18,
      "metadata": {},
      "outputs": [],
      "source": [
        "f('2022-10')"
      ],
      "id": "1ed552e2-4914-4523-9fc0-827d93c125df"
    },
    {
      "cell_type": "markdown",
      "metadata": {},
      "source": [
        "`-` 예시4: ‘2023-09’ $\\to$ 2023,9"
      ],
      "id": "6680963b-9b81-4f71-abe8-eec0562a2155"
    },
    {
      "cell_type": "code",
      "execution_count": 21,
      "metadata": {},
      "outputs": [],
      "source": [
        "f = lambda x: (int(x[:4]),int(x[-2:]))\n",
        "f('2023-09')"
      ],
      "id": "8eb94e89-20fc-44c3-9983-f0d19fe6fa06"
    },
    {
      "cell_type": "markdown",
      "metadata": {},
      "source": [
        "`-` 예시5: 문자열이 ‘cat’이면 1 ’dog’ 이면 0"
      ],
      "id": "c779d0c5-96c4-4f1c-833c-526df739a42a"
    },
    {
      "cell_type": "code",
      "execution_count": 23,
      "metadata": {},
      "outputs": [],
      "source": [
        "f = lambda x: 1 if x=='cat' else 0 "
      ],
      "id": "61ae303e-d3a8-4707-92ca-5f77d4636f5a"
    },
    {
      "cell_type": "code",
      "execution_count": 25,
      "metadata": {},
      "outputs": [],
      "source": [
        "f('cat'),f('dog')"
      ],
      "id": "b9688dd6-6299-4065-813f-2b663aee8bc9"
    }
  ],
  "nbformat": 4,
  "nbformat_minor": 5,
  "metadata": {
    "kernelspec": {
      "name": "python3",
      "display_name": "Python 3 (ipykernel)",
      "language": "python"
    },
    "language_info": {
      "name": "python",
      "codemirror_mode": {
        "name": "ipython",
        "version": "3"
      },
      "file_extension": ".py",
      "mimetype": "text/x-python",
      "nbconvert_exporter": "python",
      "pygments_lexer": "ipython3",
      "version": "3.11.5"
    }
  }
}