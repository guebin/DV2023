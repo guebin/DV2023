{
  "cells": [
    {
      "cell_type": "markdown",
      "metadata": {},
      "source": [
        "# asdf\n",
        "\n",
        "최규빈  \n",
        "2023-09-25\n",
        "\n",
        "# asdf\n",
        "\n",
        "## C. `s.apply(변환함수)`\n",
        "\n",
        "`-` 예시: 원소별로 처음3개의 숫자만 출력"
      ],
      "id": "eb7ad505-8a78-4743-abfa-4099d5b6b3dc"
    },
    {
      "cell_type": "code",
      "execution_count": 39,
      "metadata": {},
      "outputs": [],
      "source": [
        "df = pd.read_csv('https://raw.githubusercontent.com/guebin/DV2022/master/posts/FIFA23_official_data.csv')\n",
        "s = df.Height"
      ],
      "id": "ff8f092a-9bd3-4ba9-ae9a-aa6f9d16b5c6"
    },
    {
      "cell_type": "markdown",
      "metadata": {},
      "source": [
        "## D. `s.str`\n",
        "\n",
        "`-` 예시1: 원소별로 처음 3개의 숫자만 출력"
      ],
      "id": "51f9c137-003b-4017-be70-da870980bc95"
    },
    {
      "cell_type": "code",
      "execution_count": 20,
      "metadata": {},
      "outputs": [],
      "source": [
        "df = pd.read_csv('https://raw.githubusercontent.com/guebin/DV2022/master/posts/FIFA23_official_data.csv')\n",
        "s = df.Height"
      ],
      "id": "6c5518ce-ca56-46bd-9a99-e408845dfd43"
    },
    {
      "cell_type": "markdown",
      "metadata": {},
      "source": [
        "`-` 예시2: 원소별로 isupper를 수행"
      ],
      "id": "972f7600-670c-4c54-a4b8-78d96ab4b224"
    },
    {
      "cell_type": "code",
      "execution_count": 18,
      "metadata": {},
      "outputs": [],
      "source": [
        "s = pd.Series(['A','B','C','d','e','F'])\n",
        "s"
      ],
      "id": "dfd5d7ed-ac8e-49d5-9303-bed2955857ac"
    },
    {
      "cell_type": "markdown",
      "metadata": {},
      "source": [
        "## E. `s.astype()`\n",
        "\n",
        "`-` 예시1: 원소의 타입을 모두 `int`형으로 변경"
      ],
      "id": "5dff5b3b-4430-4a9a-8c40-119f2b469fbe"
    },
    {
      "cell_type": "code",
      "execution_count": 27,
      "metadata": {},
      "outputs": [],
      "source": [
        "s = pd.Series(list('12345'))\n",
        "s"
      ],
      "id": "8def4a63-0c1e-4b50-bd8a-7c85f2aee866"
    },
    {
      "cell_type": "markdown",
      "metadata": {},
      "source": [
        "`-` 예시2: 원소별로 (1) 처음3개의 문자열만 취하고 (2) 원소의 타입을 모두\n",
        "인트형으로 변경"
      ],
      "id": "b5d6634c-0c42-44b9-9777-39597844c449"
    },
    {
      "cell_type": "code",
      "execution_count": 601,
      "metadata": {},
      "outputs": [],
      "source": [
        "df = pd.read_csv('https://raw.githubusercontent.com/guebin/DV2022/master/posts/FIFA23_official_data.csv')\n",
        "s = df.Height"
      ],
      "id": "fff184f8-4d0d-46c6-bbf0-fbcd8dbf6ede"
    }
  ],
  "nbformat": 4,
  "nbformat_minor": 5,
  "metadata": {
    "kernelspec": {
      "name": "python3",
      "display_name": "Python 3 (ipykernel)",
      "language": "python"
    },
    "language_info": {
      "name": "python",
      "codemirror_mode": {
        "name": "ipython",
        "version": "3"
      },
      "file_extension": ".py",
      "mimetype": "text/x-python",
      "nbconvert_exporter": "python",
      "pygments_lexer": "ipython3",
      "version": "3.11.4"
    }
  }
}