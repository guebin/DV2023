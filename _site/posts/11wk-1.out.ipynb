{
  "cells": [
    {
      "cell_type": "markdown",
      "metadata": {},
      "source": [
        "# 11wk-1: Choropleth (folium)\n",
        "\n",
        "최규빈  \n",
        "2023-11-13\n",
        "\n",
        "<a href=\"https://colab.research.google.com/github/guebin/DV2023/blob/main/posts/11wk-1.ipynb\"><img src=\"https://colab.research.google.com/assets/colab-badge.svg\" style=\"text-align: left\"></a>\n",
        "\n",
        "# 1. 강의영상\n",
        "\n",
        "[????](????)\n",
        "\n",
        "# 2. Imports"
      ],
      "id": "6b79703e-dcb3-4ec5-a086-623afbc1da6e"
    },
    {
      "cell_type": "code",
      "execution_count": 1,
      "metadata": {
        "tags": []
      },
      "outputs": [],
      "source": [
        "# !pip install folium"
      ],
      "id": "311aa6a5-0bbf-4f22-ade7-84aaa7c28056"
    },
    {
      "cell_type": "code",
      "execution_count": 2,
      "metadata": {
        "tags": []
      },
      "outputs": [],
      "source": [
        "import numpy as np\n",
        "import pandas as pd\n",
        "#---#\n",
        "import folium \n",
        "import json \n",
        "import requests "
      ],
      "id": "919ddf03-a0b3-408e-b473-f127a933afda"
    },
    {
      "cell_type": "markdown",
      "metadata": {},
      "source": [
        "# 3. dict: view vs copy\n",
        "\n",
        "`-` 원하지 않는 코드"
      ],
      "id": "0146c6d6-1695-41b9-a7c9-8cf42112ef61"
    },
    {
      "cell_type": "code",
      "execution_count": 3,
      "metadata": {
        "tags": []
      },
      "outputs": [],
      "source": [
        "dct1 = {'a':1, 'b':2, 'c':3}\n",
        "dct1"
      ],
      "id": "442335f6-fca1-4174-9be6-7232b8b160d1"
    },
    {
      "cell_type": "code",
      "execution_count": 4,
      "metadata": {
        "tags": []
      },
      "outputs": [],
      "source": [
        "dct2 = dct1 \n",
        "dct1, dct2"
      ],
      "id": "0e9368a4-7f53-4132-893d-9ae95eab2031"
    },
    {
      "cell_type": "code",
      "execution_count": 5,
      "metadata": {
        "tags": []
      },
      "outputs": [],
      "source": [
        "dct2['c'] = 9999\n",
        "dct1, dct2"
      ],
      "id": "0ff1a20e-c39c-4621-abe9-5222c14f0b22"
    },
    {
      "cell_type": "markdown",
      "metadata": {},
      "source": [
        "`-` 원하는 코드"
      ],
      "id": "8c151c3a-1560-49ea-b893-cbd7418cf727"
    },
    {
      "cell_type": "code",
      "execution_count": 6,
      "metadata": {
        "tags": []
      },
      "outputs": [],
      "source": [
        "dct1 = {'a':1, 'b':2, 'c':3}\n",
        "dct1"
      ],
      "id": "8ad89a6e-9c09-4859-bd7c-72d8fb16cc58"
    },
    {
      "cell_type": "code",
      "execution_count": 7,
      "metadata": {
        "tags": []
      },
      "outputs": [],
      "source": [
        "dct2 = dct1.copy()\n",
        "dct1, dct2"
      ],
      "id": "f2243d19-6a3e-46fd-ac03-31e05f23f9de"
    },
    {
      "cell_type": "code",
      "execution_count": 8,
      "metadata": {
        "tags": []
      },
      "outputs": [],
      "source": [
        "dct2['c'] = 9999\n",
        "dct1, dct2"
      ],
      "id": "e091b90c-cc24-4a16-9d91-7a83c637a663"
    },
    {
      "cell_type": "markdown",
      "metadata": {},
      "source": [
        "# 4. [Choropleth map](https://en.wikipedia.org/wiki/Choropleth_map)\n",
        "\n",
        "`-` 코로플레스 맵의 예시\n",
        "\n",
        "![2020년 대한민국 총선결과,\n",
        "출처(<https://ko.wikipedia.org/wiki/대한민국_제21대_국회의원_선거>).)](https://upload.wikimedia.org/wikipedia/commons/thumb/e/e1/%EB%8C%80%ED%95%9C%EB%AF%BC%EA%B5%AD%EC%9D%98_%EC%A0%9C21%EB%8C%80_%EA%B5%AD%ED%9A%8C%EC%9D%98%EC%9B%90_%EC%84%A0%EA%B1%B0_%EA%B2%B0%EA%B3%BC.svg/1280px-%EB%8C%80%ED%95%9C%EB%AF%BC%EA%B5%AD%EC%9D%98_%EC%A0%9C21%EB%8C%80_%EA%B5%AD%ED%9A%8C%EC%9D%98%EC%9B%90_%EC%84%A0%EA%B1%B0_%EA%B2%B0%EA%B3%BC.svg.png)\n",
        "\n",
        "`-` 대충 정의하면, coropleth = polygon + y 이라고 볼 수 있다.\n",
        "\n",
        "-   `polygon`은 지리적구역을 표현\n",
        "-   `y`는 해당지리적 구역에 대응하는 측정값\n",
        "\n",
        "# 5. `folium` 기본\n",
        "\n",
        "`-` 개념\n",
        "\n",
        "-   Map Object를 생성 (fig 생성)\n",
        "-   Map Object에 이것저것 추가 (geom 추가)\n",
        "\n",
        "## A. `folium.Map()`\n",
        "\n",
        "`# 예시1` – 기본"
      ],
      "id": "65e5be45-461a-4b64-8142-8781a1f424c6"
    },
    {
      "cell_type": "code",
      "execution_count": 9,
      "metadata": {
        "tags": []
      },
      "outputs": [],
      "source": [
        "m = folium.Map()\n",
        "m"
      ],
      "id": "f388ac5b-67e2-476a-8a00-17c4186b4844"
    },
    {
      "cell_type": "markdown",
      "metadata": {},
      "source": [
        "`.`\n",
        "\n",
        "`#`\n",
        "\n",
        "`# 예시2` – scrollWheelZoom, zoom_start, location"
      ],
      "id": "03b649d2-4b7b-4f8a-a654-c88983c132fc"
    },
    {
      "cell_type": "code",
      "execution_count": 10,
      "metadata": {
        "tags": []
      },
      "outputs": [],
      "source": [
        "folium.Map(\n",
        "    scrollWheelZoom=False,\n",
        "    location=[37,127], zoom_start = 7    \n",
        ")"
      ],
      "id": "8dc5c208-c202-47b6-aa88-4c034076e2a7"
    },
    {
      "cell_type": "markdown",
      "metadata": {},
      "source": [
        "`.`\n",
        "\n",
        "`#`\n",
        "\n",
        "`# 예시3` – 전북대학교 분수대\n",
        "\n",
        "`-` `location`은 구글맵스에서 분수대 좌표를 확인할 것\n",
        "\n",
        "-   <https://www.google.co.kr/maps/>\n",
        "\n",
        "`-` `zoom_start=18` 로 설정할 것"
      ],
      "id": "515d4baf-4b88-4a18-bb06-d4bd81411130"
    },
    {
      "cell_type": "code",
      "execution_count": 11,
      "metadata": {
        "tags": []
      },
      "outputs": [],
      "source": [
        "m = folium.Map(\n",
        "    scrollWheelZoom = False,\n",
        "    location = [35.8468,127.1294], zoom_start = 18,\n",
        ")\n",
        "m"
      ],
      "id": "0726d921-0f15-4a83-9c02-9d92ea4e98bf"
    },
    {
      "cell_type": "markdown",
      "metadata": {},
      "source": [
        "`.`\n",
        "\n",
        "`#`\n",
        "\n",
        "## B. `folium.Marker()`\n",
        "\n",
        "`# 예제1` – `Map`에 `Marker`를 추가\n",
        "\n",
        "`-` `Map`의 인스턴스와 `Marker`의 인스턴스를 각각 생성"
      ],
      "id": "e26bd2be-f462-457c-9bce-f4a101a43eb2"
    },
    {
      "cell_type": "code",
      "execution_count": 12,
      "metadata": {
        "tags": []
      },
      "outputs": [],
      "source": [
        "m = folium.Map(\n",
        "    scrollWheelZoom = False,\n",
        "    location = [35.8468,127.1294], zoom_start = 18,\n",
        ")"
      ],
      "id": "a08be664-cb04-416e-b3c1-b349b95f9c59"
    },
    {
      "cell_type": "code",
      "execution_count": 13,
      "metadata": {
        "tags": []
      },
      "outputs": [],
      "source": [
        "marker = folium.Marker(location = [35.8468,127.1294])"
      ],
      "id": "25f21ed2-0064-451f-b9d7-b7501a01df27"
    },
    {
      "cell_type": "markdown",
      "metadata": {},
      "source": [
        "`-` 현재는 `Map` 인스턴스에 `Marker` 인스턴스가 표시되어있지 않음"
      ],
      "id": "b9b52f20-5b1b-46a6-939e-ee07144f0a94"
    },
    {
      "cell_type": "code",
      "execution_count": 14,
      "metadata": {
        "tags": []
      },
      "outputs": [],
      "source": [
        "m"
      ],
      "id": "3b6ea4a6-a832-4309-bd46-7a6794162b4a"
    },
    {
      "cell_type": "markdown",
      "metadata": {},
      "source": [
        "`.`\n",
        "\n",
        "`-` `Marker` 인스턴스를 `Map`에 추가함"
      ],
      "id": "68b02461-9d66-4072-9149-12ca9f4e98cc"
    },
    {
      "cell_type": "code",
      "execution_count": 15,
      "metadata": {
        "tags": []
      },
      "outputs": [],
      "source": [
        "marker.add_to(m)"
      ],
      "id": "6e847562-a86a-403f-b8a7-23b9b3eac4e7"
    },
    {
      "cell_type": "markdown",
      "metadata": {},
      "source": [
        "`-` 이제는 `Map` 인스턴스에 `Marker` 인스턴스가 `add_to` 되어서 함께\n",
        "표시됨"
      ],
      "id": "7ee12784-8847-44b6-883a-705ded3006ef"
    },
    {
      "cell_type": "code",
      "execution_count": 16,
      "metadata": {
        "tags": []
      },
      "outputs": [],
      "source": [
        "m"
      ],
      "id": "8c2a128a-2df3-4d63-af60-44d9dc69877e"
    },
    {
      "cell_type": "markdown",
      "metadata": {},
      "source": [
        "`.`\n",
        "\n",
        "`#`\n",
        "\n",
        "`# 예제2` – 통계학과 대학원생의 산책경로\n",
        "\n",
        "통계학과 대학원생의 산책로를 마커로 표시하라. 산책경로는 아래와 같다고\n",
        "하자.\n",
        "\n",
        "``` python\n",
        "## 통계학과 대학원생의 산책경로..\n",
        "[35.8471, 127.1291]\n",
        "[35.8468, 127.1289]\n",
        "[35.84635, 127.1291]\n",
        "[35.84635, 127.1297]\n",
        "[35.8468, 127.12995]\n",
        "[35.8474, 127.1300]\n",
        "```"
      ],
      "id": "3eb9736c-9270-4030-8e6f-6be6d7c49ee3"
    },
    {
      "cell_type": "code",
      "execution_count": 17,
      "metadata": {
        "tags": []
      },
      "outputs": [],
      "source": [
        "m = folium.Map(\n",
        "    scrollWheelZoom=False,\n",
        "    location = [35.8468,127.1294], # 분수대\n",
        "    zoom_start=18,\n",
        ")\n",
        "folium.Marker(\n",
        "    location = [35.8471, 127.1291]\n",
        ").add_to(m)\n",
        "folium.Marker(\n",
        "    location = [35.8468, 127.1289]\n",
        ").add_to(m)\n",
        "folium.Marker(\n",
        "    location = [35.84635, 127.1291]\n",
        ").add_to(m)\n",
        "folium.Marker(\n",
        "    location = [35.84635, 127.1297]\n",
        ").add_to(m)\n",
        "folium.Marker(\n",
        "    location = [35.8468, 127.12995]\n",
        ").add_to(m)\n",
        "folium.Marker(\n",
        "    location = [35.8474, 127.1300]\n",
        ").add_to(m)\n",
        "m"
      ],
      "id": "4a734f42-0bf0-4903-80e6-1abc7be80937"
    },
    {
      "cell_type": "markdown",
      "metadata": {},
      "source": [
        "`.`\n",
        "\n",
        "`#`\n",
        "\n",
        "## C. `folium.Polygon`\n",
        "\n",
        "`# 예제1` – 통계학과 대학원생의 산책경로를 폴리곤으로 표시 (더블리스트)"
      ],
      "id": "1af67d5e-5285-492c-882e-604c3a64c24c"
    },
    {
      "cell_type": "code",
      "execution_count": 18,
      "metadata": {
        "tags": []
      },
      "outputs": [],
      "source": [
        "m = folium.Map(\n",
        "    scrollWheelZoom=False,\n",
        "    location = [35.8468,127.1294], # 분수대\n",
        "    zoom_start=18,\n",
        ")\n",
        "folium.Polygon(\n",
        "    locations = [[35.8471, 127.1291],\n",
        "                 [35.8468, 127.1289],\n",
        "                 [35.84635, 127.1291],\n",
        "                 [35.84635, 127.1297],\n",
        "                 [35.8468, 127.12995],\n",
        "                 [35.8474, 127.1300]],\n",
        "    fill=True\n",
        ").add_to(m)\n",
        "m"
      ],
      "id": "d1fbf028-cde5-42d0-98c9-a383eeb02b5b"
    },
    {
      "cell_type": "markdown",
      "metadata": {},
      "source": [
        "`.`\n",
        "\n",
        "`#`\n",
        "\n",
        "`# 예제2` – 2개의 폴리곤으로 표시 (3중리스트)"
      ],
      "id": "1b8b145c-3f91-4a29-aa6f-63f6e24f618d"
    },
    {
      "cell_type": "code",
      "execution_count": 19,
      "metadata": {
        "tags": []
      },
      "outputs": [],
      "source": [
        "m = folium.Map(\n",
        "    scrollWheelZoom=False,\n",
        "    location = [35.8468,127.1294], # 분수대\n",
        "    zoom_start=18,\n",
        ")\n",
        "folium.Polygon(\n",
        "    locations = [[[35.8471, 127.1291],\n",
        "                 [35.8468, 127.1289],\n",
        "                 [35.84635, 127.1291],\n",
        "                 [35.84635, 127.1297],\n",
        "                 [35.8468, 127.12995],\n",
        "                 [35.8474, 127.1300]],\n",
        "                 \n",
        "                 [[ 35.8471 , 127.1302],\n",
        "                 [ 35.8468 , 127.1300],\n",
        "                 [ 35.84635, 127.1302],\n",
        "                 [ 35.84635, 127.1308],\n",
        "                 [ 35.8468 , 127.13105],\n",
        "                 [ 35.8474 , 127.1311]]],\n",
        "    fill=True\n",
        ").add_to(m)\n",
        "m"
      ],
      "id": "9f07c8ec-096d-4e32-aae3-0f14d5947c3d"
    },
    {
      "cell_type": "markdown",
      "metadata": {},
      "source": [
        "`.`\n",
        "\n",
        "> 아이디어: 이걸 잘 이용하면 코로플레스맵처럼 지도를 행정구열별로 나눌\n",
        "> 수 있겠음. 그런데, 실제 구현하려면 엄청난 노가다를 해야할 것으로\n",
        "> 생각됨 –\\> 누군가 해놓지 않았을까??\n",
        "\n",
        "`#`\n",
        "\n",
        "# 6. South Korea github\n",
        "\n",
        "## A. github 소개\n",
        "\n",
        "`-` github account: southkorea\n",
        "\n",
        "-   `southkorea` 라는 깃헙유저가 있음.\n",
        "-   <https://github.com/southkorea>\n",
        "\n",
        "`-` repo: southkorea-maps\n",
        "\n",
        "-   `southkorea`라는 깃헙유저는 `southkorea-maps`이라는 저장소를 가지고\n",
        "    있음.\n",
        "-   <https://github.com/southkorea/southkorea-maps>\n",
        "\n",
        "`-` 저장소 `https://github.com/southkorea/southkorea-maps` 에는\n",
        "`kostat/2028/json/`이라는 폴더가 있으며 여기에는 아래의 파일들이 있음.\n",
        "\n",
        "    skorea-municipalities-2018-geo.json # <-- 이 파일에 관심있음. \n",
        "    skorea-municipalities-2018-topo-simple.json\n",
        "    skorea-municipalities-2018-topo.json\n",
        "    skorea-provinces-2018-geo.json # <-- 이 파일에 관심있음.\n",
        "    skorea-provinces-2018-topo-simple.json\n",
        "    skorea-provinces-2018-topo.json\n",
        "    skorea-submunicipalities-2018-geo.json\n",
        "    skorea-submunicipalities-2018-topo-simple.json\n",
        "    skorea-submunicipalities-2018-topo.json\n",
        "\n",
        "이중에서 우리는 아래의 두 파일에 관심있음.\n",
        "\n",
        "    skorea-municipalities-2018-geo.json \n",
        "    skorea-provinces-2018-geo.json \n",
        "\n",
        "`-` 이 파일들에는 행정구역을 의미하는 폴리곤을 누군가가 ’노가다’로\n",
        "정리해둠!!\n",
        "\n",
        "## B. json 파일 다운로드"
      ],
      "id": "7f308efe-9b6c-49dc-947a-30565f641d90"
    },
    {
      "cell_type": "code",
      "execution_count": 20,
      "metadata": {
        "tags": []
      },
      "outputs": [],
      "source": [
        "global_dict = json.loads(requests.get('https://raw.githubusercontent.com/southkorea/southkorea-maps/master/kostat/2018/json/skorea-provinces-2018-geo.json').text)\n",
        "local_dict = json.loads(requests.get('https://raw.githubusercontent.com/southkorea/southkorea-maps/master/kostat/2018/json/skorea-municipalities-2018-geo.json').text)"
      ],
      "id": "7425a3f5-6eec-46e8-9afb-f3b965a2c4c2"
    },
    {
      "cell_type": "code",
      "execution_count": 21,
      "metadata": {
        "tags": []
      },
      "outputs": [],
      "source": [
        "global_dict.keys()"
      ],
      "id": "d7b49f24-dea5-4fe0-84dd-65ce9567f351"
    },
    {
      "cell_type": "code",
      "execution_count": 22,
      "metadata": {
        "tags": []
      },
      "outputs": [],
      "source": [
        "local_dict.keys()"
      ],
      "id": "75b7416d-8b4f-4046-bb02-66c33eb0bc47"
    },
    {
      "cell_type": "markdown",
      "metadata": {},
      "source": [
        "## C. json 파일의 구조\n",
        "\n",
        "`-` 포인트는 여기에 있음"
      ],
      "id": "65b9475e-c2c2-42b8-8e79-662f5b5a30b2"
    },
    {
      "cell_type": "code",
      "execution_count": 23,
      "metadata": {
        "tags": []
      },
      "outputs": [],
      "source": [
        "#global_dict['features'][0]['geometry']['coordinates']"
      ],
      "id": "1b2a3e84-6fb4-45be-8bc4-a9e82200be61"
    },
    {
      "cell_type": "markdown",
      "metadata": {},
      "source": [
        "`-` 서울의다각형을 의미하는것 같음. –\\> 확인해보자."
      ],
      "id": "ab9d4862-ab8c-4f7c-83c6-bb12ecaaa1f3"
    },
    {
      "cell_type": "code",
      "execution_count": 24,
      "metadata": {
        "tags": []
      },
      "outputs": [],
      "source": [
        "lon,lat = np.array(global_dict['features'][0]['geometry']['coordinates'])[0,:,:].T"
      ],
      "id": "20201ab8-c9e0-4ed3-9d01-579b9cae1870"
    },
    {
      "cell_type": "code",
      "execution_count": 25,
      "metadata": {
        "tags": []
      },
      "outputs": [],
      "source": [
        "m = folium.Map(\n",
        "    location = [37.55,127], \n",
        "    zoom_start=11,\n",
        "    scrollWheelZoom = False\n",
        ")\n",
        "folium.Polygon(\n",
        "    locations = np.stack([lat,lon],axis=1).tolist(),\n",
        "    fill = True\n",
        ").add_to(m)\n",
        "m"
      ],
      "id": "f49d140d-62ee-4d4e-8991-36dab675d0ed"
    },
    {
      "cell_type": "markdown",
      "metadata": {},
      "source": [
        "`.`\n",
        "\n",
        "> 일상언어에서는 (lat,lon) 순서로 표현한다. 즉 적도를 기준으로 얼마나\n",
        "> 위/아래로 있는지, 그리고 그리니치천문대를 기준으로 얼마나 동/서로\n",
        "> 있는지를 표현한다. 그런데 lat이 y축의 느낌을 가지고 lon이 x축의 느낌을\n",
        "> 가지는데 (lat,lon) 순으로 좌표를 선택하면 컴퓨터로 표현하기에 종종\n",
        "> 헷갈릴 수 있다. 그래서 어떤 경우는 (lon,lat) 순서로 좌표를 표현하기도\n",
        "> 한다.\n",
        "\n",
        "`-` global_dict의 구조를 살펴보면 아래와 같음\n",
        "\n",
        "| level_0  |       level_1       |  level_2   |             level3              |      level4       |\n",
        "|:--------:|:-------------------:|:----------:|:-------------------------------:|:-----------------:|\n",
        "|   type   | ‘FeatureCollection’ |            |                                 |                   |\n",
        "| features |        \\[0\\]        |    type    |            ‘Feature’            |                   |\n",
        "|          |                     |  geometry  |              type               |     ‘Polygon’     |\n",
        "|          |                     |            |           coordinates           |  (1,`??`,2) list  |\n",
        "|          |                     | properties |              name               |   ‘서울특별시’    |\n",
        "|          |                     |            |            base_year            |      ‘2018’       |\n",
        "|          |                     |            |            name_eng             |      ‘Seoul’      |\n",
        "|          |                     |            |              code               |       ‘11’        |\n",
        "|          |          …          |     …      |                …                |         …         |\n",
        "|          |       \\[16\\]        |    type    |            ‘Feature’            |                   |\n",
        "|          |                     |  geometry  |              type               |  ‘MultiPolygon’   |\n",
        "|          |                     |            |           coordinates           | (6,1,`??`,2) list |\n",
        "|          |                     | properties |              name               | ‘’제주특별자치도’ |\n",
        "|          |                     |            |            base_year            |      ‘2018’       |\n",
        "|          |                     |            |            name_eng             |     ‘Jeju-do’     |\n",
        "|          |                     |            |              code               |       ‘39’        |\n",
        "|   name   |       ‘sido’        |            |                                 |                   |\n",
        "|   crs    |        type         |   ‘name’   |                                 |                   |\n",
        "|          |     properties      |    name    | ‘urn:ogc:def:crs:OGC:1.3:CRS84’ |                   |\n",
        "\n",
        "`-` local_dict의 구조를 살펴보면 아래와 같음\n",
        "\n",
        "| level_0  |       level_1       |  level_2   |             level3              |       level4       |\n",
        "|:--------:|:-------------------:|:----------:|:-------------------------------:|:------------------:|\n",
        "|   type   | ‘FeatureCollection’ |            |                                 |                    |\n",
        "| features |        \\[0\\]        |    type    |            ‘Feature’            |                    |\n",
        "|          |                     |  geometry  |              type               |   ‘MultiPolygon’   |\n",
        "|          |                     |            |           coordinates           | (1,1,`??`,2) list  |\n",
        "|          |                     | properties |              name               |      ‘종로구’      |\n",
        "|          |                     |            |            base_year            |       ‘2018’       |\n",
        "|          |                     |            |            name_eng             |    ‘Jongno-gu’     |\n",
        "|          |                     |            |              code               |      ‘11010’       |\n",
        "|          |          …          |     …      |                …                |         …          |\n",
        "|          |       \\[249\\]       |    type    |            ‘Feature’            |                    |\n",
        "|          |                     |  geometry  |              type               |   ‘MultiPolygon’   |\n",
        "|          |                     |            |           coordinates           | (10,1,`??`,2) list |\n",
        "|          |                     | properties |              name               |     ‘서귀포시’     |\n",
        "|          |                     |            |            base_year            |       ‘2018’       |\n",
        "|          |                     |            |            name_eng             |   ‘Seogwipo-si’    |\n",
        "|          |                     |            |              code               |      ‘39020’       |\n",
        "|   name   |       ‘sido’        |            |                                 |                    |\n",
        "|   crs    |        type         |   ‘name’   |                                 |                    |\n",
        "|          |     properties      |    name    | ‘urn:ogc:def:crs:OGC:1.3:CRS84’ |                    |\n",
        "\n",
        "# 7. `folium.Choropleth` 를 이용한 시각화\n",
        "\n",
        "## A. `folium.Choropleth` 소개\n",
        "\n",
        "`-` `folium.Choropleth` 은 아래와 같은 방식으로 그림을 그린다고 생각하면\n",
        "편리하다. (실제로 이런지는 모르겠음.. 아마 그럴거에요..)\n",
        "\n",
        "1.  `json` 파일을 바탕으로 폴리곤을 그린다. 폴리곤에 이름을 붙인다.\n",
        "2.  `df = [폴리곤의이름, 통계값(y)]`와 같은 형식으로 정리된\n",
        "    데이터프레임을 바탕으로, 각 폴리곤에 대응하는 `y`값을 색깔로\n",
        "    맵핑한다.\n",
        "\n",
        "`-` 포인트: 2개의 정보를 이용하네?\n",
        "\n",
        "## B. Polygon 시각화\n",
        "\n",
        "`# 예제1` – 전국의 행정구역 시각화 (global)"
      ],
      "id": "b8033d77-6b28-4b55-b0f7-48aab6662a46"
    },
    {
      "cell_type": "code",
      "execution_count": 26,
      "metadata": {
        "tags": []
      },
      "outputs": [],
      "source": [
        "m = folium.Map(\n",
        "    location = [36,128],\n",
        "    zoom_start=7,\n",
        "    scrollWheelZoom = False\n",
        ")\n",
        "folium.Choropleth(\n",
        "    geo_data=global_dict\n",
        ").add_to(m)\n",
        "m"
      ],
      "id": "f18a297d-324c-4e08-83ad-103c45fcc6a9"
    },
    {
      "cell_type": "markdown",
      "metadata": {},
      "source": [
        "`.`\n",
        "\n",
        "`#`\n",
        "\n",
        "`# 예제2` – 전국의 행정구역 시각화 (local)"
      ],
      "id": "4e334b3c-a2e2-49d5-9129-0c7dc59a866d"
    },
    {
      "cell_type": "code",
      "execution_count": 27,
      "metadata": {
        "tags": []
      },
      "outputs": [],
      "source": [
        "m = folium.Map(\n",
        "    location = [36,128],\n",
        "    zoom_start=7,\n",
        "    scrollWheelZoom = False\n",
        ")\n",
        "folium.Choropleth(\n",
        "    geo_data=local_dict\n",
        ").add_to(m)\n",
        "m"
      ],
      "id": "c954b23b-636f-4deb-af99-a46af579a002"
    },
    {
      "cell_type": "markdown",
      "metadata": {},
      "source": [
        "`.`\n",
        "\n",
        "`#`\n",
        "\n",
        "`# 예제3` – 전국의 행정구역 시각화 (덕진구/완산구)"
      ],
      "id": "94410dd0-570f-4f98-8d6f-1cf3f0c43b17"
    },
    {
      "cell_type": "code",
      "execution_count": 28,
      "metadata": {
        "tags": []
      },
      "outputs": [],
      "source": [
        "local_jeonju = local_dict.copy() "
      ],
      "id": "498284b8-ccc3-4140-8551-14e02e7f2b86"
    },
    {
      "cell_type": "code",
      "execution_count": 29,
      "metadata": {
        "tags": []
      },
      "outputs": [],
      "source": [
        "local_jeonju['features'] = [local_dict['features'][i] for i in range(250) if local_dict['features'][i]['properties']['name'] == '전주시덕진구' or local_dict['features'][i]['properties']['name'] == '전주시완산구']"
      ],
      "id": "d933a84e-7e7f-4535-b5ff-d94fb885c386"
    },
    {
      "cell_type": "code",
      "execution_count": 30,
      "metadata": {
        "tags": []
      },
      "outputs": [],
      "source": [
        "m = folium.Map(\n",
        "    location = [35.84195368311022, 127.1155556693179],\n",
        "    zoom_start=11,\n",
        "    scrollWheelZoom = False\n",
        ")\n",
        "folium.Choropleth(\n",
        "    geo_data=local_jeonju\n",
        ").add_to(m)\n",
        "m"
      ],
      "id": "73340e48-dbae-4d09-bf8b-a8e4261083ce"
    },
    {
      "cell_type": "markdown",
      "metadata": {},
      "source": [
        "`.`\n",
        "\n",
        "`#`\n",
        "\n",
        "## C. (Polygon, Value) 시각화 ($\\star\\star\\star$)\n",
        "\n",
        "`# 예제1` – 덕진구 vs 완산구\n",
        "\n",
        "덕진구와 완산구의 전기사용량이 아래와 같이 정리되었다고 하자."
      ],
      "id": "78454ced-caec-4706-be6a-103af6034d18"
    },
    {
      "cell_type": "code",
      "execution_count": 31,
      "metadata": {
        "tags": []
      },
      "outputs": [],
      "source": [
        "df = pd.DataFrame({\n",
        "    'key':['전주시덕진구', '전주시완산구'], \n",
        "    'elec_use':[20,30]\n",
        "})\n",
        "df"
      ],
      "id": "bf34b806-04c8-4a61-a972-4dffb37de849"
    },
    {
      "cell_type": "markdown",
      "metadata": {},
      "source": [
        "이 전기사용량을 각 덕진구/완산구 각각의 polygon의 색깔로 구분할 수\n",
        "있을까?\n",
        "\n",
        "**(선실습)**"
      ],
      "id": "08347fa0-d10d-4737-8246-a201bddb250b"
    },
    {
      "cell_type": "code",
      "execution_count": 32,
      "metadata": {
        "tags": []
      },
      "outputs": [],
      "source": [
        "m = folium.Map(\n",
        "    location = [35.84195368311022, 127.1155556693179],\n",
        "    zoom_start=11,\n",
        "    scrollWheelZoom = False\n",
        ")\n",
        "folium.Choropleth(\n",
        "    geo_data=local_jeonju,\n",
        "    key_on='properties.name',\n",
        "    data=df, \n",
        "    columns=['key','elec_use']\n",
        ").add_to(m)\n",
        "m"
      ],
      "id": "f4926945-5c19-4882-ac0c-7a66f5643692"
    },
    {
      "cell_type": "markdown",
      "metadata": {},
      "source": [
        "`.`\n",
        "\n",
        "**(후설명)**\n",
        "\n",
        "-   이해를 위해 필요한 약간의 직관\n",
        "    -   예비생각1: 코로플레스맵을 그리기 위해서는 항상 2개의 데이터를\n",
        "        연결해야하는 구조이다.\n",
        "    -   예비생각2: 두개의 데이터를 연결하기 위해서는 공유가능한 연결의\n",
        "        매개체가 필요하다. (`좌우로 concat`: row-index를 공유,\n",
        "        `위아래로concat`: colnames공유, `merge`: 양쪽 데이터프레임에서\n",
        "        같은 이름을 가진 특정 col이 있었음)\n",
        "    -   예비생각3: 코로플레스맵의 연결매개체는 ‘완산구’, ’덕진구’와 같은\n",
        "        지역명이다.\n",
        "-   `folium.Choropleth()` 에 사용될 변수들 상상해보기\n",
        "    -   재료: 두개의 데이터 `geo_data = json`과\n",
        "        `data = df[다각형의 인덱스, 통계값]`를 를 명시해야한다.\n",
        "    -   연결매개체: 두개의 데이터프레임을 연결하는 변수이름 (`key_on`)을\n",
        "        명시해야 한다.\n",
        "\n",
        "`#`\n",
        "\n",
        "`# 예제2` – 덕진구 vs 완산구 / `key_on`에 대한 이해를 위해 만든 억지예제\n",
        "\n",
        "덕진구와 완산구의 전기사용량이 아래와 같이 정리되었다고 하자."
      ],
      "id": "46767f26-b080-4e63-b1b0-bfeb02261b1c"
    },
    {
      "cell_type": "code",
      "execution_count": 33,
      "metadata": {
        "tags": []
      },
      "outputs": [],
      "source": [
        "df = pd.DataFrame({\n",
        "    'key':['전주시덕진구', 'Jeonjusiwansangu'], \n",
        "    'elec_use':[20,30]\n",
        "})\n",
        "df"
      ],
      "id": "d1b7956e-25db-4fb1-a57a-3fc16850a6a2"
    },
    {
      "cell_type": "markdown",
      "metadata": {},
      "source": [
        "이 전기사용량을 각 덕진구/완산구 각각의 polygon의 색깔로 구분할 수\n",
        "있을까?\n",
        "\n",
        "`-` 예시1: ‘properties.name’ 으로 `key_on`."
      ],
      "id": "1a34fd17-3715-450d-8d30-463d55f10013"
    },
    {
      "cell_type": "code",
      "execution_count": 34,
      "metadata": {
        "tags": []
      },
      "outputs": [],
      "source": [
        "m = folium.Map(\n",
        "    location = [35.84195368311022, 127.1155556693179],\n",
        "    zoom_start=11,\n",
        "    scrollWheelZoom = False\n",
        ")\n",
        "folium.Choropleth(\n",
        "    geo_data=local_jeonju,\n",
        "    key_on='properties.name',\n",
        "    data=df, \n",
        "    columns=['key','elec_use']\n",
        ").add_to(m)\n",
        "m"
      ],
      "id": "0bedd531-5298-4322-90d5-a1703b5aa6f8"
    },
    {
      "cell_type": "markdown",
      "metadata": {},
      "source": [
        "`.`\n",
        "\n",
        "`-` 예시2: ‘properties.name_eng’ 으로 `key_on`."
      ],
      "id": "a9b8bae8-d339-406e-9d8d-b41e58df2b48"
    },
    {
      "cell_type": "code",
      "execution_count": 35,
      "metadata": {
        "tags": []
      },
      "outputs": [],
      "source": [
        "m = folium.Map(\n",
        "    location = [35.84195368311022, 127.1155556693179],\n",
        "    zoom_start=11,\n",
        "    scrollWheelZoom = False\n",
        ")\n",
        "folium.Choropleth(\n",
        "    geo_data=local_jeonju,\n",
        "    key_on='properties.name_eng',\n",
        "    data=df, \n",
        "    columns=['key','elec_use']    \n",
        ").add_to(m)\n",
        "m"
      ],
      "id": "240c1983-0075-426f-8921-1e5102352343"
    },
    {
      "cell_type": "markdown",
      "metadata": {},
      "source": [
        "`.`\n",
        "\n",
        "`-` 예시3: ’code’열을 새롭게 할당하고 ’code’열로 `key_on`"
      ],
      "id": "29215a20-c942-49a4-8e11-a7749d942fd1"
    },
    {
      "cell_type": "code",
      "execution_count": 36,
      "metadata": {
        "tags": []
      },
      "outputs": [],
      "source": [
        "df.assign(code = ['35012','30511'])"
      ],
      "id": "5041f453-6344-4154-abd5-f39f944acf15"
    },
    {
      "cell_type": "code",
      "execution_count": 37,
      "metadata": {
        "tags": []
      },
      "outputs": [],
      "source": [
        "m = folium.Map(\n",
        "    location = [35.84195368311022, 127.1155556693179],\n",
        "    zoom_start=11,\n",
        "    scrollWheelZoom = False\n",
        ")\n",
        "folium.Choropleth(\n",
        "    geo_data=local_jeonju,\n",
        "    key_on='properties.code',\n",
        "    data=df.assign(code = ['35012','35011']),\n",
        "    columns=['code','elec_use']    \n",
        ").add_to(m)\n",
        "m"
      ],
      "id": "03d080ff-aa46-41fb-b31d-047a715d11b8"
    },
    {
      "cell_type": "markdown",
      "metadata": {},
      "source": [
        "`.`\n",
        "\n",
        "`#`\n",
        "\n",
        "`# 예제4` – 대한민국 인구수 시각화 (global)"
      ],
      "id": "e08ee3f5-c6ee-40bd-b0eb-e1aea9421b97"
    },
    {
      "cell_type": "code",
      "execution_count": 38,
      "metadata": {
        "tags": []
      },
      "outputs": [],
      "source": [
        "df=pd.read_csv('https://raw.githubusercontent.com/guebin/2021DV/master/_notebooks/2021-11-22-prov.csv')\n",
        "df"
      ],
      "id": "7bfb9c67-f05b-459d-a677-0240b2af93ed"
    },
    {
      "cell_type": "code",
      "execution_count": 39,
      "metadata": {
        "tags": []
      },
      "outputs": [],
      "source": [
        "m = folium.Map(\n",
        "    location = [36,128],\n",
        "    zoom_start=7,\n",
        "    scrollWheelZoom = False\n",
        ")\n",
        "folium.Choropleth(\n",
        "    geo_data=global_dict,\n",
        "    key_on='properties.name',\n",
        "    data=df, \n",
        "    columns=['행정구역(시군구)별','총인구수 (명)']    \n",
        ").add_to(m)\n",
        "m"
      ],
      "id": "629bf92b-9e4b-4a33-a637-8d5f2e3219aa"
    },
    {
      "cell_type": "markdown",
      "metadata": {},
      "source": [
        "`.`\n",
        "\n",
        "`#`\n",
        "\n",
        "`# 예제5` – 대한민국 인구수 시각화 (local)"
      ],
      "id": "345d1075-ee8c-49ff-8f41-d467b6208e51"
    },
    {
      "cell_type": "code",
      "execution_count": 40,
      "metadata": {
        "tags": []
      },
      "outputs": [],
      "source": [
        "df=pd.read_csv('https://raw.githubusercontent.com/guebin/2021DV/master/_notebooks/2021-11-22-muni.csv')\n",
        "df"
      ],
      "id": "a2f197fd-30ad-4ea6-b84a-062508072c64"
    },
    {
      "cell_type": "code",
      "execution_count": 41,
      "metadata": {
        "tags": []
      },
      "outputs": [],
      "source": [
        "m = folium.Map(\n",
        "    location = [36,128],\n",
        "    zoom_start=7,\n",
        "    scrollWheelZoom = False\n",
        ")\n",
        "folium.Choropleth(\n",
        "    geo_data=local_dict,\n",
        "    key_on='properties.name',\n",
        "    data=df, \n",
        "    columns=['행정구역(시군구)별','총인구수 (명)']    \n",
        ").add_to(m)\n",
        "m"
      ],
      "id": "76b6678f-69c7-47b7-9572-281a548b0fd9"
    },
    {
      "cell_type": "markdown",
      "metadata": {},
      "source": [
        "`.`\n",
        "\n",
        "`#`\n",
        "\n",
        "# 8. HW\n",
        "\n",
        "대전의 인구수를 choropleth map을 이용하여 구별로 시각화 하라."
      ],
      "id": "6e345691-2aa1-42fd-9c76-c07151a4231f"
    }
  ],
  "nbformat": 4,
  "nbformat_minor": 5,
  "metadata": {
    "kernelspec": {
      "name": "python3",
      "display_name": "Python 3 (ipykernel)",
      "language": "python"
    },
    "language_info": {
      "name": "python",
      "codemirror_mode": {
        "name": "ipython",
        "version": "3"
      },
      "file_extension": ".py",
      "mimetype": "text/x-python",
      "nbconvert_exporter": "python",
      "pygments_lexer": "ipython3",
      "version": "3.10.13"
    }
  }
}