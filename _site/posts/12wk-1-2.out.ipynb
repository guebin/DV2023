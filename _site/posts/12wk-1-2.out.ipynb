{
  "cells": [
    {
      "cell_type": "markdown",
      "metadata": {},
      "source": [
        "# 12wk-2: NYCTaxi 자료 분석 (2)\n",
        "\n",
        "최규빈  \n",
        "2023-11-22\n",
        "\n",
        "# 1. 강의영상\n",
        "\n",
        "<https://youtu.be/playlist?list=PLQqh36zP38-xXZmSbTDYrghHNRkOBj-Es&si=iQeuCDt8Z_D3uzoq>\n",
        "\n",
        "# 2. Imports"
      ],
      "id": "cf6da28b-debe-4519-9eda-de94623f3fa2"
    },
    {
      "cell_type": "code",
      "execution_count": 1,
      "metadata": {
        "tags": []
      },
      "outputs": [],
      "source": [
        "import numpy as np\n",
        "import pandas as pd\n",
        "import plotly.express as px\n",
        "import plotly.io as pio"
      ],
      "id": "82df11f9-bf9b-4a15-b7e2-ef8bf07e2721"
    },
    {
      "cell_type": "code",
      "execution_count": 2,
      "metadata": {
        "tags": []
      },
      "outputs": [],
      "source": [
        "pd.options.plotting.backend = \"plotly\"\n",
        "pio.templates.default = \"plotly_white\""
      ],
      "id": "c4f7a494-4ea5-4d20-a29c-e3e854921fbf"
    },
    {
      "cell_type": "markdown",
      "metadata": {},
      "source": [
        "# 3. 데이터준비"
      ],
      "id": "5f8086e4-aa19-4587-812c-6014560af9d6"
    },
    {
      "cell_type": "code",
      "execution_count": 3,
      "metadata": {
        "tags": []
      },
      "outputs": [],
      "source": [
        "df = pd.read_csv(\"https://raw.githubusercontent.com/guebin/DV2023/main/posts/NYCTaxi.csv\")\n",
        "df_feature = df.assign(\n",
        "    log_trip_duration = np.log(df.trip_duration),\n",
        "    pickup_datetime = df.pickup_datetime.apply(pd.to_datetime),\n",
        "    dropoff_datetime = df.dropoff_datetime.apply(pd.to_datetime),\n",
        "    dist = np.sqrt((df.pickup_latitude-df.dropoff_latitude)**2 + (df.pickup_longitude-df.dropoff_longitude)**2),\n",
        "    #---#\n",
        "    vendor_id = df.vendor_id.map({1:'A',2:'B'})\n",
        ").assign(\n",
        "    speed = lambda df: df.dist / df.trip_duration,\n",
        "    pickup_hour = lambda df: df.pickup_datetime.dt.hour,\n",
        "    dropoff_hour = lambda df: df.dropoff_datetime.dt.hour,\n",
        "    dayofweek = lambda df: df.pickup_datetime.dt.dayofweek\n",
        ")"
      ],
      "id": "c4aef7b1-b794-4a4d-b7a8-097f2e8b8428"
    },
    {
      "cell_type": "markdown",
      "metadata": {},
      "source": [
        "# 4. 시각화3 – 애니메이션\n",
        "\n",
        "## A. scatter / (vendor_id,hour)\n",
        "\n",
        "`-` 시각화\n",
        "\n",
        "-   B가 전체적으로 동그라미가 큰것같지 않어..?\n",
        "-   시간대별로 확실히 빈도가 다르다\n",
        "\n",
        "`-` 추가시각화1 – `vendor_id`별 `passenger_count`를 barplot으로 시각화\n",
        "\n",
        "`-` 추가시각화2 – `vendor_id`별 `passenger_count`를 boxplot으로 시각화\n",
        "\n",
        "`-` 추가시각화3 – `vendor_id`별 `passenger_count`를 histogram으로 시각화\n",
        "\n",
        "`-` 추가시각화4 – `pickup_hour`별 `count`를 barplot으로 시각화\n",
        "\n",
        "`-` 추가시각화5 – (`pickup_hour`,`vendor_id`)별 `count`를 barplot으로\n",
        "시각화\n",
        "\n",
        "`-` 추가시각화6 – (`pickup_hour`,`vendor_id`)별 `count`를 areaplot으로\n",
        "시각화\n",
        "\n",
        "`-` 추가시각화7 – (`pickup_hour`,`vendor_id`)별 `count`를 lineplot으로\n",
        "시각화\n",
        "\n",
        "## B. scatter / (vendor_id,day_of_week)\n",
        "\n",
        "# 5. 시각화4 – `heatmap`\n",
        "\n",
        "## A. (요일,시간)에 따른 `count` 시각화\n",
        "\n",
        "## B. (요일,시간)에 따른 `dist` 시각화\n",
        "\n",
        "## C. (요일,시간)에 따른 `speed` 시각화\n",
        "\n",
        "# 6. 시각화5 – 경로시각화\n",
        "\n",
        "`-` 이거는 너무 무거워서 좀 작은 데이터로 실습합니다."
      ],
      "id": "78afd1a4-7618-4a70-aded-6e782ad0dd20"
    },
    {
      "cell_type": "code",
      "execution_count": 26,
      "metadata": {
        "tags": []
      },
      "outputs": [],
      "source": [
        "df_feature_small = df_feature[::100].reset_index(drop=True)"
      ],
      "id": "a872243a-c0e3-4d06-92a3-b3f2a8f538e3"
    },
    {
      "cell_type": "markdown",
      "metadata": {},
      "source": [
        "## A. 예비학습\n",
        "\n",
        "`-` 경로그리기"
      ],
      "id": "7895ee91-a3ba-4332-8f53-b96fe58d5168"
    },
    {
      "cell_type": "code",
      "execution_count": 27,
      "metadata": {
        "tags": []
      },
      "outputs": [],
      "source": [
        "df_sample = pd.DataFrame(\n",
        "    {'path':['A','A','B','B','B'],\n",
        "     'lon':[-73.986420,-73.995300,-73.975922,-73.988922,-73.962654],\n",
        "     'lat':[40.756569,40.740059,40.754192,40.762859,40.772449]}\n",
        ")"
      ],
      "id": "70bdee47-c204-4096-bff5-9744c3ae9908"
    },
    {
      "cell_type": "markdown",
      "metadata": {},
      "source": [
        "`-` 산점도로 그리기"
      ],
      "id": "4ff4e226-e1a3-4ac1-88d2-c3ae0c76f9be"
    },
    {
      "cell_type": "code",
      "execution_count": 28,
      "metadata": {
        "tags": []
      },
      "outputs": [],
      "source": [
        "_fig = px.scatter_mapbox(\n",
        "    data_frame=df_sample,\n",
        "    lat=\"lat\", \n",
        "    lon=\"lon\", \n",
        "    color='path',\n",
        "    #---#\n",
        "    mapbox_style='carto-positron',\n",
        "    zoom=12,\n",
        "    width=750,\n",
        "    height=600,\n",
        ")\n",
        "_fig.show(config={'scrollZoom': False})"
      ],
      "id": "0c74ea3e-3f26-442b-805b-d1f2fcc728ab"
    },
    {
      "cell_type": "markdown",
      "metadata": {},
      "source": [
        "`-` 합치기"
      ],
      "id": "92335b7e-2366-4931-a314-acb13b4e5a53"
    },
    {
      "cell_type": "code",
      "execution_count": 29,
      "metadata": {
        "tags": []
      },
      "outputs": [],
      "source": [
        "_fig.data"
      ],
      "id": "0d1536b2-65b0-4349-b867-da50ea1580ff"
    },
    {
      "cell_type": "code",
      "execution_count": 30,
      "metadata": {
        "tags": []
      },
      "outputs": [],
      "source": [
        "fig = px.line_mapbox(\n",
        "    data_frame=df_sample,\n",
        "    lat=\"lat\", \n",
        "    lon=\"lon\", \n",
        "    line_group = 'path',\n",
        "    color='path',\n",
        "    #---#\n",
        "    mapbox_style='carto-positron',\n",
        "    zoom=12,\n",
        "    width=750,\n",
        "    height=600,\n",
        ")\n",
        "fig.add_trace(_fig.data[0])\n",
        "fig.add_trace(_fig.data[1])\n",
        "fig.show(config={'scrollZoom': False})"
      ],
      "id": "59be91cb-a3b1-4474-b412-169b0e839141"
    },
    {
      "cell_type": "markdown",
      "metadata": {},
      "source": [
        "## B. 전처리"
      ],
      "id": "7fca05cb-67a2-4905-a99b-185fe75a4fe3"
    },
    {
      "cell_type": "code",
      "execution_count": 31,
      "metadata": {
        "tags": []
      },
      "outputs": [],
      "source": [
        "pcols = ['pickup_datetime','pickup_longitude','pickup_latitude']\n",
        "dcols = ['dropoff_datetime','dropoff_longitude','dropoff_latitude']"
      ],
      "id": "242aeb7b-9754-4ac4-b842-cadc7bb67e18"
    },
    {
      "cell_type": "code",
      "execution_count": 32,
      "metadata": {
        "tags": []
      },
      "outputs": [],
      "source": [
        "def transform(df):\n",
        "    pick_up = df.loc[:,['id']+pcols].set_axis(['id','datetime','lon','lat'],axis=1).eval('state = \"pickup\"')\n",
        "    drop_off = df.loc[:,['id']+dcols].set_axis(['id','datetime','lon','lat'],axis=1).eval('state = \"dropoff\"')\n",
        "    return pd.concat([pick_up,drop_off],axis=0).reset_index(drop=True)"
      ],
      "id": "16917e7f-ce13-4f15-9510-1c5afb208986"
    },
    {
      "cell_type": "code",
      "execution_count": 33,
      "metadata": {
        "tags": []
      },
      "outputs": [],
      "source": [
        "df_left = pd.concat([transform(df) for i,df in df_feature_small.groupby('id')]).reset_index(drop=True)\n",
        "df_right = df_feature_small.drop(pcols+dcols,axis=1)\n",
        "df_feature_small2 = pd.merge(df_left,df_right)"
      ],
      "id": "ddabc022-1c3d-4529-859c-32c13ce270e9"
    },
    {
      "cell_type": "code",
      "execution_count": 34,
      "metadata": {
        "tags": []
      },
      "outputs": [],
      "source": [
        "df_feature_small2"
      ],
      "id": "84aa77a3-5c9d-4d6b-a5a4-eb4f569f266a"
    },
    {
      "cell_type": "markdown",
      "metadata": {},
      "source": [
        "## C. `vendor_id` 별 시각화"
      ],
      "id": "a129525b-8e80-4e3f-896c-b0aa9895da9c"
    },
    {
      "cell_type": "code",
      "execution_count": 35,
      "metadata": {
        "tags": []
      },
      "outputs": [],
      "source": [
        "fig = px.line_mapbox(\n",
        "    data_frame=df_feature_small2,\n",
        "    lat=\"lat\", \n",
        "    lon=\"lon\", \n",
        "    center = {'lat':40.7322, 'lon':-73.9052},\n",
        "    line_group = 'id',\n",
        "    color='vendor_id',\n",
        "    #---#\n",
        "    mapbox_style='carto-positron',\n",
        "    zoom=10,\n",
        "    width=750,\n",
        "    height=600,\n",
        ")\n",
        "trace_data = px.scatter_mapbox(\n",
        "        data_frame=df_feature_small2,\n",
        "        lat = 'lat',\n",
        "        lon = 'lon',\n",
        "        center = {'lat':40.7322, 'lon':-73.9052},\n",
        "        color = 'vendor_id',\n",
        "        size = 'trip_duration',\n",
        "        size_max = 10,\n",
        ").data\n",
        "for d in trace_data: \n",
        "    fig.add_trace(d)\n",
        "fig.update_traces(\n",
        "    line={\n",
        "        'width':1,\n",
        "    },\n",
        "    opacity=0.8\n",
        ")\n",
        "fig.show(config={'scrollZoom': False})"
      ],
      "id": "60bc0ecc-4389-46ec-a44b-9842d1c6ecd9"
    },
    {
      "cell_type": "markdown",
      "metadata": {},
      "source": [
        "## D. `dayofweek`별 시각화"
      ],
      "id": "b599d9ae-0645-474e-b56b-aa1ca4e502a9"
    },
    {
      "cell_type": "code",
      "execution_count": 36,
      "metadata": {
        "tags": []
      },
      "outputs": [],
      "source": [
        "tidydata = df_feature_small2.assign(dayofweek=lambda df: df.dayofweek.astype(str)).sort_values('dayofweek')\n",
        "\n",
        "fig = px.line_mapbox(\n",
        "    data_frame=tidydata,\n",
        "    lat=\"lat\", \n",
        "    lon=\"lon\", \n",
        "    center = {'lat':40.7322, 'lon':-73.9052},\n",
        "    line_group = 'id',\n",
        "    color='dayofweek',\n",
        "    #---#\n",
        "    mapbox_style='carto-positron',\n",
        "    zoom=10,\n",
        "    width=750,\n",
        "    height=600,\n",
        ")\n",
        "trace_data = px.scatter_mapbox(\n",
        "        data_frame=tidydata,\n",
        "        lat = 'lat',\n",
        "        lon = 'lon',\n",
        "        center = {'lat':40.7322, 'lon':-73.9052},\n",
        "        color = 'dayofweek',\n",
        "        size = 'trip_duration',\n",
        "        size_max = 10,\n",
        ").data\n",
        "for d in trace_data: \n",
        "    fig.add_trace(d)\n",
        "fig.update_traces(\n",
        "    line={\n",
        "        'width':1,\n",
        "    },\n",
        "    opacity=0.8\n",
        ")\n",
        "fig.show(config={'scrollZoom': False})"
      ],
      "id": "8e9bf769-ed26-409a-9f8d-99069c4836f5"
    },
    {
      "cell_type": "markdown",
      "metadata": {},
      "source": [
        "## E. `speed`별 시각화"
      ],
      "id": "2a013446-f754-451c-a1f6-4600ea1753da"
    },
    {
      "cell_type": "code",
      "execution_count": 37,
      "metadata": {
        "tags": []
      },
      "outputs": [],
      "source": [
        "df_feature_small2.assign(\n",
        "    speed_cut = lambda df: pd.qcut(df.speed,4)\n",
        ")"
      ],
      "id": "b287296b-486b-4fe6-97c5-dc15f3f202d8"
    },
    {
      "cell_type": "code",
      "execution_count": 38,
      "metadata": {
        "tags": []
      },
      "outputs": [
        {
          "output_type": "stream",
          "name": "stderr",
          "text": [
            "/home/cgb2/anaconda3/envs/ag/lib/python3.10/site-packages/plotly/express/_core.py:2044: FutureWarning:\n",
            "\n",
            "The default of observed=False is deprecated and will be changed to True in a future version of pandas. Pass observed=False to retain current behavior or observed=True to adopt the future default and silence this warning.\n",
            "\n",
            "/home/cgb2/anaconda3/envs/ag/lib/python3.10/site-packages/plotly/express/_core.py:2044: FutureWarning:\n",
            "\n",
            "The default of observed=False is deprecated and will be changed to True in a future version of pandas. Pass observed=False to retain current behavior or observed=True to adopt the future default and silence this warning.\n"
          ]
        }
      ],
      "source": [
        "tidydata = df_feature_small2.assign(\n",
        "    speed_cut = lambda df: pd.qcut(df.speed,4)\n",
        ").sort_values('speed_cut')\n",
        "fig = px.line_mapbox(\n",
        "    data_frame=tidydata,\n",
        "    lat=\"lat\", \n",
        "    lon=\"lon\", \n",
        "    center = {'lat':40.7322, 'lon':-73.9052},\n",
        "    line_group = 'id',\n",
        "    color='speed_cut',\n",
        "    #---#\n",
        "    mapbox_style='carto-positron',\n",
        "    zoom=10,\n",
        "    width=750,\n",
        "    height=600,\n",
        ")\n",
        "trace_data = px.scatter_mapbox(\n",
        "        data_frame=tidydata,\n",
        "        lat = 'lat',\n",
        "        lon = 'lon',\n",
        "        center = {'lat':40.7322, 'lon':-73.9052},\n",
        "        color = 'speed_cut',\n",
        "        size = 'trip_duration',\n",
        "        size_max = 10,\n",
        ").data\n",
        "for d in trace_data: \n",
        "    fig.add_trace(d)\n",
        "fig.update_traces(\n",
        "    line={\n",
        "        'width':1,\n",
        "    },\n",
        "    opacity=0.8\n",
        ")\n",
        "fig.show(config={'scrollZoom': False})"
      ],
      "id": "accf7965-2010-44f3-bae9-96b580021d35"
    }
  ],
  "nbformat": 4,
  "nbformat_minor": 5,
  "metadata": {
    "kernelspec": {
      "name": "python3",
      "display_name": "Python 3 (ipykernel)",
      "language": "python"
    },
    "language_info": {
      "name": "python",
      "codemirror_mode": {
        "name": "ipython",
        "version": "3"
      },
      "file_extension": ".py",
      "mimetype": "text/x-python",
      "nbconvert_exporter": "python",
      "pygments_lexer": "ipython3",
      "version": "3.10.13"
    }
  }
}