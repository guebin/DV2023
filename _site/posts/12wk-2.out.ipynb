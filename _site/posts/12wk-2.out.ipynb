{
  "cells": [
    {
      "cell_type": "markdown",
      "metadata": {},
      "source": [
        "# 12wk-2: NYCTaxi 자료 분석 (2)\n",
        "\n",
        "최규빈  \n",
        "2023-11-22\n",
        "\n",
        "<a href=\"https://colab.research.google.com/github/guebin/DV2023/blob/main/posts/12wk-2.ipynb\"><img src=\"https://colab.research.google.com/assets/colab-badge.svg\" style=\"text-align: left\"></a>\n",
        "\n",
        "# 1. 강의영상\n",
        "\n",
        "<https://youtu.be/playlist?list=PLQqh36zP38-xXZmSbTDYrghHNRkOBj-Es&si=iQeuCDt8Z_D3uzoq>\n",
        "\n",
        "# 2. Imports"
      ],
      "id": "8e2ef1ea-fa15-4f06-9ede-06a9ceab6bfa"
    },
    {
      "cell_type": "code",
      "execution_count": 1,
      "metadata": {
        "tags": []
      },
      "outputs": [],
      "source": [
        "import numpy as np\n",
        "import pandas as pd\n",
        "import plotly.express as px\n",
        "import plotly.io as pio"
      ],
      "id": "82df11f9-bf9b-4a15-b7e2-ef8bf07e2721"
    },
    {
      "cell_type": "code",
      "execution_count": 2,
      "metadata": {
        "tags": []
      },
      "outputs": [],
      "source": [
        "pd.options.plotting.backend = \"plotly\"\n",
        "pio.templates.default = \"plotly_white\""
      ],
      "id": "c4f7a494-4ea5-4d20-a29c-e3e854921fbf"
    },
    {
      "cell_type": "markdown",
      "metadata": {},
      "source": [
        "# 3. 데이터준비"
      ],
      "id": "42d958c5-b075-47b0-9b4a-2cc99d1fadbb"
    },
    {
      "cell_type": "code",
      "execution_count": 3,
      "metadata": {
        "tags": []
      },
      "outputs": [],
      "source": [
        "df = pd.read_csv(\"https://raw.githubusercontent.com/guebin/DV2023/main/posts/NYCTaxi.csv\")\n",
        "df_feature = df.assign(\n",
        "    log_trip_duration = np.log(df.trip_duration),\n",
        "    pickup_datetime = df.pickup_datetime.apply(pd.to_datetime),\n",
        "    dropoff_datetime = df.dropoff_datetime.apply(pd.to_datetime),\n",
        "    dist = np.sqrt((df.pickup_latitude-df.dropoff_latitude)**2 + (df.pickup_longitude-df.dropoff_longitude)**2),\n",
        "    #---#\n",
        "    vendor_id = df.vendor_id.map({1:'A',2:'B'})\n",
        ").assign(\n",
        "    speed = lambda df: df.dist / df.trip_duration,\n",
        "    pickup_hour = lambda df: df.pickup_datetime.dt.hour,\n",
        "    dropoff_hour = lambda df: df.dropoff_datetime.dt.hour,\n",
        "    dayofweek = lambda df: df.pickup_datetime.dt.dayofweek\n",
        ")"
      ],
      "id": "c4aef7b1-b794-4a4d-b7a8-097f2e8b8428"
    },
    {
      "cell_type": "code",
      "execution_count": 4,
      "metadata": {
        "tags": []
      },
      "outputs": [],
      "source": [
        "df_feature.head()"
      ],
      "id": "a4d0707b-fecb-4c7b-9bc3-174b3ba6c905"
    },
    {
      "cell_type": "markdown",
      "metadata": {},
      "source": [
        "# 4. 시각화3 – 애니메이션\n",
        "\n",
        "## A. scatter / (vendor_id,passenger_count,hour)\n",
        "\n",
        "`-` 시각화"
      ],
      "id": "f1f49959-682c-47e6-a15e-1b3f9400075a"
    },
    {
      "cell_type": "code",
      "execution_count": 5,
      "metadata": {
        "tags": []
      },
      "outputs": [],
      "source": [
        "df_feature.columns"
      ],
      "id": "5fcc85bf-ba94-4400-9411-7bc79c24a62a"
    },
    {
      "cell_type": "code",
      "execution_count": 6,
      "metadata": {
        "tags": []
      },
      "outputs": [],
      "source": [
        "fig = px.scatter_mapbox(\n",
        "    data_frame=df_feature.sort_values('pickup_hour'),\n",
        "    lat = 'pickup_latitude',\n",
        "    lon = 'pickup_longitude',\n",
        "    color = 'vendor_id',\n",
        "    size = 'passenger_count', size_max = 5,\n",
        "    animation_frame = 'pickup_hour',\n",
        "    center = {'lat':40.7322, 'lon':-73.9052},\n",
        "    #---#\n",
        "    mapbox_style = 'carto-positron',\n",
        "    zoom=10,\n",
        "    width = 750,\n",
        "    height = 600\n",
        ")\n",
        "fig.show(config={'scrollZoom':False})"
      ],
      "id": "d7aeff26-2b29-4aad-b0c0-46ceaca0df93"
    },
    {
      "cell_type": "markdown",
      "metadata": {},
      "source": [
        "-   B가 전체적으로 동그라미가 크다. (한 택시에 탑승하는 승객수는 B업체가\n",
        "    더 많은듯)\n",
        "-   시간대별로 확실히 빈도수가 다르다.\n",
        "\n",
        "`-` 추가시각화1 – `vendor_id`별 `passenger_count`를 barplot으로 시각화"
      ],
      "id": "1c038b1b-daf2-49a5-9d0f-c0c770e2bcf9"
    },
    {
      "cell_type": "code",
      "execution_count": 7,
      "metadata": {
        "tags": []
      },
      "outputs": [],
      "source": [
        "df_feature.groupby('vendor_id').agg({'passenger_count':'mean'})\\\n",
        ".reset_index()\\\n",
        ".plot.bar(y='vendor_id',x='passenger_count',color='vendor_id')"
      ],
      "id": "fec3a99b-fc27-46bc-9c3c-d83b8658eadf"
    },
    {
      "cell_type": "markdown",
      "metadata": {},
      "source": [
        "-   B가 한 택시당 평균승객이 많다. (B는 대형차량위주로 운행하는 회사이지\n",
        "    않을까?)\n",
        "\n",
        "`-` 추가시각화2 – `vendor_id`별 `passenger_count`를 boxplot으로 시각화"
      ],
      "id": "c02f6679-7efb-4711-a30d-03e934ddcaf8"
    },
    {
      "cell_type": "code",
      "execution_count": 8,
      "metadata": {
        "tags": []
      },
      "outputs": [],
      "source": [
        "df_feature.plot.box(x='vendor_id',y='passenger_count',color='vendor_id')"
      ],
      "id": "ab2b984b-fe5d-4484-b01b-d492fdb688e0"
    },
    {
      "cell_type": "markdown",
      "metadata": {},
      "source": [
        "`-` 추가시각화3 – `vendor_id`별 `passenger_count`를 histogram으로 시각화"
      ],
      "id": "d05b2912-6192-449d-a6f6-9f606b4dcefb"
    },
    {
      "cell_type": "code",
      "execution_count": 9,
      "metadata": {
        "tags": []
      },
      "outputs": [],
      "source": [
        "df_feature.plot.hist(x='passenger_count',color='vendor_id', facet_col='vendor_id')"
      ],
      "id": "1d648dba-384b-492b-9119-e1d095c0b30e"
    },
    {
      "cell_type": "markdown",
      "metadata": {},
      "source": [
        "`-` 추가시각화4 – `pickup_hour`별 `count`를 barplot으로 시각화"
      ],
      "id": "9dfd769c-8a81-4e28-828b-7ed2f86b920c"
    },
    {
      "cell_type": "code",
      "execution_count": 10,
      "metadata": {
        "tags": []
      },
      "outputs": [],
      "source": [
        "df_feature.pickup_hour.value_counts().sort_index().plot.bar()"
      ],
      "id": "39aae51b-de9f-453c-9654-7cb2fabe7fca"
    },
    {
      "cell_type": "markdown",
      "metadata": {},
      "source": [
        "`-` 추가시각화5 – (`pickup_hour`,`vendor_id`)별 `count`를 barplot으로\n",
        "시각화"
      ],
      "id": "8c2386c4-cc87-45bf-8757-5c204085d0ef"
    },
    {
      "cell_type": "code",
      "execution_count": 11,
      "metadata": {
        "tags": []
      },
      "outputs": [],
      "source": [
        "df_feature.groupby(['pickup_hour','vendor_id'])\\\n",
        ".agg('size').reset_index().rename({0:'count'},axis=1)\\\n",
        ".plot.bar(x='pickup_hour',y='count',color='vendor_id',facet_col='vendor_id')"
      ],
      "id": "b8ead155-9287-4beb-8afb-0e8118c1d045"
    },
    {
      "cell_type": "markdown",
      "metadata": {},
      "source": [
        "`-` 추가시각화6 – (`pickup_hour`,`vendor_id`)별 `count`를 areaplot으로\n",
        "시각화"
      ],
      "id": "f9c1c9b0-d82e-4d85-ada9-4a2b602fb39d"
    },
    {
      "cell_type": "code",
      "execution_count": 12,
      "metadata": {
        "tags": []
      },
      "outputs": [],
      "source": [
        "df_feature.groupby(['pickup_hour','vendor_id'])\\\n",
        ".agg('size').reset_index().rename({0:'count'},axis=1)\\\n",
        ".plot.area(x='pickup_hour',y='count',color='vendor_id')"
      ],
      "id": "35a42315-4050-4960-b5e6-49c775bda66d"
    },
    {
      "cell_type": "markdown",
      "metadata": {},
      "source": [
        "`-` 추가시각화7 – (`pickup_hour`,`vendor_id`)별 `count`를 lineplot으로\n",
        "시각화"
      ],
      "id": "cb602bab-5b4c-49d2-97be-c5d08c69217a"
    },
    {
      "cell_type": "code",
      "execution_count": 13,
      "metadata": {
        "tags": []
      },
      "outputs": [],
      "source": [
        "df_feature.groupby(['pickup_hour','vendor_id'])\\\n",
        ".agg('size').reset_index().rename({0:'count'},axis=1)\\\n",
        ".plot.line(x='pickup_hour',y='count',color='vendor_id')"
      ],
      "id": "d620b23d-fcf5-4829-a1bd-62c6c98d8d0d"
    },
    {
      "cell_type": "markdown",
      "metadata": {},
      "source": [
        "## B. scatter / (vendor_id,day_of_week)"
      ],
      "id": "0f806821-faea-4878-a354-5f7965aebd84"
    },
    {
      "cell_type": "code",
      "execution_count": 14,
      "metadata": {
        "tags": []
      },
      "outputs": [],
      "source": [
        "fig = px.scatter_mapbox(\n",
        "    data_frame=df_feature.sort_values('dayofweek'),\n",
        "    lat = 'pickup_latitude',\n",
        "    lon = 'pickup_longitude',\n",
        "    color = 'vendor_id',\n",
        "    size = 'passenger_count', size_max = 5,\n",
        "    animation_frame = 'dayofweek',\n",
        "    center = {'lat':40.7322, 'lon':-73.9052},\n",
        "    #---#\n",
        "    mapbox_style = 'carto-positron',\n",
        "    zoom=10,\n",
        "    width = 750,\n",
        "    height = 600\n",
        ")\n",
        "fig.show(config={'scrollZoom':False})"
      ],
      "id": "89e9ba04-1f73-4684-86fe-4be9db819fd8"
    },
    {
      "cell_type": "markdown",
      "metadata": {},
      "source": [
        "-   생각보다 요일별 특징은 그다지 뚜렷하지 않음.\n",
        "\n",
        "# 5. 시각화4 – `heatmap`\n",
        "\n",
        "## A. (요일,시간)에 따른 `count` 시각화"
      ],
      "id": "8fe7d552-2790-427a-a27b-289560d58ec5"
    },
    {
      "cell_type": "code",
      "execution_count": 15,
      "metadata": {
        "tags": []
      },
      "outputs": [],
      "source": [
        "tidydata = df_feature.pivot_table(\n",
        "    index = 'pickup_hour',\n",
        "    columns = 'dayofweek',\n",
        "    aggfunc = 'size'\n",
        ").stack().reset_index().rename({0:'count'},axis=1)\n",
        "px.density_heatmap(\n",
        "    data_frame=tidydata,\n",
        "    x='pickup_hour',\n",
        "    y='dayofweek',\n",
        "    z='count',\n",
        "    nbinsx=24,\n",
        "    nbinsy=7,\n",
        "    height=300\n",
        ")"
      ],
      "id": "6fb6f7ca-2eb6-474e-a0f3-fa46936a25a9"
    },
    {
      "cell_type": "markdown",
      "metadata": {},
      "source": [
        "-   노란색: 불금? 피크타임?\n",
        "\n",
        "## B. (요일,시간)에 따른 `dist` 시각화"
      ],
      "id": "8f5e7b51-a0e0-49e2-93d2-f8bfcff17aff"
    },
    {
      "cell_type": "code",
      "execution_count": 16,
      "metadata": {
        "tags": []
      },
      "outputs": [],
      "source": [
        "tidydata = df_feature.pivot_table(\n",
        "    index = 'pickup_hour',\n",
        "    columns = 'dayofweek',\n",
        "    values = 'dist',\n",
        "    aggfunc = 'mean'\n",
        ").stack().reset_index().rename({0:'dist_mean'},axis=1)\n",
        "px.density_heatmap(\n",
        "    data_frame=tidydata,\n",
        "    x='pickup_hour',\n",
        "    y='dayofweek',\n",
        "    z='dist_mean',\n",
        "    nbinsx=24,\n",
        "    nbinsy=7,\n",
        "    height=300\n",
        ")"
      ],
      "id": "4e60c927-7c42-4a7c-a0ad-fb96edff0a39"
    },
    {
      "cell_type": "markdown",
      "metadata": {},
      "source": [
        "-   노란색: 일요일 아침부터 장거리.. (여행을 끝나고 복귀하는 사람들이지\n",
        "    않을까?)\n",
        "\n",
        "## C. (요일,시간)에 따른 `speed` 시각화"
      ],
      "id": "6ffe98de-c689-455c-93c4-4ab6cab22c14"
    },
    {
      "cell_type": "code",
      "execution_count": 17,
      "metadata": {
        "tags": []
      },
      "outputs": [],
      "source": [
        "tidydata = df_feature.pivot_table(\n",
        "    index = 'pickup_hour',\n",
        "    columns = 'dayofweek',\n",
        "    values = 'speed',\n",
        "    aggfunc = 'mean'\n",
        ").stack().reset_index().rename({0:'speed_mean'},axis=1)\n",
        "px.density_heatmap(\n",
        "    data_frame=tidydata,\n",
        "    x='pickup_hour',\n",
        "    y='dayofweek',\n",
        "    z='speed_mean',\n",
        "    nbinsx=24,\n",
        "    nbinsy=7,\n",
        "    height=300\n",
        ")"
      ],
      "id": "e76c8abd-4e6d-4851-84df-ed28e369c3d4"
    },
    {
      "cell_type": "markdown",
      "metadata": {},
      "source": [
        "-   남색: 교통체증이 심한 곳 / 노란색: 교통체증이 덜한 곳\n",
        "\n",
        "# 6. 시각화5 – 경로시각화\n",
        "\n",
        "`-` 이거는 너무 무거워서 좀 작은 데이터로 실습합니다."
      ],
      "id": "a9988dd0-acc4-4c9c-8338-976a65614caa"
    },
    {
      "cell_type": "code",
      "execution_count": 18,
      "metadata": {
        "tags": []
      },
      "outputs": [],
      "source": [
        "df_feature_small = df_feature[::100].reset_index(drop=True)\n",
        "df_feature_small"
      ],
      "id": "a872243a-c0e3-4d06-92a3-b3f2a8f538e3"
    },
    {
      "cell_type": "markdown",
      "metadata": {},
      "source": [
        "## A. 예비학습\n",
        "\n",
        "`-` 경로그리기"
      ],
      "id": "bdafd899-0b26-475f-969a-474b735f70b5"
    },
    {
      "cell_type": "code",
      "execution_count": 19,
      "metadata": {
        "tags": []
      },
      "outputs": [],
      "source": [
        "df_sample = pd.DataFrame(\n",
        "    {'path':['A','A','B','B','B'],\n",
        "     'lon':[-73.986420,-73.995300,-73.975922,-73.988922,-73.962654],\n",
        "     'lat':[40.756569,40.740059,40.754192,40.762859,40.772449]}\n",
        ")"
      ],
      "id": "70bdee47-c204-4096-bff5-9744c3ae9908"
    },
    {
      "cell_type": "code",
      "execution_count": 20,
      "metadata": {
        "tags": []
      },
      "outputs": [],
      "source": [
        "df_sample"
      ],
      "id": "46f32e44-d88e-4eca-a629-619841d616fe"
    },
    {
      "cell_type": "code",
      "execution_count": 21,
      "metadata": {
        "tags": []
      },
      "outputs": [],
      "source": [
        "fig = px.line_mapbox(\n",
        "    data_frame=df_sample,\n",
        "    lat = 'lat',\n",
        "    lon = 'lon',\n",
        "    color = 'path',\n",
        "    line_group = 'path',\n",
        "    #---#\n",
        "    mapbox_style = 'carto-positron',\n",
        "    zoom=12,\n",
        "    width = 750,\n",
        "    height = 600    \n",
        ")\n",
        "fig.show(config={'scrollZoom':False})"
      ],
      "id": "5b749ce0-8be8-4b57-91dd-0cf003dfa738"
    },
    {
      "cell_type": "markdown",
      "metadata": {},
      "source": [
        "`-` 산점도로 그리기"
      ],
      "id": "b7dd2af2-a8ab-4425-970b-e622b6c469dd"
    },
    {
      "cell_type": "code",
      "execution_count": 22,
      "metadata": {
        "tags": []
      },
      "outputs": [],
      "source": [
        "_fig = px.scatter_mapbox(\n",
        "    data_frame=df_sample,\n",
        "    lat = 'lat',\n",
        "    lon = 'lon',\n",
        "    color = 'path',\n",
        "    #---#\n",
        "    mapbox_style = 'carto-positron',\n",
        "    zoom=12,\n",
        "    width = 750,\n",
        "    height = 600    \n",
        ")\n",
        "_fig.show(config={'scrollZoom':False})"
      ],
      "id": "07ca0994-e2d1-4621-9b75-1da185be180b"
    },
    {
      "cell_type": "markdown",
      "metadata": {},
      "source": [
        "`-` 합치기"
      ],
      "id": "fd0b11e4-137b-4931-85dd-e790c0ce6d11"
    },
    {
      "cell_type": "code",
      "execution_count": 23,
      "metadata": {
        "tags": []
      },
      "outputs": [],
      "source": [
        "fig = px.line_mapbox(\n",
        "    data_frame=df_sample,\n",
        "    lat = 'lat',\n",
        "    lon = 'lon',\n",
        "    color = 'path',\n",
        "    line_group = 'path',\n",
        "    #---#\n",
        "    mapbox_style = 'carto-positron',\n",
        "    zoom=12,\n",
        "    width = 750,\n",
        "    height = 600    \n",
        ")\n",
        "scatter_data = px.scatter_mapbox(\n",
        "    data_frame=df_sample,\n",
        "    lat = 'lat',\n",
        "    lon = 'lon',\n",
        "    color = 'path',\n",
        "    #---#\n",
        "    mapbox_style = 'carto-positron',\n",
        "    zoom=12,\n",
        "    width = 750,\n",
        "    height = 600    \n",
        ").data \n",
        "fig.add_trace(scatter_data[0])\n",
        "fig.add_trace(scatter_data[1])\n",
        "fig.show(config={'scrollZoom':False})"
      ],
      "id": "3648055f-637e-4e8e-b654-43cce624b8aa"
    },
    {
      "cell_type": "markdown",
      "metadata": {},
      "source": [
        "## B. 전처리"
      ],
      "id": "80c6a611-28a4-41c4-8cc0-f96b866921d7"
    },
    {
      "cell_type": "code",
      "execution_count": 24,
      "metadata": {
        "tags": []
      },
      "outputs": [],
      "source": [
        "pcol = ['pickup_datetime', 'pickup_longitude', 'pickup_latitude', 'pickup_hour']\n",
        "dcol = ['dropoff_datetime', 'dropoff_longitude', 'dropoff_latitude', 'dropoff_hour']\n",
        "def transform(df):\n",
        "    pickup = df.loc[:,['id']+pcol].set_axis(['id', 'datetime', 'longitude', 'latitude', 'hour'],axis=1).assign(type = 'pickup')\n",
        "    dropoff = df.loc[:,['id']+dcol].set_axis(['id', 'datetime', 'longitude', 'latitude', 'hour'],axis=1).assign(type = 'dropoff')\n",
        "    return pd.concat([pickup,dropoff],axis=0)\n",
        "df_left = df_feature_small.drop(pcol+dcol,axis=1)\n",
        "df_right = pd.concat([transform(df) for i, df in df_feature_small.groupby('id')]).reset_index(drop=True)\n",
        "df_feature_small2 = df_left.merge(df_right)\n",
        "df_feature_small2.head()"
      ],
      "id": "22734028-1909-4ad5-910b-c9deaf506722"
    },
    {
      "cell_type": "markdown",
      "metadata": {},
      "source": [
        "## C. `vendor_id`, `passenger_count` 시각화"
      ],
      "id": "29be8f3e-0f60-4729-8cd2-a715b5bac516"
    },
    {
      "cell_type": "code",
      "execution_count": 25,
      "metadata": {
        "tags": []
      },
      "outputs": [],
      "source": [
        "fig = px.line_mapbox(\n",
        "    data_frame=df_feature_small2,\n",
        "    lat = 'latitude',\n",
        "    lon = 'longitude',\n",
        "    color = 'vendor_id',\n",
        "    line_group = 'id',\n",
        "    center = {'lat':40.7322, 'lon':-73.9052},\n",
        "    #---#\n",
        "    mapbox_style = 'carto-positron',\n",
        "    zoom=10,\n",
        "    width = 750,\n",
        "    height = 600    \n",
        ")\n",
        "scatter_data = px.scatter_mapbox(\n",
        "    data_frame=df_feature_small2,\n",
        "    lat = 'latitude',\n",
        "    lon = 'longitude',\n",
        "    size = 'passenger_count',\n",
        "    size_max = 10,\n",
        "    color = 'vendor_id',\n",
        "    #---#\n",
        "    mapbox_style = 'carto-positron',\n",
        "    zoom=10,\n",
        "    width = 750,\n",
        "    height = 600    \n",
        ").data \n",
        "for sd in scatter_data: \n",
        "    fig.add_trace(sd)\n",
        "fig.update_traces(\n",
        "    line={\n",
        "        'width':1\n",
        "    },\n",
        "    opacity=0.8\n",
        ")    \n",
        "fig.show(config={'scrollZoom':False})"
      ],
      "id": "b4343a55-af69-42fa-8698-a7fd138acb23"
    },
    {
      "cell_type": "markdown",
      "metadata": {},
      "source": [
        "## D. `dayofweek`별 시각화"
      ],
      "id": "ce3f3441-3a45-4d44-9bcb-fea77d606c61"
    },
    {
      "cell_type": "code",
      "execution_count": 26,
      "metadata": {
        "tags": []
      },
      "outputs": [],
      "source": [
        "tidydata = df_feature_small2.assign(dayofweek = lambda df: df.dayofweek.astype(str)).sort_values('dayofweek')\n",
        "fig = px.line_mapbox(\n",
        "    data_frame=tidydata,\n",
        "    lat = 'latitude',\n",
        "    lon = 'longitude',\n",
        "    line_group = 'id',\n",
        "    color = 'dayofweek',\n",
        "    center = {'lat':40.7322, 'lon':-73.9052},\n",
        "    #---#\n",
        "    mapbox_style = 'carto-positron',\n",
        "    zoom=10,\n",
        "    width = 750,\n",
        "    height = 600    \n",
        ")\n",
        "scatter_data = px.scatter_mapbox(\n",
        "    data_frame=tidydata,\n",
        "    lat = 'latitude',\n",
        "    lon = 'longitude',\n",
        "    size = 'passenger_count',\n",
        "    size_max = 10,\n",
        "    color = 'dayofweek',\n",
        "    #---#\n",
        "    mapbox_style = 'carto-positron',\n",
        "    zoom=10,\n",
        "    width = 750,\n",
        "    height = 600    \n",
        ").data \n",
        "for sd in scatter_data: \n",
        "    fig.add_trace(sd)\n",
        "fig.update_traces(\n",
        "    line={\n",
        "        'width':1\n",
        "    },\n",
        "    opacity=0.8\n",
        ")\n",
        "fig.show(config={'scrollZoom':False})"
      ],
      "id": "a8901dce-9dd0-425c-954a-b98b0f7ffdfc"
    },
    {
      "cell_type": "markdown",
      "metadata": {},
      "source": [
        "## E. `speed`별 시각화"
      ],
      "id": "885d78b7-8df2-412a-b2b1-3e519caa76a9"
    },
    {
      "cell_type": "code",
      "execution_count": 27,
      "metadata": {
        "tags": []
      },
      "outputs": [
        {
          "output_type": "stream",
          "name": "stderr",
          "text": [
            "/home/cgb2/anaconda3/envs/ag2/lib/python3.11/site-packages/plotly/express/_core.py:2044: FutureWarning:\n",
            "\n",
            "The default of observed=False is deprecated and will be changed to True in a future version of pandas. Pass observed=False to retain current behavior or observed=True to adopt the future default and silence this warning.\n",
            "\n",
            "/home/cgb2/anaconda3/envs/ag2/lib/python3.11/site-packages/plotly/express/_core.py:2044: FutureWarning:\n",
            "\n",
            "The default of observed=False is deprecated and will be changed to True in a future version of pandas. Pass observed=False to retain current behavior or observed=True to adopt the future default and silence this warning.\n"
          ]
        }
      ],
      "source": [
        "tidydata = df_feature_small2.assign(\n",
        "    speed_cut = pd.qcut(df_feature_small2.speed,4)\n",
        ").sort_values('speed_cut')\n",
        "fig = px.line_mapbox(\n",
        "    data_frame=tidydata,\n",
        "    lat = 'latitude',\n",
        "    lon = 'longitude',\n",
        "    line_group = 'id',\n",
        "    color = 'speed_cut',\n",
        "    center = {'lat':40.7322, 'lon':-73.9052},\n",
        "    #---#\n",
        "    mapbox_style = 'carto-positron',\n",
        "    zoom=10,\n",
        "    width = 750,\n",
        "    height = 600    \n",
        ")\n",
        "scatter_data = px.scatter_mapbox(\n",
        "    data_frame=tidydata,\n",
        "    lat = 'latitude',\n",
        "    lon = 'longitude',\n",
        "    size = 'passenger_count',\n",
        "    size_max = 10,\n",
        "    color = 'speed_cut',\n",
        "    #---#\n",
        "    mapbox_style = 'carto-positron',\n",
        "    zoom=10,\n",
        "    width = 750,\n",
        "    height = 600    \n",
        ").data \n",
        "for sd in scatter_data: \n",
        "    fig.add_trace(sd)\n",
        "fig.update_traces(\n",
        "    line={\n",
        "        'width':1\n",
        "    },\n",
        "    opacity=0.8\n",
        ")\n",
        "fig.show(config={'scrollZoom':False})"
      ],
      "id": "adc141f7-8119-4ede-b513-f3b865428603"
    },
    {
      "cell_type": "markdown",
      "metadata": {},
      "source": [
        "# 7. HW"
      ],
      "id": "02b90f86-2043-4344-9a74-198c8af7541b"
    },
    {
      "cell_type": "code",
      "execution_count": 28,
      "metadata": {
        "tags": []
      },
      "outputs": [],
      "source": [
        "df_feature.dist.describe()"
      ],
      "id": "9758616e-c0b6-48aa-85ca-1d68f87fb240"
    },
    {
      "cell_type": "markdown",
      "metadata": {},
      "source": [
        "거리가 0.012819 보다 작은 거리를 근거리로 생각하자. 근거리 이동건수가\n",
        "많은 요일,시간대를 알고싶다. 예를들어 월요일, 0시 (pickup_hour기준)의\n",
        "근거리 이동건수는 아래와 같이 구할 수 있다."
      ],
      "id": "326d8d1b-6389-4afc-9ffd-933fbd1987da"
    },
    {
      "cell_type": "code",
      "execution_count": 29,
      "metadata": {
        "tags": []
      },
      "outputs": [],
      "source": [
        "len(df_feature.query('dayofweek ==0 and dist<0.012819 and pickup_hour == 0'))"
      ],
      "id": "37394006-8956-477a-a76a-1cdf20fe0556"
    },
    {
      "cell_type": "markdown",
      "metadata": {},
      "source": [
        "모든 요일, 모든 시간의 근거리 이동건수를 `density_heatmap`을 이용하여\n",
        "시각화하라.\n",
        "\n",
        "![](attachment:12wk-2_files/figure-ipynb/71dc8cae-6439-4f10-a8c9-9b9a6f442976-1-b5b2528a-caae-40a0-a8cb-d8f0bf880081.png)"
      ],
      "attachments": {
        "12wk-2_files/figure-ipynb/71dc8cae-6439-4f10-a8c9-9b9a6f442976-1-b5b2528a-caae-40a0-a8cb-d8f0bf880081.png": {
          "image/png": "[encoded data removed]"
        }
      },
      "id": "e60a3ca4-16eb-4d9e-8958-a063024bd77b"
    }
  ],
  "nbformat": 4,
  "nbformat_minor": 5,
  "metadata": {
    "kernelspec": {
      "name": "python3",
      "display_name": "Python 3 (ipykernel)",
      "language": "python"
    },
    "language_info": {
      "name": "python",
      "codemirror_mode": {
        "name": "ipython",
        "version": "3"
      },
      "file_extension": ".py",
      "mimetype": "text/x-python",
      "nbconvert_exporter": "python",
      "pygments_lexer": "ipython3",
      "version": "3.11.6"
    }
  }
}