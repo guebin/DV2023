{
  "cells": [
    {
      "cell_type": "markdown",
      "metadata": {},
      "source": [
        "# 13wk-1: Plotly\n",
        "\n",
        "최규빈  \n",
        "2023-11-27\n",
        "\n",
        "# 1. 강의영상\n",
        "\n",
        "# 2. Imports"
      ],
      "id": "715521a5-86f2-4f00-8430-8a6af89594c6"
    },
    {
      "cell_type": "code",
      "execution_count": 26,
      "metadata": {
        "tags": []
      },
      "outputs": [],
      "source": [
        "import numpy as np\n",
        "import pandas as pd\n",
        "import matplotlib.pyplot as plt\n",
        "#---#\n",
        "import plotly.express as px\n",
        "import plotly.graph_objects as go\n",
        "import plotly.io as pio"
      ],
      "id": "b9465fad-cc6b-46ad-813b-c5ac7199696c"
    },
    {
      "cell_type": "code",
      "execution_count": 16,
      "metadata": {
        "tags": []
      },
      "outputs": [],
      "source": [
        "pd.options.plotting.backend = \"plotly\"\n",
        "pio.templates.default = \"plotly_white\""
      ],
      "id": "75b8b10c-43cf-4f6c-b3d5-0d4054d76bee"
    },
    {
      "cell_type": "markdown",
      "metadata": {},
      "source": [
        "# 3. Intro\n",
        "\n",
        "## A. 궁금해\n",
        "\n",
        "12wk-2 강의노트중.."
      ],
      "id": "47454c6f-427a-46f1-95d8-0147ff24c1f1"
    },
    {
      "cell_type": "code",
      "execution_count": 55,
      "metadata": {
        "tags": []
      },
      "outputs": [],
      "source": [
        "df_sample = pd.DataFrame(\n",
        "    {'path':['A','A','B','B','B'],\n",
        "     'lon':[-73.986420,-73.995300,-73.975922,-73.988922,-73.962654],\n",
        "     'lat':[40.756569,40.740059,40.754192,40.762859,40.772449]}\n",
        ")\n",
        "fig = px.line_mapbox(\n",
        "    data_frame=df_sample,\n",
        "    lat = 'lat',\n",
        "    lon = 'lon',\n",
        "    color = 'path',\n",
        "    line_group = 'path',\n",
        "    #---#\n",
        "    mapbox_style = 'carto-positron',\n",
        "    zoom=12,\n",
        "    width = 750,\n",
        "    height = 600    \n",
        ")\n",
        "scatter_data = px.scatter_mapbox(\n",
        "    data_frame=df_sample,\n",
        "    lat = 'lat',\n",
        "    lon = 'lon',\n",
        "    color = 'path',\n",
        "    #---#\n",
        "    mapbox_style = 'carto-positron',\n",
        "    zoom=12,\n",
        "    width = 750,\n",
        "    height = 600    \n",
        ").data \n",
        "fig.add_trace(scatter_data[0])\n",
        "fig.add_trace(scatter_data[1])\n",
        "fig.show(config={'scrollZoom':False})"
      ],
      "id": "fdf90cc9-8ea5-4126-b3a3-4c347434fde2"
    },
    {
      "cell_type": "markdown",
      "metadata": {},
      "source": [
        "도데체 저런코드는 어떻게 알아내는 걸까?\n",
        "\n",
        "## B. 심슨의 역설 데이터\n",
        "\n",
        "`-` 아래의 자료를 관찰하자."
      ],
      "id": "50e1df5f-78e3-46e4-8076-68ce156d71fa"
    },
    {
      "cell_type": "code",
      "execution_count": 4,
      "metadata": {
        "tags": []
      },
      "outputs": [],
      "source": [
        "df = pd.read_csv(\"https://raw.githubusercontent.com/guebin/DV2022/master/posts/Simpson.csv\",index_col=0,header=[0,1]).reset_index().melt(id_vars='index').set_axis(['department','gender','result','count'],axis=1)\n",
        "df.head()"
      ],
      "id": "224fd99d-bbb3-481f-92fe-450fc77a7bfe"
    },
    {
      "cell_type": "markdown",
      "metadata": {},
      "source": [
        "## C. `plotly`의 시각화구조\n",
        "\n",
        "`-` 아래와 같은 방법이 가능하다.\n",
        "\n",
        "-   pandas backend\n",
        "-   `px`, 즉 `plotly.express`를 이용한 시각화\n",
        "-   `go`, 즉 `plotly.graph_objects`를 이용한 시각화\n",
        "-   `pio`, 즉 `plotly.io`를 이용한 시각화\n",
        "\n",
        "`-` 예시1: pandas backend"
      ],
      "id": "361ad80f-038a-486f-b174-f0c7cfa4a46f"
    },
    {
      "cell_type": "code",
      "execution_count": 5,
      "metadata": {
        "tags": []
      },
      "outputs": [],
      "source": [
        "df.pivot_table(index='gender',columns='result',values='count',aggfunc='sum')\\\n",
        ".assign(rate = lambda df:  df['pass']/(df['fail']+df['pass']))\\\n",
        ".assign(rate = lambda df:  np.round(df['rate'],2))\\\n",
        ".loc[:,'rate'].reset_index()\\\n",
        ".plot.bar(\n",
        "    x='gender', y='rate',\n",
        "    color='gender',\n",
        "    text='rate',\n",
        "    title='버클리대학교의 남녀합격률',\n",
        "    width=600\n",
        ")"
      ],
      "id": "c6f5cac7-19e7-480e-9a46-6880f59d10f6"
    },
    {
      "cell_type": "markdown",
      "metadata": {},
      "source": [
        "`-` 예시2: `px.bar`를 이용한 plot"
      ],
      "id": "6d36caf3-e45c-46a7-a86e-7d7b5d4b72e6"
    },
    {
      "cell_type": "code",
      "execution_count": 51,
      "metadata": {
        "tags": []
      },
      "outputs": [],
      "source": [
        "tidydata = df.pivot_table(index='gender',columns='result',values='count',aggfunc='sum')\\\n",
        ".assign(rate = lambda df:  df['pass']/(df['fail']+df['pass']))\\\n",
        ".assign(rate = lambda df:  np.round(df['rate'],2))\\\n",
        ".loc[:,'rate'].reset_index()\n",
        "#---#\n",
        "px.bar(\n",
        "    tidydata, \n",
        "    x = 'gender', y = 'rate',\n",
        "    color='gender',\n",
        "    text='rate',\n",
        "    title='버클리대학교의 남녀합격률',\n",
        "    width=600\n",
        ")"
      ],
      "id": "fe43d1cc-2e09-4bc1-9fd2-122595b3ba2e"
    },
    {
      "cell_type": "markdown",
      "metadata": {},
      "source": [
        "`-` 예시3: `px.bar`를 이용한 플랏 (pandas Series를 입력) – 결과가 조금\n",
        "다름"
      ],
      "id": "7427fb04-7706-4cb7-91c2-7ff0b5765200"
    },
    {
      "cell_type": "code",
      "execution_count": 7,
      "metadata": {
        "tags": []
      },
      "outputs": [],
      "source": [
        "tidydata"
      ],
      "id": "44e2810e-a509-43fc-a927-3d486d8998b6"
    },
    {
      "cell_type": "code",
      "execution_count": 8,
      "metadata": {
        "tags": []
      },
      "outputs": [],
      "source": [
        "px.bar(\n",
        "    x = tidydata.gender, y = tidydata.rate,\n",
        "    color = tidydata.gender, \n",
        "    text = tidydata.rate, \n",
        "    title='버클리대학교의 남녀합격률',\n",
        "    width=600\n",
        ")"
      ],
      "id": "c71d5668-d7de-4578-a34c-e089a02063d9"
    },
    {
      "cell_type": "markdown",
      "metadata": {},
      "source": [
        "-   x축,y축,legend의 제목이 살짝 달라지긴 했음..\n",
        "\n",
        "`-` 예시4: `px.bar`를 이용한 플랏 (list를 입력) – 결과가 조금 다름"
      ],
      "id": "2da0c5fd-dba3-4f85-b018-b7b8edb850aa"
    },
    {
      "cell_type": "code",
      "execution_count": 9,
      "metadata": {
        "tags": []
      },
      "outputs": [],
      "source": [
        "px.bar(\n",
        "    x = ['female','male'], y = [0.42,0.52],\n",
        "    color = ['female','male'], \n",
        "    text = [0.42,0.52], \n",
        "    title = '버클리대학교의 남녀합격률',\n",
        "    width = 600\n",
        ")"
      ],
      "id": "3cce185f-144a-46bd-acdc-7873c344865e"
    },
    {
      "cell_type": "markdown",
      "metadata": {},
      "source": [
        "`예시5`: `go`를 이용한 시각화 – 색깔시각화가 불가능\n",
        "\n",
        "`-` ggplot() + geom_col() 의 느낌으로!"
      ],
      "id": "4b37953e-6c5e-49d6-ae53-bdaed2b8dca2"
    },
    {
      "cell_type": "code",
      "execution_count": 17,
      "metadata": {
        "tags": []
      },
      "outputs": [],
      "source": [
        "fig = go.Figure()\n",
        "fig "
      ],
      "id": "4e48ee5a-4c93-45fe-b2dc-db1bce7ac9ab"
    },
    {
      "cell_type": "code",
      "execution_count": 18,
      "metadata": {
        "tags": []
      },
      "outputs": [],
      "source": [
        "bar = go.Bar(\n",
        "    x = ['female','male'], y = [0.42,0.52]\n",
        ")\n",
        "layout = {'title':'버클리대학교의 남녀합격률','width':600}\n",
        "fig.add_trace(bar).update_layout(layout)"
      ],
      "id": "b9f473f3-5fcf-4050-8dd3-931eb076e725"
    },
    {
      "cell_type": "markdown",
      "metadata": {},
      "source": [
        "-   색을 어떻게 구분하냐?\n",
        "\n",
        "`예시5`: `go`를 이용한 시각화 – 색깔시각화 가능\n",
        "\n",
        "`-` ggplot() + geom_col() 의 느낌으로!\n",
        "\n",
        "-   색을 어떻게 구분하냐?\n",
        "\n",
        "`#`\n",
        "\n",
        "`예시6`: `go`를 이용한 시각화 – matplotlib의 겹쳐그리기 감성 구현\n",
        "($\\star$)\n",
        "\n",
        "`(예비학습)` – 이런느낌이 있었지"
      ],
      "id": "a68ddbec-8e6a-45d4-a0ff-65e80990600d"
    },
    {
      "cell_type": "code",
      "execution_count": 37,
      "metadata": {
        "tags": []
      },
      "outputs": [
        {
          "output_type": "display_data",
          "metadata": {},
          "data": {
            "image/png": "[encoded data removed]"
          }
        }
      ],
      "source": [
        "plt.plot([1,2,3],[3,4,1],label='A')\n",
        "plt.plot([1,2,3],[2,5,2],label='B')\n",
        "plt.legend()"
      ],
      "id": "1b79cc46-af22-453b-9091-0fffed360fda"
    },
    {
      "cell_type": "markdown",
      "metadata": {},
      "source": [
        "이걸 응용하면"
      ],
      "id": "a37e5323-6dc1-441c-9f86-039ecbc79b8f"
    },
    {
      "cell_type": "code",
      "execution_count": 39,
      "metadata": {
        "tags": []
      },
      "outputs": [
        {
          "output_type": "display_data",
          "metadata": {},
          "data": {
            "image/png": "[encoded data removed]"
          }
        }
      ],
      "source": [
        "plt.bar('female',0.42,label='female')\n",
        "plt.bar('male',0.52,label='male')\n",
        "plt.legend()"
      ],
      "id": "e52cd234-74a3-4195-ba82-677ad99cc347"
    },
    {
      "cell_type": "markdown",
      "metadata": {},
      "source": [
        "`#`\n",
        "\n",
        "예비학습에서 힌트를 얻으면!"
      ],
      "id": "f76c2b96-8b2d-48c1-add3-c588ccd0b344"
    },
    {
      "cell_type": "code",
      "execution_count": 41,
      "metadata": {
        "tags": []
      },
      "outputs": [],
      "source": [
        "fig = go.Figure()\n",
        "bar_female = go.Bar(\n",
        "    x = ['female'], y = [0.42],\n",
        "    name = 'female',\n",
        "    text = [0.42]\n",
        ")\n",
        "bar_male = go.Bar(\n",
        "    x = ['male'], y = [0.52],\n",
        "    name = 'male',\n",
        "    text = [0.52]\n",
        ")\n",
        "layout = {'title':'버클리대학교의 남녀합격률','width':600}\n",
        "fig.add_trace(bar_female).add_trace(bar_male)\\\n",
        ".update_layout(layout)"
      ],
      "id": "d0c8e983-62dd-4b65-a420-6dd6c3d062fd"
    },
    {
      "cell_type": "markdown",
      "metadata": {},
      "source": [
        "`예시7`: `go`를 이용한 시각화 – 색상의 변경\n",
        "\n",
        "-   여자는 빨강, 남자는 파랑으로?"
      ],
      "id": "536a53b5-7af3-4d32-bf05-1ba5e940f67e"
    },
    {
      "cell_type": "code",
      "execution_count": 13,
      "metadata": {
        "tags": []
      },
      "outputs": [],
      "source": [
        "fig = go.Figure()\n",
        "bar_female = go.Bar(\n",
        "    x = ['female'], y = [0.42],\n",
        "    name = 'female',\n",
        "    text = [0.42],\n",
        "    marker = {'color':'red'}\n",
        ")\n",
        "bar_male = go.Bar(\n",
        "    x = ['male'], y = [0.52],\n",
        "    name = 'male',\n",
        "    text = [0.52],\n",
        "    marker = {'color':'blue'}\n",
        ")\n",
        "layout = {'title':'버클리대학교의 남녀합격률','width':600}\n",
        "fig.add_trace(bar_female).add_trace(bar_male)\\\n",
        ".update_layout(layout)"
      ],
      "id": "8be978b9-ea35-4a82-b211-2359616b6357"
    },
    {
      "cell_type": "markdown",
      "metadata": {},
      "source": [
        "`#`\n",
        "\n",
        "`예시8`: `go`를 이용한 시각화 – 색상재설정 + x축, y축, legend의 title의\n",
        "설정 + hover 설정\n",
        "\n",
        "-   색상설정: `#EF553B`,`#636efa`\n",
        "-   hovertemplate: `'gender=%{x}<br>rate=%{text}<extra></extra>'`"
      ],
      "id": "df6e14dc-4620-4528-9fe0-0d1535dae4ca"
    },
    {
      "cell_type": "code",
      "execution_count": 53,
      "metadata": {
        "tags": []
      },
      "outputs": [],
      "source": [
        "fig = go.Figure()\n",
        "bar_female = go.Bar(\n",
        "    x = ['female'], y = [0.42],\n",
        "    name = 'female',\n",
        "    text = [0.42],\n",
        "    marker = {'color':'#EF553B'},\n",
        "    hovertemplate = 'gender=%{x}<br>rate=%{text}<extra></extra>'\n",
        ")\n",
        "bar_male = go.Bar(\n",
        "    x = ['male'], y = [0.52],\n",
        "    name = 'male',\n",
        "    text = [0.52],\n",
        "    marker = {'color':'#636efa'},\n",
        "    hovertemplate = 'gender=%{x}<br>rate=%{text}<extra></extra>'\n",
        ")\n",
        "layout = {\n",
        "    'title':'버클리대학교의 남녀합격률',\n",
        "    'width':600,\n",
        "    'legend':{'title':'gender'},\n",
        "    'xaxis':{'title':'gender'},\n",
        "    'yaxis':{'title':'rate'}\n",
        "}\n",
        "fig.add_trace(bar_female).add_trace(bar_male)\\\n",
        ".update_layout(layout)"
      ],
      "id": "7f2f2a80-959f-49ee-ae81-eeec5814872e"
    },
    {
      "cell_type": "markdown",
      "metadata": {},
      "source": [
        "`#`\n",
        "\n",
        "***궁금: `#EF553B` 이런거 어떻게 알았어?…***"
      ],
      "id": "96a8b483-207f-4bee-a65d-c55f777a2195"
    },
    {
      "cell_type": "code",
      "execution_count": 54,
      "metadata": {
        "tags": []
      },
      "outputs": [],
      "source": [
        "fig = df.pivot_table(index='gender',columns='result',values='count',aggfunc='sum')\\\n",
        ".assign(rate = lambda df:  df['pass']/(df['fail']+df['pass']))\\\n",
        ".assign(rate = lambda df:  np.round(df['rate'],2))\\\n",
        ".loc[:,'rate'].reset_index()\\\n",
        ".plot.bar(\n",
        "    x='gender', y='rate',\n",
        "    color='gender',\n",
        "    text='rate',\n",
        "    title='버클리대학교의 남녀합격률',\n",
        "    width=600\n",
        ")\n",
        "fig.data"
      ],
      "id": "d5165083-ae65-40a9-9ea9-f2cdf93f3e8b"
    },
    {
      "cell_type": "markdown",
      "metadata": {},
      "source": [
        "## D. `px` vs `go`\n",
        "\n",
        "`-` `go`는 핸드메이드 제품을 `px`는 양산품을 만든다고 이해하면 편리하다.\n",
        "\n",
        "-   `go`의 특징: 유저의 자유도가 매우 높음 (내가 직접 하는 느낌). 이는\n",
        "    그림의 크기, 색상 등을 선호에 맞게 조정하기 유리. 생산성이 낮음.\n",
        "-   `px`의 특징: 유저의 자유도가 낮음 (알아서 해주는 느낌). 원하는\n",
        "    그림을 빠르게 생산할 수 있음. 다만 내가 원하는 디자인이 나오지 않을\n",
        "    수 있음.\n",
        "\n",
        "`-` 뭘 써야 할까?\n",
        "\n",
        "-   `px`를 쓰는게 좋다.\n",
        "-   그런데 `go`를 이용하여 그림이 그려지는 원리를 이해하면 이후에 `px`를\n",
        "    이용한 그림을 수정하기 용이하다.\n",
        "-   전략: `px`로 그림을 그린다. + `go`로 수정한다.\n",
        "\n",
        "# 2. `pio`를 이용한 시각화"
      ],
      "id": "f4edc570-9f38-4ea8-8a83-2b4632d95091"
    },
    {
      "cell_type": "code",
      "execution_count": 68,
      "metadata": {
        "tags": []
      },
      "outputs": [],
      "source": [
        "## A. 함수의 동작 "
      ],
      "id": "24cb698b-9b42-482f-b730-d66cd9cd92f2"
    },
    {
      "cell_type": "markdown",
      "metadata": {},
      "source": [
        "`예제1` – dictionary + `pio.show()`"
      ],
      "id": "7210fde5-c670-4828-a995-a34bf3919112"
    },
    {
      "cell_type": "code",
      "execution_count": 65,
      "metadata": {
        "tags": []
      },
      "outputs": [],
      "source": [
        "fig = dict()\n",
        "fig['data'] = [\n",
        "    {\"type\": \"bar\", \"x\": ['female'], \"y\": [0.42]},\n",
        "    {\"type\": \"bar\", \"x\": ['male'], \"y\": [0.52]}\n",
        "]\n",
        "fig['layout'] = {\n",
        "    \"title\": {\"text\": \"Title\"},\n",
        "    \"width\": 600\n",
        "}"
      ],
      "id": "ce918a96-202a-452f-93d0-b9678f17e514"
    },
    {
      "cell_type": "code",
      "execution_count": 66,
      "metadata": {
        "tags": []
      },
      "outputs": [],
      "source": [
        "fig"
      ],
      "id": "bcd65585-c3cc-49a9-92df-e2e4fa424a54"
    },
    {
      "cell_type": "code",
      "execution_count": 67,
      "metadata": {
        "tags": []
      },
      "outputs": [],
      "source": [
        "pio.show(fig)"
      ],
      "id": "16c7500e-a1fd-42b9-8daf-217aa4c784ee"
    },
    {
      "cell_type": "markdown",
      "metadata": {},
      "source": [
        "`#`"
      ],
      "id": "9da7cb0c-0c14-4188-bc65-15421da68c3e"
    },
    {
      "cell_type": "code",
      "execution_count": 6,
      "metadata": {
        "tags": []
      },
      "outputs": [],
      "source": [
        "fig['data'][0]['y'] = [1,-3,1]"
      ],
      "id": "96210941-5b91-43c5-a49f-a702bb213ad1"
    },
    {
      "cell_type": "code",
      "execution_count": 7,
      "metadata": {
        "tags": []
      },
      "outputs": [],
      "source": [
        "pio.show(fig)"
      ],
      "id": "13f8e786-d161-4338-9afb-fe4b5046e39e"
    },
    {
      "cell_type": "markdown",
      "metadata": {},
      "source": [
        "수정2"
      ],
      "id": "f6c7779f-2dae-49c6-95b2-c432a2652f22"
    },
    {
      "cell_type": "code",
      "execution_count": 8,
      "metadata": {
        "tags": []
      },
      "outputs": [],
      "source": [
        "fig['layout']['title']['text'] = '제목(수정됨)'"
      ],
      "id": "2da6e94d-7f56-498e-aae6-bec2e360a58b"
    },
    {
      "cell_type": "code",
      "execution_count": 9,
      "metadata": {
        "tags": []
      },
      "outputs": [],
      "source": [
        "pio.show(fig)"
      ],
      "id": "c33bb907-7799-4d45-bad6-8c9b3addb469"
    },
    {
      "cell_type": "markdown",
      "metadata": {},
      "source": [
        "수정3"
      ],
      "id": "b0037c80-7fb1-4444-9fa1-f9cd72d9f825"
    },
    {
      "cell_type": "code",
      "execution_count": 10,
      "metadata": {
        "tags": []
      },
      "outputs": [],
      "source": [
        "fig['data'][0]['type'] = 'scatter'"
      ],
      "id": "3950612d-64fa-4b52-b990-285fb88c6770"
    },
    {
      "cell_type": "code",
      "execution_count": 11,
      "metadata": {
        "tags": []
      },
      "outputs": [],
      "source": [
        "pio.show(fig)"
      ],
      "id": "ba869303-2a60-47eb-b4b7-8858f846ca9d"
    },
    {
      "cell_type": "code",
      "execution_count": 12,
      "metadata": {
        "tags": []
      },
      "outputs": [],
      "source": [
        "fig['data'][0]['mode'] = 'lines'"
      ],
      "id": "5ca67606-c025-43ce-a580-44a42d01fd1c"
    },
    {
      "cell_type": "code",
      "execution_count": 13,
      "metadata": {
        "tags": []
      },
      "outputs": [],
      "source": [
        "pio.show(fig)"
      ],
      "id": "818cb64a-f29a-43ea-83a4-ec72b97913b9"
    },
    {
      "cell_type": "code",
      "execution_count": 14,
      "metadata": {
        "tags": []
      },
      "outputs": [],
      "source": [
        "fig['data'][0]['mode'] = 'markers'"
      ],
      "id": "1e2b56d0-037a-4fa3-9c76-69c19e1c0bfb"
    },
    {
      "cell_type": "code",
      "execution_count": 15,
      "metadata": {
        "tags": []
      },
      "outputs": [],
      "source": [
        "pio.show(fig)"
      ],
      "id": "b98ac895-5980-4d40-a2d9-bef4b9c7c381"
    },
    {
      "cell_type": "code",
      "execution_count": 16,
      "metadata": {
        "tags": []
      },
      "outputs": [],
      "source": [
        "fig['data'][0]['marker'] = {'symbol': 'circle','color':'red'}"
      ],
      "id": "3ab8e995-e54c-4489-8b99-bbb4d42930d2"
    },
    {
      "cell_type": "code",
      "execution_count": 17,
      "metadata": {
        "tags": []
      },
      "outputs": [],
      "source": [
        "pio.show(fig)"
      ],
      "id": "194234a9-f412-442b-a9dd-8a17a99142bf"
    },
    {
      "cell_type": "code",
      "execution_count": 18,
      "metadata": {
        "tags": []
      },
      "outputs": [],
      "source": [
        "fig['data'].append(\n",
        "    {'x': [1, 2, 3],\n",
        "     'y': [1.5, 3, 1.5], \n",
        "     'mode': 'markers', \n",
        "     'marker': {'symbol': 'circle', 'color': 'blue'}, 'type': 'scatter'}\n",
        ")"
      ],
      "id": "fcb5efa4-bc61-43a1-acdf-1208946e6004"
    },
    {
      "cell_type": "code",
      "execution_count": 19,
      "metadata": {
        "tags": []
      },
      "outputs": [],
      "source": [
        "pio.show(fig)"
      ],
      "id": "c8b23297-3fe4-4a3e-ac1f-048c1375be9a"
    },
    {
      "cell_type": "markdown",
      "metadata": {},
      "source": [
        "------------------------------------------------------------------------\n",
        "\n",
        "# go\n",
        "\n",
        "`-`"
      ],
      "id": "6bcb1ce8-c958-4b30-b906-295aca80d39d"
    },
    {
      "cell_type": "code",
      "execution_count": 20,
      "metadata": {
        "tags": []
      },
      "outputs": [],
      "source": [
        "fig = go.Figure()"
      ],
      "id": "862385d9-6344-4fe2-82d3-793516135b0a"
    },
    {
      "cell_type": "code",
      "execution_count": 21,
      "metadata": {
        "tags": []
      },
      "outputs": [],
      "source": [
        "fig"
      ],
      "id": "d46aec5a-578b-4824-8327-6af782a2be17"
    },
    {
      "cell_type": "code",
      "execution_count": 22,
      "metadata": {
        "tags": []
      },
      "outputs": [],
      "source": [
        "# dict(x=[1,2,3],y=[2,3,4])\n",
        "go_scatter1 = go.Scatter(x=[1,2,3],y=[2,3,4])\n",
        "go_scatter2 = go.Scatter(x=[1,2,3],y=[2,3,-3])"
      ],
      "id": "4183fdd6-6f68-4b2d-9a4c-c67726009c0b"
    },
    {
      "cell_type": "code",
      "execution_count": 23,
      "metadata": {
        "tags": []
      },
      "outputs": [],
      "source": [
        "fig.add_trace(go_scatter1).add_trace(go_scatter2)"
      ],
      "id": "dd8306ca-8c14-4789-ad06-4f64af682dec"
    },
    {
      "cell_type": "code",
      "execution_count": 24,
      "metadata": {
        "tags": []
      },
      "outputs": [],
      "source": [
        "fig = go.Figure()\n",
        "fig.add_bar(x=[1,2,3],y=[2,3,1])\n",
        "fig.add_scatter(x=[1,2,3],y=[2,3,1])\n",
        "fig.data[0]['name']='y_bar'\n",
        "fig.data[1]['name']='y_line'\n",
        "fig.data[0]['legendgroup']='y'\n",
        "fig.data[1]['legendgroup']='y'\n",
        "fig"
      ],
      "id": "0835b2db-386d-416d-a841-1674aa367f1c"
    },
    {
      "cell_type": "markdown",
      "metadata": {},
      "source": [
        "`-` selector의 역할.. 너무 어려운뎅? (지정안하면 전체업데이트함)"
      ],
      "id": "86b7cb16-5a41-410c-87de-21b707bfb6dc"
    },
    {
      "cell_type": "code",
      "execution_count": 25,
      "metadata": {
        "tags": []
      },
      "outputs": [],
      "source": [
        "fig = go.Figure()\n",
        "fig.add_bar(x=[1,2,3],y=[2,3,1],name='y_bar')\n",
        "fig.add_scatter(x=[1,2,3],y=[2,3,1],name='y_line')\n",
        "fig.update_traces(marker_color='orange',selector={'name':'y_line'})\n",
        "fig"
      ],
      "id": "fe635ead-5b03-4e6a-b5d1-407f25f0bc72"
    },
    {
      "cell_type": "markdown",
      "metadata": {},
      "source": [
        "# `go.Scatter`\n",
        "\n",
        "`-` 예시1"
      ],
      "id": "f9890c7e-b146-4958-990d-99ab3e081408"
    },
    {
      "cell_type": "code",
      "execution_count": 26,
      "metadata": {
        "tags": []
      },
      "outputs": [],
      "source": [
        "fig = go.Figure()\n",
        "scatter = go.Scatter(\n",
        "    x=[1,2,3],y=[2,3,-1]\n",
        ")\n",
        "fig.add_trace(scatter)"
      ],
      "id": "5927596f-2a2a-409e-a28f-8876b880e871"
    },
    {
      "cell_type": "markdown",
      "metadata": {},
      "source": [
        "`-` 예시2"
      ],
      "id": "ef4c57fc-f3c0-4ffe-b0f5-29e33447a4bb"
    },
    {
      "cell_type": "code",
      "execution_count": 27,
      "metadata": {
        "tags": []
      },
      "outputs": [],
      "source": [
        "fig = go.Figure()\n",
        "scatter = go.Scatter(\n",
        "    x=[1,2,3],y=[2,3,-1],\n",
        "    mode='lines'\n",
        ")\n",
        "fig.add_trace(scatter)"
      ],
      "id": "40230911-3e13-48fa-9790-7ea5e293bdb0"
    },
    {
      "cell_type": "markdown",
      "metadata": {},
      "source": [
        "`-` 예시3"
      ],
      "id": "edd7ded8-2ca0-4d9e-b951-2f22385376e3"
    },
    {
      "cell_type": "code",
      "execution_count": 28,
      "metadata": {
        "tags": []
      },
      "outputs": [],
      "source": [
        "fig = go.Figure()\n",
        "scatter = go.Scatter(\n",
        "    x=[1,2,3],y=[2,3,-1],\n",
        "    mode='markers'\n",
        ")\n",
        "fig.add_trace(scatter)"
      ],
      "id": "cec58f6e-34ad-4f25-b3cb-1dab7dd05099"
    },
    {
      "cell_type": "markdown",
      "metadata": {},
      "source": [
        "`-` 예시4"
      ],
      "id": "df3f5ff0-8a86-4dc1-a2e0-777121ead0dc"
    },
    {
      "cell_type": "code",
      "execution_count": 29,
      "metadata": {
        "tags": []
      },
      "outputs": [],
      "source": [
        "fig = go.Figure()\n",
        "scatter = go.Scatter(\n",
        "    x=[1,2,3],y=[2,3,-1],\n",
        "    mode='lines+markers'\n",
        ")\n",
        "fig.add_trace(scatter)"
      ],
      "id": "59be6ea5-06bf-440a-97c6-c04517bc1b2c"
    },
    {
      "cell_type": "markdown",
      "metadata": {},
      "source": [
        "`-` 예시5"
      ],
      "id": "4ed6c1bc-c8b3-46d0-8a8e-22e77c280762"
    },
    {
      "cell_type": "code",
      "execution_count": 30,
      "metadata": {
        "tags": []
      },
      "outputs": [],
      "source": [
        "fig = go.Figure()\n",
        "scatter = go.Scatter(\n",
        "    x=[1,2,3],y=[2,3,-1],\n",
        "    mode='lines+markers',\n",
        "    name='test'\n",
        ")\n",
        "fig.add_trace(scatter)"
      ],
      "id": "cb906bfc-8bb8-4dd9-bec7-57c2b15c0f5d"
    },
    {
      "cell_type": "markdown",
      "metadata": {},
      "source": [
        "`-` 예시6"
      ],
      "id": "4ead578b-772d-46ab-a216-ccf02237a555"
    },
    {
      "cell_type": "code",
      "execution_count": 31,
      "metadata": {
        "tags": []
      },
      "outputs": [],
      "source": [
        "fig = go.Figure()\n",
        "scatter = go.Scatter(\n",
        "    x=[1,2,3],y=[2,3,-1],\n",
        "    mode='lines+markers',\n",
        "    name='test',\n",
        "    marker={'color':'red','size':10,'symbol':'circle','line':{'width':2,'color':'blue'}}\n",
        ")\n",
        "fig.add_trace(scatter)"
      ],
      "id": "5b8a94e5-e023-42d4-94fd-cc3895a4eef1"
    },
    {
      "cell_type": "code",
      "execution_count": 34,
      "metadata": {
        "tags": []
      },
      "outputs": [],
      "source": [
        "fig.data"
      ],
      "id": "4755fae0-1b05-4245-9864-da182b3f795f"
    },
    {
      "cell_type": "code",
      "execution_count": 39,
      "metadata": {
        "tags": []
      },
      "outputs": [],
      "source": [
        "fig = go.Figure()\n",
        "scatter = go.Scatter(\n",
        "    {\n",
        "     'marker': {'color': 'red', 'line': {'color': 'blue', 'width': 2}, 'size': 10, 'symbol': 'circle'},\n",
        "     'mode': 'lines+markers',\n",
        "     'name': 'test',\n",
        "     'x': [1, 2, 3],\n",
        "     'y': [2, 3, -1]\n",
        " }  \n",
        ")\n",
        "fig.add_trace(scatter)"
      ],
      "id": "014e8e07-2c9e-43ab-9649-fee329aba951"
    },
    {
      "cell_type": "markdown",
      "metadata": {},
      "source": [
        "`-` 예시7"
      ],
      "id": "14961890-bd40-4ceb-b4d0-a88b8785b06c"
    },
    {
      "cell_type": "code",
      "execution_count": 588,
      "metadata": {
        "tags": []
      },
      "outputs": [],
      "source": [
        "fig = go.Figure()\n",
        "scatter = go.Scatter(\n",
        "    x=[1,2,3],y=[2,3,-1],\n",
        "    mode='lines+markers',\n",
        "    name='test',\n",
        "    marker={'color':'red','size':10,'symbol':'circle','line':{'width':2,'color':'blue'}},\n",
        "    line={'width':0.5,'color':'green'}\n",
        ")\n",
        "fig.add_trace(scatter)"
      ],
      "id": "2aba5cb5-168b-4b4b-9f63-5325c080f42d"
    },
    {
      "cell_type": "markdown",
      "metadata": {},
      "source": [
        "`-` 색상변경"
      ],
      "id": "56413a6e-6f62-496c-b6ed-e28be08275ea"
    },
    {
      "cell_type": "code",
      "execution_count": 546,
      "metadata": {
        "tags": []
      },
      "outputs": [],
      "source": [
        "fig = pd.DataFrame({'x':[1,2,3,4],'y':[1,2,4,3],'clr':['A','A','B','B']})\\\n",
        ".plot.line(\n",
        "    x='x',y='y',\n",
        ")\n",
        "fig.update_traces(\n",
        "    line_color = 'red',\n",
        "    line_dash= 'dash'\n",
        ")"
      ],
      "id": "6bdf02cf-a0b9-4bab-bae7-59ce550b665f"
    },
    {
      "cell_type": "markdown",
      "metadata": {},
      "source": [
        "`-` 색상변경2"
      ],
      "id": "89f36bc8-8009-4015-8b64-3f1ba1417a0c"
    },
    {
      "cell_type": "code",
      "execution_count": 509,
      "metadata": {
        "tags": []
      },
      "outputs": [],
      "source": [
        "pd.DataFrame({'x':[1,2,3,4],'y':[1,2,4,3],'clr':['A','A','B','B']})\\\n",
        ".plot.line(\n",
        "    x='x',y='y',color='clr'\n",
        ")"
      ],
      "id": "6a47fb4c-52b4-43ba-a0d1-de0faf9f1f7a"
    },
    {
      "cell_type": "code",
      "execution_count": 510,
      "metadata": {
        "tags": []
      },
      "outputs": [],
      "source": [
        "pd.DataFrame({'x':[1,2,3,4],'y':[1,2,4,3],'clr':['A','A','B','B']})\\\n",
        ".plot.line(\n",
        "    x='x',y='y',color='clr'\n",
        ")"
      ],
      "id": "2009ba70-39b9-46c2-8a24-3ec1d9e15190"
    },
    {
      "cell_type": "code",
      "execution_count": 519,
      "metadata": {
        "tags": []
      },
      "outputs": [],
      "source": [
        "pd.DataFrame({'x':[1,2,3,4],'y':[1,2,4,3],'clr':['A','A','B','B']})\\\n",
        ".plot.line(\n",
        "    x='x',y='y',color='clr',\n",
        "    category_orders= {'clr':['B','A']}\n",
        ")"
      ],
      "id": "efc3e2de-59d5-4df0-8358-48256ab0766b"
    },
    {
      "cell_type": "code",
      "execution_count": 531,
      "metadata": {
        "tags": []
      },
      "outputs": [],
      "source": [
        "pd.DataFrame({'x':[1,2,3,4],'y':[1,2,4,3],'clr':['A','A','B','B']})\\\n",
        ".plot.line(\n",
        "    x='x',y='y',color='clr',\n",
        "    color_discrete_sequence = ['orange','green'],\n",
        "    \n",
        ")"
      ],
      "id": "382d7d13-8841-488d-954b-8dd96e5b01b5"
    },
    {
      "cell_type": "code",
      "execution_count": 532,
      "metadata": {
        "tags": []
      },
      "outputs": [],
      "source": [
        "pd.DataFrame({'x':[1,2,3,4],'y':[1,2,4,3],'clr':['A','A','B','B']})\\\n",
        ".plot.line(\n",
        "    x='x',y='y',color='clr',\n",
        "    color_discrete_map = {'B':'orange','A':'green'},\n",
        ")"
      ],
      "id": "777c619e-477b-4f93-ba68-f98124464cae"
    },
    {
      "cell_type": "markdown",
      "metadata": {},
      "source": [
        "`-` 라인의 타입변경\n",
        "\n",
        "`-` dot-connected plot"
      ],
      "id": "3fed8400-3a35-4061-a5ac-07ea7cbe2fc9"
    },
    {
      "cell_type": "code",
      "execution_count": 520,
      "metadata": {
        "tags": []
      },
      "outputs": [],
      "source": [
        "pd.DataFrame({'x':[1,2,3,4],'y':[1,2,4,3],'clr':['A','A','B','B']})\\\n",
        ".plot.line(\n",
        "    x='x',y='y',color='clr',\n",
        "    color_discrete_map = {'B':'orange','A':'green'}\n",
        ")"
      ],
      "id": "9b4f92fc-4e8f-4fab-bec0-a73b68c117a1"
    },
    {
      "cell_type": "code",
      "execution_count": null,
      "metadata": {},
      "outputs": [],
      "source": [
        "pd.DataFrame({'x':[1,2,3,4],'y':[1,2,4,3],'clr':['A','A','B','B']})\\\n",
        ".plot.line(\n",
        "    x='x',y='y',color='clr',\n",
        "    color_discrete_map = {'B':'orange','A':'green'}\n",
        ")"
      ],
      "id": "87b02187-3e61-4441-b63f-ef4dea4c1880"
    },
    {
      "cell_type": "code",
      "execution_count": 483,
      "metadata": {
        "tags": []
      },
      "outputs": [],
      "source": [
        "_fig"
      ],
      "id": "fba37572-54c3-44e1-9c97-4e54988b0372"
    },
    {
      "cell_type": "code",
      "execution_count": 484,
      "metadata": {
        "tags": []
      },
      "outputs": [],
      "source": [
        "go.Figure().add_trace(_fig.data[0]).add_trace(_fig.data[1]).update_layout(_fig.layout)"
      ],
      "id": "cef1e5f2-d359-4697-a97e-d7935867cdda"
    },
    {
      "cell_type": "code",
      "execution_count": 490,
      "metadata": {
        "tags": []
      },
      "outputs": [],
      "source": [
        "_fig.layout['legend']['title']['text']='변수이름'"
      ],
      "id": "0636621b-60e6-4314-b076-2b8cf033d195"
    },
    {
      "cell_type": "code",
      "execution_count": 491,
      "metadata": {
        "tags": []
      },
      "outputs": [],
      "source": [
        "_fig"
      ],
      "id": "8613103b-4390-45a4-9909-48a75ba87763"
    }
  ],
  "nbformat": 4,
  "nbformat_minor": 5,
  "metadata": {
    "kernelspec": {
      "name": "python3",
      "display_name": "Python 3 (ipykernel)",
      "language": "python"
    },
    "language_info": {
      "name": "python",
      "codemirror_mode": {
        "name": "ipython",
        "version": "3"
      },
      "file_extension": ".py",
      "mimetype": "text/x-python",
      "nbconvert_exporter": "python",
      "pygments_lexer": "ipython3",
      "version": "3.10.13"
    }
  }
}