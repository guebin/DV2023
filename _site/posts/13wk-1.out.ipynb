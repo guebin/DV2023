{
  "cells": [
    {
      "cell_type": "markdown",
      "metadata": {},
      "source": [
        "# 13wk-1: Plotly – `pio`, `go`\n",
        "\n",
        "최규빈  \n",
        "2023-11-27\n",
        "\n",
        "<a href=\"https://colab.research.google.com/github/guebin/DV2023/blob/main/posts/13wk-1.ipynb\"><img src=\"https://colab.research.google.com/assets/colab-badge.svg\" style=\"text-align: left\"></a>\n",
        "\n",
        "# 1. 강의영상\n",
        "\n",
        "[????](????)\n",
        "\n",
        "# 2. Imports"
      ],
      "id": "95cf830e-aab1-4608-8917-43ec558d6f49"
    },
    {
      "cell_type": "code",
      "execution_count": 1,
      "metadata": {
        "tags": []
      },
      "outputs": [],
      "source": [
        "import numpy as np\n",
        "import pandas as pd\n",
        "import matplotlib.pyplot as plt\n",
        "#---#\n",
        "import plotly.express as px\n",
        "import plotly.graph_objects as go\n",
        "import plotly.io as pio"
      ],
      "id": "b9465fad-cc6b-46ad-813b-c5ac7199696c"
    },
    {
      "cell_type": "code",
      "execution_count": 2,
      "metadata": {
        "tags": []
      },
      "outputs": [],
      "source": [
        "pd.options.plotting.backend = \"plotly\"\n",
        "pio.templates.default = \"plotly_white\""
      ],
      "id": "75b8b10c-43cf-4f6c-b3d5-0d4054d76bee"
    },
    {
      "cell_type": "markdown",
      "metadata": {},
      "source": [
        "# 3. Intro\n",
        "\n",
        "## A. 궁금해\n",
        "\n",
        "12wk-2 강의노트중.."
      ],
      "id": "27bd459b-deba-4c99-90fd-23e89425e6c2"
    },
    {
      "cell_type": "code",
      "execution_count": 3,
      "metadata": {
        "tags": []
      },
      "outputs": [],
      "source": [
        "df_sample = pd.DataFrame(\n",
        "    {'path':['A','A','B','B','B'],\n",
        "     'lon':[-73.986420,-73.995300,-73.975922,-73.988922,-73.962654],\n",
        "     'lat':[40.756569,40.740059,40.754192,40.762859,40.772449]}\n",
        ")\n",
        "fig = px.line_mapbox(\n",
        "    data_frame=df_sample,\n",
        "    lat = 'lat',\n",
        "    lon = 'lon',\n",
        "    color = 'path',\n",
        "    line_group = 'path',\n",
        "    #---#\n",
        "    mapbox_style = 'carto-positron',\n",
        "    zoom=12,\n",
        "    width = 750,\n",
        "    height = 600    \n",
        ")\n",
        "scatter_data = px.scatter_mapbox(\n",
        "    data_frame=df_sample,\n",
        "    lat = 'lat',\n",
        "    lon = 'lon',\n",
        "    color = 'path',\n",
        "    #---#\n",
        "    mapbox_style = 'carto-positron',\n",
        "    zoom=12,\n",
        "    width = 750,\n",
        "    height = 600    \n",
        ").data \n",
        "fig.add_trace(scatter_data[0])\n",
        "fig.add_trace(scatter_data[1])\n",
        "fig.show(config={'scrollZoom':False})"
      ],
      "id": "fdf90cc9-8ea5-4126-b3a3-4c347434fde2"
    },
    {
      "cell_type": "markdown",
      "metadata": {},
      "source": [
        "도데체 저런코드는 어떻게 알아내는 걸까?\n",
        "\n",
        "## B. 심슨의 역설 데이터\n",
        "\n",
        "`-` 아래의 자료를 관찰하자."
      ],
      "id": "2506139e-3d16-40d5-a8a0-ef428941e085"
    },
    {
      "cell_type": "code",
      "execution_count": 4,
      "metadata": {
        "tags": []
      },
      "outputs": [],
      "source": [
        "df = pd.read_csv(\"https://raw.githubusercontent.com/guebin/DV2022/master/posts/Simpson.csv\",index_col=0,header=[0,1]).reset_index().melt(id_vars='index').set_axis(['department','gender','result','count'],axis=1)\n",
        "df.head()"
      ],
      "id": "224fd99d-bbb3-481f-92fe-450fc77a7bfe"
    },
    {
      "cell_type": "markdown",
      "metadata": {},
      "source": [
        "## C. `plotly`의 시각화구조\n",
        "\n",
        "`-` 아래와 같은 방법이 가능하다.\n",
        "\n",
        "-   pandas backend\n",
        "-   `px`, 즉 `plotly.express`를 이용한 시각화\n",
        "-   `go`, 즉 `plotly.graph_objects`를 이용한 시각화\n",
        "-   `pio`, 즉 `plotly.io`를 이용한 시각화\n",
        "\n",
        "`-` 예시1: pandas backend"
      ],
      "id": "296f1b2a-5e36-4621-83b9-d32ba8a7e370"
    },
    {
      "cell_type": "code",
      "execution_count": 5,
      "metadata": {
        "tags": []
      },
      "outputs": [],
      "source": [
        "df.pivot_table(index='gender',columns='result',values='count',aggfunc='sum')\\\n",
        ".assign(rate = lambda df:  df['pass']/(df['fail']+df['pass']))\\\n",
        ".assign(rate = lambda df:  np.round(df['rate'],2))\\\n",
        ".loc[:,'rate'].reset_index()\\\n",
        ".plot.bar(\n",
        "    x='gender', y='rate',\n",
        "    color='gender',\n",
        "    text='rate',\n",
        "    title='버클리대학교의 남녀합격률',\n",
        "    width=600\n",
        ")"
      ],
      "id": "c6f5cac7-19e7-480e-9a46-6880f59d10f6"
    },
    {
      "cell_type": "markdown",
      "metadata": {},
      "source": [
        "`-` 예시2: `px.bar`를 이용한 plot"
      ],
      "id": "a3342ddd-0ac2-499a-8bd7-561b2b15d5bd"
    },
    {
      "cell_type": "code",
      "execution_count": 6,
      "metadata": {
        "tags": []
      },
      "outputs": [],
      "source": [
        "tidydata = df.pivot_table(index='gender',columns='result',values='count',aggfunc='sum')\\\n",
        ".assign(rate = lambda df:  df['pass']/(df['fail']+df['pass']))\\\n",
        ".assign(rate = lambda df:  np.round(df['rate'],2))\\\n",
        ".loc[:,'rate'].reset_index()\n",
        "#---#\n",
        "px.bar(\n",
        "    tidydata, \n",
        "    x = 'gender', y = 'rate',\n",
        "    color='gender',\n",
        "    text='rate',\n",
        "    title='버클리대학교의 남녀합격률',\n",
        "    width=600\n",
        ")"
      ],
      "id": "fe43d1cc-2e09-4bc1-9fd2-122595b3ba2e"
    },
    {
      "cell_type": "markdown",
      "metadata": {},
      "source": [
        "`-` 예시3: `px.bar`를 이용한 플랏 (pandas Series를 입력) – 결과가 조금\n",
        "다름"
      ],
      "id": "801db2e3-d511-4ad2-a8ca-827a147e04b4"
    },
    {
      "cell_type": "code",
      "execution_count": 7,
      "metadata": {
        "tags": []
      },
      "outputs": [],
      "source": [
        "tidydata"
      ],
      "id": "44e2810e-a509-43fc-a927-3d486d8998b6"
    },
    {
      "cell_type": "code",
      "execution_count": 8,
      "metadata": {
        "tags": []
      },
      "outputs": [],
      "source": [
        "px.bar(\n",
        "    x = tidydata.gender, y = tidydata.rate,\n",
        "    color = tidydata.gender, \n",
        "    text = tidydata.rate, \n",
        "    title='버클리대학교의 남녀합격률',\n",
        "    width=600\n",
        ")"
      ],
      "id": "c71d5668-d7de-4578-a34c-e089a02063d9"
    },
    {
      "cell_type": "markdown",
      "metadata": {},
      "source": [
        "-   x축,y축,legend의 제목이 살짝 달라지긴 했음..\n",
        "\n",
        "`-` 예시4: `px.bar`를 이용한 플랏 (list를 입력) – 결과가 조금 다름"
      ],
      "id": "f16849e8-3adb-44de-96c2-5a4cf6bf8da4"
    },
    {
      "cell_type": "code",
      "execution_count": 9,
      "metadata": {
        "tags": []
      },
      "outputs": [],
      "source": [
        "px.bar(\n",
        "    x = ['female','male'], y = [0.42,0.52],\n",
        "    color = ['female','male'], \n",
        "    text = [0.42,0.52], \n",
        "    title = '버클리대학교의 남녀합격률',\n",
        "    width = 600\n",
        ")"
      ],
      "id": "3cce185f-144a-46bd-acdc-7873c344865e"
    },
    {
      "cell_type": "markdown",
      "metadata": {},
      "source": [
        "`# 예시5`: `go`를 이용한 시각화 – 색깔시각화가 불가능\n",
        "\n",
        "`-` ggplot() + geom_col() 의 느낌으로!"
      ],
      "id": "d9c0297c-a09d-4d61-86ed-e53a9013ed0f"
    },
    {
      "cell_type": "code",
      "execution_count": 10,
      "metadata": {
        "tags": []
      },
      "outputs": [],
      "source": [
        "fig = go.Figure()\n",
        "fig "
      ],
      "id": "4e48ee5a-4c93-45fe-b2dc-db1bce7ac9ab"
    },
    {
      "cell_type": "code",
      "execution_count": 11,
      "metadata": {
        "tags": []
      },
      "outputs": [],
      "source": [
        "bar = go.Bar(\n",
        "    x = ['female','male'], y = [0.42,0.52]\n",
        ")\n",
        "layout = {'title':'버클리대학교의 남녀합격률','width':600}\n",
        "fig.add_trace(bar).update_layout(layout)"
      ],
      "id": "b9f473f3-5fcf-4050-8dd3-931eb076e725"
    },
    {
      "cell_type": "markdown",
      "metadata": {},
      "source": [
        "-   색을 어떻게 구분하냐?\n",
        "\n",
        "`#`\n",
        "\n",
        "`# 예시6`: `go`를 이용한 시각화 – matplotlib의 겹쳐그리기 감성 구현\n",
        "($\\star$)\n",
        "\n",
        "`(예비학습)` – 이런느낌이 있었지"
      ],
      "id": "9dd189e8-d6a8-4df6-8040-e153aff9d939"
    },
    {
      "cell_type": "code",
      "execution_count": 12,
      "metadata": {
        "tags": []
      },
      "outputs": [
        {
          "output_type": "display_data",
          "metadata": {},
          "data": {
            "image/png": "[encoded data removed]"
          }
        }
      ],
      "source": [
        "plt.plot([1,2,3],[3,4,1],label='A')\n",
        "plt.plot([1,2,3],[2,5,2],label='B')\n",
        "plt.legend()"
      ],
      "id": "1b79cc46-af22-453b-9091-0fffed360fda"
    },
    {
      "cell_type": "markdown",
      "metadata": {},
      "source": [
        "이걸 응용하면"
      ],
      "id": "2120dd66-fe92-4036-a695-3c6f6aa3208f"
    },
    {
      "cell_type": "code",
      "execution_count": 13,
      "metadata": {
        "tags": []
      },
      "outputs": [
        {
          "output_type": "display_data",
          "metadata": {},
          "data": {
            "image/png": "[encoded data removed]"
          }
        }
      ],
      "source": [
        "plt.bar('female',0.42,label='female')\n",
        "plt.bar('male',0.52,label='male')\n",
        "plt.legend()"
      ],
      "id": "e52cd234-74a3-4195-ba82-677ad99cc347"
    },
    {
      "cell_type": "markdown",
      "metadata": {},
      "source": [
        "`#`\n",
        "\n",
        "예비학습에서 힌트를 얻으면!"
      ],
      "id": "8a24ab58-5348-42cb-a161-9a156f7b8e11"
    },
    {
      "cell_type": "code",
      "execution_count": 14,
      "metadata": {
        "tags": []
      },
      "outputs": [],
      "source": [
        "fig = go.Figure()\n",
        "bar_female = go.Bar(\n",
        "    x = ['female'], y = [0.42],\n",
        "    name = 'female',\n",
        "    text = [0.42]\n",
        ")\n",
        "bar_male = go.Bar(\n",
        "    x = ['male'], y = [0.52],\n",
        "    name = 'male',\n",
        "    text = [0.52]\n",
        ")\n",
        "layout = {'title':'버클리대학교의 남녀합격률','width':600}\n",
        "fig.add_trace(bar_female).add_trace(bar_male)\\\n",
        ".update_layout(layout)"
      ],
      "id": "d0c8e983-62dd-4b65-a420-6dd6c3d062fd"
    },
    {
      "cell_type": "markdown",
      "metadata": {},
      "source": [
        "`# 예시7`: `go`를 이용한 시각화 – 색상의 변경\n",
        "\n",
        "-   여자는 빨강, 남자는 파랑으로?"
      ],
      "id": "d6c01be7-496c-407c-a869-dbf5e43e0ab2"
    },
    {
      "cell_type": "code",
      "execution_count": 15,
      "metadata": {
        "tags": []
      },
      "outputs": [],
      "source": [
        "fig = go.Figure()\n",
        "bar_female = go.Bar(\n",
        "    x = ['female'], y = [0.42],\n",
        "    name = 'female',\n",
        "    text = [0.42],\n",
        "    marker = {'color':'red'}\n",
        ")\n",
        "bar_male = go.Bar(\n",
        "    x = ['male'], y = [0.52],\n",
        "    name = 'male',\n",
        "    text = [0.52],\n",
        "    marker = {'color':'blue'}\n",
        ")\n",
        "layout = {'title':'버클리대학교의 남녀합격률','width':600}\n",
        "fig.add_trace(bar_female).add_trace(bar_male)\\\n",
        ".update_layout(layout)"
      ],
      "id": "8be978b9-ea35-4a82-b211-2359616b6357"
    },
    {
      "cell_type": "markdown",
      "metadata": {},
      "source": [
        "`#`\n",
        "\n",
        "`# 예시8`: `go`를 이용한 시각화 – 색상재설정 + x축, y축, legend의\n",
        "title의 설정 + hover 설정\n",
        "\n",
        "-   색상설정: `#EF553B`,`#636efa`\n",
        "-   hovertemplate: `'gender=%{x}<br>rate=%{text}<extra></extra>'`"
      ],
      "id": "c5eb95c9-2ed0-4ee1-b1a7-5d343fc22a1d"
    },
    {
      "cell_type": "code",
      "execution_count": 16,
      "metadata": {
        "tags": []
      },
      "outputs": [],
      "source": [
        "fig = go.Figure()\n",
        "bar_female = go.Bar(\n",
        "    x = ['female'], y = [0.42],\n",
        "    name = 'female',\n",
        "    text = [0.42],\n",
        "    marker = {'color':'#EF553B'},\n",
        "    hovertemplate = 'gender=%{x}<br>rate=%{text}<extra></extra>'\n",
        ")\n",
        "bar_male = go.Bar(\n",
        "    x = ['male'], y = [0.52],\n",
        "    name = 'male',\n",
        "    text = [0.52],\n",
        "    marker = {'color':'#636efa'},\n",
        "    hovertemplate = 'gender=%{x}<br>rate=%{text}<extra></extra>'\n",
        ")\n",
        "layout = {\n",
        "    'title':'버클리대학교의 남녀합격률',\n",
        "    'width':600,\n",
        "    'legend':{'title':'gender'},\n",
        "    'xaxis':{'title':'gender'},\n",
        "    'yaxis':{'title':'rate'}\n",
        "}\n",
        "fig.add_trace(bar_female).add_trace(bar_male)\\\n",
        ".update_layout(layout)"
      ],
      "id": "7f2f2a80-959f-49ee-ae81-eeec5814872e"
    },
    {
      "cell_type": "markdown",
      "metadata": {},
      "source": [
        "`#`\n",
        "\n",
        "***궁금: `#EF553B` 이런거 어떻게 알았어?…***"
      ],
      "id": "77cec0ee-9677-4102-8cab-84d8653a2534"
    },
    {
      "cell_type": "code",
      "execution_count": 17,
      "metadata": {
        "tags": []
      },
      "outputs": [],
      "source": [
        "fig = df.pivot_table(index='gender',columns='result',values='count',aggfunc='sum')\\\n",
        ".assign(rate = lambda df:  df['pass']/(df['fail']+df['pass']))\\\n",
        ".assign(rate = lambda df:  np.round(df['rate'],2))\\\n",
        ".loc[:,'rate'].reset_index()\\\n",
        ".plot.bar(\n",
        "    x='gender', y='rate',\n",
        "    color='gender',\n",
        "    text='rate',\n",
        "    title='버클리대학교의 남녀합격률',\n",
        "    width=600\n",
        ")\n",
        "fig.data"
      ],
      "id": "d5165083-ae65-40a9-9ea9-f2cdf93f3e8b"
    },
    {
      "cell_type": "markdown",
      "metadata": {},
      "source": [
        "## D. `px` vs `go`\n",
        "\n",
        "`-` `go`는 핸드메이드 제품을 `px`는 양산품을 만든다고 이해하면 편리하다.\n",
        "\n",
        "-   `go`의 특징: 유저의 자유도가 매우 높음 (내가 직접 하는 느낌). 이는\n",
        "    그림의 크기, 색상 등을 선호에 맞게 조정하기 유리. 생산성이 낮음.\n",
        "-   `px`의 특징: 유저의 자유도가 낮음 (알아서 해주는 느낌). 원하는\n",
        "    그림을 빠르게 생산할 수 있음. 다만 내가 원하는 디자인이 나오지 않을\n",
        "    수 있음.\n",
        "\n",
        "`-` 뭘 써야 할까?\n",
        "\n",
        "-   `px`를 쓰는게 좋다.\n",
        "-   그런데 `go`를 이용하여 그림이 그려지는 원리를 이해하면 이후에 `px`를\n",
        "    이용한 그림을 수정하기 용이하다.\n",
        "-   전략: `px`로 그림을 그린다. + `go`로 수정한다.\n",
        "\n",
        "# 4. `pio`를 이용한 시각화\n",
        "\n",
        "## A. 함수의 입력 (예비학습)\n",
        "\n",
        "`예제1` – 두 벡터 x,y가 주어졌을때 `R`에서 cbind와 같은 역할을 하는\n",
        "함수를 구현하라.\n",
        "\n",
        "![](attachment:13wk-1_files/figure-ipynb/24ea9555-553e-4f7f-a586-1f02f07f15da-1-4a202b51-fe9c-4c61-bcc6-2442f586450d.png)"
      ],
      "attachments": {
        "13wk-1_files/figure-ipynb/24ea9555-553e-4f7f-a586-1f02f07f15da-1-4a202b51-fe9c-4c61-bcc6-2442f586450d.png": {
          "image/png": "[encoded data removed]"
        }
      },
      "id": "3a99128d-a2f1-43bc-a24e-cda8334ac15a"
    },
    {
      "cell_type": "code",
      "execution_count": 18,
      "metadata": {
        "tags": []
      },
      "outputs": [],
      "source": [
        "def cbind(x,y):\n",
        "    rslt = np.stack([x,y],axis=1)\n",
        "    return rslt "
      ],
      "id": "1779bcc3-28df-479f-bb0e-ec6f1ee22a3d"
    },
    {
      "cell_type": "code",
      "execution_count": 19,
      "metadata": {
        "tags": []
      },
      "outputs": [],
      "source": [
        "cbind([1,1,1],[2,2,2])"
      ],
      "id": "be8cacb7-ef00-4082-8ba3-e650c54c823e"
    },
    {
      "cell_type": "markdown",
      "metadata": {},
      "source": [
        "`#`\n",
        "\n",
        "`예제2` – 세개이상의 벡터가 온다면?\n",
        "\n",
        "`-` args를 이용하여 이후 입력을 받음"
      ],
      "id": "d2e09718-56bb-4b08-b905-598ba03da0ed"
    },
    {
      "cell_type": "code",
      "execution_count": 20,
      "metadata": {
        "tags": []
      },
      "outputs": [],
      "source": [
        "def _cbind(x,y,*args):\n",
        "    # args의 정체 \n",
        "    print(args)\n",
        "    rslt = np.stack([x,y],axis=1)\n",
        "    return rslt "
      ],
      "id": "2815fa36-2ffe-40a7-98c0-36077e2870d7"
    },
    {
      "cell_type": "code",
      "execution_count": 21,
      "metadata": {
        "tags": []
      },
      "outputs": [
        {
          "output_type": "stream",
          "name": "stdout",
          "text": [
            "([3, 3],)"
          ]
        }
      ],
      "source": [
        "_cbind([1,1],[2,2],[3,3])"
      ],
      "id": "0d518046-87db-455d-a749-f43b35a1a0a7"
    },
    {
      "cell_type": "code",
      "execution_count": 22,
      "metadata": {
        "tags": []
      },
      "outputs": [
        {
          "output_type": "stream",
          "name": "stdout",
          "text": [
            "([3, 3, 3], [4, 4, 4])"
          ]
        }
      ],
      "source": [
        "_cbind([1,1,1],[2,2,2],[3,3,3],[4,4,4])"
      ],
      "id": "d7ca3555-1ca1-4499-be9b-224bd7dc7a8b"
    },
    {
      "cell_type": "markdown",
      "metadata": {},
      "source": [
        "-   args는 함수내부에서 “튜플”로 취급된다!!\n",
        "\n",
        "args를 이용한 수정"
      ],
      "id": "0193b0d8-2efe-4cbf-b117-fc84135b9d3b"
    },
    {
      "cell_type": "code",
      "execution_count": 23,
      "metadata": {
        "tags": []
      },
      "outputs": [],
      "source": [
        "def cbind(x,y,*args):\n",
        "    #print(args)\n",
        "    rslt = np.stack([x,y]+list(args),axis=1)\n",
        "    return rslt "
      ],
      "id": "fa9f463d-6b1f-48d1-8100-ff067411fc7c"
    },
    {
      "cell_type": "code",
      "execution_count": 24,
      "metadata": {
        "tags": []
      },
      "outputs": [],
      "source": [
        "cbind([1,1,1],[2,2,2])"
      ],
      "id": "0e9940c6-faa0-4ef4-8f0d-d108c2c193a1"
    },
    {
      "cell_type": "code",
      "execution_count": 25,
      "metadata": {
        "tags": []
      },
      "outputs": [],
      "source": [
        "cbind([1,1,1],[2,2,2],[3,3,3],[4,4,4])"
      ],
      "id": "a73917b0-9c20-4973-ac53-4cfd93922bb6"
    },
    {
      "cell_type": "markdown",
      "metadata": {},
      "source": [
        "`#`\n",
        "\n",
        "`# 예제3` – 기본적으로는 cbind의 동작을 하지만 경우에 따라서 rbind처럼\n",
        "동작하길 원한다면?\n",
        "\n",
        "`-` `axis`라는 변수를 따로 생성하여 입력으로 처리, 기본값은 1"
      ],
      "id": "1bb789d2-19a4-4c97-bd0b-7768418dd8cb"
    },
    {
      "cell_type": "code",
      "execution_count": 26,
      "metadata": {
        "tags": []
      },
      "outputs": [],
      "source": [
        "def bind(x,y,*args,axis=1):\n",
        "    rslt = np.stack([x,y]+list(args),axis=axis)\n",
        "    return rslt "
      ],
      "id": "717c70d3-c0f2-4b4a-995a-b26d7d54d039"
    },
    {
      "cell_type": "code",
      "execution_count": 27,
      "metadata": {
        "tags": []
      },
      "outputs": [],
      "source": [
        "bind([1,1,1],[2,2,2])"
      ],
      "id": "9980237c-bb52-400b-b827-10fdc002c2f8"
    },
    {
      "cell_type": "code",
      "execution_count": 28,
      "metadata": {
        "tags": []
      },
      "outputs": [],
      "source": [
        "bind([1,1,1],[2,2,2],axis=0)"
      ],
      "id": "e126e985-166f-4efa-a32e-052123da6741"
    },
    {
      "cell_type": "code",
      "execution_count": 29,
      "metadata": {
        "tags": []
      },
      "outputs": [],
      "source": [
        "bind([1,1,1],[2,2,2],[3,3,3],axis=0)"
      ],
      "id": "3ca7d7b2-947f-4f75-b128-2bfb9aa44990"
    },
    {
      "cell_type": "markdown",
      "metadata": {},
      "source": [
        "`#`\n",
        "\n",
        "`# 예제4` – 여러가지 옵션을 통하여 함수입력의 유형을 보고 싶다면?"
      ],
      "id": "ec04674f-ef37-4182-977d-255643291d51"
    },
    {
      "cell_type": "code",
      "execution_count": 30,
      "metadata": {
        "tags": []
      },
      "outputs": [],
      "source": [
        "def _bind(x,y,*args,axis=1,**kwarg):\n",
        "    print(kwarg)\n",
        "    rslt = np.stack([x,y]+list(args),axis=axis)\n",
        "    return rslt "
      ],
      "id": "43e09647-9dcf-485c-b266-69677231f734"
    },
    {
      "cell_type": "code",
      "execution_count": 31,
      "metadata": {
        "tags": []
      },
      "outputs": [
        {
          "output_type": "stream",
          "name": "stdout",
          "text": [
            "{'verbose1': True, 'verbose2': True, 'verbose3': True, 'verbose4': True}"
          ]
        }
      ],
      "source": [
        "_bind([1,1,1],[2,2,2], verbose1 = True, verbose2 = True, verbose3 = True, verbose4 = True)"
      ],
      "id": "867ead95-6d74-49ca-8162-67b4ac02aa0c"
    },
    {
      "cell_type": "code",
      "execution_count": 32,
      "metadata": {
        "tags": []
      },
      "outputs": [],
      "source": [
        "def bind(x,y,*args,axis=1,**kwargs):\n",
        "    if 'vb1' in kwargs:\n",
        "        print(f'위치인자 argument: {x,y}')\n",
        "    if 'vb2' in kwargs: \n",
        "        print(f'가변위치인자: {args}')\n",
        "    if 'vb3' in kwargs:  \n",
        "        print(f'키워드인자: {axis}')\n",
        "    if 'vb4' in kwargs: \n",
        "        print(f'가변키워드인자: {kwargs}')   \n",
        "    rslt = np.stack([x,y]+list(args),axis=axis)\n",
        "    return rslt "
      ],
      "id": "2de50d78-2dfd-4847-981c-1ca3a446c27c"
    },
    {
      "cell_type": "code",
      "execution_count": 33,
      "metadata": {
        "tags": []
      },
      "outputs": [
        {
          "output_type": "stream",
          "name": "stdout",
          "text": [
            "위치인자 argument: ([1, 1, 1], [2, 2, 2])\n",
            "가변위치인자: ()\n",
            "키워드인자: 1\n",
            "가변키워드인자: {'vb1': True, 'vb2': True, 'vb3': True, 'vb4': True}"
          ]
        }
      ],
      "source": [
        "bind([1,1,1],[2,2,2],\n",
        "     vb1=True,vb2=True,vb3=True,vb4=True) "
      ],
      "id": "fe08188f-70c1-4f13-b3e1-d4f168678ec4"
    },
    {
      "cell_type": "code",
      "execution_count": 34,
      "metadata": {
        "tags": []
      },
      "outputs": [
        {
          "output_type": "stream",
          "name": "stdout",
          "text": [
            "위치인자 argument: ([1, 1, 1], [2, 2, 2])\n",
            "가변위치인자: ([3, 3, 3],)\n",
            "키워드인자: 1\n",
            "가변키워드인자: {'vb1': True, 'vb2': True, 'vb3': True, 'vb4': True}"
          ]
        }
      ],
      "source": [
        "bind([1,1,1],[2,2,2],[3,3,3],\n",
        "     vb1=True,vb2=True,vb3=True,vb4=True) "
      ],
      "id": "99f9f069-463c-47dc-af60-03e4d3bb3678"
    },
    {
      "cell_type": "code",
      "execution_count": 35,
      "metadata": {
        "tags": []
      },
      "outputs": [
        {
          "output_type": "stream",
          "name": "stdout",
          "text": [
            "위치인자 argument: ([1, 1, 1], [2, 2, 2])\n",
            "가변위치인자: ([3, 3, 3],)\n",
            "키워드인자: 0\n",
            "가변키워드인자: {'vb1': True, 'vb2': True, 'vb3': True, 'vb4': True}"
          ]
        }
      ],
      "source": [
        "bind([1,1,1],[2,2,2],[3,3,3],axis=0,\n",
        "     vb1=True,vb2=True,vb3=True,vb4=True) "
      ],
      "id": "d702276f-20c8-4cba-a136-91048a3694ac"
    },
    {
      "cell_type": "markdown",
      "metadata": {},
      "source": [
        "`#`\n",
        "\n",
        "`# 예제5` – 위치인자를 키워드인자보다 뒤에 넣을 경우?"
      ],
      "id": "d4f6cbc0-1050-40f3-813f-c3b4fe009518"
    },
    {
      "cell_type": "code",
      "execution_count": 36,
      "metadata": {
        "tags": []
      },
      "outputs": [],
      "source": [
        "bind(axis=0,[1,2,3],[2,3,4])"
      ],
      "id": "8ddbe374-1ad8-4421-a3ea-34e19aaeb90f"
    },
    {
      "cell_type": "code",
      "execution_count": 37,
      "metadata": {
        "tags": []
      },
      "outputs": [],
      "source": [
        "bind([1,2,3],[2,3,4],axis=0)"
      ],
      "id": "739f6584-fe16-4837-8551-ba596de22a9d"
    },
    {
      "cell_type": "code",
      "execution_count": 38,
      "metadata": {
        "tags": []
      },
      "outputs": [],
      "source": [
        "bind([1,2,3],[2,3,4],axis=0,[3,4,5])"
      ],
      "id": "141344e7-122d-4c73-b23a-09910acf7742"
    },
    {
      "cell_type": "markdown",
      "metadata": {},
      "source": [
        "`#`\n",
        "\n",
        "`# 예제5` – 키워드인자의 키를 잘못 입력할 경우?"
      ],
      "id": "c52e9ece-11b4-4c9e-8b6a-580561af4c29"
    },
    {
      "cell_type": "code",
      "execution_count": 39,
      "metadata": {
        "tags": []
      },
      "outputs": [],
      "source": [
        "bind([1,2,3],[2,3,4],ax=0)"
      ],
      "id": "43507636-ce26-4fc9-8ef3-33a4057e8ac2"
    },
    {
      "cell_type": "code",
      "execution_count": 40,
      "metadata": {
        "tags": []
      },
      "outputs": [],
      "source": [
        "bind([1,2,3],[2,3,4], verbose = True)"
      ],
      "id": "4d6ee15c-13f9-468d-ad65-badf26cd445c"
    },
    {
      "cell_type": "markdown",
      "metadata": {},
      "source": [
        "-   아무일없음"
      ],
      "id": "12ac7fb4-90b2-4969-806c-0de03b0a29ee"
    },
    {
      "cell_type": "code",
      "execution_count": 41,
      "metadata": {
        "tags": []
      },
      "outputs": [],
      "source": [
        "bind([1,2,3],[2,3,4],axis=3)"
      ],
      "id": "bf47ebe8-c0eb-403a-8123-fcc1f68182af"
    },
    {
      "cell_type": "markdown",
      "metadata": {},
      "source": [
        "-   이건 문제가 있음\n",
        "\n",
        "`-` 요약\n",
        "\n",
        "-   함수의 입력은 꽤 복잡한 방식으로 동작한다.\n",
        "-   위치인자의 위치를 잘못 넣으면 동작하지 않는다.\n",
        "-   키워드인자의 키를 다른이름으로 넣으면 에러는 나지 않는다. (그냥\n",
        "    무시)\n",
        "\n",
        "`#`\n",
        "\n",
        "`# 예제 6` – 은근히 짜증났던 `plt.plot()`"
      ],
      "id": "eefbc900-110f-44c0-bf55-826c0ca2acdd"
    },
    {
      "cell_type": "code",
      "execution_count": 42,
      "metadata": {
        "tags": []
      },
      "outputs": [
        {
          "output_type": "display_data",
          "metadata": {},
          "data": {
            "image/png": "[encoded data removed]"
          }
        }
      ],
      "source": [
        "plt.plot([1,2,3,4],[2,3,4,2],'r--')"
      ],
      "id": "46a64e91-8997-493c-af18-640fc18fb943"
    },
    {
      "cell_type": "code",
      "execution_count": 43,
      "metadata": {
        "tags": []
      },
      "outputs": [],
      "source": [
        "plt.plot([1,2,3,4],[2,3,4,2],color='lime','--')"
      ],
      "id": "fc34d458-c491-4889-aac3-cfcc3196e072"
    },
    {
      "cell_type": "code",
      "execution_count": 44,
      "metadata": {
        "tags": []
      },
      "outputs": [
        {
          "output_type": "display_data",
          "metadata": {},
          "data": {
            "image/png": "[encoded data removed]"
          }
        }
      ],
      "source": [
        "plt.plot([1,2,3,4],[2,3,4,2],'--',color='lime')"
      ],
      "id": "ed66ff6a-bbac-4cc5-83e3-25e985e52051"
    },
    {
      "cell_type": "markdown",
      "metadata": {},
      "source": [
        "`#`\n",
        "\n",
        "## B. dictionary + `pio.show()`\n",
        "\n",
        "`# 예제1` – dictionary + `pio.show()`"
      ],
      "id": "c40c950b-527f-40fa-955d-54f76343a978"
    },
    {
      "cell_type": "code",
      "execution_count": 45,
      "metadata": {
        "tags": []
      },
      "outputs": [],
      "source": [
        "fig = dict()\n",
        "fig['data'] = [\n",
        "    {\"type\": \"bar\", \"x\": ['female'], \"y\": [0.42]},\n",
        "    {\"type\": \"bar\", \"x\": ['male'], \"y\": [0.52]}\n",
        "]\n",
        "fig['layout'] = {\n",
        "    \"title\": {\"text\": \"Title\"},\n",
        "    \"width\": 600\n",
        "}"
      ],
      "id": "ce918a96-202a-452f-93d0-b9678f17e514"
    },
    {
      "cell_type": "code",
      "execution_count": 46,
      "metadata": {
        "tags": []
      },
      "outputs": [],
      "source": [
        "fig"
      ],
      "id": "bcd65585-c3cc-49a9-92df-e2e4fa424a54"
    },
    {
      "cell_type": "code",
      "execution_count": 47,
      "metadata": {
        "tags": []
      },
      "outputs": [],
      "source": [
        "pio.show(fig)"
      ],
      "id": "16c7500e-a1fd-42b9-8daf-217aa4c784ee"
    },
    {
      "cell_type": "markdown",
      "metadata": {},
      "source": [
        "기묘하다.. 마치 `pio.show()`에 필요한 kwargs를 fig라는 이름의 dict로\n",
        "전달하는 느낌임!!"
      ],
      "id": "6ed14e38-0072-44a3-8f80-981dd35c259f"
    },
    {
      "cell_type": "code",
      "execution_count": 48,
      "metadata": {
        "tags": []
      },
      "outputs": [],
      "source": [
        "pio.show(dict()) # 빈 딕셔너리 전달.."
      ],
      "id": "0b440f35-b188-4e02-be11-6ec542072b1e"
    },
    {
      "cell_type": "markdown",
      "metadata": {},
      "source": [
        "**요약: fig은 본질은 dictionary이며, 이는 pio.show()에 전달할 kwargs를\n",
        "모아놓은 집합이다.**\n",
        "\n",
        "`#`\n",
        "\n",
        "`# 예제2` – `female`의 rate를 0.62로 수정"
      ],
      "id": "6ee7674d-8319-42fa-bdcb-97c381e96e6c"
    },
    {
      "cell_type": "code",
      "execution_count": 49,
      "metadata": {
        "tags": []
      },
      "outputs": [],
      "source": [
        "fig['data'][0]['y']=[0.62]"
      ],
      "id": "7cd3f7bc-dbf2-4adb-aee4-afe43236c91d"
    },
    {
      "cell_type": "code",
      "execution_count": 50,
      "metadata": {
        "tags": []
      },
      "outputs": [],
      "source": [
        "fig"
      ],
      "id": "45583c8d-814d-45f4-b06e-bdf57b9a413f"
    },
    {
      "cell_type": "code",
      "execution_count": 51,
      "metadata": {
        "tags": []
      },
      "outputs": [],
      "source": [
        "pio.show(fig)"
      ],
      "id": "13f8e786-d161-4338-9afb-fe4b5046e39e"
    },
    {
      "cell_type": "markdown",
      "metadata": {},
      "source": [
        "`#`\n",
        "\n",
        "`# 예제3` – `fig`에 정리된 arg들이 전부는 아님"
      ],
      "id": "831860d4-bb02-4278-9b79-227838672e6b"
    },
    {
      "cell_type": "code",
      "execution_count": 52,
      "metadata": {
        "tags": []
      },
      "outputs": [],
      "source": [
        "fig['data'][0]['marker'] = {'color':'#636efa'}\n",
        "fig['data'][1]['marker'] = {'color':'#EF553B'}\n",
        "fig"
      ],
      "id": "2d2ab1ab-f211-4f3a-b4a8-34aa1ae73f75"
    },
    {
      "cell_type": "code",
      "execution_count": 53,
      "metadata": {
        "tags": []
      },
      "outputs": [],
      "source": [
        "pio.show(fig)"
      ],
      "id": "83f105d8-3756-404f-9280-278d14f5cb9c"
    },
    {
      "cell_type": "markdown",
      "metadata": {},
      "source": [
        "`#`\n",
        "\n",
        "# 5. `go`를 이용한 시각화\n",
        "\n",
        "## A. `pio`와 `go`의 연결"
      ],
      "id": "50f0b433-3486-4641-b79b-f0ae072d12c0"
    },
    {
      "cell_type": "code",
      "execution_count": 54,
      "metadata": {
        "tags": []
      },
      "outputs": [],
      "source": [
        "fig = dict()\n",
        "fig['data'] = [\n",
        "    {\"type\": \"bar\", \"x\": ['female'], \"y\": [0.42]},\n",
        "    {\"type\": \"bar\", \"x\": ['male'], \"y\": [0.52]}\n",
        "]\n",
        "fig['layout'] = {\n",
        "    \"title\": {\"text\": \"Title\"},\n",
        "    \"width\": 600\n",
        "}\n",
        "pio.show(fig)"
      ],
      "id": "be977447-92c6-4441-96ca-2abc6fd3116a"
    },
    {
      "cell_type": "markdown",
      "metadata": {},
      "source": [
        "위의 코드와 동일한 효과를 주는 코드를 알아보자.\n",
        "\n",
        "`# 예제1` – data의 원소를 dict로 정리하여 추가\n",
        "\n",
        "위와 동일한 코드는 아래와 같다."
      ],
      "id": "8b026fac-a9e0-4d48-9592-4e34d999d5c1"
    },
    {
      "cell_type": "code",
      "execution_count": 55,
      "metadata": {
        "tags": []
      },
      "outputs": [],
      "source": [
        "fig = dict()\n",
        "fig['data'] = list()\n",
        "bar_female = {'type':'bar', \"x\": ['female'], \"y\": [0.42]}\n",
        "bar_male = {'type':'bar', \"x\": ['male'], \"y\": [0.52]}\n",
        "fig['data'].append(bar_female)\n",
        "fig['data'].append(bar_male)\n",
        "fig['layout'] = {\n",
        "    \"title\": {\"text\": \"Title\"},\n",
        "    \"width\": 600\n",
        "}\n",
        "pio.show(fig)"
      ],
      "id": "164700c6-42ae-4774-b250-81aa2c747b16"
    },
    {
      "cell_type": "markdown",
      "metadata": {},
      "source": [
        "`#`\n",
        "\n",
        "`# 예제2` – `go.Bar()`를 이용\n",
        "\n",
        "위와 동일한 코드는 아래와 같다."
      ],
      "id": "658fe35b-6325-4031-b34e-7e9d97c6a144"
    },
    {
      "cell_type": "code",
      "execution_count": 56,
      "metadata": {
        "tags": []
      },
      "outputs": [],
      "source": [
        "fig = dict()\n",
        "fig['data'] = list()\n",
        "bar_female = go.Bar({\"x\": ['female'], \"y\": [0.42]})\n",
        "bar_male = go.Bar({\"x\": ['male'], \"y\": [0.52]})\n",
        "fig['data'].append(bar_female)\n",
        "fig['data'].append(bar_male)\n",
        "fig['layout'] = {\n",
        "    \"title\": {\"text\": \"Title\"},\n",
        "    \"width\": 600\n",
        "}\n",
        "pio.show(fig)"
      ],
      "id": "99d811df-b156-41af-b0a2-c1e89a4e32fd"
    },
    {
      "cell_type": "markdown",
      "metadata": {},
      "source": [
        "`#`\n",
        "\n",
        "`# 예제3` – `go.Bar()`를 이용\n",
        "\n",
        "위와 동일한 코드는 아래와 같다."
      ],
      "id": "e36233d4-8281-4f28-a5dc-3e5394e304d7"
    },
    {
      "cell_type": "code",
      "execution_count": 57,
      "metadata": {
        "tags": []
      },
      "outputs": [],
      "source": [
        "fig = dict()\n",
        "fig['data'] = list()\n",
        "bar_female = go.Bar({\"x\": ['female'], \"y\": [0.42]})\n",
        "bar_male = go.Bar({\"x\": ['male'], \"y\": [0.52]})\n",
        "fig['data'].append(bar_female)\n",
        "fig['data'].append(bar_male)\n",
        "fig['layout'] = {\n",
        "    \"title\": {\"text\": \"Title\"},\n",
        "    \"width\": 600\n",
        "}\n",
        "pio.show(fig)"
      ],
      "id": "b28f7807-c492-4904-a1b4-3d9a4095e1a8"
    },
    {
      "cell_type": "markdown",
      "metadata": {},
      "source": [
        "`#`\n",
        "\n",
        "`# 예제4` – `go.Bar()`를 이용 + `go.Figure()`를 이용 + `add_trace()`이용\n",
        "\n",
        "위와 동일한 코드는 아래와 같다."
      ],
      "id": "f23962aa-404a-4585-bf60-f0d1f5386cec"
    },
    {
      "cell_type": "code",
      "execution_count": 58,
      "metadata": {
        "tags": []
      },
      "outputs": [],
      "source": [
        "fig = go.Figure()\n",
        "bar_female = go.Bar({\"x\": ['female'], \"y\": [0.42]})\n",
        "bar_male = go.Bar({\"x\": ['male'], \"y\": [0.52]})\n",
        "fig.add_trace(bar_female)\n",
        "fig.add_trace(bar_male)\n",
        "fig['layout'] = {\n",
        "    \"title\": {\"text\": \"Title\"},\n",
        "    \"width\": 600\n",
        "}\n",
        "#fig.show()\n",
        "fig"
      ],
      "id": "6e12a8eb-4f82-4e81-b058-a997d14759df"
    },
    {
      "cell_type": "markdown",
      "metadata": {},
      "source": [
        "`go.Bar()`를 아래와 같이 사용할수도 있다."
      ],
      "id": "989c6150-ecb4-40dd-9882-853d7a9dc709"
    },
    {
      "cell_type": "code",
      "execution_count": 59,
      "metadata": {
        "tags": []
      },
      "outputs": [],
      "source": [
        "# go.Bar({\"x\": ['female'], \"y\": [0.42]})\n",
        "# go.Bar(dict(x=['female'],y=[0.42]))\n",
        "go.Bar(x=['female'],y=[0.42])"
      ],
      "id": "717a084e-d08b-45bd-9479-f29f131a4681"
    },
    {
      "cell_type": "markdown",
      "metadata": {},
      "source": [
        "사실 아래와 같이 `go.Figure()`만 사용하고 `go.Bar()`는 사용하지 않아도\n",
        "무방"
      ],
      "id": "b82f8a17-8b7e-43c3-abdc-150c0783d7bd"
    },
    {
      "cell_type": "code",
      "execution_count": 60,
      "metadata": {
        "tags": []
      },
      "outputs": [],
      "source": [
        "fig = go.Figure()\n",
        "bar_female = {'type':'bar', \"x\": ['female'], \"y\": [0.42]}\n",
        "bar_male = {'type':'bar', \"x\": ['male'], \"y\": [0.52]}\n",
        "fig.add_trace(bar_female)\n",
        "fig.add_trace(bar_male)\n",
        "fig['layout'] = {\n",
        "    \"title\": {\"text\": \"Title\"},\n",
        "    \"width\": 600\n",
        "}\n",
        "#fig.show()\n",
        "fig"
      ],
      "id": "df00a5de-a584-482a-8966-6087584133b6"
    },
    {
      "cell_type": "markdown",
      "metadata": {},
      "source": [
        "`# 예제5` – `go.Bar()`를 이용 + `go.Figure()`를 이용 +\n",
        "`add_trace()`이용 + `update_layout()`이용"
      ],
      "id": "7445b1d4-185b-4227-a86c-50d3b4439292"
    },
    {
      "cell_type": "code",
      "execution_count": 61,
      "metadata": {
        "tags": []
      },
      "outputs": [],
      "source": [
        "fig = go.Figure()\n",
        "bar_female = go.Bar(x=['female'], y= [0.42])\n",
        "bar_male = go.Bar(x=['male'], y= [0.52])\n",
        "fig.add_trace(bar_female)\n",
        "fig.add_trace(bar_male)\n",
        "fig.update_layout(\n",
        "    {\"title\": {\"text\": \"Title\"},\n",
        "    \"width\": 600}\n",
        ")\n",
        "fig"
      ],
      "id": "c9abce6e-6eea-4c95-b354-e744915155d5"
    },
    {
      "cell_type": "code",
      "execution_count": 62,
      "metadata": {
        "tags": []
      },
      "outputs": [],
      "source": [
        "fig = go.Figure()\n",
        "bar_female = go.Bar(x=['female'], y= [0.42])\n",
        "bar_male = go.Bar(x=['male'], y= [0.52])\n",
        "fig.add_trace(bar_female)\n",
        "fig.add_trace(bar_male)\n",
        "fig.update_layout(\n",
        "    title = {\"text\": \"Title\"},\n",
        "    width = 600\n",
        ")\n",
        "fig"
      ],
      "id": "3fa4b83b-1262-4726-b326-491279af03b2"
    },
    {
      "cell_type": "markdown",
      "metadata": {},
      "source": [
        "`# 예제6` – `go.Bar()`를 이용 + `go.Figure()`를 이용 +\n",
        "`add_traces()`이용 + `update_layout()`이용"
      ],
      "id": "bfd62561-119c-4cb2-9075-b0233eacc19d"
    },
    {
      "cell_type": "code",
      "execution_count": 63,
      "metadata": {
        "tags": []
      },
      "outputs": [],
      "source": [
        "fig = go.Figure()\n",
        "bar_female = go.Bar(x=['female'], y= [0.42])\n",
        "bar_male = go.Bar(x=['male'], y= [0.52])\n",
        "fig.add_traces([bar_female,bar_male])\n",
        "fig.update_layout(\n",
        "    {\"title\": {\"text\": \"Title\"},\n",
        "    \"width\": 600}\n",
        ")\n",
        "fig"
      ],
      "id": "40e43abe-4db6-4497-befd-690cf61f2869"
    },
    {
      "cell_type": "markdown",
      "metadata": {},
      "source": [
        "## B. `go`를 이용하는 추천포맷"
      ],
      "id": "fb9ebcde-bf12-4029-90e8-7c134a47257c"
    },
    {
      "cell_type": "code",
      "execution_count": 64,
      "metadata": {
        "tags": []
      },
      "outputs": [],
      "source": [
        "fig = go.Figure()\n",
        "fig.add_traces(\n",
        "    [go.Bar(x=['female'], y= [0.42]),\n",
        "     go.Bar(x=['male'], y= [0.52])]\n",
        ")\n",
        "fig.update_layout(\n",
        "    title = \"버클리대학교 성별합격률\",\n",
        "    width = 600,\n",
        "    legend = {'title':'gender'}\n",
        "    \n",
        ")"
      ],
      "id": "950e6875-d85f-445a-b40b-af5a837c90d2"
    },
    {
      "cell_type": "markdown",
      "metadata": {},
      "source": [
        "# 6. HW"
      ],
      "id": "0ebdeab9-3ea5-46fa-b3e7-1c75ac5e20d1"
    }
  ],
  "nbformat": 4,
  "nbformat_minor": 5,
  "metadata": {
    "kernelspec": {
      "name": "python3",
      "display_name": "Python 3 (ipykernel)",
      "language": "python"
    },
    "language_info": {
      "name": "python",
      "codemirror_mode": {
        "name": "ipython",
        "version": "3"
      },
      "file_extension": ".py",
      "mimetype": "text/x-python",
      "nbconvert_exporter": "python",
      "pygments_lexer": "ipython3",
      "version": "3.10.13"
    }
  }
}