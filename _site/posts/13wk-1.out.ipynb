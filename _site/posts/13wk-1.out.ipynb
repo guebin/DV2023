{
  "cells": [
    {
      "cell_type": "markdown",
      "metadata": {},
      "source": [
        "# 13wk-1: Plotly – `pio`, `go`\n",
        "\n",
        "최규빈  \n",
        "2023-11-27\n",
        "\n",
        "<a href=\"https://colab.research.google.com/github/guebin/DV2023/blob/main/posts/13wk-1.ipynb\"><img src=\"https://colab.research.google.com/assets/colab-badge.svg\" style=\"text-align: left\"></a>\n",
        "\n",
        "# 1. 강의영상\n",
        "\n",
        "<https://youtu.be/playlist?list=PLQqh36zP38-zQL5qH6iFWWd7EDmVE9eTm&si=CcNvj-WpJBID8tsM>\n",
        "\n",
        "# 2. Imports"
      ],
      "id": "3fd31db5-8303-4ef5-bea2-1ba1ad4be933"
    },
    {
      "cell_type": "code",
      "execution_count": 1,
      "metadata": {
        "tags": []
      },
      "outputs": [],
      "source": [
        "import numpy as np\n",
        "import pandas as pd\n",
        "import matplotlib.pyplot as plt\n",
        "#---#\n",
        "import plotly.express as px\n",
        "import plotly.graph_objects as go\n",
        "import plotly.io as pio"
      ],
      "id": "b9465fad-cc6b-46ad-813b-c5ac7199696c"
    },
    {
      "cell_type": "code",
      "execution_count": 2,
      "metadata": {
        "tags": []
      },
      "outputs": [],
      "source": [
        "pd.options.plotting.backend = \"plotly\"\n",
        "pio.templates.default = \"plotly_white\""
      ],
      "id": "75b8b10c-43cf-4f6c-b3d5-0d4054d76bee"
    },
    {
      "cell_type": "markdown",
      "metadata": {},
      "source": [
        "# 3. Intro\n",
        "\n",
        "## A. 궁금해\n",
        "\n",
        "12wk-2 강의노트중.."
      ],
      "id": "1b352fca-52c3-4901-b2f5-715e665624e1"
    },
    {
      "cell_type": "code",
      "execution_count": 3,
      "metadata": {
        "tags": []
      },
      "outputs": [],
      "source": [
        "df_sample = pd.DataFrame(\n",
        "    {'path':['A','A','B','B','B'],\n",
        "     'lon':[-73.986420,-73.995300,-73.975922,-73.988922,-73.962654],\n",
        "     'lat':[40.756569,40.740059,40.754192,40.762859,40.772449]}\n",
        ")\n",
        "fig = px.line_mapbox(\n",
        "    data_frame=df_sample,\n",
        "    lat = 'lat',\n",
        "    lon = 'lon',\n",
        "    color = 'path',\n",
        "    line_group = 'path',\n",
        "    #---#\n",
        "    mapbox_style = 'carto-positron',\n",
        "    zoom=12,\n",
        "    width = 750,\n",
        "    height = 600    \n",
        ")\n",
        "scatter_data = px.scatter_mapbox(\n",
        "    data_frame=df_sample,\n",
        "    lat = 'lat',\n",
        "    lon = 'lon',\n",
        "    color = 'path',\n",
        "    #---#\n",
        "    mapbox_style = 'carto-positron',\n",
        "    zoom=12,\n",
        "    width = 750,\n",
        "    height = 600    \n",
        ").data \n",
        "fig.add_trace(scatter_data[0])\n",
        "fig.add_trace(scatter_data[1])\n",
        "fig.show(config={'scrollZoom':False})"
      ],
      "id": "fdf90cc9-8ea5-4126-b3a3-4c347434fde2"
    },
    {
      "cell_type": "markdown",
      "metadata": {},
      "source": [
        "도데체 저런코드는 어떻게 알아내는 걸까?\n",
        "\n",
        "## B. 심슨의 역설 데이터\n",
        "\n",
        "`-` 아래의 자료를 관찰하자."
      ],
      "id": "ecc841fe-fe12-46e3-b310-f1d0e4aec5e9"
    },
    {
      "cell_type": "code",
      "execution_count": 4,
      "metadata": {
        "tags": []
      },
      "outputs": [],
      "source": [
        "df = pd.read_csv(\"https://raw.githubusercontent.com/guebin/DV2022/master/posts/Simpson.csv\",index_col=0,header=[0,1]).reset_index().melt(id_vars='index').set_axis(['department','gender','result','count'],axis=1)\n",
        "df.head()"
      ],
      "id": "224fd99d-bbb3-481f-92fe-450fc77a7bfe"
    },
    {
      "cell_type": "markdown",
      "metadata": {},
      "source": [
        "## C. `plotly`의 시각화구조\n",
        "\n",
        "`-` 아래와 같은 방법이 가능하다.\n",
        "\n",
        "-   pandas backend\n",
        "-   `px`, 즉 `plotly.express`를 이용한 시각화\n",
        "-   `go`, 즉 `plotly.graph_objects`를 이용한 시각화\n",
        "-   `pio`, 즉 `plotly.io`를 이용한 시각화\n",
        "\n",
        "`-` 예시1: pandas backend"
      ],
      "id": "b5865fd4-36fa-4cd9-abc4-aaa80ec39390"
    },
    {
      "cell_type": "code",
      "execution_count": 5,
      "metadata": {
        "tags": []
      },
      "outputs": [],
      "source": [
        "df.pivot_table(index='gender',columns='result',values='count',aggfunc='sum')\\\n",
        ".assign(rate = lambda df:  df['pass']/(df['fail']+df['pass']))\\\n",
        ".assign(rate = lambda df:  np.round(df['rate'],2))\\\n",
        ".loc[:,'rate'].reset_index()\\\n",
        ".plot.bar(\n",
        "    x='gender',\n",
        "    y='rate',\n",
        "    color='gender',\n",
        "    #---#\n",
        "    title = '버클리대학교 성별합격률',\n",
        "    width = 600\n",
        ")"
      ],
      "id": "8027f2b1-5e58-4cdb-a7a8-56462190855a"
    },
    {
      "cell_type": "markdown",
      "metadata": {},
      "source": [
        "`-` 예시2: `px.bar`를 이용한 plot"
      ],
      "id": "d162312e-1f9c-4b9e-941e-6aa7769e9a57"
    },
    {
      "cell_type": "code",
      "execution_count": 6,
      "metadata": {
        "tags": []
      },
      "outputs": [],
      "source": [
        "tidydata = df.pivot_table(index='gender',columns='result',values='count',aggfunc='sum')\\\n",
        ".assign(rate = lambda df:  df['pass']/(df['fail']+df['pass']))\\\n",
        ".assign(rate = lambda df:  np.round(df['rate'],2))\\\n",
        ".loc[:,'rate'].reset_index()\n",
        "#---#\n",
        "px.bar(\n",
        "    tidydata,\n",
        "    x='gender',\n",
        "    y='rate',\n",
        "    color='gender',\n",
        "    #---#\n",
        "    title = '버클리대학교 성별합격률',\n",
        "    width = 600\n",
        ")"
      ],
      "id": "c1f68132-0809-4dc3-90e8-7481c351ca78"
    },
    {
      "cell_type": "markdown",
      "metadata": {},
      "source": [
        "`-` 예시3: `px.bar`를 이용한 플랏 (pandas Series를 입력) – 결과가 조금\n",
        "다름"
      ],
      "id": "f9d0d0ed-fdf5-4460-a6db-4c8b4a9bc0a7"
    },
    {
      "cell_type": "code",
      "execution_count": 7,
      "metadata": {
        "tags": []
      },
      "outputs": [],
      "source": [
        "tidydata = df.pivot_table(index='gender',columns='result',values='count',aggfunc='sum')\\\n",
        ".assign(rate = lambda df:  df['pass']/(df['fail']+df['pass']))\\\n",
        ".assign(rate = lambda df:  np.round(df['rate'],2))\\\n",
        ".loc[:,'rate'].reset_index()\n",
        "#---#\n",
        "px.bar(\n",
        "    x=tidydata.gender,\n",
        "    y=tidydata.rate,\n",
        "    color=tidydata.gender,\n",
        "    #---#\n",
        "    title = '버클리대학교 성별합격률',\n",
        "    width = 600\n",
        ")"
      ],
      "id": "065eeb7d-99e3-4c8c-b228-06bc5b661467"
    },
    {
      "cell_type": "markdown",
      "metadata": {},
      "source": [
        "-   x축,y축,legend의 제목이 살짝 달라지긴 했음..\n",
        "\n",
        "`-` 예시4: `px.bar`를 이용한 플랏 (list를 입력) – 결과가 조금 다름"
      ],
      "id": "c0b95e3b-5ad7-4d4c-a4a4-c10b2c0b6e8c"
    },
    {
      "cell_type": "code",
      "execution_count": 8,
      "metadata": {
        "tags": []
      },
      "outputs": [],
      "source": [
        "px.bar(\n",
        "    x=['female', 'male'],\n",
        "    y=[0.42, 0.52],\n",
        "    color=['female', 'male'],\n",
        "    #---#\n",
        "    title = '버클리대학교 성별합격률',\n",
        "    width = 600\n",
        ")"
      ],
      "id": "3cce185f-144a-46bd-acdc-7873c344865e"
    },
    {
      "cell_type": "markdown",
      "metadata": {},
      "source": [
        "`# 예시5`: `go`를 이용한 시각화 – 색깔시각화가 불가능\n",
        "\n",
        "`-` ggplot() + geom_col() 의 느낌으로!"
      ],
      "id": "31c5cd01-9424-45d6-8bd9-8ea453a9e763"
    },
    {
      "cell_type": "code",
      "execution_count": 9,
      "metadata": {
        "tags": []
      },
      "outputs": [],
      "source": [
        "fig = go.Figure()\n",
        "bar = go.Bar(\n",
        "    x=['female', 'male'],\n",
        "    y=[0.42, 0.52]\n",
        ")\n",
        "layout = {'title':'버클리대학교의 남녀합격률','width':600}\n",
        "fig.add_trace(bar).update_layout(layout)"
      ],
      "id": "f4297dff-3dc4-4180-98e2-df6d8f698b41"
    },
    {
      "cell_type": "markdown",
      "metadata": {},
      "source": [
        "-   색을 어떻게 구분하냐?\n",
        "\n",
        "`#`\n",
        "\n",
        "`# 예시6`: `go`를 이용한 시각화 – matplotlib의 겹쳐그리기 감성으로\n",
        "색깔시각화 ($\\star$)\n",
        "\n",
        "`(예비학습)` – 이런느낌이 있었지"
      ],
      "id": "47e095e0-3531-462a-8fc5-543697d20621"
    },
    {
      "cell_type": "code",
      "execution_count": 10,
      "metadata": {
        "tags": []
      },
      "outputs": [
        {
          "output_type": "display_data",
          "metadata": {},
          "data": {
            "image/png": "[encoded data removed]"
          }
        }
      ],
      "source": [
        "plt.plot([1,2,3],[3,4,1],label='A')\n",
        "plt.plot([1,2,3],[4,2,5],label='B')\n",
        "plt.legend()"
      ],
      "id": "314efa57-21dd-4b4f-a1cf-a3d6661c92a9"
    },
    {
      "cell_type": "markdown",
      "metadata": {},
      "source": [
        "이걸 응용하면"
      ],
      "id": "e3cd2a58-188c-44c8-9f46-98c02a9d31e3"
    },
    {
      "cell_type": "code",
      "execution_count": 11,
      "metadata": {
        "tags": []
      },
      "outputs": [
        {
          "output_type": "display_data",
          "metadata": {},
          "data": {
            "image/png": "[encoded data removed]"
          }
        }
      ],
      "source": [
        "plt.bar(['female'],[0.42],label='female')\n",
        "plt.bar(['male'],[0.52],label='male')\n",
        "plt.legend()"
      ],
      "id": "28f2c1fa-6085-4684-84f4-115125552879"
    },
    {
      "cell_type": "markdown",
      "metadata": {},
      "source": [
        "예비학습에서 힌트를 얻으면!"
      ],
      "id": "7f257a2f-f8e0-473d-8810-734f1f02c6f4"
    },
    {
      "cell_type": "code",
      "execution_count": 12,
      "metadata": {
        "tags": []
      },
      "outputs": [],
      "source": [
        "fig = go.Figure()\n",
        "bar_female = go.Bar(\n",
        "    x=['female'],\n",
        "    y=[0.42]\n",
        ")\n",
        "bar_male = go.Bar(\n",
        "    x=['male'],\n",
        "    y=[0.52]\n",
        ")\n",
        "layout = {'title':'버클리대학교의 남녀합격률','width':600}\n",
        "fig.add_trace(bar_female).add_trace(bar_male)\\\n",
        ".update_layout(layout)"
      ],
      "id": "42e45259-0ec3-4f98-97bc-1dd6c7f541cc"
    },
    {
      "cell_type": "markdown",
      "metadata": {},
      "source": [
        "`# 예시7`: `go`를 이용한 시각화 – 색상의 변경\n",
        "\n",
        "-   여자는 빨강, 남자는 파랑으로?"
      ],
      "id": "a388870a-434f-46cf-84cf-a505f7637a09"
    },
    {
      "cell_type": "code",
      "execution_count": 13,
      "metadata": {
        "tags": []
      },
      "outputs": [],
      "source": [
        "fig = go.Figure()\n",
        "bar_female = go.Bar(\n",
        "    x=['female'],\n",
        "    y=[0.42],\n",
        "    marker= {'color':'red'}\n",
        ")\n",
        "bar_male = go.Bar(\n",
        "    x=['male'],\n",
        "    y=[0.52],\n",
        "    marker= {'color':'blue'}    \n",
        ")\n",
        "layout = {'title':'버클리대학교의 남녀합격률','width':600}\n",
        "fig.add_trace(bar_female).add_trace(bar_male)\\\n",
        ".update_layout(layout)"
      ],
      "id": "2b977537-d785-4964-8f74-b92d5fcf989d"
    },
    {
      "cell_type": "markdown",
      "metadata": {},
      "source": [
        "`#`\n",
        "\n",
        "`# 예시8`: `go`를 이용한 시각화 – 색상재설정 + x축, y축, legend의\n",
        "title의 설정 + hover 설정\n",
        "\n",
        "-   색상설정: `#EF553B`,`#636efa`\n",
        "-   hovertemplate: `'gender=%{x}<br>rate=%{text}<extra></extra>'`"
      ],
      "id": "9ff82fdd-5346-495e-847e-f622c7678861"
    },
    {
      "cell_type": "code",
      "execution_count": 14,
      "metadata": {
        "tags": []
      },
      "outputs": [],
      "source": [
        "fig = go.Figure()\n",
        "bar_female = go.Bar(\n",
        "    x=['female'],\n",
        "    y=[0.42],\n",
        "    marker= {'color':'#EF553B'},\n",
        "    text =[0.42],\n",
        "    hovertemplate='gender=%{x}<br>rate=%{text}<extra></extra>',\n",
        "    name='female'\n",
        ")\n",
        "bar_male = go.Bar(\n",
        "    x=['male'],\n",
        "    y=[0.52],\n",
        "    marker= {'color':'#636efa'},\n",
        "    text= [0.52],\n",
        "    hovertemplate='gender=%{x}<br>rate=%{text}<extra></extra>',\n",
        "    name='male'\n",
        ")\n",
        "layout = {\n",
        "    'title':'버클리대학교의 남녀합격률',\n",
        "    'width':600,\n",
        "    'xaxis':{'title':'gender'},\n",
        "    'yaxis':{'title':'rate'}, \n",
        "    'legend':{'title':'gender'},     \n",
        "}\n",
        "fig.add_trace(bar_female).add_trace(bar_male)\\\n",
        ".update_layout(layout)"
      ],
      "id": "7df7cecd-c560-4b06-aa82-e6457b29819e"
    },
    {
      "cell_type": "markdown",
      "metadata": {},
      "source": [
        "`#`\n",
        "\n",
        "***궁금: `#EF553B` 이런거 어떻게 알았어?…***"
      ],
      "id": "14ea2419-1fee-41cf-a996-1c1085671c30"
    },
    {
      "cell_type": "code",
      "execution_count": 15,
      "metadata": {
        "tags": []
      },
      "outputs": [],
      "source": [
        "_fig = df.pivot_table(index='gender',columns='result',values='count',aggfunc='sum')\\\n",
        ".assign(rate = lambda df:  df['pass']/(df['fail']+df['pass']))\\\n",
        ".assign(rate = lambda df:  np.round(df['rate'],2))\\\n",
        ".loc[:,'rate'].reset_index()\\\n",
        ".plot.bar(\n",
        "    x='gender',\n",
        "    y='rate',\n",
        "    color='gender',\n",
        "    #---#\n",
        "    title = '버클리대학교 성별합격률',\n",
        "    width = 600\n",
        ")"
      ],
      "id": "98a9565f-b970-4409-b134-ae7600de9c1b"
    },
    {
      "cell_type": "code",
      "execution_count": 16,
      "metadata": {
        "tags": []
      },
      "outputs": [],
      "source": [
        "_fig.data"
      ],
      "id": "5e180bf4-78a0-48d7-a816-009a99b1ef80"
    },
    {
      "cell_type": "code",
      "execution_count": 17,
      "metadata": {
        "tags": []
      },
      "outputs": [],
      "source": [
        "_fig.layout"
      ],
      "id": "79614f9e-80e3-4ade-8dc2-273154588afc"
    },
    {
      "cell_type": "markdown",
      "metadata": {},
      "source": [
        "## D. `px` vs `go`\n",
        "\n",
        "`-` `go`는 핸드메이드 제품을 `px`는 양산품을 만든다고 이해하면 편리하다.\n",
        "\n",
        "-   `go`의 특징: 유저의 자유도가 매우 높음 (내가 직접 하는 느낌). 이는\n",
        "    그림의 크기, 색상 등을 선호에 맞게 조정하기 유리. 생산성이 낮음.\n",
        "-   `px`의 특징: 유저의 자유도가 낮음 (알아서 해주는 느낌). 원하는\n",
        "    그림을 빠르게 생산할 수 있음. 다만 내가 원하는 디자인이 나오지 않을\n",
        "    수 있음.\n",
        "\n",
        "`-` 뭘 써야 할까?\n",
        "\n",
        "-   `px`를 쓰는게 좋다.\n",
        "-   그런데 `go`를 이용하여 그림이 그려지는 원리를 이해하면 이후에 `px`를\n",
        "    이용한 그림을 수정하기 용이하다.\n",
        "-   전략: `px`로 그림을 그린다. + `go`로 수정한다.\n",
        "\n",
        "# 4. `pio`를 이용한 시각화\n",
        "\n",
        "## A. 함수의 입력 (예비학습)\n",
        "\n",
        "`예제1` – 두 벡터 x,y가 주어졌을때 `R`에서 cbind와 같은 역할을 하는\n",
        "함수를 구현하라.\n",
        "\n",
        "![](attachment:13wk-1_files/figure-ipynb/24ea9555-553e-4f7f-a586-1f02f07f15da-1-4a202b51-fe9c-4c61-bcc6-2442f586450d.png)"
      ],
      "attachments": {
        "13wk-1_files/figure-ipynb/24ea9555-553e-4f7f-a586-1f02f07f15da-1-4a202b51-fe9c-4c61-bcc6-2442f586450d.png": {
          "image/png": "[encoded data removed]"
        }
      },
      "id": "fe0999e4-989b-4b19-b409-f2c2daa64bbf"
    },
    {
      "cell_type": "code",
      "execution_count": 18,
      "metadata": {
        "tags": []
      },
      "outputs": [],
      "source": [
        "def cbind(x,y):\n",
        "    rslt = np.stack([x,y],axis=1)\n",
        "    return rslt "
      ],
      "id": "5a61c474-2423-4bd3-86fe-5c575023b3c3"
    },
    {
      "cell_type": "code",
      "execution_count": 19,
      "metadata": {
        "tags": []
      },
      "outputs": [],
      "source": [
        "cbind([2,3,4],[5,4,2])"
      ],
      "id": "5fc393cc-0beb-4771-890c-f9b2e192da17"
    },
    {
      "cell_type": "markdown",
      "metadata": {},
      "source": [
        "`#`\n",
        "\n",
        "`예제2` – 세개이상의 벡터가 온다면?\n",
        "\n",
        "`-` args를 이용하여 이후 입력을 받음"
      ],
      "id": "9d191963-c665-4850-96b1-1a05398f432a"
    },
    {
      "cell_type": "code",
      "execution_count": 20,
      "metadata": {
        "tags": []
      },
      "outputs": [],
      "source": [
        "def _cbind(x,y,*args):\n",
        "    print(args)\n",
        "    rslt = np.stack([x,y],axis=1)\n",
        "    return rslt "
      ],
      "id": "4af64988-610b-4875-bdac-c275f7d25c07"
    },
    {
      "cell_type": "code",
      "execution_count": 21,
      "metadata": {
        "tags": []
      },
      "outputs": [
        {
          "output_type": "stream",
          "name": "stdout",
          "text": [
            "([3, 3, 3], [4, 4, 4])"
          ]
        }
      ],
      "source": [
        "_cbind([1,1,1],[2,2,2],[3,3,3],[4,4,4])"
      ],
      "id": "c7318e66-db09-44d3-bb44-c2696d941a61"
    },
    {
      "cell_type": "markdown",
      "metadata": {},
      "source": [
        "-   args는 함수내부에서 “튜플”로 취급된다!!\n",
        "\n",
        "`-` args를 이용한 수정"
      ],
      "id": "d4b849cb-dfcb-481d-9de4-db05e481a795"
    },
    {
      "cell_type": "code",
      "execution_count": 22,
      "metadata": {
        "tags": []
      },
      "outputs": [],
      "source": [
        "def cbind(x,y,*args):\n",
        "    rslt = np.stack([x,y]+list(args),axis=1)\n",
        "    return rslt "
      ],
      "id": "170d0c0a-8e22-4fdf-a639-9dd1e6f8d678"
    },
    {
      "cell_type": "code",
      "execution_count": 23,
      "metadata": {
        "tags": []
      },
      "outputs": [],
      "source": [
        "cbind([1,1,1],[2,2,2],[3,3,3],[4,4,4])"
      ],
      "id": "767b7476-24e6-4d1a-93f2-27fb7972bdc1"
    },
    {
      "cell_type": "markdown",
      "metadata": {},
      "source": [
        "`#`\n",
        "\n",
        "`# 예제3` – 기본적으로는 cbind의 동작을 하지만 경우에 따라서 rbind처럼\n",
        "동작하길 원한다면?\n",
        "\n",
        "`-` `axis`라는 변수를 따로 생성하여 입력으로 처리, 기본값은 1"
      ],
      "id": "536f4cdc-e655-4b33-a7fa-d2e30590efd1"
    },
    {
      "cell_type": "code",
      "execution_count": 24,
      "metadata": {
        "tags": []
      },
      "outputs": [],
      "source": [
        "def bind(x,y,*args,axis=1):\n",
        "    rslt = np.stack([x,y]+list(args),axis=axis)\n",
        "    return rslt "
      ],
      "id": "ada66e66-2c12-45a0-b383-8e8537883faf"
    },
    {
      "cell_type": "code",
      "execution_count": 25,
      "metadata": {
        "tags": []
      },
      "outputs": [],
      "source": [
        "bind([1,1,1],[2,2,2],[3,3,3],axis=1)"
      ],
      "id": "4f1f9993-7b8d-4c62-a179-96041be5197e"
    },
    {
      "cell_type": "markdown",
      "metadata": {},
      "source": [
        "`#`\n",
        "\n",
        "`# 예제4` – 여러가지 추가옵션을 사용하여 print를 통제하고 싶다면?"
      ],
      "id": "67408933-0e38-488a-b4b5-cb5b892b9da3"
    },
    {
      "cell_type": "code",
      "execution_count": 26,
      "metadata": {
        "tags": []
      },
      "outputs": [],
      "source": [
        "def _bind(x,y,*args,axis=1,**kwargs):\n",
        "    print(kwargs)\n",
        "    rslt = np.stack([x,y]+list(args),axis=axis)\n",
        "    return rslt "
      ],
      "id": "856d7aeb-bd79-4313-9d41-09409219e1f2"
    },
    {
      "cell_type": "code",
      "execution_count": 27,
      "metadata": {
        "tags": []
      },
      "outputs": [
        {
          "output_type": "stream",
          "name": "stdout",
          "text": [
            "{}"
          ]
        }
      ],
      "source": [
        "_bind([1,1,1],[2,2,2],[3,3,3],axis=1)"
      ],
      "id": "795750d2-6c89-49fd-9132-a3a2a28c4c9a"
    },
    {
      "cell_type": "code",
      "execution_count": 28,
      "metadata": {
        "tags": []
      },
      "outputs": [
        {
          "output_type": "stream",
          "name": "stdout",
          "text": [
            "{'vb1': True, 'vb2': True, 'vb3': False, 'vb4': False}"
          ]
        }
      ],
      "source": [
        "_bind([1,1,1],[2,2,2],[3,3,3],axis=1,vb1=True,vb2=True,vb3=False,vb4=False)"
      ],
      "id": "d6409220-7ce4-4c0b-931f-79f684f10bde"
    },
    {
      "cell_type": "code",
      "execution_count": 29,
      "metadata": {
        "tags": []
      },
      "outputs": [],
      "source": [
        "def bind(x,y, *args, axis=1, **kwargs):\n",
        "    if ('vb1' in kwargs) and (kwargs['vb1'] == True):\n",
        "        print(f'위치인자: {x,y}')\n",
        "    if ('vb2' in kwargs) and (kwargs['vb2'] == True): \n",
        "        print(f'가변위치인자: {args}')\n",
        "    if ('vb3' in kwargs) and (kwargs['vb3'] == True): \n",
        "        print(f'키워드인자: {axis}')\n",
        "    if ('vb4' in kwargs) and (kwargs['vb4'] == True): \n",
        "        print(f'가변키워드인자: {kwargs}')   \n",
        "    rslt = np.stack([x,y]+list(args),axis=axis)\n",
        "    return rslt "
      ],
      "id": "2de50d78-2dfd-4847-981c-1ca3a446c27c"
    },
    {
      "cell_type": "code",
      "execution_count": 30,
      "metadata": {
        "tags": []
      },
      "outputs": [
        {
          "output_type": "stream",
          "name": "stdout",
          "text": [
            "위치인자: ([1, 1, 1], [2, 2, 2])\n",
            "가변위치인자: ([3, 3, 3],)\n",
            "키워드인자: 0\n",
            "가변키워드인자: {'vb1': True, 'vb2': True, 'vb3': True, 'vb4': True}"
          ]
        }
      ],
      "source": [
        "bind(\n",
        "    [1,1,1],[2,2,2],\n",
        "    [3,3,3],\n",
        "    axis=0,\n",
        "    vb1=True,vb2=True,vb3=True,vb4=True\n",
        ") "
      ],
      "id": "99f9f069-463c-47dc-af60-03e4d3bb3678"
    },
    {
      "cell_type": "markdown",
      "metadata": {},
      "source": [
        "`#`\n",
        "\n",
        "`# 예제5` – 위치인자를 키워드인자보다 뒤에 넣을 경우?"
      ],
      "id": "cecc793a-bd4f-407a-b9ad-02ea4fff41ee"
    },
    {
      "cell_type": "code",
      "execution_count": 31,
      "metadata": {
        "tags": []
      },
      "outputs": [],
      "source": [
        "bind(axis=0,[1,2,3],[2,3,4])"
      ],
      "id": "8ddbe374-1ad8-4421-a3ea-34e19aaeb90f"
    },
    {
      "cell_type": "code",
      "execution_count": 32,
      "metadata": {
        "tags": []
      },
      "outputs": [],
      "source": [
        "bind([1,2,3],[2,3,4],axis=0)"
      ],
      "id": "739f6584-fe16-4837-8551-ba596de22a9d"
    },
    {
      "cell_type": "code",
      "execution_count": 33,
      "metadata": {
        "tags": []
      },
      "outputs": [],
      "source": [
        "bind([1,2,3],[2,3,4],axis=0,[3,4,5])"
      ],
      "id": "141344e7-122d-4c73-b23a-09910acf7742"
    },
    {
      "cell_type": "markdown",
      "metadata": {},
      "source": [
        "`#`\n",
        "\n",
        "`# 예제6` – 가변키워드인자가 존재할 때, 키워드인자의 키를 잘못 입력할\n",
        "경우?"
      ],
      "id": "be6c15bc-9f89-43d2-b9f6-6b914b3db5c2"
    },
    {
      "cell_type": "code",
      "execution_count": 34,
      "metadata": {
        "tags": []
      },
      "outputs": [
        {
          "output_type": "stream",
          "name": "stdout",
          "text": [
            "위치인자: ([1, 2, 3], [2, 3, 4])\n",
            "가변위치인자: ()\n",
            "키워드인자: 1\n",
            "가변키워드인자: {'ax': 0, 'vb1': True, 'vb2': True, 'vb3': True, 'vb4': True}"
          ]
        }
      ],
      "source": [
        "bind([1,2,3],[2,3,4],ax=0,vb1=True,vb2=True,vb3=True,vb4=True)"
      ],
      "id": "43507636-ce26-4fc9-8ef3-33a4057e8ac2"
    },
    {
      "cell_type": "code",
      "execution_count": 35,
      "metadata": {
        "tags": []
      },
      "outputs": [],
      "source": [
        "bind([1,2,3],[2,3,4], verbose = True)"
      ],
      "id": "4d6ee15c-13f9-468d-ad65-badf26cd445c"
    },
    {
      "cell_type": "markdown",
      "metadata": {},
      "source": [
        "-   아무일없음"
      ],
      "id": "d4c15d59-8f97-4e3f-87cd-31609f409f99"
    },
    {
      "cell_type": "code",
      "execution_count": 36,
      "metadata": {
        "tags": []
      },
      "outputs": [],
      "source": [
        "bind([1,2,3],[2,3,4],axis=3)"
      ],
      "id": "bf47ebe8-c0eb-403a-8123-fcc1f68182af"
    },
    {
      "cell_type": "markdown",
      "metadata": {},
      "source": [
        "-   이건 문제가 있음\n",
        "\n",
        "`-` 요약\n",
        "\n",
        "-   함수의 입력은 꽤 복잡한 방식으로 동작한다.\n",
        "-   위치인자의 위치를 잘못 넣으면 동작하지 않는다.\n",
        "-   가변키워드 인자가 존재할 때, 키워드인자의 키를 다른이름으로 넣으면\n",
        "    에러가 발생하지 않는다. (그냥 무시)\n",
        "\n",
        "`#`\n",
        "\n",
        "`# 예제7` – 은근히 짜증났던 `plt.plot()`"
      ],
      "id": "ee87f4c1-f498-4fb4-9155-aa297acf6f22"
    },
    {
      "cell_type": "code",
      "execution_count": 37,
      "metadata": {
        "tags": []
      },
      "outputs": [
        {
          "output_type": "display_data",
          "metadata": {},
          "data": {
            "image/png": "[encoded data removed]"
          }
        }
      ],
      "source": [
        "plt.plot([1,2,3,4],[2,3,4,2],'r--')"
      ],
      "id": "46a64e91-8997-493c-af18-640fc18fb943"
    },
    {
      "cell_type": "code",
      "execution_count": 38,
      "metadata": {
        "tags": []
      },
      "outputs": [],
      "source": [
        "plt.plot([1,2,3,4],[2,3,4,2],color='lime','--')"
      ],
      "id": "fc34d458-c491-4889-aac3-cfcc3196e072"
    },
    {
      "cell_type": "code",
      "execution_count": 39,
      "metadata": {
        "tags": []
      },
      "outputs": [
        {
          "output_type": "display_data",
          "metadata": {},
          "data": {
            "image/png": "[encoded data removed]"
          }
        }
      ],
      "source": [
        "plt.plot([1,2,3,4],[2,3,4,2],'--',color='lime')"
      ],
      "id": "ed66ff6a-bbac-4cc5-83e3-25e985e52051"
    },
    {
      "cell_type": "markdown",
      "metadata": {},
      "source": [
        "`#`\n",
        "\n",
        "## B. dictionary + `pio.show()`\n",
        "\n",
        "`# 예제1` – dictionary + `pio.show()`"
      ],
      "id": "dabd1eaa-2ffd-440a-846d-575e4d753c65"
    },
    {
      "cell_type": "code",
      "execution_count": 40,
      "metadata": {
        "tags": []
      },
      "outputs": [],
      "source": [
        "fig = dict()\n",
        "fig['data'] = [\n",
        "    {'type':'bar','x':['female'],'y':[0.42]},\n",
        "    {'type':'bar','x':['male'],'y':[0.52]},\n",
        "]\n",
        "fig['layout'] = {\n",
        "    'title':{'text': '버클리대학교 성별합격률'},\n",
        "    'width':600\n",
        "}\n",
        "pio.show(fig) # pio.show에 필요한 입력들을 fig라는 이름의 딕셔너리로 전달하는 느낌"
      ],
      "id": "1bb6d9f1-6fcf-42e4-9e36-871ecc0e8d79"
    },
    {
      "cell_type": "markdown",
      "metadata": {},
      "source": [
        "기묘하다.. 마치 `pio.show()`에 필요한 kwargs를 fig라는 이름의 dict로\n",
        "전달하는 느낌임!!\n",
        "\n",
        "**요약: fig는 dictionary와 본질이 비슷하고, 이는 pio.show()에 전달할\n",
        "kwargs를 모아놓은 집합이다.**\n",
        "\n",
        "`#`\n",
        "\n",
        "`# 예제2` – `female`의 rate를 0.62로 수정\n",
        "\n",
        "`-` 아래의 그림을 그렸음."
      ],
      "id": "2cfbb6bb-807b-492c-b864-cd4c02c2ddd1"
    },
    {
      "cell_type": "code",
      "execution_count": 41,
      "metadata": {
        "tags": []
      },
      "outputs": [],
      "source": [
        "fig = dict()\n",
        "fig['data'] = [\n",
        "    {'type':'bar','x':['female'],'y':[0.42]},\n",
        "    {'type':'bar','x':['male'],'y':[0.52]},\n",
        "]\n",
        "fig['layout'] = {\n",
        "    'title':{'text': '버클리대학교 성별합격률'},\n",
        "    'width':600\n",
        "}\n",
        "pio.show(fig) # pio.show에 필요한 입력들을 fig라는 이름의 딕셔너리로 전달하는 느낌"
      ],
      "id": "37781080-7e99-422f-82b2-6cd70dd2b570"
    },
    {
      "cell_type": "markdown",
      "metadata": {},
      "source": [
        "`-` female의 rate을 0.42에서 0.62로 바꾸고 싶음."
      ],
      "id": "017b8ca4-3f17-4500-833c-ddcef93c3dc7"
    },
    {
      "cell_type": "code",
      "execution_count": 42,
      "metadata": {
        "tags": []
      },
      "outputs": [],
      "source": [
        "fig['data'][0]['y'] = [0.62]\n",
        "fig"
      ],
      "id": "ef47b52a-3c20-49c4-8253-6f9397677ea5"
    },
    {
      "cell_type": "code",
      "execution_count": 43,
      "metadata": {
        "tags": []
      },
      "outputs": [],
      "source": [
        "pio.show(fig)"
      ],
      "id": "ca3bea0f-0943-403c-82c9-5a66e2d1b85d"
    },
    {
      "cell_type": "markdown",
      "metadata": {},
      "source": [
        "`#`\n",
        "\n",
        "`# 예제3` – `fig`에 정리된 arg들이 전부는 아님\n",
        "\n",
        "`-` 아래의 그림을 다시 관찰하자."
      ],
      "id": "04420e06-511f-48e2-8da9-844b1e9ef6eb"
    },
    {
      "cell_type": "code",
      "execution_count": 44,
      "metadata": {
        "tags": []
      },
      "outputs": [],
      "source": [
        "fig = dict()\n",
        "fig['data'] = [\n",
        "    {'type':'bar','x':['female'],'y':[0.42]},\n",
        "    {'type':'bar','x':['male'],'y':[0.52]},\n",
        "]\n",
        "fig['layout'] = {\n",
        "    'title':{'text': '버클리대학교 성별합격률'},\n",
        "    'width':600\n",
        "}\n",
        "pio.show(fig) # pio.show에 필요한 입력들을 fig라는 이름의 딕셔너리로 전달하는 느낌"
      ],
      "id": "f19c5839-25e0-46c3-af4c-411c9358d2ce"
    },
    {
      "cell_type": "markdown",
      "metadata": {},
      "source": [
        "`-` 아래의 코드는 위와 같은 결과를 준다."
      ],
      "id": "ebe108ed-9c53-4c88-9100-80e2d4c5e011"
    },
    {
      "cell_type": "code",
      "execution_count": 45,
      "metadata": {
        "tags": []
      },
      "outputs": [],
      "source": [
        "fig = dict()\n",
        "fig['data'] = [\n",
        "    {'type':'bar','x':['female'],'y':[0.42],'marker':{'color':'#636efa'}},\n",
        "    {'type':'bar','x':['male'],'y':[0.52]},\n",
        "]\n",
        "fig['layout'] = {\n",
        "    'title':{'text': '버클리대학교 성별합격률'},\n",
        "    'width':600\n",
        "}\n",
        "pio.show(fig) # pio.show에 필요한 입력들을 fig라는 이름의 딕셔너리로 전달하는 느낌"
      ],
      "id": "eca9ad20-c3ac-4c47-b057-66df753480d8"
    },
    {
      "cell_type": "markdown",
      "metadata": {},
      "source": [
        "`-` `fig`에 아무것도 정의하지 않아도 함수는 동작함"
      ],
      "id": "8d60a5ea-3ff8-4117-8598-f651c9b23b2d"
    },
    {
      "cell_type": "code",
      "execution_count": 46,
      "metadata": {
        "tags": []
      },
      "outputs": [],
      "source": [
        "pio.show(fig=dict())"
      ],
      "id": "59aaa72c-bb23-499f-a03d-f046514619c5"
    },
    {
      "cell_type": "markdown",
      "metadata": {},
      "source": [
        "-   내부적으로 어떠한 값이 저장되어 있는 것임\n",
        "\n",
        "`#`\n",
        "\n",
        "# 5. `go`를 이용한 시각화\n",
        "\n",
        "## A. `pio`와 `go`의 연결"
      ],
      "id": "11f48e59-685b-458d-99dd-ea85bfc489cb"
    },
    {
      "cell_type": "code",
      "execution_count": 47,
      "metadata": {
        "tags": []
      },
      "outputs": [],
      "source": [
        "fig = dict()\n",
        "fig['data'] = [\n",
        "    {'type':'bar','x':['female'],'y':[0.42]},\n",
        "    {'type':'bar','x':['male'],'y':[0.52]},\n",
        "]\n",
        "fig['layout'] = {\n",
        "    'title':{'text': '버클리대학교 성별합격률'},\n",
        "    'width':600\n",
        "}\n",
        "pio.show(fig) # pio.show에 필요한 입력들을 fig라는 이름의 딕셔너리로 전달하는 느낌"
      ],
      "id": "9a3c48a5-1d6a-4a79-8a10-9a9d876eb6cc"
    },
    {
      "cell_type": "markdown",
      "metadata": {},
      "source": [
        "위의 코드와 동일한 효과를 주는 코드를 알아보자.\n",
        "\n",
        "`# 예제1` – data의 원소를 dict로 정리하여 추가"
      ],
      "id": "93d1bbf0-6ab8-4271-be89-446722e56a01"
    },
    {
      "cell_type": "code",
      "execution_count": 48,
      "metadata": {
        "tags": []
      },
      "outputs": [],
      "source": [
        "fig = dict()\n",
        "fig['data'] = list()\n",
        "bar_female = {'type':'bar','x':['female'],'y':[0.42]}\n",
        "bar_male = {'type':'bar','x':['male'],'y':[0.52]}\n",
        "fig['data'].append(bar_female)\n",
        "fig['data'].append(bar_male)\n",
        "fig['layout'] = {\n",
        "    'title':{'text': '버클리대학교 성별합격률'},\n",
        "    'width':600\n",
        "}\n",
        "pio.show(fig) # pio.show에 필요한 입력들을 fig라는 이름의 딕셔너리로 전달하는 느낌"
      ],
      "id": "00985b06-7370-4077-a968-7b8e289e4976"
    },
    {
      "cell_type": "markdown",
      "metadata": {},
      "source": [
        "`#`\n",
        "\n",
        "`# 예제2` – `go.Bar()`를 이용"
      ],
      "id": "602d432a-9c60-4543-8762-7f0d7cd51cea"
    },
    {
      "cell_type": "code",
      "execution_count": 49,
      "metadata": {
        "tags": []
      },
      "outputs": [],
      "source": [
        "fig = dict()\n",
        "fig['data'] = list()\n",
        "bar_female = go.Bar({'x':['female'],'y':[0.42]}) # bar_female = {'type':'bar','x':['female'],'y':[0.42]}\n",
        "bar_male = go.Bar({'x':['male'],'y':[0.52]}) # bar_male = {'type':'bar','x':['male'],'y':[0.52]}\n",
        "fig['data'].append(bar_female)\n",
        "fig['data'].append(bar_male)\n",
        "fig['layout'] = {\n",
        "    'title':{'text': '버클리대학교 성별합격률'},\n",
        "    'width':600\n",
        "}\n",
        "pio.show(fig) # pio.show에 필요한 입력들을 fig라는 이름의 딕셔너리로 전달하는 느낌"
      ],
      "id": "4befa51c-4258-4c04-8cbc-82a9c4f8a5a1"
    },
    {
      "cell_type": "markdown",
      "metadata": {},
      "source": [
        "`#`\n",
        "\n",
        "`# 예제3` – `go.Bar()`를 이용, `go.Figure()`+`add_trace()`이용"
      ],
      "id": "29728525-37bd-488f-a84b-25109a8907af"
    },
    {
      "cell_type": "code",
      "execution_count": 50,
      "metadata": {
        "tags": []
      },
      "outputs": [],
      "source": [
        "fig = go.Figure() # fig = dict()\n",
        "fig['data'] = tuple()\n",
        "bar_female = go.Bar({'x':['female'],'y':[0.42]}) # bar_female = {'type':'bar','x':['female'],'y':[0.42]}\n",
        "bar_male = go.Bar({'x':['male'],'y':[0.52]}) # bar_male = {'type':'bar','x':['male'],'y':[0.52]}\n",
        "fig.add_trace(bar_female) # fig['data'].append(bar_female)\n",
        "fig.add_trace(bar_male) # fig['data'].append(bar_male)\n",
        "fig['layout'] = {\n",
        "    'title':{'text': '버클리대학교 성별합격률'},\n",
        "    'width':600\n",
        "}\n",
        "fig # fig.show() # pio.show(fig) # pio.show에 필요한 입력들을 fig라는 이름의 딕셔너리로 전달하는 느낌"
      ],
      "id": "0562e928-9b8c-4939-bae0-9fbe5d139f10"
    },
    {
      "cell_type": "markdown",
      "metadata": {},
      "source": [
        "`# 예제4` – `go.Bar()`를 다르게 선언하여 이용,\n",
        "`go.Figure()`+`add_trace()`이용"
      ],
      "id": "b9094357-ea6d-47f9-b78f-3b599c93618b"
    },
    {
      "cell_type": "code",
      "execution_count": 51,
      "metadata": {
        "tags": []
      },
      "outputs": [],
      "source": [
        "fig = go.Figure() # fig = dict()\n",
        "bar_female = go.Bar(x=['female'],y=[0.42])  # bar_female = go.Bar({'x':['female'],'y':[0.42]}) \n",
        "bar_male = go.Bar(x=['male'],y=[0.52])  # bar_male = go.Bar({'x':['male'],'y':[0.52]}) \n",
        "fig.add_trace(bar_female)\n",
        "fig.add_trace(bar_male) \n",
        "fig['layout'] = {\n",
        "    'title':{'text': '버클리대학교 성별합격률'},\n",
        "    'width':600\n",
        "}\n",
        "fig # fig.show() # pio.show(fig) # pio.show에 필요한 입력들을 fig라는 이름의 딕셔너리로 전달하는 느낌"
      ],
      "id": "b8a55d91-f76d-4153-81ed-7f882ab1bd09"
    },
    {
      "cell_type": "markdown",
      "metadata": {},
      "source": [
        "`#`\n",
        "\n",
        "`# 예제5` – `go.Bar()`를 사용X, `go.Figure()`+`add_trace()`이용"
      ],
      "id": "07a3ed48-4e04-4818-9311-e00ceee1d5c9"
    },
    {
      "cell_type": "code",
      "execution_count": 52,
      "metadata": {
        "tags": []
      },
      "outputs": [],
      "source": [
        "fig = go.Figure() # fig = dict()\n",
        "bar_female = {'type':'bar','x':['female'],'y':[0.42]}\n",
        "bar_male = {'type':'bar','x':['male'],'y':[0.52]}\n",
        "fig.add_trace(bar_female)\n",
        "fig.add_trace(bar_male) \n",
        "fig['layout'] = {\n",
        "    'title':{'text': '버클리대학교 성별합격률'},\n",
        "    'width':600\n",
        "}\n",
        "fig # fig.show() # pio.show(fig) # pio.show에 필요한 입력들을 fig라는 이름의 딕셔너리로 전달하는 느낌"
      ],
      "id": "376f05de-5319-43b4-a32d-cb88c7e5cdee"
    },
    {
      "cell_type": "markdown",
      "metadata": {},
      "source": [
        "`#`\n",
        "\n",
        "`# 예제6` – `go.Bar()`를 이용, `go.Figure()`+`add_traces()`이용"
      ],
      "id": "dd23d4f8-3800-49d0-98fa-7adeba5070d1"
    },
    {
      "cell_type": "code",
      "execution_count": 53,
      "metadata": {
        "tags": []
      },
      "outputs": [],
      "source": [
        "fig = go.Figure() # fig = dict()\n",
        "bar_female = go.Bar(x=['female'],y=[0.42])\n",
        "bar_male = go.Bar(x=['male'],y=[0.52])\n",
        "fig.add_traces([bar_female,bar_male])\n",
        "fig['layout'] = {\n",
        "    'title':{'text': '버클리대학교 성별합격률'},\n",
        "    'width':600\n",
        "}\n",
        "fig "
      ],
      "id": "7b238e1d-9744-474e-b6bf-e0a0966dcd40"
    },
    {
      "cell_type": "markdown",
      "metadata": {},
      "source": [
        "`#`\n",
        "\n",
        "`# 예제7` – `go.Bar()`를 이용,`go.Figure()`+`add_traces()`이용\n",
        ",`update_layout()`이용"
      ],
      "id": "98a9fdd7-6b02-4830-b892-4f330591e436"
    },
    {
      "cell_type": "code",
      "execution_count": 54,
      "metadata": {
        "tags": []
      },
      "outputs": [],
      "source": [
        "fig = go.Figure() # fig = dict()\n",
        "bar_female = go.Bar(x=['female'],y=[0.42])\n",
        "bar_male = go.Bar(x=['male'],y=[0.52])\n",
        "fig.add_traces([bar_female,bar_male])\n",
        "fig.update_layout(\n",
        "     {'title':{'text': '버클리대학교 성별합격률'},'width':600}\n",
        ")\n",
        "fig "
      ],
      "id": "dc675e4e-fcd8-4854-9390-182bd6ffa833"
    },
    {
      "cell_type": "markdown",
      "metadata": {},
      "source": [
        "`#`\n",
        "\n",
        "`# 예제8` – `go.Bar()`를 이용, `go.Figure()`+`add_traces()`이용,\n",
        "`update_layout()`의 다른이용"
      ],
      "id": "9acc6358-87e8-48ec-907f-3b5caf1edede"
    },
    {
      "cell_type": "code",
      "execution_count": 55,
      "metadata": {
        "tags": []
      },
      "outputs": [],
      "source": [
        "fig = go.Figure() # fig = dict()\n",
        "bar_female = go.Bar(x=['female'],y=[0.42])\n",
        "bar_male = go.Bar(x=['male'],y=[0.52])\n",
        "fig.add_traces([bar_female,bar_male])\n",
        "fig.update_layout(\n",
        "    title={'text': '버클리대학교 성별합격률'},\n",
        "    width=600\n",
        ")\n",
        "fig "
      ],
      "id": "00bce9bb-58d5-4532-ad7e-0900c998eb2d"
    },
    {
      "cell_type": "markdown",
      "metadata": {},
      "source": [
        "`#`\n",
        "\n",
        "## B. `go`를 이용하는 추천포맷"
      ],
      "id": "f7671214-e312-4a2e-a9db-a5b0e2b4e222"
    },
    {
      "cell_type": "code",
      "execution_count": 56,
      "metadata": {
        "tags": []
      },
      "outputs": [],
      "source": [
        "fig = go.Figure()\n",
        "fig.add_traces(\n",
        "    [go.Bar(x=['female'], y= [0.42], name='female'),\n",
        "     go.Bar(x=['male'], y= [0.52], name='male')]\n",
        ")\n",
        "fig.update_layout(\n",
        "    width = 600,\n",
        "    legend = {'title':{'text':'gender'}}\n",
        ")"
      ],
      "id": "bd573078-c911-4693-80c0-ea10670b7a3b"
    },
    {
      "cell_type": "markdown",
      "metadata": {},
      "source": [
        "# 6. HW\n",
        "\n",
        "``` python\n",
        "fig = go.Figure()\n",
        "fig.add_traces(\n",
        "    [go.Bar(x=['female'], y= [0.42], name='female'),\n",
        "     go.Bar(x=['male'], y= [0.52], name='male')]\n",
        ")\n",
        "fig.update_layout(\n",
        "    width = 600,\n",
        "    legend = {'title':{'text':'gender'}}\n",
        ")\n",
        "```\n",
        "\n",
        "위의 코드를 적절하게 수정하여 아래의 결과를 만들어라.\n",
        "\n",
        "![](attachment:13wk-1_files/figure-ipynb/f9478762-112c-40c2-a2eb-335368114911-1-ad3ff330-260c-483c-8d09-6efda90b0a96.png)\n",
        "\n",
        "> Note: x,y축의 이름이 수정되었음."
      ],
      "attachments": {
        "13wk-1_files/figure-ipynb/f9478762-112c-40c2-a2eb-335368114911-1-ad3ff330-260c-483c-8d09-6efda90b0a96.png": {
          "image/png": "[encoded data removed]"
        }
      },
      "id": "379212b0-e54e-402b-b7c8-0e750c7e56ef"
    }
  ],
  "nbformat": 4,
  "nbformat_minor": 5,
  "metadata": {
    "kernelspec": {
      "name": "python3",
      "display_name": "Python 3 (ipykernel)",
      "language": "python"
    },
    "language_info": {
      "name": "python",
      "codemirror_mode": {
        "name": "ipython",
        "version": "3"
      },
      "file_extension": ".py",
      "mimetype": "text/x-python",
      "nbconvert_exporter": "python",
      "pygments_lexer": "ipython3",
      "version": "3.10.13"
    }
  }
}