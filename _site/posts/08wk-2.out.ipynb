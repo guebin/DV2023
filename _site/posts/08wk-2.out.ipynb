{
  "cells": [
    {
      "cell_type": "markdown",
      "metadata": {},
      "source": [
        "# 08wk-2: Pandas – `groupby`, 데이터프레임의 결합\n",
        "\n",
        "최규빈  \n",
        "2023-10-25\n",
        "\n",
        "<a href=\"https://colab.research.google.com/github/guebin/DV2023/blob/main/posts/08wk-2.ipynb\"><img src=\"https://colab.research.google.com/assets/colab-badge.svg\" style=\"text-align: left\"></a>\n",
        "\n",
        "# 1. 강의영상\n",
        "\n",
        "<https://youtu.be/playlist?list=PLQqh36zP38-y9urI5GRsnJd1ERI3k2K5B&si=8GWtBaGXOXQgmo-6>\n",
        "\n",
        "# 2. Imports"
      ],
      "id": "4f7cf6d9-e964-442e-b8cc-a6ca78e56940"
    },
    {
      "cell_type": "code",
      "execution_count": 2,
      "metadata": {
        "tags": []
      },
      "outputs": [],
      "source": [
        "import pandas as pd \n",
        "import numpy as np"
      ],
      "id": "cell-5"
    },
    {
      "cell_type": "markdown",
      "metadata": {},
      "source": [
        "# 3. `groupby`\n",
        "\n",
        "## A. DataFrameGroupBy\n",
        "\n",
        "`-` `groupby` + `agg` 의 복습"
      ],
      "id": "65ff76f3-b367-41db-80a0-3f1202d8e432"
    },
    {
      "cell_type": "code",
      "execution_count": 3,
      "metadata": {
        "tags": []
      },
      "outputs": [],
      "source": [
        "df = pd.DataFrame({'department':['A','A','B','B'], 'gender':['male','female','male','female'],'count':[1,2,3,1]})\n",
        "df"
      ],
      "id": "cell-9"
    },
    {
      "cell_type": "code",
      "execution_count": 7,
      "metadata": {
        "tags": []
      },
      "outputs": [],
      "source": [
        "df.groupby('department').agg({'count':'sum'})"
      ],
      "id": "cell-10"
    },
    {
      "cell_type": "markdown",
      "metadata": {},
      "source": [
        "`-` 의문: 위의 코드에서 `df.groupby('department')`는 어떤 object일까?"
      ],
      "id": "371cb588-bbbc-456a-96cb-71da0e3f8cc6"
    },
    {
      "cell_type": "code",
      "execution_count": 9,
      "metadata": {
        "tags": []
      },
      "outputs": [],
      "source": [
        "g = df.groupby('department')\n",
        "g"
      ],
      "id": "cell-12"
    },
    {
      "cell_type": "code",
      "execution_count": 29,
      "metadata": {
        "tags": []
      },
      "outputs": [],
      "source": [
        "set(dir(g)) & {'__iter__'} # g는 반복문을 돌리기 유리하게 설계되어 있음"
      ],
      "id": "cell-13"
    },
    {
      "cell_type": "code",
      "execution_count": 26,
      "metadata": {
        "tags": []
      },
      "outputs": [],
      "source": [
        "list(g) # for문의 반복인자는 ('A',sub-dataframe)와 같은 형식의 tuple임"
      ],
      "id": "cell-14"
    },
    {
      "cell_type": "markdown",
      "metadata": {},
      "source": [
        "오브젝트 `g`는\n",
        "\n",
        "1.  sub-dataframe 이 모여있는 묶음체이다.\n",
        "2.  반복문을 돌리기에 용이하도록 고안되어있다. (이때 각 반복인자는\n",
        "    `(묵음기준,sub-dataframe)`의 튜플로 이루어져 있음)\n",
        "\n",
        "`-` 제가 이해하는 방식"
      ],
      "id": "60de8e4f-8d58-4366-88ee-6ea5fbb9edd4"
    },
    {
      "cell_type": "code",
      "execution_count": 36,
      "metadata": {
        "tags": []
      },
      "outputs": [],
      "source": [
        "dct = {k:df for k,df in g}\n",
        "dct "
      ],
      "id": "cell-17"
    },
    {
      "cell_type": "code",
      "execution_count": 38,
      "metadata": {
        "tags": []
      },
      "outputs": [],
      "source": [
        "display(dct['A'])\n",
        "display(dct['B'])"
      ],
      "id": "cell-18"
    },
    {
      "cell_type": "markdown",
      "metadata": {},
      "source": [
        "## B. `g`를 이용하는 방법\n",
        "\n",
        "`# 예시1`: `g`를 이용하여 원래의 df를 복원하라."
      ],
      "id": "2b9cde36-f16a-4eb1-a165-e905dc1efb09"
    },
    {
      "cell_type": "code",
      "execution_count": 39,
      "metadata": {
        "tags": []
      },
      "outputs": [],
      "source": [
        "df = pd.DataFrame({'department':['A','A','B','B'], 'gender':['male','female','male','female'],'count':[1,2,3,1]})\n",
        "g = df.groupby('department')"
      ],
      "id": "cell-21"
    },
    {
      "cell_type": "markdown",
      "metadata": {},
      "source": [
        "(풀이)"
      ],
      "id": "1b8faf7a-724b-4264-becc-140d33abe726"
    },
    {
      "cell_type": "code",
      "execution_count": 44,
      "metadata": {
        "tags": []
      },
      "outputs": [],
      "source": [
        "pd.concat([df for _,df in g])"
      ],
      "id": "cell-23"
    },
    {
      "cell_type": "markdown",
      "metadata": {},
      "source": [
        "`#`\n",
        "\n",
        "`# 예시2`: `g`를 이용하여 아래와 동일한 기능을 하는 코드를 작성하라.\n",
        "(agg 함수 사용금지)"
      ],
      "id": "dfdb803d-99b8-4615-a014-7faa6d29e02c"
    },
    {
      "cell_type": "code",
      "execution_count": 45,
      "metadata": {
        "tags": []
      },
      "outputs": [],
      "source": [
        "df = pd.DataFrame({'department':['A','A','B','B'], 'gender':['male','female','male','female'],'count':[1,2,3,1]})\n",
        "df.groupby('department').agg({'count':'sum'})"
      ],
      "id": "cell-26"
    },
    {
      "cell_type": "markdown",
      "metadata": {},
      "source": [
        "(풀이)"
      ],
      "id": "91773a8a-98cc-411d-87a5-425f5c224798"
    },
    {
      "cell_type": "code",
      "execution_count": 48,
      "metadata": {
        "tags": []
      },
      "outputs": [],
      "source": [
        "g = df.groupby('department')\n",
        "g"
      ],
      "id": "cell-28"
    },
    {
      "cell_type": "code",
      "execution_count": 57,
      "metadata": {
        "tags": []
      },
      "outputs": [],
      "source": [
        "pd.DataFrame(pd.Series({k:df['count'].sum() for k,df in g}))"
      ],
      "id": "cell-29"
    },
    {
      "cell_type": "markdown",
      "metadata": {},
      "source": [
        "`#`\n",
        "\n",
        "`# 예시3`: 아래는 데이터프레임이 있다고 치자. 이 데이터프레임을 `class`\n",
        "를 기준으로 그룹핑하여 sub-dataframe을 만들고 score가 높은 순서로\n",
        "정렬하는 코드를 작성하라."
      ],
      "id": "2472336d-5572-4196-8a9c-ff914a1c64a5"
    },
    {
      "cell_type": "code",
      "execution_count": 58,
      "metadata": {
        "tags": []
      },
      "outputs": [],
      "source": [
        "df = pd.DataFrame({'class':['A']*5+['B']*5, 'id':[0,1,2,3,4]*2, 'score':[60,20,40,60,90,20,30,90,95,95]})\n",
        "df"
      ],
      "id": "cell-32"
    },
    {
      "cell_type": "markdown",
      "metadata": {},
      "source": [
        "(풀이)"
      ],
      "id": "9a1e0714-d8ed-4ea9-a2e7-d27b191e28ee"
    },
    {
      "cell_type": "code",
      "execution_count": 62,
      "metadata": {
        "tags": []
      },
      "outputs": [],
      "source": [
        "pd.concat([df.sort_values('score',ascending=False) for k,df in df.groupby('class')])"
      ],
      "id": "cell-34"
    },
    {
      "cell_type": "markdown",
      "metadata": {},
      "source": [
        "`#`\n",
        "\n",
        "# 4. `concat`"
      ],
      "id": "abdc4b91-5c26-4606-b4ed-ab7c78802b08"
    },
    {
      "cell_type": "code",
      "execution_count": 95,
      "metadata": {
        "tags": []
      },
      "outputs": [],
      "source": [
        "pass "
      ],
      "id": "cell-37"
    },
    {
      "cell_type": "markdown",
      "metadata": {},
      "source": [
        "# 5. `merge`\n",
        "\n",
        "## A. 가장 빈번하게 사용하는 상황\n",
        "\n",
        "`# 예시1` – `big` dataframe에 `groupby`+`agg`를 사용하여 `small`\n",
        "dataframe이 생긴경우"
      ],
      "id": "67c72c84-81dd-43ec-a13c-1e946edde211"
    },
    {
      "cell_type": "code",
      "execution_count": 79,
      "metadata": {
        "tags": []
      },
      "outputs": [],
      "source": [
        "big = pd.DataFrame({'department':['A','A','B','B'], 'gender':['male','female','male','female'],'count':[1,2,3,1]})\n",
        "small = pd.DataFrame({'department':['A','B'], 'count_sum':[3,4]})"
      ],
      "id": "cell-41"
    },
    {
      "cell_type": "code",
      "execution_count": 80,
      "metadata": {
        "tags": []
      },
      "outputs": [],
      "source": [
        "display(\"big\",big)\n",
        "display(\"small\",small)"
      ],
      "id": "cell-42"
    },
    {
      "cell_type": "markdown",
      "metadata": {},
      "source": [
        "`-` 정보를 종합하기 위해서는 아래와 같이 하면 된다."
      ],
      "id": "1dce318f-60af-4f32-ac35-d58a299fc0db"
    },
    {
      "cell_type": "code",
      "execution_count": 81,
      "metadata": {
        "tags": []
      },
      "outputs": [],
      "source": [
        "pd.merge(big,small)\n",
        "big.merge(small)\n",
        "#---#\n",
        "pd.merge(small,big)\n",
        "small.merge(big)"
      ],
      "id": "cell-44"
    },
    {
      "cell_type": "markdown",
      "metadata": {},
      "source": [
        "`-` merge에 대한 약간의 개념\n",
        "\n",
        "-   상황: 두 데이터프레임은 특정한 **IndexLabel**에 대하여 **서로 다른\n",
        "    정보**를 각각 정리한 상황\n",
        "-   원리: (1) 연결고리파악: 두 데이터프레임에서 공통인 열(IndexLabel)을\n",
        "    찾는다. (2) 병합: 연결고리를 기준으로 데이터의 정보를 병합한다.\n",
        "\n",
        "**이 예시의 경우**\n",
        "\n",
        "-   IndexLabel = 연결고리 = 공통의열 = `department`\n",
        "-   서로다른정보들: 이 예제에서 big은 `department`에 대한 `gender`와\n",
        "    `count`를 정리하고 있음. 그리고 small은 `department`에 대한\n",
        "    `count_sum`을 정리하고 있음. 이는 서로 다른 정보임.\n",
        "\n",
        "***배울게 좀 더 남음: 사실 아래는 같은 코드이다.***"
      ],
      "id": "ab0fcd71-2be7-4d15-a6b8-28bd0ca33bb9"
    },
    {
      "cell_type": "code",
      "execution_count": 86,
      "metadata": {
        "tags": []
      },
      "outputs": [],
      "source": [
        "pd.merge(big,small)\n",
        "pd.merge(big,small, on='department')"
      ],
      "id": "cell-48"
    },
    {
      "cell_type": "markdown",
      "metadata": {},
      "source": [
        "`#`\n",
        "\n",
        "## B. 여러가지 파라메터\n",
        "\n",
        "`# 예시1` – on"
      ],
      "id": "bbf5c472-2e83-4993-8027-835439e6c32f"
    },
    {
      "cell_type": "code",
      "execution_count": 92,
      "metadata": {
        "tags": []
      },
      "outputs": [],
      "source": [
        "big = pd.DataFrame({'department':['A','A','B','B'], 'gender':['male','female','male','female'],'count':[1,2,3,1]})\n",
        "small = big.groupby('department').agg({'count':'sum'}).reset_index()\n",
        "display(\"big\",big)\n",
        "display(\"small\",small)"
      ],
      "id": "cell-52"
    },
    {
      "cell_type": "markdown",
      "metadata": {},
      "source": [
        "`-` 잘못된 코드"
      ],
      "id": "44f0536e-b2c2-466b-aba8-6a67d2727704"
    },
    {
      "cell_type": "code",
      "execution_count": 97,
      "metadata": {
        "tags": []
      },
      "outputs": [],
      "source": [
        "pd.merge(big,small)"
      ],
      "id": "cell-54"
    },
    {
      "cell_type": "markdown",
      "metadata": {},
      "source": [
        "`-` 올바른 코드"
      ],
      "id": "0494ceae-f01c-4e2b-9d78-63c5e7e833c1"
    },
    {
      "cell_type": "code",
      "execution_count": 100,
      "metadata": {
        "tags": []
      },
      "outputs": [],
      "source": [
        "pd.merge(big,small,on='department')"
      ],
      "id": "cell-56"
    },
    {
      "cell_type": "markdown",
      "metadata": {},
      "source": [
        "`*` 더(?) 올바른 코드 – 좀 더 제 스타일의 코드"
      ],
      "id": "81c851f8-8e09-4d61-94ed-51de1b2c3173"
    },
    {
      "cell_type": "code",
      "execution_count": 105,
      "metadata": {
        "tags": []
      },
      "outputs": [],
      "source": [
        "pd.merge(big,small.rename({'count':'count_sum'},axis=1))"
      ],
      "id": "cell-58"
    },
    {
      "cell_type": "markdown",
      "metadata": {},
      "source": [
        "***배울게 좀 더 남음: 사실 아래는 같은 코드이다.***"
      ],
      "id": "965ab7ac-ff15-4cb1-a912-39e00f1c3c42"
    },
    {
      "cell_type": "code",
      "execution_count": 108,
      "metadata": {
        "tags": []
      },
      "outputs": [],
      "source": [
        "pd.merge(big,small,on='department')\n",
        "pd.merge(big,small,left_on='department', right_on='department')"
      ],
      "id": "cell-60"
    },
    {
      "cell_type": "markdown",
      "metadata": {},
      "source": [
        "`#`\n",
        "\n",
        "`# 예시2` – left_on, right_on"
      ],
      "id": "400f3bc1-e233-4f01-a4f8-b6966e5bd9d3"
    },
    {
      "cell_type": "code",
      "execution_count": 110,
      "metadata": {
        "tags": []
      },
      "outputs": [],
      "source": [
        "big = pd.DataFrame({'department':['A','A','B','B'], 'gender':['male','female','male','female'],'count':[1,2,3,1]})\n",
        "small = pd.DataFrame({'dept':['A','B'], 'count':[3,4]})\n",
        "display(\"big\",big)\n",
        "display(\"small\",small)"
      ],
      "id": "cell-63"
    },
    {
      "cell_type": "markdown",
      "metadata": {},
      "source": [
        "-   공통의 열이 오히려 ‘count’ 이고 서로 다른 정보들은\n",
        "    ‘gender’,‘department’,‘dept’ 이다.\n",
        "\n",
        "`-` 잘못된 코드"
      ],
      "id": "204a6a93-b0e5-47a9-bce2-5b3c23ac0ae8"
    },
    {
      "cell_type": "code",
      "execution_count": 112,
      "metadata": {
        "tags": []
      },
      "outputs": [],
      "source": [
        "pd.merge(big,small)"
      ],
      "id": "cell-66"
    },
    {
      "cell_type": "markdown",
      "metadata": {},
      "source": [
        "`-` 올바른 코드"
      ],
      "id": "dd66d4ba-7be4-4380-9971-98c7c5321302"
    },
    {
      "cell_type": "code",
      "execution_count": 126,
      "metadata": {
        "tags": []
      },
      "outputs": [],
      "source": [
        "pd.merge(big,small,left_on='department',right_on='dept')"
      ],
      "id": "cell-68"
    },
    {
      "cell_type": "markdown",
      "metadata": {},
      "source": [
        "`*` 좀 더 제 스타일의 코드"
      ],
      "id": "3556669a-6f59-4a28-bedf-84012895082e"
    },
    {
      "cell_type": "code",
      "execution_count": 118,
      "metadata": {
        "tags": []
      },
      "outputs": [],
      "source": [
        "pd.merge(big,small.set_axis(['department','count_sum'],axis=1))"
      ],
      "id": "cell-70"
    },
    {
      "cell_type": "markdown",
      "metadata": {},
      "source": [
        "`#`\n",
        "\n",
        "`# 예제3`: how"
      ],
      "id": "e7433962-bcc7-4c3a-a20f-9c56025dd72b"
    },
    {
      "cell_type": "code",
      "execution_count": 128,
      "metadata": {
        "tags": []
      },
      "outputs": [],
      "source": [
        "df1 = pd.DataFrame({\n",
        "    'dept':['통계','수학','과학','IAB'], \n",
        "    'count':[20,30,25,50]\n",
        "})\n",
        "df2 = pd.DataFrame({\n",
        "    'dept':['통계','수학','과학','신설학과'], \n",
        "    'desc':['통계학과는...','수학과는...','과학학과는...','이 학과는 내년에 신설될 예정이고...']\n",
        "})\n",
        "display(\"df1\",df1)\n",
        "display(\"df2\",df2)"
      ],
      "id": "cell-73"
    },
    {
      "cell_type": "markdown",
      "metadata": {},
      "source": [
        "-   공통의열인 `dept`와 서로다른 정보인 `count`, `desc` 들의 이름이\n",
        "    예쁘게 정리되어 있어 `on`, `left_on`, `right_on` 와 같은 파라메터를\n",
        "    사용할 필요가 없다."
      ],
      "id": "491ceb46-b02a-4d6c-9690-d48f70bced10"
    },
    {
      "cell_type": "code",
      "execution_count": 130,
      "metadata": {
        "tags": []
      },
      "outputs": [],
      "source": [
        "pd.merge(df1,df2) # IAB, 신설학과는 사라짐"
      ],
      "id": "cell-75"
    },
    {
      "cell_type": "markdown",
      "metadata": {},
      "source": [
        "`-` 상황: IAB 학과는 df1에만, 신설학과는 df2에만 존재한다. $\\to$ IAB와\n",
        "신설학과를 처리하는 방식에 따라서 4가지 경우로 나누어진다."
      ],
      "id": "d9f23e91-e77e-482e-9499-a037a8394efd"
    },
    {
      "cell_type": "code",
      "execution_count": 133,
      "metadata": {
        "tags": []
      },
      "outputs": [],
      "source": [
        "# 경우1: 두 학과 모두 제거 = 두 데이터프레임의 공통만 취함\n",
        "pd.merge(df1,df2)\n",
        "pd.merge(df1,df2,how='inner')"
      ],
      "id": "cell-77"
    },
    {
      "cell_type": "code",
      "execution_count": 134,
      "metadata": {
        "tags": []
      },
      "outputs": [],
      "source": [
        "# 경우2: IAB만 살림 = 왼쪽 데이터프레임에 포함된 모든 학과는 살림\n",
        "pd.merge(df1,df2)\n",
        "pd.merge(df1,df2,how='left')"
      ],
      "id": "cell-78"
    },
    {
      "cell_type": "code",
      "execution_count": 138,
      "metadata": {
        "tags": []
      },
      "outputs": [],
      "source": [
        "# 경우3: 신설학과만 살람 = 오른쪽 데이터프레임에 포함된 모든학과를 살람\n",
        "pd.merge(df1,df2)\n",
        "pd.merge(df1,df2,how='right')"
      ],
      "id": "cell-79"
    },
    {
      "cell_type": "code",
      "execution_count": 136,
      "metadata": {
        "tags": []
      },
      "outputs": [],
      "source": [
        "# 경우4: 두 학과 모두 살림\n",
        "pd.merge(df1,df2)\n",
        "pd.merge(df1,df2,how='outer')"
      ],
      "id": "cell-80"
    },
    {
      "cell_type": "markdown",
      "metadata": {},
      "source": [
        "# 6. `concat`, `merge` 를 이용한 데이터 합치기\n",
        "\n",
        "`# 예제` – 전북대학교 통계학과 교과목\n",
        "\n",
        "주어진 자료가 아래와 같다."
      ],
      "id": "49d3bbe4-b6c7-4d66-9e97-cfd4408296f8"
    },
    {
      "cell_type": "code",
      "execution_count": 140,
      "metadata": {
        "tags": []
      },
      "outputs": [],
      "source": [
        "df_course2023 = pd.DataFrame({\n",
        "    'name':['최규빈']*3+['최혜미']*2+['이영미']+['양성준'],\n",
        "    'year':[2023]*7,\n",
        "    'course':['파이썬프로그래밍', '데이터시각화', '기계학습활용','수리통계1', '수리통계2','회귀분석1','통계수학']})\n",
        "df_course2023"
      ],
      "id": "cell-84"
    },
    {
      "cell_type": "code",
      "execution_count": 141,
      "metadata": {
        "tags": []
      },
      "outputs": [],
      "source": [
        "df_course2024 = pd.DataFrame({\n",
        "    'name':['최규빈','이영미','이영미','양성준','최혜미'],\n",
        "    'year':[2024]*5,\n",
        "    'course':['기계학습활용','수리통계1', '수리통계2','회귀분석1','통계수학']})\n",
        "df_course2024"
      ],
      "id": "cell-85"
    },
    {
      "cell_type": "code",
      "execution_count": 142,
      "metadata": {
        "tags": []
      },
      "outputs": [],
      "source": [
        "df_score = pd.DataFrame({\n",
        "    'name':['최규빈','최규빈','이영미','이영미','양성준','양성준','최혜미','최혜미'],\n",
        "    'year':[2023,2024]*4,\n",
        "    'score':[1, 1.2, 5,5,5,5,5,5]})\n",
        "df_score"
      ],
      "id": "cell-86"
    },
    {
      "cell_type": "code",
      "execution_count": 150,
      "metadata": {
        "tags": []
      },
      "outputs": [],
      "source": [
        "df_sex = pd.DataFrame({'name':['최규빈','이영미','양성준','최혜미'],\n",
        "                        'sex':['male','female','male','female']})\n",
        "df_sex"
      ],
      "id": "cell-87"
    },
    {
      "cell_type": "markdown",
      "metadata": {},
      "source": [
        "주어진 정보를 바탕으로, 4개의 데이터 프레임을 결합하라.\n",
        "\n",
        "(풀이)"
      ],
      "id": "9d4f3dd2-815f-4988-935f-9def03cd70a3"
    },
    {
      "cell_type": "code",
      "execution_count": 152,
      "metadata": {
        "tags": []
      },
      "outputs": [],
      "source": [
        "pd.concat([df_course2023,df_course2024])\\\n",
        ".merge(df_score, on=['name','year'])\\\n",
        ".merge(df_sex, on='name')"
      ],
      "id": "cell-90"
    },
    {
      "cell_type": "markdown",
      "metadata": {},
      "source": [
        "`#`\n",
        "\n",
        "# 7. HW\n",
        "\n",
        "없음"
      ],
      "id": "96b6e921-e478-4b08-b862-9cc7c726912c"
    }
  ],
  "nbformat": 4,
  "nbformat_minor": 5,
  "metadata": {
    "kernelspec": {
      "name": "python3",
      "display_name": "Python 3 (ipykernel)",
      "language": "python"
    },
    "language_info": {
      "name": "python",
      "codemirror_mode": {
        "name": "ipython",
        "version": "3"
      },
      "file_extension": ".py",
      "mimetype": "text/x-python",
      "nbconvert_exporter": "python",
      "pygments_lexer": "ipython3",
      "version": "3.10.13"
    }
  }
}