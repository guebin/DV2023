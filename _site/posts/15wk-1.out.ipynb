{
  "cells": [
    {
      "cell_type": "markdown",
      "metadata": {},
      "source": [
        "# 15wk-1: Plotly – `px`를 활용한 시각화\n",
        "\n",
        "최규빈  \n",
        "2023-12-04\n",
        "\n",
        "# 1. 강의영상"
      ],
      "id": "1e6b7ce0-7c8a-4e25-81a0-fd69212f7723"
    },
    {
      "cell_type": "code",
      "execution_count": 1,
      "metadata": {},
      "outputs": [],
      "source": [
        "pass"
      ],
      "id": "3cc1e27c-f7b5-46f1-b571-168101a39130"
    },
    {
      "cell_type": "markdown",
      "metadata": {},
      "source": [
        "# 2. Imports"
      ],
      "id": "52672d59-ea1d-45a9-9871-49237f06246c"
    },
    {
      "cell_type": "code",
      "execution_count": 5,
      "metadata": {
        "tags": []
      },
      "outputs": [],
      "source": [
        "import numpy as np\n",
        "import pandas as pd\n",
        "#---#\n",
        "import plotly.express as px\n",
        "import plotly.graph_objects as go\n",
        "import plotly.io as pio\n",
        "import plotly.subplots"
      ],
      "id": "19de6bd4-f974-44a9-88ec-47c67b2d7cb2"
    },
    {
      "cell_type": "code",
      "execution_count": 6,
      "metadata": {
        "tags": []
      },
      "outputs": [],
      "source": [
        "pd.options.plotting.backend = \"plotly\"\n",
        "pio.templates.default = \"plotly_white\""
      ],
      "id": "4c5fb449-57fa-4417-a9e4-e343b736d1f1"
    },
    {
      "cell_type": "markdown",
      "metadata": {},
      "source": [
        "# 3. 아이스크림을 많이 먹으면 걸리는 병\n",
        "\n",
        "## A. 자료"
      ],
      "id": "46a64f0a-dfd0-4b54-8dcd-7fff6d590ceb"
    },
    {
      "cell_type": "code",
      "execution_count": 170,
      "metadata": {
        "tags": []
      },
      "outputs": [],
      "source": [
        "np.random.seed(42)\n",
        "temp=pd.read_csv('https://raw.githubusercontent.com/guebin/DV2022/master/posts/temp.csv').iloc[:,3].to_numpy()\n",
        "sales = 20 + 2 * temp + np.random.randn(len(temp))*7 # 온도 -> 아이크림판매량\n",
        "diss1 = 30 + 0.5 * temp + np.random.randn(len(temp))*1 # 온도 -> 소아마비반응수치\n",
        "diss2 = 30 + 0.15 * sales + np.random.randn(len(temp))*1 # 아이스크림판매량 -> 소아마비반응수치 \n",
        "df1 = pd.DataFrame({'temp':temp,'diss':diss1,'sales':sales})\n",
        "df2 = pd.DataFrame({'temp':temp,'diss':diss2,'sales':sales})"
      ],
      "id": "d999fb30-0c1b-40e3-9004-3ba58bf49f04"
    },
    {
      "cell_type": "markdown",
      "metadata": {},
      "source": [
        "## B. Scatter + Line"
      ],
      "id": "a82440bf-192c-498f-b15e-c08e047e0257"
    },
    {
      "cell_type": "code",
      "execution_count": 171,
      "metadata": {
        "tags": []
      },
      "outputs": [],
      "source": [
        "df1.plot.scatter(\n",
        "    x='sales',\n",
        "    y='diss', \n",
        "    title='world1: temp --> (diss,sales)',\n",
        "    trendline = 'ols', # ols ,lowess\n",
        ")"
      ],
      "id": "5a6b8a05-c886-4b28-a46d-a6a926934b5f"
    },
    {
      "cell_type": "code",
      "execution_count": 172,
      "metadata": {
        "tags": []
      },
      "outputs": [],
      "source": [
        "df1.assign(temp_cut = lambda df: pd.qcut(df.temp,10)).sort_values('temp_cut')\\\n",
        ".plot.scatter(\n",
        "    x='sales',\n",
        "    y='diss',\n",
        "    color='temp_cut',\n",
        "    trendline='ols',\n",
        "    title='world1: temp --> (diss,sales)',\n",
        ")"
      ],
      "id": "f67f63b6-4538-4b95-a65f-0e517b0bb63e"
    },
    {
      "cell_type": "code",
      "execution_count": 173,
      "metadata": {
        "tags": []
      },
      "outputs": [],
      "source": [
        "df2.assign(temp_cut = lambda df: pd.qcut(df.temp,10)).sort_values('temp_cut')\\\n",
        ".plot.scatter(\n",
        "    x='sales',\n",
        "    y='diss',\n",
        "    color='temp_cut',\n",
        "    trendline='ols',\n",
        "    title='world2: temp --> sales --> diss',\n",
        ")"
      ],
      "id": "c09bc289-c63a-46e1-bdee-a0d0c661c0aa"
    },
    {
      "cell_type": "markdown",
      "metadata": {},
      "source": [
        "# NCY"
      ],
      "id": "e730bb6e-c09a-405c-8a00-aa08f5ddfebb"
    },
    {
      "cell_type": "code",
      "execution_count": 206,
      "metadata": {
        "tags": []
      },
      "outputs": [],
      "source": [
        "df = pd.read_csv(\"https://raw.githubusercontent.com/guebin/DV2023/main/posts/NYCTaxi.csv\")\n",
        "df = df.assign(\n",
        "    log_trip_duration = np.log(df.trip_duration),\n",
        "    pickup_datetime = df.pickup_datetime.apply(pd.to_datetime),\n",
        "    dropoff_datetime = df.dropoff_datetime.apply(pd.to_datetime),\n",
        "    dist = np.sqrt((df.pickup_latitude-df.dropoff_latitude)**2 + (df.pickup_longitude-df.dropoff_longitude)**2),\n",
        "    #---#\n",
        "    vendor_id = df.vendor_id.map({1:'A',2:'B'})\n",
        ").assign(\n",
        "    speed = lambda df: df.dist / df.trip_duration,\n",
        "    pickup_hour = lambda df: df.pickup_datetime.dt.hour,\n",
        "    dropoff_hour = lambda df: df.dropoff_datetime.dt.hour,\n",
        "    dayofweek = lambda df: df.pickup_datetime.dt.dayofweek\n",
        ")"
      ],
      "id": "aba38ee6-08a0-4348-82d3-0c1af28712f0"
    },
    {
      "cell_type": "code",
      "execution_count": 208,
      "metadata": {
        "tags": []
      },
      "outputs": [],
      "source": [
        "df"
      ],
      "id": "d6c139e1-21bd-4eb5-bd42-89aae25218a9"
    },
    {
      "cell_type": "code",
      "execution_count": 211,
      "metadata": {
        "tags": []
      },
      "outputs": [],
      "source": [
        "df.columns"
      ],
      "id": "ece2703e-d85a-472f-9aa2-33988e095520"
    },
    {
      "cell_type": "code",
      "execution_count": 215,
      "metadata": {
        "tags": []
      },
      "outputs": [],
      "source": [
        "tidydata = df \n",
        "fig = px.parallel_coordinates(\n",
        "    data_frame=tidydata,\n",
        "    color='speed',\n",
        "    dimensions=['dist','speed']\n",
        ")\n",
        "fig"
      ],
      "id": "868e65a0-639e-4c52-b743-49f0bda5aae4"
    },
    {
      "cell_type": "markdown",
      "metadata": {},
      "source": [
        "## C."
      ],
      "id": "0e8a63ab-05d8-4494-aaf1-8aadcbe6cda2"
    },
    {
      "cell_type": "code",
      "execution_count": 199,
      "metadata": {
        "tags": []
      },
      "outputs": [],
      "source": [
        "big =  df1.assign(\n",
        "    temp_cut = lambda df: pd.qcut(df.temp,10,labels=list('0123456789')),\n",
        "    sales_cut = lambda df: pd.qcut(df.sales,4,labels=['Q1','Q2','Q3','Q4']),\n",
        "    diss_cut = lambda df: pd.qcut(df.diss,10)\n",
        ")\n",
        "small = big.groupby('diss_cut').agg({'diss':'mean'}).reset_index().rename({'diss':'diss_mean'},axis=1)\n",
        "tidydata = big.merge(small).query(\"temp_cut == '8'\")\n",
        "#---#\n",
        "fig = px.parallel_coordinates(\n",
        "    data_frame=tidydata,\n",
        "    color='diss_mean',\n",
        "    dimensions=['sales','diss','temp']\n",
        ")\n",
        "fig"
      ],
      "id": "59ca6d32-95f6-4b4f-ab79-66c477da898e"
    },
    {
      "cell_type": "code",
      "execution_count": 200,
      "metadata": {
        "tags": []
      },
      "outputs": [],
      "source": [
        "big =  df2.assign(\n",
        "    temp_cut = lambda df: pd.qcut(df.temp,10,labels=list('0123456789')),\n",
        "    sales_cut = lambda df: pd.qcut(df.sales,4,labels=['Q1','Q2','Q3','Q4']),\n",
        "    diss_cut = lambda df: pd.qcut(df.diss,10)\n",
        ")\n",
        "small = big.groupby('diss_cut').agg({'diss':'mean'}).reset_index().rename({'diss':'diss_mean'},axis=1)\n",
        "tidydata = big.merge(small).query(\"temp_cut == '8'\")\n",
        "#---#\n",
        "fig = px.parallel_coordinates(\n",
        "    data_frame=tidydata,\n",
        "    color='diss_mean',\n",
        "    dimensions=['sales','temp','diss']\n",
        ")\n",
        "fig"
      ],
      "id": "dd2c3c3a-a8b8-480a-bf69-ada3ce2a6876"
    },
    {
      "cell_type": "code",
      "execution_count": 201,
      "metadata": {
        "tags": []
      },
      "outputs": [],
      "source": [
        "big =  df2.assign(diss_cut = lambda df: pd.qcut(df.diss,4)).sort_values('diss_cut')\n",
        "small = big.groupby('diss_cut').agg({'diss':'mean'}).reset_index().rename({'diss':'diss_mean'},axis=1)\n",
        "tidydata = big.merge(small)\n",
        "#---#\n",
        "fig = px.parallel_coordinates(\n",
        "    data_frame=tidydata,\n",
        "    color='diss_mean',\n",
        "    dimensions=['sales','temp','diss']\n",
        ")\n",
        "fig"
      ],
      "id": "977a8ecc-c182-4dad-a35d-181bcdc28928"
    },
    {
      "cell_type": "code",
      "execution_count": 202,
      "metadata": {
        "tags": []
      },
      "outputs": [],
      "source": [
        "big =  df1.assign(\n",
        "    temp_cut = lambda df: pd.qcut(df.temp,4,labels=['Q1','Q2','Q3','Q4']),\n",
        "    sales_cut = lambda df: pd.qcut(df.sales,4,labels=['Q1','Q2','Q3','Q4']),\n",
        "    diss_cut = lambda df: pd.qcut(df.diss,4,labels=['Q1','Q2','Q3','Q4'])\n",
        ")\n",
        "small = big.groupby('diss_cut').agg({'diss':'mean'}).reset_index().rename({'diss':'diss_mean'},axis=1)\n",
        "tidydata = big.merge(small).query(\"temp_cut == 'Q1'\")\n",
        "#---#\n",
        "fig = px.parallel_categories(\n",
        "    data_frame=tidydata,\n",
        "    color='diss_mean',\n",
        "    dimensions=['sales_cut','diss_cut']\n",
        ")\n",
        "fig"
      ],
      "id": "852a90b0-814c-416b-ac5f-5ee8d3d07771"
    },
    {
      "cell_type": "code",
      "execution_count": 178,
      "metadata": {
        "tags": []
      },
      "outputs": [],
      "source": [
        "big =  df2.assign(\n",
        "    temp_cut = lambda df: pd.qcut(df.temp,4,labels=['Q1','Q2','Q3','Q4']),\n",
        "    sales_cut = lambda df: pd.qcut(df.sales,4,labels=['Q1','Q2','Q3','Q4']),\n",
        "    diss_cut = lambda df: pd.qcut(df.diss,4,labels=['Q1','Q2','Q3','Q4'])\n",
        ")\n",
        "small = big.groupby('temp_cut').agg({'temp':'mean'}).reset_index().rename({'temp':'temp_mean'},axis=1)\n",
        "tidydata = big.merge(small).query(\"temp_cut == 'Q1'\")\n",
        "#---#\n",
        "fig = px.parallel_categories(\n",
        "    data_frame=tidydata,\n",
        "    color='temp_mean',\n",
        "    dimensions=['sales_cut','temp_cut','diss_cut']\n",
        ")\n",
        "fig"
      ],
      "id": "62412838-88b8-46e3-87ff-d6d4cb7baf1d"
    },
    {
      "cell_type": "code",
      "execution_count": 149,
      "metadata": {
        "tags": []
      },
      "outputs": [],
      "source": [
        "tidydata"
      ],
      "id": "db524acf-7e04-4ebc-b2d7-7ab85aa21d4e"
    },
    {
      "cell_type": "code",
      "execution_count": 150,
      "metadata": {
        "tags": []
      },
      "outputs": [],
      "source": [
        "tidydata = pd.DataFrame({'temp':temp,'diss':disease,'sales':icecream_sales})\\\n",
        ".assign(\n",
        "    temp_cut = lambda df: pd.qcut(df.temp,q=4,labels=['Q1','Q2','Q3','Q4']),\n",
        "    diss_cut = lambda df: pd.qcut(df.diss,q=4,labels=['Q1','Q2','Q3','Q4']),\n",
        "    sales_cut = lambda df: pd.qcut(df.sales,q=4,labels=['Q1','Q2','Q3','Q4']),\n",
        ")\n",
        "display(tidydata)\n",
        "#---#\n",
        "px.parallel_categories(\n",
        "    data_frame=tidydata,\n",
        "    color='diss',\n",
        "    dimensions=['temp_cut','diss_cut', 'sales_cut']\n",
        ")"
      ],
      "id": "958cb008-79a6-4931-8fc2-c05ada11f9ce"
    },
    {
      "cell_type": "markdown",
      "metadata": {},
      "source": [
        "# 3. px."
      ],
      "id": "0ca088f4-a96a-4bf7-aee2-b96980ad2d0a"
    },
    {
      "cell_type": "code",
      "execution_count": 3,
      "metadata": {
        "tags": []
      },
      "outputs": [],
      "source": [
        "data = dict(\n",
        "    number=[39, 27.4, 20.6, 11, 2],\n",
        "    stage=[\"Website visit\", \"Downloads\", \"Potential customers\", \"Requested price\", \"invoice sent\"])\n",
        "fig = px.funnel(data, x='number', y='stage')\n",
        "fig.show()"
      ],
      "id": "3ba7a36e-c45d-4a63-aab1-c49ec6453e7e"
    },
    {
      "cell_type": "code",
      "execution_count": 5,
      "metadata": {
        "tags": []
      },
      "outputs": [],
      "source": [
        "pd.DataFrame(data)"
      ],
      "id": "66fab0de-e45f-415d-a28b-5ffc7803bf19"
    },
    {
      "cell_type": "markdown",
      "metadata": {},
      "source": [
        "# 3. pie,\n",
        "\n",
        "## A. `px.pie`"
      ],
      "id": "7fa38465-45ad-4af4-9e42-5a8accb77ea0"
    },
    {
      "cell_type": "code",
      "execution_count": 6,
      "metadata": {
        "tags": []
      },
      "outputs": [],
      "source": [
        "df = pd.read_csv('https://raw.githubusercontent.com/guebin/DV2021/master/_notebooks/2021-10-25-FIFA22_official_data.csv').loc[:,lambda df: df.isna().mean()<0.5].dropna()"
      ],
      "id": "744534f7-8b0c-4a91-b0aa-daae0e59ed6d"
    },
    {
      "cell_type": "code",
      "execution_count": 7,
      "metadata": {
        "tags": []
      },
      "outputs": [],
      "source": [
        "continent_mapping = {\n",
        "    'Asia': ['Afghanistan', 'Japan', 'Macau', 'Chinese Taipei', 'Indonesia', 'Korea Republic', 'Kazakhstan', 'Kyrgyzstan', 'Bhutan', 'Philippines', 'Syria', 'China PR', 'Oman', 'Guam', 'Vietnam', 'Jordan', 'Palestine', 'Malaysia', 'Hong Kong', 'Korea DPR', 'Lebanon', 'Uzbekistan', 'India','Iraq', 'Iran', 'Saudi Arabia', 'United Arab Emirates','Australia'],\n",
        "    'Europe': ['Portugal', 'Germany', 'Belgium', 'Netherlands', 'Croatia', 'Spain', 'Austria', 'Italy', 'France', 'Serbia', 'England', 'Poland', 'Ukraine', 'Wales', 'Scotland', 'Czech Republic', 'Slovakia', 'Romania', 'Bosnia and Herzegovina', 'Republic of Ireland', 'Norway', 'Sweden', 'Bulgaria', 'Lithuania', 'Estonia', 'Latvia', 'Liechtenstein','Albania','Denmark','Finland','Greece','Hungary','Iceland','Luxembourg','Northern Ireland','Slovenia','Switzerland','Andorra','Azerbaijan','Belarus','Cyprus','Faroe Islands','Georgia','Kosovo','Malta','Moldova','Montenegro','North Macedonia','Armenia','Gibraltar','Russia','Turkey','Israel'],\n",
        "    'South America': ['Uruguay', 'Argentina', 'Brazil', 'Chile', 'Colombia', 'Ecuador', 'Paraguay', 'Venezuela', 'Suriname', 'Bolivia','Peru','Guyana'],\n",
        "    'Africa': ['Egypt', \"Côte d'Ivoire\", 'Senegal', 'Morocco', 'Ghana', 'Algeria', 'Guinea', 'Mali', 'Congo DR', 'Liberia', 'Cameroon', 'Tunisia', 'Comoros', 'Kenya', 'South Africa', 'Zimbabwe', 'Madagascar', 'Mozambique', 'Equatorial Guinea', 'Congo', 'Burundi', 'Grenada', 'Thailand', 'Togo', 'Sudan', 'Mauritania','Guinea Bissau','Libya','Nigeria','Zambia','Angola','Benin','Burkina Faso','Cape Verde Islands','Central African Republic','Chad','Eritrea','Gabon','Gambia','Mauritius','Namibia','Rwanda','Sierra Leone','South Sudan','São Tomé e Príncipe','Uganda','Niger'],\n",
        "    'North and Central America': ['Antigua and Barbuda', 'Barbados', 'Belize', 'Bermuda', 'Canada', 'Costa Rica', 'Cuba', 'Curacao', 'Dominican Republic', 'El Salvador', 'Guatemala', 'Haiti', 'Honduras', 'Jamaica', 'Mexico', 'Montserrat', 'Panama', 'Puerto Rico', 'Saint Kitts and Nevis', 'Saint Lucia', 'Trinidad and Tobago', 'United States'],\n",
        "    'Oceania': ['New Zealand', 'Fiji', 'Papua New Guinea','New Caledonia'],\n",
        "}"
      ],
      "id": "7762c165-94b1-44b8-b32c-924f437becd5"
    },
    {
      "cell_type": "code",
      "execution_count": 8,
      "metadata": {
        "tags": []
      },
      "outputs": [],
      "source": [
        "df.assign(\n",
        "    Continent = lambda df: [k for x in df['Nationality'] for k,v in continent_mapping.items() if x in v]\n",
        ")"
      ],
      "id": "29fb57ec-5f76-4e6e-b3c0-c7169aca7319"
    },
    {
      "cell_type": "code",
      "execution_count": 9,
      "metadata": {
        "tags": []
      },
      "outputs": [],
      "source": [
        "tidydata = df.assign(\n",
        "    Continent = lambda df: [k for x in df['Nationality'] for k,v in continent_mapping.items() if x in v]\n",
        ").groupby('Continent').agg({'ID':'count'}).reset_index().rename({'ID':'Count'},axis=1)\n",
        "px.pie(\n",
        "    data_frame=tidydata,\n",
        "    names = 'Continent',\n",
        "    values = 'Count',\n",
        ")\n",
        "#tidydata"
      ],
      "id": "869d626c-d327-4bd8-bf2c-558fc16cd2ff"
    },
    {
      "cell_type": "markdown",
      "metadata": {},
      "source": [
        "`-` pie chart with hole"
      ],
      "id": "d58242c5-89f7-41b6-b58e-9098b2c8272b"
    },
    {
      "cell_type": "code",
      "execution_count": 10,
      "metadata": {
        "tags": []
      },
      "outputs": [],
      "source": [
        "tidydata = df.assign(\n",
        "    Continent = lambda df: [k for x in df['Nationality'] for k,v in continent_mapping.items() if x in v]\n",
        "\n",
        ").query('Overall > Overall.mean()')\\\n",
        ".groupby('Continent').agg({'ID':'count'}).reset_index().rename({'ID':'Count'},axis=1)\n",
        "#---#\n",
        "px.pie(\n",
        "    data_frame=tidydata,\n",
        "    labels = 'Continent',\n",
        "    values = 'Count',\n",
        "    hole = 0.3\n",
        ")\n",
        "#tidydata"
      ],
      "id": "d5c25a75-9e35-488b-9d1c-7baa6c99153a"
    },
    {
      "cell_type": "markdown",
      "metadata": {},
      "source": [
        "`-`"
      ],
      "id": "003971f6-f374-407d-a5cb-d0f5895778d0"
    },
    {
      "cell_type": "code",
      "execution_count": 11,
      "metadata": {
        "tags": []
      },
      "outputs": [],
      "source": [
        "tidydata = df.assign(\n",
        "    Continent = lambda df: [k for x in df['Nationality'] for k,v in continent_mapping.items() if x in v]\n",
        "\n",
        ").query('Overall > Overall.mean()')\\\n",
        ".groupby('Continent').agg({'ID':'count'}).reset_index().rename({'ID':'Count'},axis=1)\n",
        "#---#\n",
        "go.Figure(\n",
        "    data = go.Pie(labels = tidydata.Continent, values= tidydata.Count, pull = [0.2,0,0,0,0,0],hole=0.3)\n",
        ")"
      ],
      "id": "9b8ec9d2-1970-4778-8439-880fed7f78b7"
    },
    {
      "cell_type": "code",
      "execution_count": 12,
      "metadata": {
        "tags": []
      },
      "outputs": [],
      "source": [
        "a=list([1,2,3])"
      ],
      "id": "9d392e30"
    },
    {
      "cell_type": "markdown",
      "metadata": {},
      "source": [
        "## B. `px.sunburst`"
      ],
      "id": "79f4dcd8-91ee-49cb-b1bc-f3913011e559"
    },
    {
      "cell_type": "code",
      "execution_count": 13,
      "metadata": {
        "tags": []
      },
      "outputs": [],
      "source": [
        "tidydata = df.groupby('Nationality').agg('size').reset_index().rename({0:'Count'},axis=1)\\\n",
        ".assign(\n",
        "    Continent = lambda df: [k for x in df['Nationality'] for k,v in continent_mapping.items() if x in v]\n",
        ")\n",
        "#---# \n",
        "px.sunburst(\n",
        "    data_frame=tidydata, \n",
        "    path=['Continent','Nationality'],\n",
        "    values='Count'\n",
        ")"
      ],
      "id": "73317468-e230-4d41-a413-10696fbe2958"
    },
    {
      "cell_type": "markdown",
      "metadata": {},
      "source": [
        "## C. `px.treemap`"
      ],
      "id": "4c8cd5f6-f9c3-42d5-9a72-6266cc45cfef"
    },
    {
      "cell_type": "code",
      "execution_count": 14,
      "metadata": {
        "tags": []
      },
      "outputs": [],
      "source": [
        "tidydata = df.groupby('Nationality').agg('size').reset_index().rename({0:'Count'},axis=1)\\\n",
        ".assign(\n",
        "    Continent = lambda df: [k for x in df['Nationality'] for k,v in continent_mapping.items() if x in v]\n",
        ")\n",
        "#---# \n",
        "px.treemap(\n",
        "    data_frame=tidydata, \n",
        "    path=['Continent','Nationality'],\n",
        "    values='Count'\n",
        ")"
      ],
      "id": "543d2162-ab23-4631-9038-3c32e194d7b0"
    },
    {
      "cell_type": "code",
      "execution_count": 28,
      "metadata": {
        "tags": []
      },
      "outputs": [],
      "source": [
        "# tidydata = df.groupby('Nationality').agg('size').reset_index().rename({0:'Count'},axis=1)\\\n",
        "# .assign(\n",
        "#     Continent = lambda df: [k for x in df['Nationality'] for k,v in continent_mapping.items() if x in v]\n",
        "# )\n",
        "# #---# \n",
        "# px.icicle(\n",
        "#     data_frame=tidydata, \n",
        "#     path=['Continent','Nationality',],\n",
        "#     values='Count'\n",
        "# )"
      ],
      "id": "fe63b8cb-aa40-4a71-944e-4bfb701d584c"
    },
    {
      "cell_type": "markdown",
      "metadata": {},
      "source": [
        "# 4."
      ],
      "id": "75524ed7-e6e4-4ddb-af9f-8266689093e8"
    },
    {
      "cell_type": "code",
      "execution_count": 330,
      "metadata": {
        "tags": []
      },
      "outputs": [],
      "source": [
        "df = pd.read_csv('https://raw.githubusercontent.com/guebin/MP2023/main/posts/insurance.csv')\n",
        "df"
      ],
      "id": "5c237eb4-c603-45c7-a854-c3355cd262ae"
    },
    {
      "cell_type": "code",
      "execution_count": 350,
      "metadata": {
        "tags": []
      },
      "outputs": [],
      "source": [
        "_df = df.assign(\n",
        "    age_cut = lambda df: pd.qcut(df.age,q=4,labels=['Q1','Q2','Q3','Q4']),\n",
        "    bmi_cut = lambda df: pd.qcut(df.bmi,q=3,labels=['low','midium','high']),\n",
        "    charges_cut = lambda df: pd.qcut(df.charges,q=4,labels=['Q1','Q2','Q3','Q4']),\n",
        ")"
      ],
      "id": "3a822b5a-17df-49b4-bb42-3e8774b78d91"
    },
    {
      "cell_type": "code",
      "execution_count": 363,
      "metadata": {
        "tags": []
      },
      "outputs": [],
      "source": [
        "\n",
        "    "
      ],
      "id": "a81d145e-6069-4295-b5f3-78a11d30e19d"
    },
    {
      "cell_type": "code",
      "execution_count": 356,
      "metadata": {
        "tags": []
      },
      "outputs": [],
      "source": [
        "_df"
      ],
      "id": "1b3fd005-f9bc-4ca6-9a0c-05629beb2ac0"
    },
    {
      "cell_type": "code",
      "execution_count": 369,
      "metadata": {
        "tags": []
      },
      "outputs": [],
      "source": [
        "tidydata = df.assign(\n",
        "    age_cut = lambda df: pd.qcut(df.age,q=4,labels=['Q1','Q2','Q3','Q4']),\n",
        "    bmi_cut = lambda df: pd.qcut(df.bmi,q=3,labels=['low','midium','high']),\n",
        "    charges_cut = lambda df: pd.qcut(df.charges,q=4,labels=['Q1','Q2','Q3','Q4']),\n",
        ").assign(\n",
        "    charges_mean = lambda df: df.charges_cut.map(df.groupby('charges_cut').agg({'charges':'mean'}).rename({'charges':'charges_mean'},axis=1).to_dict()['charges_mean'])\n",
        ")\n",
        "tidydata"
      ],
      "id": "6942242d-3fd5-414d-8942-56030a859104"
    },
    {
      "cell_type": "code",
      "execution_count": 371,
      "metadata": {
        "tags": []
      },
      "outputs": [],
      "source": [
        "tidydata = df.assign(\n",
        "    age_cut = lambda df: pd.qcut(df.age,q=4,labels=['Q1','Q2','Q3','Q4']),\n",
        "    bmi_cut = lambda df: pd.qcut(df.bmi,q=3,labels=['low','midium','high']),\n",
        "    charges_cut = lambda df: pd.qcut(df.charges,q=4,labels=['Q1','Q2','Q3','Q4']),\n",
        ").assign(\n",
        "    charges_mean = lambda df: df.charges_cut.map(df.groupby('charges_cut').agg({'charges':'mean'}).rename({'charges':'charges_mean'},axis=1).to_dict()['charges_mean'])\n",
        ")\n",
        "#---#\n",
        "px.parallel_categories(\n",
        "    data_frame=tidydata,\n",
        "    color='charges_mean',\n",
        "    dimensions=['smoker','age_cut','bmi_cut','region','children','charges_cut']\n",
        ")"
      ],
      "id": "15a59038-01d8-4f3b-a6e2-d59d6193cb9f"
    },
    {
      "cell_type": "code",
      "execution_count": 373,
      "metadata": {
        "tags": []
      },
      "outputs": [],
      "source": [
        "tidydata = df.assign(\n",
        "    age_cut = lambda df: pd.qcut(df.age,q=4,labels=['Q1','Q2','Q3','Q4']),\n",
        "    bmi_cut = lambda df: pd.qcut(df.bmi,q=3,labels=['low','midium','high']),\n",
        "    charges_cut = lambda df: pd.qcut(df.charges,q=4,labels=['Q1','Q2','Q3','Q4']),\n",
        ").assign(\n",
        "    charges_mean = lambda df: df.charges_cut.map(df.groupby('charges_cut').agg({'charges':'mean'}).rename({'charges':'charges_mean'},axis=1).to_dict()['charges_mean'])\n",
        ").query(\"smoker == 'no'\")\n",
        "#---#\n",
        "px.parallel_categories(\n",
        "    data_frame=tidydata,\n",
        "    color='charges_mean',\n",
        "    dimensions=['age_cut','bmi_cut','region','children','charges_cut']\n",
        ")"
      ],
      "id": "61a4ab06-656a-4348-8c43-709f356ff067"
    },
    {
      "cell_type": "code",
      "execution_count": 412,
      "metadata": {
        "tags": []
      },
      "outputs": [],
      "source": [
        "tidydata = df.assign(\n",
        "    Fsize = lambda df: df['SibSp'] + df['Parch'],\n",
        "    Sex = lambda df: df['Sex'].map({'female':0,'male':1}),\n",
        ").sort_values('Fsize')\n",
        "px.parallel_categories(\n",
        "    data_frame=tidydata,\n",
        "    color='Survived',\n",
        "    dimensions=['Fsize','Pclass','Embarked','Sex','Survived']\n",
        ")"
      ],
      "id": "37bf0bf1-e55b-4f4d-ae5d-6a5ebd437ec8"
    },
    {
      "cell_type": "code",
      "execution_count": 413,
      "metadata": {
        "tags": []
      },
      "outputs": [],
      "source": [
        "tidydata = df.assign(\n",
        "    Fsize = lambda df: df['SibSp'] + df['Parch'],\n",
        "    Sex = lambda df: df['Sex'].map({'female':0,'male':1}),\n",
        ")\n",
        "px.parallel_categories(\n",
        "    data_frame=tidydata,\n",
        "    color='Sex',\n",
        "    dimensions=['Fsize','Pclass','Embarked','Sex','Survived']\n",
        ")"
      ],
      "id": "e1134b92-f946-47ee-8e24-f9e3047c751d"
    },
    {
      "cell_type": "code",
      "execution_count": 399,
      "metadata": {
        "tags": []
      },
      "outputs": [],
      "source": [
        "df = px.data.wind()\n",
        "fig = px.bar_polar(df, r=\"frequency\", theta=\"direction\",\n",
        "                   color=\"strength\", template=\"plotly_dark\",\n",
        "                   color_discrete_sequence= px.colors.sequential.Plasma_r)\n",
        "fig.show()"
      ],
      "id": "5a0076a9-b0f3-45b8-96a2-db2aedb121a6"
    },
    {
      "cell_type": "code",
      "execution_count": 400,
      "metadata": {
        "tags": []
      },
      "outputs": [],
      "source": [
        "import plotly.graph_objects as go\n",
        "import urllib, json\n",
        "\n",
        "url = 'https://raw.githubusercontent.com/plotly/plotly.js/master/test/image/mocks/sankey_energy.json'\n",
        "response = urllib.request.urlopen(url)\n",
        "data = json.loads(response.read())\n",
        "\n",
        "# override gray link colors with 'source' colors\n",
        "opacity = 0.4\n",
        "# change 'magenta' to its 'rgba' value to add opacity\n",
        "data['data'][0]['node']['color'] = ['rgba(255,0,255, 0.8)' if color == \"magenta\" else color for color in data['data'][0]['node']['color']]\n",
        "data['data'][0]['link']['color'] = [data['data'][0]['node']['color'][src].replace(\"0.8\", str(opacity))\n",
        "                                    for src in data['data'][0]['link']['source']]\n",
        "\n",
        "fig = go.Figure(data=[go.Sankey(\n",
        "    valueformat = \".0f\",\n",
        "    valuesuffix = \"TWh\",\n",
        "    # Define nodes\n",
        "    node = dict(\n",
        "      pad = 15,\n",
        "      thickness = 15,\n",
        "      line = dict(color = \"black\", width = 0.5),\n",
        "      label =  data['data'][0]['node']['label'],\n",
        "      color =  data['data'][0]['node']['color']\n",
        "    ),\n",
        "    # Add links\n",
        "    link = dict(\n",
        "      source =  data['data'][0]['link']['source'],\n",
        "      target =  data['data'][0]['link']['target'],\n",
        "      value =  data['data'][0]['link']['value'],\n",
        "      label =  data['data'][0]['link']['label'],\n",
        "      color =  data['data'][0]['link']['color']\n",
        "))])\n",
        "\n",
        "fig.update_layout(title_text=\"Energy forecast for 2050<br>Source: Department of Energy & Climate Change, Tom Counsell via <a href='https://bost.ocks.org/mike/sankey/'>Mike Bostock</a>\",\n",
        "                  font_size=10)\n",
        "fig.show()"
      ],
      "id": "f458f35b-9e5b-42c0-9d16-2c88938ca898"
    }
  ],
  "nbformat": 4,
  "nbformat_minor": 5,
  "metadata": {
    "kernelspec": {
      "name": "python3",
      "display_name": "Python 3 (ipykernel)",
      "language": "python"
    },
    "language_info": {
      "name": "python",
      "codemirror_mode": {
        "name": "ipython",
        "version": "3"
      },
      "file_extension": ".py",
      "mimetype": "text/x-python",
      "nbconvert_exporter": "python",
      "pygments_lexer": "ipython3",
      "version": "3.10.13"
    }
  }
}