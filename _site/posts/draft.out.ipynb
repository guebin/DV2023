{
  "cells": [
    {
      "cell_type": "markdown",
      "metadata": {},
      "source": [
        "# 14wk-1: Plotly – `px`를 활용한 시각화\n",
        "\n",
        "최규빈  \n",
        "2023-11-27\n",
        "\n",
        "# 5. 시계열자료처리\n",
        "\n",
        "asfreq\n",
        "\n",
        "asof\n",
        "\n",
        "# 6. 잡기능\n",
        "\n",
        "## A. `pd.cut`, `pd.qcut`"
      ],
      "id": "ce98cb89-458f-4ed7-846e-53ed4988b02f"
    },
    {
      "cell_type": "code",
      "execution_count": null,
      "metadata": {},
      "outputs": [],
      "source": [
        "pd.qcut(np.random.randn(100),q=4)"
      ],
      "id": "7ddd718d-7dcc-4d9b-9729-05bdbe721027"
    },
    {
      "cell_type": "code",
      "execution_count": null,
      "metadata": {},
      "outputs": [],
      "source": [
        "pd.qcut(range(5), 3, labels=[\"good\", \"medium\", \"bad\"])"
      ],
      "id": "63dd0d14-6b63-47f3-a11d-392c127ea6e2"
    },
    {
      "cell_type": "code",
      "execution_count": null,
      "metadata": {},
      "outputs": [],
      "source": [
        "pd.qcut?"
      ],
      "id": "06fda13d-58c7-4658-8e20-414276fe185a"
    },
    {
      "cell_type": "markdown",
      "metadata": {},
      "source": [
        "## B. 자료조사 관련"
      ],
      "id": "129931a5-6f7a-486a-93c3-073158aa8d3a"
    },
    {
      "cell_type": "code",
      "execution_count": null,
      "metadata": {},
      "outputs": [],
      "source": [
        "s.between"
      ],
      "id": "ac07d4f8-a979-4a06-976d-3f7b651b45aa"
    },
    {
      "cell_type": "code",
      "execution_count": null,
      "metadata": {
        "tags": []
      },
      "outputs": [],
      "source": [
        "s.to_list()"
      ],
      "id": "f8360c57-8a40-4ce9-9bb2-5b4eb9a59edb"
    },
    {
      "cell_type": "code",
      "execution_count": null,
      "metadata": {
        "tags": []
      },
      "outputs": [],
      "source": [
        "s.to_list()"
      ],
      "id": "8498d00b-2305-49f6-8081-58f1baf26829"
    },
    {
      "cell_type": "markdown",
      "metadata": {},
      "source": [
        "## C. 중복값 `drop_dropduplicate`"
      ],
      "id": "4544c93c-c3e3-41c7-aac5-681ddc318716"
    },
    {
      "cell_type": "code",
      "execution_count": null,
      "metadata": {},
      "outputs": [],
      "source": [
        "df.duplicated"
      ],
      "id": "e5ba97a1-2a74-4e34-9739-2b4b5e9bedc4"
    },
    {
      "cell_type": "code",
      "execution_count": null,
      "metadata": {},
      "outputs": [],
      "source": [
        "df['X'].value_counts()"
      ],
      "id": "09f7361b-dad4-42bc-910b-ca9c515a44bf"
    },
    {
      "cell_type": "code",
      "execution_count": null,
      "metadata": {},
      "outputs": [],
      "source": [
        "df.describe()"
      ],
      "id": "25b9d3f4-1455-4e81-a28d-2b42cdb4a44e"
    },
    {
      "cell_type": "markdown",
      "metadata": {},
      "source": [
        "## D. 형태변환\n",
        "\n",
        "## B. `go.Scatter`\n",
        "\n",
        "`-`"
      ],
      "id": "fe1fb00e-cd87-43c0-9bf1-7a0c174de4f7"
    },
    {
      "cell_type": "code",
      "execution_count": 20,
      "metadata": {
        "tags": []
      },
      "outputs": [],
      "source": [
        "fig = go.Figure()"
      ],
      "id": "99da2dc5-e387-4d92-ad83-9c639e995210"
    },
    {
      "cell_type": "code",
      "execution_count": 21,
      "metadata": {
        "tags": []
      },
      "outputs": [],
      "source": [
        "fig"
      ],
      "id": "62ebff52-01ca-4138-bb11-431a99f20372"
    },
    {
      "cell_type": "code",
      "execution_count": 22,
      "metadata": {
        "tags": []
      },
      "outputs": [],
      "source": [
        "# dict(x=[1,2,3],y=[2,3,4])\n",
        "go_scatter1 = go.Scatter(x=[1,2,3],y=[2,3,4])\n",
        "go_scatter2 = go.Scatter(x=[1,2,3],y=[2,3,-3])"
      ],
      "id": "9491564f-6de6-477b-8bc7-663316a528d1"
    },
    {
      "cell_type": "code",
      "execution_count": 23,
      "metadata": {
        "tags": []
      },
      "outputs": [],
      "source": [
        "fig.add_trace(go_scatter1).add_trace(go_scatter2)"
      ],
      "id": "c8207c1a-26bb-4317-87ce-7baf643f7d50"
    },
    {
      "cell_type": "code",
      "execution_count": 24,
      "metadata": {
        "tags": []
      },
      "outputs": [],
      "source": [
        "fig = go.Figure()\n",
        "fig.add_bar(x=[1,2,3],y=[2,3,1])\n",
        "fig.add_scatter(x=[1,2,3],y=[2,3,1])\n",
        "fig.data[0]['name']='y_bar'\n",
        "fig.data[1]['name']='y_line'\n",
        "fig.data[0]['legendgroup']='y'\n",
        "fig.data[1]['legendgroup']='y'\n",
        "fig"
      ],
      "id": "3adda971-04d8-41ee-8c77-f3c811710a70"
    },
    {
      "cell_type": "markdown",
      "metadata": {},
      "source": [
        "`-` selector의 역할.. 너무 어려운뎅? (지정안하면 전체업데이트함)"
      ],
      "id": "56b3034c-a6ee-43dd-8b0e-897bb85d4ab3"
    },
    {
      "cell_type": "code",
      "execution_count": 25,
      "metadata": {
        "tags": []
      },
      "outputs": [],
      "source": [
        "fig = go.Figure()\n",
        "fig.add_bar(x=[1,2,3],y=[2,3,1],name='y_bar')\n",
        "fig.add_scatter(x=[1,2,3],y=[2,3,1],name='y_line')\n",
        "fig.update_traces(marker_color='orange',selector={'name':'y_line'})\n",
        "fig"
      ],
      "id": "537d20ed-910c-4a98-8374-92d983e6eca2"
    },
    {
      "cell_type": "markdown",
      "metadata": {},
      "source": [
        "# `go.Scatter`\n",
        "\n",
        "`-` 예시1"
      ],
      "id": "5d72c8fe-4cb2-40f4-ad5d-b37aa9f58aa0"
    },
    {
      "cell_type": "code",
      "execution_count": 26,
      "metadata": {
        "tags": []
      },
      "outputs": [],
      "source": [
        "fig = go.Figure()\n",
        "scatter = go.Scatter(\n",
        "    x=[1,2,3],y=[2,3,-1]\n",
        ")\n",
        "fig.add_trace(scatter)"
      ],
      "id": "81229551-8ce0-48af-9ccc-e2a58b6853ae"
    },
    {
      "cell_type": "markdown",
      "metadata": {},
      "source": [
        "`-` 예시2"
      ],
      "id": "5d83108f-7858-4c08-bb21-9ea366f63149"
    },
    {
      "cell_type": "code",
      "execution_count": 27,
      "metadata": {
        "tags": []
      },
      "outputs": [],
      "source": [
        "fig = go.Figure()\n",
        "scatter = go.Scatter(\n",
        "    x=[1,2,3],y=[2,3,-1],\n",
        "    mode='lines'\n",
        ")\n",
        "fig.add_trace(scatter)"
      ],
      "id": "e268316e-1a7e-40bf-91cb-4e1ea67afe13"
    },
    {
      "cell_type": "markdown",
      "metadata": {},
      "source": [
        "`-` 예시3"
      ],
      "id": "757e26a5-b2b7-4e2c-bbca-47f0d80fbd2b"
    },
    {
      "cell_type": "code",
      "execution_count": 28,
      "metadata": {
        "tags": []
      },
      "outputs": [],
      "source": [
        "fig = go.Figure()\n",
        "scatter = go.Scatter(\n",
        "    x=[1,2,3],y=[2,3,-1],\n",
        "    mode='markers'\n",
        ")\n",
        "fig.add_trace(scatter)"
      ],
      "id": "48e74e64-2870-4648-8b7c-399bd868f7df"
    },
    {
      "cell_type": "markdown",
      "metadata": {},
      "source": [
        "`-` 예시4"
      ],
      "id": "1eb84dc2-079d-4f92-a23e-e7e9ffc1a3b3"
    },
    {
      "cell_type": "code",
      "execution_count": 29,
      "metadata": {
        "tags": []
      },
      "outputs": [],
      "source": [
        "fig = go.Figure()\n",
        "scatter = go.Scatter(\n",
        "    x=[1,2,3],y=[2,3,-1],\n",
        "    mode='lines+markers'\n",
        ")\n",
        "fig.add_trace(scatter)"
      ],
      "id": "a242274e-364c-4010-8a94-342f53cdd72d"
    },
    {
      "cell_type": "markdown",
      "metadata": {},
      "source": [
        "`-` 예시5"
      ],
      "id": "a1e0dc5b-4a5d-4461-8239-f81b59ed7e0f"
    },
    {
      "cell_type": "code",
      "execution_count": 30,
      "metadata": {
        "tags": []
      },
      "outputs": [],
      "source": [
        "fig = go.Figure()\n",
        "scatter = go.Scatter(\n",
        "    x=[1,2,3],y=[2,3,-1],\n",
        "    mode='lines+markers',\n",
        "    name='test'\n",
        ")\n",
        "fig.add_trace(scatter)"
      ],
      "id": "9a6f5dff-f5da-4ad8-842e-c3f2fce5abff"
    },
    {
      "cell_type": "markdown",
      "metadata": {},
      "source": [
        "`-` 예시6"
      ],
      "id": "9f1cf736-ddf3-4cc9-8009-9f715916586e"
    },
    {
      "cell_type": "code",
      "execution_count": 31,
      "metadata": {
        "tags": []
      },
      "outputs": [],
      "source": [
        "fig = go.Figure()\n",
        "scatter = go.Scatter(\n",
        "    x=[1,2,3],y=[2,3,-1],\n",
        "    mode='lines+markers',\n",
        "    name='test',\n",
        "    marker={'color':'red','size':10,'symbol':'circle','line':{'width':2,'color':'blue'}}\n",
        ")\n",
        "fig.add_trace(scatter)"
      ],
      "id": "ed817e74-9031-49c4-8094-697f1aff39ad"
    },
    {
      "cell_type": "code",
      "execution_count": 34,
      "metadata": {
        "tags": []
      },
      "outputs": [],
      "source": [
        "fig.data"
      ],
      "id": "687447d3-90bd-495c-a316-992ee46789aa"
    },
    {
      "cell_type": "code",
      "execution_count": 39,
      "metadata": {
        "tags": []
      },
      "outputs": [],
      "source": [
        "fig = go.Figure()\n",
        "scatter = go.Scatter(\n",
        "    {\n",
        "     'marker': {'color': 'red', 'line': {'color': 'blue', 'width': 2}, 'size': 10, 'symbol': 'circle'},\n",
        "     'mode': 'lines+markers',\n",
        "     'name': 'test',\n",
        "     'x': [1, 2, 3],\n",
        "     'y': [2, 3, -1]\n",
        " }  \n",
        ")\n",
        "fig.add_trace(scatter)"
      ],
      "id": "065ae7a5-2409-49ee-87eb-eb6510786877"
    },
    {
      "cell_type": "markdown",
      "metadata": {},
      "source": [
        "`-` 예시7"
      ],
      "id": "7387ecd8-63e5-465b-971a-efc6c1a03011"
    },
    {
      "cell_type": "code",
      "execution_count": 588,
      "metadata": {
        "tags": []
      },
      "outputs": [],
      "source": [
        "fig = go.Figure()\n",
        "scatter = go.Scatter(\n",
        "    x=[1,2,3],y=[2,3,-1],\n",
        "    mode='lines+markers',\n",
        "    name='test',\n",
        "    marker={'color':'red','size':10,'symbol':'circle','line':{'width':2,'color':'blue'}},\n",
        "    line={'width':0.5,'color':'green'}\n",
        ")\n",
        "fig.add_trace(scatter)"
      ],
      "id": "da45cdcc-6360-4600-9d5b-4273c7e9b9e2"
    },
    {
      "cell_type": "markdown",
      "metadata": {},
      "source": [
        "`-` 색상변경"
      ],
      "id": "a4112192-f449-4830-98df-1ba146fbf6cd"
    },
    {
      "cell_type": "code",
      "execution_count": 546,
      "metadata": {
        "tags": []
      },
      "outputs": [],
      "source": [
        "fig = pd.DataFrame({'x':[1,2,3,4],'y':[1,2,4,3],'clr':['A','A','B','B']})\\\n",
        ".plot.line(\n",
        "    x='x',y='y',\n",
        ")\n",
        "fig.update_traces(\n",
        "    line_color = 'red',\n",
        "    line_dash= 'dash'\n",
        ")"
      ],
      "id": "17ee9937-ab82-4b65-af1f-8888b2deae36"
    },
    {
      "cell_type": "markdown",
      "metadata": {},
      "source": [
        "`-` 색상변경2"
      ],
      "id": "d3219259-2dc5-4dd1-b531-e73e3aba770a"
    },
    {
      "cell_type": "code",
      "execution_count": 509,
      "metadata": {
        "tags": []
      },
      "outputs": [],
      "source": [
        "pd.DataFrame({'x':[1,2,3,4],'y':[1,2,4,3],'clr':['A','A','B','B']})\\\n",
        ".plot.line(\n",
        "    x='x',y='y',color='clr'\n",
        ")"
      ],
      "id": "387b7ad0-44dc-4ae2-9680-0f37bd4d7e4f"
    },
    {
      "cell_type": "code",
      "execution_count": 510,
      "metadata": {
        "tags": []
      },
      "outputs": [],
      "source": [
        "pd.DataFrame({'x':[1,2,3,4],'y':[1,2,4,3],'clr':['A','A','B','B']})\\\n",
        ".plot.line(\n",
        "    x='x',y='y',color='clr'\n",
        ")"
      ],
      "id": "47034e38-43f9-4ebb-be7a-dfb78fff9dbd"
    },
    {
      "cell_type": "code",
      "execution_count": 519,
      "metadata": {
        "tags": []
      },
      "outputs": [],
      "source": [
        "pd.DataFrame({'x':[1,2,3,4],'y':[1,2,4,3],'clr':['A','A','B','B']})\\\n",
        ".plot.line(\n",
        "    x='x',y='y',color='clr',\n",
        "    category_orders= {'clr':['B','A']}\n",
        ")"
      ],
      "id": "4ac16829-f321-44f9-ab54-31161ce4f1b5"
    },
    {
      "cell_type": "code",
      "execution_count": 531,
      "metadata": {
        "tags": []
      },
      "outputs": [],
      "source": [
        "pd.DataFrame({'x':[1,2,3,4],'y':[1,2,4,3],'clr':['A','A','B','B']})\\\n",
        ".plot.line(\n",
        "    x='x',y='y',color='clr',\n",
        "    color_discrete_sequence = ['orange','green'],\n",
        "    \n",
        ")"
      ],
      "id": "3a947f36-1c3e-4866-b210-5256cd72107b"
    },
    {
      "cell_type": "code",
      "execution_count": 532,
      "metadata": {
        "tags": []
      },
      "outputs": [],
      "source": [
        "pd.DataFrame({'x':[1,2,3,4],'y':[1,2,4,3],'clr':['A','A','B','B']})\\\n",
        ".plot.line(\n",
        "    x='x',y='y',color='clr',\n",
        "    color_discrete_map = {'B':'orange','A':'green'},\n",
        ")"
      ],
      "id": "d85a3b67-f8d4-43c1-b28a-2de9b1c6bda3"
    },
    {
      "cell_type": "markdown",
      "metadata": {},
      "source": [
        "`-` 라인의 타입변경\n",
        "\n",
        "`-` dot-connected plot"
      ],
      "id": "6808a872-406f-4505-8dd0-18a2623a86e4"
    },
    {
      "cell_type": "code",
      "execution_count": 520,
      "metadata": {
        "tags": []
      },
      "outputs": [],
      "source": [
        "pd.DataFrame({'x':[1,2,3,4],'y':[1,2,4,3],'clr':['A','A','B','B']})\\\n",
        ".plot.line(\n",
        "    x='x',y='y',color='clr',\n",
        "    color_discrete_map = {'B':'orange','A':'green'}\n",
        ")"
      ],
      "id": "55a2bd99-c7e5-4775-88ca-cab23e299966"
    },
    {
      "cell_type": "code",
      "execution_count": null,
      "metadata": {},
      "outputs": [],
      "source": [
        "pd.DataFrame({'x':[1,2,3,4],'y':[1,2,4,3],'clr':['A','A','B','B']})\\\n",
        ".plot.line(\n",
        "    x='x',y='y',color='clr',\n",
        "    color_discrete_map = {'B':'orange','A':'green'}\n",
        ")"
      ],
      "id": "40300f14-63ad-493a-9f28-bef90476f6ee"
    },
    {
      "cell_type": "code",
      "execution_count": 483,
      "metadata": {
        "tags": []
      },
      "outputs": [],
      "source": [
        "_fig"
      ],
      "id": "55cd1749-8217-437b-a4e2-bea22830b640"
    },
    {
      "cell_type": "code",
      "execution_count": 484,
      "metadata": {
        "tags": []
      },
      "outputs": [],
      "source": [
        "go.Figure().add_trace(_fig.data[0]).add_trace(_fig.data[1]).update_layout(_fig.layout)"
      ],
      "id": "df71513f-fa35-4623-9d1f-e7370a42caad"
    },
    {
      "cell_type": "code",
      "execution_count": 490,
      "metadata": {
        "tags": []
      },
      "outputs": [],
      "source": [
        "_fig.layout['legend']['title']['text']='변수이름'"
      ],
      "id": "0189052e-768b-4479-be80-ec31ef8487e9"
    },
    {
      "cell_type": "code",
      "execution_count": 491,
      "metadata": {
        "tags": []
      },
      "outputs": [],
      "source": [
        "_fig"
      ],
      "id": "bbbe7102-9934-462d-ac2c-2c9c3924f1b6"
    },
    {
      "cell_type": "markdown",
      "metadata": {},
      "source": [
        "# 3. 기본예제"
      ],
      "id": "29fd870f-2cb8-4287-b8f9-4f1cb9f3b3c4"
    },
    {
      "cell_type": "code",
      "execution_count": null,
      "metadata": {
        "tags": []
      },
      "outputs": [],
      "source": [
        "x= np.linspace(0,5,100)\n",
        "y= np.sin(2*x)\n",
        "px.line(\n",
        "    x=x,y=y,\n",
        "    #---#\n",
        "    title = \"예시1: 간단한 라인플랏\",\n",
        ")"
      ],
      "id": "d58caaca-abe9-4043-95d7-78bedfebc2b7"
    },
    {
      "cell_type": "markdown",
      "metadata": {},
      "source": [
        "`-` x,y축의 이름 수정"
      ],
      "id": "88d7a075-0231-458f-a8bb-78acec472e55"
    },
    {
      "cell_type": "code",
      "execution_count": null,
      "metadata": {
        "tags": []
      },
      "outputs": [
        {
          "output_type": "stream",
          "name": "stdout",
          "text": [
            "Layout({\n",
            "    'legend': {'tracegroupgap': 0},\n",
            "    'template': '...',\n",
            "    'title': {'text': '예시2: 간단한 라인플랏 (x,y-axis 수정)'},\n",
            "    'xaxis': {'anchor': 'y', 'domain': [0.0, 1.0], 'title': {'text': 'x'}},\n",
            "    'yaxis': {'anchor': 'x', 'domain': [0.0, 1.0], 'title': {'text': 'y'}}\n",
            "})"
          ]
        }
      ],
      "source": [
        "x= np.linspace(0,5,100)\n",
        "y= np.sin(2*x)\n",
        "fig = px.line(\n",
        "    x=x,y=y,\n",
        "    #---#\n",
        "    title = \"예시2: 간단한 라인플랏 (x,y-axis 수정)\"\n",
        ")\n",
        "print(fig.layout)\n",
        "fig['layout']['xaxis']['title']['text'] = r'$x\\text{-axis}$'\n",
        "fig['layout']['yaxis']['title']['text'] = r'$y\\text{-axis}$'\n",
        "fig"
      ],
      "id": "ac55e9a2-2070-474f-8e9d-ba4994e73ca5"
    },
    {
      "cell_type": "markdown",
      "metadata": {},
      "source": [
        "`-` x,y축의 이름 수정"
      ],
      "id": "6d4e81f7-4f9c-487e-b86f-1d9551e5e046"
    },
    {
      "cell_type": "code",
      "execution_count": null,
      "metadata": {
        "tags": []
      },
      "outputs": [],
      "source": [
        "x= np.linspace(0,5,100)\n",
        "y1= np.sin(2*x)\n",
        "y2= np.cos(2*x)\n",
        "fig = px.line(\n",
        "    x=x,y=[y1,y2],\n",
        "    #---#\n",
        "    title = \"예시3: 겹쳐그리기 (x,y-axis 수정) \"\n",
        ")\n",
        "fig['layout']['xaxis']['title']['text'] = r'$x\\text{-axis}$'\n",
        "fig['layout']['yaxis']['title']['text'] = r'$y\\text{-axis}$'\n",
        "fig"
      ],
      "id": "34fa80c3-4bf1-470f-ba28-d3718a14bfb0"
    },
    {
      "cell_type": "code",
      "execution_count": null,
      "metadata": {
        "tags": []
      },
      "outputs": [],
      "source": [
        "x= np.linspace(0,5,100)\n",
        "y1= np.sin(2*x)\n",
        "y2= np.cos(2*x)\n",
        "fig = px.line(\n",
        "    x=x,y=[y1,y2],\n",
        "    #---#\n",
        "    title = \"예시4: 겹쳐그리기 (x,y-axis 수정 + label 수정)\"\n",
        ")\n",
        "fig['layout']['xaxis']['title']['text'] = r'$x\\text{-axis}$'\n",
        "fig['layout']['yaxis']['title']['text'] = r'$y\\text{-axis}$'\n",
        "fig['data'][0]['name'] = r'$\\sin(2x)$'\n",
        "fig['data'][1]['name'] = r'$\\cos(2x)$'\n",
        "fig"
      ],
      "id": "a1a0eadc-144a-4eb3-adc7-9aabfbcd88ea"
    },
    {
      "cell_type": "code",
      "execution_count": null,
      "metadata": {
        "tags": []
      },
      "outputs": [],
      "source": [
        "x= np.linspace(0,5,100)\n",
        "y1= np.sin(2*x)\n",
        "y2= np.cos(2*x)\n",
        "fig = px.line(\n",
        "    x=x,y=[y1,y2],\n",
        "    #---#\n",
        "    title = \"예시5: 겹쳐그리기 (x,y-axis 수정 + label 수정 + 선의타입수정)\"\n",
        ")\n",
        "fig['layout']['xaxis']['title']['text'] = r'$x\\text{-axis}$'\n",
        "fig['layout']['yaxis']['title']['text'] = r'$y\\text{-axis}$'\n",
        "fig['data'][0]['name'] = r'$\\sin(2x)$'\n",
        "fig['data'][1]['name'] = r'$\\cos(2x)$'\n",
        "fig"
      ],
      "id": "9fbf0b7f-db6b-4e70-9b7e-676bab59d009"
    },
    {
      "cell_type": "code",
      "execution_count": 8,
      "metadata": {
        "tags": []
      },
      "outputs": [],
      "source": [
        "x= np.linspace(0,5,100)\n",
        "y1= np.sin(2*x)\n",
        "y2= np.cos(2*x)\n",
        "fig = px.line(\n",
        "    x=x,y=[y1,y2],\n",
        "    #---#\n",
        "    title = \"예시6: 겹쳐그리기 (x,y-axis 수정 + label 수정 + 선의타입수정 + 모드변경)\"\n",
        ")\n",
        "fig['layout']['xaxis']['title']['text'] = r'$x\\text{-axis}$'\n",
        "fig['layout']['yaxis']['title']['text'] = r'$y\\text{-axis}$'\n",
        "fig['data'][0]['name'] = r'$\\sin(2x)$'\n",
        "fig['data'][1]['name'] = r'$\\cos(2x)$'\n",
        "fig['data'][0]['line']['dash'] = 'dash'\n",
        "fig['data'][1]['mode'] = 'lines+markers'\n",
        "fig"
      ],
      "id": "a2df16d1-17c0-44e3-9aa3-9393fbf88c0c"
    },
    {
      "cell_type": "markdown",
      "metadata": {},
      "source": [
        "# 4. `px.scatter`"
      ],
      "id": "9da0861b-1471-4144-b80b-8451b1fc1ebe"
    },
    {
      "cell_type": "code",
      "execution_count": 9,
      "metadata": {},
      "outputs": [],
      "source": [
        "px.scatter(\n",
        "    x=[1,2,3],y=[2,3,4],\n",
        "    #---#\n",
        ")"
      ],
      "id": "58bab04e-918d-4efa-972d-fe4973fbbc72"
    }
  ],
  "nbformat": 4,
  "nbformat_minor": 5,
  "metadata": {
    "kernelspec": {
      "name": "python3",
      "display_name": "Python 3 (ipykernel)",
      "language": "python"
    },
    "language_info": {
      "name": "python",
      "codemirror_mode": {
        "name": "ipython",
        "version": "3"
      },
      "file_extension": ".py",
      "mimetype": "text/x-python",
      "nbconvert_exporter": "python",
      "pygments_lexer": "ipython3",
      "version": "3.10.13"
    }
  }
}