{
  "cells": [
    {
      "cell_type": "markdown",
      "metadata": {},
      "source": [
        "# 13wk-1: Plotly\n",
        "\n",
        "최규빈  \n",
        "2023-11-27\n",
        "\n",
        "## B. `go.Scatter`\n",
        "\n",
        "`-`"
      ],
      "id": "5121e37c-314c-43b6-bdec-7e85869a81c2"
    },
    {
      "cell_type": "code",
      "execution_count": 20,
      "metadata": {
        "tags": []
      },
      "outputs": [],
      "source": [
        "fig = go.Figure()"
      ],
      "id": "99da2dc5-e387-4d92-ad83-9c639e995210"
    },
    {
      "cell_type": "code",
      "execution_count": 21,
      "metadata": {
        "tags": []
      },
      "outputs": [],
      "source": [
        "fig"
      ],
      "id": "62ebff52-01ca-4138-bb11-431a99f20372"
    },
    {
      "cell_type": "code",
      "execution_count": 22,
      "metadata": {
        "tags": []
      },
      "outputs": [],
      "source": [
        "# dict(x=[1,2,3],y=[2,3,4])\n",
        "go_scatter1 = go.Scatter(x=[1,2,3],y=[2,3,4])\n",
        "go_scatter2 = go.Scatter(x=[1,2,3],y=[2,3,-3])"
      ],
      "id": "9491564f-6de6-477b-8bc7-663316a528d1"
    },
    {
      "cell_type": "code",
      "execution_count": 23,
      "metadata": {
        "tags": []
      },
      "outputs": [],
      "source": [
        "fig.add_trace(go_scatter1).add_trace(go_scatter2)"
      ],
      "id": "c8207c1a-26bb-4317-87ce-7baf643f7d50"
    },
    {
      "cell_type": "code",
      "execution_count": 24,
      "metadata": {
        "tags": []
      },
      "outputs": [],
      "source": [
        "fig = go.Figure()\n",
        "fig.add_bar(x=[1,2,3],y=[2,3,1])\n",
        "fig.add_scatter(x=[1,2,3],y=[2,3,1])\n",
        "fig.data[0]['name']='y_bar'\n",
        "fig.data[1]['name']='y_line'\n",
        "fig.data[0]['legendgroup']='y'\n",
        "fig.data[1]['legendgroup']='y'\n",
        "fig"
      ],
      "id": "3adda971-04d8-41ee-8c77-f3c811710a70"
    },
    {
      "cell_type": "markdown",
      "metadata": {},
      "source": [
        "`-` selector의 역할.. 너무 어려운뎅? (지정안하면 전체업데이트함)"
      ],
      "id": "1a9ff95c-fc13-456e-9e94-ef573f58e3cb"
    },
    {
      "cell_type": "code",
      "execution_count": 25,
      "metadata": {
        "tags": []
      },
      "outputs": [],
      "source": [
        "fig = go.Figure()\n",
        "fig.add_bar(x=[1,2,3],y=[2,3,1],name='y_bar')\n",
        "fig.add_scatter(x=[1,2,3],y=[2,3,1],name='y_line')\n",
        "fig.update_traces(marker_color='orange',selector={'name':'y_line'})\n",
        "fig"
      ],
      "id": "537d20ed-910c-4a98-8374-92d983e6eca2"
    },
    {
      "cell_type": "markdown",
      "metadata": {},
      "source": [
        "# `go.Scatter`\n",
        "\n",
        "`-` 예시1"
      ],
      "id": "2de2e8b5-63d3-4b1a-a114-a486a56d9bc9"
    },
    {
      "cell_type": "code",
      "execution_count": 26,
      "metadata": {
        "tags": []
      },
      "outputs": [],
      "source": [
        "fig = go.Figure()\n",
        "scatter = go.Scatter(\n",
        "    x=[1,2,3],y=[2,3,-1]\n",
        ")\n",
        "fig.add_trace(scatter)"
      ],
      "id": "81229551-8ce0-48af-9ccc-e2a58b6853ae"
    },
    {
      "cell_type": "markdown",
      "metadata": {},
      "source": [
        "`-` 예시2"
      ],
      "id": "1b1cce86-7812-4153-9bd6-852f17624b08"
    },
    {
      "cell_type": "code",
      "execution_count": 27,
      "metadata": {
        "tags": []
      },
      "outputs": [],
      "source": [
        "fig = go.Figure()\n",
        "scatter = go.Scatter(\n",
        "    x=[1,2,3],y=[2,3,-1],\n",
        "    mode='lines'\n",
        ")\n",
        "fig.add_trace(scatter)"
      ],
      "id": "e268316e-1a7e-40bf-91cb-4e1ea67afe13"
    },
    {
      "cell_type": "markdown",
      "metadata": {},
      "source": [
        "`-` 예시3"
      ],
      "id": "fbe8091b-d342-4f90-828f-2915fd140792"
    },
    {
      "cell_type": "code",
      "execution_count": 28,
      "metadata": {
        "tags": []
      },
      "outputs": [],
      "source": [
        "fig = go.Figure()\n",
        "scatter = go.Scatter(\n",
        "    x=[1,2,3],y=[2,3,-1],\n",
        "    mode='markers'\n",
        ")\n",
        "fig.add_trace(scatter)"
      ],
      "id": "48e74e64-2870-4648-8b7c-399bd868f7df"
    },
    {
      "cell_type": "markdown",
      "metadata": {},
      "source": [
        "`-` 예시4"
      ],
      "id": "330cb5b9-3c32-4912-8302-86a5b1ab80cd"
    },
    {
      "cell_type": "code",
      "execution_count": 29,
      "metadata": {
        "tags": []
      },
      "outputs": [],
      "source": [
        "fig = go.Figure()\n",
        "scatter = go.Scatter(\n",
        "    x=[1,2,3],y=[2,3,-1],\n",
        "    mode='lines+markers'\n",
        ")\n",
        "fig.add_trace(scatter)"
      ],
      "id": "a242274e-364c-4010-8a94-342f53cdd72d"
    },
    {
      "cell_type": "markdown",
      "metadata": {},
      "source": [
        "`-` 예시5"
      ],
      "id": "2ca8fc9b-c626-4c23-a409-27227b0874c6"
    },
    {
      "cell_type": "code",
      "execution_count": 30,
      "metadata": {
        "tags": []
      },
      "outputs": [],
      "source": [
        "fig = go.Figure()\n",
        "scatter = go.Scatter(\n",
        "    x=[1,2,3],y=[2,3,-1],\n",
        "    mode='lines+markers',\n",
        "    name='test'\n",
        ")\n",
        "fig.add_trace(scatter)"
      ],
      "id": "9a6f5dff-f5da-4ad8-842e-c3f2fce5abff"
    },
    {
      "cell_type": "markdown",
      "metadata": {},
      "source": [
        "`-` 예시6"
      ],
      "id": "d5f14048-0d8b-4054-973c-d6cb6427fe75"
    },
    {
      "cell_type": "code",
      "execution_count": 31,
      "metadata": {
        "tags": []
      },
      "outputs": [],
      "source": [
        "fig = go.Figure()\n",
        "scatter = go.Scatter(\n",
        "    x=[1,2,3],y=[2,3,-1],\n",
        "    mode='lines+markers',\n",
        "    name='test',\n",
        "    marker={'color':'red','size':10,'symbol':'circle','line':{'width':2,'color':'blue'}}\n",
        ")\n",
        "fig.add_trace(scatter)"
      ],
      "id": "ed817e74-9031-49c4-8094-697f1aff39ad"
    },
    {
      "cell_type": "code",
      "execution_count": 34,
      "metadata": {
        "tags": []
      },
      "outputs": [],
      "source": [
        "fig.data"
      ],
      "id": "687447d3-90bd-495c-a316-992ee46789aa"
    },
    {
      "cell_type": "code",
      "execution_count": 39,
      "metadata": {
        "tags": []
      },
      "outputs": [],
      "source": [
        "fig = go.Figure()\n",
        "scatter = go.Scatter(\n",
        "    {\n",
        "     'marker': {'color': 'red', 'line': {'color': 'blue', 'width': 2}, 'size': 10, 'symbol': 'circle'},\n",
        "     'mode': 'lines+markers',\n",
        "     'name': 'test',\n",
        "     'x': [1, 2, 3],\n",
        "     'y': [2, 3, -1]\n",
        " }  \n",
        ")\n",
        "fig.add_trace(scatter)"
      ],
      "id": "065ae7a5-2409-49ee-87eb-eb6510786877"
    },
    {
      "cell_type": "markdown",
      "metadata": {},
      "source": [
        "`-` 예시7"
      ],
      "id": "65add430-5481-4537-8cb4-eac867336d75"
    },
    {
      "cell_type": "code",
      "execution_count": 588,
      "metadata": {
        "tags": []
      },
      "outputs": [],
      "source": [
        "fig = go.Figure()\n",
        "scatter = go.Scatter(\n",
        "    x=[1,2,3],y=[2,3,-1],\n",
        "    mode='lines+markers',\n",
        "    name='test',\n",
        "    marker={'color':'red','size':10,'symbol':'circle','line':{'width':2,'color':'blue'}},\n",
        "    line={'width':0.5,'color':'green'}\n",
        ")\n",
        "fig.add_trace(scatter)"
      ],
      "id": "da45cdcc-6360-4600-9d5b-4273c7e9b9e2"
    },
    {
      "cell_type": "markdown",
      "metadata": {},
      "source": [
        "`-` 색상변경"
      ],
      "id": "37bc362e-c248-4a60-97b3-32225834928f"
    },
    {
      "cell_type": "code",
      "execution_count": 546,
      "metadata": {
        "tags": []
      },
      "outputs": [],
      "source": [
        "fig = pd.DataFrame({'x':[1,2,3,4],'y':[1,2,4,3],'clr':['A','A','B','B']})\\\n",
        ".plot.line(\n",
        "    x='x',y='y',\n",
        ")\n",
        "fig.update_traces(\n",
        "    line_color = 'red',\n",
        "    line_dash= 'dash'\n",
        ")"
      ],
      "id": "17ee9937-ab82-4b65-af1f-8888b2deae36"
    },
    {
      "cell_type": "markdown",
      "metadata": {},
      "source": [
        "`-` 색상변경2"
      ],
      "id": "57d416cf-7c19-4801-b326-ea3e45dbdd63"
    },
    {
      "cell_type": "code",
      "execution_count": 509,
      "metadata": {
        "tags": []
      },
      "outputs": [],
      "source": [
        "pd.DataFrame({'x':[1,2,3,4],'y':[1,2,4,3],'clr':['A','A','B','B']})\\\n",
        ".plot.line(\n",
        "    x='x',y='y',color='clr'\n",
        ")"
      ],
      "id": "387b7ad0-44dc-4ae2-9680-0f37bd4d7e4f"
    },
    {
      "cell_type": "code",
      "execution_count": 510,
      "metadata": {
        "tags": []
      },
      "outputs": [],
      "source": [
        "pd.DataFrame({'x':[1,2,3,4],'y':[1,2,4,3],'clr':['A','A','B','B']})\\\n",
        ".plot.line(\n",
        "    x='x',y='y',color='clr'\n",
        ")"
      ],
      "id": "47034e38-43f9-4ebb-be7a-dfb78fff9dbd"
    },
    {
      "cell_type": "code",
      "execution_count": 519,
      "metadata": {
        "tags": []
      },
      "outputs": [],
      "source": [
        "pd.DataFrame({'x':[1,2,3,4],'y':[1,2,4,3],'clr':['A','A','B','B']})\\\n",
        ".plot.line(\n",
        "    x='x',y='y',color='clr',\n",
        "    category_orders= {'clr':['B','A']}\n",
        ")"
      ],
      "id": "4ac16829-f321-44f9-ab54-31161ce4f1b5"
    },
    {
      "cell_type": "code",
      "execution_count": 531,
      "metadata": {
        "tags": []
      },
      "outputs": [],
      "source": [
        "pd.DataFrame({'x':[1,2,3,4],'y':[1,2,4,3],'clr':['A','A','B','B']})\\\n",
        ".plot.line(\n",
        "    x='x',y='y',color='clr',\n",
        "    color_discrete_sequence = ['orange','green'],\n",
        "    \n",
        ")"
      ],
      "id": "3a947f36-1c3e-4866-b210-5256cd72107b"
    },
    {
      "cell_type": "code",
      "execution_count": 532,
      "metadata": {
        "tags": []
      },
      "outputs": [],
      "source": [
        "pd.DataFrame({'x':[1,2,3,4],'y':[1,2,4,3],'clr':['A','A','B','B']})\\\n",
        ".plot.line(\n",
        "    x='x',y='y',color='clr',\n",
        "    color_discrete_map = {'B':'orange','A':'green'},\n",
        ")"
      ],
      "id": "d85a3b67-f8d4-43c1-b28a-2de9b1c6bda3"
    },
    {
      "cell_type": "markdown",
      "metadata": {},
      "source": [
        "`-` 라인의 타입변경\n",
        "\n",
        "`-` dot-connected plot"
      ],
      "id": "53c12ff8-dc53-4f0f-9893-4b0d328a97ca"
    },
    {
      "cell_type": "code",
      "execution_count": 520,
      "metadata": {
        "tags": []
      },
      "outputs": [],
      "source": [
        "pd.DataFrame({'x':[1,2,3,4],'y':[1,2,4,3],'clr':['A','A','B','B']})\\\n",
        ".plot.line(\n",
        "    x='x',y='y',color='clr',\n",
        "    color_discrete_map = {'B':'orange','A':'green'}\n",
        ")"
      ],
      "id": "55a2bd99-c7e5-4775-88ca-cab23e299966"
    },
    {
      "cell_type": "code",
      "execution_count": null,
      "metadata": {},
      "outputs": [],
      "source": [
        "pd.DataFrame({'x':[1,2,3,4],'y':[1,2,4,3],'clr':['A','A','B','B']})\\\n",
        ".plot.line(\n",
        "    x='x',y='y',color='clr',\n",
        "    color_discrete_map = {'B':'orange','A':'green'}\n",
        ")"
      ],
      "id": "40300f14-63ad-493a-9f28-bef90476f6ee"
    },
    {
      "cell_type": "code",
      "execution_count": 483,
      "metadata": {
        "tags": []
      },
      "outputs": [],
      "source": [
        "_fig"
      ],
      "id": "55cd1749-8217-437b-a4e2-bea22830b640"
    },
    {
      "cell_type": "code",
      "execution_count": 484,
      "metadata": {
        "tags": []
      },
      "outputs": [],
      "source": [
        "go.Figure().add_trace(_fig.data[0]).add_trace(_fig.data[1]).update_layout(_fig.layout)"
      ],
      "id": "df71513f-fa35-4623-9d1f-e7370a42caad"
    },
    {
      "cell_type": "code",
      "execution_count": 490,
      "metadata": {
        "tags": []
      },
      "outputs": [],
      "source": [
        "_fig.layout['legend']['title']['text']='변수이름'"
      ],
      "id": "0189052e-768b-4479-be80-ec31ef8487e9"
    },
    {
      "cell_type": "code",
      "execution_count": 491,
      "metadata": {
        "tags": []
      },
      "outputs": [],
      "source": [
        "_fig"
      ],
      "id": "bbbe7102-9934-462d-ac2c-2c9c3924f1b6"
    }
  ],
  "nbformat": 4,
  "nbformat_minor": 5,
  "metadata": {
    "kernelspec": {
      "name": "python3",
      "display_name": "Python 3 (ipykernel)",
      "language": "python"
    },
    "language_info": {
      "name": "python",
      "codemirror_mode": {
        "name": "ipython",
        "version": "3"
      },
      "file_extension": ".py",
      "mimetype": "text/x-python",
      "nbconvert_exporter": "python",
      "pygments_lexer": "ipython3",
      "version": "3.10.13"
    }
  }
}