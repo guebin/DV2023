{
  "cells": [
    {
      "cell_type": "markdown",
      "metadata": {},
      "source": [
        "# 07wk-1: Pandas – `lambda df:`의 활용, MultiIndex의 이해, tidydata의\n",
        "\n",
        "이해, `melt`/`stack`\n",
        "\n",
        "최규빈  \n",
        "2023-10-16\n",
        "\n",
        "<a href=\"https://colab.research.google.com/github/guebin/DV2023/blob/main/posts/07wk-1.ipynb\"><img src=\"https://colab.research.google.com/assets/colab-badge.svg\" style=\"text-align: left\"></a>\n",
        "\n",
        "# 1. 강의영상\n",
        "\n",
        "<https://youtu.be/playlist?list=PLQqh36zP38-yK6NIOpCR3OtlDVgglrzTE&si=v3TcGhzIZv7CGC6x>\n",
        "\n",
        "# 2. Imports"
      ],
      "id": "73a6f091-6434-468f-a7f8-c9c45fbfc07c"
    },
    {
      "cell_type": "code",
      "execution_count": 1,
      "metadata": {
        "tags": []
      },
      "outputs": [],
      "source": [
        "import numpy as np\n",
        "import pandas as pd\n",
        "from plotnine import *"
      ],
      "id": "c1b208d0-6da9-4a21-9cd5-e467a688e836"
    },
    {
      "cell_type": "markdown",
      "metadata": {},
      "source": [
        "# 3. Pandas – `lambda df:`의 활용\n",
        "\n",
        "## A. `lambda df:` with indexer\n",
        "\n",
        "`-` ref:\n",
        "<https://pandas.pydata.org/docs/user_guide/indexing.html#indexing-callable>\n",
        "\n",
        "`예시1` : 표현1,2,3은 같은 문법이다."
      ],
      "id": "80be86e9-53d1-4724-8ff2-c8afc829931e"
    },
    {
      "cell_type": "code",
      "execution_count": 2,
      "metadata": {
        "tags": []
      },
      "outputs": [],
      "source": [
        "df = pd.DataFrame({'A':[-1,np.nan,1,1],'B':[2,3,np.nan,4],'C':[np.nan,4,5,6]})\n",
        "df"
      ],
      "id": "303fcd55-397a-4532-a8d1-f4c035738b24"
    },
    {
      "cell_type": "markdown",
      "metadata": {},
      "source": [
        "(표현1)"
      ],
      "id": "365bbe41-03d2-4d76-989a-ca3a07d52763"
    },
    {
      "cell_type": "code",
      "execution_count": 17,
      "metadata": {
        "tags": []
      },
      "outputs": [],
      "source": [
        "df[df.A.isna()]"
      ],
      "id": "39660147-aa01-4a00-a72f-93dfa48fdf9e"
    },
    {
      "cell_type": "markdown",
      "metadata": {},
      "source": [
        "(표현2)"
      ],
      "id": "e1da8b26-f72b-4000-b73b-2852fde25c01"
    },
    {
      "cell_type": "code",
      "execution_count": 30,
      "metadata": {
        "tags": []
      },
      "outputs": [],
      "source": [
        "df[(lambda _df: _df.A.isna())(df)]"
      ],
      "id": "74ee4218-3e2e-455c-8b2c-01baa89ed0d6"
    },
    {
      "cell_type": "markdown",
      "metadata": {},
      "source": [
        "(표현3)"
      ],
      "id": "3883b851-22c8-4db1-8031-c1e1cd5a22f8"
    },
    {
      "cell_type": "code",
      "execution_count": 69,
      "metadata": {
        "tags": []
      },
      "outputs": [],
      "source": [
        "df[lambda _df: _df.A.isna()] "
      ],
      "id": "9f093c80-5cb4-448d-bed4-d66aa05137b4"
    },
    {
      "cell_type": "markdown",
      "metadata": {},
      "source": [
        "`#`\n",
        "\n",
        "`예시2`: 예시1의 (표현3)은 `.loc`, `.iloc` 에서도 가능함"
      ],
      "id": "9b7bf507-d754-42a3-9f84-546ad0a2f0f7"
    },
    {
      "cell_type": "code",
      "execution_count": 32,
      "metadata": {
        "tags": []
      },
      "outputs": [],
      "source": [
        "df = pd.DataFrame({'A':[-1,np.nan,1,1],'B':[2,3,np.nan,4],'C':[np.nan,4,5,6]})\n",
        "df"
      ],
      "id": "d3b4124d-bf9a-49c0-825c-1661bdbfa73a"
    },
    {
      "cell_type": "code",
      "execution_count": 71,
      "metadata": {
        "tags": []
      },
      "outputs": [],
      "source": [
        "df.loc[lambda _df: _df.A.isna(), :]"
      ],
      "id": "fe8ad188-59fb-4155-9f9a-9278ad3e0bbb"
    },
    {
      "cell_type": "code",
      "execution_count": 42,
      "metadata": {
        "tags": []
      },
      "outputs": [],
      "source": [
        "df.iloc[lambda _df: list(_df.A.isna()), :]"
      ],
      "id": "841e56f1-2c6f-41ed-979c-c4b896679a0a"
    },
    {
      "cell_type": "markdown",
      "metadata": {},
      "source": [
        "-   iloc은 True, False 형태로 이루어진 pd.Series가 들어올 경우 인덱싱이\n",
        "    불가능하므로 리스트로 바꿔줘야했었음..\n",
        "\n",
        "`#`\n",
        "\n",
        "`예시3`: 왜 이런 문법이 있을까? 연속적으로 dataFrame을 변화시킬 경우\n",
        "유리한 테크닉"
      ],
      "id": "37721b9e-dfa9-4bcf-a96b-dc0205a054fb"
    },
    {
      "cell_type": "code",
      "execution_count": 43,
      "metadata": {
        "tags": []
      },
      "outputs": [],
      "source": [
        "df = pd.DataFrame({'A':[-1,np.nan,1,1],'B':[2,3,np.nan,4],'C':[np.nan,4,5,6]})\n",
        "df"
      ],
      "id": "9872d960-43d1-4f4f-8714-dc48b3c6453d"
    },
    {
      "cell_type": "markdown",
      "metadata": {},
      "source": [
        "step1: D=A+B+C를 계산"
      ],
      "id": "4d16a613-c0ef-4b43-8a23-dba3aed2c178"
    },
    {
      "cell_type": "code",
      "execution_count": 59,
      "metadata": {
        "tags": []
      },
      "outputs": [],
      "source": [
        "df.assign(D=df.A+df.B+df.C)"
      ],
      "id": "955c9690-09e1-4766-b4c1-67fd1ea948c7"
    },
    {
      "cell_type": "markdown",
      "metadata": {},
      "source": [
        "step2: 여기에서 결측치의 값이 50%가 넘는 열만 고르고 싶다면?"
      ],
      "id": "eb626a65-bf82-4a52-9e14-7ed79dc2e0fe"
    },
    {
      "cell_type": "code",
      "execution_count": 62,
      "metadata": {
        "tags": []
      },
      "outputs": [],
      "source": [
        "df.assign(D=df.A+df.B+df.C).loc[:,lambda _df: _df.isna().mean()>0.5]"
      ],
      "id": "b548491a-43b6-4fd8-97d5-8d27364bca7f"
    },
    {
      "cell_type": "markdown",
      "metadata": {},
      "source": [
        "`#`\n",
        "\n",
        "## B. `lambda df:` with assign\n",
        "\n",
        "`예시1`"
      ],
      "id": "703a87f4-cf8f-459a-a54b-01d160f3ef3c"
    },
    {
      "cell_type": "code",
      "execution_count": 63,
      "metadata": {
        "tags": []
      },
      "outputs": [],
      "source": [
        "df = pd.DataFrame({'A':[-1,np.nan,1,1],'B':[2,3,np.nan,4],'C':[np.nan,4,5,6]})\n",
        "df"
      ],
      "id": "eb86d23e-e573-4165-832c-99a4e3a5d37b"
    },
    {
      "cell_type": "markdown",
      "metadata": {},
      "source": [
        "step1: D=A+B+C"
      ],
      "id": "64101b3f-8d62-44f5-9a6d-68121ffdb609"
    },
    {
      "cell_type": "code",
      "execution_count": 64,
      "metadata": {
        "tags": []
      },
      "outputs": [],
      "source": [
        "df.eval('D=A+B+C')"
      ],
      "id": "a824f365-f811-41fd-af5c-86fece55a639"
    },
    {
      "cell_type": "markdown",
      "metadata": {},
      "source": [
        "step2: 여기에서 결측치의 값을 row-wise하게 count하여 새로운열 `E`에\n",
        "할당하고 싶다면?"
      ],
      "id": "0cde386c-b4d9-4322-86f5-2bf8822e1a70"
    },
    {
      "cell_type": "code",
      "execution_count": 77,
      "metadata": {
        "tags": []
      },
      "outputs": [],
      "source": [
        "df.eval('D=A+B+C').assign(E = lambda _df: _df.isna().sum(axis=1))"
      ],
      "id": "be2fd32c-a18d-48fa-8233-4937d06f2e1b"
    },
    {
      "cell_type": "markdown",
      "metadata": {},
      "source": [
        "`#`\n",
        "\n",
        "`예시2` – 원본데이터를 손상시키지 않으며 데이터를 변형하고 싶을때.."
      ],
      "id": "9d7694f3-4817-40de-a064-8de5189e35cd"
    },
    {
      "cell_type": "code",
      "execution_count": 78,
      "metadata": {
        "tags": []
      },
      "outputs": [],
      "source": [
        "np.random.seed(43052)\n",
        "df = pd.DataFrame({'A':[12,234,3456,12345,654222]})\n",
        "df"
      ],
      "id": "69d1f1bf-3c7c-487f-a8c2-98849a1cd081"
    },
    {
      "cell_type": "markdown",
      "metadata": {},
      "source": [
        "(풀이1) – 복사본생성 (실패)\n",
        "\n",
        "step1: 복사본생성 (?)"
      ],
      "id": "2b51f508-24c4-4f64-80de-c1dab5be9841"
    },
    {
      "cell_type": "code",
      "execution_count": 80,
      "metadata": {
        "tags": []
      },
      "outputs": [],
      "source": [
        "df2 = df "
      ],
      "id": "35177641-2e47-4ec7-aa78-7601d5665ca2"
    },
    {
      "cell_type": "code",
      "execution_count": 82,
      "metadata": {
        "tags": []
      },
      "outputs": [],
      "source": [
        "df2"
      ],
      "id": "e20cb000-6c8f-4e7f-9c03-35db039f84c5"
    },
    {
      "cell_type": "markdown",
      "metadata": {},
      "source": [
        "step2: B=log(A), C=(B-B.mean())/B.std()"
      ],
      "id": "29c22cb7-27b4-40c3-a141-0653de04dd49"
    },
    {
      "cell_type": "code",
      "execution_count": 85,
      "metadata": {
        "tags": []
      },
      "outputs": [],
      "source": [
        "df2['B'] = np.log(df2['A'])"
      ],
      "id": "fe4335be-ce7d-42fe-a720-da33ea5f3088"
    },
    {
      "cell_type": "code",
      "execution_count": 86,
      "metadata": {
        "tags": []
      },
      "outputs": [],
      "source": [
        "df2"
      ],
      "id": "9b06ec96-93b4-4f5f-93fd-fb2cd8b12ecb"
    },
    {
      "cell_type": "code",
      "execution_count": 90,
      "metadata": {
        "tags": []
      },
      "outputs": [],
      "source": [
        "df2['C']=(df2['B']-df2['B'].mean())/df2['B'].std()\n",
        "df2"
      ],
      "id": "cf1b4ac3-5379-4b5a-9ce2-34db409b5645"
    },
    {
      "cell_type": "code",
      "execution_count": 92,
      "metadata": {
        "tags": []
      },
      "outputs": [],
      "source": [
        "df # 이게 왜 여기서 나오지?"
      ],
      "id": "104ecf1b-1f2e-4588-9148-952ee79ac93c"
    },
    {
      "cell_type": "markdown",
      "metadata": {},
      "source": [
        "(풀이2) – 복사본생성 (성공)"
      ],
      "id": "dae139ab-720b-456a-a43d-1e310ac129c6"
    },
    {
      "cell_type": "code",
      "execution_count": 93,
      "metadata": {
        "tags": []
      },
      "outputs": [],
      "source": [
        "np.random.seed(43052)\n",
        "df = pd.DataFrame({'A':[12,234,3456,12345,654222]})\n",
        "df"
      ],
      "id": "ba505f0e-55d8-46a6-b42a-34b674c83525"
    },
    {
      "cell_type": "markdown",
      "metadata": {},
      "source": [
        "step1: 복사본생성"
      ],
      "id": "43ed6c1c-4601-4c14-affd-28d0679712d9"
    },
    {
      "cell_type": "code",
      "execution_count": 94,
      "metadata": {
        "tags": []
      },
      "outputs": [],
      "source": [
        "df2 = df.copy()"
      ],
      "id": "60730879-f520-41ed-a5e6-f8e746f3b502"
    },
    {
      "cell_type": "code",
      "execution_count": 95,
      "metadata": {
        "tags": []
      },
      "outputs": [],
      "source": [
        "df2"
      ],
      "id": "56255957-2e4f-49e1-bf6a-b4b31a4f5548"
    },
    {
      "cell_type": "markdown",
      "metadata": {},
      "source": [
        "step2: B=log(A), C=(B-B.mean())/B.std()"
      ],
      "id": "6a56e963-eb34-4a4a-a20b-6d96e2b7cd91"
    },
    {
      "cell_type": "code",
      "execution_count": 96,
      "metadata": {
        "tags": []
      },
      "outputs": [],
      "source": [
        "df2['B'] = np.log(df2['A'])"
      ],
      "id": "ffd2375b-2048-4e07-83b2-67132f19a6b4"
    },
    {
      "cell_type": "code",
      "execution_count": 97,
      "metadata": {
        "tags": []
      },
      "outputs": [],
      "source": [
        "df2"
      ],
      "id": "4e51faae-1441-4a7c-a53e-97656ba00493"
    },
    {
      "cell_type": "code",
      "execution_count": 98,
      "metadata": {
        "tags": []
      },
      "outputs": [],
      "source": [
        "df2['C']=(df2['B']-df2['B'].mean())/df2['B'].std()\n",
        "df2"
      ],
      "id": "01d1cdcd-2557-4fbb-a55b-7130e6432ac4"
    },
    {
      "cell_type": "code",
      "execution_count": 99,
      "metadata": {
        "tags": []
      },
      "outputs": [],
      "source": [
        "df # 이게 왜 여기서 나오지?"
      ],
      "id": "56682bb5-e138-4a93-8c58-7cc0d585f69e"
    },
    {
      "cell_type": "markdown",
      "metadata": {},
      "source": [
        "(풀이3) – `assign` + `lambda df:` 이용"
      ],
      "id": "5f9e1a3b-a92e-446f-addf-548a7e7b8df1"
    },
    {
      "cell_type": "code",
      "execution_count": 100,
      "metadata": {
        "tags": []
      },
      "outputs": [],
      "source": [
        "np.random.seed(43052)\n",
        "df = pd.DataFrame({'A':[12,234,3456,12345,654222]})\n",
        "df"
      ],
      "id": "94fc1262-70ff-46a1-b093-f283d9e83ae3"
    },
    {
      "cell_type": "code",
      "execution_count": 104,
      "metadata": {
        "tags": []
      },
      "outputs": [],
      "source": [
        "df.assign(B=np.log(df.A)).assign(C= lambda df: (df.B-df.B.mean())/df.B.std())"
      ],
      "id": "7a08b9da-74c7-46ae-85f2-2bdade380bd4"
    },
    {
      "cell_type": "markdown",
      "metadata": {},
      "source": [
        "(풀이4) – `eval` 이용"
      ],
      "id": "b51954b9-568a-4e29-9a86-cac599306676"
    },
    {
      "cell_type": "code",
      "execution_count": 105,
      "metadata": {
        "tags": []
      },
      "outputs": [],
      "source": [
        "np.random.seed(43052)\n",
        "df = pd.DataFrame({'A':[12,234,3456,12345,654222]})\n",
        "df"
      ],
      "id": "12ed3f66-cf7a-4031-a9f5-83fa96f52e43"
    },
    {
      "cell_type": "code",
      "execution_count": 108,
      "metadata": {
        "tags": []
      },
      "outputs": [],
      "source": [
        "df.eval('B= log(A)').eval('C= (B-B.mean())/(B.std())')"
      ],
      "id": "00d6f27c-0d1b-4139-8ed7-a23943fe2bb8"
    },
    {
      "cell_type": "markdown",
      "metadata": {},
      "source": [
        "Note: eval이 가장 우수해보인다. 그렇지만 eval expression에 지원하는\n",
        "함수는 한계가 있다. (sin,cos은 지원되는데 tan은 안된다든가..)"
      ],
      "id": "ecc1a032-af8b-4340-832f-8032e61f8afc"
    },
    {
      "cell_type": "code",
      "execution_count": 114,
      "metadata": {
        "tags": []
      },
      "outputs": [],
      "source": [
        "_df = pd.DataFrame({'A':np.linspace(-1.5,1.5,100)})\n",
        "_df"
      ],
      "id": "d64e8373-fac1-4d94-8c37-1881d78d3e0d"
    },
    {
      "cell_type": "code",
      "execution_count": 117,
      "metadata": {
        "tags": []
      },
      "outputs": [
        {
          "output_type": "display_data",
          "metadata": {},
          "data": {
            "image/png": "[encoded data removed]"
          }
        }
      ],
      "source": [
        "f = np.tan \n",
        "_df.eval('B=@f(A)').plot(y='B') # 그래서 이게 정석임.."
      ],
      "id": "ea00867a-6689-4b84-ab54-0bdb06e8bd7f"
    },
    {
      "cell_type": "markdown",
      "metadata": {},
      "source": [
        "# 4. Pandas – MultiIndex의 이해\n",
        "\n",
        "## A. 원래 `df`, `s`는 딕셔너리 계열임\n",
        "\n",
        "`-` 예시1: df는 dct에서 만들수 있음"
      ],
      "id": "9f6755b2-c5bf-4232-a27d-18c81f7a6841"
    },
    {
      "cell_type": "code",
      "execution_count": 118,
      "metadata": {
        "tags": []
      },
      "outputs": [],
      "source": [
        "dct = {'A': [1,2,3],'B': [2,3,4]}\n",
        "df = pd.DataFrame(dct)\n",
        "df"
      ],
      "id": "41910082-1528-4b69-9b5d-2fab6bf26d15"
    },
    {
      "cell_type": "code",
      "execution_count": 125,
      "metadata": {
        "tags": []
      },
      "outputs": [],
      "source": [
        "df['A']"
      ],
      "id": "f17119d3-5e1a-4e21-a441-6e184a2f2ec3"
    },
    {
      "cell_type": "markdown",
      "metadata": {},
      "source": [
        "`-` 예시2: s도 dct에서 만들수 있음"
      ],
      "id": "c7fda7f7-d7a2-4218-8a9b-00a3c199a780"
    },
    {
      "cell_type": "code",
      "execution_count": 138,
      "metadata": {
        "tags": []
      },
      "outputs": [],
      "source": [
        "dct = {'43052': 80, '43053': 90, '43054': 50}\n",
        "s = pd.Series(dct)\n",
        "s"
      ],
      "id": "eecdfdf5-5ef2-49f5-b160-f51bb77f01e3"
    },
    {
      "cell_type": "code",
      "execution_count": 139,
      "metadata": {
        "tags": []
      },
      "outputs": [],
      "source": [
        "s['43052']"
      ],
      "id": "ee735613-8f3b-4011-9031-7530cf1026c1"
    },
    {
      "cell_type": "markdown",
      "metadata": {},
      "source": [
        "`-` 예시3: dict의 키로 올수 있는것들?\n",
        "\n",
        "-   ref:\n",
        "    <https://guebin.github.io/PP2023/posts/01_PythonBasic/2023-03-29-4wk-2.html>\n",
        "\n",
        "튜플로 dct를 만든다면?"
      ],
      "id": "eb23aecc-71e4-411c-8518-ce907d4d54db"
    },
    {
      "cell_type": "code",
      "execution_count": 154,
      "metadata": {
        "tags": []
      },
      "outputs": [],
      "source": [
        "dct = {('43052',4): 80, ('43053',1): 90, ('43054',2): 50} # (학번,학년)\n",
        "s = pd.Series(dct)\n",
        "s"
      ],
      "id": "a88756a0-b1d1-4f93-bf87-9b3fd12b0aed"
    },
    {
      "cell_type": "code",
      "execution_count": 157,
      "metadata": {
        "tags": []
      },
      "outputs": [],
      "source": [
        "dct[('43052',4)]"
      ],
      "id": "2ad74ebb-3164-4b57-bbbc-b13e6603b54d"
    },
    {
      "cell_type": "code",
      "execution_count": 158,
      "metadata": {
        "tags": []
      },
      "outputs": [],
      "source": [
        "s[('43052',4)]"
      ],
      "id": "833a5bc3-d017-4823-a9c5-2a022e8a8a00"
    },
    {
      "cell_type": "code",
      "execution_count": 159,
      "metadata": {
        "tags": []
      },
      "outputs": [],
      "source": [
        "s.index"
      ],
      "id": "6c053fb3-8e43-430b-bcb5-d49a5695c104"
    },
    {
      "cell_type": "markdown",
      "metadata": {},
      "source": [
        "## B. `.index` 혹은 `.columns`에 `name`이 있는 경우\n",
        "\n",
        "`예시1`: index에 이름이 있는 경우 `['id']`"
      ],
      "id": "7bf3a94c-dd8d-42ef-b23c-a558038f11f9"
    },
    {
      "cell_type": "code",
      "execution_count": 160,
      "metadata": {
        "tags": []
      },
      "outputs": [],
      "source": [
        "dct = {'43052': 80, '43053': 90, '43054': 50}\n",
        "s = pd.Series(dct)\n",
        "s"
      ],
      "id": "194887ea-74ed-4abc-98e8-4bbab2eec6da"
    },
    {
      "cell_type": "code",
      "execution_count": 161,
      "metadata": {
        "tags": []
      },
      "outputs": [],
      "source": [
        "s.rename_axis(['id'])"
      ],
      "id": "2b027af2-d40d-4059-baa3-fe27077c4e7e"
    },
    {
      "cell_type": "code",
      "execution_count": 457,
      "metadata": {
        "tags": []
      },
      "outputs": [],
      "source": [
        "s.index, s.rename_axis(['id']).index,"
      ],
      "id": "1f434bdb-4fb0-49d2-8481-933ca5bf2038"
    },
    {
      "cell_type": "markdown",
      "metadata": {},
      "source": [
        "`#`\n",
        "\n",
        "`예시2`: index에 이름이 있는 경우 `['id','year']`"
      ],
      "id": "442589c4-d554-48d5-94a3-2ab532fe4632"
    },
    {
      "cell_type": "code",
      "execution_count": 169,
      "metadata": {
        "tags": []
      },
      "outputs": [],
      "source": [
        "dct = {('43052',4): 80, ('43053',1): 90, ('43054',2): 50} # (학번,학년)\n",
        "s = pd.Series(dct)\n",
        "s.rename_axis(['id','year'])"
      ],
      "id": "940337b5-9ed2-43c2-9cd3-6922c646fa23"
    },
    {
      "cell_type": "code",
      "execution_count": 171,
      "metadata": {
        "tags": []
      },
      "outputs": [],
      "source": [
        "s.index"
      ],
      "id": "f53c5673-2658-4a3a-8a89-887ae35921bd"
    },
    {
      "cell_type": "code",
      "execution_count": 172,
      "metadata": {
        "tags": []
      },
      "outputs": [],
      "source": [
        "s.rename_axis(['id','year']).index"
      ],
      "id": "0658c642-f75c-476e-b04e-f92f3cb9d4cd"
    },
    {
      "cell_type": "markdown",
      "metadata": {},
      "source": [
        "`#`"
      ],
      "id": "9913bb54-2abc-45a7-9504-850614f80db6"
    },
    {
      "cell_type": "code",
      "execution_count": 173,
      "metadata": {
        "tags": []
      },
      "outputs": [],
      "source": [
        "dct = {('43052',4): 80, ('43053',1): 90, ('43054',2): 50} # (학번,학년)\n",
        "s = pd.Series(dct)\n",
        "s.rename_axis(['id','year'])"
      ],
      "id": "124068fd-4f62-4f4c-af47-9a5c157a8bc6"
    },
    {
      "cell_type": "markdown",
      "metadata": {},
      "source": [
        "`예시3`: 예시2가 데이터프레임이라면 이렇게 보인다"
      ],
      "id": "a820e4e0-e6ae-4c43-9c57-9098ed88f971"
    },
    {
      "cell_type": "code",
      "execution_count": 175,
      "metadata": {
        "tags": []
      },
      "outputs": [],
      "source": [
        "dct = {('43052',4): 80, ('43053',1): 90, ('43054',2): 50} # (학번,학년)\n",
        "s = pd.Series(dct)\n",
        "df = pd.DataFrame(s.rename_axis(['id','year']))\n",
        "df"
      ],
      "id": "f836b28b-2caa-4a1f-bfae-5c9724d365f0"
    },
    {
      "cell_type": "code",
      "execution_count": 461,
      "metadata": {
        "tags": []
      },
      "outputs": [],
      "source": [
        "df.columns"
      ],
      "id": "1dca11d2-aa50-4d90-8ed5-bff9c56a77be"
    },
    {
      "cell_type": "code",
      "execution_count": 462,
      "metadata": {
        "tags": []
      },
      "outputs": [],
      "source": [
        "df.index"
      ],
      "id": "8a11434f-9f1c-4f1a-a6f2-3302a03f44b9"
    },
    {
      "cell_type": "markdown",
      "metadata": {},
      "source": [
        "`#`\n",
        "\n",
        "`예시4`: 심슨의 역설 – 전체"
      ],
      "id": "745b4b28-13ed-4c46-9b9e-3c53d92643ae"
    },
    {
      "cell_type": "code",
      "execution_count": 183,
      "metadata": {
        "tags": []
      },
      "outputs": [
        {
          "output_type": "stream",
          "name": "stderr",
          "text": [
            "/tmp/ipykernel_2417284/2316601964.py:1: FutureWarning: The provided callable <built-in function sum> is currently using DataFrameGroupBy.sum. In a future version of pandas, the provided callable will be used directly. To keep current behavior pass the string \"sum\" instead."
          ]
        }
      ],
      "source": [
        "df=pd.read_csv(\"https://raw.githubusercontent.com/guebin/DV2022/master/posts/Simpson.csv\",index_col=0,header=[0,1])\\\n",
        ".stack().stack().reset_index()\\\n",
        ".rename({'level_0':'department','level_1':'result','level_2':'gender',0:'count'},axis=1).pivot_table(index='gender', columns='result', values='count', aggfunc=sum)\n",
        "df"
      ],
      "id": "112de13a-48d5-4cbb-bdbc-61652d5ce528"
    },
    {
      "cell_type": "code",
      "execution_count": 464,
      "metadata": {
        "tags": []
      },
      "outputs": [],
      "source": [
        "df.index,df.columns"
      ],
      "id": "1004a7c4-704f-43c2-8494-2130f6f19ffa"
    },
    {
      "cell_type": "markdown",
      "metadata": {},
      "source": [
        "1열과 2열을 더하고 싶다면? 단순히 아래와 같이 하면 된다. (여기에서\n",
        "`gender`,`result`는 각각 index 의 이름, columns의 이름일 뿐이므로 신경쓸\n",
        "필요 없음)"
      ],
      "id": "357bd15f-d378-4d0c-bf5d-ffaa1a48a3f7"
    },
    {
      "cell_type": "code",
      "execution_count": 195,
      "metadata": {
        "tags": []
      },
      "outputs": [],
      "source": [
        "df['fail']+df['pass']"
      ],
      "id": "de2ffb77-d471-4c3e-a7dc-412ffcb059c6"
    },
    {
      "cell_type": "markdown",
      "metadata": {},
      "source": [
        "`#`\n",
        "\n",
        "`예시5`: 심슨의 역설 – 학과별"
      ],
      "id": "1266366d-8366-4476-a491-bf2122c26cd2"
    },
    {
      "cell_type": "code",
      "execution_count": 196,
      "metadata": {
        "tags": []
      },
      "outputs": [
        {
          "output_type": "stream",
          "name": "stderr",
          "text": [
            "/tmp/ipykernel_2417284/2434963071.py:1: FutureWarning: The provided callable <built-in function sum> is currently using DataFrameGroupBy.sum. In a future version of pandas, the provided callable will be used directly. To keep current behavior pass the string \"sum\" instead."
          ]
        }
      ],
      "source": [
        "df = pd.read_csv(\"https://raw.githubusercontent.com/guebin/DV2022/master/posts/Simpson.csv\",index_col=0,header=[0,1])\\\n",
        ".stack().stack().reset_index()\\\n",
        ".rename({'level_0':'department','level_1':'result','level_2':'gender',0:'count'},axis=1).pivot_table(index=['gender','department'], columns='result',values='count',aggfunc=sum)\n",
        "df "
      ],
      "id": "c396f24f-d0da-459d-a46d-bd2265121877"
    },
    {
      "cell_type": "code",
      "execution_count": 467,
      "metadata": {
        "tags": []
      },
      "outputs": [],
      "source": [
        "df.index, df.columns"
      ],
      "id": "56e56bd5-1b69-4b1f-ad29-c013ed7ac868"
    },
    {
      "cell_type": "markdown",
      "metadata": {},
      "source": [
        "학과별 합격률을 알고 싶다면?"
      ],
      "id": "63160adf-54ae-4cf4-9ba4-4c8b15eb3150"
    },
    {
      "cell_type": "code",
      "execution_count": 205,
      "metadata": {
        "tags": []
      },
      "outputs": [],
      "source": [
        "df.assign(rate = df['pass']/df.sum(axis=1))"
      ],
      "id": "2ef616bb-7abd-4dba-aab3-28a04c502ed1"
    },
    {
      "cell_type": "markdown",
      "metadata": {},
      "source": [
        "`#`\n",
        "\n",
        "# 5. Pandas – tidydata\n",
        "\n",
        "## A. tidydata의 개념\n",
        "\n",
        "`-` 아래의 자료는 불리하다. (뭐가??)"
      ],
      "id": "7d07681f-28c7-4166-b8ad-87f508e280e2"
    },
    {
      "cell_type": "code",
      "execution_count": 206,
      "metadata": {
        "tags": []
      },
      "outputs": [
        {
          "output_type": "stream",
          "name": "stderr",
          "text": [
            "/tmp/ipykernel_2417284/2434963071.py:1: FutureWarning: The provided callable <built-in function sum> is currently using DataFrameGroupBy.sum. In a future version of pandas, the provided callable will be used directly. To keep current behavior pass the string \"sum\" instead."
          ]
        }
      ],
      "source": [
        "df = pd.read_csv(\"https://raw.githubusercontent.com/guebin/DV2022/master/posts/Simpson.csv\",index_col=0,header=[0,1])\\\n",
        ".stack().stack().reset_index()\\\n",
        ".rename({'level_0':'department','level_1':'result','level_2':'gender',0:'count'},axis=1).pivot_table(index=['gender','department'], columns='result',values='count',aggfunc=sum)\n",
        "df "
      ],
      "id": "4ed68005-c1ca-4932-9431-26e19e2c7e58"
    },
    {
      "cell_type": "markdown",
      "metadata": {},
      "source": [
        "`-` 가정1: 만약에 A학과에 해당하는 결과만 뽑고 싶다면? –\\> departmet가\n",
        "column으로 있어야함..\n",
        "\n",
        "`-` 가정2: 이 데이터를 바탕으로 합격한사람만 bar plot을 그리고 싶다면?\n",
        "–\\> department, gender, pass 가 column으로 있어야함.."
      ],
      "id": "f13a8789-cd08-4b6b-8d37-2b71f395a41b"
    },
    {
      "cell_type": "code",
      "execution_count": 479,
      "metadata": {
        "tags": []
      },
      "outputs": [
        {
          "output_type": "display_data",
          "metadata": {},
          "data": {
            "image/png": "[encoded data removed]"
          }
        }
      ],
      "source": [
        "tidydata = df['pass'].reset_index()\n",
        "#---# \n",
        "fig = ggplot(tidydata)\n",
        "col = geom_col(aes(x='department',y='pass',fill='gender'),position='dodge')\n",
        "fig + col"
      ],
      "id": "ca4fb5ba-2fe6-4fbb-b627-d8357f6dd88e"
    },
    {
      "cell_type": "markdown",
      "metadata": {},
      "source": [
        "`-` tidydata 정의: <https://r4ds.had.co.nz/tidy-data.html>\n",
        "\n",
        "1.  Each variable must have its own column.\n",
        "2.  Each observation must have its own row.\n",
        "3.  Each value must have its own cell.\n",
        "\n",
        "## B. tidydata가 아닌 예시\n",
        "\n",
        "`예시1` – MultiIndex 구조를 가지면 무조건 tidydata가 아니다."
      ],
      "id": "40e754a0-5072-4898-9ad6-7981ff24bdb3"
    },
    {
      "cell_type": "code",
      "execution_count": 213,
      "metadata": {
        "tags": []
      },
      "outputs": [
        {
          "output_type": "stream",
          "name": "stderr",
          "text": [
            "/tmp/ipykernel_2417284/2434963071.py:1: FutureWarning: The provided callable <built-in function sum> is currently using DataFrameGroupBy.sum. In a future version of pandas, the provided callable will be used directly. To keep current behavior pass the string \"sum\" instead."
          ]
        }
      ],
      "source": [
        "df = pd.read_csv(\"https://raw.githubusercontent.com/guebin/DV2022/master/posts/Simpson.csv\",index_col=0,header=[0,1])\\\n",
        ".stack().stack().reset_index()\\\n",
        ".rename({'level_0':'department','level_1':'result','level_2':'gender',0:'count'},axis=1).pivot_table(index=['gender','department'], columns='result',values='count',aggfunc=sum)\n",
        "df "
      ],
      "id": "9436c25c-c5c1-4086-b945-6cd22aaa2606"
    },
    {
      "cell_type": "markdown",
      "metadata": {},
      "source": [
        "-   이건 tidydata가 아니고"
      ],
      "id": "dfaceee2-d6d6-4cee-a2c3-defbdb8bc023"
    },
    {
      "cell_type": "code",
      "execution_count": 481,
      "metadata": {
        "tags": []
      },
      "outputs": [],
      "source": [
        "tidydata = df.stack().reset_index().rename({0:'applicant_count'},axis=1)\n",
        "tidydata "
      ],
      "id": "3bcf27aa-371b-4477-bb8c-ee23d111452b"
    },
    {
      "cell_type": "markdown",
      "metadata": {},
      "source": [
        "-   이것이 tidydata\n",
        "\n",
        "`-` 구분하는 방법1: 직관에 의한 설명\n",
        "\n",
        "-   query쓰기 불편: 남성지원자만 뽑고 싶다면?, 학과A만 뽑고싶다면?\n",
        "    탈락한지원자만 뽑고싶다면? 학과A에서 탈락한 지원자만 뽑고싶다면??\n",
        "-   시각화하기 불편:\n",
        "-   하여튼 다루기 불편해..\n",
        "\n",
        "`-` 구분하는 방법2: 정의에 의한 설명\n",
        "\n",
        "-   `df`는 원칙 1에 위배된다. (왜냐하면 `gender`,\n",
        "    `department`,`result`,`applicant_count`에 해당하는 변수는 하나의\n",
        "    컬럼을 차지하지 못함)\n",
        "-   `df`는 원칙 2에 위배된다. (왜냐하면 하나의 행에 2개의\n",
        "    `applicant_count` observation이 존재함)\n",
        "\n",
        "`#`\n",
        "\n",
        "`예시2` – 아래의 자료는 tidydata가 아니다."
      ],
      "id": "dd97b8ff-29cb-480f-8871-eecf7aca4a80"
    },
    {
      "cell_type": "code",
      "execution_count": 482,
      "metadata": {
        "tags": []
      },
      "outputs": [
        {
          "output_type": "stream",
          "name": "stderr",
          "text": [
            "/tmp/ipykernel_2278789/2865855793.py:1: FutureWarning: The provided callable <built-in function sum> is currently using DataFrameGroupBy.sum. In a future version of pandas, the provided callable will be used directly. To keep current behavior pass the string \"sum\" instead."
          ]
        }
      ],
      "source": [
        "df=pd.read_csv(\"https://raw.githubusercontent.com/guebin/DV2022/master/posts/Simpson.csv\",index_col=0,header=[0,1])\\\n",
        ".stack().stack().reset_index()\\\n",
        ".rename({'level_0':'department','level_1':'result','level_2':'gender',0:'count'},axis=1).pivot_table(index='gender', columns='result', values='count', aggfunc=sum)\\\n",
        ".assign(pass_fail = lambda df: list(map(lambda x,y: (y,x),df['fail'],df['pass']))).drop(['fail','pass'],axis=1).reset_index()\n",
        "df"
      ],
      "id": "5762c324-54d3-442f-b21e-b9121471d30a"
    },
    {
      "cell_type": "markdown",
      "metadata": {},
      "source": [
        "-   이 `df`는 원칙 3에 위배된다.\n",
        "\n",
        "`#`\n",
        "\n",
        "`# 예시3` – wide df"
      ],
      "id": "1730a9af-c7e0-4068-8753-f747220795d9"
    },
    {
      "cell_type": "code",
      "execution_count": 214,
      "metadata": {
        "tags": []
      },
      "outputs": [],
      "source": [
        "df=pd.read_csv('https://raw.githubusercontent.com/guebin/2021DV/master/_notebooks/phone.csv')\n",
        "df"
      ],
      "id": "fceee743-6db9-4f73-9aef-aed333df025b"
    },
    {
      "cell_type": "markdown",
      "metadata": {},
      "source": [
        "-   이건 tidydata 가 아니고"
      ],
      "id": "19419786-26af-491a-ad35-e5b7edf6e799"
    },
    {
      "cell_type": "code",
      "execution_count": 484,
      "metadata": {
        "tags": []
      },
      "outputs": [],
      "source": [
        "tidydata = df.melt(id_vars='Date').assign(Date = lambda _df: _df.Date.apply(pd.to_datetime))\n",
        "tidydata"
      ],
      "id": "d48a8ba1-3fb5-48b6-95d3-9258bf37beb5"
    },
    {
      "cell_type": "markdown",
      "metadata": {},
      "source": [
        "-   이건 tidydata 이다.\n",
        "\n",
        "`-` df를 가지고 아래와 같은 그림을 그릴 수 있겠어?"
      ],
      "id": "b745b71a-63ce-48c3-a96f-2dd4cd582c26"
    },
    {
      "cell_type": "code",
      "execution_count": 485,
      "metadata": {
        "tags": []
      },
      "outputs": [
        {
          "output_type": "display_data",
          "metadata": {},
          "data": {
            "image/png": "[encoded data removed]"
          }
        }
      ],
      "source": [
        "fig = ggplot(tidydata)\n",
        "line = geom_line(aes(x='Date',y='value',color='variable'))\n",
        "fig + line"
      ],
      "id": "27f2b42c-0839-4c60-8e6d-ee26350e000e"
    },
    {
      "cell_type": "markdown",
      "metadata": {},
      "source": [
        "# 6. Pandas – `melt`/`stack`\n",
        "\n",
        "## A. `reset_index()`\n",
        "\n",
        "> 중첩구조를 가지는 series일 경우 `.reset_index()`를 사용하면 쉽게\n",
        "> tidydata를 얻을 수 있다.\n",
        "\n",
        "`-` 예시1"
      ],
      "id": "f8d7b913-e9ef-49b5-94ae-da5290c32b3e"
    },
    {
      "cell_type": "code",
      "execution_count": 215,
      "metadata": {
        "tags": []
      },
      "outputs": [],
      "source": [
        "dct = {'43052': 80, '43053': 90, '43054': 50}\n",
        "s = pd.Series(dct)\n",
        "s"
      ],
      "id": "dcb2e37b-624b-41a3-98fa-7532ba7124c5"
    },
    {
      "cell_type": "code",
      "execution_count": 216,
      "metadata": {
        "tags": []
      },
      "outputs": [],
      "source": [
        "s.reset_index()"
      ],
      "id": "26891a9f-31f4-415b-881b-8fa3c99a1e27"
    },
    {
      "cell_type": "markdown",
      "metadata": {},
      "source": [
        "`-` 예시2"
      ],
      "id": "85331508-84b4-4aeb-a796-0b6973d38b79"
    },
    {
      "cell_type": "code",
      "execution_count": 217,
      "metadata": {
        "tags": []
      },
      "outputs": [],
      "source": [
        "dct = {('43052',4): 80, ('43053',1): 90, ('43054',2): 50} # (학번,학년)\n",
        "s = pd.Series(dct)\n",
        "s"
      ],
      "id": "ee0445a7-9b96-4c78-a344-0cd6c12f5b11"
    },
    {
      "cell_type": "code",
      "execution_count": 220,
      "metadata": {
        "tags": []
      },
      "outputs": [],
      "source": [
        "s.reset_index()"
      ],
      "id": "85add310-5588-4037-9a0c-dd84c501a211"
    },
    {
      "cell_type": "markdown",
      "metadata": {},
      "source": [
        "`-` 예시3"
      ],
      "id": "e6934b18-6a84-4069-9600-c48bac011acf"
    },
    {
      "cell_type": "code",
      "execution_count": 221,
      "metadata": {
        "tags": []
      },
      "outputs": [],
      "source": [
        "df=pd.read_csv(\"https://raw.githubusercontent.com/guebin/DV2022/master/posts/Simpson.csv\",index_col=0,header=[0,1]).stack().stack()\n",
        "df"
      ],
      "id": "955f6dda-9e11-46fa-b3e3-4cb3a9be8ad3"
    },
    {
      "cell_type": "code",
      "execution_count": 223,
      "metadata": {},
      "outputs": [],
      "source": [
        "df.reset_index()"
      ],
      "id": "f3df23be-4cb8-4608-a1a7-6de0b5e4ad6f"
    },
    {
      "cell_type": "markdown",
      "metadata": {},
      "source": [
        "`-` 예시4 – `.reset_index()` 는 말그대로 index를 reset 하는 명령어, 꼭\n",
        "`pd.Series`에만 쓰는건 아니다."
      ],
      "id": "a9900778-cc9c-4cbf-a849-f86b4494a7c2"
    },
    {
      "cell_type": "code",
      "execution_count": 224,
      "metadata": {
        "tags": []
      },
      "outputs": [],
      "source": [
        "df=pd.read_csv(\"https://raw.githubusercontent.com/guebin/DV2022/master/posts/Simpson.csv\",index_col=0,header=[0,1]).stack()\n",
        "df"
      ],
      "id": "9487c16a-cb13-4a75-ae83-ee8649c7ea73"
    },
    {
      "cell_type": "code",
      "execution_count": 225,
      "metadata": {
        "tags": []
      },
      "outputs": [],
      "source": [
        "df.reset_index()"
      ],
      "id": "98638f54-7ce4-4cda-9893-32abf6b4eea7"
    },
    {
      "cell_type": "markdown",
      "metadata": {},
      "source": [
        "## B. `melt()`\n",
        "\n",
        "`# 예시1`: 아래의 자료를 tidydata로 만들라."
      ],
      "id": "69f3f508-7de6-4ee8-b2f6-0837243c9803"
    },
    {
      "cell_type": "code",
      "execution_count": 226,
      "metadata": {
        "tags": []
      },
      "outputs": [],
      "source": [
        "df = pd.read_csv('https://raw.githubusercontent.com/guebin/2021DV/master/_notebooks/phone.csv')\n",
        "df"
      ],
      "id": "a52649df-a8ec-4879-b7dc-8bae706a8236"
    },
    {
      "cell_type": "markdown",
      "metadata": {},
      "source": [
        "(풀이1) `.melt()` – 실패"
      ],
      "id": "4295c64a-46b7-4d4d-90d9-8211ea4e49ed"
    },
    {
      "cell_type": "code",
      "execution_count": 237,
      "metadata": {
        "tags": []
      },
      "outputs": [],
      "source": [
        "df.melt()"
      ],
      "id": "fc4b3ae1-804a-40c6-b460-cdee16a35ab9"
    },
    {
      "cell_type": "markdown",
      "metadata": {},
      "source": [
        "(풀이2) `.melt(id_vars=)` – 성공"
      ],
      "id": "2bd8c5a1-74bf-4ca0-96cd-67b73fcd7f2f"
    },
    {
      "cell_type": "code",
      "execution_count": 238,
      "metadata": {
        "tags": []
      },
      "outputs": [],
      "source": [
        "df.melt(id_vars='Date')"
      ],
      "id": "c039054f-2ca6-4d4c-bdbe-35327d54fb69"
    },
    {
      "cell_type": "markdown",
      "metadata": {},
      "source": [
        "`#`\n",
        "\n",
        "## C. `stack()` + `reset_index()`\n",
        "\n",
        "> 제 최애테크닉: DataFrame을 MultiIndex를 가지는 Series로 “일부러”\n",
        "> 변환하고 reset_index()를 시킴\n",
        "\n",
        "`# 예시1`: 아래의 자료를 tidydata로 만들라."
      ],
      "id": "145a564e-e7fd-477f-b3af-5ced4be33d59"
    },
    {
      "cell_type": "code",
      "execution_count": 239,
      "metadata": {
        "tags": []
      },
      "outputs": [],
      "source": [
        "df = pd.read_csv('https://raw.githubusercontent.com/guebin/2021DV/master/_notebooks/phone.csv')\n",
        "df"
      ],
      "id": "33f3ce5f-7fb4-4cc4-aa5a-2407caca6292"
    },
    {
      "cell_type": "code",
      "execution_count": 247,
      "metadata": {
        "tags": []
      },
      "outputs": [],
      "source": [
        "df.set_index('Date').stack().reset_index()"
      ],
      "id": "c9896f21-973a-4f2a-a2e7-5080717bc8f4"
    },
    {
      "cell_type": "markdown",
      "metadata": {},
      "source": [
        "`#`\n",
        "\n",
        "`# 예시2`: 아래의 자료를 tidydata로 만들어라."
      ],
      "id": "c90cb51a-e628-482c-a565-b8010002ccb4"
    },
    {
      "cell_type": "code",
      "execution_count": 248,
      "metadata": {
        "tags": []
      },
      "outputs": [],
      "source": [
        "df = pd.read_csv(\"https://raw.githubusercontent.com/guebin/DV2022/master/posts/Simpson.csv\",index_col=0,header=[0,1])\n",
        "df"
      ],
      "id": "d0bf35b8-6c41-49ed-9ef2-74805d2fd0c9"
    },
    {
      "cell_type": "code",
      "execution_count": 254,
      "metadata": {
        "tags": []
      },
      "outputs": [],
      "source": [
        "df.stack().stack().reset_index()"
      ],
      "id": "b92a9597-5e53-4a85-be70-8771a2c6d31c"
    },
    {
      "cell_type": "markdown",
      "metadata": {},
      "source": [
        "`#`\n",
        "\n",
        "## D. `unstack() + reset_index()`\n",
        "\n",
        "`# 예시1` – `.stack()`과 `.unstack()`은 반대연산"
      ],
      "id": "a5bb13b0-4a6f-4bde-ace0-de623e97c074"
    },
    {
      "cell_type": "code",
      "execution_count": 270,
      "metadata": {
        "tags": []
      },
      "outputs": [
        {
          "output_type": "stream",
          "name": "stderr",
          "text": [
            "/tmp/ipykernel_2417284/3693914824.py:2: FutureWarning: The provided callable <function mean at 0x7fbb9032c310> is currently using SeriesGroupBy.mean. In a future version of pandas, the provided callable will be used directly. To keep current behavior pass the string \"mean\" instead.\n",
            "/tmp/ipykernel_2417284/3693914824.py:2: FutureWarning: The provided callable <function mean at 0x7fbb9032c310> is currently using SeriesGroupBy.mean. In a future version of pandas, the provided callable will be used directly. To keep current behavior pass the string \"mean\" instead."
          ]
        }
      ],
      "source": [
        "df=pd.read_csv('https://raw.githubusercontent.com/PacktPublishing/Pandas-Cookbook/master/data/flights.csv')\\\n",
        ".groupby([\"AIRLINE\",\"WEEKDAY\"]).agg({\"CANCELLED\":[np.mean,\"count\"],\"DIVERTED\":[np.mean,\"count\"]})\n",
        "df"
      ],
      "id": "8826b25c-ced0-4519-95d1-6a5d14e0fa72"
    },
    {
      "cell_type": "code",
      "execution_count": 274,
      "metadata": {
        "tags": []
      },
      "outputs": [],
      "source": [
        "df.stack().unstack()"
      ],
      "id": "e921f831-eced-45fb-a6c8-5c76658ae309"
    },
    {
      "cell_type": "markdown",
      "metadata": {},
      "source": [
        "`#`\n",
        "\n",
        "`# 예시2` – 아래의 자료를 tidydata로 만들라."
      ],
      "id": "580176f0-e50c-4635-857e-5d2b0dc60202"
    },
    {
      "cell_type": "code",
      "execution_count": 275,
      "metadata": {
        "tags": []
      },
      "outputs": [
        {
          "output_type": "stream",
          "name": "stderr",
          "text": [
            "/tmp/ipykernel_2417284/3693914824.py:2: FutureWarning: The provided callable <function mean at 0x7fbb9032c310> is currently using SeriesGroupBy.mean. In a future version of pandas, the provided callable will be used directly. To keep current behavior pass the string \"mean\" instead.\n",
            "/tmp/ipykernel_2417284/3693914824.py:2: FutureWarning: The provided callable <function mean at 0x7fbb9032c310> is currently using SeriesGroupBy.mean. In a future version of pandas, the provided callable will be used directly. To keep current behavior pass the string \"mean\" instead."
          ]
        }
      ],
      "source": [
        "df=pd.read_csv('https://raw.githubusercontent.com/PacktPublishing/Pandas-Cookbook/master/data/flights.csv')\\\n",
        ".groupby([\"AIRLINE\",\"WEEKDAY\"]).agg({\"CANCELLED\":[np.mean,\"count\"],\"DIVERTED\":[np.mean,\"count\"]})\n",
        "df"
      ],
      "id": "13fe6e29-abb1-4223-a54d-efe8abb6c8d7"
    },
    {
      "cell_type": "markdown",
      "metadata": {},
      "source": [
        "(풀이1) – stack 2번"
      ],
      "id": "5100395e-797f-419a-af33-66c247171be0"
    },
    {
      "cell_type": "code",
      "execution_count": 277,
      "metadata": {
        "tags": []
      },
      "outputs": [],
      "source": [
        "df.stack().stack().reset_index()"
      ],
      "id": "7f2711ee-1adc-45ec-8c3b-fb4519978a2d"
    },
    {
      "cell_type": "markdown",
      "metadata": {},
      "source": [
        "(풀이2) – unstack 2번"
      ],
      "id": "3ebbcc8e-6d9b-4842-8d7e-a57146138cb8"
    },
    {
      "cell_type": "code",
      "execution_count": 278,
      "metadata": {
        "tags": []
      },
      "outputs": [],
      "source": [
        "df.unstack().unstack().reset_index()"
      ],
      "id": "8388fe61-8d27-4ce1-85c0-64b9b1c6bb49"
    },
    {
      "cell_type": "markdown",
      "metadata": {},
      "source": [
        "`예시3` – 아래의 자료를 tidydata로 만들어라."
      ],
      "id": "b0582d3f-036e-4dfc-8e53-6fee735a615d"
    },
    {
      "cell_type": "code",
      "execution_count": 279,
      "metadata": {
        "tags": []
      },
      "outputs": [],
      "source": [
        "df=pd.read_csv(\"https://raw.githubusercontent.com/guebin/DV2022/master/posts/Simpson.csv\",index_col=0,header=[0,1])\n",
        "df"
      ],
      "id": "179f995c-c718-40f7-886e-f2d2a2e443f1"
    },
    {
      "cell_type": "markdown",
      "metadata": {},
      "source": [
        "(풀이1) – stack 2번"
      ],
      "id": "d7a2fc28-3022-40ba-ab22-e75920d6348f"
    },
    {
      "cell_type": "code",
      "execution_count": 282,
      "metadata": {
        "tags": []
      },
      "outputs": [],
      "source": [
        "df.stack().stack().reset_index()"
      ],
      "id": "88be89ce-6bca-43bf-b2f7-e7c27072ebd7"
    },
    {
      "cell_type": "markdown",
      "metadata": {},
      "source": [
        "(풀이2) – unstack 1번"
      ],
      "id": "29edd12a-8301-441c-9991-e2ccf73ec3eb"
    },
    {
      "cell_type": "code",
      "execution_count": 285,
      "metadata": {
        "tags": []
      },
      "outputs": [],
      "source": [
        "df.unstack().reset_index()"
      ],
      "id": "35ac0da5-213f-41dd-a114-de890a8d7518"
    },
    {
      "cell_type": "markdown",
      "metadata": {},
      "source": [
        "# 7. HW\n",
        "\n",
        "아래의 자료를 tidydata로 변환하라."
      ],
      "id": "3293f6a1-ae6f-4a8b-90e9-50d74d56e7df"
    },
    {
      "cell_type": "code",
      "execution_count": 527,
      "metadata": {
        "tags": []
      },
      "outputs": [],
      "source": [
        "s = pd.Series({\n",
        "    ('female','A'):0.5,\n",
        "    ('female','B'):0.2,\n",
        "    ('male','A'):0.3,\n",
        "    ('male','B'):0.7\n",
        "})\n",
        "s"
      ],
      "id": "60b2387b-2f84-4f09-8450-741a236394f5"
    },
    {
      "cell_type": "code",
      "execution_count": 528,
      "metadata": {
        "tags": []
      },
      "outputs": [],
      "source": [
        "# 출력결과는 아래와 같아야 한다. "
      ],
      "id": "2dd78b17-a915-4ad5-b003-85b255e7303f"
    }
  ],
  "nbformat": 4,
  "nbformat_minor": 5,
  "metadata": {
    "kernelspec": {
      "name": "python3",
      "display_name": "Python 3 (ipykernel)",
      "language": "python"
    },
    "language_info": {
      "name": "python",
      "codemirror_mode": {
        "name": "ipython",
        "version": "3"
      },
      "file_extension": ".py",
      "mimetype": "text/x-python",
      "nbconvert_exporter": "python",
      "pygments_lexer": "ipython3",
      "version": "3.10.13"
    }
  }
}