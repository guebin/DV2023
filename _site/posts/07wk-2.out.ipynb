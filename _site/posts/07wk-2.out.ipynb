{
  "cells": [
    {
      "cell_type": "markdown",
      "metadata": {},
      "source": [
        "# 07wk-2: Pandas – pivot_table, groupby\n",
        "\n",
        "최규빈  \n",
        "2023-10-16"
      ],
      "id": "6c825ff6-c607-4a2e-8da6-6949c3c95c8a"
    },
    {
      "cell_type": "code",
      "execution_count": 1,
      "metadata": {},
      "outputs": [],
      "source": [
        "import pandas as pd \n",
        "import numpy as np"
      ],
      "id": "cell-1"
    },
    {
      "cell_type": "code",
      "execution_count": 2,
      "metadata": {},
      "outputs": [
        {
          "output_type": "stream",
          "name": "stdout",
          "text": [
            "<class 'pandas.core.frame.DataFrame'>\n",
            "RangeIndex: 58492 entries, 0 to 58491\n",
            "Data columns (total 14 columns):\n",
            " #   Column     Non-Null Count  Dtype  \n",
            "---  ------     --------------  -----  \n",
            " 0   MONTH      58492 non-null  int64  \n",
            " 1   DAY        58492 non-null  int64  \n",
            " 2   WEEKDAY    58492 non-null  int64  \n",
            " 3   AIRLINE    58492 non-null  object \n",
            " 4   ORG_AIR    58492 non-null  object \n",
            " 5   DEST_AIR   58492 non-null  object \n",
            " 6   SCHED_DEP  58492 non-null  int64  \n",
            " 7   DEP_DELAY  57659 non-null  float64\n",
            " 8   AIR_TIME   57474 non-null  float64\n",
            " 9   DIST       58492 non-null  int64  \n",
            " 10  SCHED_ARR  58492 non-null  int64  \n",
            " 11  ARR_DELAY  57474 non-null  float64\n",
            " 12  DIVERTED   58492 non-null  int64  \n",
            " 13  CANCELLED  58492 non-null  int64  \n",
            "dtypes: float64(3), int64(8), object(3)\n",
            "memory usage: 6.2+ MB"
          ]
        }
      ],
      "source": [
        "df=pd.read_csv('https://raw.githubusercontent.com/PacktPublishing/Pandas-Cookbook/master/data/flights.csv')\n",
        "df.info()"
      ],
      "id": "cell-4"
    },
    {
      "cell_type": "markdown",
      "metadata": {},
      "source": [
        "`-` 각 변수들에 대한 설명은 아래와 같다. (ChatGPT의 도움을 받아 정리함)\n",
        "\n",
        "1.  `MONTH`: 비행이 이루어진 월을 나타냄. 1에서 12 사이의 값을 갖음.\n",
        "2.  `DAY`: 비행이 이루어진 일자를 나타냄. 월에 따라 1~28/29/30/31 사이의\n",
        "    값을 가질 수 있음.\n",
        "3.  `WEEKDAY`: 비행이 이루어진 요일을 나타냄. 일반적으로 1(일요일)부터\n",
        "    7(토요일)까지의 값을 갖음.\n",
        "4.  `AIRLINE`: 해당 항공편을 운영하는 항공사의 약어나 코드를 나타냄.\n",
        "5.  `ORG_AIR`: 비행기가 출발하는 공항의 약어나 코드를 나타냄.\n",
        "6.  `DEST_AIR`: 비행기가 도착하는 공항의 약어나 코드를 나타냄.\n",
        "7.  `SCHED_DEP`: 원래의 예정된 출발 시간을 나타냄. 시간은 일반적으로\n",
        "    HHMM 형식으로 표시될 수 있음.\n",
        "8.  `DEP_DELAY`: 출발 지연 시간을 나타냄. 음수 값은 조기 출발, 양수 값은\n",
        "    지연을 의미함.\n",
        "9.  `AIR_TIME`: 실제 공중에서 비행한 시간을 분 단위로 나타냄.\n",
        "10. `DIST`: 비행 거리를 나타냄. 일반적으로 마일 또는 킬로미터로 표시됨.\n",
        "11. `SCHED_ARR`: 원래의 예정된 도착 시간을 나타냄. `SCHED_DEP`와 같은\n",
        "    형식으로 표시될 수 있음.\n",
        "12. `ARR_DELAY`: 도착 지연 시간을 나타냄. 음수는 조기 도착, 양수는\n",
        "    지연을 의미함.\n",
        "13. `DIVERTED`: 항공편이 다른 곳으로 우회되었는지를 나타냄. 1은 우회,\n",
        "    0은 정상 경로를 의미함.\n",
        "14. `CANCELLED`: 항공편이 취소되었는지 여부를 나타냄. 1은 취소, 0은\n",
        "    취소되지 않음을 의미함.\n",
        "\n",
        "# 5. Groupby\n",
        "\n",
        "## A. 기본포맷\n",
        "\n",
        "`# 예제1`: 아래의 예제에서 그룹별 평균을 구하여라."
      ],
      "id": "977d9a8a-ca91-47fd-be50-f7b3f2a83712"
    },
    {
      "cell_type": "code",
      "execution_count": 12,
      "metadata": {},
      "outputs": [],
      "source": [
        "_category = ['A']*5+['B']*5\n",
        "_value = np.concatenate([np.random.randn(5), np.random.randn(5)+10])\n",
        "df = pd.DataFrame({'category':_category, 'value':_value})\n",
        "df"
      ],
      "id": "cell-10"
    },
    {
      "cell_type": "markdown",
      "metadata": {},
      "source": [
        "`-` 방법1: pivot_table 이용"
      ],
      "id": "d44ed61f-6ef7-4ecc-b438-1b33516bde20"
    },
    {
      "cell_type": "code",
      "execution_count": 14,
      "metadata": {},
      "outputs": [],
      "source": [
        "df.pivot_table(index='category',values='value')"
      ],
      "id": "cell-12"
    },
    {
      "cell_type": "code",
      "execution_count": 19,
      "metadata": {},
      "outputs": [],
      "source": [
        "df.pivot_table(columns='category',values='value',aggfunc=['mean','sum'])"
      ],
      "id": "cell-13"
    },
    {
      "cell_type": "markdown",
      "metadata": {},
      "source": [
        "`-` 방법2 groupby().aggregate()"
      ],
      "id": "5035c2de-04cf-4c9b-97f4-c35bf482c303"
    },
    {
      "cell_type": "code",
      "execution_count": 18,
      "metadata": {},
      "outputs": [],
      "source": [
        "df.groupby('category').aggregate({'values':np.mean})"
      ],
      "id": "cell-15"
    },
    {
      "cell_type": "markdown",
      "metadata": {},
      "source": [
        "***groupby(?)에서 올 수 있는 구조***\n",
        "\n",
        "-   열의이름\n",
        "-   \\[열의이름,열의이름\\]\n",
        "\n",
        "***aggregate(?)에서 올 수 있는 구조***\n",
        "\n",
        "-   함수: 함수자체[1]가 오거나, 함수를 의미하는 문자열[2] 이 올 수 있음.\n",
        "-   리스트: \\[함수, 함수\\] \\# 여기에서 함수자리에는 함수자체, 혹은\n",
        "    함수문자열 아무것이나 올 수 있음.\n",
        "-   딕셔너리1: {열의이름:함수}\n",
        "-   딕셔너리2: {열의이름:\\[함수,함수\\]}\n",
        "\n",
        "[1] np.mean,sum\n",
        "\n",
        "[2] ‘size’, ‘count’, ‘sum’, ‘mean’, ‘median’, ‘min’, ‘max’, ‘std’, ‘var’"
      ],
      "id": "ec9ec957-1c5a-41bc-93bd-9bc26faf7535"
    },
    {
      "cell_type": "code",
      "execution_count": null,
      "metadata": {},
      "outputs": [],
      "source": [
        "df.groupby(['category']).aggregate({'value':[np.mean,'size']})"
      ],
      "id": "cell-18"
    },
    {
      "cell_type": "code",
      "execution_count": 21,
      "metadata": {},
      "outputs": [
        {
          "output_type": "stream",
          "name": "stdout",
          "text": [
            "<class 'pandas.core.frame.DataFrame'>\n",
            "RangeIndex: 58492 entries, 0 to 58491\n",
            "Data columns (total 14 columns):\n",
            " #   Column     Non-Null Count  Dtype  \n",
            "---  ------     --------------  -----  \n",
            " 0   MONTH      58492 non-null  int64  \n",
            " 1   DAY        58492 non-null  int64  \n",
            " 2   WEEKDAY    58492 non-null  int64  \n",
            " 3   AIRLINE    58492 non-null  object \n",
            " 4   ORG_AIR    58492 non-null  object \n",
            " 5   DEST_AIR   58492 non-null  object \n",
            " 6   SCHED_DEP  58492 non-null  int64  \n",
            " 7   DEP_DELAY  57659 non-null  float64\n",
            " 8   AIR_TIME   57474 non-null  float64\n",
            " 9   DIST       58492 non-null  int64  \n",
            " 10  SCHED_ARR  58492 non-null  int64  \n",
            " 11  ARR_DELAY  57474 non-null  float64\n",
            " 12  DIVERTED   58492 non-null  int64  \n",
            " 13  CANCELLED  58492 non-null  int64  \n",
            "dtypes: float64(3), int64(8), object(3)\n",
            "memory usage: 6.2+ MB"
          ]
        }
      ],
      "source": [
        "df=pd.read_csv('https://raw.githubusercontent.com/PacktPublishing/Pandas-Cookbook/master/data/flights.csv')\n",
        "df.info()"
      ],
      "id": "cell-19"
    },
    {
      "cell_type": "markdown",
      "metadata": {},
      "source": [
        "### `#` EX1: \\[AIRLINE\\] $\\to$ {ARR_DELAY:mean}\n",
        "\n",
        "`-` 방법1: grouby() $\\to$ .agg({colname: function})\n",
        "\n",
        "`# 예제1`: 항공사(AIRLINE)별로 도착지연시간의(ARR_DELAY)의 평균을\n",
        "구하라.\n",
        "\n",
        "`-` 풀이1"
      ],
      "id": "428accc5-8078-4945-bacc-5c0f20f556fc"
    },
    {
      "cell_type": "code",
      "execution_count": 28,
      "metadata": {},
      "outputs": [],
      "source": [
        "df.pivot_table(index='AIRLINE',values='ARR_DELAY')"
      ],
      "id": "cell-24"
    },
    {
      "cell_type": "markdown",
      "metadata": {},
      "source": [
        "`-` 풀이2"
      ],
      "id": "e20e8228-e8db-4077-b4a7-5cc8e1ff25dd"
    },
    {
      "cell_type": "code",
      "execution_count": 30,
      "metadata": {},
      "outputs": [
        {
          "output_type": "stream",
          "name": "stderr",
          "text": [
            "/tmp/ipykernel_3397090/755890770.py:1: FutureWarning: The provided callable <function mean at 0x7fd81c140280> is currently using SeriesGroupBy.mean. In a future version of pandas, the provided callable will be used directly. To keep current behavior pass the string \"mean\" instead.\n",
            "  df.groupby(by=\"AIRLINE\").agg({'ARR_DELAY':np.mean})"
          ]
        }
      ],
      "source": [
        "df.groupby(by=\"AIRLINE\").agg({'ARR_DELAY':np.mean})"
      ],
      "id": "cell-26"
    },
    {
      "cell_type": "markdown",
      "metadata": {},
      "source": [
        "`#`\n",
        "\n",
        "`# 예제2`: 항공사(AIRLINE)별로 비행취소건수(CANCELLED)의 합계를 구하라.\n",
        "취소건수가 높은 항공사순으로 정렬하라.\n",
        "\n",
        "`-` 풀이1"
      ],
      "id": "142325d3-7f16-4796-91a2-7395a739b524"
    },
    {
      "cell_type": "code",
      "execution_count": 36,
      "metadata": {},
      "outputs": [],
      "source": [
        "df.pivot_table(index='AIRLINE',values='CANCELLED',aggfunc='sum').sort_values('CANCELLED',ascending=False)"
      ],
      "id": "cell-30"
    },
    {
      "cell_type": "markdown",
      "metadata": {},
      "source": [
        "`-` 풀이2"
      ],
      "id": "599d66b9-7023-41d5-807f-e78d4a5abd2b"
    },
    {
      "cell_type": "code",
      "execution_count": 37,
      "metadata": {},
      "outputs": [],
      "source": [
        "df.groupby('AIRLINE').aggregate({'CANCELLED':'sum'}).sort_values('CANCELLED',ascending=False)"
      ],
      "id": "cell-32"
    },
    {
      "cell_type": "markdown",
      "metadata": {},
      "source": [
        "### `#` EX2: \\[AIRLINE,WEEKDAY\\] $\\to$ {CANCELLED:sum}\n",
        "\n",
        "`-` 방법1\n",
        "\n",
        "(예시1)"
      ],
      "id": "3835390b-f4aa-4c60-bc58-42034f9d37e8"
    },
    {
      "cell_type": "code",
      "execution_count": null,
      "metadata": {},
      "outputs": [],
      "source": [
        "df.groupby(by=[\"AIRLINE\",\"WEEKDAY\"]).agg({\"CANCELLED\":np.sum})"
      ],
      "id": "cell-36"
    },
    {
      "cell_type": "markdown",
      "metadata": {},
      "source": [
        "(예시2)"
      ],
      "id": "b3468c82-92f3-42da-a3e6-8093e7104a78"
    },
    {
      "cell_type": "code",
      "execution_count": null,
      "metadata": {},
      "outputs": [],
      "source": [
        "df.groupby(by=[\"AIRLINE\",\"WEEKDAY\"]).agg({\"CANCELLED\":\"sum\"})"
      ],
      "id": "cell-38"
    },
    {
      "cell_type": "markdown",
      "metadata": {},
      "source": [
        "`-` 방법2\n",
        "\n",
        "(예시1)"
      ],
      "id": "4c62f5ff-e8b4-4ba9-a05b-0fba493eec3a"
    },
    {
      "cell_type": "code",
      "execution_count": null,
      "metadata": {},
      "outputs": [],
      "source": [
        "df.groupby(by=[\"AIRLINE\",\"WEEKDAY\"])[[\"CANCELLED\"]].agg(np.sum)"
      ],
      "id": "cell-41"
    },
    {
      "cell_type": "markdown",
      "metadata": {},
      "source": [
        "(예시2)"
      ],
      "id": "1e18b377-74d5-47c3-87e9-0c0a80cf4da9"
    },
    {
      "cell_type": "code",
      "execution_count": null,
      "metadata": {},
      "outputs": [],
      "source": [
        "df.groupby(by=[\"AIRLINE\",\"WEEKDAY\"])[\"CANCELLED\"].agg(\"sum\")"
      ],
      "id": "cell-43"
    },
    {
      "cell_type": "markdown",
      "metadata": {},
      "source": [
        "(예시3)"
      ],
      "id": "6dc81355-3b69-4925-a3d3-fda718333f56"
    },
    {
      "cell_type": "code",
      "execution_count": null,
      "metadata": {},
      "outputs": [],
      "source": [
        "df.groupby(by=[\"AIRLINE\",\"WEEKDAY\"])[\"CANCELLED\"].sum()"
      ],
      "id": "cell-45"
    },
    {
      "cell_type": "code",
      "execution_count": null,
      "metadata": {},
      "outputs": [],
      "source": [
        "df.DIVERTED"
      ],
      "id": "cell-46"
    },
    {
      "cell_type": "markdown",
      "metadata": {},
      "source": [
        "### `#` EX3: \\[AIRLINE,WEEKDAY\\] $\\to$ {CANCELLED:sum,mean}, {DIVERTED: sum,mean}\n",
        "\n",
        "`-` 방법1\n",
        "\n",
        "(예시1)"
      ],
      "id": "fee44270-b04e-482a-9c1e-a07b0f22f990"
    },
    {
      "cell_type": "code",
      "execution_count": null,
      "metadata": {},
      "outputs": [],
      "source": [
        "df.groupby([\"AIRLINE\",\"WEEKDAY\"])\\\n",
        ".agg({\"CANCELLED\":[np.sum,np.mean],\"DIVERTED\":[np.sum,np.mean]})"
      ],
      "id": "cell-50"
    },
    {
      "cell_type": "markdown",
      "metadata": {},
      "source": [
        "(예시2)"
      ],
      "id": "176897a2-6a09-43e0-9877-ea5e3a535594"
    },
    {
      "cell_type": "code",
      "execution_count": null,
      "metadata": {},
      "outputs": [],
      "source": [
        "df.groupby([\"AIRLINE\",\"WEEKDAY\"])\\\n",
        ".agg({\"CANCELLED\":[\"sum\",\"mean\"],\"DIVERTED\":[\"sum\",\"mean\"]})"
      ],
      "id": "cell-52"
    },
    {
      "cell_type": "markdown",
      "metadata": {},
      "source": [
        "`-` 방법2\n",
        "\n",
        "(예시1)"
      ],
      "id": "ad80746c-8cd1-4a61-ad24-7cd0160aa93e"
    },
    {
      "cell_type": "code",
      "execution_count": null,
      "metadata": {},
      "outputs": [],
      "source": [
        "df.groupby([\"AIRLINE\",\"WEEKDAY\"])[[\"CANCELLED\",\"DIVERTED\"]]\\\n",
        ".agg([np.sum,np.mean])"
      ],
      "id": "cell-55"
    },
    {
      "cell_type": "markdown",
      "metadata": {},
      "source": [
        "(예시2)"
      ],
      "id": "8185e568-f36b-4199-96e9-5f36a106f3a6"
    },
    {
      "cell_type": "code",
      "execution_count": null,
      "metadata": {},
      "outputs": [],
      "source": [
        "df.groupby([\"AIRLINE\",\"WEEKDAY\"])[[\"CANCELLED\",\"DIVERTED\"]]\\\n",
        ".agg([\"sum\",\"mean\"])"
      ],
      "id": "cell-57"
    },
    {
      "cell_type": "markdown",
      "metadata": {},
      "source": [
        "(예시3) – 사용불가능\n",
        "\n",
        "### `#` EX4: \\[AIRLINE,WEEKDAY\\] $\\to$ {CANCELLED:sum,mean,count}, {AIR_TIME: mean,var}\n",
        "\n",
        "`-` 방법1\n",
        "\n",
        "(예시1)"
      ],
      "id": "7d2046a3-cd82-4782-bbef-1c9e4dbd5b39"
    },
    {
      "cell_type": "code",
      "execution_count": null,
      "metadata": {},
      "outputs": [],
      "source": [
        "df.groupby([\"AIRLINE\",\"WEEKDAY\"])\\\n",
        ".agg({'CANCELLED':[np.sum,np.mean,len],'AIR_TIME':[np.mean,np.var]})"
      ],
      "id": "cell-62"
    },
    {
      "cell_type": "markdown",
      "metadata": {},
      "source": [
        "(예시2)"
      ],
      "id": "595d5175-bce7-4d61-897d-45880e9478e8"
    },
    {
      "cell_type": "code",
      "execution_count": null,
      "metadata": {},
      "outputs": [],
      "source": [
        "df.groupby([\"AIRLINE\",\"WEEKDAY\"])\\\n",
        ".agg({'CANCELLED':[\"sum\",\"mean\",\"count\"],'AIR_TIME':[\"mean\",\"var\"]})"
      ],
      "id": "cell-64"
    },
    {
      "cell_type": "markdown",
      "metadata": {},
      "source": [
        "(사용자정의함수)"
      ],
      "id": "8eaaa19b-d1a2-474d-b793-29fdffd8b912"
    },
    {
      "cell_type": "code",
      "execution_count": null,
      "metadata": {},
      "outputs": [],
      "source": [
        "df.groupby([\"AIRLINE\",\"WEEKDAY\"])\\\n",
        ".agg({'CANCELLED':[np.sum,np.mean,len],\n",
        "      'AIR_TIME':[np.mean,lambda x: np.std(x,ddof=1)**2]})"
      ],
      "id": "cell-66"
    },
    {
      "cell_type": "markdown",
      "metadata": {},
      "source": [
        "## 연속형변수를 기준으로 groupby -\\> agg"
      ],
      "id": "6512dec7-7b02-42c4-afea-73905120727d"
    },
    {
      "cell_type": "code",
      "execution_count": null,
      "metadata": {},
      "outputs": [],
      "source": [
        "df.T"
      ],
      "id": "cell-68"
    },
    {
      "cell_type": "code",
      "execution_count": null,
      "metadata": {},
      "outputs": [],
      "source": [
        "df.DIST.describe()"
      ],
      "id": "cell-69"
    },
    {
      "cell_type": "code",
      "execution_count": null,
      "metadata": {},
      "outputs": [],
      "source": [
        "df.assign(DIST2 = pd.cut(df.DIST,[-np.inf,391,690,1199,np.inf]))\\\n",
        ".groupby([\"AIRLINE\",\"DIST2\"]).agg({'CANCELLED':[\"sum\",\"mean\",\"count\"]})"
      ],
      "id": "cell-70"
    },
    {
      "cell_type": "code",
      "execution_count": null,
      "metadata": {},
      "outputs": [],
      "source": [
        "pd.cut(df.DIST,[-np.inf,400,700,1200,np.inf],labels=['~400','400~700','700~1200','1200~'])"
      ],
      "id": "cell-71"
    },
    {
      "cell_type": "code",
      "execution_count": null,
      "metadata": {},
      "outputs": [],
      "source": [
        "df.assign(DIST2 = pd.cut(df.DIST,[-np.inf,400,700,1200,np.inf],labels=['~400','400~700','700~1200','1200~']))\\\n",
        ".groupby([\"AIRLINE\",\"DIST2\"]).agg({'CANCELLED':[\"sum\",\"mean\",\"count\"]})"
      ],
      "id": "cell-72"
    }
  ],
  "nbformat": 4,
  "nbformat_minor": 5,
  "metadata": {
    "kernelspec": {
      "name": "python3",
      "display_name": "ag",
      "language": "python"
    },
    "language_info": {
      "name": "python",
      "codemirror_mode": {
        "name": "ipython",
        "version": "3"
      },
      "file_extension": ".py",
      "mimetype": "text/x-python",
      "nbconvert_exporter": "python",
      "pygments_lexer": "ipython3",
      "version": "3.10.13"
    }
  }
}