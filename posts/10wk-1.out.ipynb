{
  "cells": [
    {
      "cell_type": "markdown",
      "metadata": {},
      "source": [
        "# 10wk-1: 판다스 백엔드\n",
        "\n",
        "최규빈  \n",
        "2023-11-01\n",
        "\n",
        "<a href=\"https://colab.research.google.com/github/guebin/DV2023/blob/main/posts/10wk-1.ipynb\"><img src=\"https://colab.research.google.com/assets/colab-badge.svg\" style=\"text-align: left\"></a>\n",
        "\n",
        "# 1. 강의영상\n",
        "\n",
        "[????](????)"
      ],
      "id": "4236a545-0c2c-4aa3-bdc9-4ffefe5ddecd"
    },
    {
      "cell_type": "code",
      "execution_count": 1,
      "metadata": {
        "tags": []
      },
      "outputs": [],
      "source": [
        "import numpy as np \n",
        "import pandas as pd "
      ],
      "id": "d3e89b64-849b-405d-a4f4-3faa152dd7d9"
    },
    {
      "cell_type": "code",
      "execution_count": 4,
      "metadata": {
        "tags": []
      },
      "outputs": [],
      "source": [
        "#!pip install pandas_datareader \n",
        "from pandas_datareader import data as pdr "
      ],
      "id": "91740968-d90c-4d20-b610-9906d8659b4a"
    },
    {
      "cell_type": "code",
      "execution_count": 5,
      "metadata": {
        "tags": []
      },
      "outputs": [],
      "source": [
        "symbols = ['AMZN','AAPL','GOOG','MSFT','NFLX','NVDA','TSLA']\n",
        "start = '2020-01-01'\n",
        "end = '2022-10-30'\n",
        "df = pdr.get_data_yahoo(symbols,start,end)['Adj Close']"
      ],
      "id": "d9f610bb-b15c-4860-901b-8375ad3dd98f"
    },
    {
      "cell_type": "code",
      "execution_count": 9,
      "metadata": {
        "tags": []
      },
      "outputs": [],
      "source": [
        "pdr.YahooDailyReader?"
      ],
      "id": "d247d4e2-4232-424a-9afe-2c04f7582be5"
    }
  ],
  "nbformat": 4,
  "nbformat_minor": 5,
  "metadata": {
    "kernelspec": {
      "name": "python3",
      "display_name": "Python 3 (ipykernel)",
      "language": "python"
    },
    "language_info": {
      "name": "python",
      "codemirror_mode": {
        "name": "ipython",
        "version": "3"
      },
      "file_extension": ".py",
      "mimetype": "text/x-python",
      "nbconvert_exporter": "python",
      "pygments_lexer": "ipython3",
      "version": "3.10.13"
    }
  }
}