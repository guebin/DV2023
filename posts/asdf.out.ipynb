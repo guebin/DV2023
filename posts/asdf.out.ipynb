{
  "cells": [
    {
      "cell_type": "markdown",
      "metadata": {},
      "source": [
        "# draft\n",
        "\n",
        "최규빈  \n",
        "2023-09-20\n",
        "\n",
        "# 3. `map(function, list)`\n",
        "\n",
        "## A. `lambda`\n",
        "\n",
        "`-` 예시1: $x \\to x+2$"
      ],
      "id": "7b042758-3bc7-4900-894c-1f7aced62c72"
    },
    {
      "cell_type": "code",
      "execution_count": 3,
      "metadata": {},
      "outputs": [],
      "source": [
        "f = lambda x: x+2 \n",
        "f(3)"
      ],
      "id": "23a07e54-8008-4320-973f-a1e4c9be7128"
    },
    {
      "cell_type": "markdown",
      "metadata": {},
      "source": [
        "`-` 예시2: $x,y \\to x+y$"
      ],
      "id": "05c7cf9f-6337-43f9-b9d9-0cac534d98c2"
    },
    {
      "cell_type": "code",
      "execution_count": 4,
      "metadata": {},
      "outputs": [],
      "source": [
        "f = lambda x,y: x+y \n",
        "f(3,5)"
      ],
      "id": "f2b0c947-5fc6-44a0-bf91-7dc09d822045"
    },
    {
      "cell_type": "markdown",
      "metadata": {},
      "source": [
        "`-` 예시3: ‘2023-09’ $\\to$ 9"
      ],
      "id": "6f96daf2-2a03-4e4a-9b27-a003ea7fefa5"
    },
    {
      "cell_type": "code",
      "execution_count": 16,
      "metadata": {},
      "outputs": [],
      "source": [
        "int('2023-09'[-2:])"
      ],
      "id": "876eeeda-3028-48f8-b726-217c7e0a56fb"
    },
    {
      "cell_type": "code",
      "execution_count": 17,
      "metadata": {},
      "outputs": [],
      "source": [
        "f = lambda x: int(x[-2:])\n",
        "f('2023-09')"
      ],
      "id": "b4f7da6f-6a82-4518-b867-ce9ff4d35034"
    },
    {
      "cell_type": "code",
      "execution_count": 18,
      "metadata": {},
      "outputs": [],
      "source": [
        "f('2022-10')"
      ],
      "id": "1ed552e2-4914-4523-9fc0-827d93c125df"
    },
    {
      "cell_type": "markdown",
      "metadata": {},
      "source": [
        "`-` 예시4: ‘2023-09’ $\\to$ 2023,9"
      ],
      "id": "89c23c85-5082-4504-aaf8-0b94ef1ae82a"
    },
    {
      "cell_type": "code",
      "execution_count": 21,
      "metadata": {},
      "outputs": [],
      "source": [
        "f = lambda x: (int(x[:4]),int(x[-2:]))\n",
        "f('2023-09')"
      ],
      "id": "8eb94e89-20fc-44c3-9983-f0d19fe6fa06"
    },
    {
      "cell_type": "markdown",
      "metadata": {},
      "source": [
        "`-` 예시5: 문자열이 ‘cat’이면 1 ’dog’ 이면 0"
      ],
      "id": "6db0b626-29bc-42df-8696-c4b65e15a152"
    },
    {
      "cell_type": "code",
      "execution_count": 23,
      "metadata": {},
      "outputs": [],
      "source": [
        "f = lambda x: 1 if x=='cat' else 0 "
      ],
      "id": "61ae303e-d3a8-4707-92ca-5f77d4636f5a"
    },
    {
      "cell_type": "code",
      "execution_count": 25,
      "metadata": {},
      "outputs": [],
      "source": [
        "f('cat'),f('dog')"
      ],
      "id": "b9688dd6-6299-4065-813f-2b663aee8bc9"
    }
  ],
  "nbformat": 4,
  "nbformat_minor": 5,
  "metadata": {
    "kernelspec": {
      "name": "python3",
      "display_name": "Python 3 (ipykernel)",
      "language": "python"
    },
    "language_info": {
      "name": "python",
      "codemirror_mode": {
        "name": "ipython",
        "version": "3"
      },
      "file_extension": ".py",
      "mimetype": "text/x-python",
      "nbconvert_exporter": "python",
      "pygments_lexer": "ipython3",
      "version": "3.11.5"
    }
  }
}