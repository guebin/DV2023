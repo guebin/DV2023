{
  "cells": [
    {
      "cell_type": "markdown",
      "metadata": {},
      "source": [
        "# draft\n",
        "\n",
        "최규빈  \n",
        "2023-09-20\n",
        "\n",
        "# 4. Pandas: query"
      ],
      "id": "c8064106-865a-477f-a726-b16e33d07629"
    },
    {
      "cell_type": "code",
      "execution_count": 226,
      "metadata": {},
      "outputs": [],
      "source": [
        "df=pd.DataFrame(np.random.normal(size=(20,4)),columns=list('ABCD'),index=pd.date_range('20221226',periods=20)).assign(E=['A']*10+['B']*10)\n",
        "df"
      ],
      "id": "a2ba1a32-4d2d-46b6-9dc2-e81335ebe5ab"
    },
    {
      "cell_type": "markdown",
      "metadata": {},
      "source": [
        "## A. 기본 query\n",
        "\n",
        "`-` 예시1: `A>0 and B<0`"
      ],
      "id": "b99da26c-ba7c-4cf1-ba60-b2ab49cc6906"
    },
    {
      "cell_type": "code",
      "execution_count": 227,
      "metadata": {},
      "outputs": [],
      "source": [
        "df.query('A>0 and B<0')"
      ],
      "id": "a3240240-a6ae-4e8c-855e-15722380c118"
    },
    {
      "cell_type": "markdown",
      "metadata": {},
      "source": [
        "`-` 예시2: `A<B<C`"
      ],
      "id": "63a2ce59-2ca1-430d-ada3-841a0a364ebb"
    },
    {
      "cell_type": "code",
      "execution_count": 228,
      "metadata": {},
      "outputs": [],
      "source": [
        "df.query('A<B<C')"
      ],
      "id": "9fb79ec2-220a-4c8e-840b-d461c78447ef"
    },
    {
      "cell_type": "markdown",
      "metadata": {},
      "source": [
        "`-` 예시3: `(A+B/2) > 0`"
      ],
      "id": "4d77805f-c1c9-4d4f-a1ff-26e0a8587890"
    },
    {
      "cell_type": "code",
      "execution_count": 229,
      "metadata": {},
      "outputs": [],
      "source": [
        "df.query('(A+B)>0')"
      ],
      "id": "52801425-d694-4031-9e10-7579d5451af1"
    },
    {
      "cell_type": "markdown",
      "metadata": {},
      "source": [
        "`-` 예시4: `(A+B/2) > 0` and `E=='A'`"
      ],
      "id": "bc234950-3f5b-4d13-9155-941a1cedfa7a"
    },
    {
      "cell_type": "code",
      "execution_count": 230,
      "metadata": {},
      "outputs": [],
      "source": [
        "df.query('(A+B)>0 and E==\"A\"')"
      ],
      "id": "b1c63456-7f16-41a9-93af-10396dac71b4"
    },
    {
      "cell_type": "code",
      "execution_count": 231,
      "metadata": {},
      "outputs": [],
      "source": [
        "df.query(\"(A+B)>0 and E=='A'\")"
      ],
      "id": "eeca6e7d-e14f-48c2-be47-76de70d9c272"
    },
    {
      "cell_type": "markdown",
      "metadata": {},
      "source": [
        "## B. 외부변수를 이용\n",
        "\n",
        "`-` 예시"
      ],
      "id": "92d2a376-1d67-4c68-a035-9111e1b4ae12"
    },
    {
      "cell_type": "code",
      "execution_count": 205,
      "metadata": {},
      "outputs": [],
      "source": [
        "mean = df.A.mean()\n",
        "mean"
      ],
      "id": "7440e264-b72d-42a5-9ebf-7ca2533edce7"
    },
    {
      "cell_type": "code",
      "execution_count": 206,
      "metadata": {},
      "outputs": [],
      "source": [
        "df.query('A > @mean')"
      ],
      "id": "88dddd64-afd9-4008-96c1-15b5dfeac676"
    },
    {
      "cell_type": "markdown",
      "metadata": {},
      "source": [
        "## C. Index로 query\n",
        "\n",
        "`-` 예시"
      ],
      "id": "56a5d123-f65b-4d35-87c9-0c6db4545ab0"
    },
    {
      "cell_type": "code",
      "execution_count": 217,
      "metadata": {},
      "outputs": [],
      "source": [
        "df.query('index <= \"2022-12-30\" or index == \"2023-01-10\"')"
      ],
      "id": "300ea217-e1cf-451c-8733-93782a337d9f"
    },
    {
      "cell_type": "markdown",
      "metadata": {},
      "source": [
        "# 5. Pandas: 할당\n",
        "\n",
        "`-` 자료"
      ],
      "id": "73e6c0ad-a71e-4ec5-966a-93323e4c29c1"
    },
    {
      "cell_type": "code",
      "execution_count": 219,
      "metadata": {},
      "outputs": [],
      "source": [
        "np.random.seed(43052)\n",
        "att = np.random.choice(np.arange(10,21)*5,20)\n",
        "rep = np.random.choice(np.arange(5,21)*5,20)\n",
        "mid = np.random.choice(np.arange(0,21)*5,20)\n",
        "fin = np.random.choice(np.arange(0,21)*5,20)\n",
        "df = pd.DataFrame({'att':att,'rep':rep,'mid':mid,'fin':fin})\n",
        "df"
      ],
      "id": "6c0ed28e-74f6-458f-bf40-9e83c9b57047"
    },
    {
      "cell_type": "markdown",
      "metadata": {},
      "source": [
        "## A. `df.assign()`\n",
        "\n",
        "`-` 방법1: assign을 이용한 추가"
      ],
      "id": "31c812ff-82b2-4c35-9e89-048723e52917"
    },
    {
      "cell_type": "code",
      "execution_count": 220,
      "metadata": {},
      "outputs": [],
      "source": [
        "df.assign(total = df.att*0.1 + df.rep*0.2 + df.mid*0.35 + df.fin*0.35) "
      ],
      "id": "f401ec56-8374-41dc-9e8f-a62e092cffa5"
    },
    {
      "cell_type": "markdown",
      "metadata": {},
      "source": [
        "> 이 방법은 df를 일시적으로 변화시킴\n",
        "\n",
        "## B. `df.eval()`\n",
        "\n",
        "`-` 방법2: eval을 이용한 추가"
      ],
      "id": "2b99fb15-136b-4415-9a42-7bcb86fb9f93"
    },
    {
      "cell_type": "code",
      "execution_count": 221,
      "metadata": {},
      "outputs": [],
      "source": [
        "df.eval('total = att*0.1 + rep*0.2 + mid*0.3 + fin*0.4') "
      ],
      "id": "5aff3424-c498-4892-a857-beafea26f787"
    },
    {
      "cell_type": "markdown",
      "metadata": {},
      "source": [
        "> 이 방법은 df를 일시적으로 변화시킴\n",
        "\n",
        "## C. `df[colname] = xxx`\n",
        "\n",
        "`-` 방법3: `df['total']` 을 이용한 할당"
      ],
      "id": "5443a744-2e6e-494d-b598-3a9f127080df"
    },
    {
      "cell_type": "code",
      "execution_count": 183,
      "metadata": {},
      "outputs": [],
      "source": [
        "df['total'] = df.att*0.1 + df.rep*0.2 + df.mid*0.3 + df.fin*0.4\n",
        "df"
      ],
      "id": "de95a596-ea8a-44fc-ab22-d4a60a58fc27"
    },
    {
      "cell_type": "markdown",
      "metadata": {},
      "source": [
        "> 이 방법은 df를 영구적으로 변화시킴\n",
        "\n",
        "# 6. HW\n",
        "\n",
        "`-` 문제: 아래의 자료에서 입학년도를 추가하고 싶다면?"
      ],
      "id": "3a75fe3f-6095-4180-ac94-65ec389259dc"
    },
    {
      "cell_type": "code",
      "execution_count": 184,
      "metadata": {},
      "outputs": [],
      "source": [
        "np.random.seed(43052)\n",
        "att = np.random.choice(np.arange(10,21)*5,20)\n",
        "rep = np.random.choice(np.arange(5,21)*5,20)\n",
        "mid = np.random.choice(np.arange(0,21)*5,20)\n",
        "fin = np.random.choice(np.arange(0,21)*5,20)\n",
        "student_id = [ '2023-12362', '2022-12471', '2023-12333', '2022-12400', '2022-12377',\n",
        "               '2022-12469', '2023-12314', '2022-12363', '2023-12445', '2023-12336',\n",
        "               '2023-12426', '2022-12380', '2023-12422', '2022-12488', '2022-12370',\n",
        "               '2023-12443', '2022-12463', '2023-12491', '2023-12340', '2022-12312' ]\n",
        "df = pd.DataFrame({'student_id':student_id,'att':att,'rep':rep,'mid':mid,'fin':fin})\n",
        "df.head()"
      ],
      "id": "d9c98a1e-1ba9-4077-b2b8-d9b2ddb78f98"
    },
    {
      "cell_type": "code",
      "execution_count": 185,
      "metadata": {},
      "outputs": [],
      "source": [
        "df.assign(year=[l.split('-')[0] for l in df.student_id]).query('year==\"2022\"')"
      ],
      "id": "35974663-6bcb-4e69-a29c-46e4926dcafe"
    },
    {
      "cell_type": "markdown",
      "metadata": {},
      "source": [
        "# 3. `map(function, list)`\n",
        "\n",
        "## A. `lambda`\n",
        "\n",
        "`-` 예시1: $x \\to x+2$"
      ],
      "id": "e98b438e-d077-4520-90a9-508f14803fc6"
    },
    {
      "cell_type": "code",
      "execution_count": 3,
      "metadata": {},
      "outputs": [],
      "source": [
        "f = lambda x: x+2 \n",
        "f(3)"
      ],
      "id": "23a07e54-8008-4320-973f-a1e4c9be7128"
    },
    {
      "cell_type": "markdown",
      "metadata": {},
      "source": [
        "`-` 예시2: $x,y \\to x+y$"
      ],
      "id": "cfff14ea-76b2-4e0a-9d06-d9e9d74ea019"
    },
    {
      "cell_type": "code",
      "execution_count": 4,
      "metadata": {},
      "outputs": [],
      "source": [
        "f = lambda x,y: x+y \n",
        "f(3,5)"
      ],
      "id": "f2b0c947-5fc6-44a0-bf91-7dc09d822045"
    },
    {
      "cell_type": "markdown",
      "metadata": {},
      "source": [
        "`-` 예시3: ‘2023-09’ $\\to$ 9"
      ],
      "id": "22e7c08a-c955-41f2-a774-16c9d4392f20"
    },
    {
      "cell_type": "code",
      "execution_count": 16,
      "metadata": {},
      "outputs": [],
      "source": [
        "int('2023-09'[-2:])"
      ],
      "id": "876eeeda-3028-48f8-b726-217c7e0a56fb"
    },
    {
      "cell_type": "code",
      "execution_count": 17,
      "metadata": {},
      "outputs": [],
      "source": [
        "f = lambda x: int(x[-2:])\n",
        "f('2023-09')"
      ],
      "id": "b4f7da6f-6a82-4518-b867-ce9ff4d35034"
    },
    {
      "cell_type": "code",
      "execution_count": 18,
      "metadata": {},
      "outputs": [],
      "source": [
        "f('2022-10')"
      ],
      "id": "1ed552e2-4914-4523-9fc0-827d93c125df"
    },
    {
      "cell_type": "markdown",
      "metadata": {},
      "source": [
        "`-` 예시4: ‘2023-09’ $\\to$ 2023,9"
      ],
      "id": "d3bf388d-0b08-4883-87bf-868717698c8f"
    },
    {
      "cell_type": "code",
      "execution_count": 21,
      "metadata": {},
      "outputs": [],
      "source": [
        "f = lambda x: (int(x[:4]),int(x[-2:]))\n",
        "f('2023-09')"
      ],
      "id": "8eb94e89-20fc-44c3-9983-f0d19fe6fa06"
    },
    {
      "cell_type": "markdown",
      "metadata": {},
      "source": [
        "`-` 예시5: 문자열이 ‘cat’이면 1 ’dog’ 이면 0"
      ],
      "id": "60d05570-1ccd-4945-9436-a10c42c043f5"
    },
    {
      "cell_type": "code",
      "execution_count": 23,
      "metadata": {},
      "outputs": [],
      "source": [
        "f = lambda x: 1 if x=='cat' else 0 "
      ],
      "id": "61ae303e-d3a8-4707-92ca-5f77d4636f5a"
    },
    {
      "cell_type": "code",
      "execution_count": 25,
      "metadata": {},
      "outputs": [],
      "source": [
        "f('cat'),f('dog')"
      ],
      "id": "b9688dd6-6299-4065-813f-2b663aee8bc9"
    }
  ],
  "nbformat": 4,
  "nbformat_minor": 5,
  "metadata": {
    "kernelspec": {
      "name": "python3",
      "display_name": "Python 3 (ipykernel)",
      "language": "python"
    },
    "language_info": {
      "name": "python",
      "codemirror_mode": {
        "name": "ipython",
        "version": "3"
      },
      "file_extension": ".py",
      "mimetype": "text/x-python",
      "nbconvert_exporter": "python",
      "pygments_lexer": "ipython3",
      "version": "3.11.5"
    }
  }
}