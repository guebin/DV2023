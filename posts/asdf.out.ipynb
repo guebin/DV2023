{
  "cells": [
    {
      "cell_type": "markdown",
      "metadata": {},
      "source": [
        "# draft\n",
        "\n",
        "최규빈  \n",
        "2023-09-20\n",
        "\n",
        "# 3. `map(function, list)`\n",
        "\n",
        "## A. `lambda`\n",
        "\n",
        "`-` 예시1: $x \\to x+2$"
      ],
      "id": "6159621f-23ef-4f80-b934-75813a0dde75"
    },
    {
      "cell_type": "code",
      "execution_count": 3,
      "metadata": {},
      "outputs": [],
      "source": [
        "f = lambda x: x+2 \n",
        "f(3)"
      ],
      "id": "23a07e54-8008-4320-973f-a1e4c9be7128"
    },
    {
      "cell_type": "markdown",
      "metadata": {},
      "source": [
        "`-` 예시2: $x,y \\to x+y$"
      ],
      "id": "b07e2092-ee6a-4bd6-adf0-af72e7deedfa"
    },
    {
      "cell_type": "code",
      "execution_count": 4,
      "metadata": {},
      "outputs": [],
      "source": [
        "f = lambda x,y: x+y \n",
        "f(3,5)"
      ],
      "id": "f2b0c947-5fc6-44a0-bf91-7dc09d822045"
    },
    {
      "cell_type": "markdown",
      "metadata": {},
      "source": [
        "`-` 예시3: ‘2023-09’ $\\to$ 9"
      ],
      "id": "de55e83d-2f61-464d-b812-215520e50566"
    },
    {
      "cell_type": "code",
      "execution_count": 16,
      "metadata": {},
      "outputs": [],
      "source": [
        "int('2023-09'[-2:])"
      ],
      "id": "876eeeda-3028-48f8-b726-217c7e0a56fb"
    },
    {
      "cell_type": "code",
      "execution_count": 17,
      "metadata": {},
      "outputs": [],
      "source": [
        "f = lambda x: int(x[-2:])\n",
        "f('2023-09')"
      ],
      "id": "b4f7da6f-6a82-4518-b867-ce9ff4d35034"
    },
    {
      "cell_type": "code",
      "execution_count": 18,
      "metadata": {},
      "outputs": [],
      "source": [
        "f('2022-10')"
      ],
      "id": "1ed552e2-4914-4523-9fc0-827d93c125df"
    },
    {
      "cell_type": "markdown",
      "metadata": {},
      "source": [
        "`-` 예시4: ‘2023-09’ $\\to$ 2023,9"
      ],
      "id": "3cc8a80f-47ea-498b-9afc-c49a10fa1e95"
    },
    {
      "cell_type": "code",
      "execution_count": 21,
      "metadata": {},
      "outputs": [],
      "source": [
        "f = lambda x: (int(x[:4]),int(x[-2:]))\n",
        "f('2023-09')"
      ],
      "id": "8eb94e89-20fc-44c3-9983-f0d19fe6fa06"
    },
    {
      "cell_type": "markdown",
      "metadata": {},
      "source": [
        "`-` 예시5: 문자열이 ‘cat’이면 1 ’dog’ 이면 0"
      ],
      "id": "b905b315-03a2-47d0-bd5f-5c3a60838d01"
    },
    {
      "cell_type": "code",
      "execution_count": 23,
      "metadata": {},
      "outputs": [],
      "source": [
        "f = lambda x: 1 if x=='cat' else 0 "
      ],
      "id": "61ae303e-d3a8-4707-92ca-5f77d4636f5a"
    },
    {
      "cell_type": "code",
      "execution_count": 25,
      "metadata": {},
      "outputs": [],
      "source": [
        "f('cat'),f('dog')"
      ],
      "id": "b9688dd6-6299-4065-813f-2b663aee8bc9"
    }
  ],
  "nbformat": 4,
  "nbformat_minor": 5,
  "metadata": {
    "kernelspec": {
      "name": "python3",
      "display_name": "Python 3 (ipykernel)",
      "language": "python"
    },
    "language_info": {
      "name": "python",
      "codemirror_mode": {
        "name": "ipython",
        "version": "3"
      },
      "file_extension": ".py",
      "mimetype": "text/x-python",
      "nbconvert_exporter": "python",
      "pygments_lexer": "ipython3",
      "version": "3.11.5"
    }
  }
}