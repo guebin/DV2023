{
  "cells": [
    {
      "cell_type": "markdown",
      "metadata": {},
      "source": [
        "#"
      ],
      "id": "96090c59-ebda-4c57-8496-afa51db9bbb5"
    },
    {
      "cell_type": "code",
      "execution_count": 1,
      "metadata": {
        "tags": []
      },
      "outputs": [],
      "source": [
        "import pandas as pd"
      ],
      "id": "cell-0"
    },
    {
      "cell_type": "code",
      "execution_count": 2,
      "metadata": {
        "tags": []
      },
      "outputs": [],
      "source": [
        "big = pd.DataFrame({'department':['A','A','B','B'], 'gender':['male','female','male','female'],'count':[1,2,3,1]})\n",
        "small = pd.DataFrame({'department':['A','B'], 'total':[3,4]})"
      ],
      "id": "cell-1"
    },
    {
      "cell_type": "code",
      "execution_count": 3,
      "metadata": {
        "tags": []
      },
      "outputs": [],
      "source": [
        "display(\"big\",big)\n",
        "display(\"small\",small)"
      ],
      "id": "cell-2"
    },
    {
      "cell_type": "code",
      "execution_count": 12,
      "metadata": {
        "tags": []
      },
      "outputs": [],
      "source": [
        "pd.merge(big,small) \n",
        "big.merge(small)\n",
        "pd.merge(small,big) \n",
        "small.merge(big)"
      ],
      "id": "cell-3"
    },
    {
      "cell_type": "code",
      "execution_count": 16,
      "metadata": {
        "tags": []
      },
      "outputs": [],
      "source": [
        "big.merge(small,on='department')"
      ],
      "id": "cell-4"
    },
    {
      "cell_type": "markdown",
      "metadata": {},
      "source": [
        "`# 예제2`"
      ],
      "id": "eaad0eb1-ad4c-4e61-92ac-25beca23374e"
    },
    {
      "cell_type": "code",
      "execution_count": 30,
      "metadata": {
        "tags": []
      },
      "outputs": [],
      "source": [
        "big = pd.DataFrame({\n",
        "    'department':['A']*4+['B']*4, \n",
        "    'gender':(['male']*2+['female']*2)*2,\n",
        "    'repeat':['Yes','No']*4,\n",
        "    'count':[1,2,3,1,4,5,2,0]}\n",
        ")\n",
        "small = pd.DataFrame({'department':['A','B'], 'total':[3,4]})"
      ],
      "id": "cell-6"
    },
    {
      "cell_type": "code",
      "execution_count": 31,
      "metadata": {
        "tags": []
      },
      "outputs": [],
      "source": [
        "big"
      ],
      "id": "cell-7"
    },
    {
      "cell_type": "code",
      "execution_count": 25,
      "metadata": {
        "tags": []
      },
      "outputs": [],
      "source": [
        "s1 = pd.DataFrame({\n",
        "    'name':['이성계','이방원','정몽주','하륜'],\n",
        "    'desc':['왕','이성계의 아들','이성계의 신하','이방원의 부하']})\n",
        "s1"
      ],
      "id": "cell-9"
    },
    {
      "cell_type": "code",
      "execution_count": 26,
      "metadata": {
        "tags": []
      },
      "outputs": [],
      "source": [
        "s2 = pd.DataFrame({\n",
        "    'name':['이방원','이성계','하륜'],\n",
        "    'desc':['왕','왕의 아버지','이성계의 신하']})\n",
        "s2"
      ],
      "id": "cell-10"
    },
    {
      "cell_type": "code",
      "execution_count": 28,
      "metadata": {
        "tags": []
      },
      "outputs": [],
      "source": [
        "s1.merge(s2,on='name')"
      ],
      "id": "cell-11"
    },
    {
      "cell_type": "code",
      "execution_count": 16,
      "metadata": {},
      "outputs": [],
      "source": [
        "학생 = pd.DataFrame({\n",
        "    '이름': ['지민', '태형', '윤기', '호석'],\n",
        "    '동아리': ['음악', '미술', '체육', '음악']\n",
        "})\n",
        "\n",
        "동아리 = pd.DataFrame({\n",
        "    '동아리': ['음악', '미술', '체육', '과학'],\n",
        "    '선생님': ['김선생님', '이선생님', '박선생님', '최선생님']\n",
        "})\n",
        "\n",
        "결과 = 학생.merge(동아리, left_on='동아리', right_on='동아리',how='outer')\n",
        "결과"
      ],
      "id": "cell-13"
    },
    {
      "cell_type": "code",
      "execution_count": 10,
      "metadata": {},
      "outputs": [],
      "source": [
        "학생 = pd.DataFrame({\n",
        "    '이름': ['지민', '태형', '윤기', '호석'],\n",
        "    '동아리': ['음악', '미술', '체육', '음악'],\n",
        "    '학년': [1, 2, 3, 1]\n",
        "})\n",
        "\n",
        "동아리 = pd.DataFrame({\n",
        "    '동아리': ['음악', '미술', '체육', '과학'],\n",
        "    '학년': [1, 2, 3, 4],\n",
        "    '선생님': ['김선생님', '이선생님', '박선생님', '최선생님']\n",
        "})\n",
        "\n",
        "결과 = 학생.merge(동아리)\n",
        "결과"
      ],
      "id": "cell-14"
    }
  ],
  "nbformat": 4,
  "nbformat_minor": 5,
  "metadata": {
    "kernelspec": {
      "name": "python3",
      "display_name": "Python 3 (ipykernel)",
      "language": "python"
    },
    "language_info": {
      "name": "python",
      "codemirror_mode": {
        "name": "ipython",
        "version": "3"
      },
      "file_extension": ".py",
      "mimetype": "text/x-python",
      "nbconvert_exporter": "python",
      "pygments_lexer": "ipython3",
      "version": "3.10.13"
    }
  }
}