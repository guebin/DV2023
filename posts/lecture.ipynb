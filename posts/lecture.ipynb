{
 "cells": [
  {
   "cell_type": "raw",
   "id": "9fdc90f1-b30e-414f-b493-c404f1054301",
   "metadata": {},
   "source": [
    "---\n",
    "title: \"01wk-2: 라인플랏, 산점도, 객체지향적 시각화 -- draft\"\n",
    "author: \"최규빈\"\n",
    "date: \"09/06/2023\"\n",
    "draft: tru\n",
    "categories:\n",
    "  - matplotlib\n",
    "---"
   ]
  },
  {
   "cell_type": "markdown",
   "id": "e518e66d-a936-4176-a0e6-6929a46c1454",
   "metadata": {},
   "source": [
    "<a href=\"https://colab.research.google.com/github/guebin/DV2023/blob/main/posts/01wk-2.ipynb\"><img src=\"https://colab.research.google.com/assets/colab-badge.svg\" style=\"text-align: left\"></a>"
   ]
  },
  {
   "cell_type": "markdown",
   "id": "ff660414-c0da-4eb1-9a5a-3ee2ece69ab9",
   "metadata": {},
   "source": [
    "# 강의영상 "
   ]
  },
  {
   "cell_type": "code",
   "execution_count": 1,
   "id": "7f70d7c1-f093-4e80-b7f8-967dea74464b",
   "metadata": {},
   "outputs": [],
   "source": [
    "# {{<video  >}}"
   ]
  },
  {
   "cell_type": "markdown",
   "id": "34641aeb-0621-41f0-968d-1527e3ec22dd",
   "metadata": {},
   "source": [
    "# imports"
   ]
  },
  {
   "cell_type": "code",
   "execution_count": 2,
   "id": "73557a02-c4bb-4a85-a811-c3c8b485b898",
   "metadata": {},
   "outputs": [],
   "source": [
    "import matplotlib.pyplot as plt\n",
    "import numpy as np\n",
    "import matplotlib\n",
    "matplotlib.rcParams['figure.figsize'] = (3, 2) \n",
    "matplotlib.rcParams['figure.dpi'] = 150"
   ]
  },
  {
   "cell_type": "markdown",
   "id": "51986728-8b12-41ba-bdd1-62031171d62e",
   "metadata": {},
   "source": [
    "# Line plot"
   ]
  },
  {
   "cell_type": "markdown",
   "id": "a063e387-ec8d-4cd0-9e8e-5329b25050a4",
   "metadata": {},
   "source": [
    "## 기본플랏 "
   ]
  },
  {
   "cell_type": "markdown",
   "id": "eeaae9b6-0005-48b4-91b2-b657994e2ea5",
   "metadata": {},
   "source": [
    "## 모양변경 "
   ]
  },
  {
   "cell_type": "markdown",
   "id": "0244f50f-4c9b-4c81-96ae-858fc5cb63da",
   "metadata": {},
   "source": [
    "## 색상변경 "
   ]
  },
  {
   "cell_type": "markdown",
   "id": "91ab1e29-278e-4795-a262-15ed69de44bd",
   "metadata": {},
   "source": [
    "`-` 예시1"
   ]
  },
  {
   "cell_type": "markdown",
   "id": "12e18ba1-b2c1-4a00-838b-c32f603bb1f1",
   "metadata": {},
   "source": [
    "`-` 예시2"
   ]
  },
  {
   "cell_type": "markdown",
   "id": "1f897875-b677-4642-84f2-b0dff898d29d",
   "metadata": {},
   "source": [
    "## 모양 + 색상변경 "
   ]
  },
  {
   "cell_type": "markdown",
   "id": "4240683a-2b8d-459d-9f34-2410f4a3508e",
   "metadata": {},
   "source": [
    "`-` 예시1"
   ]
  },
  {
   "cell_type": "markdown",
   "id": "be71f910-3aed-4cad-b8d9-ff4aae0a1e85",
   "metadata": {},
   "source": [
    "`-` 예시2: 순서변경 가능 "
   ]
  },
  {
   "cell_type": "markdown",
   "id": "c771211a-5c0a-4ae8-91ef-9c0abce7562c",
   "metadata": {},
   "source": [
    "## 원리? "
   ]
  },
  {
   "cell_type": "markdown",
   "id": "ec8f715a-8c8b-40bb-b79f-8dde29644cef",
   "metadata": {},
   "source": [
    "`-` `r--`등의 옵션은 Markers + Line Styles + Colors 의 조합으로 표현가능 "
   ]
  },
  {
   "cell_type": "markdown",
   "id": "d45c25ec-b860-46cb-ad9b-7d28130110d8",
   "metadata": {},
   "source": [
    "ref: <https://matplotlib.org/stable/api/_as_gen/matplotlib.pyplot.plot.html>"
   ]
  },
  {
   "cell_type": "markdown",
   "id": "72ae132e-c8d2-4db4-9184-d599a3ce5ab4",
   "metadata": {},
   "source": [
    "- `--r`: 점선(dashed)스타일 + 빨간색 \n",
    "- `r--`: 빨간색 + 점선(dashed)스타일 \n",
    "- `:k`: 점선(dotted)스타일 + 검은색\n",
    "- `k:`: 검은색 + 점선(dotted)스타일"
   ]
  },
  {
   "cell_type": "markdown",
   "id": "f799e67d-7efa-4f56-8ad2-55935c268e8d",
   "metadata": {},
   "source": [
    "`-` 우선 Marker를 무시하면 Line Styles + Color로 표현가능한 조합은 $4\\times 8=32$ 개"
   ]
  },
  {
   "attachments": {},
   "cell_type": "markdown",
   "id": "00fd4204-b06c-4cdf-9f6a-fec849f0c68b",
   "metadata": {},
   "source": [
    ":::{.panel-tabset}\n",
    "## Line Styles\n",
    "\n",
    "\n",
    "| character | description| \n",
    "|:-:|:-:|\n",
    "| '-' | solid line style | \n",
    "| '--' | dashed line style |\n",
    "| '-.' | dash-dot line style |\n",
    "| ':' | dotted line style|\n",
    "\n",
    "## Colors\n",
    "\n",
    "|character|color|\n",
    "|:-:|:-:|\n",
    "|'b'| blue| \n",
    "|'g'|green|\n",
    "|'r'|red|\n",
    "|'c'|cyan|\n",
    "|'m'|magenta|\n",
    "|'y'|yellow|\n",
    "|'k'|black|\n",
    "|'w'|white|\n",
    "\n",
    "## Markers\n",
    "\n",
    "|character | description|\n",
    "|:-:|:-:|\n",
    "|'.'| point marker| \n",
    "|','|pixel marker|\n",
    "|'o'|circle marker|\n",
    "|'v'| triangle_down marker |\n",
    "|'^'|triangle_up marker|\n",
    "|'<'|triangle_left marker|\n",
    "|'>'|triangle_right marker|\n",
    "|'1'|tri_down marker|\n",
    "|'2'|tri_up marker|\n",
    "|'3'|tri_left marker|\n",
    "|'4'|tri_right marker|\n",
    "|'8'|octagon marker|\n",
    "|'s'|square marker|\n",
    "|'p'|pentagon marker|\n",
    "|'P'|plus (filled) marker|\n",
    "|'*'|star marker|\n",
    "|'h'|hexagon1 marker|\n",
    "|'H'|hexagon2 marker|\n",
    "|'+'|plus marker|\n",
    "|'x'|x marker|\n",
    "|'X'|x (filled) marker|\n",
    "|'D'|diamond marker|\n",
    "|'d'|thin_diamond marker|\n",
    "|'\\|'|vline marker|\n",
    "|'_'|hline marker|\n",
    ":::"
   ]
  },
  {
   "cell_type": "markdown",
   "id": "21ae188f-91ab-45df-8169-faebc7b804a4",
   "metadata": {},
   "source": [
    "`-` 예시1"
   ]
  },
  {
   "cell_type": "markdown",
   "id": "a6e06e2c-e915-4c7a-8093-bf4f52dc3e61",
   "metadata": {},
   "source": [
    "`-` 예시2"
   ]
  },
  {
   "cell_type": "markdown",
   "id": "6396d4e3-cf1e-48fd-971f-1923b9e8c88a",
   "metadata": {},
   "source": [
    "`-` 예시3: line style + color 조합으로 사용하든 color + line style 조합으로 사용하든 상관없음 "
   ]
  },
  {
   "cell_type": "markdown",
   "id": "b62a008d-f036-4766-8b7d-0d79dcc5905e",
   "metadata": {},
   "source": [
    "`-` 예시4: line style을 중복으로 사용하거나 color를 중복으로 쓸 수 는 없다. "
   ]
  },
  {
   "cell_type": "markdown",
   "id": "50c002de-4625-4803-aa52-61561260c04c",
   "metadata": {},
   "source": [
    "`-` 예시5: 색이 사실 8개만 있는건 아니다. "
   ]
  },
  {
   "cell_type": "markdown",
   "id": "4382ba4e-b8b5-41a4-9e3c-3142ec1c1603",
   "metadata": {},
   "source": [
    "ref: <https://matplotlib.org/2.0.2/examples/color/named_colors.html>"
   ]
  },
  {
   "cell_type": "markdown",
   "id": "33e340fc-8eb4-4ee9-8670-84b3a438d935",
   "metadata": {},
   "source": [
    "`-` 예시6: 색을 바꾸려면 hex코드를 넣는 방법이 젤 깔끔함 "
   ]
  },
  {
   "cell_type": "markdown",
   "id": "5ebc33d5-f071-4ea3-8e81-764ce34c20a5",
   "metadata": {},
   "source": [
    "ref: <https://htmlcolorcodes.com/>"
   ]
  },
  {
   "cell_type": "markdown",
   "id": "2b5fc230-2368-4e78-8ec5-11e46a21e094",
   "metadata": {},
   "source": [
    "`-` 예시7: 당연히 라인스타일도 4개만 있진 않음"
   ]
  },
  {
   "cell_type": "markdown",
   "id": "5c70abf7-2205-46dd-b91c-4810cb1aea29",
   "metadata": {},
   "source": [
    "ref: <https://matplotlib.org/stable/gallery/lines_bars_and_markers/linestyles.html>"
   ]
  },
  {
   "cell_type": "markdown",
   "id": "196a608c-832a-41c1-acac-1639667844b6",
   "metadata": {},
   "source": [
    "# Scatter plot"
   ]
  },
  {
   "cell_type": "markdown",
   "id": "a44306b2-d13c-47bc-a276-09193de54f81",
   "metadata": {},
   "source": [
    "## 원리 "
   ]
  },
  {
   "cell_type": "markdown",
   "id": "5f7c56af-7748-4d59-bf6c-743a42debeb9",
   "metadata": {},
   "source": [
    "`-` 그냥 마커를 설정하면 끝!"
   ]
  },
  {
   "cell_type": "markdown",
   "id": "5c1dadbb-2731-4389-8418-d2f2c373e593",
   "metadata": {},
   "source": [
    "## 마커변경"
   ]
  },
  {
   "cell_type": "markdown",
   "id": "d105135f-ecc9-4007-a04a-27fedaa47c33",
   "metadata": {},
   "source": [
    "`-` 예시1"
   ]
  },
  {
   "cell_type": "markdown",
   "id": "59d61cd0-b9b7-487d-bb4d-fbb39368e3d1",
   "metadata": {},
   "source": [
    "`-` 예시2"
   ]
  },
  {
   "cell_type": "markdown",
   "id": "26fc2ee0-7edc-45d1-aca4-b33e7b617157",
   "metadata": {},
   "source": [
    "## 색깔변경 "
   ]
  },
  {
   "cell_type": "markdown",
   "id": "f323e9b9-d58c-43b9-bc8b-cb7112aeec89",
   "metadata": {},
   "source": [
    "`-` 예시1"
   ]
  },
  {
   "cell_type": "markdown",
   "id": "2ad6add6-c7f4-4a24-bfdf-ca7cb1db5b49",
   "metadata": {},
   "source": [
    "`-` 예시2"
   ]
  },
  {
   "cell_type": "markdown",
   "id": "d51674f9-909e-400a-9f47-021dc260cead",
   "metadata": {},
   "source": [
    "`-` 예시3"
   ]
  },
  {
   "cell_type": "markdown",
   "id": "69e2f688-13f4-40aa-9dd5-70ea9468fcd2",
   "metadata": {},
   "source": [
    "## dot-connected plot "
   ]
  },
  {
   "cell_type": "markdown",
   "id": "5d8a0117-04b0-4a96-9347-f43226e83497",
   "metadata": {},
   "source": [
    "`-` 예시1: 마커와 라인스타일을 동시에 사용하면 dot-connected plot이 된다. "
   ]
  },
  {
   "cell_type": "markdown",
   "id": "a57a9286-5f09-4b6b-9395-2876e9ef2a75",
   "metadata": {},
   "source": [
    "`-` 예시2: 당연히 색도 적용가능함 "
   ]
  },
  {
   "cell_type": "markdown",
   "id": "c21ba9be-fb05-4d9a-860d-3792888c8d6a",
   "metadata": {},
   "source": [
    "`-` 예시3: 서로 순서를 바꿔도 상관없다. "
   ]
  },
  {
   "cell_type": "markdown",
   "id": "b5fc2a8a-9bc1-43cc-8177-d10f5584f639",
   "metadata": {},
   "source": [
    "# 겹쳐 그리기"
   ]
  },
  {
   "cell_type": "markdown",
   "id": "b45f1195-2a6d-44c3-9de8-e1b08a816ad9",
   "metadata": {},
   "source": [
    "`-` 예시1"
   ]
  },
  {
   "cell_type": "markdown",
   "id": "eaada62d-39b6-4e5a-9257-da0d78780e3a",
   "metadata": {},
   "source": [
    "`-` 예시2"
   ]
  },
  {
   "cell_type": "markdown",
   "id": "cd8365ae-3c14-4d83-bbe0-c5ed3ddc313b",
   "metadata": {},
   "source": [
    "`-` 예시3"
   ]
  },
  {
   "cell_type": "markdown",
   "id": "cf4301f6-95b9-4bbe-81d6-63df841cdec8",
   "metadata": {},
   "source": [
    "---"
   ]
  },
  {
   "attachments": {},
   "cell_type": "markdown",
   "id": "cbc1c2e2-1d1c-4c9c-8fb2-2511dfd46815",
   "metadata": {},
   "source": [
    "`-` summary: boxplot, histogram, lineplot, scatterplot \n",
    "\n",
    "- 라인플랏: 추세 \n",
    "- 스캐터플랏: 두 변수의 관계\n",
    "- 박스플랏: 분포(일상용어)의 비교, 이상치\n",
    "- 히스토그램: 분포(통계용어)파악 \n",
    "- 바플랏: 크기비교 "
   ]
  },
  {
   "cell_type": "markdown",
   "id": "c07eb8bc-f2f1-401b-a8ad-c00ac96b0d52",
   "metadata": {},
   "source": [
    "---"
   ]
  },
  {
   "cell_type": "markdown",
   "id": "1cc16899-a8a3-4616-b5e7-aa32c332aaa3",
   "metadata": {},
   "source": [
    "# 객체지향적 시각화"
   ]
  },
  {
   "cell_type": "markdown",
   "id": "25ed7f01-35f8-4c0d-a3ee-64b4f665c75f",
   "metadata": {},
   "source": [
    "## 예비학습"
   ]
  },
  {
   "cell_type": "markdown",
   "id": "7772aa3d-70fb-4bbe-8e7a-ec10525d3686",
   "metadata": {},
   "source": [
    "`# 예비학습1` -- 그림을 저장했다가 꺼내보고 싶다."
   ]
  },
  {
   "cell_type": "markdown",
   "id": "7f392466-2295-4857-8db5-b07a51944310",
   "metadata": {},
   "source": [
    "`-` 그림을 그리고 저장하자. "
   ]
  },
  {
   "cell_type": "markdown",
   "id": "8cf79a25-6817-4808-93f8-f12a7342ef2c",
   "metadata": {},
   "source": [
    "`-` 다른그림을 그려보자. "
   ]
  },
  {
   "cell_type": "markdown",
   "id": "20e8e81c-4a25-45c7-a2c0-862ebfaf736a",
   "metadata": {},
   "source": [
    "`-` 저장한 그림은 언제든지 꺼내볼 수 있음 "
   ]
  },
  {
   "cell_type": "markdown",
   "id": "0ab3165f-fc70-4c7d-8fef-5fc34403a741",
   "metadata": {},
   "source": [
    "`#`"
   ]
  },
  {
   "cell_type": "markdown",
   "id": "415649e8-3eeb-4b0a-826c-effec20d6f9e",
   "metadata": {},
   "source": [
    "`# 예비학습2` -- fig 는 뭐야? "
   ]
  },
  {
   "cell_type": "markdown",
   "id": "c1559a16-fdc7-49b2-832b-b8fa189fb17c",
   "metadata": {},
   "source": [
    "- `Figure`라는 클래스에서 찍힌 인스턴스 "
   ]
  },
  {
   "cell_type": "markdown",
   "id": "b76535e9-4132-43e8-935f-2b46cd11e367",
   "metadata": {},
   "source": [
    "`-` 여러가지 값, 기능이 저장되어 있겠음."
   ]
  },
  {
   "cell_type": "markdown",
   "id": "bde2bb2e-0505-4be3-8b51-5878634c27b4",
   "metadata": {},
   "source": [
    "`-` 계층구조: Figure $\\supset$ [Axes,...], ...  $\\supset$ YAxis, XAxis, [Line2D,...], ... "
   ]
  },
  {
   "cell_type": "markdown",
   "id": "068baf5a-e7e8-4f8e-8954-318849d332ec",
   "metadata": {},
   "source": [
    "**1. `.axes` 로 Axes 를 끄집어냄**"
   ]
  },
  {
   "cell_type": "markdown",
   "id": "6a245d3c-42de-4422-ad96-9ea6fb410444",
   "metadata": {},
   "source": [
    "**2. `.xaxis`, `.yaxis` 로 Axis 를 끄집어냄**"
   ]
  },
  {
   "cell_type": "markdown",
   "id": "caa42fee-d1e3-4fff-9cdc-ec17cbef4694",
   "metadata": {},
   "source": [
    "**3. `.get_lines()`로 Line2D를 끄집어냄**"
   ]
  },
  {
   "cell_type": "markdown",
   "id": "f0cb44f8-2e9c-4f3b-bc1f-6db849525388",
   "metadata": {},
   "source": [
    "`-` 오브젝트내용 확인 (그닥 필요 없음)"
   ]
  },
  {
   "cell_type": "markdown",
   "id": "282fbbf9-97ca-42b8-8404-39e9842a8537",
   "metadata": {},
   "source": [
    "`-` matplotlib의 설명 "
   ]
  },
  {
   "cell_type": "markdown",
   "id": "804cee86-c2e4-498e-8b28-0f145ef657c4",
   "metadata": {},
   "source": [
    "ref: <https://matplotlib.org/stable/gallery/showcase/anatomy.html#sphx-glr-gallery-showcase-anatomy-py>"
   ]
  },
  {
   "cell_type": "markdown",
   "id": "61a9d1b3-57c4-4193-8e73-929ddc56729d",
   "metadata": {},
   "source": [
    "![](https://matplotlib.org/stable/_images/sphx_glr_anatomy_001.png)"
   ]
  },
  {
   "cell_type": "markdown",
   "id": "1b212f70-db77-4e0c-b97c-c807d8853808",
   "metadata": {},
   "source": [
    "## 목표"
   ]
  },
  {
   "cell_type": "markdown",
   "id": "acc65b73-d841-4234-ba47-f46b3662f2de",
   "metadata": {},
   "source": [
    "`-` 아래와 똑같은 그림을 `plt.plot()`을 쓰지 않고 만든다. "
   ]
  },
  {
   "cell_type": "code",
   "execution_count": 69,
   "id": "38cd283a-d96d-4fe6-a2a6-e42dff9b25ff",
   "metadata": {},
   "outputs": [
    {
     "data": {
      "text/plain": [
       "[<matplotlib.lines.Line2D at 0x7fa21e1ca850>]"
      ]
     },
     "execution_count": 69,
     "metadata": {},
     "output_type": "execute_result"
    },
    {
     "data": {
      "image/png": "[encoded data removed]",
      "text/plain": [
       "<Figure size 450x300 with 1 Axes>"
      ]
     },
     "metadata": {},
     "output_type": "display_data"
    }
   ],
   "source": [
    "plt.plot([1,2,3,2],'--o')"
   ]
  },
  {
   "cell_type": "markdown",
   "id": "ff565daf-1e35-41c0-9651-b3eb411b2b17",
   "metadata": {},
   "source": [
    "## Figure $\\to$ Axes $\\to$ Lines2D"
   ]
  },
  {
   "cell_type": "markdown",
   "id": "62584f98-0361-467f-b2ae-5770e6bb7952",
   "metadata": {},
   "source": [
    "## 쉬운코드들 "
   ]
  },
  {
   "cell_type": "markdown",
   "id": "cd5b8e37-98a2-47f0-8f71-0bb603cc9137",
   "metadata": {},
   "source": [
    "`-` Line2d 오브젝트를 쓰지 않는 방법: `ax.plot()` 이용!!"
   ]
  },
  {
   "cell_type": "markdown",
   "id": "2c7f1d6e-3108-408a-b2bd-0561d4a34924",
   "metadata": {},
   "source": [
    "`-` add_axes()를 쓰지 않는 방법: `fig.subplots()` 이용!!"
   ]
  },
  {
   "cell_type": "markdown",
   "id": "56f83933-ddf2-4714-9195-efe7c28a6770",
   "metadata": {},
   "source": [
    "`-` 더 생략하는 방법: `plt.subplots()` -- 코드 뜯어볼 것 "
   ]
  },
  {
   "cell_type": "markdown",
   "id": "bf6f2af0-b891-4252-8ba8-1e7796842183",
   "metadata": {},
   "source": [
    "## 정리 ($\\star\\star\\star$)"
   ]
  },
  {
   "cell_type": "markdown",
   "id": "722955fe-48f3-4731-9fe9-e4d26c2e6e93",
   "metadata": {},
   "source": [
    "`-` 결국 아래는 모두 같은 코드이다. "
   ]
  },
  {
   "cell_type": "code",
   "execution_count": 67,
   "id": "ced3bfb4-4793-4d93-943b-112637d70eb1",
   "metadata": {},
   "outputs": [
    {
     "data": {
      "text/plain": [
       "[<matplotlib.lines.Line2D at 0x7f578aaf45e0>]"
      ]
     },
     "execution_count": 67,
     "metadata": {},
     "output_type": "execute_result"
    },
    {
     "data": {
      "image/png": "[encoded data removed]",
      "text/plain": [
       "<Figure size 450x300 with 1 Axes>"
      ]
     },
     "metadata": {},
     "output_type": "display_data"
    }
   ],
   "source": [
    "## 코드1 \n",
    "plt.plot([1,2,3,2],'--o')"
   ]
  },
  {
   "cell_type": "code",
   "execution_count": 68,
   "id": "53dab652-9b51-438a-b72c-b3e6928debaf",
   "metadata": {},
   "outputs": [
    {
     "data": {
      "text/plain": [
       "[<matplotlib.lines.Line2D at 0x7f578a94a560>]"
      ]
     },
     "execution_count": 68,
     "metadata": {},
     "output_type": "execute_result"
    },
    {
     "data": {
      "image/png": "[encoded data removed]",
      "text/plain": [
       "<Figure size 450x300 with 1 Axes>"
      ]
     },
     "metadata": {},
     "output_type": "display_data"
    }
   ],
   "source": [
    "## 코드2\n",
    "fig,ax = plt.subplots()\n",
    "ax.plot([1,2,3,2],'--o')"
   ]
  },
  {
   "cell_type": "code",
   "execution_count": 69,
   "id": "9ddf3f40-6c22-45a0-ab8e-ecfc80ddab42",
   "metadata": {},
   "outputs": [
    {
     "data": {
      "image/png": "[encoded data removed]",
      "text/plain": [
       "<Figure size 450x300 with 1 Axes>"
      ]
     },
     "execution_count": 69,
     "metadata": {},
     "output_type": "execute_result"
    }
   ],
   "source": [
    "## 코드3\n",
    "fig = plt.Figure()\n",
    "ax = fig.subplots()\n",
    "ax.plot([1,2,3,2],'--o')\n",
    "fig"
   ]
  },
  {
   "cell_type": "code",
   "execution_count": 70,
   "id": "1b17b469-b200-4d5c-8417-67164ffbd109",
   "metadata": {},
   "outputs": [
    {
     "data": {
      "image/png": "[encoded data removed]",
      "text/plain": [
       "<Figure size 450x300 with 1 Axes>"
      ]
     },
     "execution_count": 70,
     "metadata": {},
     "output_type": "execute_result"
    }
   ],
   "source": [
    "## 코드4\n",
    "fig = plt.Figure()\n",
    "ax = fig.add_axes([0.125, 0.11, 0.775, 0.77])\n",
    "ax.plot([1,2,3,2],'--o')\n",
    "fig"
   ]
  },
  {
   "cell_type": "code",
   "execution_count": 71,
   "id": "d2c0d98b-3ef6-4f37-92ce-131647665b55",
   "metadata": {},
   "outputs": [
    {
     "data": {
      "image/png": "[encoded data removed]",
      "text/plain": [
       "<Figure size 450x300 with 1 Axes>"
      ]
     },
     "execution_count": 71,
     "metadata": {},
     "output_type": "execute_result"
    }
   ],
   "source": [
    "## 코드5\n",
    "fig = plt.Figure()\n",
    "ax = fig.add_axes([0.125, 0.11, 0.775, 0.77])\n",
    "ax.set_xlim([-0.15, 3.15])\n",
    "ax.set_ylim([0.9, 3.1])\n",
    "line = matplotlib.lines.Line2D(\n",
    "    xdata=[0,1,2,3], \n",
    "    ydata=[1,2,3,2], \n",
    "    linestyle='--', \n",
    "    marker='o'\n",
    ")\n",
    "ax.add_line(line)\n",
    "fig"
   ]
  },
  {
   "cell_type": "markdown",
   "id": "34ac7d4b-a17e-4637-bbfa-7b3f7d9b06bf",
   "metadata": {},
   "source": [
    "# 미니맵"
   ]
  },
  {
   "cell_type": "markdown",
   "id": "848f3a06-3246-4d69-9f37-86f5ba991766",
   "metadata": {},
   "source": [
    "`-` 틀잡기 "
   ]
  }
 ],
 "metadata": {
  "kernelspec": {
   "display_name": "Python 3 (ipykernel)",
   "language": "python",
   "name": "python3"
  },
  "language_info": {
   "codemirror_mode": {
    "name": "ipython",
    "version": 3
   },
   "file_extension": ".py",
   "mimetype": "text/x-python",
   "name": "python",
   "nbconvert_exporter": "python",
   "pygments_lexer": "ipython3",
   "version": "3.11.4"
  }
 },
 "nbformat": 4,
 "nbformat_minor": 5
}
