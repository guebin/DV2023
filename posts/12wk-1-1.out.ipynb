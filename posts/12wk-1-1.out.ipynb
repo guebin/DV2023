{
  "cells": [
    {
      "cell_type": "markdown",
      "metadata": {},
      "source": [
        "# 12wk-1: NYCTaxi 자료 분석 (1)\n",
        "\n",
        "최규빈  \n",
        "2023-11-20\n",
        "\n",
        "<a href=\"https://colab.research.google.com/github/guebin/DV2023/blob/main/posts/12wk-1-1.ipynb\"><img src=\"https://colab.research.google.com/assets/colab-badge.svg\" style=\"text-align: left\"></a>\n",
        "\n",
        "# 1. 강의영상\n",
        "\n",
        "<https://youtu.be/playlist?list=PLQqh36zP38-wFUcEr7JtSb7MWUYl6QrW_&si=CmWA765p0mnwWTGA>\n",
        "\n",
        "# 2. Imports"
      ],
      "id": "60953d62-bd65-4522-b926-a07b6f8d7c31"
    },
    {
      "cell_type": "code",
      "execution_count": 1,
      "metadata": {
        "tags": []
      },
      "outputs": [],
      "source": [
        "import numpy as np\n",
        "import pandas as pd\n",
        "import plotly.express as px\n",
        "import plotly.io as pio"
      ],
      "id": "8d6464ef-e26c-44c6-b2e4-a7bfe81a51d6"
    },
    {
      "cell_type": "code",
      "execution_count": 2,
      "metadata": {
        "tags": []
      },
      "outputs": [],
      "source": [
        "pd.options.plotting.backend = \"plotly\"\n",
        "pio.templates.default = \"plotly_white\""
      ],
      "id": "67508001-0a12-4adb-acc8-3fb6e250056f"
    },
    {
      "cell_type": "markdown",
      "metadata": {},
      "source": [
        "# 3. 예비학습: 뉴욕\n",
        "\n",
        "## A. 뉴욕의 주요명소"
      ],
      "id": "04c37776-6175-42f0-9c5a-14d0a43752bb"
    },
    {
      "cell_type": "code",
      "execution_count": 3,
      "metadata": {
        "tags": []
      },
      "outputs": [],
      "source": [
        "# 뉴욕의 주요 명소 및 위치를 데이터프레임으로 생성\n",
        "nyc_landmarks = {\n",
        "    \"Name\": [\"Wall Street\", \"Midtown Manhattan\", \"Times Square\", \n",
        "             \"Central Park\", \"Statue of Liberty\", \"Forest Park\", \"Citi Field\"],\n",
        "    \"Latitude\": [40.7074, 40.7549, 40.7580, 40.785091, 40.6892, 40.7028, 40.7571],\n",
        "    \"Longitude\": [-74.0113, -73.9840, -73.9855, -73.968285, -74.0445, -73.8495, -73.8458]\n",
        "}\n",
        "\n",
        "df_nyc_landmarks = pd.DataFrame(nyc_landmarks)\n",
        "df_nyc_landmarks"
      ],
      "id": "39d6b419-f283-46a4-8660-3d9f296724f8"
    },
    {
      "cell_type": "markdown",
      "metadata": {},
      "source": [
        "## B. 시각화"
      ],
      "id": "285c77f6-818c-4a27-bad7-9b3ed00d00be"
    },
    {
      "cell_type": "code",
      "execution_count": 4,
      "metadata": {
        "tags": []
      },
      "outputs": [],
      "source": [
        "fig = px.scatter_mapbox(\n",
        "    data_frame=df_nyc_landmarks,\n",
        "    lat='Latitude',\n",
        "    lon='Longitude',\n",
        "    center={'lat': 40.7322, 'lon': -73.9052},\n",
        "    hover_data='Name',\n",
        "    #---#\n",
        "    mapbox_style='carto-positron',\n",
        "    zoom=10,\n",
        "    width=750,\n",
        "    height=600\n",
        ")\n",
        "fig.update_traces(\n",
        "    marker={\n",
        "        'size':15,\n",
        "        'color':'red',\n",
        "        'opacity':0.5\n",
        "    }\n",
        ")\n",
        "fig.show(config={'scrollZoom': False})"
      ],
      "id": "d9af5642-15b1-4a43-9f55-c9bcbf1a3a15"
    },
    {
      "cell_type": "markdown",
      "metadata": {},
      "source": [
        "## C. ChatGPT 설명\n",
        "\n",
        "### ChatGPT\n",
        "\n",
        "뉴욕은 세계에서 가장 중요한 금융 및 문화 중심지 중 하나로, 금융권 밀집\n",
        "지역과 유명한 관광 명소가 많습니다. 다음은 뉴욕의 대표적인 금융권 밀집\n",
        "지역과 주요 관광 명소 중 일부입니다:\n",
        "\n",
        "***금융권 밀집 지역***\n",
        "\n",
        "1.  **월스트리트 (Wall Street)**:\n",
        "    -   월스트리트는 세계 금융의 상징이며, 뉴욕증권거래소(NYSE)와 많은\n",
        "        은행 및 금융 기관의 본사가 위치해 있습니다.\n",
        "    -   이 지역은 글로벌 금융 및 경제의 중심지로 간주되며,\n",
        "        ’월스트리트’는 종종 미국 금융 산업 전체를 지칭하는 용어로\n",
        "        사용됩니다.\n",
        "2.  **미드타운 (Midtown)**:\n",
        "    -   미드타운 맨해튼은 많은 기업 본사, 유명 호텔, 쇼핑 지역 및\n",
        "        레스토랑이 밀집해 있는 지역입니다.\n",
        "    -   이 지역에는 국제연합 본부, 메이시스 백화점, 록펠러 센터 등이\n",
        "        위치해 있습니다.\n",
        "\n",
        "***주요 관광 명소***\n",
        "\n",
        "1.  **타임스퀘어 (Times Square)**:\n",
        "    -   타임스퀘어는 뉴욕의 상징적인 관광 명소 중 하나로, 번화한\n",
        "        광고판과 네온사인으로 유명합니다.\n",
        "    -   이곳은 맨해튼의 중심부에 위치하며, 연극과 뮤지컬이 상연되는\n",
        "        브로드웨이 극장가로도 유명합니다.\n",
        "2.  **센트럴 파크 (Central Park)**:\n",
        "    -   센트럴 파크는 뉴욕 시의 대표적인 공원으로, 도심 속 자연을 즐길\n",
        "        수 있는 아름다운 장소입니다.\n",
        "    -   공원 내에는 호수, 산책로, 놀이터, 스포츠 시설 등이 마련되어\n",
        "        있으며, 다양한 문화 행사와 공연이 열립니다.\n",
        "3.  **자유의 여신상 (Statue of Liberty)**:\n",
        "    -   자유의 여신상은 뉴욕 항구에 위치한 미국의 상징적인 조각상입니다.\n",
        "    -   자유의 여신상은 미국의 자유와 민주주의를 상징하며, 세계적으로\n",
        "        유명한 관광 명소입니다.\n",
        "4.  **포레스트 공원 (Forest Park)**:\n",
        "    -   이 공원은 뉴욕시 퀸즈 구역에 위치해 있습니다.\n",
        "    -   포레스트 공원은 약 538 에이커의 면적을 가지고 있으며, 다양한\n",
        "        레크리에이션 활동 및 자연 트레일을 제공합니다.\n",
        "5.  **시티 필드 (Citi Field)**:\n",
        "    -   시티 필드는 뉴욕시 퀸즈 구역에 위치한 야구 경기장입니다.\n",
        "    -   이 경기장은 메이저 리그 야구의 뉴욕 메츠 팀의 홈 구장으로\n",
        "        사용됩니다.\n",
        "\n",
        "# 4. NYCTaxi 자료\n",
        "\n",
        "> ref:\n",
        "> <https://www.kaggle.com/competitions/nyc-taxi-trip-duration/overview>\n",
        "\n",
        "## A. 데이터불러오기"
      ],
      "id": "108f8433-bba2-443e-ac9c-7d559249c83d"
    },
    {
      "cell_type": "code",
      "execution_count": 5,
      "metadata": {
        "tags": []
      },
      "outputs": [],
      "source": [
        "df = pd.read_csv(\"https://raw.githubusercontent.com/guebin/DV2023/main/posts/NYCTaxi.csv\")\n",
        "df.columns"
      ],
      "id": "4c471a55-1429-4986-bcc8-1838448899bf"
    },
    {
      "cell_type": "markdown",
      "metadata": {},
      "source": [
        "## B. 데이터 설명\n",
        "\n",
        "`-` Kaggle의 설명\n",
        "\n",
        "-   `id`: a unique identifier for each trip\n",
        "-   `vendor_id`: a code indicating the provider associated with the trip\n",
        "    record\n",
        "-   `pickup_datetime`: date and time when the meter was engaged\n",
        "-   `dropoff_datetime`: date and time when the meter was disengaged\n",
        "-   `passenger_count`: the number of passengers in the vehicle (driver\n",
        "    entered value)\n",
        "-   `pickup_longitude`: the longitude where the meter was engaged\n",
        "-   `pickup_latitude`: the latitude where the meter was engaged\n",
        "-   `dropoff_longitude`: the longitude where the meter was disengaged\n",
        "-   `dropoff_latitude`: the latitude where the meter was disengaged\n",
        "-   `store_and_fwd_flag`: This flag indicates whether the trip record\n",
        "    was held in vehicle memory before sending to the vendor because the\n",
        "    vehicle did not have a connection to the server - Y=store and\n",
        "    forward; N=not a store and forward trip\n",
        "-   `trip_duration`: duration of the trip in seconds\n",
        "\n",
        "`-` ChatGPT의 설명: 제공된 자료는 택시 또는 차량 호출 서비스 데이터를\n",
        "나타내며, 각 트립(여행)에 대한 다양한 정보를 포함하고 있습니다. 이러한\n",
        "데이터는 주로 택시 회사나 차량 공유 서비스에서 수집되며, 서비스의 효율성\n",
        "분석, 수요 예측, 지리적 특성 연구 등에 사용됩니다. 각 변수의 설명은\n",
        "다음과 같습니다:\n",
        "\n",
        "-   `id` (고유 식별자): 각 여행에 대한 고유한 식별 번호입니다. 이를 통해\n",
        "    데이터 내의 각 트립을 구별할 수 있습니다.\n",
        "-   `vendor_id` (공급업체 식별자): 여행 기록과 관련된 서비스 제공업체를\n",
        "    나타내는 코드입니다. 이는 여러 업체가 서비스를 제공하는 경우\n",
        "    구별하는 데 사용됩니다.\n",
        "-   `pickup_datetime` (승차 시간): 승객이 차량에 탑승하고 미터기가\n",
        "    작동하기 시작한 날짜와 시간입니다.\n",
        "-   `dropoff_datetime` (하차 시간): 승객이 차량에서 내리고 미터기가\n",
        "    중단된 날짜와 시간입니다.\n",
        "-   `passenger_count` (승객 수): 차량에 탑승한 승객의 수입니다. 이 값은\n",
        "    운전자가 입력합니다.\n",
        "-   `pickup_longitude` (승차 경도) 및 `pickup_latitude` (승차 위도):\n",
        "    승객이 차량에 탑승한 위치의 경도와 위도입니다.\n",
        "-   `dropoff_longitude` (하차 경도) 및 `dropoff_latitude` (하차 위도):\n",
        "    승객이 차량에서 내린 위치의 경도와 위도입니다.\n",
        "-   `store_and_fwd_flag` (저장 및 전송 플래그): 차량이 서버에 연결되어\n",
        "    있지 않을 때 여행 기록을 차량 메모리에 저장한 후 나중에 전송했는지\n",
        "    여부를 나타냅니다. ’Y’는 저장 후 전송됐음을, ’N’은 실시간 전송됐음을\n",
        "    의미합니다.\n",
        "-   `trip_duration` (여행 기간): 여행의 총 소요 시간으로, 초 단위로\n",
        "    표시됩니다. 이는 승차 시간부터 하차 시간까지의 전체 기간을\n",
        "    나타냅니다.\n",
        "\n",
        "## C. 변수탐색 및 피처엔지니어링\n",
        "\n",
        "`-` 시간을 제외하고는 자료들이 잘 정리된 편임"
      ],
      "id": "3b753d92-5e0f-4cc1-9c1e-9b4736444fb5"
    },
    {
      "cell_type": "code",
      "execution_count": 6,
      "metadata": {
        "tags": []
      },
      "outputs": [
        {
          "output_type": "stream",
          "name": "stdout",
          "text": [
            "<class 'pandas.core.frame.DataFrame'>\n",
            "RangeIndex: 14587 entries, 0 to 14586\n",
            "Data columns (total 11 columns):\n",
            " #   Column              Non-Null Count  Dtype  \n",
            "---  ------              --------------  -----  \n",
            " 0   id                  14587 non-null  object \n",
            " 1   vendor_id           14587 non-null  int64  \n",
            " 2   pickup_datetime     14587 non-null  object \n",
            " 3   dropoff_datetime    14587 non-null  object \n",
            " 4   passenger_count     14587 non-null  int64  \n",
            " 5   pickup_longitude    14587 non-null  float64\n",
            " 6   pickup_latitude     14587 non-null  float64\n",
            " 7   dropoff_longitude   14587 non-null  float64\n",
            " 8   dropoff_latitude    14587 non-null  float64\n",
            " 9   store_and_fwd_flag  14587 non-null  object \n",
            " 10  trip_duration       14587 non-null  int64  \n",
            "dtypes: float64(4), int64(3), object(4)\n",
            "memory usage: 1.2+ MB"
          ]
        }
      ],
      "source": [
        "df.info()"
      ],
      "id": "7ba2cbe9-c154-4b44-ba09-0c99da4d05c3"
    },
    {
      "cell_type": "markdown",
      "metadata": {},
      "source": [
        "`-` `vendor_id`는 비슷한 빈도로 존재함."
      ],
      "id": "03fc59a9-db1a-441b-a025-7dcc92b248ab"
    },
    {
      "cell_type": "code",
      "execution_count": 7,
      "metadata": {
        "tags": []
      },
      "outputs": [],
      "source": [
        "df['vendor_id'].value_counts()"
      ],
      "id": "d928a84b-0f81-4dbd-9cdb-a6a659cb9516"
    },
    {
      "cell_type": "markdown",
      "metadata": {},
      "source": [
        "`-` `trip_duration` 은 너무 큰 값들이 존재함."
      ],
      "id": "7c2b7da4-d4f1-4285-a9fd-119e6b09f4fc"
    },
    {
      "cell_type": "code",
      "execution_count": 8,
      "metadata": {
        "tags": []
      },
      "outputs": [],
      "source": [
        "df.plot.hist(x='trip_duration')"
      ],
      "id": "cb517a36-c0ae-43df-bdaa-8f8c27771c5f"
    },
    {
      "cell_type": "markdown",
      "metadata": {},
      "source": [
        "## D. 데이터변환\n",
        "\n",
        "`-` `trip_duration` 이외에 `log_trip_duration` 추가"
      ],
      "id": "6360daad-1c97-424c-ba82-3782363886ae"
    },
    {
      "cell_type": "code",
      "execution_count": 9,
      "metadata": {
        "tags": []
      },
      "outputs": [],
      "source": [
        "np.log(df.trip_duration).plot.hist() # 정규분포 비슷하게 보임"
      ],
      "id": "58b72512-c0bf-4775-845a-394726279993"
    },
    {
      "cell_type": "markdown",
      "metadata": {},
      "source": [
        "`-` `pickup_datetime`에서 시간만 추출"
      ],
      "id": "dd148547-4f9e-43a5-90c4-01134d5f64e0"
    },
    {
      "cell_type": "code",
      "execution_count": 10,
      "metadata": {
        "tags": []
      },
      "outputs": [],
      "source": [
        "df.pickup_datetime.str.split(' ').str[-1].str.split(':').str[0].apply(int) # 방법1"
      ],
      "id": "d65614b2-8cda-46a7-97d6-9a6b1f74750e"
    },
    {
      "cell_type": "code",
      "execution_count": 11,
      "metadata": {
        "tags": []
      },
      "outputs": [],
      "source": [
        "df.pickup_datetime.apply(pd.to_datetime).dt.hour # 방법2"
      ],
      "id": "5a673b4c-109a-41f1-8501-c90c46b85a6a"
    },
    {
      "cell_type": "markdown",
      "metadata": {},
      "source": [
        "`-` `pickup_datetime`에서 요일을 추출"
      ],
      "id": "cae82dff-f992-476a-b914-d2e1c0347680"
    },
    {
      "cell_type": "code",
      "execution_count": 12,
      "metadata": {
        "tags": []
      },
      "outputs": [],
      "source": [
        "df.pickup_datetime.apply(pd.to_datetime).dt.dayofweek # 방법1"
      ],
      "id": "cb6400d8-3d53-4227-852a-fb9dd6750807"
    },
    {
      "cell_type": "markdown",
      "metadata": {},
      "source": [
        "-   0이 월요일"
      ],
      "id": "51a3a2ee-670d-4fa8-bc9f-d75ac5187ffd"
    },
    {
      "cell_type": "code",
      "execution_count": 13,
      "metadata": {
        "tags": []
      },
      "outputs": [],
      "source": [
        "df.pickup_datetime.apply(pd.to_datetime).dt.strftime('%A') # 방법2"
      ],
      "id": "f3394ca0-ff50-46ba-b5cc-8ef11c4e70b1"
    },
    {
      "cell_type": "markdown",
      "metadata": {},
      "source": [
        "`-` `dropoff_datetime`-`pickup_datetime`룰 계산 + `df.trip_duration` 와\n",
        "비교"
      ],
      "id": "97829d62-3cd9-4c78-bdfc-7c8ab6a1e07b"
    },
    {
      "cell_type": "code",
      "execution_count": 14,
      "metadata": {
        "tags": []
      },
      "outputs": [],
      "source": [
        "df.dropoff_datetime.apply(pd.to_datetime) - df.pickup_datetime.apply(pd.to_datetime) "
      ],
      "id": "93d55aba-1dd6-4346-8ac8-9ea5c9896472"
    },
    {
      "cell_type": "code",
      "execution_count": 15,
      "metadata": {
        "tags": []
      },
      "outputs": [],
      "source": [
        "df.trip_duration # 초단위.. "
      ],
      "id": "4b61ab8f-49a4-4562-8436-a565ffc809e8"
    },
    {
      "cell_type": "markdown",
      "metadata": {},
      "source": [
        "`-` 승차위치와 하차위치를 이용하여 dist를 계산"
      ],
      "id": "2f19ae71-121e-4625-b5e4-9f7f3120a030"
    },
    {
      "cell_type": "code",
      "execution_count": 16,
      "metadata": {
        "tags": []
      },
      "outputs": [],
      "source": [
        "dist = np.sqrt((df.pickup_latitude-df.dropoff_latitude)**2 + (df.pickup_longitude-df.dropoff_longitude)**2)\n",
        "dist"
      ],
      "id": "a3ef1c4b-4bf1-4848-ae1a-4d7ab48125bb"
    },
    {
      "cell_type": "markdown",
      "metadata": {},
      "source": [
        "-   사실 이렇게 계산하면 잘못된 계산임 (1) 실제로 최단거리로 차가\n",
        "    이동하지는 않음 / (2) 지구는 둥글어서.."
      ],
      "id": "88735987-6f4e-4e03-a5e7-da6ad3788482"
    },
    {
      "cell_type": "code",
      "execution_count": 17,
      "metadata": {
        "tags": []
      },
      "outputs": [],
      "source": [
        "dist.plot.hist()"
      ],
      "id": "182a0a2c-e38a-4eaa-8839-ee7bbc4fe1c0"
    },
    {
      "cell_type": "markdown",
      "metadata": {},
      "source": [
        "`-` 속력을 계산"
      ],
      "id": "df8a0645-c009-4ee7-9fb5-e3bc9e3b0db4"
    },
    {
      "cell_type": "code",
      "execution_count": 18,
      "metadata": {
        "tags": []
      },
      "outputs": [],
      "source": [
        "(dist / df.trip_duration).plot.hist()"
      ],
      "id": "b15f0499-5851-4886-b672-e2fbba2f25df"
    },
    {
      "cell_type": "markdown",
      "metadata": {},
      "source": [
        "## E. `df_feature` 생성"
      ],
      "id": "b9f73d59-fb85-4e10-b80f-21e7e48c5b30"
    },
    {
      "cell_type": "code",
      "execution_count": 19,
      "metadata": {
        "tags": []
      },
      "outputs": [],
      "source": [
        "df.columns"
      ],
      "id": "1d6ebf3b-cf81-470d-927c-4cdbce4a6959"
    },
    {
      "cell_type": "code",
      "execution_count": 20,
      "metadata": {
        "tags": []
      },
      "outputs": [],
      "source": [
        "df_feature = df.assign(\n",
        "    log_trip_duration = np.log(df.trip_duration),\n",
        "    pickup_datetime = df.pickup_datetime.apply(pd.to_datetime),\n",
        "    dropoff_datetime = df.dropoff_datetime.apply(pd.to_datetime),\n",
        "    dist = np.sqrt((df.pickup_latitude-df.dropoff_latitude)**2 + (df.pickup_longitude-df.dropoff_longitude)**2),\n",
        "    #---#\n",
        "    vendor_id = df.vendor_id.map({1:'A',2:'B'})\n",
        ").assign(\n",
        "    speed = lambda df: df.dist / df.trip_duration,\n",
        "    pickup_hour = lambda df: df.pickup_datetime.dt.hour,\n",
        "    dropoff_hour = lambda df: df.dropoff_datetime.dt.hour,\n",
        "    dayofweek = lambda df: df.pickup_datetime.dt.dayofweek\n",
        ")"
      ],
      "id": "36265d00-0689-4b4f-88c0-75b405a8ed21"
    },
    {
      "cell_type": "code",
      "execution_count": 21,
      "metadata": {
        "tags": []
      },
      "outputs": [],
      "source": [
        "df_feature"
      ],
      "id": "f8300096-5b9a-49c0-8975-c8e8b001ab19"
    },
    {
      "cell_type": "markdown",
      "metadata": {},
      "source": [
        "# 5. 시각화1 – scatter/density\n",
        "\n",
        "## A. `scatter_mapbox`"
      ],
      "id": "8d3f750f-212f-4811-96fa-2297da0d7e26"
    },
    {
      "cell_type": "code",
      "execution_count": 22,
      "metadata": {
        "tags": []
      },
      "outputs": [],
      "source": [
        "fig = px.scatter_mapbox(\n",
        "    data_frame=df_feature,\n",
        "    lat='pickup_latitude',\n",
        "    lon='pickup_longitude',\n",
        "    opacity=0.3,\n",
        "    center={'lat': 40.7322, 'lon': -73.9052},\n",
        "    mapbox_style='carto-positron',\n",
        "    zoom=10,\n",
        "    width=750,\n",
        "    height=600\n",
        ")\n",
        "fig.update_traces(\n",
        "    marker={'size':2}\n",
        ")\n",
        "fig.show(config={'scrollZoom': False})"
      ],
      "id": "4f6f0d6f-96c2-44b2-ab73-319eedae4c35"
    },
    {
      "cell_type": "markdown",
      "metadata": {},
      "source": [
        "## B. `density_mapbox`"
      ],
      "id": "90232e2e-722b-4877-9cbb-63222acfbc89"
    },
    {
      "cell_type": "code",
      "execution_count": 23,
      "metadata": {
        "tags": []
      },
      "outputs": [],
      "source": [
        "fig = px.density_mapbox(\n",
        "    data_frame=df_feature,\n",
        "    lat = 'pickup_latitude',\n",
        "    lon = 'pickup_longitude',\n",
        "    center = {'lat':40.7322, 'lon':-73.9052},\n",
        "    radius = 1,\n",
        "    #---#\n",
        "    mapbox_style='carto-positron',\n",
        "    zoom=10,\n",
        "    width=750,\n",
        "    height=600\n",
        ")\n",
        "fig.show(config={'scrollZoom': False})"
      ],
      "id": "e1e8c5bf-89cc-4e44-b5f4-b34dea3876a1"
    },
    {
      "cell_type": "markdown",
      "metadata": {},
      "source": [
        "# 6. 시각화2 – scatter/density + $\\alpha$\n",
        "\n",
        "## A. density + passenger_count"
      ],
      "id": "f52b8430-2abd-41ab-8877-24e33a2aa9d1"
    },
    {
      "cell_type": "code",
      "execution_count": 24,
      "metadata": {
        "tags": []
      },
      "outputs": [],
      "source": [
        "fig = px.density_mapbox(\n",
        "    data_frame=df_feature,\n",
        "    lat = 'pickup_latitude',\n",
        "    lon = 'pickup_longitude',\n",
        "    center = {'lat':40.7322, 'lon':-73.9052},\n",
        "    radius = 2,\n",
        "    z='passenger_count',\n",
        "    #---#\n",
        "    mapbox_style='carto-positron',\n",
        "    zoom=10,\n",
        "    width=750,\n",
        "    height=600\n",
        ")\n",
        "fig.show(config={'scrollZoom': False})"
      ],
      "id": "446718cf-2c8f-4a79-b8d1-52126e7f4ccd"
    },
    {
      "cell_type": "markdown",
      "metadata": {},
      "source": [
        "-   단순 밀도와 큰 차이없음. $\\to$ 많이 타는 지역에서 단체손님도 더 많이\n",
        "    받을 확률이 높음. 즉 특정지역에서 단체손님이 더 빈번하게 탄다든가?\n",
        "    하는식의 특징은 보이지 않음.\n",
        "\n",
        "## B. density + log_trip_duration"
      ],
      "id": "2c5d6e88-b929-4ef8-9b9b-c00fc856027a"
    },
    {
      "cell_type": "code",
      "execution_count": 25,
      "metadata": {
        "tags": []
      },
      "outputs": [],
      "source": [
        "fig = px.density_mapbox(\n",
        "    data_frame=df_feature,\n",
        "    lat = 'pickup_latitude',\n",
        "    lon = 'pickup_longitude',\n",
        "    center = {'lat':40.7322, 'lon':-73.9052},\n",
        "    radius = 1.5,\n",
        "    z='log_trip_duration',\n",
        "    #---#\n",
        "    mapbox_style='carto-positron',\n",
        "    zoom=10,\n",
        "    width=750,\n",
        "    height=600\n",
        ")\n",
        "fig.show(config={'scrollZoom': False})"
      ],
      "id": "ebfd5916-bc3c-44cf-bc89-103bdeb40417"
    },
    {
      "cell_type": "markdown",
      "metadata": {},
      "source": [
        "-   단순 밀도와 큰 차이없음. $\\to$ 많이 타는 지역에서 장거리손님도 더\n",
        "    많이 받을 확률이 높음. 즉 특정지역에서 장거리손님이 더 빈번하게\n",
        "    탄다든가? 하는식의 특징은 보이지 않음.\n",
        "-   시티필드와 포레스트 공원은 장거리가 좀 많이보이는것 같기도함.\n",
        "\n",
        "## C. density + speed"
      ],
      "id": "285f25d6-1dbf-4912-8bb7-77e6e978cb63"
    },
    {
      "cell_type": "code",
      "execution_count": 26,
      "metadata": {
        "tags": []
      },
      "outputs": [],
      "source": [
        "fig = px.density_mapbox(\n",
        "    data_frame=df_feature,\n",
        "    lat = 'pickup_latitude',\n",
        "    lon = 'pickup_longitude',\n",
        "    center = {'lat':40.7322, 'lon':-73.9052},\n",
        "    radius = 2,\n",
        "    z='speed',\n",
        "    #---#\n",
        "    mapbox_style='carto-positron',\n",
        "    zoom=10,\n",
        "    width=750,\n",
        "    height=600\n",
        ")\n",
        "fig.show(config={'scrollZoom': False})"
      ],
      "id": "84ed12fe-a156-4435-a9a3-3ba494efe317"
    },
    {
      "cell_type": "markdown",
      "metadata": {},
      "source": [
        "-   시티필드나 포레스트공원쪽이 속력이 높아보임\n",
        "\n",
        "## D. scatter + vendor_id"
      ],
      "id": "2f31afec-d822-4eb3-9f50-9d72981febd6"
    },
    {
      "cell_type": "code",
      "execution_count": 27,
      "metadata": {
        "tags": []
      },
      "outputs": [],
      "source": [
        "fig = px.scatter_mapbox(\n",
        "    data_frame=df_feature,\n",
        "    lat = 'pickup_latitude',\n",
        "    lon = 'pickup_longitude',\n",
        "    opacity = 0.3,\n",
        "    center = {'lat':40.7322, 'lon':-73.9052},\n",
        "    color = 'vendor_id',\n",
        "    #---#\n",
        "    mapbox_style='carto-positron',\n",
        "    zoom=10,\n",
        "    width=750,\n",
        "    height=600\n",
        ")\n",
        "fig.update_traces(\n",
        "    marker={'size':3}\n",
        ")\n",
        "fig.show(config={'scrollZoom': False})"
      ],
      "id": "9e1a9c58-8428-410d-8846-888420d041b3"
    },
    {
      "cell_type": "markdown",
      "metadata": {},
      "source": [
        "-   뚜렷한 차이점은 보이지 않음\n",
        "\n",
        "## E. scatter + dayofweek"
      ],
      "id": "3aa6d24a-211d-4971-98a4-0213bde5c7cd"
    },
    {
      "cell_type": "code",
      "execution_count": 28,
      "metadata": {},
      "outputs": [],
      "source": [
        "fig = px.scatter_mapbox(\n",
        "    data_frame=df_feature,\n",
        "    lat = 'pickup_latitude',\n",
        "    lon = 'pickup_longitude',\n",
        "    opacity = 0.3,\n",
        "    center = {'lat':40.7322, 'lon':-73.9052},\n",
        "    color = 'dayofweek',\n",
        "    #---#\n",
        "    mapbox_style='carto-positron',\n",
        "    zoom=10,\n",
        "    width=750,\n",
        "    height=600\n",
        ")\n",
        "fig.update_traces(\n",
        "    marker={'size':2}\n",
        ")\n",
        "fig.show(config={'scrollZoom': False})"
      ],
      "id": "234cf1cc-6f39-4c3e-bc5e-0a02942a1cbc"
    },
    {
      "cell_type": "markdown",
      "metadata": {},
      "source": [
        "-   파악하기 어려움"
      ],
      "id": "20cbb0bb-738a-475f-a275-98887f4220be"
    }
  ],
  "nbformat": 4,
  "nbformat_minor": 5,
  "metadata": {
    "kernelspec": {
      "name": "python3",
      "display_name": "Python 3 (ipykernel)",
      "language": "python"
    },
    "language_info": {
      "name": "python",
      "codemirror_mode": {
        "name": "ipython",
        "version": "3"
      },
      "file_extension": ".py",
      "mimetype": "text/x-python",
      "nbconvert_exporter": "python",
      "pygments_lexer": "ipython3",
      "version": "3.10.13"
    }
  }
}