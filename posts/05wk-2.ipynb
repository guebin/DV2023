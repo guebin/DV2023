{
 "cells": [
  {
   "cell_type": "raw",
   "id": "d688ec33-aa74-4fdf-a1ac-c4dfa518e1dd",
   "metadata": {},
   "source": [
    "---\n",
    "title: \"05wk-2: Pandas -- transform column (꿀팁)\"\n",
    "author: \"최규빈\"\n",
    "date: \"10/05/2023\"\n",
    "categories:\n",
    "  - pandas\n",
    "---"
   ]
  },
  {
   "cell_type": "markdown",
   "id": "4fe74b89-2734-4ac6-81c2-b81b09a73b79",
   "metadata": {},
   "source": [
    "<a href=\"https://colab.research.google.com/github/guebin/DV2023/blob/main/posts/05wk-2.ipynb\"><img src=\"https://colab.research.google.com/assets/colab-badge.svg\" style=\"text-align: left\"></a>"
   ]
  },
  {
   "cell_type": "markdown",
   "id": "f81bf0ef-809e-4fa6-a2b8-32e8d6cf094c",
   "metadata": {},
   "source": [
    "# 1. 강의영상 "
   ]
  },
  {
   "cell_type": "markdown",
   "id": "c2083055-f687-4b95-8933-f92481418331",
   "metadata": {},
   "source": [
    "{{<video https://youtu.be/playlist?list=PLQqh36zP38-wVp_fe2YXiERTc0ZEh9Li_&si=rr31LPWCeN_negav >}}"
   ]
  },
  {
   "cell_type": "markdown",
   "id": "7e8a70ff-8861-4584-a3c2-aa22a3c3afb2",
   "metadata": {},
   "source": [
    "# 2. Imports"
   ]
  },
  {
   "cell_type": "code",
   "execution_count": 3,
   "id": "fe18b411-466d-4db9-a900-638ea382a801",
   "metadata": {
    "tags": []
   },
   "outputs": [],
   "source": [
    "import numpy as np\n",
    "import pandas as pd\n",
    "from plotnine import *"
   ]
  },
  {
   "cell_type": "markdown",
   "id": "662faaa2",
   "metadata": {},
   "source": [
    "# 3. Pandas: transform column (꿀팁)"
   ]
  },
  {
   "cell_type": "markdown",
   "id": "5dcf4122",
   "metadata": {},
   "source": [
    "## A. `lambda`"
   ]
  },
  {
   "cell_type": "markdown",
   "id": "5efc7f15-df08-44bc-ac8e-409a35fc9673",
   "metadata": {},
   "source": [
    "저번시간에 했음 "
   ]
  },
  {
   "cell_type": "markdown",
   "id": "fb255de6",
   "metadata": {},
   "source": [
    "## B. `map`"
   ]
  },
  {
   "cell_type": "markdown",
   "id": "71c9dda8-00db-43ae-9b6f-d3f32e464d40",
   "metadata": {},
   "source": [
    "저번시간에 했음 "
   ]
  },
  {
   "cell_type": "markdown",
   "id": "89d9b90b",
   "metadata": {},
   "source": [
    "## C. `s.apply(변환함수)`"
   ]
  },
  {
   "cell_type": "markdown",
   "id": "de50638b",
   "metadata": {},
   "source": [
    "`-` 예시1: 원소별로 처음3개의 숫자만 출력 "
   ]
  },
  {
   "cell_type": "code",
   "execution_count": 4,
   "id": "99418b4d",
   "metadata": {
    "tags": []
   },
   "outputs": [],
   "source": [
    "df = pd.read_csv('https://raw.githubusercontent.com/guebin/DV2022/master/posts/FIFA23_official_data.csv')\n",
    "s = df.Height"
   ]
  },
  {
   "cell_type": "code",
   "execution_count": 5,
   "id": "f716f1a4",
   "metadata": {
    "tags": []
   },
   "outputs": [
    {
     "data": {
      "text/plain": [
       "0        189\n",
       "1        179\n",
       "2        172\n",
       "3        181\n",
       "4        172\n",
       "        ... \n",
       "17655    190\n",
       "17656    195\n",
       "17657    190\n",
       "17658    187\n",
       "17659    186\n",
       "Name: Height, Length: 17660, dtype: object"
      ]
     },
     "execution_count": 5,
     "metadata": {},
     "output_type": "execute_result"
    }
   ],
   "source": [
    "s.apply(lambda x: x[:3])"
   ]
  },
  {
   "cell_type": "markdown",
   "id": "a4270a02",
   "metadata": {},
   "source": [
    "`-` 예시2: 원소별로 처음3개의 문자만 출력 $\\to$ `str`자료형을 `int`자료형으로 변환 "
   ]
  },
  {
   "cell_type": "code",
   "execution_count": 6,
   "id": "2ca16fd8",
   "metadata": {
    "tags": []
   },
   "outputs": [],
   "source": [
    "df = pd.read_csv('https://raw.githubusercontent.com/guebin/DV2022/master/posts/FIFA23_official_data.csv')\n",
    "s = df.Height"
   ]
  },
  {
   "cell_type": "markdown",
   "id": "88dfba12",
   "metadata": {},
   "source": [
    "(방법1) -- 한번에"
   ]
  },
  {
   "cell_type": "code",
   "execution_count": 7,
   "id": "09158410-b4ae-48ca-ac2b-7a5b742bb913",
   "metadata": {
    "tags": []
   },
   "outputs": [
    {
     "data": {
      "text/plain": [
       "0        189\n",
       "1        179\n",
       "2        172\n",
       "3        181\n",
       "4        172\n",
       "        ... \n",
       "17655    190\n",
       "17656    195\n",
       "17657    190\n",
       "17658    187\n",
       "17659    186\n",
       "Name: Height, Length: 17660, dtype: int64"
      ]
     },
     "execution_count": 7,
     "metadata": {},
     "output_type": "execute_result"
    }
   ],
   "source": [
    "s.apply(lambda x: int(x[:3]))"
   ]
  },
  {
   "cell_type": "markdown",
   "id": "cf34859b",
   "metadata": {},
   "source": [
    "(방법2) -- 연쇄적으로.."
   ]
  },
  {
   "cell_type": "code",
   "execution_count": 8,
   "id": "b7169559-d4e8-49f0-9bc0-ebaf8157c08d",
   "metadata": {
    "tags": []
   },
   "outputs": [
    {
     "data": {
      "text/plain": [
       "0        189\n",
       "1        179\n",
       "2        172\n",
       "3        181\n",
       "4        172\n",
       "        ... \n",
       "17655    190\n",
       "17656    195\n",
       "17657    190\n",
       "17658    187\n",
       "17659    186\n",
       "Name: Height, Length: 17660, dtype: int64"
      ]
     },
     "execution_count": 8,
     "metadata": {},
     "output_type": "execute_result"
    }
   ],
   "source": [
    "s.apply(lambda x: x[:3]).apply(int)"
   ]
  },
  {
   "cell_type": "markdown",
   "id": "d464dfcd",
   "metadata": {},
   "source": [
    "## D. `s.str`, `idx.str`"
   ]
  },
  {
   "cell_type": "markdown",
   "id": "2ea8c7fa",
   "metadata": {},
   "source": [
    "`-` 예시1: 원소별로 처음 3개의 숫자만 출력 "
   ]
  },
  {
   "cell_type": "code",
   "execution_count": 9,
   "id": "f7f63076",
   "metadata": {
    "tags": []
   },
   "outputs": [],
   "source": [
    "df = pd.read_csv('https://raw.githubusercontent.com/guebin/DV2022/master/posts/FIFA23_official_data.csv')\n",
    "s = df.Height"
   ]
  },
  {
   "cell_type": "code",
   "execution_count": 10,
   "id": "9f46cea8-c672-4371-bb0b-0656be640d99",
   "metadata": {
    "tags": []
   },
   "outputs": [
    {
     "data": {
      "text/plain": [
       "0        189\n",
       "1        179\n",
       "2        172\n",
       "3        181\n",
       "4        172\n",
       "        ... \n",
       "17655    190\n",
       "17656    195\n",
       "17657    190\n",
       "17658    187\n",
       "17659    186\n",
       "Name: Height, Length: 17660, dtype: object"
      ]
     },
     "execution_count": 10,
     "metadata": {},
     "output_type": "execute_result"
    }
   ],
   "source": [
    "s.str[:3]"
   ]
  },
  {
   "cell_type": "markdown",
   "id": "7d34dc0d",
   "metadata": {},
   "source": [
    "`-` 예시2: 원소별로 isupper를 수행 "
   ]
  },
  {
   "cell_type": "code",
   "execution_count": 11,
   "id": "8e1843d3",
   "metadata": {
    "tags": []
   },
   "outputs": [
    {
     "data": {
      "text/plain": [
       "0    A\n",
       "1    B\n",
       "2    C\n",
       "3    d\n",
       "4    e\n",
       "5    F\n",
       "dtype: object"
      ]
     },
     "execution_count": 11,
     "metadata": {},
     "output_type": "execute_result"
    }
   ],
   "source": [
    "s = pd.Series(['A','B','C','d','e','F'])\n",
    "s"
   ]
  },
  {
   "cell_type": "code",
   "execution_count": 12,
   "id": "eeb6d9fb-a378-4c93-8f19-a40df8692cbc",
   "metadata": {
    "tags": []
   },
   "outputs": [
    {
     "data": {
      "text/plain": [
       "0     True\n",
       "1     True\n",
       "2     True\n",
       "3    False\n",
       "4    False\n",
       "5     True\n",
       "dtype: bool"
      ]
     },
     "execution_count": 12,
     "metadata": {},
     "output_type": "execute_result"
    }
   ],
   "source": [
    "s.str.isupper()"
   ]
  },
  {
   "cell_type": "markdown",
   "id": "f147ca23",
   "metadata": {},
   "source": [
    "`-` 예시3: 원소별로 공백제거 (pd.Series 뿐만 아니라 pd.Index 자료형에도 사용가능)"
   ]
  },
  {
   "cell_type": "code",
   "execution_count": 13,
   "id": "ad2ac0e6",
   "metadata": {
    "tags": []
   },
   "outputs": [],
   "source": [
    "df = pd.read_csv('https://raw.githubusercontent.com/guebin/DV2022/master/posts/FIFA23_official_data.csv')\n",
    "idx = df.columns"
   ]
  },
  {
   "cell_type": "code",
   "execution_count": 14,
   "id": "8d54ad50-ee77-49c7-9662-892b97b338dd",
   "metadata": {
    "tags": []
   },
   "outputs": [
    {
     "data": {
      "text/plain": [
       "Index(['ID', 'Name', 'Age', 'Photo', 'Nationality', 'Flag', 'Overall',\n",
       "       'Potential', 'Club', 'ClubLogo', 'Value', 'Wage', 'Special',\n",
       "       'PreferredFoot', 'InternationalReputation', 'WeakFoot', 'SkillMoves',\n",
       "       'WorkRate', 'BodyType', 'RealFace', 'Position', 'Joined', 'LoanedFrom',\n",
       "       'ContractValidUntil', 'Height', 'Weight', 'ReleaseClause', 'KitNumber',\n",
       "       'BestOverallRating'],\n",
       "      dtype='object')"
      ]
     },
     "execution_count": 14,
     "metadata": {},
     "output_type": "execute_result"
    }
   ],
   "source": [
    "idx.str.replace(' ','')"
   ]
  },
  {
   "cell_type": "markdown",
   "id": "a1521b79",
   "metadata": {},
   "source": [
    "## E. `s.astype()`"
   ]
  },
  {
   "cell_type": "markdown",
   "id": "43848b65",
   "metadata": {},
   "source": [
    "`-` 예시1: 원소의 타입을 모두 `int`형으로 변경 "
   ]
  },
  {
   "cell_type": "code",
   "execution_count": 15,
   "id": "f97e2a97",
   "metadata": {
    "tags": []
   },
   "outputs": [
    {
     "data": {
      "text/plain": [
       "0    1\n",
       "1    2\n",
       "2    3\n",
       "3    4\n",
       "4    5\n",
       "dtype: object"
      ]
     },
     "execution_count": 15,
     "metadata": {},
     "output_type": "execute_result"
    }
   ],
   "source": [
    "s = pd.Series(list('12345'))\n",
    "s"
   ]
  },
  {
   "cell_type": "code",
   "execution_count": 16,
   "id": "e312ccbe-1a2f-4110-8a71-67ec16140d3f",
   "metadata": {
    "tags": []
   },
   "outputs": [
    {
     "data": {
      "text/plain": [
       "0    1\n",
       "1    2\n",
       "2    3\n",
       "3    4\n",
       "4    5\n",
       "dtype: int64"
      ]
     },
     "execution_count": 16,
     "metadata": {},
     "output_type": "execute_result"
    }
   ],
   "source": [
    "s.astype(int)"
   ]
  },
  {
   "cell_type": "markdown",
   "id": "570facc8-2b13-4ca9-a4ab-a0b145e3a747",
   "metadata": {},
   "source": [
    "`-` 예시2: 원소의 타입을 변환한 이후 브로드캐스팅 (int)"
   ]
  },
  {
   "cell_type": "code",
   "execution_count": 17,
   "id": "4b9cf43a-49c9-45cf-a95f-aa269faaf085",
   "metadata": {
    "tags": []
   },
   "outputs": [],
   "source": [
    "s1 = pd.Series(list('12345'))\n",
    "s2 = pd.Series([-1,-2,-3,-4,-5])"
   ]
  },
  {
   "cell_type": "code",
   "execution_count": 18,
   "id": "c95a5d37-3b83-4e1b-8560-693e3be36678",
   "metadata": {
    "tags": []
   },
   "outputs": [
    {
     "data": {
      "text/plain": [
       "0    0\n",
       "1    0\n",
       "2    0\n",
       "3    0\n",
       "4    0\n",
       "dtype: int64"
      ]
     },
     "execution_count": 18,
     "metadata": {},
     "output_type": "execute_result"
    }
   ],
   "source": [
    "s1.astype(int)+s2"
   ]
  },
  {
   "cell_type": "markdown",
   "id": "91c1956a-05c7-435a-8d88-e9113f80498b",
   "metadata": {},
   "source": [
    "`# 예시3`: 원소의 타입을 변환한 이후 브로드캐스팅 (str)"
   ]
  },
  {
   "cell_type": "code",
   "execution_count": 19,
   "id": "2190ec83-1649-4b17-885c-03b338e10af2",
   "metadata": {
    "tags": []
   },
   "outputs": [
    {
     "data": {
      "text/html": [
       "<div>\n",
       "<style scoped>\n",
       "    .dataframe tbody tr th:only-of-type {\n",
       "        vertical-align: middle;\n",
       "    }\n",
       "\n",
       "    .dataframe tbody tr th {\n",
       "        vertical-align: top;\n",
       "    }\n",
       "\n",
       "    .dataframe thead th {\n",
       "        text-align: right;\n",
       "    }\n",
       "</style>\n",
       "<table border=\"1\" class=\"dataframe\">\n",
       "  <thead>\n",
       "    <tr style=\"text-align: right;\">\n",
       "      <th></th>\n",
       "      <th>PassengerId</th>\n",
       "      <th>Survived</th>\n",
       "      <th>Pclass</th>\n",
       "      <th>Name</th>\n",
       "      <th>Sex</th>\n",
       "      <th>Age</th>\n",
       "      <th>SibSp</th>\n",
       "      <th>Parch</th>\n",
       "      <th>Ticket</th>\n",
       "      <th>Fare</th>\n",
       "      <th>Cabin</th>\n",
       "      <th>Embarked</th>\n",
       "      <th>logFare</th>\n",
       "    </tr>\n",
       "  </thead>\n",
       "  <tbody>\n",
       "    <tr>\n",
       "      <th>0</th>\n",
       "      <td>1</td>\n",
       "      <td>0</td>\n",
       "      <td>3</td>\n",
       "      <td>Braund, Mr. Owen Harris</td>\n",
       "      <td>male</td>\n",
       "      <td>22.0</td>\n",
       "      <td>1</td>\n",
       "      <td>0</td>\n",
       "      <td>A/5 21171</td>\n",
       "      <td>7.2500</td>\n",
       "      <td>NaN</td>\n",
       "      <td>S</td>\n",
       "      <td>1.981001</td>\n",
       "    </tr>\n",
       "    <tr>\n",
       "      <th>1</th>\n",
       "      <td>2</td>\n",
       "      <td>1</td>\n",
       "      <td>1</td>\n",
       "      <td>Cumings, Mrs. John Bradley (Florence Briggs Th...</td>\n",
       "      <td>female</td>\n",
       "      <td>38.0</td>\n",
       "      <td>1</td>\n",
       "      <td>0</td>\n",
       "      <td>PC 17599</td>\n",
       "      <td>71.2833</td>\n",
       "      <td>C85</td>\n",
       "      <td>C</td>\n",
       "      <td>4.266662</td>\n",
       "    </tr>\n",
       "    <tr>\n",
       "      <th>2</th>\n",
       "      <td>3</td>\n",
       "      <td>1</td>\n",
       "      <td>3</td>\n",
       "      <td>Heikkinen, Miss. Laina</td>\n",
       "      <td>female</td>\n",
       "      <td>26.0</td>\n",
       "      <td>0</td>\n",
       "      <td>0</td>\n",
       "      <td>STON/O2. 3101282</td>\n",
       "      <td>7.9250</td>\n",
       "      <td>NaN</td>\n",
       "      <td>S</td>\n",
       "      <td>2.070022</td>\n",
       "    </tr>\n",
       "    <tr>\n",
       "      <th>3</th>\n",
       "      <td>4</td>\n",
       "      <td>1</td>\n",
       "      <td>1</td>\n",
       "      <td>Futrelle, Mrs. Jacques Heath (Lily May Peel)</td>\n",
       "      <td>female</td>\n",
       "      <td>35.0</td>\n",
       "      <td>1</td>\n",
       "      <td>0</td>\n",
       "      <td>113803</td>\n",
       "      <td>53.1000</td>\n",
       "      <td>C123</td>\n",
       "      <td>S</td>\n",
       "      <td>3.972177</td>\n",
       "    </tr>\n",
       "    <tr>\n",
       "      <th>4</th>\n",
       "      <td>5</td>\n",
       "      <td>0</td>\n",
       "      <td>3</td>\n",
       "      <td>Allen, Mr. William Henry</td>\n",
       "      <td>male</td>\n",
       "      <td>35.0</td>\n",
       "      <td>0</td>\n",
       "      <td>0</td>\n",
       "      <td>373450</td>\n",
       "      <td>8.0500</td>\n",
       "      <td>NaN</td>\n",
       "      <td>S</td>\n",
       "      <td>2.085672</td>\n",
       "    </tr>\n",
       "  </tbody>\n",
       "</table>\n",
       "</div>"
      ],
      "text/plain": [
       "   PassengerId  Survived  Pclass  \\\n",
       "0            1         0       3   \n",
       "1            2         1       1   \n",
       "2            3         1       3   \n",
       "3            4         1       1   \n",
       "4            5         0       3   \n",
       "\n",
       "                                                Name     Sex   Age  SibSp  \\\n",
       "0                            Braund, Mr. Owen Harris    male  22.0      1   \n",
       "1  Cumings, Mrs. John Bradley (Florence Briggs Th...  female  38.0      1   \n",
       "2                             Heikkinen, Miss. Laina  female  26.0      0   \n",
       "3       Futrelle, Mrs. Jacques Heath (Lily May Peel)  female  35.0      1   \n",
       "4                           Allen, Mr. William Henry    male  35.0      0   \n",
       "\n",
       "   Parch            Ticket     Fare Cabin Embarked   logFare  \n",
       "0      0         A/5 21171   7.2500   NaN        S  1.981001  \n",
       "1      0          PC 17599  71.2833   C85        C  4.266662  \n",
       "2      0  STON/O2. 3101282   7.9250   NaN        S  2.070022  \n",
       "3      0            113803  53.1000  C123        S  3.972177  \n",
       "4      0            373450   8.0500   NaN        S  2.085672  "
      ]
     },
     "execution_count": 19,
     "metadata": {},
     "output_type": "execute_result"
    }
   ],
   "source": [
    "df = pd.read_csv(\"https://raw.githubusercontent.com/guebin/DV2023/main/posts/titanic.csv\")[:5]\n",
    "df"
   ]
  },
  {
   "cell_type": "markdown",
   "id": "eb66a7fd-e9d9-4983-a003-b4fcab12eacb",
   "metadata": {
    "tags": []
   },
   "source": [
    "위의 자료에서 `Embarked` 열과 `Pclass`열을 이용하여 아래와 같은 `New Feature`를 만들어라."
   ]
  },
  {
   "cell_type": "markdown",
   "id": "063d50fb-6285-42bf-b604-4c27063f3bfa",
   "metadata": {},
   "source": [
    "|Embarked|Pclass|New Feature|\n",
    "|:-:|:-:|:-:|\n",
    "|'S'|3|'S3'|\n",
    "|'C'|1|'C1'|\n",
    "|'S'|3|'S3'|\n",
    "|'S'|1|'S1'|\n",
    "|'S'|3|'S3'|"
   ]
  },
  {
   "cell_type": "markdown",
   "id": "411d86b5-3581-4754-913c-b582aee06abb",
   "metadata": {},
   "source": [
    "(풀이)"
   ]
  },
  {
   "cell_type": "code",
   "execution_count": 20,
   "id": "f69cb71f-754c-46cb-a873-abee1adb82d0",
   "metadata": {
    "tags": []
   },
   "outputs": [
    {
     "data": {
      "text/plain": [
       "0    S3\n",
       "1    C1\n",
       "2    S3\n",
       "3    S1\n",
       "4    S3\n",
       "dtype: object"
      ]
     },
     "execution_count": 20,
     "metadata": {},
     "output_type": "execute_result"
    }
   ],
   "source": [
    "df.Embarked + df.Pclass.astype(str)"
   ]
  },
  {
   "cell_type": "markdown",
   "id": "feab0cbc-4f3c-4cea-b723-bff92219f3bf",
   "metadata": {},
   "source": [
    "`#`"
   ]
  },
  {
   "cell_type": "markdown",
   "id": "7bcad301-f095-43c1-b41a-cd40715a03e3",
   "metadata": {},
   "source": [
    "## F. 컴프리헨션, `lambda+map`을 무시하지 말 것"
   ]
  },
  {
   "cell_type": "markdown",
   "id": "fa28c476-014a-4501-a43e-4e20f95c7ade",
   "metadata": {},
   "source": [
    "`# 예시1`"
   ]
  },
  {
   "cell_type": "code",
   "execution_count": 21,
   "id": "fd886315-8a17-4c70-8ecc-7b7a6ded5801",
   "metadata": {},
   "outputs": [
    {
     "data": {
      "text/html": [
       "<div>\n",
       "<style scoped>\n",
       "    .dataframe tbody tr th:only-of-type {\n",
       "        vertical-align: middle;\n",
       "    }\n",
       "\n",
       "    .dataframe tbody tr th {\n",
       "        vertical-align: top;\n",
       "    }\n",
       "\n",
       "    .dataframe thead th {\n",
       "        text-align: right;\n",
       "    }\n",
       "</style>\n",
       "<table border=\"1\" class=\"dataframe\">\n",
       "  <thead>\n",
       "    <tr style=\"text-align: right;\">\n",
       "      <th></th>\n",
       "      <th>PassengerId</th>\n",
       "      <th>Survived</th>\n",
       "      <th>Pclass</th>\n",
       "      <th>Name</th>\n",
       "      <th>Sex</th>\n",
       "      <th>Age</th>\n",
       "      <th>SibSp</th>\n",
       "      <th>Parch</th>\n",
       "      <th>Ticket</th>\n",
       "      <th>Fare</th>\n",
       "      <th>Cabin</th>\n",
       "      <th>Embarked</th>\n",
       "      <th>logFare</th>\n",
       "    </tr>\n",
       "  </thead>\n",
       "  <tbody>\n",
       "    <tr>\n",
       "      <th>0</th>\n",
       "      <td>1</td>\n",
       "      <td>0</td>\n",
       "      <td>3</td>\n",
       "      <td>Braund, Mr. Owen Harris</td>\n",
       "      <td>male</td>\n",
       "      <td>22.0</td>\n",
       "      <td>1</td>\n",
       "      <td>0</td>\n",
       "      <td>A/5 21171</td>\n",
       "      <td>7.2500</td>\n",
       "      <td>NaN</td>\n",
       "      <td>S</td>\n",
       "      <td>1.981001</td>\n",
       "    </tr>\n",
       "    <tr>\n",
       "      <th>1</th>\n",
       "      <td>2</td>\n",
       "      <td>1</td>\n",
       "      <td>1</td>\n",
       "      <td>Cumings, Mrs. John Bradley (Florence Briggs Th...</td>\n",
       "      <td>female</td>\n",
       "      <td>38.0</td>\n",
       "      <td>1</td>\n",
       "      <td>0</td>\n",
       "      <td>PC 17599</td>\n",
       "      <td>71.2833</td>\n",
       "      <td>C85</td>\n",
       "      <td>C</td>\n",
       "      <td>4.266662</td>\n",
       "    </tr>\n",
       "    <tr>\n",
       "      <th>2</th>\n",
       "      <td>3</td>\n",
       "      <td>1</td>\n",
       "      <td>3</td>\n",
       "      <td>Heikkinen, Miss. Laina</td>\n",
       "      <td>female</td>\n",
       "      <td>26.0</td>\n",
       "      <td>0</td>\n",
       "      <td>0</td>\n",
       "      <td>STON/O2. 3101282</td>\n",
       "      <td>7.9250</td>\n",
       "      <td>NaN</td>\n",
       "      <td>S</td>\n",
       "      <td>2.070022</td>\n",
       "    </tr>\n",
       "    <tr>\n",
       "      <th>3</th>\n",
       "      <td>4</td>\n",
       "      <td>1</td>\n",
       "      <td>1</td>\n",
       "      <td>Futrelle, Mrs. Jacques Heath (Lily May Peel)</td>\n",
       "      <td>female</td>\n",
       "      <td>35.0</td>\n",
       "      <td>1</td>\n",
       "      <td>0</td>\n",
       "      <td>113803</td>\n",
       "      <td>53.1000</td>\n",
       "      <td>C123</td>\n",
       "      <td>S</td>\n",
       "      <td>3.972177</td>\n",
       "    </tr>\n",
       "    <tr>\n",
       "      <th>4</th>\n",
       "      <td>5</td>\n",
       "      <td>0</td>\n",
       "      <td>3</td>\n",
       "      <td>Allen, Mr. William Henry</td>\n",
       "      <td>male</td>\n",
       "      <td>35.0</td>\n",
       "      <td>0</td>\n",
       "      <td>0</td>\n",
       "      <td>373450</td>\n",
       "      <td>8.0500</td>\n",
       "      <td>NaN</td>\n",
       "      <td>S</td>\n",
       "      <td>2.085672</td>\n",
       "    </tr>\n",
       "  </tbody>\n",
       "</table>\n",
       "</div>"
      ],
      "text/plain": [
       "   PassengerId  Survived  Pclass  \\\n",
       "0            1         0       3   \n",
       "1            2         1       1   \n",
       "2            3         1       3   \n",
       "3            4         1       1   \n",
       "4            5         0       3   \n",
       "\n",
       "                                                Name     Sex   Age  SibSp  \\\n",
       "0                            Braund, Mr. Owen Harris    male  22.0      1   \n",
       "1  Cumings, Mrs. John Bradley (Florence Briggs Th...  female  38.0      1   \n",
       "2                             Heikkinen, Miss. Laina  female  26.0      0   \n",
       "3       Futrelle, Mrs. Jacques Heath (Lily May Peel)  female  35.0      1   \n",
       "4                           Allen, Mr. William Henry    male  35.0      0   \n",
       "\n",
       "   Parch            Ticket     Fare Cabin Embarked   logFare  \n",
       "0      0         A/5 21171   7.2500   NaN        S  1.981001  \n",
       "1      0          PC 17599  71.2833   C85        C  4.266662  \n",
       "2      0  STON/O2. 3101282   7.9250   NaN        S  2.070022  \n",
       "3      0            113803  53.1000  C123        S  3.972177  \n",
       "4      0            373450   8.0500   NaN        S  2.085672  "
      ]
     },
     "execution_count": 21,
     "metadata": {},
     "output_type": "execute_result"
    }
   ],
   "source": [
    "df = pd.read_csv(\"https://raw.githubusercontent.com/guebin/DV2023/main/posts/titanic.csv\")[:5]\n",
    "df"
   ]
  },
  {
   "cell_type": "markdown",
   "id": "145a4766-0d1c-4b9b-b456-9c9dc7440d3c",
   "metadata": {
    "tags": []
   },
   "source": [
    "위의 자료에서 아래와 같은 변환을 하고 싶다면? "
   ]
  },
  {
   "cell_type": "markdown",
   "id": "648c750f-9185-4e67-aa38-f797656dcb15",
   "metadata": {},
   "source": [
    "$$\n",
    "f(\\text{sex}, \\text{sibsp}) = \n",
    "\\begin{cases} \n",
    "0.7 + 0.25 \\times \\text{sibsp} & \\text{if } \\text{sex} = \\text{'female'} \\\\\n",
    "0.1 + 0.15 \\times \\text{sibsp} & \\text{otherwise}\n",
    "\\end{cases}\n",
    "$$"
   ]
  },
  {
   "cell_type": "code",
   "execution_count": 22,
   "id": "5fd1d918-86c2-43cb-be0b-ece8a75cc4b3",
   "metadata": {},
   "outputs": [
    {
     "data": {
      "text/html": [
       "<div>\n",
       "<style scoped>\n",
       "    .dataframe tbody tr th:only-of-type {\n",
       "        vertical-align: middle;\n",
       "    }\n",
       "\n",
       "    .dataframe tbody tr th {\n",
       "        vertical-align: top;\n",
       "    }\n",
       "\n",
       "    .dataframe thead th {\n",
       "        text-align: right;\n",
       "    }\n",
       "</style>\n",
       "<table border=\"1\" class=\"dataframe\">\n",
       "  <thead>\n",
       "    <tr style=\"text-align: right;\">\n",
       "      <th></th>\n",
       "      <th>PassengerId</th>\n",
       "      <th>Survived</th>\n",
       "      <th>Pclass</th>\n",
       "      <th>Name</th>\n",
       "      <th>Sex</th>\n",
       "      <th>Age</th>\n",
       "      <th>SibSp</th>\n",
       "      <th>Parch</th>\n",
       "      <th>Ticket</th>\n",
       "      <th>Fare</th>\n",
       "      <th>Cabin</th>\n",
       "      <th>Embarked</th>\n",
       "      <th>logFare</th>\n",
       "      <th>Prob</th>\n",
       "    </tr>\n",
       "  </thead>\n",
       "  <tbody>\n",
       "    <tr>\n",
       "      <th>0</th>\n",
       "      <td>1</td>\n",
       "      <td>0</td>\n",
       "      <td>3</td>\n",
       "      <td>Braund, Mr. Owen Harris</td>\n",
       "      <td>male</td>\n",
       "      <td>22.0</td>\n",
       "      <td>1</td>\n",
       "      <td>0</td>\n",
       "      <td>A/5 21171</td>\n",
       "      <td>7.2500</td>\n",
       "      <td>NaN</td>\n",
       "      <td>S</td>\n",
       "      <td>1.981001</td>\n",
       "      <td>0.35</td>\n",
       "    </tr>\n",
       "    <tr>\n",
       "      <th>1</th>\n",
       "      <td>2</td>\n",
       "      <td>1</td>\n",
       "      <td>1</td>\n",
       "      <td>Cumings, Mrs. John Bradley (Florence Briggs Th...</td>\n",
       "      <td>female</td>\n",
       "      <td>38.0</td>\n",
       "      <td>1</td>\n",
       "      <td>0</td>\n",
       "      <td>PC 17599</td>\n",
       "      <td>71.2833</td>\n",
       "      <td>C85</td>\n",
       "      <td>C</td>\n",
       "      <td>4.266662</td>\n",
       "      <td>0.95</td>\n",
       "    </tr>\n",
       "    <tr>\n",
       "      <th>2</th>\n",
       "      <td>3</td>\n",
       "      <td>1</td>\n",
       "      <td>3</td>\n",
       "      <td>Heikkinen, Miss. Laina</td>\n",
       "      <td>female</td>\n",
       "      <td>26.0</td>\n",
       "      <td>0</td>\n",
       "      <td>0</td>\n",
       "      <td>STON/O2. 3101282</td>\n",
       "      <td>7.9250</td>\n",
       "      <td>NaN</td>\n",
       "      <td>S</td>\n",
       "      <td>2.070022</td>\n",
       "      <td>0.70</td>\n",
       "    </tr>\n",
       "    <tr>\n",
       "      <th>3</th>\n",
       "      <td>4</td>\n",
       "      <td>1</td>\n",
       "      <td>1</td>\n",
       "      <td>Futrelle, Mrs. Jacques Heath (Lily May Peel)</td>\n",
       "      <td>female</td>\n",
       "      <td>35.0</td>\n",
       "      <td>1</td>\n",
       "      <td>0</td>\n",
       "      <td>113803</td>\n",
       "      <td>53.1000</td>\n",
       "      <td>C123</td>\n",
       "      <td>S</td>\n",
       "      <td>3.972177</td>\n",
       "      <td>0.95</td>\n",
       "    </tr>\n",
       "    <tr>\n",
       "      <th>4</th>\n",
       "      <td>5</td>\n",
       "      <td>0</td>\n",
       "      <td>3</td>\n",
       "      <td>Allen, Mr. William Henry</td>\n",
       "      <td>male</td>\n",
       "      <td>35.0</td>\n",
       "      <td>0</td>\n",
       "      <td>0</td>\n",
       "      <td>373450</td>\n",
       "      <td>8.0500</td>\n",
       "      <td>NaN</td>\n",
       "      <td>S</td>\n",
       "      <td>2.085672</td>\n",
       "      <td>0.20</td>\n",
       "    </tr>\n",
       "  </tbody>\n",
       "</table>\n",
       "</div>"
      ],
      "text/plain": [
       "   PassengerId  Survived  Pclass  \\\n",
       "0            1         0       3   \n",
       "1            2         1       1   \n",
       "2            3         1       3   \n",
       "3            4         1       1   \n",
       "4            5         0       3   \n",
       "\n",
       "                                                Name     Sex   Age  SibSp  \\\n",
       "0                            Braund, Mr. Owen Harris    male  22.0      1   \n",
       "1  Cumings, Mrs. John Bradley (Florence Briggs Th...  female  38.0      1   \n",
       "2                             Heikkinen, Miss. Laina  female  26.0      0   \n",
       "3       Futrelle, Mrs. Jacques Heath (Lily May Peel)  female  35.0      1   \n",
       "4                           Allen, Mr. William Henry    male  35.0      0   \n",
       "\n",
       "   Parch            Ticket     Fare Cabin Embarked   logFare  Prob  \n",
       "0      0         A/5 21171   7.2500   NaN        S  1.981001  0.35  \n",
       "1      0          PC 17599  71.2833   C85        C  4.266662  0.95  \n",
       "2      0  STON/O2. 3101282   7.9250   NaN        S  2.070022  0.70  \n",
       "3      0            113803  53.1000  C123        S  3.972177  0.95  \n",
       "4      0            373450   8.0500   NaN        S  2.085672  0.20  "
      ]
     },
     "execution_count": 22,
     "metadata": {},
     "output_type": "execute_result"
    }
   ],
   "source": [
    "df.assign(Prob= list(map(lambda sex,sibsp: 0.7 + sibsp*0.25 if sex=='female' else 0.2 + sibsp*0.15, df.Sex, df.SibSp)))"
   ]
  },
  {
   "cell_type": "markdown",
   "id": "e0a0e700-dfbe-4713-ac47-96634d9cca2f",
   "metadata": {
    "tags": []
   },
   "source": [
    "`#`"
   ]
  },
  {
   "cell_type": "markdown",
   "id": "fab5c20e-9c82-4cc3-947b-5eda79102efb",
   "metadata": {},
   "source": [
    "`# 예시2`"
   ]
  },
  {
   "cell_type": "code",
   "execution_count": 57,
   "id": "51c1ff25-b34c-41d1-9d6c-9719aecf94ea",
   "metadata": {
    "tags": []
   },
   "outputs": [
    {
     "data": {
      "text/html": [
       "<div>\n",
       "<style scoped>\n",
       "    .dataframe tbody tr th:only-of-type {\n",
       "        vertical-align: middle;\n",
       "    }\n",
       "\n",
       "    .dataframe tbody tr th {\n",
       "        vertical-align: top;\n",
       "    }\n",
       "\n",
       "    .dataframe thead th {\n",
       "        text-align: right;\n",
       "    }\n",
       "</style>\n",
       "<table border=\"1\" class=\"dataframe\">\n",
       "  <thead>\n",
       "    <tr style=\"text-align: right;\">\n",
       "      <th></th>\n",
       "      <th>PassengerId</th>\n",
       "      <th>Survived</th>\n",
       "      <th>Pclass</th>\n",
       "      <th>Name</th>\n",
       "      <th>Sex</th>\n",
       "      <th>Age</th>\n",
       "      <th>SibSp</th>\n",
       "      <th>Parch</th>\n",
       "      <th>Ticket</th>\n",
       "      <th>Fare</th>\n",
       "      <th>Cabin</th>\n",
       "      <th>Embarked</th>\n",
       "      <th>logFare</th>\n",
       "    </tr>\n",
       "  </thead>\n",
       "  <tbody>\n",
       "    <tr>\n",
       "      <th>0</th>\n",
       "      <td>1</td>\n",
       "      <td>0</td>\n",
       "      <td>3</td>\n",
       "      <td>Braund, Mr. Owen Harris</td>\n",
       "      <td>male</td>\n",
       "      <td>22.0</td>\n",
       "      <td>1</td>\n",
       "      <td>0</td>\n",
       "      <td>A/5 21171</td>\n",
       "      <td>7.2500</td>\n",
       "      <td>NaN</td>\n",
       "      <td>S</td>\n",
       "      <td>1.981001</td>\n",
       "    </tr>\n",
       "    <tr>\n",
       "      <th>1</th>\n",
       "      <td>2</td>\n",
       "      <td>1</td>\n",
       "      <td>1</td>\n",
       "      <td>Cumings, Mrs. John Bradley (Florence Briggs Th...</td>\n",
       "      <td>female</td>\n",
       "      <td>38.0</td>\n",
       "      <td>1</td>\n",
       "      <td>0</td>\n",
       "      <td>PC 17599</td>\n",
       "      <td>71.2833</td>\n",
       "      <td>C85</td>\n",
       "      <td>C</td>\n",
       "      <td>4.266662</td>\n",
       "    </tr>\n",
       "    <tr>\n",
       "      <th>2</th>\n",
       "      <td>3</td>\n",
       "      <td>1</td>\n",
       "      <td>3</td>\n",
       "      <td>Heikkinen, Miss. Laina</td>\n",
       "      <td>female</td>\n",
       "      <td>26.0</td>\n",
       "      <td>0</td>\n",
       "      <td>0</td>\n",
       "      <td>STON/O2. 3101282</td>\n",
       "      <td>7.9250</td>\n",
       "      <td>NaN</td>\n",
       "      <td>S</td>\n",
       "      <td>2.070022</td>\n",
       "    </tr>\n",
       "    <tr>\n",
       "      <th>3</th>\n",
       "      <td>4</td>\n",
       "      <td>1</td>\n",
       "      <td>1</td>\n",
       "      <td>Futrelle, Mrs. Jacques Heath (Lily May Peel)</td>\n",
       "      <td>female</td>\n",
       "      <td>35.0</td>\n",
       "      <td>1</td>\n",
       "      <td>0</td>\n",
       "      <td>113803</td>\n",
       "      <td>53.1000</td>\n",
       "      <td>C123</td>\n",
       "      <td>S</td>\n",
       "      <td>3.972177</td>\n",
       "    </tr>\n",
       "    <tr>\n",
       "      <th>4</th>\n",
       "      <td>5</td>\n",
       "      <td>0</td>\n",
       "      <td>3</td>\n",
       "      <td>Allen, Mr. William Henry</td>\n",
       "      <td>male</td>\n",
       "      <td>35.0</td>\n",
       "      <td>0</td>\n",
       "      <td>0</td>\n",
       "      <td>373450</td>\n",
       "      <td>8.0500</td>\n",
       "      <td>NaN</td>\n",
       "      <td>S</td>\n",
       "      <td>2.085672</td>\n",
       "    </tr>\n",
       "  </tbody>\n",
       "</table>\n",
       "</div>"
      ],
      "text/plain": [
       "   PassengerId  Survived  Pclass  \\\n",
       "0            1         0       3   \n",
       "1            2         1       1   \n",
       "2            3         1       3   \n",
       "3            4         1       1   \n",
       "4            5         0       3   \n",
       "\n",
       "                                                Name     Sex   Age  SibSp  \\\n",
       "0                            Braund, Mr. Owen Harris    male  22.0      1   \n",
       "1  Cumings, Mrs. John Bradley (Florence Briggs Th...  female  38.0      1   \n",
       "2                             Heikkinen, Miss. Laina  female  26.0      0   \n",
       "3       Futrelle, Mrs. Jacques Heath (Lily May Peel)  female  35.0      1   \n",
       "4                           Allen, Mr. William Henry    male  35.0      0   \n",
       "\n",
       "   Parch            Ticket     Fare Cabin Embarked   logFare  \n",
       "0      0         A/5 21171   7.2500   NaN        S  1.981001  \n",
       "1      0          PC 17599  71.2833   C85        C  4.266662  \n",
       "2      0  STON/O2. 3101282   7.9250   NaN        S  2.070022  \n",
       "3      0            113803  53.1000  C123        S  3.972177  \n",
       "4      0            373450   8.0500   NaN        S  2.085672  "
      ]
     },
     "execution_count": 57,
     "metadata": {},
     "output_type": "execute_result"
    }
   ],
   "source": [
    "df = pd.read_csv(\"https://raw.githubusercontent.com/guebin/DV2023/main/posts/titanic.csv\")[:5]\n",
    "df"
   ]
  },
  {
   "cell_type": "markdown",
   "id": "2d871d85-792b-4c13-af01-f42e8050553c",
   "metadata": {
    "tags": []
   },
   "source": [
    "위의 자료에서 Name열을 아래와 같이 분리하는 작업을 수행하라. "
   ]
  },
  {
   "cell_type": "markdown",
   "id": "a82e6268-a2dc-4150-ae94-b813626bdc2c",
   "metadata": {},
   "source": [
    "|    | title | Name                                                   |\n",
    "|----|-------|--------------------------------------------------------|\n",
    "| 0  | Mr    | Owen Harris Braund                                     |\n",
    "| 1  | Mrs   | John Bradley (Florence Briggs Thayer) Cumings          |\n",
    "| 2  | Miss  | Laina Heikkinen                                        |\n",
    "| 3  | Mrs   | Jacques Heath (Lily May Peel) Futrelle                 |\n",
    "| 4  | Mr    | William Henry Allen                                    |"
   ]
  },
  {
   "cell_type": "markdown",
   "id": "fa0b30f6-02b4-474f-bf89-a4a2180c7dbd",
   "metadata": {},
   "source": [
    "(풀이)"
   ]
  },
  {
   "cell_type": "code",
   "execution_count": 38,
   "id": "bf7d9f68-9e5a-4cef-be79-454180deab90",
   "metadata": {},
   "outputs": [
    {
     "data": {
      "text/html": [
       "<div>\n",
       "<style scoped>\n",
       "    .dataframe tbody tr th:only-of-type {\n",
       "        vertical-align: middle;\n",
       "    }\n",
       "\n",
       "    .dataframe tbody tr th {\n",
       "        vertical-align: top;\n",
       "    }\n",
       "\n",
       "    .dataframe thead th {\n",
       "        text-align: right;\n",
       "    }\n",
       "</style>\n",
       "<table border=\"1\" class=\"dataframe\">\n",
       "  <thead>\n",
       "    <tr style=\"text-align: right;\">\n",
       "      <th></th>\n",
       "      <th>title</th>\n",
       "      <th>Name2</th>\n",
       "    </tr>\n",
       "  </thead>\n",
       "  <tbody>\n",
       "    <tr>\n",
       "      <th>0</th>\n",
       "      <td>Mr</td>\n",
       "      <td>Owen Harris Braund</td>\n",
       "    </tr>\n",
       "    <tr>\n",
       "      <th>1</th>\n",
       "      <td>Mrs</td>\n",
       "      <td>John Bradley (Florence Briggs Thayer) Cumings</td>\n",
       "    </tr>\n",
       "    <tr>\n",
       "      <th>2</th>\n",
       "      <td>Miss</td>\n",
       "      <td>Laina Heikkinen</td>\n",
       "    </tr>\n",
       "    <tr>\n",
       "      <th>3</th>\n",
       "      <td>Mrs</td>\n",
       "      <td>Jacques Heath (Lily May Peel) Futrelle</td>\n",
       "    </tr>\n",
       "    <tr>\n",
       "      <th>4</th>\n",
       "      <td>Mr</td>\n",
       "      <td>William Henry Allen</td>\n",
       "    </tr>\n",
       "  </tbody>\n",
       "</table>\n",
       "</div>"
      ],
      "text/plain": [
       "  title                                          Name2\n",
       "0    Mr                             Owen Harris Braund\n",
       "1   Mrs  John Bradley (Florence Briggs Thayer) Cumings\n",
       "2  Miss                                Laina Heikkinen\n",
       "3   Mrs         Jacques Heath (Lily May Peel) Futrelle\n",
       "4    Mr                            William Henry Allen"
      ]
     },
     "execution_count": 38,
     "metadata": {},
     "output_type": "execute_result"
    }
   ],
   "source": [
    "_lst = [[title,f'{first_name} {last_name}'] for last_name, title, first_name in df.Name.str.replace(', ','/').str.replace('. ','/').str.split('/')]\n",
    "pd.DataFrame(_lst, columns=['title','Name2'])"
   ]
  },
  {
   "cell_type": "markdown",
   "id": "461191b3-18b2-4811-a118-274e8db41c44",
   "metadata": {
    "tags": []
   },
   "source": [
    "참고: \"Mr,Mrs,Miss\" 만 뽑아내는 코드 (대면수업에서 하려다가 실패한 코드)"
   ]
  },
  {
   "cell_type": "code",
   "execution_count": 95,
   "id": "e85cc2cd-777e-4cc5-873d-4a0aa34f1ee9",
   "metadata": {
    "tags": []
   },
   "outputs": [
    {
     "data": {
      "text/plain": [
       "0      Mr\n",
       "1     Mrs\n",
       "2    Miss\n",
       "3     Mrs\n",
       "4      Mr\n",
       "Name: Name, dtype: object"
      ]
     },
     "execution_count": 95,
     "metadata": {},
     "output_type": "execute_result"
    }
   ],
   "source": [
    "df.Name.str.split(', ').str[-1].str.split('. ').str[0]"
   ]
  },
  {
   "cell_type": "markdown",
   "id": "c4b9fc20-513d-4b8a-bf1b-5953c230f3f2",
   "metadata": {},
   "source": [
    "`#`"
   ]
  },
  {
   "cell_type": "markdown",
   "id": "8908faab-b53a-4e76-acbe-b366c715b4fb",
   "metadata": {},
   "source": [
    "# 4. 숙제"
   ]
  },
  {
   "cell_type": "markdown",
   "id": "a1c5a7d0-39e0-431d-8fcc-f9ae91dcb491",
   "metadata": {},
   "source": [
    "아래와 같은 데이터프레임이 있다고 하자. "
   ]
  },
  {
   "cell_type": "code",
   "execution_count": 97,
   "id": "b05a84a9-2b1c-406c-9d32-b54e94a143bb",
   "metadata": {
    "tags": []
   },
   "outputs": [
    {
     "data": {
      "text/html": [
       "<div>\n",
       "<style scoped>\n",
       "    .dataframe tbody tr th:only-of-type {\n",
       "        vertical-align: middle;\n",
       "    }\n",
       "\n",
       "    .dataframe tbody tr th {\n",
       "        vertical-align: top;\n",
       "    }\n",
       "\n",
       "    .dataframe thead th {\n",
       "        text-align: right;\n",
       "    }\n",
       "</style>\n",
       "<table border=\"1\" class=\"dataframe\">\n",
       "  <thead>\n",
       "    <tr style=\"text-align: right;\">\n",
       "      <th></th>\n",
       "      <th>A</th>\n",
       "    </tr>\n",
       "  </thead>\n",
       "  <tbody>\n",
       "    <tr>\n",
       "      <th>0</th>\n",
       "      <td>1</td>\n",
       "    </tr>\n",
       "    <tr>\n",
       "      <th>1</th>\n",
       "      <td>2</td>\n",
       "    </tr>\n",
       "    <tr>\n",
       "      <th>2</th>\n",
       "      <td>3</td>\n",
       "    </tr>\n",
       "    <tr>\n",
       "      <th>3</th>\n",
       "      <td>4</td>\n",
       "    </tr>\n",
       "  </tbody>\n",
       "</table>\n",
       "</div>"
      ],
      "text/plain": [
       "   A\n",
       "0  1\n",
       "1  2\n",
       "2  3\n",
       "3  4"
      ]
     },
     "execution_count": 97,
     "metadata": {},
     "output_type": "execute_result"
    }
   ],
   "source": [
    "df = pd.DataFrame({'A':[1,2,3,4]})\n",
    "df"
   ]
  },
  {
   "cell_type": "markdown",
   "id": "0a10fc0a-5963-41f4-a67f-74bda6b7767a",
   "metadata": {},
   "source": [
    "아래의 결과를 관찰하고 이러한 결과가 나오는 이유를 정리하여 제출하라. "
   ]
  },
  {
   "cell_type": "code",
   "execution_count": 99,
   "id": "6c7bcc98-ec87-40bd-8f24-f18563aa0790",
   "metadata": {
    "tags": []
   },
   "outputs": [
    {
     "data": {
      "text/plain": [
       "A    2.5\n",
       "dtype: float64"
      ]
     },
     "execution_count": 99,
     "metadata": {},
     "output_type": "execute_result"
    }
   ],
   "source": [
    "df[['A']].apply(np.mean)"
   ]
  },
  {
   "cell_type": "code",
   "execution_count": 100,
   "id": "f0c2f5f1-883f-4fa0-9929-89ed7d776c10",
   "metadata": {
    "tags": []
   },
   "outputs": [
    {
     "data": {
      "text/plain": [
       "0    1.0\n",
       "1    2.0\n",
       "2    3.0\n",
       "3    4.0\n",
       "Name: A, dtype: float64"
      ]
     },
     "execution_count": 100,
     "metadata": {},
     "output_type": "execute_result"
    }
   ],
   "source": [
    "df['A'].apply(np.mean)"
   ]
  }
 ],
 "metadata": {
  "kernelspec": {
   "display_name": "Python 3 (ipykernel)",
   "language": "python",
   "name": "python3"
  },
  "language_info": {
   "codemirror_mode": {
    "name": "ipython",
    "version": 3
   },
   "file_extension": ".py",
   "mimetype": "text/x-python",
   "name": "python",
   "nbconvert_exporter": "python",
   "pygments_lexer": "ipython3",
   "version": "3.10.13"
  }
 },
 "nbformat": 4,
 "nbformat_minor": 5
}
