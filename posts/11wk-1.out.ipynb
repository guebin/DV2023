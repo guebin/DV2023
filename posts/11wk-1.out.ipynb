{
  "cells": [
    {
      "cell_type": "markdown",
      "metadata": {},
      "source": [
        "# 11wk-1: Choropleth (folium)\n",
        "\n",
        "최규빈  \n",
        "2023-11-13\n",
        "\n",
        "# 1. 강의영상\n",
        "\n",
        "# 2. Imports"
      ],
      "id": "44b4e53f-4991-4cc6-b1ba-987f387ce19b"
    },
    {
      "cell_type": "code",
      "execution_count": 1,
      "metadata": {
        "tags": []
      },
      "outputs": [],
      "source": [
        "# !pip install folium"
      ],
      "id": "311aa6a5-0bbf-4f22-ade7-84aaa7c28056"
    },
    {
      "cell_type": "code",
      "execution_count": 2,
      "metadata": {
        "tags": []
      },
      "outputs": [],
      "source": [
        "import numpy as np\n",
        "import pandas as pd\n",
        "#---#\n",
        "import folium \n",
        "import json \n",
        "import requests "
      ],
      "id": "919ddf03-a0b3-408e-b473-f127a933afda"
    },
    {
      "cell_type": "markdown",
      "metadata": {},
      "source": [
        "# 3. dict: view vs copy\n",
        "\n",
        "`-` 원하지 않는 코드"
      ],
      "id": "8844fce8-c269-4d6f-90dc-1375f1d7a50d"
    },
    {
      "cell_type": "code",
      "execution_count": 3,
      "metadata": {
        "tags": []
      },
      "outputs": [],
      "source": [
        "dct1= {'a':1, 'b':2, 'c':3}\n",
        "dct1"
      ],
      "id": "442335f6-fca1-4174-9be6-7232b8b160d1"
    },
    {
      "cell_type": "code",
      "execution_count": 4,
      "metadata": {
        "tags": []
      },
      "outputs": [],
      "source": [
        "dct2 = dct1 \n",
        "dct1,dct2"
      ],
      "id": "0e9368a4-7f53-4132-893d-9ae95eab2031"
    },
    {
      "cell_type": "code",
      "execution_count": 5,
      "metadata": {
        "tags": []
      },
      "outputs": [],
      "source": [
        "dct2['c']=9999\n",
        "dct1,dct2"
      ],
      "id": "0ff1a20e-c39c-4621-abe9-5222c14f0b22"
    },
    {
      "cell_type": "markdown",
      "metadata": {},
      "source": [
        "`-` 원하는 코드"
      ],
      "id": "d7d22fee-97d7-4c5e-aebf-67c9e436cfb8"
    },
    {
      "cell_type": "code",
      "execution_count": 6,
      "metadata": {
        "tags": []
      },
      "outputs": [],
      "source": [
        "dct1= {'a':1, 'b':2, 'c':3}\n",
        "dct1"
      ],
      "id": "8ad89a6e-9c09-4859-bd7c-72d8fb16cc58"
    },
    {
      "cell_type": "code",
      "execution_count": 7,
      "metadata": {
        "tags": []
      },
      "outputs": [],
      "source": [
        "dct2 = dct1.copy()\n",
        "dct1,dct2"
      ],
      "id": "f2243d19-6a3e-46fd-ac03-31e05f23f9de"
    },
    {
      "cell_type": "code",
      "execution_count": 8,
      "metadata": {
        "tags": []
      },
      "outputs": [],
      "source": [
        "dct2['c']=9999\n",
        "dct1,dct2"
      ],
      "id": "e091b90c-cc24-4a16-9d91-7a83c637a663"
    },
    {
      "cell_type": "markdown",
      "metadata": {},
      "source": [
        "# 4. [Choropleth map](https://en.wikipedia.org/wiki/Choropleth_map)\n",
        "\n",
        "# 5. `folium` 기본\n",
        "\n",
        "## A. `folium.Marker`\n",
        "\n",
        "`-` 구글맵스에서 좌표확인\n",
        "\n",
        "-   <https://www.google.co.kr/maps/>"
      ],
      "id": "b328647a-632f-47ae-9e6f-506aea12153b"
    },
    {
      "cell_type": "code",
      "execution_count": 9,
      "metadata": {
        "tags": []
      },
      "outputs": [],
      "source": [
        "m = folium.Map(\n",
        "    scrollWheelZoom=False,\n",
        "    location = [35.8468,127.1294], # 분수대\n",
        "    zoom_start=18,\n",
        ")\n",
        "folium.Marker(\n",
        "    location = [35.8471, 127.1291]\n",
        ").add_to(m)\n",
        "folium.Marker(\n",
        "    location = [35.8468, 127.1289]\n",
        ").add_to(m)\n",
        "folium.Marker(\n",
        "    location = [35.84635, 127.1291]\n",
        ").add_to(m)\n",
        "folium.Marker(\n",
        "    location = [35.84635, 127.1297]\n",
        ").add_to(m)\n",
        "folium.Marker(\n",
        "    location = [35.8468, 127.12995]\n",
        ").add_to(m)\n",
        "folium.Marker(\n",
        "    location = [35.8474, 127.1300]\n",
        ").add_to(m)\n",
        "m"
      ],
      "id": "4a734f42-0bf0-4903-80e6-1abc7be80937"
    },
    {
      "cell_type": "markdown",
      "metadata": {},
      "source": [
        "## B. `folium.Polygon`\n",
        "\n",
        "`-` 예시1"
      ],
      "id": "7db0f9bd-7d81-42e3-adfd-0d574d5b8aaf"
    },
    {
      "cell_type": "code",
      "execution_count": 10,
      "metadata": {
        "tags": []
      },
      "outputs": [],
      "source": [
        "m = folium.Map(\n",
        "    scrollWheelZoom=False,\n",
        "    location = [35.8468,127.1294], # 분수대\n",
        "    zoom_start=18,\n",
        ")\n",
        "folium.Polygon(\n",
        "    locations = [[35.8471, 127.1291],\n",
        "                 [35.8468, 127.1289],\n",
        "                 [35.84635, 127.1291],\n",
        "                 [35.84635, 127.1297],\n",
        "                 [35.8468, 127.12995],\n",
        "                 [35.8474, 127.1300]],\n",
        "    fill=True\n",
        ").add_to(m)\n",
        "m"
      ],
      "id": "d1fbf028-cde5-42d0-98c9-a383eeb02b5b"
    },
    {
      "cell_type": "markdown",
      "metadata": {},
      "source": [
        "`-` 예시2"
      ],
      "id": "b8aee5b8-5338-4c86-b0c2-935ff7305168"
    },
    {
      "cell_type": "code",
      "execution_count": 11,
      "metadata": {
        "tags": []
      },
      "outputs": [],
      "source": [
        "m = folium.Map(\n",
        "    scrollWheelZoom=False,\n",
        "    location = [35.8468,127.1294], # 분수대\n",
        "    zoom_start=18,\n",
        ")\n",
        "folium.Polygon(\n",
        "    locations = [[[35.8471, 127.1291],\n",
        "                 [35.8468, 127.1289],\n",
        "                 [35.84635, 127.1291],\n",
        "                 [35.84635, 127.1297],\n",
        "                 [35.8468, 127.12995],\n",
        "                 [35.8474, 127.1300]],\n",
        "                 \n",
        "                 [[ 35.8471 , 127.1302],\n",
        "                 [ 35.8468 , 127.1300],\n",
        "                 [ 35.84635, 127.1302],\n",
        "                 [ 35.84635, 127.1308],\n",
        "                 [ 35.8468 , 127.13105],\n",
        "                 [ 35.8474 , 127.1311]]],\n",
        "    fill=True\n",
        ").add_to(m)\n",
        "m"
      ],
      "id": "9f07c8ec-096d-4e32-aae3-0f14d5947c3d"
    },
    {
      "cell_type": "markdown",
      "metadata": {},
      "source": [
        "# 6. South Korea github\n",
        "\n",
        "> <https://github.com/southkorea>\n",
        "\n",
        "## A. json 파일 다운로드"
      ],
      "id": "d9b316fa-c4b2-4c3a-a30d-0995b06f6c93"
    },
    {
      "cell_type": "code",
      "execution_count": 12,
      "metadata": {
        "tags": []
      },
      "outputs": [],
      "source": [
        "global_dict = json.loads(requests.get('https://raw.githubusercontent.com/southkorea/southkorea-maps/master/kostat/2018/json/skorea-provinces-2018-geo.json').text)\n",
        "local_dict = json.loads(requests.get('https://raw.githubusercontent.com/southkorea/southkorea-maps/master/kostat/2018/json/skorea-municipalities-2018-geo.json').text)"
      ],
      "id": "7425a3f5-6eec-46e8-9afb-f3b965a2c4c2"
    },
    {
      "cell_type": "markdown",
      "metadata": {},
      "source": [
        "## B. json 파일의 구조\n",
        "\n",
        "`-` global_dict의 구조를 살펴보면 아래와 같음\n",
        "\n",
        "| level_0  |       level_1       |  level_2   |             level3              |      level4       |\n",
        "|:--------:|:-------------------:|:----------:|:-------------------------------:|:-----------------:|\n",
        "|   type   | ‘FeatureCollection’ |            |                                 |                   |\n",
        "| features |        \\[0\\]        |    type    |            ‘Feature’            |                   |\n",
        "|          |                     |  geometry  |              type               |     ‘Polygon’     |\n",
        "|          |                     |            |           coordinates           |  (1,`??`,2) list  |\n",
        "|          |                     | properties |              name               |   ‘서울특별시’    |\n",
        "|          |                     |            |            base_year            |      ‘2018’       |\n",
        "|          |                     |            |            name_eng             |      ‘Seoul’      |\n",
        "|          |                     |            |              code               |       ‘11’        |\n",
        "|          |          …          |     …      |                …                |         …         |\n",
        "|          |       \\[16\\]        |    type    |            ‘Feature’            |                   |\n",
        "|          |                     |  geometry  |              type               |  ‘MultiPolygon’   |\n",
        "|          |                     |            |           coordinates           | (6,1,`??`,2) list |\n",
        "|          |                     | properties |              name               | ‘’제주특별자치도’ |\n",
        "|          |                     |            |            base_year            |      ‘2018’       |\n",
        "|          |                     |            |            name_eng             |     ‘Jeju-do’     |\n",
        "|          |                     |            |              code               |       ‘39’        |\n",
        "|   name   |       ‘sido’        |            |                                 |                   |\n",
        "|   crs    |        type         |   ‘name’   |                                 |                   |\n",
        "|          |     properties      |    name    | ‘urn:ogc:def:crs:OGC:1.3:CRS84’ |                   |\n",
        "\n",
        "`-` local_dict의 구조를 살펴보면 아래와 같음\n",
        "\n",
        "| level_0  |       level_1       |  level_2   |             level3              |       level4       |\n",
        "|:--------:|:-------------------:|:----------:|:-------------------------------:|:------------------:|\n",
        "|   type   | ‘FeatureCollection’ |            |                                 |                    |\n",
        "| features |        \\[0\\]        |    type    |            ‘Feature’            |                    |\n",
        "|          |                     |  geometry  |              type               |   ‘MultiPolygon’   |\n",
        "|          |                     |            |           coordinates           | (1,1,`??`,2) list  |\n",
        "|          |                     | properties |              name               |      ‘종로구’      |\n",
        "|          |                     |            |            base_year            |       ‘2018’       |\n",
        "|          |                     |            |            name_eng             |    ‘Jongno-gu’     |\n",
        "|          |                     |            |              code               |      ‘11010’       |\n",
        "|          |          …          |     …      |                …                |         …          |\n",
        "|          |       \\[249\\]       |    type    |            ‘Feature’            |                    |\n",
        "|          |                     |  geometry  |              type               |   ‘MultiPolygon’   |\n",
        "|          |                     |            |           coordinates           | (10,1,`??`,2) list |\n",
        "|          |                     | properties |              name               |     ‘서귀포시’     |\n",
        "|          |                     |            |            base_year            |       ‘2018’       |\n",
        "|          |                     |            |            name_eng             |   ‘Seogwipo-si’    |\n",
        "|          |                     |            |              code               |      ‘39020’       |\n",
        "|   name   |       ‘sido’        |            |                                 |                    |\n",
        "|   crs    |        type         |   ‘name’   |                                 |                    |\n",
        "|          |     properties      |    name    | ‘urn:ogc:def:crs:OGC:1.3:CRS84’ |                    |\n",
        "\n",
        "# 7. `folium.Choropleth` 를 이용한 시각화\n",
        "\n",
        "## A. Polygon 시각화\n",
        "\n",
        "`# 예제1` – 전국의 행정구역 시각화 (global)"
      ],
      "id": "eed43da6-4364-47e7-9715-bf151be1436f"
    },
    {
      "cell_type": "code",
      "execution_count": 13,
      "metadata": {
        "tags": []
      },
      "outputs": [],
      "source": [
        "m = folium.Map(\n",
        "    location = [36,128],\n",
        "    zoom_start=7,\n",
        "    scrollWheelZoom = False\n",
        ")\n",
        "folium.Choropleth(\n",
        "    geo_data=global_dict\n",
        ").add_to(m)\n",
        "m"
      ],
      "id": "f18a297d-324c-4e08-83ad-103c45fcc6a9"
    },
    {
      "cell_type": "markdown",
      "metadata": {},
      "source": [
        "`#`\n",
        "\n",
        "`# 예제2` – 전국의 행정구역 시각화 (local)"
      ],
      "id": "4927bc07-4fea-4b10-944a-f7cca0a275cf"
    },
    {
      "cell_type": "code",
      "execution_count": 14,
      "metadata": {
        "tags": []
      },
      "outputs": [],
      "source": [
        "m = folium.Map(\n",
        "    location = [36,128],\n",
        "    zoom_start=7,\n",
        "    scrollWheelZoom = False\n",
        ")\n",
        "folium.Choropleth(\n",
        "    geo_data=local_dict\n",
        ").add_to(m)\n",
        "m"
      ],
      "id": "c954b23b-636f-4deb-af99-a46af579a002"
    },
    {
      "cell_type": "markdown",
      "metadata": {},
      "source": [
        "`#`\n",
        "\n",
        "`# 예제3` – 전국의 행정구역 시각화 (덕진구/완산구)"
      ],
      "id": "38016cf1-5136-4864-9df2-b9d112a216da"
    },
    {
      "cell_type": "code",
      "execution_count": 15,
      "metadata": {
        "tags": []
      },
      "outputs": [],
      "source": [
        "local_jeonju = local_dict.copy() "
      ],
      "id": "498284b8-ccc3-4140-8551-14e02e7f2b86"
    },
    {
      "cell_type": "code",
      "execution_count": 16,
      "metadata": {
        "tags": []
      },
      "outputs": [],
      "source": [
        "local_jeonju['features'] = [local_dict['features'][i] for i in range(250) if local_dict['features'][i]['properties']['name'] == '전주시덕진구' or local_dict['features'][i]['properties']['name'] == '전주시완산구']"
      ],
      "id": "d933a84e-7e7f-4535-b5ff-d94fb885c386"
    },
    {
      "cell_type": "code",
      "execution_count": 17,
      "metadata": {
        "tags": []
      },
      "outputs": [],
      "source": [
        "m = folium.Map(\n",
        "    location = [35.84195368311022, 127.1155556693179],\n",
        "    zoom_start=11,\n",
        "    scrollWheelZoom = False\n",
        ")\n",
        "folium.Choropleth(\n",
        "    geo_data=local_jeonju\n",
        ").add_to(m)\n",
        "m"
      ],
      "id": "73340e48-dbae-4d09-bf8b-a8e4261083ce"
    },
    {
      "cell_type": "markdown",
      "metadata": {},
      "source": [
        "`#`\n",
        "\n",
        "## B. (Polygon, Value) 시각화 ($\\star\\star\\star$)\n",
        "\n",
        "`# 예제1` – 덕진구 vs 완산구\n",
        "\n",
        "덕진구와 완산구의 전기사용량이 아래와 같이 정리되었다고 하자."
      ],
      "id": "ef35e63e-b16d-48ca-b4ae-da7dc75cb70c"
    },
    {
      "cell_type": "code",
      "execution_count": 18,
      "metadata": {
        "tags": []
      },
      "outputs": [],
      "source": [
        "df = pd.DataFrame({\n",
        "    'key':['전주시덕진구', '전주시완산구'], \n",
        "    'elec_use':[20,30]\n",
        "})\n",
        "df"
      ],
      "id": "bf34b806-04c8-4a61-a972-4dffb37de849"
    },
    {
      "cell_type": "markdown",
      "metadata": {},
      "source": [
        "이 전기사용량을 각 덕진구/완산구 각각의 polygon의 색깔로 구분할 수\n",
        "있을까?\n",
        "\n",
        "**(선실습)**"
      ],
      "id": "86e8083a-70c1-41cc-9f02-deb9c502ef70"
    },
    {
      "cell_type": "code",
      "execution_count": 19,
      "metadata": {
        "tags": []
      },
      "outputs": [],
      "source": [
        "m = folium.Map(\n",
        "    location = [35.84195368311022, 127.1155556693179],\n",
        "    zoom_start=11,\n",
        "    scrollWheelZoom = False\n",
        ")\n",
        "folium.Choropleth(\n",
        "    geo_data=local_jeonju,\n",
        "    data=df,\n",
        "    columns=['key','elec_use'],\n",
        "    key_on='properties.name',\n",
        ").add_to(m)\n",
        "m"
      ],
      "id": "f4926945-5c19-4882-ac0c-7a66f5643692"
    },
    {
      "cell_type": "markdown",
      "metadata": {},
      "source": [
        "**(후설명)**\n",
        "\n",
        "-   이해를 위해 필요한 약간의 직관\n",
        "    -   예비생각1: 코로플레스맵을 그리기 위해서는 항상 2개의 데이터를\n",
        "        연결해야하는 구조이다. 하나는 json에서 나온 dict (local_dict2),\n",
        "        다른하나는 이다.\n",
        "    -   예비생각2: 두개의 데이터를 연결하기 위해서는 공유가능한 연결의\n",
        "        매개체가 필요하다. (cbind: row-index를 공유, rbind:\n",
        "        colnames공유, merge: 양쪽 데이터프레임에서 같은 이름을 가진 특정\n",
        "        col이 있었음)\n",
        "    -   예비생각3: 코로플레스맵의 연결매개체는 ‘완산구’, ’덕진구’와 같은\n",
        "        지역명이다.\n",
        "-   `folium.Choropleth()` 에 사용될 변수들 상상해보기\n",
        "    -   재료: 두개의 데이터 (json과 df)를 명시해야 한다.\n",
        "    -   연결매개체: 두개의 데이터프레임을 연결하는 변수이름을 명시해야\n",
        "        한다.\n",
        "    -   색깔표시: (지역명,value)와 같은 쌍을 전달해야 한다.\n",
        "\n",
        "`#`\n",
        "\n",
        "`# 예제2` – 덕진구 vs 완산구 / `key_on`에 대한 이해를 위해 만든 억지예제\n",
        "\n",
        "덕진구와 완산구의 전기사용량이 아래와 같이 정리되었다고 하자."
      ],
      "id": "9dff9971-2d77-447f-aba7-1818a79733a4"
    },
    {
      "cell_type": "code",
      "execution_count": 20,
      "metadata": {
        "tags": []
      },
      "outputs": [],
      "source": [
        "df = pd.DataFrame({\n",
        "    'key':['전주시덕진구', 'Jeonjusiwansangu'], \n",
        "    'elec_use':[20,30]\n",
        "})\n",
        "df"
      ],
      "id": "d1b7956e-25db-4fb1-a57a-3fc16850a6a2"
    },
    {
      "cell_type": "markdown",
      "metadata": {},
      "source": [
        "이 전기사용량을 각 덕진구/완산구 각각의 polygon의 색깔로 구분할 수\n",
        "있을까?\n",
        "\n",
        "`-` 예시1: ‘properties.name’ 으로 `key_on`."
      ],
      "id": "a4c9960b-685a-419b-b160-6eaec5024522"
    },
    {
      "cell_type": "code",
      "execution_count": 21,
      "metadata": {
        "tags": []
      },
      "outputs": [],
      "source": [
        "m = folium.Map(\n",
        "    location = [35.84195368311022, 127.1155556693179],\n",
        "    zoom_start=11,\n",
        "    scrollWheelZoom = False\n",
        ")\n",
        "folium.Choropleth(\n",
        "    geo_data=local_jeonju,\n",
        "    data=df,\n",
        "    columns=['key','elec_use'],\n",
        "    key_on='properties.name',\n",
        ").add_to(m)\n",
        "m"
      ],
      "id": "0bedd531-5298-4322-90d5-a1703b5aa6f8"
    },
    {
      "cell_type": "markdown",
      "metadata": {},
      "source": [
        "`-` 예시2: ‘properties.name_eng’ 으로 `key_on`."
      ],
      "id": "c51eb483-2013-475c-b7c9-513625394611"
    },
    {
      "cell_type": "code",
      "execution_count": 22,
      "metadata": {
        "tags": []
      },
      "outputs": [],
      "source": [
        "m = folium.Map(\n",
        "    location = [35.84195368311022, 127.1155556693179],\n",
        "    zoom_start=11,\n",
        "    scrollWheelZoom = False\n",
        ")\n",
        "folium.Choropleth(\n",
        "    geo_data=local_jeonju,\n",
        "    data=df,\n",
        "    columns=['key','elec_use'],\n",
        "    key_on='properties.name_eng',\n",
        ").add_to(m)\n",
        "m"
      ],
      "id": "240c1983-0075-426f-8921-1e5102352343"
    },
    {
      "cell_type": "markdown",
      "metadata": {},
      "source": [
        "`-` 예시3: ’code’열을 새롭게 할당하고 ’code’열로 `key_on`"
      ],
      "id": "2ad11064-1dfe-45d7-804e-75d29e6ec6c8"
    },
    {
      "cell_type": "code",
      "execution_count": 23,
      "metadata": {
        "tags": []
      },
      "outputs": [],
      "source": [
        "df.assign(code = ['35012','30511'])"
      ],
      "id": "5041f453-6344-4154-abd5-f39f944acf15"
    },
    {
      "cell_type": "code",
      "execution_count": 24,
      "metadata": {
        "tags": []
      },
      "outputs": [],
      "source": [
        "m = folium.Map(\n",
        "    location = [35.84195368311022, 127.1155556693179],\n",
        "    zoom_start=11,\n",
        "    scrollWheelZoom = False\n",
        ")\n",
        "folium.Choropleth(\n",
        "    geo_data=local_jeonju,\n",
        "    data=df.assign(code = ['35012','35011']),\n",
        "    columns=['code','elec_use'],\n",
        "    key_on='properties.code',\n",
        ").add_to(m)\n",
        "m"
      ],
      "id": "03d080ff-aa46-41fb-b31d-047a715d11b8"
    },
    {
      "cell_type": "markdown",
      "metadata": {},
      "source": [
        "`#`\n",
        "\n",
        "`# 예제4` – 대한민국 인구수 시각화 (global)"
      ],
      "id": "368b44d1-feb3-47cf-82e1-32173a60c6f1"
    },
    {
      "cell_type": "code",
      "execution_count": 25,
      "metadata": {
        "tags": []
      },
      "outputs": [],
      "source": [
        "df=pd.read_csv('https://raw.githubusercontent.com/guebin/2021DV/master/_notebooks/2021-11-22-prov.csv')\n",
        "df"
      ],
      "id": "7bfb9c67-f05b-459d-a677-0240b2af93ed"
    },
    {
      "cell_type": "code",
      "execution_count": 26,
      "metadata": {
        "tags": []
      },
      "outputs": [],
      "source": [
        "m = folium.Map(\n",
        "    location = [36,128],\n",
        "    zoom_start=7,\n",
        "    scrollWheelZoom = False\n",
        ")\n",
        "folium.Choropleth(\n",
        "    geo_data=global_dict,\n",
        "    data=df,\n",
        "    columns=['행정구역(시군구)별','총인구수 (명)'],\n",
        "    key_on='properties.name',\n",
        ").add_to(m)\n",
        "m"
      ],
      "id": "629bf92b-9e4b-4a33-a637-8d5f2e3219aa"
    },
    {
      "cell_type": "markdown",
      "metadata": {},
      "source": [
        "`#`\n",
        "\n",
        "`# 예제5` – 대한민국 인구수 시각화 (local)"
      ],
      "id": "5c59da03-a1c9-4d66-aff2-385492db957c"
    },
    {
      "cell_type": "code",
      "execution_count": 27,
      "metadata": {
        "tags": []
      },
      "outputs": [],
      "source": [
        "df=pd.read_csv('https://raw.githubusercontent.com/guebin/2021DV/master/_notebooks/2021-11-22-muni.csv')\n",
        "df"
      ],
      "id": "a2f197fd-30ad-4ea6-b84a-062508072c64"
    },
    {
      "cell_type": "code",
      "execution_count": 28,
      "metadata": {
        "tags": []
      },
      "outputs": [],
      "source": [
        "m = folium.Map(\n",
        "    location = [36,128],\n",
        "    zoom_start=7,\n",
        "    scrollWheelZoom = False\n",
        ")\n",
        "folium.Choropleth(\n",
        "    geo_data=local_dict,\n",
        "    data=df,\n",
        "    columns=['행정구역(시군구)별','총인구수 (명)'],\n",
        "    key_on='properties.name',\n",
        ").add_to(m)\n",
        "m"
      ],
      "id": "76b6678f-69c7-47b7-9572-281a548b0fd9"
    },
    {
      "cell_type": "markdown",
      "metadata": {},
      "source": [
        "`#`\n",
        "\n",
        "# 8. HW\n",
        "\n",
        "대전의 인구수를 choropleth map을 이용하여 구별로 시각화 하라."
      ],
      "id": "d5c83396-ab3f-4c34-b822-58c62bd04721"
    }
  ],
  "nbformat": 4,
  "nbformat_minor": 5,
  "metadata": {
    "kernelspec": {
      "name": "python3",
      "display_name": "Python 3 (ipykernel)",
      "language": "python"
    },
    "language_info": {
      "name": "python",
      "codemirror_mode": {
        "name": "ipython",
        "version": "3"
      },
      "file_extension": ".py",
      "mimetype": "text/x-python",
      "nbconvert_exporter": "python",
      "pygments_lexer": "ipython3",
      "version": "3.10.13"
    }
  }
}