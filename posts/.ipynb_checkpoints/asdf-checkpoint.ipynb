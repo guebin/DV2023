{
 "cells": [
  {
   "cell_type": "raw",
   "id": "4e677102-d4f2-43ac-aa88-6f04f0355c8c",
   "metadata": {},
   "source": [
    "---\n",
    "title: \"asdf\"\n",
    "author: \"최규빈\"\n",
    "date: \"09/25/2023\"\n",
    "draft: true\n",
    "categories:\n",
    "  - pandas\n",
    "---"
   ]
  },
  {
   "cell_type": "markdown",
   "id": "d99f1b26-73f5-4529-978a-27b890b0fc30",
   "metadata": {},
   "source": [
    "# asdf "
   ]
  },
  {
   "cell_type": "markdown",
   "id": "21c05da6-d814-49dc-8820-67f2b12ea1c9",
   "metadata": {},
   "source": [
    "## C. `s.apply(변환함수)`"
   ]
  },
  {
   "cell_type": "markdown",
   "id": "a7683035-aa32-4097-8a12-5c7af1610df2",
   "metadata": {},
   "source": [
    "`-` 예시: 원소별로 처음3개의 숫자만 출력 "
   ]
  },
  {
   "cell_type": "code",
   "execution_count": 39,
   "id": "ff8f092a-9bd3-4ba9-ae9a-aa6f9d16b5c6",
   "metadata": {},
   "outputs": [],
   "source": [
    "df = pd.read_csv('https://raw.githubusercontent.com/guebin/DV2022/master/posts/FIFA23_official_data.csv')\n",
    "s = df.Height"
   ]
  },
  {
   "cell_type": "markdown",
   "id": "97eebdc6-e67d-4e3a-95b4-16de46034ecf",
   "metadata": {},
   "source": [
    "## D. `s.str`"
   ]
  },
  {
   "cell_type": "markdown",
   "id": "bd8ae2ad-2c63-412b-8982-f6a4a8d75a2b",
   "metadata": {},
   "source": [
    "`-` 예시1: 원소별로 처음 3개의 숫자만 출력 "
   ]
  },
  {
   "cell_type": "code",
   "execution_count": 20,
   "id": "6c5518ce-ca56-46bd-9a99-e408845dfd43",
   "metadata": {},
   "outputs": [],
   "source": [
    "df = pd.read_csv('https://raw.githubusercontent.com/guebin/DV2022/master/posts/FIFA23_official_data.csv')\n",
    "s = df.Height"
   ]
  },
  {
   "cell_type": "markdown",
   "id": "8332c21f-172d-4326-8998-47d008b31d41",
   "metadata": {},
   "source": [
    "`-` 예시2: 원소별로 isupper를 수행 "
   ]
  },
  {
   "cell_type": "code",
   "execution_count": 18,
   "id": "dfd5d7ed-ac8e-49d5-9303-bed2955857ac",
   "metadata": {},
   "outputs": [
    {
     "data": {
      "text/plain": [
       "0    A\n",
       "1    B\n",
       "2    C\n",
       "3    d\n",
       "4    e\n",
       "5    F\n",
       "dtype: object"
      ]
     },
     "execution_count": 18,
     "metadata": {},
     "output_type": "execute_result"
    }
   ],
   "source": [
    "s = pd.Series(['A','B','C','d','e','F'])\n",
    "s"
   ]
  },
  {
   "cell_type": "markdown",
   "id": "02697ba9-6a75-4a8f-9393-6c0c7b585058",
   "metadata": {},
   "source": [
    "## E. `s.astype()`"
   ]
  },
  {
   "cell_type": "markdown",
   "id": "08155189-599e-4b5b-b12d-1ea2e7add924",
   "metadata": {},
   "source": [
    "`-` 예시1: 원소의 타입을 모두 `int`형으로 변경 "
   ]
  },
  {
   "cell_type": "code",
   "execution_count": 27,
   "id": "8def4a63-0c1e-4b50-bd8a-7c85f2aee866",
   "metadata": {},
   "outputs": [
    {
     "data": {
      "text/plain": [
       "0    1\n",
       "1    2\n",
       "2    3\n",
       "3    4\n",
       "4    5\n",
       "dtype: object"
      ]
     },
     "execution_count": 27,
     "metadata": {},
     "output_type": "execute_result"
    }
   ],
   "source": [
    "s = pd.Series(list('12345'))\n",
    "s"
   ]
  },
  {
   "cell_type": "markdown",
   "id": "b16fdd57-17dc-4372-b94e-4f5a285ef3a8",
   "metadata": {},
   "source": [
    "`-` 예시2: 원소별로 (1) 처음3개의 문자열만 취하고 (2) 원소의 타입을 모두 인트형으로 변경 "
   ]
  },
  {
   "cell_type": "code",
   "execution_count": 601,
   "id": "fff184f8-4d0d-46c6-bbf0-fbcd8dbf6ede",
   "metadata": {},
   "outputs": [],
   "source": [
    "df = pd.read_csv('https://raw.githubusercontent.com/guebin/DV2022/master/posts/FIFA23_official_data.csv')\n",
    "s = df.Height"
   ]
  }
 ],
 "metadata": {
  "kernelspec": {
   "display_name": "Python 3 (ipykernel)",
   "language": "python",
   "name": "python3"
  },
  "language_info": {
   "codemirror_mode": {
    "name": "ipython",
    "version": 3
   },
   "file_extension": ".py",
   "mimetype": "text/x-python",
   "name": "python",
   "nbconvert_exporter": "python",
   "pygments_lexer": "ipython3",
   "version": "3.10.13"
  }
 },
 "nbformat": 4,
 "nbformat_minor": 5
}
