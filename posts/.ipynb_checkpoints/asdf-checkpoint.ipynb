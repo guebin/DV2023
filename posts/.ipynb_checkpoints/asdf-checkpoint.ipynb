{
 "cells": [
  {
   "cell_type": "raw",
   "id": "533efbea-5da4-4b1c-9b3f-296d5c3e4f02",
   "metadata": {},
   "source": [
    "---\n",
    "title: \"draft\"\n",
    "author: \"최규빈\"\n",
    "date: \"09/20/2023\"\n",
    "categories:\n",
    "  - plotnine\n",
    "draft: true\n",
    "---"
   ]
  },
  {
   "cell_type": "markdown",
   "id": "bd6bb750-2aca-4430-a809-c46fd53d2558",
   "metadata": {},
   "source": [
    "# 3. `map(function, list)`"
   ]
  },
  {
   "cell_type": "markdown",
   "id": "b3d169b0-2d4d-455f-a6c3-dfdc74af50a3",
   "metadata": {},
   "source": [
    "## A. `lambda`"
   ]
  },
  {
   "cell_type": "markdown",
   "id": "faf38198-d287-4e16-a4ed-506cfd24a3d8",
   "metadata": {},
   "source": [
    "`-` 예시1: $x \\to x+2$ "
   ]
  },
  {
   "cell_type": "code",
   "execution_count": 3,
   "id": "23a07e54-8008-4320-973f-a1e4c9be7128",
   "metadata": {},
   "outputs": [
    {
     "data": {
      "text/plain": [
       "5"
      ]
     },
     "execution_count": 3,
     "metadata": {},
     "output_type": "execute_result"
    }
   ],
   "source": [
    "f = lambda x: x+2 \n",
    "f(3)"
   ]
  },
  {
   "cell_type": "markdown",
   "id": "5f9d3acc-a5b4-4571-8978-1a1d42d1bd7e",
   "metadata": {},
   "source": [
    "`-` 예시2: $x,y \\to x+y$"
   ]
  },
  {
   "cell_type": "code",
   "execution_count": 4,
   "id": "f2b0c947-5fc6-44a0-bf91-7dc09d822045",
   "metadata": {},
   "outputs": [
    {
     "data": {
      "text/plain": [
       "8"
      ]
     },
     "execution_count": 4,
     "metadata": {},
     "output_type": "execute_result"
    }
   ],
   "source": [
    "f = lambda x,y: x+y \n",
    "f(3,5)"
   ]
  },
  {
   "cell_type": "markdown",
   "id": "04ef778d-4b63-4c81-8be1-cbe231503a4d",
   "metadata": {},
   "source": [
    "`-` 예시3: '2023-09' $\\to$ 9  "
   ]
  },
  {
   "cell_type": "code",
   "execution_count": 16,
   "id": "876eeeda-3028-48f8-b726-217c7e0a56fb",
   "metadata": {},
   "outputs": [
    {
     "data": {
      "text/plain": [
       "9"
      ]
     },
     "execution_count": 16,
     "metadata": {},
     "output_type": "execute_result"
    }
   ],
   "source": [
    "int('2023-09'[-2:])"
   ]
  },
  {
   "cell_type": "code",
   "execution_count": 17,
   "id": "b4f7da6f-6a82-4518-b867-ce9ff4d35034",
   "metadata": {},
   "outputs": [
    {
     "data": {
      "text/plain": [
       "9"
      ]
     },
     "execution_count": 17,
     "metadata": {},
     "output_type": "execute_result"
    }
   ],
   "source": [
    "f = lambda x: int(x[-2:])\n",
    "f('2023-09')"
   ]
  },
  {
   "cell_type": "code",
   "execution_count": 18,
   "id": "1ed552e2-4914-4523-9fc0-827d93c125df",
   "metadata": {},
   "outputs": [
    {
     "data": {
      "text/plain": [
       "10"
      ]
     },
     "execution_count": 18,
     "metadata": {},
     "output_type": "execute_result"
    }
   ],
   "source": [
    "f('2022-10')"
   ]
  },
  {
   "cell_type": "markdown",
   "id": "6566e862-7b59-4319-be52-18757434db50",
   "metadata": {},
   "source": [
    "`-` 예시4: '2023-09' $\\to$ 2023,9 "
   ]
  },
  {
   "cell_type": "code",
   "execution_count": 21,
   "id": "8eb94e89-20fc-44c3-9983-f0d19fe6fa06",
   "metadata": {},
   "outputs": [
    {
     "data": {
      "text/plain": [
       "(2023, 9)"
      ]
     },
     "execution_count": 21,
     "metadata": {},
     "output_type": "execute_result"
    }
   ],
   "source": [
    "f = lambda x: (int(x[:4]),int(x[-2:]))\n",
    "f('2023-09')"
   ]
  },
  {
   "cell_type": "markdown",
   "id": "e4a1fd43-a954-48b2-89dc-b1b59b194253",
   "metadata": {},
   "source": [
    "`-` 예시5: 문자열이 'cat'이면 1 'dog' 이면 0 "
   ]
  },
  {
   "cell_type": "code",
   "execution_count": 23,
   "id": "61ae303e-d3a8-4707-92ca-5f77d4636f5a",
   "metadata": {},
   "outputs": [],
   "source": [
    "f = lambda x: 1 if x=='cat' else 0 "
   ]
  },
  {
   "cell_type": "code",
   "execution_count": 25,
   "id": "b9688dd6-6299-4065-813f-2b663aee8bc9",
   "metadata": {},
   "outputs": [
    {
     "data": {
      "text/plain": [
       "(1, 0)"
      ]
     },
     "execution_count": 25,
     "metadata": {},
     "output_type": "execute_result"
    }
   ],
   "source": [
    "f('cat'),f('dog')"
   ]
  }
 ],
 "metadata": {
  "kernelspec": {
   "display_name": "Python 3 (ipykernel)",
   "language": "python",
   "name": "python3"
  },
  "language_info": {
   "codemirror_mode": {
    "name": "ipython",
    "version": 3
   },
   "file_extension": ".py",
   "mimetype": "text/x-python",
   "name": "python",
   "nbconvert_exporter": "python",
   "pygments_lexer": "ipython3",
   "version": "3.11.5"
  }
 },
 "nbformat": 4,
 "nbformat_minor": 5
}
