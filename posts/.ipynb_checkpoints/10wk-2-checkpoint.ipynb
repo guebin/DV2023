{
 "cells": [
  {
   "cell_type": "raw",
   "id": "4fcabf8c-673d-4536-9bd9-e7aaf31a75e4",
   "metadata": {},
   "source": [
    "---\n",
    "title: \"10wk-2: Plotly with pandas-backend\"\n",
    "author: \"최규빈\"\n",
    "date: \"11/08/2023\"\n",
    "draft: false\n",
    "execute: \n",
    "  enabled: true\n",
    "  cache: false\n",
    "  freeze: false\n",
    "categories:\n",
    "  - plotly\n",
    "---"
   ]
  },
  {
   "cell_type": "markdown",
   "id": "94e8d546-aec6-4a1e-95ec-7cdbc27af6bf",
   "metadata": {
    "tags": []
   },
   "source": [
    "<a href=\"https://colab.research.google.com/github/guebin/DV2023/blob/main/posts/10wk-2.ipynb\"><img src=\"https://colab.research.google.com/assets/colab-badge.svg\" style=\"text-align: left\"></a>"
   ]
  },
  {
   "cell_type": "markdown",
   "id": "77697889-3e70-4456-ae7a-6a52f57aa7e2",
   "metadata": {},
   "source": [
    "# 1. 강의영상 "
   ]
  },
  {
   "cell_type": "markdown",
   "id": "58e197f2-e0d3-467b-880f-b881d87dad7f",
   "metadata": {},
   "source": [
    "{{<video https://youtu.be/playlist?list=PLQqh36zP38-wRSxUUDXqCXNhSNiQeVrTP&si=N7SxqXEFmDcIQse2 >}}"
   ]
  },
  {
   "cell_type": "markdown",
   "id": "789b4216-0837-4144-90c6-95a9998f33f3",
   "metadata": {},
   "source": [
    "# 2. Imports"
   ]
  },
  {
   "cell_type": "code",
   "execution_count": 43,
   "id": "b79ab124-3288-4c44-9534-1d58ab5e8b76",
   "metadata": {
    "tags": []
   },
   "outputs": [],
   "source": [
    "import numpy as np\n",
    "import pandas as pd \n",
    "import plotly.io as pio"
   ]
  },
  {
   "cell_type": "code",
   "execution_count": 44,
   "id": "d60cb955-8e14-47c9-b162-94dff3bb8feb",
   "metadata": {
    "tags": []
   },
   "outputs": [
    {
     "name": "stdout",
     "output_type": "stream",
     "text": [
      "Templates configuration\n",
      "-----------------------\n",
      "    Default template: 'plotly_white'\n",
      "    Available templates:\n",
      "        ['ggplot2', 'seaborn', 'simple_white', 'plotly',\n",
      "         'plotly_white', 'plotly_dark', 'presentation', 'xgridoff',\n",
      "         'ygridoff', 'gridon', 'none']\n",
      "\n"
     ]
    }
   ],
   "source": [
    "pd.options.plotting.backend = \"plotly\"\n",
    "pio.templates.default = \"plotly_white\"\n",
    "print(pio.templates)"
   ]
  },
  {
   "cell_type": "markdown",
   "id": "d2f14d6a-1408-4f01-a7de-de58de3f495f",
   "metadata": {},
   "source": [
    "# 3. 여러가지 플랏 "
   ]
  },
  {
   "cell_type": "markdown",
   "id": "abbbac6c-c55c-45ad-8e85-f93b361e4a69",
   "metadata": {
    "tags": []
   },
   "source": [
    "## A. `.plot.bar()`"
   ]
  },
  {
   "cell_type": "markdown",
   "id": "343d2420-4162-4b14-b4d4-064b0f2f1792",
   "metadata": {},
   "source": [
    "`# 예제1` -- 성별 합격률 시각화 "
   ]
  },
  {
   "cell_type": "code",
   "execution_count": 98,
   "id": "ae1c959e-ec2d-4209-8b2e-bf2490eeb73b",
   "metadata": {
    "tags": []
   },
   "outputs": [
    {
     "data": {
      "text/html": [
       "<div>\n",
       "<style scoped>\n",
       "    .dataframe tbody tr th:only-of-type {\n",
       "        vertical-align: middle;\n",
       "    }\n",
       "\n",
       "    .dataframe tbody tr th {\n",
       "        vertical-align: top;\n",
       "    }\n",
       "\n",
       "    .dataframe thead th {\n",
       "        text-align: right;\n",
       "    }\n",
       "</style>\n",
       "<table border=\"1\" class=\"dataframe\">\n",
       "  <thead>\n",
       "    <tr style=\"text-align: right;\">\n",
       "      <th></th>\n",
       "      <th>department</th>\n",
       "      <th>gender</th>\n",
       "      <th>result</th>\n",
       "      <th>count</th>\n",
       "    </tr>\n",
       "  </thead>\n",
       "  <tbody>\n",
       "    <tr>\n",
       "      <th>0</th>\n",
       "      <td>A</td>\n",
       "      <td>male</td>\n",
       "      <td>fail</td>\n",
       "      <td>314</td>\n",
       "    </tr>\n",
       "    <tr>\n",
       "      <th>1</th>\n",
       "      <td>B</td>\n",
       "      <td>male</td>\n",
       "      <td>fail</td>\n",
       "      <td>208</td>\n",
       "    </tr>\n",
       "    <tr>\n",
       "      <th>2</th>\n",
       "      <td>C</td>\n",
       "      <td>male</td>\n",
       "      <td>fail</td>\n",
       "      <td>204</td>\n",
       "    </tr>\n",
       "    <tr>\n",
       "      <th>3</th>\n",
       "      <td>D</td>\n",
       "      <td>male</td>\n",
       "      <td>fail</td>\n",
       "      <td>279</td>\n",
       "    </tr>\n",
       "    <tr>\n",
       "      <th>4</th>\n",
       "      <td>E</td>\n",
       "      <td>male</td>\n",
       "      <td>fail</td>\n",
       "      <td>137</td>\n",
       "    </tr>\n",
       "    <tr>\n",
       "      <th>5</th>\n",
       "      <td>F</td>\n",
       "      <td>male</td>\n",
       "      <td>fail</td>\n",
       "      <td>149</td>\n",
       "    </tr>\n",
       "    <tr>\n",
       "      <th>6</th>\n",
       "      <td>A</td>\n",
       "      <td>male</td>\n",
       "      <td>pass</td>\n",
       "      <td>511</td>\n",
       "    </tr>\n",
       "    <tr>\n",
       "      <th>7</th>\n",
       "      <td>B</td>\n",
       "      <td>male</td>\n",
       "      <td>pass</td>\n",
       "      <td>352</td>\n",
       "    </tr>\n",
       "    <tr>\n",
       "      <th>8</th>\n",
       "      <td>C</td>\n",
       "      <td>male</td>\n",
       "      <td>pass</td>\n",
       "      <td>121</td>\n",
       "    </tr>\n",
       "    <tr>\n",
       "      <th>9</th>\n",
       "      <td>D</td>\n",
       "      <td>male</td>\n",
       "      <td>pass</td>\n",
       "      <td>138</td>\n",
       "    </tr>\n",
       "    <tr>\n",
       "      <th>10</th>\n",
       "      <td>E</td>\n",
       "      <td>male</td>\n",
       "      <td>pass</td>\n",
       "      <td>54</td>\n",
       "    </tr>\n",
       "    <tr>\n",
       "      <th>11</th>\n",
       "      <td>F</td>\n",
       "      <td>male</td>\n",
       "      <td>pass</td>\n",
       "      <td>224</td>\n",
       "    </tr>\n",
       "    <tr>\n",
       "      <th>12</th>\n",
       "      <td>A</td>\n",
       "      <td>female</td>\n",
       "      <td>fail</td>\n",
       "      <td>19</td>\n",
       "    </tr>\n",
       "    <tr>\n",
       "      <th>13</th>\n",
       "      <td>B</td>\n",
       "      <td>female</td>\n",
       "      <td>fail</td>\n",
       "      <td>7</td>\n",
       "    </tr>\n",
       "    <tr>\n",
       "      <th>14</th>\n",
       "      <td>C</td>\n",
       "      <td>female</td>\n",
       "      <td>fail</td>\n",
       "      <td>391</td>\n",
       "    </tr>\n",
       "    <tr>\n",
       "      <th>15</th>\n",
       "      <td>D</td>\n",
       "      <td>female</td>\n",
       "      <td>fail</td>\n",
       "      <td>244</td>\n",
       "    </tr>\n",
       "    <tr>\n",
       "      <th>16</th>\n",
       "      <td>E</td>\n",
       "      <td>female</td>\n",
       "      <td>fail</td>\n",
       "      <td>299</td>\n",
       "    </tr>\n",
       "    <tr>\n",
       "      <th>17</th>\n",
       "      <td>F</td>\n",
       "      <td>female</td>\n",
       "      <td>fail</td>\n",
       "      <td>103</td>\n",
       "    </tr>\n",
       "    <tr>\n",
       "      <th>18</th>\n",
       "      <td>A</td>\n",
       "      <td>female</td>\n",
       "      <td>pass</td>\n",
       "      <td>89</td>\n",
       "    </tr>\n",
       "    <tr>\n",
       "      <th>19</th>\n",
       "      <td>B</td>\n",
       "      <td>female</td>\n",
       "      <td>pass</td>\n",
       "      <td>18</td>\n",
       "    </tr>\n",
       "    <tr>\n",
       "      <th>20</th>\n",
       "      <td>C</td>\n",
       "      <td>female</td>\n",
       "      <td>pass</td>\n",
       "      <td>202</td>\n",
       "    </tr>\n",
       "    <tr>\n",
       "      <th>21</th>\n",
       "      <td>D</td>\n",
       "      <td>female</td>\n",
       "      <td>pass</td>\n",
       "      <td>131</td>\n",
       "    </tr>\n",
       "    <tr>\n",
       "      <th>22</th>\n",
       "      <td>E</td>\n",
       "      <td>female</td>\n",
       "      <td>pass</td>\n",
       "      <td>94</td>\n",
       "    </tr>\n",
       "    <tr>\n",
       "      <th>23</th>\n",
       "      <td>F</td>\n",
       "      <td>female</td>\n",
       "      <td>pass</td>\n",
       "      <td>238</td>\n",
       "    </tr>\n",
       "  </tbody>\n",
       "</table>\n",
       "</div>"
      ],
      "text/plain": [
       "   department  gender result  count\n",
       "0           A    male   fail    314\n",
       "1           B    male   fail    208\n",
       "2           C    male   fail    204\n",
       "3           D    male   fail    279\n",
       "4           E    male   fail    137\n",
       "5           F    male   fail    149\n",
       "6           A    male   pass    511\n",
       "7           B    male   pass    352\n",
       "8           C    male   pass    121\n",
       "9           D    male   pass    138\n",
       "10          E    male   pass     54\n",
       "11          F    male   pass    224\n",
       "12          A  female   fail     19\n",
       "13          B  female   fail      7\n",
       "14          C  female   fail    391\n",
       "15          D  female   fail    244\n",
       "16          E  female   fail    299\n",
       "17          F  female   fail    103\n",
       "18          A  female   pass     89\n",
       "19          B  female   pass     18\n",
       "20          C  female   pass    202\n",
       "21          D  female   pass    131\n",
       "22          E  female   pass     94\n",
       "23          F  female   pass    238"
      ]
     },
     "execution_count": 98,
     "metadata": {},
     "output_type": "execute_result"
    }
   ],
   "source": [
    "df = pd.read_csv(\"https://raw.githubusercontent.com/guebin/DV2022/master/posts/Simpson.csv\",index_col=0,header=[0,1]).reset_index().melt(id_vars='index').set_axis(['department','gender','result','count'],axis=1)\n",
    "df"
   ]
  },
  {
   "cell_type": "markdown",
   "id": "76c8c918-4252-441c-9b7a-13cae376816d",
   "metadata": {},
   "source": [
    "`#`"
   ]
  },
  {
   "cell_type": "markdown",
   "id": "12f6c9d3-8f31-4456-bf36-5be9b10ae79c",
   "metadata": {},
   "source": [
    "`# 예제2` -- (성별,학과)별 지원자수 시각화 "
   ]
  },
  {
   "cell_type": "code",
   "execution_count": 58,
   "id": "c1862524-251c-41b2-a262-5c78636dbe3f",
   "metadata": {
    "tags": []
   },
   "outputs": [
    {
     "data": {
      "text/html": [
       "<div>\n",
       "<style scoped>\n",
       "    .dataframe tbody tr th:only-of-type {\n",
       "        vertical-align: middle;\n",
       "    }\n",
       "\n",
       "    .dataframe tbody tr th {\n",
       "        vertical-align: top;\n",
       "    }\n",
       "\n",
       "    .dataframe thead th {\n",
       "        text-align: right;\n",
       "    }\n",
       "</style>\n",
       "<table border=\"1\" class=\"dataframe\">\n",
       "  <thead>\n",
       "    <tr style=\"text-align: right;\">\n",
       "      <th></th>\n",
       "      <th>department</th>\n",
       "      <th>gender</th>\n",
       "      <th>result</th>\n",
       "      <th>count</th>\n",
       "    </tr>\n",
       "  </thead>\n",
       "  <tbody>\n",
       "    <tr>\n",
       "      <th>0</th>\n",
       "      <td>A</td>\n",
       "      <td>male</td>\n",
       "      <td>fail</td>\n",
       "      <td>314</td>\n",
       "    </tr>\n",
       "    <tr>\n",
       "      <th>1</th>\n",
       "      <td>B</td>\n",
       "      <td>male</td>\n",
       "      <td>fail</td>\n",
       "      <td>208</td>\n",
       "    </tr>\n",
       "    <tr>\n",
       "      <th>2</th>\n",
       "      <td>C</td>\n",
       "      <td>male</td>\n",
       "      <td>fail</td>\n",
       "      <td>204</td>\n",
       "    </tr>\n",
       "    <tr>\n",
       "      <th>3</th>\n",
       "      <td>D</td>\n",
       "      <td>male</td>\n",
       "      <td>fail</td>\n",
       "      <td>279</td>\n",
       "    </tr>\n",
       "    <tr>\n",
       "      <th>4</th>\n",
       "      <td>E</td>\n",
       "      <td>male</td>\n",
       "      <td>fail</td>\n",
       "      <td>137</td>\n",
       "    </tr>\n",
       "    <tr>\n",
       "      <th>5</th>\n",
       "      <td>F</td>\n",
       "      <td>male</td>\n",
       "      <td>fail</td>\n",
       "      <td>149</td>\n",
       "    </tr>\n",
       "    <tr>\n",
       "      <th>6</th>\n",
       "      <td>A</td>\n",
       "      <td>male</td>\n",
       "      <td>pass</td>\n",
       "      <td>511</td>\n",
       "    </tr>\n",
       "    <tr>\n",
       "      <th>7</th>\n",
       "      <td>B</td>\n",
       "      <td>male</td>\n",
       "      <td>pass</td>\n",
       "      <td>352</td>\n",
       "    </tr>\n",
       "    <tr>\n",
       "      <th>8</th>\n",
       "      <td>C</td>\n",
       "      <td>male</td>\n",
       "      <td>pass</td>\n",
       "      <td>121</td>\n",
       "    </tr>\n",
       "    <tr>\n",
       "      <th>9</th>\n",
       "      <td>D</td>\n",
       "      <td>male</td>\n",
       "      <td>pass</td>\n",
       "      <td>138</td>\n",
       "    </tr>\n",
       "    <tr>\n",
       "      <th>10</th>\n",
       "      <td>E</td>\n",
       "      <td>male</td>\n",
       "      <td>pass</td>\n",
       "      <td>54</td>\n",
       "    </tr>\n",
       "    <tr>\n",
       "      <th>11</th>\n",
       "      <td>F</td>\n",
       "      <td>male</td>\n",
       "      <td>pass</td>\n",
       "      <td>224</td>\n",
       "    </tr>\n",
       "    <tr>\n",
       "      <th>12</th>\n",
       "      <td>A</td>\n",
       "      <td>female</td>\n",
       "      <td>fail</td>\n",
       "      <td>19</td>\n",
       "    </tr>\n",
       "    <tr>\n",
       "      <th>13</th>\n",
       "      <td>B</td>\n",
       "      <td>female</td>\n",
       "      <td>fail</td>\n",
       "      <td>7</td>\n",
       "    </tr>\n",
       "    <tr>\n",
       "      <th>14</th>\n",
       "      <td>C</td>\n",
       "      <td>female</td>\n",
       "      <td>fail</td>\n",
       "      <td>391</td>\n",
       "    </tr>\n",
       "    <tr>\n",
       "      <th>15</th>\n",
       "      <td>D</td>\n",
       "      <td>female</td>\n",
       "      <td>fail</td>\n",
       "      <td>244</td>\n",
       "    </tr>\n",
       "    <tr>\n",
       "      <th>16</th>\n",
       "      <td>E</td>\n",
       "      <td>female</td>\n",
       "      <td>fail</td>\n",
       "      <td>299</td>\n",
       "    </tr>\n",
       "    <tr>\n",
       "      <th>17</th>\n",
       "      <td>F</td>\n",
       "      <td>female</td>\n",
       "      <td>fail</td>\n",
       "      <td>103</td>\n",
       "    </tr>\n",
       "    <tr>\n",
       "      <th>18</th>\n",
       "      <td>A</td>\n",
       "      <td>female</td>\n",
       "      <td>pass</td>\n",
       "      <td>89</td>\n",
       "    </tr>\n",
       "    <tr>\n",
       "      <th>19</th>\n",
       "      <td>B</td>\n",
       "      <td>female</td>\n",
       "      <td>pass</td>\n",
       "      <td>18</td>\n",
       "    </tr>\n",
       "    <tr>\n",
       "      <th>20</th>\n",
       "      <td>C</td>\n",
       "      <td>female</td>\n",
       "      <td>pass</td>\n",
       "      <td>202</td>\n",
       "    </tr>\n",
       "    <tr>\n",
       "      <th>21</th>\n",
       "      <td>D</td>\n",
       "      <td>female</td>\n",
       "      <td>pass</td>\n",
       "      <td>131</td>\n",
       "    </tr>\n",
       "    <tr>\n",
       "      <th>22</th>\n",
       "      <td>E</td>\n",
       "      <td>female</td>\n",
       "      <td>pass</td>\n",
       "      <td>94</td>\n",
       "    </tr>\n",
       "    <tr>\n",
       "      <th>23</th>\n",
       "      <td>F</td>\n",
       "      <td>female</td>\n",
       "      <td>pass</td>\n",
       "      <td>238</td>\n",
       "    </tr>\n",
       "  </tbody>\n",
       "</table>\n",
       "</div>"
      ],
      "text/plain": [
       "   department  gender result  count\n",
       "0           A    male   fail    314\n",
       "1           B    male   fail    208\n",
       "2           C    male   fail    204\n",
       "3           D    male   fail    279\n",
       "4           E    male   fail    137\n",
       "5           F    male   fail    149\n",
       "6           A    male   pass    511\n",
       "7           B    male   pass    352\n",
       "8           C    male   pass    121\n",
       "9           D    male   pass    138\n",
       "10          E    male   pass     54\n",
       "11          F    male   pass    224\n",
       "12          A  female   fail     19\n",
       "13          B  female   fail      7\n",
       "14          C  female   fail    391\n",
       "15          D  female   fail    244\n",
       "16          E  female   fail    299\n",
       "17          F  female   fail    103\n",
       "18          A  female   pass     89\n",
       "19          B  female   pass     18\n",
       "20          C  female   pass    202\n",
       "21          D  female   pass    131\n",
       "22          E  female   pass     94\n",
       "23          F  female   pass    238"
      ]
     },
     "execution_count": 58,
     "metadata": {},
     "output_type": "execute_result"
    }
   ],
   "source": [
    "df = pd.read_csv(\"https://raw.githubusercontent.com/guebin/DV2022/master/posts/Simpson.csv\",index_col=0,header=[0,1]).reset_index().melt(id_vars='index').set_axis(['department','gender','result','count'],axis=1)\n",
    "df"
   ]
  },
  {
   "cell_type": "markdown",
   "id": "0620b8d9-6901-4340-9e29-6e920d4586a3",
   "metadata": {},
   "source": [
    "`#`"
   ]
  },
  {
   "cell_type": "markdown",
   "id": "a0a3ba14-b32e-4730-a14a-c053b93cb215",
   "metadata": {},
   "source": [
    "## B. `.plot.line()`"
   ]
  },
  {
   "cell_type": "markdown",
   "id": "5fa3d0e8-cea5-4ade-ad63-febec4f2711a",
   "metadata": {},
   "source": [
    "`# 예제1` -- 핸드폰 판매량 "
   ]
  },
  {
   "cell_type": "code",
   "execution_count": 188,
   "id": "b35772e5-a795-4375-8963-69df0d18ed61",
   "metadata": {
    "tags": []
   },
   "outputs": [
    {
     "data": {
      "text/html": [
       "<div>\n",
       "<style scoped>\n",
       "    .dataframe tbody tr th:only-of-type {\n",
       "        vertical-align: middle;\n",
       "    }\n",
       "\n",
       "    .dataframe tbody tr th {\n",
       "        vertical-align: top;\n",
       "    }\n",
       "\n",
       "    .dataframe thead th {\n",
       "        text-align: right;\n",
       "    }\n",
       "</style>\n",
       "<table border=\"1\" class=\"dataframe\">\n",
       "  <thead>\n",
       "    <tr style=\"text-align: right;\">\n",
       "      <th></th>\n",
       "      <th>Date</th>\n",
       "      <th>Samsung</th>\n",
       "      <th>Apple</th>\n",
       "      <th>Huawei</th>\n",
       "      <th>Xiaomi</th>\n",
       "      <th>Oppo</th>\n",
       "      <th>Mobicel</th>\n",
       "      <th>Motorola</th>\n",
       "      <th>LG</th>\n",
       "      <th>Others</th>\n",
       "      <th>Realme</th>\n",
       "      <th>Google</th>\n",
       "      <th>Nokia</th>\n",
       "      <th>Lenovo</th>\n",
       "      <th>OnePlus</th>\n",
       "      <th>Sony</th>\n",
       "      <th>Asus</th>\n",
       "    </tr>\n",
       "  </thead>\n",
       "  <tbody>\n",
       "    <tr>\n",
       "      <th>0</th>\n",
       "      <td>2019-10</td>\n",
       "      <td>461</td>\n",
       "      <td>324</td>\n",
       "      <td>136</td>\n",
       "      <td>109</td>\n",
       "      <td>76</td>\n",
       "      <td>81</td>\n",
       "      <td>43</td>\n",
       "      <td>37</td>\n",
       "      <td>135</td>\n",
       "      <td>28</td>\n",
       "      <td>39</td>\n",
       "      <td>14</td>\n",
       "      <td>22</td>\n",
       "      <td>17</td>\n",
       "      <td>20</td>\n",
       "      <td>17</td>\n",
       "    </tr>\n",
       "    <tr>\n",
       "      <th>1</th>\n",
       "      <td>2019-11</td>\n",
       "      <td>461</td>\n",
       "      <td>358</td>\n",
       "      <td>167</td>\n",
       "      <td>141</td>\n",
       "      <td>86</td>\n",
       "      <td>61</td>\n",
       "      <td>29</td>\n",
       "      <td>36</td>\n",
       "      <td>141</td>\n",
       "      <td>27</td>\n",
       "      <td>29</td>\n",
       "      <td>20</td>\n",
       "      <td>23</td>\n",
       "      <td>10</td>\n",
       "      <td>19</td>\n",
       "      <td>27</td>\n",
       "    </tr>\n",
       "    <tr>\n",
       "      <th>2</th>\n",
       "      <td>2019-12</td>\n",
       "      <td>426</td>\n",
       "      <td>383</td>\n",
       "      <td>143</td>\n",
       "      <td>105</td>\n",
       "      <td>53</td>\n",
       "      <td>45</td>\n",
       "      <td>51</td>\n",
       "      <td>48</td>\n",
       "      <td>129</td>\n",
       "      <td>30</td>\n",
       "      <td>20</td>\n",
       "      <td>26</td>\n",
       "      <td>28</td>\n",
       "      <td>18</td>\n",
       "      <td>18</td>\n",
       "      <td>19</td>\n",
       "    </tr>\n",
       "    <tr>\n",
       "      <th>3</th>\n",
       "      <td>2020-01</td>\n",
       "      <td>677</td>\n",
       "      <td>494</td>\n",
       "      <td>212</td>\n",
       "      <td>187</td>\n",
       "      <td>110</td>\n",
       "      <td>79</td>\n",
       "      <td>65</td>\n",
       "      <td>49</td>\n",
       "      <td>158</td>\n",
       "      <td>23</td>\n",
       "      <td>13</td>\n",
       "      <td>19</td>\n",
       "      <td>19</td>\n",
       "      <td>22</td>\n",
       "      <td>27</td>\n",
       "      <td>22</td>\n",
       "    </tr>\n",
       "    <tr>\n",
       "      <th>4</th>\n",
       "      <td>2020-02</td>\n",
       "      <td>593</td>\n",
       "      <td>520</td>\n",
       "      <td>217</td>\n",
       "      <td>195</td>\n",
       "      <td>112</td>\n",
       "      <td>67</td>\n",
       "      <td>62</td>\n",
       "      <td>71</td>\n",
       "      <td>157</td>\n",
       "      <td>25</td>\n",
       "      <td>18</td>\n",
       "      <td>16</td>\n",
       "      <td>24</td>\n",
       "      <td>18</td>\n",
       "      <td>23</td>\n",
       "      <td>20</td>\n",
       "    </tr>\n",
       "    <tr>\n",
       "      <th>5</th>\n",
       "      <td>2020-03</td>\n",
       "      <td>637</td>\n",
       "      <td>537</td>\n",
       "      <td>246</td>\n",
       "      <td>187</td>\n",
       "      <td>92</td>\n",
       "      <td>66</td>\n",
       "      <td>59</td>\n",
       "      <td>67</td>\n",
       "      <td>145</td>\n",
       "      <td>21</td>\n",
       "      <td>16</td>\n",
       "      <td>24</td>\n",
       "      <td>18</td>\n",
       "      <td>31</td>\n",
       "      <td>22</td>\n",
       "      <td>14</td>\n",
       "    </tr>\n",
       "    <tr>\n",
       "      <th>6</th>\n",
       "      <td>2020-04</td>\n",
       "      <td>647</td>\n",
       "      <td>583</td>\n",
       "      <td>222</td>\n",
       "      <td>154</td>\n",
       "      <td>98</td>\n",
       "      <td>59</td>\n",
       "      <td>48</td>\n",
       "      <td>64</td>\n",
       "      <td>113</td>\n",
       "      <td>20</td>\n",
       "      <td>23</td>\n",
       "      <td>25</td>\n",
       "      <td>19</td>\n",
       "      <td>19</td>\n",
       "      <td>23</td>\n",
       "      <td>21</td>\n",
       "    </tr>\n",
       "    <tr>\n",
       "      <th>7</th>\n",
       "      <td>2020-05</td>\n",
       "      <td>629</td>\n",
       "      <td>518</td>\n",
       "      <td>192</td>\n",
       "      <td>176</td>\n",
       "      <td>91</td>\n",
       "      <td>87</td>\n",
       "      <td>50</td>\n",
       "      <td>66</td>\n",
       "      <td>150</td>\n",
       "      <td>43</td>\n",
       "      <td>27</td>\n",
       "      <td>15</td>\n",
       "      <td>18</td>\n",
       "      <td>19</td>\n",
       "      <td>19</td>\n",
       "      <td>13</td>\n",
       "    </tr>\n",
       "    <tr>\n",
       "      <th>8</th>\n",
       "      <td>2020-06</td>\n",
       "      <td>663</td>\n",
       "      <td>552</td>\n",
       "      <td>209</td>\n",
       "      <td>185</td>\n",
       "      <td>93</td>\n",
       "      <td>69</td>\n",
       "      <td>54</td>\n",
       "      <td>60</td>\n",
       "      <td>140</td>\n",
       "      <td>39</td>\n",
       "      <td>16</td>\n",
       "      <td>16</td>\n",
       "      <td>17</td>\n",
       "      <td>29</td>\n",
       "      <td>25</td>\n",
       "      <td>16</td>\n",
       "    </tr>\n",
       "    <tr>\n",
       "      <th>9</th>\n",
       "      <td>2020-07</td>\n",
       "      <td>599</td>\n",
       "      <td>471</td>\n",
       "      <td>214</td>\n",
       "      <td>193</td>\n",
       "      <td>89</td>\n",
       "      <td>78</td>\n",
       "      <td>65</td>\n",
       "      <td>59</td>\n",
       "      <td>130</td>\n",
       "      <td>40</td>\n",
       "      <td>27</td>\n",
       "      <td>25</td>\n",
       "      <td>21</td>\n",
       "      <td>18</td>\n",
       "      <td>18</td>\n",
       "      <td>12</td>\n",
       "    </tr>\n",
       "    <tr>\n",
       "      <th>10</th>\n",
       "      <td>2020-08</td>\n",
       "      <td>615</td>\n",
       "      <td>567</td>\n",
       "      <td>204</td>\n",
       "      <td>182</td>\n",
       "      <td>105</td>\n",
       "      <td>82</td>\n",
       "      <td>62</td>\n",
       "      <td>42</td>\n",
       "      <td>129</td>\n",
       "      <td>47</td>\n",
       "      <td>16</td>\n",
       "      <td>23</td>\n",
       "      <td>21</td>\n",
       "      <td>27</td>\n",
       "      <td>23</td>\n",
       "      <td>20</td>\n",
       "    </tr>\n",
       "    <tr>\n",
       "      <th>11</th>\n",
       "      <td>2020-09</td>\n",
       "      <td>621</td>\n",
       "      <td>481</td>\n",
       "      <td>230</td>\n",
       "      <td>220</td>\n",
       "      <td>102</td>\n",
       "      <td>88</td>\n",
       "      <td>56</td>\n",
       "      <td>49</td>\n",
       "      <td>143</td>\n",
       "      <td>54</td>\n",
       "      <td>14</td>\n",
       "      <td>15</td>\n",
       "      <td>17</td>\n",
       "      <td>15</td>\n",
       "      <td>19</td>\n",
       "      <td>15</td>\n",
       "    </tr>\n",
       "    <tr>\n",
       "      <th>12</th>\n",
       "      <td>2020-10</td>\n",
       "      <td>637</td>\n",
       "      <td>555</td>\n",
       "      <td>232</td>\n",
       "      <td>203</td>\n",
       "      <td>90</td>\n",
       "      <td>52</td>\n",
       "      <td>63</td>\n",
       "      <td>49</td>\n",
       "      <td>140</td>\n",
       "      <td>33</td>\n",
       "      <td>17</td>\n",
       "      <td>20</td>\n",
       "      <td>22</td>\n",
       "      <td>9</td>\n",
       "      <td>22</td>\n",
       "      <td>21</td>\n",
       "    </tr>\n",
       "  </tbody>\n",
       "</table>\n",
       "</div>"
      ],
      "text/plain": [
       "       Date  Samsung  Apple  Huawei  Xiaomi  Oppo  Mobicel  Motorola  LG  \\\n",
       "0   2019-10      461    324     136     109    76       81        43  37   \n",
       "1   2019-11      461    358     167     141    86       61        29  36   \n",
       "2   2019-12      426    383     143     105    53       45        51  48   \n",
       "3   2020-01      677    494     212     187   110       79        65  49   \n",
       "4   2020-02      593    520     217     195   112       67        62  71   \n",
       "5   2020-03      637    537     246     187    92       66        59  67   \n",
       "6   2020-04      647    583     222     154    98       59        48  64   \n",
       "7   2020-05      629    518     192     176    91       87        50  66   \n",
       "8   2020-06      663    552     209     185    93       69        54  60   \n",
       "9   2020-07      599    471     214     193    89       78        65  59   \n",
       "10  2020-08      615    567     204     182   105       82        62  42   \n",
       "11  2020-09      621    481     230     220   102       88        56  49   \n",
       "12  2020-10      637    555     232     203    90       52        63  49   \n",
       "\n",
       "    Others  Realme  Google  Nokia  Lenovo  OnePlus  Sony  Asus  \n",
       "0      135      28      39     14      22       17    20    17  \n",
       "1      141      27      29     20      23       10    19    27  \n",
       "2      129      30      20     26      28       18    18    19  \n",
       "3      158      23      13     19      19       22    27    22  \n",
       "4      157      25      18     16      24       18    23    20  \n",
       "5      145      21      16     24      18       31    22    14  \n",
       "6      113      20      23     25      19       19    23    21  \n",
       "7      150      43      27     15      18       19    19    13  \n",
       "8      140      39      16     16      17       29    25    16  \n",
       "9      130      40      27     25      21       18    18    12  \n",
       "10     129      47      16     23      21       27    23    20  \n",
       "11     143      54      14     15      17       15    19    15  \n",
       "12     140      33      17     20      22        9    22    21  "
      ]
     },
     "execution_count": 188,
     "metadata": {},
     "output_type": "execute_result"
    }
   ],
   "source": [
    "df = pd.read_csv('https://raw.githubusercontent.com/guebin/2021DV/master/_notebooks/phone.csv')\n",
    "df"
   ]
  },
  {
   "cell_type": "markdown",
   "id": "6e7cd439-35c9-4bd0-94af-01ee76d35eda",
   "metadata": {
    "tags": []
   },
   "source": [
    "`#`"
   ]
  },
  {
   "cell_type": "markdown",
   "id": "03981a6a-16d7-47fa-9d03-493eee6263ad",
   "metadata": {},
   "source": [
    "## C. `.plot.scatter()`"
   ]
  },
  {
   "cell_type": "code",
   "execution_count": 235,
   "id": "24672041-a7f1-4d7a-9f3a-4005e230e419",
   "metadata": {
    "tags": []
   },
   "outputs": [
    {
     "data": {
      "text/html": [
       "<div>\n",
       "<style scoped>\n",
       "    .dataframe tbody tr th:only-of-type {\n",
       "        vertical-align: middle;\n",
       "    }\n",
       "\n",
       "    .dataframe tbody tr th {\n",
       "        vertical-align: top;\n",
       "    }\n",
       "\n",
       "    .dataframe thead th {\n",
       "        text-align: right;\n",
       "    }\n",
       "</style>\n",
       "<table border=\"1\" class=\"dataframe\">\n",
       "  <thead>\n",
       "    <tr style=\"text-align: right;\">\n",
       "      <th></th>\n",
       "      <th>ID</th>\n",
       "      <th>Name</th>\n",
       "      <th>Age</th>\n",
       "      <th>Photo</th>\n",
       "      <th>Nationality</th>\n",
       "      <th>Flag</th>\n",
       "      <th>Overall</th>\n",
       "      <th>Potential</th>\n",
       "      <th>Club</th>\n",
       "      <th>Club Logo</th>\n",
       "      <th>...</th>\n",
       "      <th>SlidingTackle</th>\n",
       "      <th>GKDiving</th>\n",
       "      <th>GKHandling</th>\n",
       "      <th>GKKicking</th>\n",
       "      <th>GKPositioning</th>\n",
       "      <th>GKReflexes</th>\n",
       "      <th>Best Position</th>\n",
       "      <th>Best Overall Rating</th>\n",
       "      <th>Release Clause</th>\n",
       "      <th>DefensiveAwareness</th>\n",
       "    </tr>\n",
       "  </thead>\n",
       "  <tbody>\n",
       "    <tr>\n",
       "      <th>0</th>\n",
       "      <td>212198</td>\n",
       "      <td>Bruno Fernandes</td>\n",
       "      <td>26</td>\n",
       "      <td>https://cdn.sofifa.com/players/212/198/22_60.png</td>\n",
       "      <td>Portugal</td>\n",
       "      <td>https://cdn.sofifa.com/flags/pt.png</td>\n",
       "      <td>88</td>\n",
       "      <td>89</td>\n",
       "      <td>Manchester United</td>\n",
       "      <td>https://cdn.sofifa.com/teams/11/30.png</td>\n",
       "      <td>...</td>\n",
       "      <td>65.0</td>\n",
       "      <td>12.0</td>\n",
       "      <td>14.0</td>\n",
       "      <td>15.0</td>\n",
       "      <td>8.0</td>\n",
       "      <td>14.0</td>\n",
       "      <td>CAM</td>\n",
       "      <td>88.0</td>\n",
       "      <td>€206.9M</td>\n",
       "      <td>72.0</td>\n",
       "    </tr>\n",
       "    <tr>\n",
       "      <th>1</th>\n",
       "      <td>209658</td>\n",
       "      <td>L. Goretzka</td>\n",
       "      <td>26</td>\n",
       "      <td>https://cdn.sofifa.com/players/209/658/22_60.png</td>\n",
       "      <td>Germany</td>\n",
       "      <td>https://cdn.sofifa.com/flags/de.png</td>\n",
       "      <td>87</td>\n",
       "      <td>88</td>\n",
       "      <td>FC Bayern München</td>\n",
       "      <td>https://cdn.sofifa.com/teams/21/30.png</td>\n",
       "      <td>...</td>\n",
       "      <td>77.0</td>\n",
       "      <td>13.0</td>\n",
       "      <td>8.0</td>\n",
       "      <td>15.0</td>\n",
       "      <td>11.0</td>\n",
       "      <td>9.0</td>\n",
       "      <td>CM</td>\n",
       "      <td>87.0</td>\n",
       "      <td>€160.4M</td>\n",
       "      <td>74.0</td>\n",
       "    </tr>\n",
       "    <tr>\n",
       "      <th>2</th>\n",
       "      <td>176580</td>\n",
       "      <td>L. Suárez</td>\n",
       "      <td>34</td>\n",
       "      <td>https://cdn.sofifa.com/players/176/580/22_60.png</td>\n",
       "      <td>Uruguay</td>\n",
       "      <td>https://cdn.sofifa.com/flags/uy.png</td>\n",
       "      <td>88</td>\n",
       "      <td>88</td>\n",
       "      <td>Atlético de Madrid</td>\n",
       "      <td>https://cdn.sofifa.com/teams/240/30.png</td>\n",
       "      <td>...</td>\n",
       "      <td>38.0</td>\n",
       "      <td>27.0</td>\n",
       "      <td>25.0</td>\n",
       "      <td>31.0</td>\n",
       "      <td>33.0</td>\n",
       "      <td>37.0</td>\n",
       "      <td>ST</td>\n",
       "      <td>88.0</td>\n",
       "      <td>€91.2M</td>\n",
       "      <td>42.0</td>\n",
       "    </tr>\n",
       "    <tr>\n",
       "      <th>3</th>\n",
       "      <td>192985</td>\n",
       "      <td>K. De Bruyne</td>\n",
       "      <td>30</td>\n",
       "      <td>https://cdn.sofifa.com/players/192/985/22_60.png</td>\n",
       "      <td>Belgium</td>\n",
       "      <td>https://cdn.sofifa.com/flags/be.png</td>\n",
       "      <td>91</td>\n",
       "      <td>91</td>\n",
       "      <td>Manchester City</td>\n",
       "      <td>https://cdn.sofifa.com/teams/10/30.png</td>\n",
       "      <td>...</td>\n",
       "      <td>53.0</td>\n",
       "      <td>15.0</td>\n",
       "      <td>13.0</td>\n",
       "      <td>5.0</td>\n",
       "      <td>10.0</td>\n",
       "      <td>13.0</td>\n",
       "      <td>CM</td>\n",
       "      <td>91.0</td>\n",
       "      <td>€232.2M</td>\n",
       "      <td>68.0</td>\n",
       "    </tr>\n",
       "    <tr>\n",
       "      <th>4</th>\n",
       "      <td>224334</td>\n",
       "      <td>M. Acuña</td>\n",
       "      <td>29</td>\n",
       "      <td>https://cdn.sofifa.com/players/224/334/22_60.png</td>\n",
       "      <td>Argentina</td>\n",
       "      <td>https://cdn.sofifa.com/flags/ar.png</td>\n",
       "      <td>84</td>\n",
       "      <td>84</td>\n",
       "      <td>Sevilla FC</td>\n",
       "      <td>https://cdn.sofifa.com/teams/481/30.png</td>\n",
       "      <td>...</td>\n",
       "      <td>82.0</td>\n",
       "      <td>8.0</td>\n",
       "      <td>14.0</td>\n",
       "      <td>13.0</td>\n",
       "      <td>13.0</td>\n",
       "      <td>14.0</td>\n",
       "      <td>LB</td>\n",
       "      <td>84.0</td>\n",
       "      <td>€77.7M</td>\n",
       "      <td>80.0</td>\n",
       "    </tr>\n",
       "    <tr>\n",
       "      <th>...</th>\n",
       "      <td>...</td>\n",
       "      <td>...</td>\n",
       "      <td>...</td>\n",
       "      <td>...</td>\n",
       "      <td>...</td>\n",
       "      <td>...</td>\n",
       "      <td>...</td>\n",
       "      <td>...</td>\n",
       "      <td>...</td>\n",
       "      <td>...</td>\n",
       "      <td>...</td>\n",
       "      <td>...</td>\n",
       "      <td>...</td>\n",
       "      <td>...</td>\n",
       "      <td>...</td>\n",
       "      <td>...</td>\n",
       "      <td>...</td>\n",
       "      <td>...</td>\n",
       "      <td>...</td>\n",
       "      <td>...</td>\n",
       "      <td>...</td>\n",
       "    </tr>\n",
       "    <tr>\n",
       "      <th>16703</th>\n",
       "      <td>259718</td>\n",
       "      <td>F. Gebhardt</td>\n",
       "      <td>19</td>\n",
       "      <td>https://cdn.sofifa.com/players/259/718/22_60.png</td>\n",
       "      <td>Germany</td>\n",
       "      <td>https://cdn.sofifa.com/flags/de.png</td>\n",
       "      <td>52</td>\n",
       "      <td>66</td>\n",
       "      <td>FC Basel 1893</td>\n",
       "      <td>https://cdn.sofifa.com/teams/896/30.png</td>\n",
       "      <td>...</td>\n",
       "      <td>10.0</td>\n",
       "      <td>53.0</td>\n",
       "      <td>45.0</td>\n",
       "      <td>47.0</td>\n",
       "      <td>52.0</td>\n",
       "      <td>57.0</td>\n",
       "      <td>GK</td>\n",
       "      <td>52.0</td>\n",
       "      <td>€361K</td>\n",
       "      <td>6.0</td>\n",
       "    </tr>\n",
       "    <tr>\n",
       "      <th>16704</th>\n",
       "      <td>251433</td>\n",
       "      <td>B. Voll</td>\n",
       "      <td>20</td>\n",
       "      <td>https://cdn.sofifa.com/players/251/433/22_60.png</td>\n",
       "      <td>Germany</td>\n",
       "      <td>https://cdn.sofifa.com/flags/de.png</td>\n",
       "      <td>58</td>\n",
       "      <td>69</td>\n",
       "      <td>F.C. Hansa Rostock</td>\n",
       "      <td>https://cdn.sofifa.com/teams/27/30.png</td>\n",
       "      <td>...</td>\n",
       "      <td>10.0</td>\n",
       "      <td>59.0</td>\n",
       "      <td>60.0</td>\n",
       "      <td>56.0</td>\n",
       "      <td>55.0</td>\n",
       "      <td>61.0</td>\n",
       "      <td>GK</td>\n",
       "      <td>58.0</td>\n",
       "      <td>€656K</td>\n",
       "      <td>5.0</td>\n",
       "    </tr>\n",
       "    <tr>\n",
       "      <th>16706</th>\n",
       "      <td>262846</td>\n",
       "      <td>�. Dobre</td>\n",
       "      <td>20</td>\n",
       "      <td>https://cdn.sofifa.com/players/262/846/22_60.png</td>\n",
       "      <td>Romania</td>\n",
       "      <td>https://cdn.sofifa.com/flags/ro.png</td>\n",
       "      <td>53</td>\n",
       "      <td>63</td>\n",
       "      <td>FC Academica Clinceni</td>\n",
       "      <td>https://cdn.sofifa.com/teams/113391/30.png</td>\n",
       "      <td>...</td>\n",
       "      <td>12.0</td>\n",
       "      <td>57.0</td>\n",
       "      <td>52.0</td>\n",
       "      <td>53.0</td>\n",
       "      <td>48.0</td>\n",
       "      <td>58.0</td>\n",
       "      <td>GK</td>\n",
       "      <td>53.0</td>\n",
       "      <td>€279K</td>\n",
       "      <td>5.0</td>\n",
       "    </tr>\n",
       "    <tr>\n",
       "      <th>16707</th>\n",
       "      <td>241317</td>\n",
       "      <td>21 Xue Qinghao</td>\n",
       "      <td>19</td>\n",
       "      <td>https://cdn.sofifa.com/players/241/317/21_60.png</td>\n",
       "      <td>China PR</td>\n",
       "      <td>https://cdn.sofifa.com/flags/cn.png</td>\n",
       "      <td>47</td>\n",
       "      <td>60</td>\n",
       "      <td>Shanghai Shenhua FC</td>\n",
       "      <td>https://cdn.sofifa.com/teams/110955/30.png</td>\n",
       "      <td>...</td>\n",
       "      <td>9.0</td>\n",
       "      <td>49.0</td>\n",
       "      <td>48.0</td>\n",
       "      <td>45.0</td>\n",
       "      <td>38.0</td>\n",
       "      <td>52.0</td>\n",
       "      <td>GK</td>\n",
       "      <td>47.0</td>\n",
       "      <td>€223K</td>\n",
       "      <td>21.0</td>\n",
       "    </tr>\n",
       "    <tr>\n",
       "      <th>16708</th>\n",
       "      <td>259646</td>\n",
       "      <td>A. Shaikh</td>\n",
       "      <td>18</td>\n",
       "      <td>https://cdn.sofifa.com/players/259/646/22_60.png</td>\n",
       "      <td>India</td>\n",
       "      <td>https://cdn.sofifa.com/flags/in.png</td>\n",
       "      <td>47</td>\n",
       "      <td>67</td>\n",
       "      <td>ATK Mohun Bagan FC</td>\n",
       "      <td>https://cdn.sofifa.com/teams/113146/30.png</td>\n",
       "      <td>...</td>\n",
       "      <td>13.0</td>\n",
       "      <td>49.0</td>\n",
       "      <td>41.0</td>\n",
       "      <td>39.0</td>\n",
       "      <td>45.0</td>\n",
       "      <td>49.0</td>\n",
       "      <td>GK</td>\n",
       "      <td>47.0</td>\n",
       "      <td>€259K</td>\n",
       "      <td>7.0</td>\n",
       "    </tr>\n",
       "  </tbody>\n",
       "</table>\n",
       "<p>14398 rows × 63 columns</p>\n",
       "</div>"
      ],
      "text/plain": [
       "           ID             Name  Age  \\\n",
       "0      212198  Bruno Fernandes   26   \n",
       "1      209658      L. Goretzka   26   \n",
       "2      176580        L. Suárez   34   \n",
       "3      192985     K. De Bruyne   30   \n",
       "4      224334         M. Acuña   29   \n",
       "...       ...              ...  ...   \n",
       "16703  259718      F. Gebhardt   19   \n",
       "16704  251433          B. Voll   20   \n",
       "16706  262846         �. Dobre   20   \n",
       "16707  241317   21 Xue Qinghao   19   \n",
       "16708  259646        A. Shaikh   18   \n",
       "\n",
       "                                                  Photo Nationality  \\\n",
       "0      https://cdn.sofifa.com/players/212/198/22_60.png    Portugal   \n",
       "1      https://cdn.sofifa.com/players/209/658/22_60.png     Germany   \n",
       "2      https://cdn.sofifa.com/players/176/580/22_60.png     Uruguay   \n",
       "3      https://cdn.sofifa.com/players/192/985/22_60.png     Belgium   \n",
       "4      https://cdn.sofifa.com/players/224/334/22_60.png   Argentina   \n",
       "...                                                 ...         ...   \n",
       "16703  https://cdn.sofifa.com/players/259/718/22_60.png     Germany   \n",
       "16704  https://cdn.sofifa.com/players/251/433/22_60.png     Germany   \n",
       "16706  https://cdn.sofifa.com/players/262/846/22_60.png     Romania   \n",
       "16707  https://cdn.sofifa.com/players/241/317/21_60.png    China PR   \n",
       "16708  https://cdn.sofifa.com/players/259/646/22_60.png       India   \n",
       "\n",
       "                                      Flag  Overall  Potential  \\\n",
       "0      https://cdn.sofifa.com/flags/pt.png       88         89   \n",
       "1      https://cdn.sofifa.com/flags/de.png       87         88   \n",
       "2      https://cdn.sofifa.com/flags/uy.png       88         88   \n",
       "3      https://cdn.sofifa.com/flags/be.png       91         91   \n",
       "4      https://cdn.sofifa.com/flags/ar.png       84         84   \n",
       "...                                    ...      ...        ...   \n",
       "16703  https://cdn.sofifa.com/flags/de.png       52         66   \n",
       "16704  https://cdn.sofifa.com/flags/de.png       58         69   \n",
       "16706  https://cdn.sofifa.com/flags/ro.png       53         63   \n",
       "16707  https://cdn.sofifa.com/flags/cn.png       47         60   \n",
       "16708  https://cdn.sofifa.com/flags/in.png       47         67   \n",
       "\n",
       "                        Club                                   Club Logo  ...  \\\n",
       "0          Manchester United      https://cdn.sofifa.com/teams/11/30.png  ...   \n",
       "1          FC Bayern München      https://cdn.sofifa.com/teams/21/30.png  ...   \n",
       "2         Atlético de Madrid     https://cdn.sofifa.com/teams/240/30.png  ...   \n",
       "3            Manchester City      https://cdn.sofifa.com/teams/10/30.png  ...   \n",
       "4                 Sevilla FC     https://cdn.sofifa.com/teams/481/30.png  ...   \n",
       "...                      ...                                         ...  ...   \n",
       "16703          FC Basel 1893     https://cdn.sofifa.com/teams/896/30.png  ...   \n",
       "16704     F.C. Hansa Rostock      https://cdn.sofifa.com/teams/27/30.png  ...   \n",
       "16706  FC Academica Clinceni  https://cdn.sofifa.com/teams/113391/30.png  ...   \n",
       "16707    Shanghai Shenhua FC  https://cdn.sofifa.com/teams/110955/30.png  ...   \n",
       "16708     ATK Mohun Bagan FC  https://cdn.sofifa.com/teams/113146/30.png  ...   \n",
       "\n",
       "      SlidingTackle  GKDiving  GKHandling GKKicking  GKPositioning  \\\n",
       "0              65.0      12.0        14.0      15.0            8.0   \n",
       "1              77.0      13.0         8.0      15.0           11.0   \n",
       "2              38.0      27.0        25.0      31.0           33.0   \n",
       "3              53.0      15.0        13.0       5.0           10.0   \n",
       "4              82.0       8.0        14.0      13.0           13.0   \n",
       "...             ...       ...         ...       ...            ...   \n",
       "16703          10.0      53.0        45.0      47.0           52.0   \n",
       "16704          10.0      59.0        60.0      56.0           55.0   \n",
       "16706          12.0      57.0        52.0      53.0           48.0   \n",
       "16707           9.0      49.0        48.0      45.0           38.0   \n",
       "16708          13.0      49.0        41.0      39.0           45.0   \n",
       "\n",
       "       GKReflexes  Best Position Best Overall Rating Release Clause  \\\n",
       "0            14.0            CAM                88.0        €206.9M   \n",
       "1             9.0             CM                87.0        €160.4M   \n",
       "2            37.0             ST                88.0         €91.2M   \n",
       "3            13.0             CM                91.0        €232.2M   \n",
       "4            14.0             LB                84.0         €77.7M   \n",
       "...           ...            ...                 ...            ...   \n",
       "16703        57.0             GK                52.0          €361K   \n",
       "16704        61.0             GK                58.0          €656K   \n",
       "16706        58.0             GK                53.0          €279K   \n",
       "16707        52.0             GK                47.0          €223K   \n",
       "16708        49.0             GK                47.0          €259K   \n",
       "\n",
       "      DefensiveAwareness  \n",
       "0                   72.0  \n",
       "1                   74.0  \n",
       "2                   42.0  \n",
       "3                   68.0  \n",
       "4                   80.0  \n",
       "...                  ...  \n",
       "16703                6.0  \n",
       "16704                5.0  \n",
       "16706                5.0  \n",
       "16707               21.0  \n",
       "16708                7.0  \n",
       "\n",
       "[14398 rows x 63 columns]"
      ]
     },
     "execution_count": 235,
     "metadata": {},
     "output_type": "execute_result"
    }
   ],
   "source": [
    "position_dict = {\n",
    "    'GOALKEEPER':{'GK'},\n",
    "    'DEFENDER':{'CB','RCB','LCB','RB','LB','RWB','LWB'},\n",
    "    'MIDFIELDER':{'CM','RCM','LCM','CDM','RDM','LDM','CAM','RAM','LAM','RM','LM'},\n",
    "    'FORWARD':{'ST','CF','RF','LF','RW','LW','RS','LS'},\n",
    "    'SUB':{'SUB'},\n",
    "    'RES':{'RES'}\n",
    "}\n",
    "df = pd.read_csv('https://raw.githubusercontent.com/guebin/DV2021/master/_notebooks/2021-10-25-FIFA22_official_data.csv')\\\n",
    ".loc[:,lambda df: df.isna().mean()<0.5].dropna()\\\n",
    ".assign(Position = lambda df: df.Position.str.split(\">\").str[-1].apply(lambda x: [k for k,v in position_dict.items() if x in v].pop()))\\\n",
    ".assign(Wage = lambda df: df.Wage.str[1:].str.replace('K','000').astype(int))\n",
    "df"
   ]
  },
  {
   "cell_type": "markdown",
   "id": "2473a5bb-d34c-4600-a71b-484afce86f88",
   "metadata": {
    "tags": []
   },
   "source": [
    "## D. `.plot.box()`"
   ]
  },
  {
   "cell_type": "markdown",
   "id": "aa7339c1-e5a9-4abe-9bd6-7c434c3f6b42",
   "metadata": {},
   "source": [
    "`# 예제1` -- 전북고등학교 "
   ]
  },
  {
   "cell_type": "code",
   "execution_count": 221,
   "id": "aa2260e8-0be2-4ea1-86f5-b49ca3b57dbb",
   "metadata": {
    "tags": []
   },
   "outputs": [],
   "source": [
    "y1=[75,75,76,76,77,77,78,79,79,98] # A선생님에게 통계학을 배운 학생의 점수들\n",
    "y2=[76,76,77,77,78,78,79,80,80,81] # B선생님에게 통계학을 배운 학생의 점수들 "
   ]
  },
  {
   "cell_type": "markdown",
   "id": "0f99c7bb-c243-471f-b299-3b1107bc6f22",
   "metadata": {},
   "source": [
    "`#`"
   ]
  },
  {
   "cell_type": "markdown",
   "id": "65561c14-afa0-402f-9992-66149b2601fb",
   "metadata": {},
   "source": [
    "`# 예제2` -- (년도,시도)별 전기에너지사용량 "
   ]
  },
  {
   "cell_type": "code",
   "execution_count": 291,
   "id": "1ee1e685-4014-486a-b7e6-6dbe21d46675",
   "metadata": {
    "tags": []
   },
   "outputs": [
    {
     "name": "stderr",
     "output_type": "stream",
     "text": [
      "/tmp/ipykernel_3726929/3228750770.py:9: FutureWarning:\n",
      "\n",
      "DataFrame.applymap has been deprecated. Use DataFrame.map instead.\n",
      "\n"
     ]
    },
    {
     "data": {
      "text/html": [
       "<div>\n",
       "<style scoped>\n",
       "    .dataframe tbody tr th:only-of-type {\n",
       "        vertical-align: middle;\n",
       "    }\n",
       "\n",
       "    .dataframe tbody tr th {\n",
       "        vertical-align: top;\n",
       "    }\n",
       "\n",
       "    .dataframe thead th {\n",
       "        text-align: right;\n",
       "    }\n",
       "</style>\n",
       "<table border=\"1\" class=\"dataframe\">\n",
       "  <thead>\n",
       "    <tr style=\"text-align: right;\">\n",
       "      <th></th>\n",
       "      <th>년도</th>\n",
       "      <th>시도</th>\n",
       "      <th>지역</th>\n",
       "      <th>건물동수</th>\n",
       "      <th>연면적</th>\n",
       "      <th>에너지사용량(TOE)/전기</th>\n",
       "      <th>에너지사용량(TOE)/도시가스</th>\n",
       "      <th>에너지사용량(TOE)/지역난방</th>\n",
       "    </tr>\n",
       "  </thead>\n",
       "  <tbody>\n",
       "    <tr>\n",
       "      <th>0</th>\n",
       "      <td>2018</td>\n",
       "      <td>Seoul</td>\n",
       "      <td>종로구</td>\n",
       "      <td>17929</td>\n",
       "      <td>9141777</td>\n",
       "      <td>64818</td>\n",
       "      <td>82015</td>\n",
       "      <td>111</td>\n",
       "    </tr>\n",
       "    <tr>\n",
       "      <th>1</th>\n",
       "      <td>2018</td>\n",
       "      <td>Seoul</td>\n",
       "      <td>중구</td>\n",
       "      <td>10598</td>\n",
       "      <td>10056233</td>\n",
       "      <td>81672</td>\n",
       "      <td>75260</td>\n",
       "      <td>563</td>\n",
       "    </tr>\n",
       "    <tr>\n",
       "      <th>2</th>\n",
       "      <td>2018</td>\n",
       "      <td>Seoul</td>\n",
       "      <td>용산구</td>\n",
       "      <td>17201</td>\n",
       "      <td>10639652</td>\n",
       "      <td>52659</td>\n",
       "      <td>85220</td>\n",
       "      <td>12043</td>\n",
       "    </tr>\n",
       "    <tr>\n",
       "      <th>3</th>\n",
       "      <td>2018</td>\n",
       "      <td>Seoul</td>\n",
       "      <td>성동구</td>\n",
       "      <td>14180</td>\n",
       "      <td>11631770</td>\n",
       "      <td>60559</td>\n",
       "      <td>107416</td>\n",
       "      <td>0</td>\n",
       "    </tr>\n",
       "    <tr>\n",
       "      <th>4</th>\n",
       "      <td>2018</td>\n",
       "      <td>Seoul</td>\n",
       "      <td>광진구</td>\n",
       "      <td>21520</td>\n",
       "      <td>12054796</td>\n",
       "      <td>70609</td>\n",
       "      <td>130308</td>\n",
       "      <td>0</td>\n",
       "    </tr>\n",
       "  </tbody>\n",
       "</table>\n",
       "</div>"
      ],
      "text/plain": [
       "     년도     시도   지역   건물동수       연면적  에너지사용량(TOE)/전기  에너지사용량(TOE)/도시가스  \\\n",
       "0  2018  Seoul  종로구  17929   9141777           64818             82015   \n",
       "1  2018  Seoul   중구  10598  10056233           81672             75260   \n",
       "2  2018  Seoul  용산구  17201  10639652           52659             85220   \n",
       "3  2018  Seoul  성동구  14180  11631770           60559            107416   \n",
       "4  2018  Seoul  광진구  21520  12054796           70609            130308   \n",
       "\n",
       "   에너지사용량(TOE)/지역난방  \n",
       "0               111  \n",
       "1               563  \n",
       "2             12043  \n",
       "3                 0  \n",
       "4                 0  "
      ]
     },
     "execution_count": 291,
     "metadata": {},
     "output_type": "execute_result"
    }
   ],
   "source": [
    "url = 'https://raw.githubusercontent.com/guebin/DV2022/main/posts/Energy/{}.csv'\n",
    "prov = ['Seoul', 'Busan', 'Daegu', 'Incheon', \n",
    "        'Gwangju', 'Daejeon', 'Ulsan', 'Sejongsi', \n",
    "        'Gyeonggi-do', 'Gangwon-do', 'Chungcheongbuk-do', \n",
    "        'Chungcheongnam-do', 'Jeollabuk-do', 'Jeollanam-do', \n",
    "        'Gyeongsangbuk-do', 'Gyeongsangnam-do', 'Jeju-do']\n",
    "df = pd.concat([pd.read_csv(url.format(p+y)).assign(년도=y, 시도=p) for p in prov for y in ['2018', '2019', '2020', '2021']]).reset_index(drop=True)\\\n",
    ".assign(년도 = lambda df: df.년도.astype(int))\\\n",
    ".set_index(['년도','시도','지역']).applymap(lambda x: int(str(x).replace(',','')))\\\n",
    ".reset_index()\n",
    "df.head()"
   ]
  },
  {
   "cell_type": "markdown",
   "id": "5ffa94f0-4c6f-4d14-9abd-c649a9bb05c7",
   "metadata": {},
   "source": [
    "`#`"
   ]
  },
  {
   "cell_type": "markdown",
   "id": "6b6bc8a0-130b-4acf-a7f4-e72430f9c78f",
   "metadata": {},
   "source": [
    "## E. `.plot.hist()`"
   ]
  },
  {
   "cell_type": "markdown",
   "id": "9c91a95a-52b9-4f54-8ba1-df1fd52e6d9f",
   "metadata": {},
   "source": [
    "`# 예제1` -- 타이타닉: (연령,성별) 생존자"
   ]
  },
  {
   "cell_type": "code",
   "execution_count": 272,
   "id": "645739d0-1659-4df7-ad72-fcf9cd954232",
   "metadata": {
    "tags": []
   },
   "outputs": [
    {
     "data": {
      "text/html": [
       "<div>\n",
       "<style scoped>\n",
       "    .dataframe tbody tr th:only-of-type {\n",
       "        vertical-align: middle;\n",
       "    }\n",
       "\n",
       "    .dataframe tbody tr th {\n",
       "        vertical-align: top;\n",
       "    }\n",
       "\n",
       "    .dataframe thead th {\n",
       "        text-align: right;\n",
       "    }\n",
       "</style>\n",
       "<table border=\"1\" class=\"dataframe\">\n",
       "  <thead>\n",
       "    <tr style=\"text-align: right;\">\n",
       "      <th></th>\n",
       "      <th>PassengerId</th>\n",
       "      <th>Survived</th>\n",
       "      <th>Pclass</th>\n",
       "      <th>Name</th>\n",
       "      <th>Sex</th>\n",
       "      <th>Age</th>\n",
       "      <th>SibSp</th>\n",
       "      <th>Parch</th>\n",
       "      <th>Ticket</th>\n",
       "      <th>Fare</th>\n",
       "      <th>Cabin</th>\n",
       "      <th>Embarked</th>\n",
       "      <th>logFare</th>\n",
       "    </tr>\n",
       "  </thead>\n",
       "  <tbody>\n",
       "    <tr>\n",
       "      <th>0</th>\n",
       "      <td>1</td>\n",
       "      <td>0</td>\n",
       "      <td>3</td>\n",
       "      <td>Braund, Mr. Owen Harris</td>\n",
       "      <td>male</td>\n",
       "      <td>22.0</td>\n",
       "      <td>1</td>\n",
       "      <td>0</td>\n",
       "      <td>A/5 21171</td>\n",
       "      <td>7.2500</td>\n",
       "      <td>NaN</td>\n",
       "      <td>S</td>\n",
       "      <td>1.981001</td>\n",
       "    </tr>\n",
       "    <tr>\n",
       "      <th>1</th>\n",
       "      <td>2</td>\n",
       "      <td>1</td>\n",
       "      <td>1</td>\n",
       "      <td>Cumings, Mrs. John Bradley (Florence Briggs Th...</td>\n",
       "      <td>female</td>\n",
       "      <td>38.0</td>\n",
       "      <td>1</td>\n",
       "      <td>0</td>\n",
       "      <td>PC 17599</td>\n",
       "      <td>71.2833</td>\n",
       "      <td>C85</td>\n",
       "      <td>C</td>\n",
       "      <td>4.266662</td>\n",
       "    </tr>\n",
       "    <tr>\n",
       "      <th>2</th>\n",
       "      <td>3</td>\n",
       "      <td>1</td>\n",
       "      <td>3</td>\n",
       "      <td>Heikkinen, Miss. Laina</td>\n",
       "      <td>female</td>\n",
       "      <td>26.0</td>\n",
       "      <td>0</td>\n",
       "      <td>0</td>\n",
       "      <td>STON/O2. 3101282</td>\n",
       "      <td>7.9250</td>\n",
       "      <td>NaN</td>\n",
       "      <td>S</td>\n",
       "      <td>2.070022</td>\n",
       "    </tr>\n",
       "    <tr>\n",
       "      <th>3</th>\n",
       "      <td>4</td>\n",
       "      <td>1</td>\n",
       "      <td>1</td>\n",
       "      <td>Futrelle, Mrs. Jacques Heath (Lily May Peel)</td>\n",
       "      <td>female</td>\n",
       "      <td>35.0</td>\n",
       "      <td>1</td>\n",
       "      <td>0</td>\n",
       "      <td>113803</td>\n",
       "      <td>53.1000</td>\n",
       "      <td>C123</td>\n",
       "      <td>S</td>\n",
       "      <td>3.972177</td>\n",
       "    </tr>\n",
       "    <tr>\n",
       "      <th>4</th>\n",
       "      <td>5</td>\n",
       "      <td>0</td>\n",
       "      <td>3</td>\n",
       "      <td>Allen, Mr. William Henry</td>\n",
       "      <td>male</td>\n",
       "      <td>35.0</td>\n",
       "      <td>0</td>\n",
       "      <td>0</td>\n",
       "      <td>373450</td>\n",
       "      <td>8.0500</td>\n",
       "      <td>NaN</td>\n",
       "      <td>S</td>\n",
       "      <td>2.085672</td>\n",
       "    </tr>\n",
       "    <tr>\n",
       "      <th>...</th>\n",
       "      <td>...</td>\n",
       "      <td>...</td>\n",
       "      <td>...</td>\n",
       "      <td>...</td>\n",
       "      <td>...</td>\n",
       "      <td>...</td>\n",
       "      <td>...</td>\n",
       "      <td>...</td>\n",
       "      <td>...</td>\n",
       "      <td>...</td>\n",
       "      <td>...</td>\n",
       "      <td>...</td>\n",
       "      <td>...</td>\n",
       "    </tr>\n",
       "    <tr>\n",
       "      <th>886</th>\n",
       "      <td>887</td>\n",
       "      <td>0</td>\n",
       "      <td>2</td>\n",
       "      <td>Montvila, Rev. Juozas</td>\n",
       "      <td>male</td>\n",
       "      <td>27.0</td>\n",
       "      <td>0</td>\n",
       "      <td>0</td>\n",
       "      <td>211536</td>\n",
       "      <td>13.0000</td>\n",
       "      <td>NaN</td>\n",
       "      <td>S</td>\n",
       "      <td>2.564949</td>\n",
       "    </tr>\n",
       "    <tr>\n",
       "      <th>887</th>\n",
       "      <td>888</td>\n",
       "      <td>1</td>\n",
       "      <td>1</td>\n",
       "      <td>Graham, Miss. Margaret Edith</td>\n",
       "      <td>female</td>\n",
       "      <td>19.0</td>\n",
       "      <td>0</td>\n",
       "      <td>0</td>\n",
       "      <td>112053</td>\n",
       "      <td>30.0000</td>\n",
       "      <td>B42</td>\n",
       "      <td>S</td>\n",
       "      <td>3.401197</td>\n",
       "    </tr>\n",
       "    <tr>\n",
       "      <th>888</th>\n",
       "      <td>889</td>\n",
       "      <td>0</td>\n",
       "      <td>3</td>\n",
       "      <td>Johnston, Miss. Catherine Helen \"Carrie\"</td>\n",
       "      <td>female</td>\n",
       "      <td>NaN</td>\n",
       "      <td>1</td>\n",
       "      <td>2</td>\n",
       "      <td>W./C. 6607</td>\n",
       "      <td>23.4500</td>\n",
       "      <td>NaN</td>\n",
       "      <td>S</td>\n",
       "      <td>3.154870</td>\n",
       "    </tr>\n",
       "    <tr>\n",
       "      <th>889</th>\n",
       "      <td>890</td>\n",
       "      <td>1</td>\n",
       "      <td>1</td>\n",
       "      <td>Behr, Mr. Karl Howell</td>\n",
       "      <td>male</td>\n",
       "      <td>26.0</td>\n",
       "      <td>0</td>\n",
       "      <td>0</td>\n",
       "      <td>111369</td>\n",
       "      <td>30.0000</td>\n",
       "      <td>C148</td>\n",
       "      <td>C</td>\n",
       "      <td>3.401197</td>\n",
       "    </tr>\n",
       "    <tr>\n",
       "      <th>890</th>\n",
       "      <td>891</td>\n",
       "      <td>0</td>\n",
       "      <td>3</td>\n",
       "      <td>Dooley, Mr. Patrick</td>\n",
       "      <td>male</td>\n",
       "      <td>32.0</td>\n",
       "      <td>0</td>\n",
       "      <td>0</td>\n",
       "      <td>370376</td>\n",
       "      <td>7.7500</td>\n",
       "      <td>NaN</td>\n",
       "      <td>Q</td>\n",
       "      <td>2.047693</td>\n",
       "    </tr>\n",
       "  </tbody>\n",
       "</table>\n",
       "<p>891 rows × 13 columns</p>\n",
       "</div>"
      ],
      "text/plain": [
       "     PassengerId  Survived  Pclass  \\\n",
       "0              1         0       3   \n",
       "1              2         1       1   \n",
       "2              3         1       3   \n",
       "3              4         1       1   \n",
       "4              5         0       3   \n",
       "..           ...       ...     ...   \n",
       "886          887         0       2   \n",
       "887          888         1       1   \n",
       "888          889         0       3   \n",
       "889          890         1       1   \n",
       "890          891         0       3   \n",
       "\n",
       "                                                  Name     Sex   Age  SibSp  \\\n",
       "0                              Braund, Mr. Owen Harris    male  22.0      1   \n",
       "1    Cumings, Mrs. John Bradley (Florence Briggs Th...  female  38.0      1   \n",
       "2                               Heikkinen, Miss. Laina  female  26.0      0   \n",
       "3         Futrelle, Mrs. Jacques Heath (Lily May Peel)  female  35.0      1   \n",
       "4                             Allen, Mr. William Henry    male  35.0      0   \n",
       "..                                                 ...     ...   ...    ...   \n",
       "886                              Montvila, Rev. Juozas    male  27.0      0   \n",
       "887                       Graham, Miss. Margaret Edith  female  19.0      0   \n",
       "888           Johnston, Miss. Catherine Helen \"Carrie\"  female   NaN      1   \n",
       "889                              Behr, Mr. Karl Howell    male  26.0      0   \n",
       "890                                Dooley, Mr. Patrick    male  32.0      0   \n",
       "\n",
       "     Parch            Ticket     Fare Cabin Embarked   logFare  \n",
       "0        0         A/5 21171   7.2500   NaN        S  1.981001  \n",
       "1        0          PC 17599  71.2833   C85        C  4.266662  \n",
       "2        0  STON/O2. 3101282   7.9250   NaN        S  2.070022  \n",
       "3        0            113803  53.1000  C123        S  3.972177  \n",
       "4        0            373450   8.0500   NaN        S  2.085672  \n",
       "..     ...               ...      ...   ...      ...       ...  \n",
       "886      0            211536  13.0000   NaN        S  2.564949  \n",
       "887      0            112053  30.0000   B42        S  3.401197  \n",
       "888      2        W./C. 6607  23.4500   NaN        S  3.154870  \n",
       "889      0            111369  30.0000  C148        C  3.401197  \n",
       "890      0            370376   7.7500   NaN        Q  2.047693  \n",
       "\n",
       "[891 rows x 13 columns]"
      ]
     },
     "execution_count": 272,
     "metadata": {},
     "output_type": "execute_result"
    }
   ],
   "source": [
    "df = pd.read_csv(\"https://raw.githubusercontent.com/guebin/DV2023/main/posts/titanic.csv\")\n",
    "df"
   ]
  },
  {
   "cell_type": "markdown",
   "id": "ec076b5a-3bcf-4656-bc1d-cbb30260b1d9",
   "metadata": {},
   "source": [
    "`#`"
   ]
  },
  {
   "cell_type": "markdown",
   "id": "e2c2fb79-d9c3-41b4-8f53-4a364336df0c",
   "metadata": {},
   "source": [
    "## F. `.plot.area()`"
   ]
  },
  {
   "cell_type": "markdown",
   "id": "eec44aa0-8c95-4a3e-b514-3c76af19ff09",
   "metadata": {},
   "source": [
    "`# 예제1` -- 핸드폰 판매량 "
   ]
  },
  {
   "cell_type": "code",
   "execution_count": 293,
   "id": "5ffa6a5e-be9d-4d61-9270-de25adafff1a",
   "metadata": {
    "tags": []
   },
   "outputs": [
    {
     "data": {
      "text/html": [
       "<div>\n",
       "<style scoped>\n",
       "    .dataframe tbody tr th:only-of-type {\n",
       "        vertical-align: middle;\n",
       "    }\n",
       "\n",
       "    .dataframe tbody tr th {\n",
       "        vertical-align: top;\n",
       "    }\n",
       "\n",
       "    .dataframe thead th {\n",
       "        text-align: right;\n",
       "    }\n",
       "</style>\n",
       "<table border=\"1\" class=\"dataframe\">\n",
       "  <thead>\n",
       "    <tr style=\"text-align: right;\">\n",
       "      <th></th>\n",
       "      <th>Date</th>\n",
       "      <th>Samsung</th>\n",
       "      <th>Apple</th>\n",
       "      <th>Huawei</th>\n",
       "      <th>Xiaomi</th>\n",
       "      <th>Oppo</th>\n",
       "      <th>Mobicel</th>\n",
       "      <th>Motorola</th>\n",
       "      <th>LG</th>\n",
       "      <th>Others</th>\n",
       "      <th>Realme</th>\n",
       "      <th>Google</th>\n",
       "      <th>Nokia</th>\n",
       "      <th>Lenovo</th>\n",
       "      <th>OnePlus</th>\n",
       "      <th>Sony</th>\n",
       "      <th>Asus</th>\n",
       "    </tr>\n",
       "  </thead>\n",
       "  <tbody>\n",
       "    <tr>\n",
       "      <th>0</th>\n",
       "      <td>2019-10</td>\n",
       "      <td>461</td>\n",
       "      <td>324</td>\n",
       "      <td>136</td>\n",
       "      <td>109</td>\n",
       "      <td>76</td>\n",
       "      <td>81</td>\n",
       "      <td>43</td>\n",
       "      <td>37</td>\n",
       "      <td>135</td>\n",
       "      <td>28</td>\n",
       "      <td>39</td>\n",
       "      <td>14</td>\n",
       "      <td>22</td>\n",
       "      <td>17</td>\n",
       "      <td>20</td>\n",
       "      <td>17</td>\n",
       "    </tr>\n",
       "    <tr>\n",
       "      <th>1</th>\n",
       "      <td>2019-11</td>\n",
       "      <td>461</td>\n",
       "      <td>358</td>\n",
       "      <td>167</td>\n",
       "      <td>141</td>\n",
       "      <td>86</td>\n",
       "      <td>61</td>\n",
       "      <td>29</td>\n",
       "      <td>36</td>\n",
       "      <td>141</td>\n",
       "      <td>27</td>\n",
       "      <td>29</td>\n",
       "      <td>20</td>\n",
       "      <td>23</td>\n",
       "      <td>10</td>\n",
       "      <td>19</td>\n",
       "      <td>27</td>\n",
       "    </tr>\n",
       "    <tr>\n",
       "      <th>2</th>\n",
       "      <td>2019-12</td>\n",
       "      <td>426</td>\n",
       "      <td>383</td>\n",
       "      <td>143</td>\n",
       "      <td>105</td>\n",
       "      <td>53</td>\n",
       "      <td>45</td>\n",
       "      <td>51</td>\n",
       "      <td>48</td>\n",
       "      <td>129</td>\n",
       "      <td>30</td>\n",
       "      <td>20</td>\n",
       "      <td>26</td>\n",
       "      <td>28</td>\n",
       "      <td>18</td>\n",
       "      <td>18</td>\n",
       "      <td>19</td>\n",
       "    </tr>\n",
       "    <tr>\n",
       "      <th>3</th>\n",
       "      <td>2020-01</td>\n",
       "      <td>677</td>\n",
       "      <td>494</td>\n",
       "      <td>212</td>\n",
       "      <td>187</td>\n",
       "      <td>110</td>\n",
       "      <td>79</td>\n",
       "      <td>65</td>\n",
       "      <td>49</td>\n",
       "      <td>158</td>\n",
       "      <td>23</td>\n",
       "      <td>13</td>\n",
       "      <td>19</td>\n",
       "      <td>19</td>\n",
       "      <td>22</td>\n",
       "      <td>27</td>\n",
       "      <td>22</td>\n",
       "    </tr>\n",
       "    <tr>\n",
       "      <th>4</th>\n",
       "      <td>2020-02</td>\n",
       "      <td>593</td>\n",
       "      <td>520</td>\n",
       "      <td>217</td>\n",
       "      <td>195</td>\n",
       "      <td>112</td>\n",
       "      <td>67</td>\n",
       "      <td>62</td>\n",
       "      <td>71</td>\n",
       "      <td>157</td>\n",
       "      <td>25</td>\n",
       "      <td>18</td>\n",
       "      <td>16</td>\n",
       "      <td>24</td>\n",
       "      <td>18</td>\n",
       "      <td>23</td>\n",
       "      <td>20</td>\n",
       "    </tr>\n",
       "    <tr>\n",
       "      <th>5</th>\n",
       "      <td>2020-03</td>\n",
       "      <td>637</td>\n",
       "      <td>537</td>\n",
       "      <td>246</td>\n",
       "      <td>187</td>\n",
       "      <td>92</td>\n",
       "      <td>66</td>\n",
       "      <td>59</td>\n",
       "      <td>67</td>\n",
       "      <td>145</td>\n",
       "      <td>21</td>\n",
       "      <td>16</td>\n",
       "      <td>24</td>\n",
       "      <td>18</td>\n",
       "      <td>31</td>\n",
       "      <td>22</td>\n",
       "      <td>14</td>\n",
       "    </tr>\n",
       "    <tr>\n",
       "      <th>6</th>\n",
       "      <td>2020-04</td>\n",
       "      <td>647</td>\n",
       "      <td>583</td>\n",
       "      <td>222</td>\n",
       "      <td>154</td>\n",
       "      <td>98</td>\n",
       "      <td>59</td>\n",
       "      <td>48</td>\n",
       "      <td>64</td>\n",
       "      <td>113</td>\n",
       "      <td>20</td>\n",
       "      <td>23</td>\n",
       "      <td>25</td>\n",
       "      <td>19</td>\n",
       "      <td>19</td>\n",
       "      <td>23</td>\n",
       "      <td>21</td>\n",
       "    </tr>\n",
       "    <tr>\n",
       "      <th>7</th>\n",
       "      <td>2020-05</td>\n",
       "      <td>629</td>\n",
       "      <td>518</td>\n",
       "      <td>192</td>\n",
       "      <td>176</td>\n",
       "      <td>91</td>\n",
       "      <td>87</td>\n",
       "      <td>50</td>\n",
       "      <td>66</td>\n",
       "      <td>150</td>\n",
       "      <td>43</td>\n",
       "      <td>27</td>\n",
       "      <td>15</td>\n",
       "      <td>18</td>\n",
       "      <td>19</td>\n",
       "      <td>19</td>\n",
       "      <td>13</td>\n",
       "    </tr>\n",
       "    <tr>\n",
       "      <th>8</th>\n",
       "      <td>2020-06</td>\n",
       "      <td>663</td>\n",
       "      <td>552</td>\n",
       "      <td>209</td>\n",
       "      <td>185</td>\n",
       "      <td>93</td>\n",
       "      <td>69</td>\n",
       "      <td>54</td>\n",
       "      <td>60</td>\n",
       "      <td>140</td>\n",
       "      <td>39</td>\n",
       "      <td>16</td>\n",
       "      <td>16</td>\n",
       "      <td>17</td>\n",
       "      <td>29</td>\n",
       "      <td>25</td>\n",
       "      <td>16</td>\n",
       "    </tr>\n",
       "    <tr>\n",
       "      <th>9</th>\n",
       "      <td>2020-07</td>\n",
       "      <td>599</td>\n",
       "      <td>471</td>\n",
       "      <td>214</td>\n",
       "      <td>193</td>\n",
       "      <td>89</td>\n",
       "      <td>78</td>\n",
       "      <td>65</td>\n",
       "      <td>59</td>\n",
       "      <td>130</td>\n",
       "      <td>40</td>\n",
       "      <td>27</td>\n",
       "      <td>25</td>\n",
       "      <td>21</td>\n",
       "      <td>18</td>\n",
       "      <td>18</td>\n",
       "      <td>12</td>\n",
       "    </tr>\n",
       "    <tr>\n",
       "      <th>10</th>\n",
       "      <td>2020-08</td>\n",
       "      <td>615</td>\n",
       "      <td>567</td>\n",
       "      <td>204</td>\n",
       "      <td>182</td>\n",
       "      <td>105</td>\n",
       "      <td>82</td>\n",
       "      <td>62</td>\n",
       "      <td>42</td>\n",
       "      <td>129</td>\n",
       "      <td>47</td>\n",
       "      <td>16</td>\n",
       "      <td>23</td>\n",
       "      <td>21</td>\n",
       "      <td>27</td>\n",
       "      <td>23</td>\n",
       "      <td>20</td>\n",
       "    </tr>\n",
       "    <tr>\n",
       "      <th>11</th>\n",
       "      <td>2020-09</td>\n",
       "      <td>621</td>\n",
       "      <td>481</td>\n",
       "      <td>230</td>\n",
       "      <td>220</td>\n",
       "      <td>102</td>\n",
       "      <td>88</td>\n",
       "      <td>56</td>\n",
       "      <td>49</td>\n",
       "      <td>143</td>\n",
       "      <td>54</td>\n",
       "      <td>14</td>\n",
       "      <td>15</td>\n",
       "      <td>17</td>\n",
       "      <td>15</td>\n",
       "      <td>19</td>\n",
       "      <td>15</td>\n",
       "    </tr>\n",
       "    <tr>\n",
       "      <th>12</th>\n",
       "      <td>2020-10</td>\n",
       "      <td>637</td>\n",
       "      <td>555</td>\n",
       "      <td>232</td>\n",
       "      <td>203</td>\n",
       "      <td>90</td>\n",
       "      <td>52</td>\n",
       "      <td>63</td>\n",
       "      <td>49</td>\n",
       "      <td>140</td>\n",
       "      <td>33</td>\n",
       "      <td>17</td>\n",
       "      <td>20</td>\n",
       "      <td>22</td>\n",
       "      <td>9</td>\n",
       "      <td>22</td>\n",
       "      <td>21</td>\n",
       "    </tr>\n",
       "  </tbody>\n",
       "</table>\n",
       "</div>"
      ],
      "text/plain": [
       "       Date  Samsung  Apple  Huawei  Xiaomi  Oppo  Mobicel  Motorola  LG  \\\n",
       "0   2019-10      461    324     136     109    76       81        43  37   \n",
       "1   2019-11      461    358     167     141    86       61        29  36   \n",
       "2   2019-12      426    383     143     105    53       45        51  48   \n",
       "3   2020-01      677    494     212     187   110       79        65  49   \n",
       "4   2020-02      593    520     217     195   112       67        62  71   \n",
       "5   2020-03      637    537     246     187    92       66        59  67   \n",
       "6   2020-04      647    583     222     154    98       59        48  64   \n",
       "7   2020-05      629    518     192     176    91       87        50  66   \n",
       "8   2020-06      663    552     209     185    93       69        54  60   \n",
       "9   2020-07      599    471     214     193    89       78        65  59   \n",
       "10  2020-08      615    567     204     182   105       82        62  42   \n",
       "11  2020-09      621    481     230     220   102       88        56  49   \n",
       "12  2020-10      637    555     232     203    90       52        63  49   \n",
       "\n",
       "    Others  Realme  Google  Nokia  Lenovo  OnePlus  Sony  Asus  \n",
       "0      135      28      39     14      22       17    20    17  \n",
       "1      141      27      29     20      23       10    19    27  \n",
       "2      129      30      20     26      28       18    18    19  \n",
       "3      158      23      13     19      19       22    27    22  \n",
       "4      157      25      18     16      24       18    23    20  \n",
       "5      145      21      16     24      18       31    22    14  \n",
       "6      113      20      23     25      19       19    23    21  \n",
       "7      150      43      27     15      18       19    19    13  \n",
       "8      140      39      16     16      17       29    25    16  \n",
       "9      130      40      27     25      21       18    18    12  \n",
       "10     129      47      16     23      21       27    23    20  \n",
       "11     143      54      14     15      17       15    19    15  \n",
       "12     140      33      17     20      22        9    22    21  "
      ]
     },
     "execution_count": 293,
     "metadata": {},
     "output_type": "execute_result"
    }
   ],
   "source": [
    "df = pd.read_csv('https://raw.githubusercontent.com/guebin/2021DV/master/_notebooks/phone.csv')\n",
    "df"
   ]
  },
  {
   "cell_type": "markdown",
   "id": "9af6641b-469e-4177-99eb-f86fcad341b7",
   "metadata": {},
   "source": [
    "`#`"
   ]
  },
  {
   "cell_type": "markdown",
   "id": "c7137e05-0607-44ee-a8e9-aa0191b28b81",
   "metadata": {},
   "source": [
    "`# 예제2` -- 에너지사용량 "
   ]
  },
  {
   "cell_type": "code",
   "execution_count": 295,
   "id": "ae2cd2ca-d508-4a0f-b63c-0d94fa055675",
   "metadata": {
    "tags": []
   },
   "outputs": [
    {
     "name": "stderr",
     "output_type": "stream",
     "text": [
      "/tmp/ipykernel_3726929/3228750770.py:9: FutureWarning:\n",
      "\n",
      "DataFrame.applymap has been deprecated. Use DataFrame.map instead.\n",
      "\n"
     ]
    },
    {
     "data": {
      "text/html": [
       "<div>\n",
       "<style scoped>\n",
       "    .dataframe tbody tr th:only-of-type {\n",
       "        vertical-align: middle;\n",
       "    }\n",
       "\n",
       "    .dataframe tbody tr th {\n",
       "        vertical-align: top;\n",
       "    }\n",
       "\n",
       "    .dataframe thead th {\n",
       "        text-align: right;\n",
       "    }\n",
       "</style>\n",
       "<table border=\"1\" class=\"dataframe\">\n",
       "  <thead>\n",
       "    <tr style=\"text-align: right;\">\n",
       "      <th></th>\n",
       "      <th>년도</th>\n",
       "      <th>시도</th>\n",
       "      <th>지역</th>\n",
       "      <th>건물동수</th>\n",
       "      <th>연면적</th>\n",
       "      <th>에너지사용량(TOE)/전기</th>\n",
       "      <th>에너지사용량(TOE)/도시가스</th>\n",
       "      <th>에너지사용량(TOE)/지역난방</th>\n",
       "    </tr>\n",
       "  </thead>\n",
       "  <tbody>\n",
       "    <tr>\n",
       "      <th>0</th>\n",
       "      <td>2018</td>\n",
       "      <td>Seoul</td>\n",
       "      <td>종로구</td>\n",
       "      <td>17929</td>\n",
       "      <td>9141777</td>\n",
       "      <td>64818</td>\n",
       "      <td>82015</td>\n",
       "      <td>111</td>\n",
       "    </tr>\n",
       "    <tr>\n",
       "      <th>1</th>\n",
       "      <td>2018</td>\n",
       "      <td>Seoul</td>\n",
       "      <td>중구</td>\n",
       "      <td>10598</td>\n",
       "      <td>10056233</td>\n",
       "      <td>81672</td>\n",
       "      <td>75260</td>\n",
       "      <td>563</td>\n",
       "    </tr>\n",
       "    <tr>\n",
       "      <th>2</th>\n",
       "      <td>2018</td>\n",
       "      <td>Seoul</td>\n",
       "      <td>용산구</td>\n",
       "      <td>17201</td>\n",
       "      <td>10639652</td>\n",
       "      <td>52659</td>\n",
       "      <td>85220</td>\n",
       "      <td>12043</td>\n",
       "    </tr>\n",
       "    <tr>\n",
       "      <th>3</th>\n",
       "      <td>2018</td>\n",
       "      <td>Seoul</td>\n",
       "      <td>성동구</td>\n",
       "      <td>14180</td>\n",
       "      <td>11631770</td>\n",
       "      <td>60559</td>\n",
       "      <td>107416</td>\n",
       "      <td>0</td>\n",
       "    </tr>\n",
       "    <tr>\n",
       "      <th>4</th>\n",
       "      <td>2018</td>\n",
       "      <td>Seoul</td>\n",
       "      <td>광진구</td>\n",
       "      <td>21520</td>\n",
       "      <td>12054796</td>\n",
       "      <td>70609</td>\n",
       "      <td>130308</td>\n",
       "      <td>0</td>\n",
       "    </tr>\n",
       "  </tbody>\n",
       "</table>\n",
       "</div>"
      ],
      "text/plain": [
       "     년도     시도   지역   건물동수       연면적  에너지사용량(TOE)/전기  에너지사용량(TOE)/도시가스  \\\n",
       "0  2018  Seoul  종로구  17929   9141777           64818             82015   \n",
       "1  2018  Seoul   중구  10598  10056233           81672             75260   \n",
       "2  2018  Seoul  용산구  17201  10639652           52659             85220   \n",
       "3  2018  Seoul  성동구  14180  11631770           60559            107416   \n",
       "4  2018  Seoul  광진구  21520  12054796           70609            130308   \n",
       "\n",
       "   에너지사용량(TOE)/지역난방  \n",
       "0               111  \n",
       "1               563  \n",
       "2             12043  \n",
       "3                 0  \n",
       "4                 0  "
      ]
     },
     "execution_count": 295,
     "metadata": {},
     "output_type": "execute_result"
    }
   ],
   "source": [
    "url = 'https://raw.githubusercontent.com/guebin/DV2022/main/posts/Energy/{}.csv'\n",
    "prov = ['Seoul', 'Busan', 'Daegu', 'Incheon', \n",
    "        'Gwangju', 'Daejeon', 'Ulsan', 'Sejongsi', \n",
    "        'Gyeonggi-do', 'Gangwon-do', 'Chungcheongbuk-do', \n",
    "        'Chungcheongnam-do', 'Jeollabuk-do', 'Jeollanam-do', \n",
    "        'Gyeongsangbuk-do', 'Gyeongsangnam-do', 'Jeju-do']\n",
    "df = pd.concat([pd.read_csv(url.format(p+y)).assign(년도=y, 시도=p) for p in prov for y in ['2018', '2019', '2020', '2021']]).reset_index(drop=True)\\\n",
    ".assign(년도 = lambda df: df.년도.astype(int))\\\n",
    ".set_index(['년도','시도','지역']).applymap(lambda x: int(str(x).replace(',','')))\\\n",
    ".reset_index()\n",
    "df.head()"
   ]
  },
  {
   "cell_type": "markdown",
   "id": "b5102828-34f5-4b72-b660-b62f21be5bd0",
   "metadata": {},
   "source": [
    "---"
   ]
  },
  {
   "cell_type": "markdown",
   "id": "d538e821-5876-4f95-9854-42a6d7ef0f95",
   "metadata": {},
   "source": [
    "***간단한 미세조정***"
   ]
  },
  {
   "cell_type": "code",
   "execution_count": 359,
   "id": "bdbb7896-188e-439c-9450-f81d00224eca",
   "metadata": {
    "tags": []
   },
   "outputs": [
    {
     "data": {
      "application/vnd.plotly.v1+json": {
       "config": {
        "plotlyServerURL": "https://plot.ly"
       },
       "data": [
        {
         "fillpattern": {
          "shape": ""
         },
         "hovertemplate": "시도=Busan<br>에너지종류=도시가스<br>년도=%{x}<br>에너지사용량=%{y}<extra></extra>",
         "legendgroup": "Busan",
         "line": {
          "color": "#636efa"
         },
         "marker": {
          "symbol": "circle"
         },
         "mode": "lines",
         "name": "Busan",
         "orientation": "v",
         "showlegend": true,
         "stackgroup": "1",
         "type": "scatter",
         "x": [
          2018,
          2019,
          2020,
          2021
         ],
         "xaxis": "x",
         "y": [
          708240,
          675882,
          690015,
          878874
         ],
         "yaxis": "y"
        },
        {
         "fillpattern": {
          "shape": ""
         },
         "hovertemplate": "시도=Busan<br>에너지종류=전기<br>년도=%{x}<br>에너지사용량=%{y}<extra></extra>",
         "legendgroup": "Busan",
         "line": {
          "color": "#636efa"
         },
         "marker": {
          "symbol": "circle"
         },
         "mode": "lines",
         "name": "Busan",
         "orientation": "v",
         "showlegend": false,
         "stackgroup": "1",
         "type": "scatter",
         "x": [
          2018,
          2019,
          2020,
          2021
         ],
         "xaxis": "x2",
         "y": [
          613522,
          602980,
          601071,
          1043425
         ],
         "yaxis": "y2"
        },
        {
         "fillpattern": {
          "shape": ""
         },
         "hovertemplate": "시도=Busan<br>에너지종류=지역난방<br>년도=%{x}<br>에너지사용량=%{y}<extra></extra>",
         "legendgroup": "Busan",
         "line": {
          "color": "#636efa"
         },
         "marker": {
          "symbol": "circle"
         },
         "mode": "lines",
         "name": "Busan",
         "orientation": "v",
         "showlegend": false,
         "stackgroup": "1",
         "type": "scatter",
         "x": [
          2018,
          2019,
          2020,
          2021
         ],
         "xaxis": "x3",
         "y": [
          23694,
          22560,
          23014,
          29610
         ],
         "yaxis": "y3"
        },
        {
         "fillpattern": {
          "shape": ""
         },
         "hovertemplate": "시도=Chungcheongbuk-do<br>에너지종류=도시가스<br>년도=%{x}<br>에너지사용량=%{y}<extra></extra>",
         "legendgroup": "Chungcheongbuk-do",
         "line": {
          "color": "#EF553B"
         },
         "marker": {
          "symbol": "circle"
         },
         "mode": "lines",
         "name": "Chungcheongbuk-do",
         "orientation": "v",
         "showlegend": true,
         "stackgroup": "1",
         "type": "scatter",
         "x": [
          2018,
          2019,
          2020,
          2021
         ],
         "xaxis": "x",
         "y": [
          288927,
          291981,
          294442,
          308636
         ],
         "yaxis": "y"
        },
        {
         "fillpattern": {
          "shape": ""
         },
         "hovertemplate": "시도=Chungcheongbuk-do<br>에너지종류=전기<br>년도=%{x}<br>에너지사용량=%{y}<extra></extra>",
         "legendgroup": "Chungcheongbuk-do",
         "line": {
          "color": "#EF553B"
         },
         "marker": {
          "symbol": "circle"
         },
         "mode": "lines",
         "name": "Chungcheongbuk-do",
         "orientation": "v",
         "showlegend": false,
         "stackgroup": "1",
         "type": "scatter",
         "x": [
          2018,
          2019,
          2020,
          2021
         ],
         "xaxis": "x2",
         "y": [
          361490,
          351235,
          347927,
          352396
         ],
         "yaxis": "y2"
        },
        {
         "fillpattern": {
          "shape": ""
         },
         "hovertemplate": "시도=Chungcheongbuk-do<br>에너지종류=지역난방<br>년도=%{x}<br>에너지사용량=%{y}<extra></extra>",
         "legendgroup": "Chungcheongbuk-do",
         "line": {
          "color": "#EF553B"
         },
         "marker": {
          "symbol": "circle"
         },
         "mode": "lines",
         "name": "Chungcheongbuk-do",
         "orientation": "v",
         "showlegend": false,
         "stackgroup": "1",
         "type": "scatter",
         "x": [
          2018,
          2019,
          2020,
          2021
         ],
         "xaxis": "x3",
         "y": [
          55002,
          52319,
          52738,
          56969
         ],
         "yaxis": "y3"
        },
        {
         "fillpattern": {
          "shape": ""
         },
         "hovertemplate": "시도=Chungcheongnam-do<br>에너지종류=도시가스<br>년도=%{x}<br>에너지사용량=%{y}<extra></extra>",
         "legendgroup": "Chungcheongnam-do",
         "line": {
          "color": "#00cc96"
         },
         "marker": {
          "symbol": "circle"
         },
         "mode": "lines",
         "name": "Chungcheongnam-do",
         "orientation": "v",
         "showlegend": true,
         "stackgroup": "1",
         "type": "scatter",
         "x": [
          2018,
          2019,
          2020,
          2021
         ],
         "xaxis": "x",
         "y": [
          420315,
          419425,
          432268,
          445737
         ],
         "yaxis": "y"
        },
        {
         "fillpattern": {
          "shape": ""
         },
         "hovertemplate": "시도=Chungcheongnam-do<br>에너지종류=전기<br>년도=%{x}<br>에너지사용량=%{y}<extra></extra>",
         "legendgroup": "Chungcheongnam-do",
         "line": {
          "color": "#00cc96"
         },
         "marker": {
          "symbol": "circle"
         },
         "mode": "lines",
         "name": "Chungcheongnam-do",
         "orientation": "v",
         "showlegend": false,
         "stackgroup": "1",
         "type": "scatter",
         "x": [
          2018,
          2019,
          2020,
          2021
         ],
         "xaxis": "x2",
         "y": [
          456260,
          444046,
          440752,
          454891
         ],
         "yaxis": "y2"
        },
        {
         "fillpattern": {
          "shape": ""
         },
         "hovertemplate": "시도=Chungcheongnam-do<br>에너지종류=지역난방<br>년도=%{x}<br>에너지사용량=%{y}<extra></extra>",
         "legendgroup": "Chungcheongnam-do",
         "line": {
          "color": "#00cc96"
         },
         "marker": {
          "symbol": "circle"
         },
         "mode": "lines",
         "name": "Chungcheongnam-do",
         "orientation": "v",
         "showlegend": false,
         "stackgroup": "1",
         "type": "scatter",
         "x": [
          2018,
          2019,
          2020,
          2021
         ],
         "xaxis": "x3",
         "y": [
          24286,
          25020,
          23793,
          26053
         ],
         "yaxis": "y3"
        },
        {
         "fillpattern": {
          "shape": ""
         },
         "hovertemplate": "시도=Daegu<br>에너지종류=도시가스<br>년도=%{x}<br>에너지사용량=%{y}<extra></extra>",
         "legendgroup": "Daegu",
         "line": {
          "color": "#ab63fa"
         },
         "marker": {
          "symbol": "circle"
         },
         "mode": "lines",
         "name": "Daegu",
         "orientation": "v",
         "showlegend": true,
         "stackgroup": "1",
         "type": "scatter",
         "x": [
          2018,
          2019,
          2020,
          2021
         ],
         "xaxis": "x",
         "y": [
          599115,
          575501,
          588308,
          622144
         ],
         "yaxis": "y"
        },
        {
         "fillpattern": {
          "shape": ""
         },
         "hovertemplate": "시도=Daegu<br>에너지종류=전기<br>년도=%{x}<br>에너지사용량=%{y}<extra></extra>",
         "legendgroup": "Daegu",
         "line": {
          "color": "#ab63fa"
         },
         "marker": {
          "symbol": "circle"
         },
         "mode": "lines",
         "name": "Daegu",
         "orientation": "v",
         "showlegend": false,
         "stackgroup": "1",
         "type": "scatter",
         "x": [
          2018,
          2019,
          2020,
          2021
         ],
         "xaxis": "x2",
         "y": [
          457556,
          445745,
          447380,
          451326
         ],
         "yaxis": "y2"
        },
        {
         "fillpattern": {
          "shape": ""
         },
         "hovertemplate": "시도=Daegu<br>에너지종류=지역난방<br>년도=%{x}<br>에너지사용량=%{y}<extra></extra>",
         "legendgroup": "Daegu",
         "line": {
          "color": "#ab63fa"
         },
         "marker": {
          "symbol": "circle"
         },
         "mode": "lines",
         "name": "Daegu",
         "orientation": "v",
         "showlegend": false,
         "stackgroup": "1",
         "type": "scatter",
         "x": [
          2018,
          2019,
          2020,
          2021
         ],
         "xaxis": "x3",
         "y": [
          77399,
          74121,
          78163,
          78619
         ],
         "yaxis": "y3"
        },
        {
         "fillpattern": {
          "shape": ""
         },
         "hovertemplate": "시도=Daejeon<br>에너지종류=도시가스<br>년도=%{x}<br>에너지사용량=%{y}<extra></extra>",
         "legendgroup": "Daejeon",
         "line": {
          "color": "#FFA15A"
         },
         "marker": {
          "symbol": "circle"
         },
         "mode": "lines",
         "name": "Daejeon",
         "orientation": "v",
         "showlegend": true,
         "stackgroup": "1",
         "type": "scatter",
         "x": [
          2018,
          2019,
          2020,
          2021
         ],
         "xaxis": "x",
         "y": [
          379571,
          364911,
          359731,
          366855
         ],
         "yaxis": "y"
        },
        {
         "fillpattern": {
          "shape": ""
         },
         "hovertemplate": "시도=Daejeon<br>에너지종류=전기<br>년도=%{x}<br>에너지사용량=%{y}<extra></extra>",
         "legendgroup": "Daejeon",
         "line": {
          "color": "#FFA15A"
         },
         "marker": {
          "symbol": "circle"
         },
         "mode": "lines",
         "name": "Daejeon",
         "orientation": "v",
         "showlegend": false,
         "stackgroup": "1",
         "type": "scatter",
         "x": [
          2018,
          2019,
          2020,
          2021
         ],
         "xaxis": "x2",
         "y": [
          309660,
          302359,
          300984,
          308426
         ],
         "yaxis": "y2"
        },
        {
         "fillpattern": {
          "shape": ""
         },
         "hovertemplate": "시도=Daejeon<br>에너지종류=지역난방<br>년도=%{x}<br>에너지사용량=%{y}<extra></extra>",
         "legendgroup": "Daejeon",
         "line": {
          "color": "#FFA15A"
         },
         "marker": {
          "symbol": "circle"
         },
         "mode": "lines",
         "name": "Daejeon",
         "orientation": "v",
         "showlegend": false,
         "stackgroup": "1",
         "type": "scatter",
         "x": [
          2018,
          2019,
          2020,
          2021
         ],
         "xaxis": "x3",
         "y": [
          51341,
          49110,
          49733,
          49542
         ],
         "yaxis": "y3"
        },
        {
         "fillpattern": {
          "shape": ""
         },
         "hovertemplate": "시도=Gangwon-do<br>에너지종류=도시가스<br>년도=%{x}<br>에너지사용량=%{y}<extra></extra>",
         "legendgroup": "Gangwon-do",
         "line": {
          "color": "#19d3f3"
         },
         "marker": {
          "symbol": "circle"
         },
         "mode": "lines",
         "name": "Gangwon-do",
         "orientation": "v",
         "showlegend": true,
         "stackgroup": "1",
         "type": "scatter",
         "x": [
          2018,
          2019,
          2020,
          2021
         ],
         "xaxis": "x",
         "y": [
          249963,
          248760,
          254269,
          279214
         ],
         "yaxis": "y"
        },
        {
         "fillpattern": {
          "shape": ""
         },
         "hovertemplate": "시도=Gangwon-do<br>에너지종류=전기<br>년도=%{x}<br>에너지사용량=%{y}<extra></extra>",
         "legendgroup": "Gangwon-do",
         "line": {
          "color": "#19d3f3"
         },
         "marker": {
          "symbol": "circle"
         },
         "mode": "lines",
         "name": "Gangwon-do",
         "orientation": "v",
         "showlegend": false,
         "stackgroup": "1",
         "type": "scatter",
         "x": [
          2018,
          2019,
          2020,
          2021
         ],
         "xaxis": "x2",
         "y": [
          386183,
          370390,
          365168,
          369819
         ],
         "yaxis": "y2"
        },
        {
         "fillpattern": {
          "shape": ""
         },
         "hovertemplate": "시도=Gangwon-do<br>에너지종류=지역난방<br>년도=%{x}<br>에너지사용량=%{y}<extra></extra>",
         "legendgroup": "Gangwon-do",
         "line": {
          "color": "#19d3f3"
         },
         "marker": {
          "symbol": "circle"
         },
         "mode": "lines",
         "name": "Gangwon-do",
         "orientation": "v",
         "showlegend": false,
         "stackgroup": "1",
         "type": "scatter",
         "x": [
          2018,
          2019,
          2020,
          2021
         ],
         "xaxis": "x3",
         "y": [
          0,
          0,
          0,
          0
         ],
         "yaxis": "y3"
        },
        {
         "fillpattern": {
          "shape": ""
         },
         "hovertemplate": "시도=Gwangju<br>에너지종류=도시가스<br>년도=%{x}<br>에너지사용량=%{y}<extra></extra>",
         "legendgroup": "Gwangju",
         "line": {
          "color": "#FF6692"
         },
         "marker": {
          "symbol": "circle"
         },
         "mode": "lines",
         "name": "Gwangju",
         "orientation": "v",
         "showlegend": true,
         "stackgroup": "1",
         "type": "scatter",
         "x": [
          2018,
          2019,
          2020,
          2021
         ],
         "xaxis": "x",
         "y": [
          398455,
          394389,
          398346,
          408111
         ],
         "yaxis": "y"
        },
        {
         "fillpattern": {
          "shape": ""
         },
         "hovertemplate": "시도=Gwangju<br>에너지종류=전기<br>년도=%{x}<br>에너지사용량=%{y}<extra></extra>",
         "legendgroup": "Gwangju",
         "line": {
          "color": "#FF6692"
         },
         "marker": {
          "symbol": "circle"
         },
         "mode": "lines",
         "name": "Gwangju",
         "orientation": "v",
         "showlegend": false,
         "stackgroup": "1",
         "type": "scatter",
         "x": [
          2018,
          2019,
          2020,
          2021
         ],
         "xaxis": "x2",
         "y": [
          288191,
          285831,
          287894,
          292585
         ],
         "yaxis": "y2"
        },
        {
         "fillpattern": {
          "shape": ""
         },
         "hovertemplate": "시도=Gwangju<br>에너지종류=지역난방<br>년도=%{x}<br>에너지사용량=%{y}<extra></extra>",
         "legendgroup": "Gwangju",
         "line": {
          "color": "#FF6692"
         },
         "marker": {
          "symbol": "circle"
         },
         "mode": "lines",
         "name": "Gwangju",
         "orientation": "v",
         "showlegend": false,
         "stackgroup": "1",
         "type": "scatter",
         "x": [
          2018,
          2019,
          2020,
          2021
         ],
         "xaxis": "x3",
         "y": [
          26218,
          25927,
          27152,
          27123
         ],
         "yaxis": "y3"
        },
        {
         "fillpattern": {
          "shape": ""
         },
         "hovertemplate": "시도=Gyeonggi-do<br>에너지종류=도시가스<br>년도=%{x}<br>에너지사용량=%{y}<extra></extra>",
         "legendgroup": "Gyeonggi-do",
         "line": {
          "color": "#B6E880"
         },
         "marker": {
          "symbol": "circle"
         },
         "mode": "lines",
         "name": "Gyeonggi-do",
         "orientation": "v",
         "showlegend": true,
         "stackgroup": "1",
         "type": "scatter",
         "x": [
          2018,
          2019,
          2020,
          2021
         ],
         "xaxis": "x",
         "y": [
          2661798,
          2548103,
          2560301,
          2613780
         ],
         "yaxis": "y"
        },
        {
         "fillpattern": {
          "shape": ""
         },
         "hovertemplate": "시도=Gyeonggi-do<br>에너지종류=전기<br>년도=%{x}<br>에너지사용량=%{y}<extra></extra>",
         "legendgroup": "Gyeonggi-do",
         "line": {
          "color": "#B6E880"
         },
         "marker": {
          "symbol": "circle"
         },
         "mode": "lines",
         "name": "Gyeonggi-do",
         "orientation": "v",
         "showlegend": false,
         "stackgroup": "1",
         "type": "scatter",
         "x": [
          2018,
          2019,
          2020,
          2021
         ],
         "xaxis": "x2",
         "y": [
          2264803,
          2236781,
          2250687,
          2332201
         ],
         "yaxis": "y2"
        },
        {
         "fillpattern": {
          "shape": ""
         },
         "hovertemplate": "시도=Gyeonggi-do<br>에너지종류=지역난방<br>년도=%{x}<br>에너지사용량=%{y}<extra></extra>",
         "legendgroup": "Gyeonggi-do",
         "line": {
          "color": "#B6E880"
         },
         "marker": {
          "symbol": "circle"
         },
         "mode": "lines",
         "name": "Gyeonggi-do",
         "orientation": "v",
         "showlegend": false,
         "stackgroup": "1",
         "type": "scatter",
         "x": [
          2018,
          2019,
          2020,
          2021
         ],
         "xaxis": "x3",
         "y": [
          1055451,
          1050012,
          1097239,
          1148709
         ],
         "yaxis": "y3"
        },
        {
         "fillpattern": {
          "shape": ""
         },
         "hovertemplate": "시도=Gyeongsangbuk-do<br>에너지종류=도시가스<br>년도=%{x}<br>에너지사용량=%{y}<extra></extra>",
         "legendgroup": "Gyeongsangbuk-do",
         "line": {
          "color": "#FF97FF"
         },
         "marker": {
          "symbol": "circle"
         },
         "mode": "lines",
         "name": "Gyeongsangbuk-do",
         "orientation": "v",
         "showlegend": true,
         "stackgroup": "1",
         "type": "scatter",
         "x": [
          2018,
          2019,
          2020,
          2021
         ],
         "xaxis": "x",
         "y": [
          514188,
          486651,
          512869,
          522559
         ],
         "yaxis": "y"
        },
        {
         "fillpattern": {
          "shape": ""
         },
         "hovertemplate": "시도=Gyeongsangbuk-do<br>에너지종류=전기<br>년도=%{x}<br>에너지사용량=%{y}<extra></extra>",
         "legendgroup": "Gyeongsangbuk-do",
         "line": {
          "color": "#FF97FF"
         },
         "marker": {
          "symbol": "circle"
         },
         "mode": "lines",
         "name": "Gyeongsangbuk-do",
         "orientation": "v",
         "showlegend": false,
         "stackgroup": "1",
         "type": "scatter",
         "x": [
          2018,
          2019,
          2020,
          2021
         ],
         "xaxis": "x2",
         "y": [
          521896,
          505723,
          504694,
          513491
         ],
         "yaxis": "y2"
        },
        {
         "fillpattern": {
          "shape": ""
         },
         "hovertemplate": "시도=Gyeongsangbuk-do<br>에너지종류=지역난방<br>년도=%{x}<br>에너지사용량=%{y}<extra></extra>",
         "legendgroup": "Gyeongsangbuk-do",
         "line": {
          "color": "#FF97FF"
         },
         "marker": {
          "symbol": "circle"
         },
         "mode": "lines",
         "name": "Gyeongsangbuk-do",
         "orientation": "v",
         "showlegend": false,
         "stackgroup": "1",
         "type": "scatter",
         "x": [
          2018,
          2019,
          2020,
          2021
         ],
         "xaxis": "x3",
         "y": [
          8498,
          8545,
          8680,
          8906
         ],
         "yaxis": "y3"
        },
        {
         "fillpattern": {
          "shape": ""
         },
         "hovertemplate": "시도=Gyeongsangnam-do<br>에너지종류=도시가스<br>년도=%{x}<br>에너지사용량=%{y}<extra></extra>",
         "legendgroup": "Gyeongsangnam-do",
         "line": {
          "color": "#FECB52"
         },
         "marker": {
          "symbol": "circle"
         },
         "mode": "lines",
         "name": "Gyeongsangnam-do",
         "orientation": "v",
         "showlegend": true,
         "stackgroup": "1",
         "type": "scatter",
         "x": [
          2018,
          2019,
          2020,
          2021
         ],
         "xaxis": "x",
         "y": [
          568524,
          560198,
          581401,
          598389
         ],
         "yaxis": "y"
        },
        {
         "fillpattern": {
          "shape": ""
         },
         "hovertemplate": "시도=Gyeongsangnam-do<br>에너지종류=전기<br>년도=%{x}<br>에너지사용량=%{y}<extra></extra>",
         "legendgroup": "Gyeongsangnam-do",
         "line": {
          "color": "#FECB52"
         },
         "marker": {
          "symbol": "circle"
         },
         "mode": "lines",
         "name": "Gyeongsangnam-do",
         "orientation": "v",
         "showlegend": false,
         "stackgroup": "1",
         "type": "scatter",
         "x": [
          2018,
          2019,
          2020,
          2021
         ],
         "xaxis": "x2",
         "y": [
          622126,
          609041,
          608268,
          611001
         ],
         "yaxis": "y2"
        },
        {
         "fillpattern": {
          "shape": ""
         },
         "hovertemplate": "시도=Gyeongsangnam-do<br>에너지종류=지역난방<br>년도=%{x}<br>에너지사용량=%{y}<extra></extra>",
         "legendgroup": "Gyeongsangnam-do",
         "line": {
          "color": "#FECB52"
         },
         "marker": {
          "symbol": "circle"
         },
         "mode": "lines",
         "name": "Gyeongsangnam-do",
         "orientation": "v",
         "showlegend": false,
         "stackgroup": "1",
         "type": "scatter",
         "x": [
          2018,
          2019,
          2020,
          2021
         ],
         "xaxis": "x3",
         "y": [
          48115,
          47458,
          49952,
          54323
         ],
         "yaxis": "y3"
        },
        {
         "fillpattern": {
          "shape": ""
         },
         "hovertemplate": "시도=Incheon<br>에너지종류=도시가스<br>년도=%{x}<br>에너지사용량=%{y}<extra></extra>",
         "legendgroup": "Incheon",
         "line": {
          "color": "#636efa"
         },
         "marker": {
          "symbol": "circle"
         },
         "mode": "lines",
         "name": "Incheon",
         "orientation": "v",
         "showlegend": true,
         "stackgroup": "1",
         "type": "scatter",
         "x": [
          2018,
          2019,
          2020,
          2021
         ],
         "xaxis": "x",
         "y": [
          690058,
          651129,
          647800,
          656265
         ],
         "yaxis": "y"
        },
        {
         "fillpattern": {
          "shape": ""
         },
         "hovertemplate": "시도=Incheon<br>에너지종류=전기<br>년도=%{x}<br>에너지사용량=%{y}<extra></extra>",
         "legendgroup": "Incheon",
         "line": {
          "color": "#636efa"
         },
         "marker": {
          "symbol": "circle"
         },
         "mode": "lines",
         "name": "Incheon",
         "orientation": "v",
         "showlegend": false,
         "stackgroup": "1",
         "type": "scatter",
         "x": [
          2018,
          2019,
          2020,
          2021
         ],
         "xaxis": "x2",
         "y": [
          500591,
          492754,
          489258,
          505623
         ],
         "yaxis": "y2"
        },
        {
         "fillpattern": {
          "shape": ""
         },
         "hovertemplate": "시도=Incheon<br>에너지종류=지역난방<br>년도=%{x}<br>에너지사용량=%{y}<extra></extra>",
         "legendgroup": "Incheon",
         "line": {
          "color": "#636efa"
         },
         "marker": {
          "symbol": "circle"
         },
         "mode": "lines",
         "name": "Incheon",
         "orientation": "v",
         "showlegend": false,
         "stackgroup": "1",
         "type": "scatter",
         "x": [
          2018,
          2019,
          2020,
          2021
         ],
         "xaxis": "x3",
         "y": [
          173269,
          162113,
          166367,
          178722
         ],
         "yaxis": "y3"
        },
        {
         "fillpattern": {
          "shape": ""
         },
         "hovertemplate": "시도=Jeju-do<br>에너지종류=도시가스<br>년도=%{x}<br>에너지사용량=%{y}<extra></extra>",
         "legendgroup": "Jeju-do",
         "line": {
          "color": "#EF553B"
         },
         "marker": {
          "symbol": "circle"
         },
         "mode": "lines",
         "name": "Jeju-do",
         "orientation": "v",
         "showlegend": true,
         "stackgroup": "1",
         "type": "scatter",
         "x": [
          2018,
          2019,
          2020,
          2021
         ],
         "xaxis": "x",
         "y": [
          17593,
          15443,
          23818,
          28330
         ],
         "yaxis": "y"
        },
        {
         "fillpattern": {
          "shape": ""
         },
         "hovertemplate": "시도=Jeju-do<br>에너지종류=전기<br>년도=%{x}<br>에너지사용량=%{y}<extra></extra>",
         "legendgroup": "Jeju-do",
         "line": {
          "color": "#EF553B"
         },
         "marker": {
          "symbol": "circle"
         },
         "mode": "lines",
         "name": "Jeju-do",
         "orientation": "v",
         "showlegend": false,
         "stackgroup": "1",
         "type": "scatter",
         "x": [
          2018,
          2019,
          2020,
          2021
         ],
         "xaxis": "x2",
         "y": [
          129862,
          130855,
          134722,
          141101
         ],
         "yaxis": "y2"
        },
        {
         "fillpattern": {
          "shape": ""
         },
         "hovertemplate": "시도=Jeju-do<br>에너지종류=지역난방<br>년도=%{x}<br>에너지사용량=%{y}<extra></extra>",
         "legendgroup": "Jeju-do",
         "line": {
          "color": "#EF553B"
         },
         "marker": {
          "symbol": "circle"
         },
         "mode": "lines",
         "name": "Jeju-do",
         "orientation": "v",
         "showlegend": false,
         "stackgroup": "1",
         "type": "scatter",
         "x": [
          2018,
          2019,
          2020,
          2021
         ],
         "xaxis": "x3",
         "y": [
          0,
          0,
          0,
          0
         ],
         "yaxis": "y3"
        },
        {
         "fillpattern": {
          "shape": ""
         },
         "hovertemplate": "시도=Jeollabuk-do<br>에너지종류=도시가스<br>년도=%{x}<br>에너지사용량=%{y}<extra></extra>",
         "legendgroup": "Jeollabuk-do",
         "line": {
          "color": "#00cc96"
         },
         "marker": {
          "symbol": "circle"
         },
         "mode": "lines",
         "name": "Jeollabuk-do",
         "orientation": "v",
         "showlegend": true,
         "stackgroup": "1",
         "type": "scatter",
         "x": [
          2018,
          2019,
          2020,
          2021
         ],
         "xaxis": "x",
         "y": [
          384263,
          376818,
          396014,
          403399
         ],
         "yaxis": "y"
        },
        {
         "fillpattern": {
          "shape": ""
         },
         "hovertemplate": "시도=Jeollabuk-do<br>에너지종류=전기<br>년도=%{x}<br>에너지사용량=%{y}<extra></extra>",
         "legendgroup": "Jeollabuk-do",
         "line": {
          "color": "#00cc96"
         },
         "marker": {
          "symbol": "circle"
         },
         "mode": "lines",
         "name": "Jeollabuk-do",
         "orientation": "v",
         "showlegend": false,
         "stackgroup": "1",
         "type": "scatter",
         "x": [
          2018,
          2019,
          2020,
          2021
         ],
         "xaxis": "x2",
         "y": [
          356715,
          350862,
          351573,
          357058
         ],
         "yaxis": "y2"
        },
        {
         "fillpattern": {
          "shape": ""
         },
         "hovertemplate": "시도=Jeollabuk-do<br>에너지종류=지역난방<br>년도=%{x}<br>에너지사용량=%{y}<extra></extra>",
         "legendgroup": "Jeollabuk-do",
         "line": {
          "color": "#00cc96"
         },
         "marker": {
          "symbol": "circle"
         },
         "mode": "lines",
         "name": "Jeollabuk-do",
         "orientation": "v",
         "showlegend": false,
         "stackgroup": "1",
         "type": "scatter",
         "x": [
          2018,
          2019,
          2020,
          2021
         ],
         "xaxis": "x3",
         "y": [
          4098,
          4433,
          4521,
          4321
         ],
         "yaxis": "y3"
        },
        {
         "fillpattern": {
          "shape": ""
         },
         "hovertemplate": "시도=Jeollanam-do<br>에너지종류=도시가스<br>년도=%{x}<br>에너지사용량=%{y}<extra></extra>",
         "legendgroup": "Jeollanam-do",
         "line": {
          "color": "#ab63fa"
         },
         "marker": {
          "symbol": "circle"
         },
         "mode": "lines",
         "name": "Jeollanam-do",
         "orientation": "v",
         "showlegend": true,
         "stackgroup": "1",
         "type": "scatter",
         "x": [
          2018,
          2019,
          2020,
          2021
         ],
         "xaxis": "x",
         "y": [
          249552,
          252357,
          270252,
          281895
         ],
         "yaxis": "y"
        },
        {
         "fillpattern": {
          "shape": ""
         },
         "hovertemplate": "시도=Jeollanam-do<br>에너지종류=전기<br>년도=%{x}<br>에너지사용량=%{y}<extra></extra>",
         "legendgroup": "Jeollanam-do",
         "line": {
          "color": "#ab63fa"
         },
         "marker": {
          "symbol": "circle"
         },
         "mode": "lines",
         "name": "Jeollanam-do",
         "orientation": "v",
         "showlegend": false,
         "stackgroup": "1",
         "type": "scatter",
         "x": [
          2018,
          2019,
          2020,
          2021
         ],
         "xaxis": "x2",
         "y": [
          338234,
          330685,
          334805,
          338032
         ],
         "yaxis": "y2"
        },
        {
         "fillpattern": {
          "shape": ""
         },
         "hovertemplate": "시도=Jeollanam-do<br>에너지종류=지역난방<br>년도=%{x}<br>에너지사용량=%{y}<extra></extra>",
         "legendgroup": "Jeollanam-do",
         "line": {
          "color": "#ab63fa"
         },
         "marker": {
          "symbol": "circle"
         },
         "mode": "lines",
         "name": "Jeollanam-do",
         "orientation": "v",
         "showlegend": false,
         "stackgroup": "1",
         "type": "scatter",
         "x": [
          2018,
          2019,
          2020,
          2021
         ],
         "xaxis": "x3",
         "y": [
          6976,
          7690,
          8358,
          9012
         ],
         "yaxis": "y3"
        },
        {
         "fillpattern": {
          "shape": ""
         },
         "hovertemplate": "시도=Sejongsi<br>에너지종류=도시가스<br>년도=%{x}<br>에너지사용량=%{y}<extra></extra>",
         "legendgroup": "Sejongsi",
         "line": {
          "color": "#FFA15A"
         },
         "marker": {
          "symbol": "circle"
         },
         "mode": "lines",
         "name": "Sejongsi",
         "orientation": "v",
         "showlegend": true,
         "stackgroup": "1",
         "type": "scatter",
         "x": [
          2018,
          2019,
          2020,
          2021
         ],
         "xaxis": "x",
         "y": [
          28287,
          28552,
          29299,
          30533
         ],
         "yaxis": "y"
        },
        {
         "fillpattern": {
          "shape": ""
         },
         "hovertemplate": "시도=Sejongsi<br>에너지종류=전기<br>년도=%{x}<br>에너지사용량=%{y}<extra></extra>",
         "legendgroup": "Sejongsi",
         "line": {
          "color": "#FFA15A"
         },
         "marker": {
          "symbol": "circle"
         },
         "mode": "lines",
         "name": "Sejongsi",
         "orientation": "v",
         "showlegend": false,
         "stackgroup": "1",
         "type": "scatter",
         "x": [
          2018,
          2019,
          2020,
          2021
         ],
         "xaxis": "x2",
         "y": [
          60932,
          64564,
          67545,
          70915
         ],
         "yaxis": "y2"
        },
        {
         "fillpattern": {
          "shape": ""
         },
         "hovertemplate": "시도=Sejongsi<br>에너지종류=지역난방<br>년도=%{x}<br>에너지사용량=%{y}<extra></extra>",
         "legendgroup": "Sejongsi",
         "line": {
          "color": "#FFA15A"
         },
         "marker": {
          "symbol": "circle"
         },
         "mode": "lines",
         "name": "Sejongsi",
         "orientation": "v",
         "showlegend": false,
         "stackgroup": "1",
         "type": "scatter",
         "x": [
          2018,
          2019,
          2020,
          2021
         ],
         "xaxis": "x3",
         "y": [
          48571,
          53830,
          56312,
          61404
         ],
         "yaxis": "y3"
        },
        {
         "fillpattern": {
          "shape": ""
         },
         "hovertemplate": "시도=Seoul<br>에너지종류=도시가스<br>년도=%{x}<br>에너지사용량=%{y}<extra></extra>",
         "legendgroup": "Seoul",
         "line": {
          "color": "#19d3f3"
         },
         "marker": {
          "symbol": "circle"
         },
         "mode": "lines",
         "name": "Seoul",
         "orientation": "v",
         "showlegend": true,
         "stackgroup": "1",
         "type": "scatter",
         "x": [
          2018,
          2019,
          2020,
          2021
         ],
         "xaxis": "x",
         "y": [
          2981811,
          2801571,
          2763442,
          3617731
         ],
         "yaxis": "y"
        },
        {
         "fillpattern": {
          "shape": ""
         },
         "hovertemplate": "시도=Seoul<br>에너지종류=전기<br>년도=%{x}<br>에너지사용량=%{y}<extra></extra>",
         "legendgroup": "Seoul",
         "line": {
          "color": "#19d3f3"
         },
         "marker": {
          "symbol": "circle"
         },
         "mode": "lines",
         "name": "Seoul",
         "orientation": "v",
         "showlegend": false,
         "stackgroup": "1",
         "type": "scatter",
         "x": [
          2018,
          2019,
          2020,
          2021
         ],
         "xaxis": "x2",
         "y": [
          1990158,
          1945093,
          1910076,
          3486022
         ],
         "yaxis": "y2"
        },
        {
         "fillpattern": {
          "shape": ""
         },
         "hovertemplate": "시도=Seoul<br>에너지종류=지역난방<br>년도=%{x}<br>에너지사용량=%{y}<extra></extra>",
         "legendgroup": "Seoul",
         "line": {
          "color": "#19d3f3"
         },
         "marker": {
          "symbol": "circle"
         },
         "mode": "lines",
         "name": "Seoul",
         "orientation": "v",
         "showlegend": false,
         "stackgroup": "1",
         "type": "scatter",
         "x": [
          2018,
          2019,
          2020,
          2021
         ],
         "xaxis": "x3",
         "y": [
          441318,
          426320,
          435707,
          546491
         ],
         "yaxis": "y3"
        },
        {
         "fillpattern": {
          "shape": ""
         },
         "hovertemplate": "시도=Ulsan<br>에너지종류=도시가스<br>년도=%{x}<br>에너지사용량=%{y}<extra></extra>",
         "legendgroup": "Ulsan",
         "line": {
          "color": "#FF6692"
         },
         "marker": {
          "symbol": "circle"
         },
         "mode": "lines",
         "name": "Ulsan",
         "orientation": "v",
         "showlegend": true,
         "stackgroup": "1",
         "type": "scatter",
         "x": [
          2018,
          2019,
          2020,
          2021
         ],
         "xaxis": "x",
         "y": [
          315510,
          298611,
          306896,
          312276
         ],
         "yaxis": "y"
        },
        {
         "fillpattern": {
          "shape": ""
         },
         "hovertemplate": "시도=Ulsan<br>에너지종류=전기<br>년도=%{x}<br>에너지사용량=%{y}<extra></extra>",
         "legendgroup": "Ulsan",
         "line": {
          "color": "#FF6692"
         },
         "marker": {
          "symbol": "circle"
         },
         "mode": "lines",
         "name": "Ulsan",
         "orientation": "v",
         "showlegend": false,
         "stackgroup": "1",
         "type": "scatter",
         "x": [
          2018,
          2019,
          2020,
          2021
         ],
         "xaxis": "x2",
         "y": [
          197002,
          192580,
          193846,
          196412
         ],
         "yaxis": "y2"
        },
        {
         "fillpattern": {
          "shape": ""
         },
         "hovertemplate": "시도=Ulsan<br>에너지종류=지역난방<br>년도=%{x}<br>에너지사용량=%{y}<extra></extra>",
         "legendgroup": "Ulsan",
         "line": {
          "color": "#FF6692"
         },
         "marker": {
          "symbol": "circle"
         },
         "mode": "lines",
         "name": "Ulsan",
         "orientation": "v",
         "showlegend": false,
         "stackgroup": "1",
         "type": "scatter",
         "x": [
          2018,
          2019,
          2020,
          2021
         ],
         "xaxis": "x3",
         "y": [
          0,
          0,
          0,
          0
         ],
         "yaxis": "y3"
        }
       ],
       "layout": {
        "annotations": [
         {
          "font": {},
          "showarrow": false,
          "text": "에너지종류=도시가스",
          "x": 0.15999999999999998,
          "xanchor": "center",
          "xref": "paper",
          "y": 1,
          "yanchor": "bottom",
          "yref": "paper"
         },
         {
          "font": {},
          "showarrow": false,
          "text": "에너지종류=전기",
          "x": 0.49999999999999994,
          "xanchor": "center",
          "xref": "paper",
          "y": 1,
          "yanchor": "bottom",
          "yref": "paper"
         },
         {
          "font": {},
          "showarrow": false,
          "text": "에너지종류=지역난방",
          "x": 0.8399999999999999,
          "xanchor": "center",
          "xref": "paper",
          "y": 1,
          "yanchor": "bottom",
          "yref": "paper"
         }
        ],
        "autosize": true,
        "legend": {
         "title": {
          "text": "시도"
         },
         "tracegroupgap": 0
        },
        "margin": {
         "t": 60
        },
        "template": {
         "data": {
          "bar": [
           {
            "error_x": {
             "color": "#2a3f5f"
            },
            "error_y": {
             "color": "#2a3f5f"
            },
            "marker": {
             "line": {
              "color": "white",
              "width": 0.5
             },
             "pattern": {
              "fillmode": "overlay",
              "size": 10,
              "solidity": 0.2
             }
            },
            "type": "bar"
           }
          ],
          "barpolar": [
           {
            "marker": {
             "line": {
              "color": "white",
              "width": 0.5
             },
             "pattern": {
              "fillmode": "overlay",
              "size": 10,
              "solidity": 0.2
             }
            },
            "type": "barpolar"
           }
          ],
          "carpet": [
           {
            "aaxis": {
             "endlinecolor": "#2a3f5f",
             "gridcolor": "#C8D4E3",
             "linecolor": "#C8D4E3",
             "minorgridcolor": "#C8D4E3",
             "startlinecolor": "#2a3f5f"
            },
            "baxis": {
             "endlinecolor": "#2a3f5f",
             "gridcolor": "#C8D4E3",
             "linecolor": "#C8D4E3",
             "minorgridcolor": "#C8D4E3",
             "startlinecolor": "#2a3f5f"
            },
            "type": "carpet"
           }
          ],
          "choropleth": [
           {
            "colorbar": {
             "outlinewidth": 0,
             "ticks": ""
            },
            "type": "choropleth"
           }
          ],
          "contour": [
           {
            "colorbar": {
             "outlinewidth": 0,
             "ticks": ""
            },
            "colorscale": [
             [
              0,
              "#0d0887"
             ],
             [
              0.1111111111111111,
              "#46039f"
             ],
             [
              0.2222222222222222,
              "#7201a8"
             ],
             [
              0.3333333333333333,
              "#9c179e"
             ],
             [
              0.4444444444444444,
              "#bd3786"
             ],
             [
              0.5555555555555556,
              "#d8576b"
             ],
             [
              0.6666666666666666,
              "#ed7953"
             ],
             [
              0.7777777777777778,
              "#fb9f3a"
             ],
             [
              0.8888888888888888,
              "#fdca26"
             ],
             [
              1,
              "#f0f921"
             ]
            ],
            "type": "contour"
           }
          ],
          "contourcarpet": [
           {
            "colorbar": {
             "outlinewidth": 0,
             "ticks": ""
            },
            "type": "contourcarpet"
           }
          ],
          "heatmap": [
           {
            "colorbar": {
             "outlinewidth": 0,
             "ticks": ""
            },
            "colorscale": [
             [
              0,
              "#0d0887"
             ],
             [
              0.1111111111111111,
              "#46039f"
             ],
             [
              0.2222222222222222,
              "#7201a8"
             ],
             [
              0.3333333333333333,
              "#9c179e"
             ],
             [
              0.4444444444444444,
              "#bd3786"
             ],
             [
              0.5555555555555556,
              "#d8576b"
             ],
             [
              0.6666666666666666,
              "#ed7953"
             ],
             [
              0.7777777777777778,
              "#fb9f3a"
             ],
             [
              0.8888888888888888,
              "#fdca26"
             ],
             [
              1,
              "#f0f921"
             ]
            ],
            "type": "heatmap"
           }
          ],
          "heatmapgl": [
           {
            "colorbar": {
             "outlinewidth": 0,
             "ticks": ""
            },
            "colorscale": [
             [
              0,
              "#0d0887"
             ],
             [
              0.1111111111111111,
              "#46039f"
             ],
             [
              0.2222222222222222,
              "#7201a8"
             ],
             [
              0.3333333333333333,
              "#9c179e"
             ],
             [
              0.4444444444444444,
              "#bd3786"
             ],
             [
              0.5555555555555556,
              "#d8576b"
             ],
             [
              0.6666666666666666,
              "#ed7953"
             ],
             [
              0.7777777777777778,
              "#fb9f3a"
             ],
             [
              0.8888888888888888,
              "#fdca26"
             ],
             [
              1,
              "#f0f921"
             ]
            ],
            "type": "heatmapgl"
           }
          ],
          "histogram": [
           {
            "marker": {
             "pattern": {
              "fillmode": "overlay",
              "size": 10,
              "solidity": 0.2
             }
            },
            "type": "histogram"
           }
          ],
          "histogram2d": [
           {
            "colorbar": {
             "outlinewidth": 0,
             "ticks": ""
            },
            "colorscale": [
             [
              0,
              "#0d0887"
             ],
             [
              0.1111111111111111,
              "#46039f"
             ],
             [
              0.2222222222222222,
              "#7201a8"
             ],
             [
              0.3333333333333333,
              "#9c179e"
             ],
             [
              0.4444444444444444,
              "#bd3786"
             ],
             [
              0.5555555555555556,
              "#d8576b"
             ],
             [
              0.6666666666666666,
              "#ed7953"
             ],
             [
              0.7777777777777778,
              "#fb9f3a"
             ],
             [
              0.8888888888888888,
              "#fdca26"
             ],
             [
              1,
              "#f0f921"
             ]
            ],
            "type": "histogram2d"
           }
          ],
          "histogram2dcontour": [
           {
            "colorbar": {
             "outlinewidth": 0,
             "ticks": ""
            },
            "colorscale": [
             [
              0,
              "#0d0887"
             ],
             [
              0.1111111111111111,
              "#46039f"
             ],
             [
              0.2222222222222222,
              "#7201a8"
             ],
             [
              0.3333333333333333,
              "#9c179e"
             ],
             [
              0.4444444444444444,
              "#bd3786"
             ],
             [
              0.5555555555555556,
              "#d8576b"
             ],
             [
              0.6666666666666666,
              "#ed7953"
             ],
             [
              0.7777777777777778,
              "#fb9f3a"
             ],
             [
              0.8888888888888888,
              "#fdca26"
             ],
             [
              1,
              "#f0f921"
             ]
            ],
            "type": "histogram2dcontour"
           }
          ],
          "mesh3d": [
           {
            "colorbar": {
             "outlinewidth": 0,
             "ticks": ""
            },
            "type": "mesh3d"
           }
          ],
          "parcoords": [
           {
            "line": {
             "colorbar": {
              "outlinewidth": 0,
              "ticks": ""
             }
            },
            "type": "parcoords"
           }
          ],
          "pie": [
           {
            "automargin": true,
            "type": "pie"
           }
          ],
          "scatter": [
           {
            "fillpattern": {
             "fillmode": "overlay",
             "size": 10,
             "solidity": 0.2
            },
            "type": "scatter"
           }
          ],
          "scatter3d": [
           {
            "line": {
             "colorbar": {
              "outlinewidth": 0,
              "ticks": ""
             }
            },
            "marker": {
             "colorbar": {
              "outlinewidth": 0,
              "ticks": ""
             }
            },
            "type": "scatter3d"
           }
          ],
          "scattercarpet": [
           {
            "marker": {
             "colorbar": {
              "outlinewidth": 0,
              "ticks": ""
             }
            },
            "type": "scattercarpet"
           }
          ],
          "scattergeo": [
           {
            "marker": {
             "colorbar": {
              "outlinewidth": 0,
              "ticks": ""
             }
            },
            "type": "scattergeo"
           }
          ],
          "scattergl": [
           {
            "marker": {
             "colorbar": {
              "outlinewidth": 0,
              "ticks": ""
             }
            },
            "type": "scattergl"
           }
          ],
          "scattermapbox": [
           {
            "marker": {
             "colorbar": {
              "outlinewidth": 0,
              "ticks": ""
             }
            },
            "type": "scattermapbox"
           }
          ],
          "scatterpolar": [
           {
            "marker": {
             "colorbar": {
              "outlinewidth": 0,
              "ticks": ""
             }
            },
            "type": "scatterpolar"
           }
          ],
          "scatterpolargl": [
           {
            "marker": {
             "colorbar": {
              "outlinewidth": 0,
              "ticks": ""
             }
            },
            "type": "scatterpolargl"
           }
          ],
          "scatterternary": [
           {
            "marker": {
             "colorbar": {
              "outlinewidth": 0,
              "ticks": ""
             }
            },
            "type": "scatterternary"
           }
          ],
          "surface": [
           {
            "colorbar": {
             "outlinewidth": 0,
             "ticks": ""
            },
            "colorscale": [
             [
              0,
              "#0d0887"
             ],
             [
              0.1111111111111111,
              "#46039f"
             ],
             [
              0.2222222222222222,
              "#7201a8"
             ],
             [
              0.3333333333333333,
              "#9c179e"
             ],
             [
              0.4444444444444444,
              "#bd3786"
             ],
             [
              0.5555555555555556,
              "#d8576b"
             ],
             [
              0.6666666666666666,
              "#ed7953"
             ],
             [
              0.7777777777777778,
              "#fb9f3a"
             ],
             [
              0.8888888888888888,
              "#fdca26"
             ],
             [
              1,
              "#f0f921"
             ]
            ],
            "type": "surface"
           }
          ],
          "table": [
           {
            "cells": {
             "fill": {
              "color": "#EBF0F8"
             },
             "line": {
              "color": "white"
             }
            },
            "header": {
             "fill": {
              "color": "#C8D4E3"
             },
             "line": {
              "color": "white"
             }
            },
            "type": "table"
           }
          ]
         },
         "layout": {
          "annotationdefaults": {
           "arrowcolor": "#2a3f5f",
           "arrowhead": 0,
           "arrowwidth": 1
          },
          "autotypenumbers": "strict",
          "coloraxis": {
           "colorbar": {
            "outlinewidth": 0,
            "ticks": ""
           }
          },
          "colorscale": {
           "diverging": [
            [
             0,
             "#8e0152"
            ],
            [
             0.1,
             "#c51b7d"
            ],
            [
             0.2,
             "#de77ae"
            ],
            [
             0.3,
             "#f1b6da"
            ],
            [
             0.4,
             "#fde0ef"
            ],
            [
             0.5,
             "#f7f7f7"
            ],
            [
             0.6,
             "#e6f5d0"
            ],
            [
             0.7,
             "#b8e186"
            ],
            [
             0.8,
             "#7fbc41"
            ],
            [
             0.9,
             "#4d9221"
            ],
            [
             1,
             "#276419"
            ]
           ],
           "sequential": [
            [
             0,
             "#0d0887"
            ],
            [
             0.1111111111111111,
             "#46039f"
            ],
            [
             0.2222222222222222,
             "#7201a8"
            ],
            [
             0.3333333333333333,
             "#9c179e"
            ],
            [
             0.4444444444444444,
             "#bd3786"
            ],
            [
             0.5555555555555556,
             "#d8576b"
            ],
            [
             0.6666666666666666,
             "#ed7953"
            ],
            [
             0.7777777777777778,
             "#fb9f3a"
            ],
            [
             0.8888888888888888,
             "#fdca26"
            ],
            [
             1,
             "#f0f921"
            ]
           ],
           "sequentialminus": [
            [
             0,
             "#0d0887"
            ],
            [
             0.1111111111111111,
             "#46039f"
            ],
            [
             0.2222222222222222,
             "#7201a8"
            ],
            [
             0.3333333333333333,
             "#9c179e"
            ],
            [
             0.4444444444444444,
             "#bd3786"
            ],
            [
             0.5555555555555556,
             "#d8576b"
            ],
            [
             0.6666666666666666,
             "#ed7953"
            ],
            [
             0.7777777777777778,
             "#fb9f3a"
            ],
            [
             0.8888888888888888,
             "#fdca26"
            ],
            [
             1,
             "#f0f921"
            ]
           ]
          },
          "colorway": [
           "#636efa",
           "#EF553B",
           "#00cc96",
           "#ab63fa",
           "#FFA15A",
           "#19d3f3",
           "#FF6692",
           "#B6E880",
           "#FF97FF",
           "#FECB52"
          ],
          "font": {
           "color": "#2a3f5f"
          },
          "geo": {
           "bgcolor": "white",
           "lakecolor": "white",
           "landcolor": "white",
           "showlakes": true,
           "showland": true,
           "subunitcolor": "#C8D4E3"
          },
          "hoverlabel": {
           "align": "left"
          },
          "hovermode": "closest",
          "mapbox": {
           "style": "light"
          },
          "paper_bgcolor": "white",
          "plot_bgcolor": "white",
          "polar": {
           "angularaxis": {
            "gridcolor": "#EBF0F8",
            "linecolor": "#EBF0F8",
            "ticks": ""
           },
           "bgcolor": "white",
           "radialaxis": {
            "gridcolor": "#EBF0F8",
            "linecolor": "#EBF0F8",
            "ticks": ""
           }
          },
          "scene": {
           "xaxis": {
            "backgroundcolor": "white",
            "gridcolor": "#DFE8F3",
            "gridwidth": 2,
            "linecolor": "#EBF0F8",
            "showbackground": true,
            "ticks": "",
            "zerolinecolor": "#EBF0F8"
           },
           "yaxis": {
            "backgroundcolor": "white",
            "gridcolor": "#DFE8F3",
            "gridwidth": 2,
            "linecolor": "#EBF0F8",
            "showbackground": true,
            "ticks": "",
            "zerolinecolor": "#EBF0F8"
           },
           "zaxis": {
            "backgroundcolor": "white",
            "gridcolor": "#DFE8F3",
            "gridwidth": 2,
            "linecolor": "#EBF0F8",
            "showbackground": true,
            "ticks": "",
            "zerolinecolor": "#EBF0F8"
           }
          },
          "shapedefaults": {
           "line": {
            "color": "#2a3f5f"
           }
          },
          "ternary": {
           "aaxis": {
            "gridcolor": "#DFE8F3",
            "linecolor": "#A2B1C6",
            "ticks": ""
           },
           "baxis": {
            "gridcolor": "#DFE8F3",
            "linecolor": "#A2B1C6",
            "ticks": ""
           },
           "bgcolor": "white",
           "caxis": {
            "gridcolor": "#DFE8F3",
            "linecolor": "#A2B1C6",
            "ticks": ""
           }
          },
          "title": {
           "x": 0.05
          },
          "xaxis": {
           "automargin": true,
           "gridcolor": "#EBF0F8",
           "linecolor": "#EBF0F8",
           "ticks": "",
           "title": {
            "standoff": 15
           },
           "zerolinecolor": "#EBF0F8",
           "zerolinewidth": 2
          },
          "yaxis": {
           "automargin": true,
           "gridcolor": "#EBF0F8",
           "linecolor": "#EBF0F8",
           "ticks": "",
           "title": {
            "standoff": 15
           },
           "zerolinecolor": "#EBF0F8",
           "zerolinewidth": 2
          }
         }
        },
        "xaxis": {
         "anchor": "y",
         "autorange": true,
         "domain": [
          0,
          0.25
         ],
         "range": [
          2018,
          2021
         ],
         "title": {
          "text": "년도"
         },
         "type": "linear"
        },
        "xaxis2": {
         "anchor": "y2",
         "autorange": true,
         "domain": [
          0.35,
          0.6
         ],
         "matches": "x",
         "range": [
          2018,
          2021
         ],
         "title": {
          "text": "년도"
         },
         "type": "linear"
        },
        "xaxis3": {
         "anchor": "y3",
         "autorange": true,
         "domain": [
          0.7,
          0.95
         ],
         "matches": "x",
         "range": [
          2018,
          2021
         ],
         "title": {
          "text": "년도"
         },
         "type": "linear"
        },
        "yaxis": {
         "anchor": "x",
         "autorange": true,
         "domain": [
          0,
          1
         ],
         "range": [
          0,
          13026029.47368421
         ],
         "title": {
          "text": "에너지사용량"
         },
         "type": "linear"
        },
        "yaxis2": {
         "anchor": "x2",
         "autorange": true,
         "domain": [
          0,
          1
         ],
         "matches": "y",
         "range": [
          0,
          13026029.47368421
         ],
         "showticklabels": false,
         "type": "linear"
        },
        "yaxis3": {
         "anchor": "x3",
         "autorange": true,
         "domain": [
          0,
          1
         ],
         "matches": "y",
         "range": [
          0,
          13026029.47368421
         ],
         "showticklabels": false,
         "type": "linear"
        }
       }
      },
      "image/png": "[encoded data removed]",
      "text/html": [
       "<div>                            <div id=\"4c44a7ef-08db-4470-b80f-541c2596cd3d\" class=\"plotly-graph-div\" style=\"height:525px; width:100%;\"></div>            <script type=\"text/javascript\">                require([\"plotly\"], function(Plotly) {                    window.PLOTLYENV=window.PLOTLYENV || {};                                    if (document.getElementById(\"4c44a7ef-08db-4470-b80f-541c2596cd3d\")) {                    Plotly.newPlot(                        \"4c44a7ef-08db-4470-b80f-541c2596cd3d\",                        [{\"fillpattern\":{\"shape\":\"\"},\"hovertemplate\":\"\\uc2dc\\ub3c4=Busan\\u003cbr\\u003e\\uc5d0\\ub108\\uc9c0\\uc885\\ub958=\\ub3c4\\uc2dc\\uac00\\uc2a4\\u003cbr\\u003e\\ub144\\ub3c4=%{x}\\u003cbr\\u003e\\uc5d0\\ub108\\uc9c0\\uc0ac\\uc6a9\\ub7c9=%{y}\\u003cextra\\u003e\\u003c\\u002fextra\\u003e\",\"legendgroup\":\"Busan\",\"line\":{\"color\":\"#636efa\"},\"marker\":{\"symbol\":\"circle\"},\"mode\":\"lines\",\"name\":\"Busan\",\"orientation\":\"v\",\"showlegend\":true,\"stackgroup\":\"1\",\"x\":[2018,2019,2020,2021],\"xaxis\":\"x\",\"y\":[708240,675882,690015,878874],\"yaxis\":\"y\",\"type\":\"scatter\"},{\"fillpattern\":{\"shape\":\"\"},\"hovertemplate\":\"\\uc2dc\\ub3c4=Busan\\u003cbr\\u003e\\uc5d0\\ub108\\uc9c0\\uc885\\ub958=\\uc804\\uae30\\u003cbr\\u003e\\ub144\\ub3c4=%{x}\\u003cbr\\u003e\\uc5d0\\ub108\\uc9c0\\uc0ac\\uc6a9\\ub7c9=%{y}\\u003cextra\\u003e\\u003c\\u002fextra\\u003e\",\"legendgroup\":\"Busan\",\"line\":{\"color\":\"#636efa\"},\"marker\":{\"symbol\":\"circle\"},\"mode\":\"lines\",\"name\":\"Busan\",\"orientation\":\"v\",\"showlegend\":false,\"stackgroup\":\"1\",\"x\":[2018,2019,2020,2021],\"xaxis\":\"x2\",\"y\":[613522,602980,601071,1043425],\"yaxis\":\"y2\",\"type\":\"scatter\"},{\"fillpattern\":{\"shape\":\"\"},\"hovertemplate\":\"\\uc2dc\\ub3c4=Busan\\u003cbr\\u003e\\uc5d0\\ub108\\uc9c0\\uc885\\ub958=\\uc9c0\\uc5ed\\ub09c\\ubc29\\u003cbr\\u003e\\ub144\\ub3c4=%{x}\\u003cbr\\u003e\\uc5d0\\ub108\\uc9c0\\uc0ac\\uc6a9\\ub7c9=%{y}\\u003cextra\\u003e\\u003c\\u002fextra\\u003e\",\"legendgroup\":\"Busan\",\"line\":{\"color\":\"#636efa\"},\"marker\":{\"symbol\":\"circle\"},\"mode\":\"lines\",\"name\":\"Busan\",\"orientation\":\"v\",\"showlegend\":false,\"stackgroup\":\"1\",\"x\":[2018,2019,2020,2021],\"xaxis\":\"x3\",\"y\":[23694,22560,23014,29610],\"yaxis\":\"y3\",\"type\":\"scatter\"},{\"fillpattern\":{\"shape\":\"\"},\"hovertemplate\":\"\\uc2dc\\ub3c4=Chungcheongbuk-do\\u003cbr\\u003e\\uc5d0\\ub108\\uc9c0\\uc885\\ub958=\\ub3c4\\uc2dc\\uac00\\uc2a4\\u003cbr\\u003e\\ub144\\ub3c4=%{x}\\u003cbr\\u003e\\uc5d0\\ub108\\uc9c0\\uc0ac\\uc6a9\\ub7c9=%{y}\\u003cextra\\u003e\\u003c\\u002fextra\\u003e\",\"legendgroup\":\"Chungcheongbuk-do\",\"line\":{\"color\":\"#EF553B\"},\"marker\":{\"symbol\":\"circle\"},\"mode\":\"lines\",\"name\":\"Chungcheongbuk-do\",\"orientation\":\"v\",\"showlegend\":true,\"stackgroup\":\"1\",\"x\":[2018,2019,2020,2021],\"xaxis\":\"x\",\"y\":[288927,291981,294442,308636],\"yaxis\":\"y\",\"type\":\"scatter\"},{\"fillpattern\":{\"shape\":\"\"},\"hovertemplate\":\"\\uc2dc\\ub3c4=Chungcheongbuk-do\\u003cbr\\u003e\\uc5d0\\ub108\\uc9c0\\uc885\\ub958=\\uc804\\uae30\\u003cbr\\u003e\\ub144\\ub3c4=%{x}\\u003cbr\\u003e\\uc5d0\\ub108\\uc9c0\\uc0ac\\uc6a9\\ub7c9=%{y}\\u003cextra\\u003e\\u003c\\u002fextra\\u003e\",\"legendgroup\":\"Chungcheongbuk-do\",\"line\":{\"color\":\"#EF553B\"},\"marker\":{\"symbol\":\"circle\"},\"mode\":\"lines\",\"name\":\"Chungcheongbuk-do\",\"orientation\":\"v\",\"showlegend\":false,\"stackgroup\":\"1\",\"x\":[2018,2019,2020,2021],\"xaxis\":\"x2\",\"y\":[361490,351235,347927,352396],\"yaxis\":\"y2\",\"type\":\"scatter\"},{\"fillpattern\":{\"shape\":\"\"},\"hovertemplate\":\"\\uc2dc\\ub3c4=Chungcheongbuk-do\\u003cbr\\u003e\\uc5d0\\ub108\\uc9c0\\uc885\\ub958=\\uc9c0\\uc5ed\\ub09c\\ubc29\\u003cbr\\u003e\\ub144\\ub3c4=%{x}\\u003cbr\\u003e\\uc5d0\\ub108\\uc9c0\\uc0ac\\uc6a9\\ub7c9=%{y}\\u003cextra\\u003e\\u003c\\u002fextra\\u003e\",\"legendgroup\":\"Chungcheongbuk-do\",\"line\":{\"color\":\"#EF553B\"},\"marker\":{\"symbol\":\"circle\"},\"mode\":\"lines\",\"name\":\"Chungcheongbuk-do\",\"orientation\":\"v\",\"showlegend\":false,\"stackgroup\":\"1\",\"x\":[2018,2019,2020,2021],\"xaxis\":\"x3\",\"y\":[55002,52319,52738,56969],\"yaxis\":\"y3\",\"type\":\"scatter\"},{\"fillpattern\":{\"shape\":\"\"},\"hovertemplate\":\"\\uc2dc\\ub3c4=Chungcheongnam-do\\u003cbr\\u003e\\uc5d0\\ub108\\uc9c0\\uc885\\ub958=\\ub3c4\\uc2dc\\uac00\\uc2a4\\u003cbr\\u003e\\ub144\\ub3c4=%{x}\\u003cbr\\u003e\\uc5d0\\ub108\\uc9c0\\uc0ac\\uc6a9\\ub7c9=%{y}\\u003cextra\\u003e\\u003c\\u002fextra\\u003e\",\"legendgroup\":\"Chungcheongnam-do\",\"line\":{\"color\":\"#00cc96\"},\"marker\":{\"symbol\":\"circle\"},\"mode\":\"lines\",\"name\":\"Chungcheongnam-do\",\"orientation\":\"v\",\"showlegend\":true,\"stackgroup\":\"1\",\"x\":[2018,2019,2020,2021],\"xaxis\":\"x\",\"y\":[420315,419425,432268,445737],\"yaxis\":\"y\",\"type\":\"scatter\"},{\"fillpattern\":{\"shape\":\"\"},\"hovertemplate\":\"\\uc2dc\\ub3c4=Chungcheongnam-do\\u003cbr\\u003e\\uc5d0\\ub108\\uc9c0\\uc885\\ub958=\\uc804\\uae30\\u003cbr\\u003e\\ub144\\ub3c4=%{x}\\u003cbr\\u003e\\uc5d0\\ub108\\uc9c0\\uc0ac\\uc6a9\\ub7c9=%{y}\\u003cextra\\u003e\\u003c\\u002fextra\\u003e\",\"legendgroup\":\"Chungcheongnam-do\",\"line\":{\"color\":\"#00cc96\"},\"marker\":{\"symbol\":\"circle\"},\"mode\":\"lines\",\"name\":\"Chungcheongnam-do\",\"orientation\":\"v\",\"showlegend\":false,\"stackgroup\":\"1\",\"x\":[2018,2019,2020,2021],\"xaxis\":\"x2\",\"y\":[456260,444046,440752,454891],\"yaxis\":\"y2\",\"type\":\"scatter\"},{\"fillpattern\":{\"shape\":\"\"},\"hovertemplate\":\"\\uc2dc\\ub3c4=Chungcheongnam-do\\u003cbr\\u003e\\uc5d0\\ub108\\uc9c0\\uc885\\ub958=\\uc9c0\\uc5ed\\ub09c\\ubc29\\u003cbr\\u003e\\ub144\\ub3c4=%{x}\\u003cbr\\u003e\\uc5d0\\ub108\\uc9c0\\uc0ac\\uc6a9\\ub7c9=%{y}\\u003cextra\\u003e\\u003c\\u002fextra\\u003e\",\"legendgroup\":\"Chungcheongnam-do\",\"line\":{\"color\":\"#00cc96\"},\"marker\":{\"symbol\":\"circle\"},\"mode\":\"lines\",\"name\":\"Chungcheongnam-do\",\"orientation\":\"v\",\"showlegend\":false,\"stackgroup\":\"1\",\"x\":[2018,2019,2020,2021],\"xaxis\":\"x3\",\"y\":[24286,25020,23793,26053],\"yaxis\":\"y3\",\"type\":\"scatter\"},{\"fillpattern\":{\"shape\":\"\"},\"hovertemplate\":\"\\uc2dc\\ub3c4=Daegu\\u003cbr\\u003e\\uc5d0\\ub108\\uc9c0\\uc885\\ub958=\\ub3c4\\uc2dc\\uac00\\uc2a4\\u003cbr\\u003e\\ub144\\ub3c4=%{x}\\u003cbr\\u003e\\uc5d0\\ub108\\uc9c0\\uc0ac\\uc6a9\\ub7c9=%{y}\\u003cextra\\u003e\\u003c\\u002fextra\\u003e\",\"legendgroup\":\"Daegu\",\"line\":{\"color\":\"#ab63fa\"},\"marker\":{\"symbol\":\"circle\"},\"mode\":\"lines\",\"name\":\"Daegu\",\"orientation\":\"v\",\"showlegend\":true,\"stackgroup\":\"1\",\"x\":[2018,2019,2020,2021],\"xaxis\":\"x\",\"y\":[599115,575501,588308,622144],\"yaxis\":\"y\",\"type\":\"scatter\"},{\"fillpattern\":{\"shape\":\"\"},\"hovertemplate\":\"\\uc2dc\\ub3c4=Daegu\\u003cbr\\u003e\\uc5d0\\ub108\\uc9c0\\uc885\\ub958=\\uc804\\uae30\\u003cbr\\u003e\\ub144\\ub3c4=%{x}\\u003cbr\\u003e\\uc5d0\\ub108\\uc9c0\\uc0ac\\uc6a9\\ub7c9=%{y}\\u003cextra\\u003e\\u003c\\u002fextra\\u003e\",\"legendgroup\":\"Daegu\",\"line\":{\"color\":\"#ab63fa\"},\"marker\":{\"symbol\":\"circle\"},\"mode\":\"lines\",\"name\":\"Daegu\",\"orientation\":\"v\",\"showlegend\":false,\"stackgroup\":\"1\",\"x\":[2018,2019,2020,2021],\"xaxis\":\"x2\",\"y\":[457556,445745,447380,451326],\"yaxis\":\"y2\",\"type\":\"scatter\"},{\"fillpattern\":{\"shape\":\"\"},\"hovertemplate\":\"\\uc2dc\\ub3c4=Daegu\\u003cbr\\u003e\\uc5d0\\ub108\\uc9c0\\uc885\\ub958=\\uc9c0\\uc5ed\\ub09c\\ubc29\\u003cbr\\u003e\\ub144\\ub3c4=%{x}\\u003cbr\\u003e\\uc5d0\\ub108\\uc9c0\\uc0ac\\uc6a9\\ub7c9=%{y}\\u003cextra\\u003e\\u003c\\u002fextra\\u003e\",\"legendgroup\":\"Daegu\",\"line\":{\"color\":\"#ab63fa\"},\"marker\":{\"symbol\":\"circle\"},\"mode\":\"lines\",\"name\":\"Daegu\",\"orientation\":\"v\",\"showlegend\":false,\"stackgroup\":\"1\",\"x\":[2018,2019,2020,2021],\"xaxis\":\"x3\",\"y\":[77399,74121,78163,78619],\"yaxis\":\"y3\",\"type\":\"scatter\"},{\"fillpattern\":{\"shape\":\"\"},\"hovertemplate\":\"\\uc2dc\\ub3c4=Daejeon\\u003cbr\\u003e\\uc5d0\\ub108\\uc9c0\\uc885\\ub958=\\ub3c4\\uc2dc\\uac00\\uc2a4\\u003cbr\\u003e\\ub144\\ub3c4=%{x}\\u003cbr\\u003e\\uc5d0\\ub108\\uc9c0\\uc0ac\\uc6a9\\ub7c9=%{y}\\u003cextra\\u003e\\u003c\\u002fextra\\u003e\",\"legendgroup\":\"Daejeon\",\"line\":{\"color\":\"#FFA15A\"},\"marker\":{\"symbol\":\"circle\"},\"mode\":\"lines\",\"name\":\"Daejeon\",\"orientation\":\"v\",\"showlegend\":true,\"stackgroup\":\"1\",\"x\":[2018,2019,2020,2021],\"xaxis\":\"x\",\"y\":[379571,364911,359731,366855],\"yaxis\":\"y\",\"type\":\"scatter\"},{\"fillpattern\":{\"shape\":\"\"},\"hovertemplate\":\"\\uc2dc\\ub3c4=Daejeon\\u003cbr\\u003e\\uc5d0\\ub108\\uc9c0\\uc885\\ub958=\\uc804\\uae30\\u003cbr\\u003e\\ub144\\ub3c4=%{x}\\u003cbr\\u003e\\uc5d0\\ub108\\uc9c0\\uc0ac\\uc6a9\\ub7c9=%{y}\\u003cextra\\u003e\\u003c\\u002fextra\\u003e\",\"legendgroup\":\"Daejeon\",\"line\":{\"color\":\"#FFA15A\"},\"marker\":{\"symbol\":\"circle\"},\"mode\":\"lines\",\"name\":\"Daejeon\",\"orientation\":\"v\",\"showlegend\":false,\"stackgroup\":\"1\",\"x\":[2018,2019,2020,2021],\"xaxis\":\"x2\",\"y\":[309660,302359,300984,308426],\"yaxis\":\"y2\",\"type\":\"scatter\"},{\"fillpattern\":{\"shape\":\"\"},\"hovertemplate\":\"\\uc2dc\\ub3c4=Daejeon\\u003cbr\\u003e\\uc5d0\\ub108\\uc9c0\\uc885\\ub958=\\uc9c0\\uc5ed\\ub09c\\ubc29\\u003cbr\\u003e\\ub144\\ub3c4=%{x}\\u003cbr\\u003e\\uc5d0\\ub108\\uc9c0\\uc0ac\\uc6a9\\ub7c9=%{y}\\u003cextra\\u003e\\u003c\\u002fextra\\u003e\",\"legendgroup\":\"Daejeon\",\"line\":{\"color\":\"#FFA15A\"},\"marker\":{\"symbol\":\"circle\"},\"mode\":\"lines\",\"name\":\"Daejeon\",\"orientation\":\"v\",\"showlegend\":false,\"stackgroup\":\"1\",\"x\":[2018,2019,2020,2021],\"xaxis\":\"x3\",\"y\":[51341,49110,49733,49542],\"yaxis\":\"y3\",\"type\":\"scatter\"},{\"fillpattern\":{\"shape\":\"\"},\"hovertemplate\":\"\\uc2dc\\ub3c4=Gangwon-do\\u003cbr\\u003e\\uc5d0\\ub108\\uc9c0\\uc885\\ub958=\\ub3c4\\uc2dc\\uac00\\uc2a4\\u003cbr\\u003e\\ub144\\ub3c4=%{x}\\u003cbr\\u003e\\uc5d0\\ub108\\uc9c0\\uc0ac\\uc6a9\\ub7c9=%{y}\\u003cextra\\u003e\\u003c\\u002fextra\\u003e\",\"legendgroup\":\"Gangwon-do\",\"line\":{\"color\":\"#19d3f3\"},\"marker\":{\"symbol\":\"circle\"},\"mode\":\"lines\",\"name\":\"Gangwon-do\",\"orientation\":\"v\",\"showlegend\":true,\"stackgroup\":\"1\",\"x\":[2018,2019,2020,2021],\"xaxis\":\"x\",\"y\":[249963,248760,254269,279214],\"yaxis\":\"y\",\"type\":\"scatter\"},{\"fillpattern\":{\"shape\":\"\"},\"hovertemplate\":\"\\uc2dc\\ub3c4=Gangwon-do\\u003cbr\\u003e\\uc5d0\\ub108\\uc9c0\\uc885\\ub958=\\uc804\\uae30\\u003cbr\\u003e\\ub144\\ub3c4=%{x}\\u003cbr\\u003e\\uc5d0\\ub108\\uc9c0\\uc0ac\\uc6a9\\ub7c9=%{y}\\u003cextra\\u003e\\u003c\\u002fextra\\u003e\",\"legendgroup\":\"Gangwon-do\",\"line\":{\"color\":\"#19d3f3\"},\"marker\":{\"symbol\":\"circle\"},\"mode\":\"lines\",\"name\":\"Gangwon-do\",\"orientation\":\"v\",\"showlegend\":false,\"stackgroup\":\"1\",\"x\":[2018,2019,2020,2021],\"xaxis\":\"x2\",\"y\":[386183,370390,365168,369819],\"yaxis\":\"y2\",\"type\":\"scatter\"},{\"fillpattern\":{\"shape\":\"\"},\"hovertemplate\":\"\\uc2dc\\ub3c4=Gangwon-do\\u003cbr\\u003e\\uc5d0\\ub108\\uc9c0\\uc885\\ub958=\\uc9c0\\uc5ed\\ub09c\\ubc29\\u003cbr\\u003e\\ub144\\ub3c4=%{x}\\u003cbr\\u003e\\uc5d0\\ub108\\uc9c0\\uc0ac\\uc6a9\\ub7c9=%{y}\\u003cextra\\u003e\\u003c\\u002fextra\\u003e\",\"legendgroup\":\"Gangwon-do\",\"line\":{\"color\":\"#19d3f3\"},\"marker\":{\"symbol\":\"circle\"},\"mode\":\"lines\",\"name\":\"Gangwon-do\",\"orientation\":\"v\",\"showlegend\":false,\"stackgroup\":\"1\",\"x\":[2018,2019,2020,2021],\"xaxis\":\"x3\",\"y\":[0,0,0,0],\"yaxis\":\"y3\",\"type\":\"scatter\"},{\"fillpattern\":{\"shape\":\"\"},\"hovertemplate\":\"\\uc2dc\\ub3c4=Gwangju\\u003cbr\\u003e\\uc5d0\\ub108\\uc9c0\\uc885\\ub958=\\ub3c4\\uc2dc\\uac00\\uc2a4\\u003cbr\\u003e\\ub144\\ub3c4=%{x}\\u003cbr\\u003e\\uc5d0\\ub108\\uc9c0\\uc0ac\\uc6a9\\ub7c9=%{y}\\u003cextra\\u003e\\u003c\\u002fextra\\u003e\",\"legendgroup\":\"Gwangju\",\"line\":{\"color\":\"#FF6692\"},\"marker\":{\"symbol\":\"circle\"},\"mode\":\"lines\",\"name\":\"Gwangju\",\"orientation\":\"v\",\"showlegend\":true,\"stackgroup\":\"1\",\"x\":[2018,2019,2020,2021],\"xaxis\":\"x\",\"y\":[398455,394389,398346,408111],\"yaxis\":\"y\",\"type\":\"scatter\"},{\"fillpattern\":{\"shape\":\"\"},\"hovertemplate\":\"\\uc2dc\\ub3c4=Gwangju\\u003cbr\\u003e\\uc5d0\\ub108\\uc9c0\\uc885\\ub958=\\uc804\\uae30\\u003cbr\\u003e\\ub144\\ub3c4=%{x}\\u003cbr\\u003e\\uc5d0\\ub108\\uc9c0\\uc0ac\\uc6a9\\ub7c9=%{y}\\u003cextra\\u003e\\u003c\\u002fextra\\u003e\",\"legendgroup\":\"Gwangju\",\"line\":{\"color\":\"#FF6692\"},\"marker\":{\"symbol\":\"circle\"},\"mode\":\"lines\",\"name\":\"Gwangju\",\"orientation\":\"v\",\"showlegend\":false,\"stackgroup\":\"1\",\"x\":[2018,2019,2020,2021],\"xaxis\":\"x2\",\"y\":[288191,285831,287894,292585],\"yaxis\":\"y2\",\"type\":\"scatter\"},{\"fillpattern\":{\"shape\":\"\"},\"hovertemplate\":\"\\uc2dc\\ub3c4=Gwangju\\u003cbr\\u003e\\uc5d0\\ub108\\uc9c0\\uc885\\ub958=\\uc9c0\\uc5ed\\ub09c\\ubc29\\u003cbr\\u003e\\ub144\\ub3c4=%{x}\\u003cbr\\u003e\\uc5d0\\ub108\\uc9c0\\uc0ac\\uc6a9\\ub7c9=%{y}\\u003cextra\\u003e\\u003c\\u002fextra\\u003e\",\"legendgroup\":\"Gwangju\",\"line\":{\"color\":\"#FF6692\"},\"marker\":{\"symbol\":\"circle\"},\"mode\":\"lines\",\"name\":\"Gwangju\",\"orientation\":\"v\",\"showlegend\":false,\"stackgroup\":\"1\",\"x\":[2018,2019,2020,2021],\"xaxis\":\"x3\",\"y\":[26218,25927,27152,27123],\"yaxis\":\"y3\",\"type\":\"scatter\"},{\"fillpattern\":{\"shape\":\"\"},\"hovertemplate\":\"\\uc2dc\\ub3c4=Gyeonggi-do\\u003cbr\\u003e\\uc5d0\\ub108\\uc9c0\\uc885\\ub958=\\ub3c4\\uc2dc\\uac00\\uc2a4\\u003cbr\\u003e\\ub144\\ub3c4=%{x}\\u003cbr\\u003e\\uc5d0\\ub108\\uc9c0\\uc0ac\\uc6a9\\ub7c9=%{y}\\u003cextra\\u003e\\u003c\\u002fextra\\u003e\",\"legendgroup\":\"Gyeonggi-do\",\"line\":{\"color\":\"#B6E880\"},\"marker\":{\"symbol\":\"circle\"},\"mode\":\"lines\",\"name\":\"Gyeonggi-do\",\"orientation\":\"v\",\"showlegend\":true,\"stackgroup\":\"1\",\"x\":[2018,2019,2020,2021],\"xaxis\":\"x\",\"y\":[2661798,2548103,2560301,2613780],\"yaxis\":\"y\",\"type\":\"scatter\"},{\"fillpattern\":{\"shape\":\"\"},\"hovertemplate\":\"\\uc2dc\\ub3c4=Gyeonggi-do\\u003cbr\\u003e\\uc5d0\\ub108\\uc9c0\\uc885\\ub958=\\uc804\\uae30\\u003cbr\\u003e\\ub144\\ub3c4=%{x}\\u003cbr\\u003e\\uc5d0\\ub108\\uc9c0\\uc0ac\\uc6a9\\ub7c9=%{y}\\u003cextra\\u003e\\u003c\\u002fextra\\u003e\",\"legendgroup\":\"Gyeonggi-do\",\"line\":{\"color\":\"#B6E880\"},\"marker\":{\"symbol\":\"circle\"},\"mode\":\"lines\",\"name\":\"Gyeonggi-do\",\"orientation\":\"v\",\"showlegend\":false,\"stackgroup\":\"1\",\"x\":[2018,2019,2020,2021],\"xaxis\":\"x2\",\"y\":[2264803,2236781,2250687,2332201],\"yaxis\":\"y2\",\"type\":\"scatter\"},{\"fillpattern\":{\"shape\":\"\"},\"hovertemplate\":\"\\uc2dc\\ub3c4=Gyeonggi-do\\u003cbr\\u003e\\uc5d0\\ub108\\uc9c0\\uc885\\ub958=\\uc9c0\\uc5ed\\ub09c\\ubc29\\u003cbr\\u003e\\ub144\\ub3c4=%{x}\\u003cbr\\u003e\\uc5d0\\ub108\\uc9c0\\uc0ac\\uc6a9\\ub7c9=%{y}\\u003cextra\\u003e\\u003c\\u002fextra\\u003e\",\"legendgroup\":\"Gyeonggi-do\",\"line\":{\"color\":\"#B6E880\"},\"marker\":{\"symbol\":\"circle\"},\"mode\":\"lines\",\"name\":\"Gyeonggi-do\",\"orientation\":\"v\",\"showlegend\":false,\"stackgroup\":\"1\",\"x\":[2018,2019,2020,2021],\"xaxis\":\"x3\",\"y\":[1055451,1050012,1097239,1148709],\"yaxis\":\"y3\",\"type\":\"scatter\"},{\"fillpattern\":{\"shape\":\"\"},\"hovertemplate\":\"\\uc2dc\\ub3c4=Gyeongsangbuk-do\\u003cbr\\u003e\\uc5d0\\ub108\\uc9c0\\uc885\\ub958=\\ub3c4\\uc2dc\\uac00\\uc2a4\\u003cbr\\u003e\\ub144\\ub3c4=%{x}\\u003cbr\\u003e\\uc5d0\\ub108\\uc9c0\\uc0ac\\uc6a9\\ub7c9=%{y}\\u003cextra\\u003e\\u003c\\u002fextra\\u003e\",\"legendgroup\":\"Gyeongsangbuk-do\",\"line\":{\"color\":\"#FF97FF\"},\"marker\":{\"symbol\":\"circle\"},\"mode\":\"lines\",\"name\":\"Gyeongsangbuk-do\",\"orientation\":\"v\",\"showlegend\":true,\"stackgroup\":\"1\",\"x\":[2018,2019,2020,2021],\"xaxis\":\"x\",\"y\":[514188,486651,512869,522559],\"yaxis\":\"y\",\"type\":\"scatter\"},{\"fillpattern\":{\"shape\":\"\"},\"hovertemplate\":\"\\uc2dc\\ub3c4=Gyeongsangbuk-do\\u003cbr\\u003e\\uc5d0\\ub108\\uc9c0\\uc885\\ub958=\\uc804\\uae30\\u003cbr\\u003e\\ub144\\ub3c4=%{x}\\u003cbr\\u003e\\uc5d0\\ub108\\uc9c0\\uc0ac\\uc6a9\\ub7c9=%{y}\\u003cextra\\u003e\\u003c\\u002fextra\\u003e\",\"legendgroup\":\"Gyeongsangbuk-do\",\"line\":{\"color\":\"#FF97FF\"},\"marker\":{\"symbol\":\"circle\"},\"mode\":\"lines\",\"name\":\"Gyeongsangbuk-do\",\"orientation\":\"v\",\"showlegend\":false,\"stackgroup\":\"1\",\"x\":[2018,2019,2020,2021],\"xaxis\":\"x2\",\"y\":[521896,505723,504694,513491],\"yaxis\":\"y2\",\"type\":\"scatter\"},{\"fillpattern\":{\"shape\":\"\"},\"hovertemplate\":\"\\uc2dc\\ub3c4=Gyeongsangbuk-do\\u003cbr\\u003e\\uc5d0\\ub108\\uc9c0\\uc885\\ub958=\\uc9c0\\uc5ed\\ub09c\\ubc29\\u003cbr\\u003e\\ub144\\ub3c4=%{x}\\u003cbr\\u003e\\uc5d0\\ub108\\uc9c0\\uc0ac\\uc6a9\\ub7c9=%{y}\\u003cextra\\u003e\\u003c\\u002fextra\\u003e\",\"legendgroup\":\"Gyeongsangbuk-do\",\"line\":{\"color\":\"#FF97FF\"},\"marker\":{\"symbol\":\"circle\"},\"mode\":\"lines\",\"name\":\"Gyeongsangbuk-do\",\"orientation\":\"v\",\"showlegend\":false,\"stackgroup\":\"1\",\"x\":[2018,2019,2020,2021],\"xaxis\":\"x3\",\"y\":[8498,8545,8680,8906],\"yaxis\":\"y3\",\"type\":\"scatter\"},{\"fillpattern\":{\"shape\":\"\"},\"hovertemplate\":\"\\uc2dc\\ub3c4=Gyeongsangnam-do\\u003cbr\\u003e\\uc5d0\\ub108\\uc9c0\\uc885\\ub958=\\ub3c4\\uc2dc\\uac00\\uc2a4\\u003cbr\\u003e\\ub144\\ub3c4=%{x}\\u003cbr\\u003e\\uc5d0\\ub108\\uc9c0\\uc0ac\\uc6a9\\ub7c9=%{y}\\u003cextra\\u003e\\u003c\\u002fextra\\u003e\",\"legendgroup\":\"Gyeongsangnam-do\",\"line\":{\"color\":\"#FECB52\"},\"marker\":{\"symbol\":\"circle\"},\"mode\":\"lines\",\"name\":\"Gyeongsangnam-do\",\"orientation\":\"v\",\"showlegend\":true,\"stackgroup\":\"1\",\"x\":[2018,2019,2020,2021],\"xaxis\":\"x\",\"y\":[568524,560198,581401,598389],\"yaxis\":\"y\",\"type\":\"scatter\"},{\"fillpattern\":{\"shape\":\"\"},\"hovertemplate\":\"\\uc2dc\\ub3c4=Gyeongsangnam-do\\u003cbr\\u003e\\uc5d0\\ub108\\uc9c0\\uc885\\ub958=\\uc804\\uae30\\u003cbr\\u003e\\ub144\\ub3c4=%{x}\\u003cbr\\u003e\\uc5d0\\ub108\\uc9c0\\uc0ac\\uc6a9\\ub7c9=%{y}\\u003cextra\\u003e\\u003c\\u002fextra\\u003e\",\"legendgroup\":\"Gyeongsangnam-do\",\"line\":{\"color\":\"#FECB52\"},\"marker\":{\"symbol\":\"circle\"},\"mode\":\"lines\",\"name\":\"Gyeongsangnam-do\",\"orientation\":\"v\",\"showlegend\":false,\"stackgroup\":\"1\",\"x\":[2018,2019,2020,2021],\"xaxis\":\"x2\",\"y\":[622126,609041,608268,611001],\"yaxis\":\"y2\",\"type\":\"scatter\"},{\"fillpattern\":{\"shape\":\"\"},\"hovertemplate\":\"\\uc2dc\\ub3c4=Gyeongsangnam-do\\u003cbr\\u003e\\uc5d0\\ub108\\uc9c0\\uc885\\ub958=\\uc9c0\\uc5ed\\ub09c\\ubc29\\u003cbr\\u003e\\ub144\\ub3c4=%{x}\\u003cbr\\u003e\\uc5d0\\ub108\\uc9c0\\uc0ac\\uc6a9\\ub7c9=%{y}\\u003cextra\\u003e\\u003c\\u002fextra\\u003e\",\"legendgroup\":\"Gyeongsangnam-do\",\"line\":{\"color\":\"#FECB52\"},\"marker\":{\"symbol\":\"circle\"},\"mode\":\"lines\",\"name\":\"Gyeongsangnam-do\",\"orientation\":\"v\",\"showlegend\":false,\"stackgroup\":\"1\",\"x\":[2018,2019,2020,2021],\"xaxis\":\"x3\",\"y\":[48115,47458,49952,54323],\"yaxis\":\"y3\",\"type\":\"scatter\"},{\"fillpattern\":{\"shape\":\"\"},\"hovertemplate\":\"\\uc2dc\\ub3c4=Incheon\\u003cbr\\u003e\\uc5d0\\ub108\\uc9c0\\uc885\\ub958=\\ub3c4\\uc2dc\\uac00\\uc2a4\\u003cbr\\u003e\\ub144\\ub3c4=%{x}\\u003cbr\\u003e\\uc5d0\\ub108\\uc9c0\\uc0ac\\uc6a9\\ub7c9=%{y}\\u003cextra\\u003e\\u003c\\u002fextra\\u003e\",\"legendgroup\":\"Incheon\",\"line\":{\"color\":\"#636efa\"},\"marker\":{\"symbol\":\"circle\"},\"mode\":\"lines\",\"name\":\"Incheon\",\"orientation\":\"v\",\"showlegend\":true,\"stackgroup\":\"1\",\"x\":[2018,2019,2020,2021],\"xaxis\":\"x\",\"y\":[690058,651129,647800,656265],\"yaxis\":\"y\",\"type\":\"scatter\"},{\"fillpattern\":{\"shape\":\"\"},\"hovertemplate\":\"\\uc2dc\\ub3c4=Incheon\\u003cbr\\u003e\\uc5d0\\ub108\\uc9c0\\uc885\\ub958=\\uc804\\uae30\\u003cbr\\u003e\\ub144\\ub3c4=%{x}\\u003cbr\\u003e\\uc5d0\\ub108\\uc9c0\\uc0ac\\uc6a9\\ub7c9=%{y}\\u003cextra\\u003e\\u003c\\u002fextra\\u003e\",\"legendgroup\":\"Incheon\",\"line\":{\"color\":\"#636efa\"},\"marker\":{\"symbol\":\"circle\"},\"mode\":\"lines\",\"name\":\"Incheon\",\"orientation\":\"v\",\"showlegend\":false,\"stackgroup\":\"1\",\"x\":[2018,2019,2020,2021],\"xaxis\":\"x2\",\"y\":[500591,492754,489258,505623],\"yaxis\":\"y2\",\"type\":\"scatter\"},{\"fillpattern\":{\"shape\":\"\"},\"hovertemplate\":\"\\uc2dc\\ub3c4=Incheon\\u003cbr\\u003e\\uc5d0\\ub108\\uc9c0\\uc885\\ub958=\\uc9c0\\uc5ed\\ub09c\\ubc29\\u003cbr\\u003e\\ub144\\ub3c4=%{x}\\u003cbr\\u003e\\uc5d0\\ub108\\uc9c0\\uc0ac\\uc6a9\\ub7c9=%{y}\\u003cextra\\u003e\\u003c\\u002fextra\\u003e\",\"legendgroup\":\"Incheon\",\"line\":{\"color\":\"#636efa\"},\"marker\":{\"symbol\":\"circle\"},\"mode\":\"lines\",\"name\":\"Incheon\",\"orientation\":\"v\",\"showlegend\":false,\"stackgroup\":\"1\",\"x\":[2018,2019,2020,2021],\"xaxis\":\"x3\",\"y\":[173269,162113,166367,178722],\"yaxis\":\"y3\",\"type\":\"scatter\"},{\"fillpattern\":{\"shape\":\"\"},\"hovertemplate\":\"\\uc2dc\\ub3c4=Jeju-do\\u003cbr\\u003e\\uc5d0\\ub108\\uc9c0\\uc885\\ub958=\\ub3c4\\uc2dc\\uac00\\uc2a4\\u003cbr\\u003e\\ub144\\ub3c4=%{x}\\u003cbr\\u003e\\uc5d0\\ub108\\uc9c0\\uc0ac\\uc6a9\\ub7c9=%{y}\\u003cextra\\u003e\\u003c\\u002fextra\\u003e\",\"legendgroup\":\"Jeju-do\",\"line\":{\"color\":\"#EF553B\"},\"marker\":{\"symbol\":\"circle\"},\"mode\":\"lines\",\"name\":\"Jeju-do\",\"orientation\":\"v\",\"showlegend\":true,\"stackgroup\":\"1\",\"x\":[2018,2019,2020,2021],\"xaxis\":\"x\",\"y\":[17593,15443,23818,28330],\"yaxis\":\"y\",\"type\":\"scatter\"},{\"fillpattern\":{\"shape\":\"\"},\"hovertemplate\":\"\\uc2dc\\ub3c4=Jeju-do\\u003cbr\\u003e\\uc5d0\\ub108\\uc9c0\\uc885\\ub958=\\uc804\\uae30\\u003cbr\\u003e\\ub144\\ub3c4=%{x}\\u003cbr\\u003e\\uc5d0\\ub108\\uc9c0\\uc0ac\\uc6a9\\ub7c9=%{y}\\u003cextra\\u003e\\u003c\\u002fextra\\u003e\",\"legendgroup\":\"Jeju-do\",\"line\":{\"color\":\"#EF553B\"},\"marker\":{\"symbol\":\"circle\"},\"mode\":\"lines\",\"name\":\"Jeju-do\",\"orientation\":\"v\",\"showlegend\":false,\"stackgroup\":\"1\",\"x\":[2018,2019,2020,2021],\"xaxis\":\"x2\",\"y\":[129862,130855,134722,141101],\"yaxis\":\"y2\",\"type\":\"scatter\"},{\"fillpattern\":{\"shape\":\"\"},\"hovertemplate\":\"\\uc2dc\\ub3c4=Jeju-do\\u003cbr\\u003e\\uc5d0\\ub108\\uc9c0\\uc885\\ub958=\\uc9c0\\uc5ed\\ub09c\\ubc29\\u003cbr\\u003e\\ub144\\ub3c4=%{x}\\u003cbr\\u003e\\uc5d0\\ub108\\uc9c0\\uc0ac\\uc6a9\\ub7c9=%{y}\\u003cextra\\u003e\\u003c\\u002fextra\\u003e\",\"legendgroup\":\"Jeju-do\",\"line\":{\"color\":\"#EF553B\"},\"marker\":{\"symbol\":\"circle\"},\"mode\":\"lines\",\"name\":\"Jeju-do\",\"orientation\":\"v\",\"showlegend\":false,\"stackgroup\":\"1\",\"x\":[2018,2019,2020,2021],\"xaxis\":\"x3\",\"y\":[0,0,0,0],\"yaxis\":\"y3\",\"type\":\"scatter\"},{\"fillpattern\":{\"shape\":\"\"},\"hovertemplate\":\"\\uc2dc\\ub3c4=Jeollabuk-do\\u003cbr\\u003e\\uc5d0\\ub108\\uc9c0\\uc885\\ub958=\\ub3c4\\uc2dc\\uac00\\uc2a4\\u003cbr\\u003e\\ub144\\ub3c4=%{x}\\u003cbr\\u003e\\uc5d0\\ub108\\uc9c0\\uc0ac\\uc6a9\\ub7c9=%{y}\\u003cextra\\u003e\\u003c\\u002fextra\\u003e\",\"legendgroup\":\"Jeollabuk-do\",\"line\":{\"color\":\"#00cc96\"},\"marker\":{\"symbol\":\"circle\"},\"mode\":\"lines\",\"name\":\"Jeollabuk-do\",\"orientation\":\"v\",\"showlegend\":true,\"stackgroup\":\"1\",\"x\":[2018,2019,2020,2021],\"xaxis\":\"x\",\"y\":[384263,376818,396014,403399],\"yaxis\":\"y\",\"type\":\"scatter\"},{\"fillpattern\":{\"shape\":\"\"},\"hovertemplate\":\"\\uc2dc\\ub3c4=Jeollabuk-do\\u003cbr\\u003e\\uc5d0\\ub108\\uc9c0\\uc885\\ub958=\\uc804\\uae30\\u003cbr\\u003e\\ub144\\ub3c4=%{x}\\u003cbr\\u003e\\uc5d0\\ub108\\uc9c0\\uc0ac\\uc6a9\\ub7c9=%{y}\\u003cextra\\u003e\\u003c\\u002fextra\\u003e\",\"legendgroup\":\"Jeollabuk-do\",\"line\":{\"color\":\"#00cc96\"},\"marker\":{\"symbol\":\"circle\"},\"mode\":\"lines\",\"name\":\"Jeollabuk-do\",\"orientation\":\"v\",\"showlegend\":false,\"stackgroup\":\"1\",\"x\":[2018,2019,2020,2021],\"xaxis\":\"x2\",\"y\":[356715,350862,351573,357058],\"yaxis\":\"y2\",\"type\":\"scatter\"},{\"fillpattern\":{\"shape\":\"\"},\"hovertemplate\":\"\\uc2dc\\ub3c4=Jeollabuk-do\\u003cbr\\u003e\\uc5d0\\ub108\\uc9c0\\uc885\\ub958=\\uc9c0\\uc5ed\\ub09c\\ubc29\\u003cbr\\u003e\\ub144\\ub3c4=%{x}\\u003cbr\\u003e\\uc5d0\\ub108\\uc9c0\\uc0ac\\uc6a9\\ub7c9=%{y}\\u003cextra\\u003e\\u003c\\u002fextra\\u003e\",\"legendgroup\":\"Jeollabuk-do\",\"line\":{\"color\":\"#00cc96\"},\"marker\":{\"symbol\":\"circle\"},\"mode\":\"lines\",\"name\":\"Jeollabuk-do\",\"orientation\":\"v\",\"showlegend\":false,\"stackgroup\":\"1\",\"x\":[2018,2019,2020,2021],\"xaxis\":\"x3\",\"y\":[4098,4433,4521,4321],\"yaxis\":\"y3\",\"type\":\"scatter\"},{\"fillpattern\":{\"shape\":\"\"},\"hovertemplate\":\"\\uc2dc\\ub3c4=Jeollanam-do\\u003cbr\\u003e\\uc5d0\\ub108\\uc9c0\\uc885\\ub958=\\ub3c4\\uc2dc\\uac00\\uc2a4\\u003cbr\\u003e\\ub144\\ub3c4=%{x}\\u003cbr\\u003e\\uc5d0\\ub108\\uc9c0\\uc0ac\\uc6a9\\ub7c9=%{y}\\u003cextra\\u003e\\u003c\\u002fextra\\u003e\",\"legendgroup\":\"Jeollanam-do\",\"line\":{\"color\":\"#ab63fa\"},\"marker\":{\"symbol\":\"circle\"},\"mode\":\"lines\",\"name\":\"Jeollanam-do\",\"orientation\":\"v\",\"showlegend\":true,\"stackgroup\":\"1\",\"x\":[2018,2019,2020,2021],\"xaxis\":\"x\",\"y\":[249552,252357,270252,281895],\"yaxis\":\"y\",\"type\":\"scatter\"},{\"fillpattern\":{\"shape\":\"\"},\"hovertemplate\":\"\\uc2dc\\ub3c4=Jeollanam-do\\u003cbr\\u003e\\uc5d0\\ub108\\uc9c0\\uc885\\ub958=\\uc804\\uae30\\u003cbr\\u003e\\ub144\\ub3c4=%{x}\\u003cbr\\u003e\\uc5d0\\ub108\\uc9c0\\uc0ac\\uc6a9\\ub7c9=%{y}\\u003cextra\\u003e\\u003c\\u002fextra\\u003e\",\"legendgroup\":\"Jeollanam-do\",\"line\":{\"color\":\"#ab63fa\"},\"marker\":{\"symbol\":\"circle\"},\"mode\":\"lines\",\"name\":\"Jeollanam-do\",\"orientation\":\"v\",\"showlegend\":false,\"stackgroup\":\"1\",\"x\":[2018,2019,2020,2021],\"xaxis\":\"x2\",\"y\":[338234,330685,334805,338032],\"yaxis\":\"y2\",\"type\":\"scatter\"},{\"fillpattern\":{\"shape\":\"\"},\"hovertemplate\":\"\\uc2dc\\ub3c4=Jeollanam-do\\u003cbr\\u003e\\uc5d0\\ub108\\uc9c0\\uc885\\ub958=\\uc9c0\\uc5ed\\ub09c\\ubc29\\u003cbr\\u003e\\ub144\\ub3c4=%{x}\\u003cbr\\u003e\\uc5d0\\ub108\\uc9c0\\uc0ac\\uc6a9\\ub7c9=%{y}\\u003cextra\\u003e\\u003c\\u002fextra\\u003e\",\"legendgroup\":\"Jeollanam-do\",\"line\":{\"color\":\"#ab63fa\"},\"marker\":{\"symbol\":\"circle\"},\"mode\":\"lines\",\"name\":\"Jeollanam-do\",\"orientation\":\"v\",\"showlegend\":false,\"stackgroup\":\"1\",\"x\":[2018,2019,2020,2021],\"xaxis\":\"x3\",\"y\":[6976,7690,8358,9012],\"yaxis\":\"y3\",\"type\":\"scatter\"},{\"fillpattern\":{\"shape\":\"\"},\"hovertemplate\":\"\\uc2dc\\ub3c4=Sejongsi\\u003cbr\\u003e\\uc5d0\\ub108\\uc9c0\\uc885\\ub958=\\ub3c4\\uc2dc\\uac00\\uc2a4\\u003cbr\\u003e\\ub144\\ub3c4=%{x}\\u003cbr\\u003e\\uc5d0\\ub108\\uc9c0\\uc0ac\\uc6a9\\ub7c9=%{y}\\u003cextra\\u003e\\u003c\\u002fextra\\u003e\",\"legendgroup\":\"Sejongsi\",\"line\":{\"color\":\"#FFA15A\"},\"marker\":{\"symbol\":\"circle\"},\"mode\":\"lines\",\"name\":\"Sejongsi\",\"orientation\":\"v\",\"showlegend\":true,\"stackgroup\":\"1\",\"x\":[2018,2019,2020,2021],\"xaxis\":\"x\",\"y\":[28287,28552,29299,30533],\"yaxis\":\"y\",\"type\":\"scatter\"},{\"fillpattern\":{\"shape\":\"\"},\"hovertemplate\":\"\\uc2dc\\ub3c4=Sejongsi\\u003cbr\\u003e\\uc5d0\\ub108\\uc9c0\\uc885\\ub958=\\uc804\\uae30\\u003cbr\\u003e\\ub144\\ub3c4=%{x}\\u003cbr\\u003e\\uc5d0\\ub108\\uc9c0\\uc0ac\\uc6a9\\ub7c9=%{y}\\u003cextra\\u003e\\u003c\\u002fextra\\u003e\",\"legendgroup\":\"Sejongsi\",\"line\":{\"color\":\"#FFA15A\"},\"marker\":{\"symbol\":\"circle\"},\"mode\":\"lines\",\"name\":\"Sejongsi\",\"orientation\":\"v\",\"showlegend\":false,\"stackgroup\":\"1\",\"x\":[2018,2019,2020,2021],\"xaxis\":\"x2\",\"y\":[60932,64564,67545,70915],\"yaxis\":\"y2\",\"type\":\"scatter\"},{\"fillpattern\":{\"shape\":\"\"},\"hovertemplate\":\"\\uc2dc\\ub3c4=Sejongsi\\u003cbr\\u003e\\uc5d0\\ub108\\uc9c0\\uc885\\ub958=\\uc9c0\\uc5ed\\ub09c\\ubc29\\u003cbr\\u003e\\ub144\\ub3c4=%{x}\\u003cbr\\u003e\\uc5d0\\ub108\\uc9c0\\uc0ac\\uc6a9\\ub7c9=%{y}\\u003cextra\\u003e\\u003c\\u002fextra\\u003e\",\"legendgroup\":\"Sejongsi\",\"line\":{\"color\":\"#FFA15A\"},\"marker\":{\"symbol\":\"circle\"},\"mode\":\"lines\",\"name\":\"Sejongsi\",\"orientation\":\"v\",\"showlegend\":false,\"stackgroup\":\"1\",\"x\":[2018,2019,2020,2021],\"xaxis\":\"x3\",\"y\":[48571,53830,56312,61404],\"yaxis\":\"y3\",\"type\":\"scatter\"},{\"fillpattern\":{\"shape\":\"\"},\"hovertemplate\":\"\\uc2dc\\ub3c4=Seoul\\u003cbr\\u003e\\uc5d0\\ub108\\uc9c0\\uc885\\ub958=\\ub3c4\\uc2dc\\uac00\\uc2a4\\u003cbr\\u003e\\ub144\\ub3c4=%{x}\\u003cbr\\u003e\\uc5d0\\ub108\\uc9c0\\uc0ac\\uc6a9\\ub7c9=%{y}\\u003cextra\\u003e\\u003c\\u002fextra\\u003e\",\"legendgroup\":\"Seoul\",\"line\":{\"color\":\"#19d3f3\"},\"marker\":{\"symbol\":\"circle\"},\"mode\":\"lines\",\"name\":\"Seoul\",\"orientation\":\"v\",\"showlegend\":true,\"stackgroup\":\"1\",\"x\":[2018,2019,2020,2021],\"xaxis\":\"x\",\"y\":[2981811,2801571,2763442,3617731],\"yaxis\":\"y\",\"type\":\"scatter\"},{\"fillpattern\":{\"shape\":\"\"},\"hovertemplate\":\"\\uc2dc\\ub3c4=Seoul\\u003cbr\\u003e\\uc5d0\\ub108\\uc9c0\\uc885\\ub958=\\uc804\\uae30\\u003cbr\\u003e\\ub144\\ub3c4=%{x}\\u003cbr\\u003e\\uc5d0\\ub108\\uc9c0\\uc0ac\\uc6a9\\ub7c9=%{y}\\u003cextra\\u003e\\u003c\\u002fextra\\u003e\",\"legendgroup\":\"Seoul\",\"line\":{\"color\":\"#19d3f3\"},\"marker\":{\"symbol\":\"circle\"},\"mode\":\"lines\",\"name\":\"Seoul\",\"orientation\":\"v\",\"showlegend\":false,\"stackgroup\":\"1\",\"x\":[2018,2019,2020,2021],\"xaxis\":\"x2\",\"y\":[1990158,1945093,1910076,3486022],\"yaxis\":\"y2\",\"type\":\"scatter\"},{\"fillpattern\":{\"shape\":\"\"},\"hovertemplate\":\"\\uc2dc\\ub3c4=Seoul\\u003cbr\\u003e\\uc5d0\\ub108\\uc9c0\\uc885\\ub958=\\uc9c0\\uc5ed\\ub09c\\ubc29\\u003cbr\\u003e\\ub144\\ub3c4=%{x}\\u003cbr\\u003e\\uc5d0\\ub108\\uc9c0\\uc0ac\\uc6a9\\ub7c9=%{y}\\u003cextra\\u003e\\u003c\\u002fextra\\u003e\",\"legendgroup\":\"Seoul\",\"line\":{\"color\":\"#19d3f3\"},\"marker\":{\"symbol\":\"circle\"},\"mode\":\"lines\",\"name\":\"Seoul\",\"orientation\":\"v\",\"showlegend\":false,\"stackgroup\":\"1\",\"x\":[2018,2019,2020,2021],\"xaxis\":\"x3\",\"y\":[441318,426320,435707,546491],\"yaxis\":\"y3\",\"type\":\"scatter\"},{\"fillpattern\":{\"shape\":\"\"},\"hovertemplate\":\"\\uc2dc\\ub3c4=Ulsan\\u003cbr\\u003e\\uc5d0\\ub108\\uc9c0\\uc885\\ub958=\\ub3c4\\uc2dc\\uac00\\uc2a4\\u003cbr\\u003e\\ub144\\ub3c4=%{x}\\u003cbr\\u003e\\uc5d0\\ub108\\uc9c0\\uc0ac\\uc6a9\\ub7c9=%{y}\\u003cextra\\u003e\\u003c\\u002fextra\\u003e\",\"legendgroup\":\"Ulsan\",\"line\":{\"color\":\"#FF6692\"},\"marker\":{\"symbol\":\"circle\"},\"mode\":\"lines\",\"name\":\"Ulsan\",\"orientation\":\"v\",\"showlegend\":true,\"stackgroup\":\"1\",\"x\":[2018,2019,2020,2021],\"xaxis\":\"x\",\"y\":[315510,298611,306896,312276],\"yaxis\":\"y\",\"type\":\"scatter\"},{\"fillpattern\":{\"shape\":\"\"},\"hovertemplate\":\"\\uc2dc\\ub3c4=Ulsan\\u003cbr\\u003e\\uc5d0\\ub108\\uc9c0\\uc885\\ub958=\\uc804\\uae30\\u003cbr\\u003e\\ub144\\ub3c4=%{x}\\u003cbr\\u003e\\uc5d0\\ub108\\uc9c0\\uc0ac\\uc6a9\\ub7c9=%{y}\\u003cextra\\u003e\\u003c\\u002fextra\\u003e\",\"legendgroup\":\"Ulsan\",\"line\":{\"color\":\"#FF6692\"},\"marker\":{\"symbol\":\"circle\"},\"mode\":\"lines\",\"name\":\"Ulsan\",\"orientation\":\"v\",\"showlegend\":false,\"stackgroup\":\"1\",\"x\":[2018,2019,2020,2021],\"xaxis\":\"x2\",\"y\":[197002,192580,193846,196412],\"yaxis\":\"y2\",\"type\":\"scatter\"},{\"fillpattern\":{\"shape\":\"\"},\"hovertemplate\":\"\\uc2dc\\ub3c4=Ulsan\\u003cbr\\u003e\\uc5d0\\ub108\\uc9c0\\uc885\\ub958=\\uc9c0\\uc5ed\\ub09c\\ubc29\\u003cbr\\u003e\\ub144\\ub3c4=%{x}\\u003cbr\\u003e\\uc5d0\\ub108\\uc9c0\\uc0ac\\uc6a9\\ub7c9=%{y}\\u003cextra\\u003e\\u003c\\u002fextra\\u003e\",\"legendgroup\":\"Ulsan\",\"line\":{\"color\":\"#FF6692\"},\"marker\":{\"symbol\":\"circle\"},\"mode\":\"lines\",\"name\":\"Ulsan\",\"orientation\":\"v\",\"showlegend\":false,\"stackgroup\":\"1\",\"x\":[2018,2019,2020,2021],\"xaxis\":\"x3\",\"y\":[0,0,0,0],\"yaxis\":\"y3\",\"type\":\"scatter\"}],                        {\"template\":{\"data\":{\"histogram2dcontour\":[{\"type\":\"histogram2dcontour\",\"colorbar\":{\"outlinewidth\":0,\"ticks\":\"\"},\"colorscale\":[[0.0,\"#0d0887\"],[0.1111111111111111,\"#46039f\"],[0.2222222222222222,\"#7201a8\"],[0.3333333333333333,\"#9c179e\"],[0.4444444444444444,\"#bd3786\"],[0.5555555555555556,\"#d8576b\"],[0.6666666666666666,\"#ed7953\"],[0.7777777777777778,\"#fb9f3a\"],[0.8888888888888888,\"#fdca26\"],[1.0,\"#f0f921\"]]}],\"choropleth\":[{\"type\":\"choropleth\",\"colorbar\":{\"outlinewidth\":0,\"ticks\":\"\"}}],\"histogram2d\":[{\"type\":\"histogram2d\",\"colorbar\":{\"outlinewidth\":0,\"ticks\":\"\"},\"colorscale\":[[0.0,\"#0d0887\"],[0.1111111111111111,\"#46039f\"],[0.2222222222222222,\"#7201a8\"],[0.3333333333333333,\"#9c179e\"],[0.4444444444444444,\"#bd3786\"],[0.5555555555555556,\"#d8576b\"],[0.6666666666666666,\"#ed7953\"],[0.7777777777777778,\"#fb9f3a\"],[0.8888888888888888,\"#fdca26\"],[1.0,\"#f0f921\"]]}],\"heatmap\":[{\"type\":\"heatmap\",\"colorbar\":{\"outlinewidth\":0,\"ticks\":\"\"},\"colorscale\":[[0.0,\"#0d0887\"],[0.1111111111111111,\"#46039f\"],[0.2222222222222222,\"#7201a8\"],[0.3333333333333333,\"#9c179e\"],[0.4444444444444444,\"#bd3786\"],[0.5555555555555556,\"#d8576b\"],[0.6666666666666666,\"#ed7953\"],[0.7777777777777778,\"#fb9f3a\"],[0.8888888888888888,\"#fdca26\"],[1.0,\"#f0f921\"]]}],\"heatmapgl\":[{\"type\":\"heatmapgl\",\"colorbar\":{\"outlinewidth\":0,\"ticks\":\"\"},\"colorscale\":[[0.0,\"#0d0887\"],[0.1111111111111111,\"#46039f\"],[0.2222222222222222,\"#7201a8\"],[0.3333333333333333,\"#9c179e\"],[0.4444444444444444,\"#bd3786\"],[0.5555555555555556,\"#d8576b\"],[0.6666666666666666,\"#ed7953\"],[0.7777777777777778,\"#fb9f3a\"],[0.8888888888888888,\"#fdca26\"],[1.0,\"#f0f921\"]]}],\"contourcarpet\":[{\"type\":\"contourcarpet\",\"colorbar\":{\"outlinewidth\":0,\"ticks\":\"\"}}],\"contour\":[{\"type\":\"contour\",\"colorbar\":{\"outlinewidth\":0,\"ticks\":\"\"},\"colorscale\":[[0.0,\"#0d0887\"],[0.1111111111111111,\"#46039f\"],[0.2222222222222222,\"#7201a8\"],[0.3333333333333333,\"#9c179e\"],[0.4444444444444444,\"#bd3786\"],[0.5555555555555556,\"#d8576b\"],[0.6666666666666666,\"#ed7953\"],[0.7777777777777778,\"#fb9f3a\"],[0.8888888888888888,\"#fdca26\"],[1.0,\"#f0f921\"]]}],\"surface\":[{\"type\":\"surface\",\"colorbar\":{\"outlinewidth\":0,\"ticks\":\"\"},\"colorscale\":[[0.0,\"#0d0887\"],[0.1111111111111111,\"#46039f\"],[0.2222222222222222,\"#7201a8\"],[0.3333333333333333,\"#9c179e\"],[0.4444444444444444,\"#bd3786\"],[0.5555555555555556,\"#d8576b\"],[0.6666666666666666,\"#ed7953\"],[0.7777777777777778,\"#fb9f3a\"],[0.8888888888888888,\"#fdca26\"],[1.0,\"#f0f921\"]]}],\"mesh3d\":[{\"type\":\"mesh3d\",\"colorbar\":{\"outlinewidth\":0,\"ticks\":\"\"}}],\"scatter\":[{\"fillpattern\":{\"fillmode\":\"overlay\",\"size\":10,\"solidity\":0.2},\"type\":\"scatter\"}],\"parcoords\":[{\"type\":\"parcoords\",\"line\":{\"colorbar\":{\"outlinewidth\":0,\"ticks\":\"\"}}}],\"scatterpolargl\":[{\"type\":\"scatterpolargl\",\"marker\":{\"colorbar\":{\"outlinewidth\":0,\"ticks\":\"\"}}}],\"bar\":[{\"error_x\":{\"color\":\"#2a3f5f\"},\"error_y\":{\"color\":\"#2a3f5f\"},\"marker\":{\"line\":{\"color\":\"white\",\"width\":0.5},\"pattern\":{\"fillmode\":\"overlay\",\"size\":10,\"solidity\":0.2}},\"type\":\"bar\"}],\"scattergeo\":[{\"type\":\"scattergeo\",\"marker\":{\"colorbar\":{\"outlinewidth\":0,\"ticks\":\"\"}}}],\"scatterpolar\":[{\"type\":\"scatterpolar\",\"marker\":{\"colorbar\":{\"outlinewidth\":0,\"ticks\":\"\"}}}],\"histogram\":[{\"marker\":{\"pattern\":{\"fillmode\":\"overlay\",\"size\":10,\"solidity\":0.2}},\"type\":\"histogram\"}],\"scattergl\":[{\"type\":\"scattergl\",\"marker\":{\"colorbar\":{\"outlinewidth\":0,\"ticks\":\"\"}}}],\"scatter3d\":[{\"type\":\"scatter3d\",\"line\":{\"colorbar\":{\"outlinewidth\":0,\"ticks\":\"\"}},\"marker\":{\"colorbar\":{\"outlinewidth\":0,\"ticks\":\"\"}}}],\"scattermapbox\":[{\"type\":\"scattermapbox\",\"marker\":{\"colorbar\":{\"outlinewidth\":0,\"ticks\":\"\"}}}],\"scatterternary\":[{\"type\":\"scatterternary\",\"marker\":{\"colorbar\":{\"outlinewidth\":0,\"ticks\":\"\"}}}],\"scattercarpet\":[{\"type\":\"scattercarpet\",\"marker\":{\"colorbar\":{\"outlinewidth\":0,\"ticks\":\"\"}}}],\"carpet\":[{\"aaxis\":{\"endlinecolor\":\"#2a3f5f\",\"gridcolor\":\"#C8D4E3\",\"linecolor\":\"#C8D4E3\",\"minorgridcolor\":\"#C8D4E3\",\"startlinecolor\":\"#2a3f5f\"},\"baxis\":{\"endlinecolor\":\"#2a3f5f\",\"gridcolor\":\"#C8D4E3\",\"linecolor\":\"#C8D4E3\",\"minorgridcolor\":\"#C8D4E3\",\"startlinecolor\":\"#2a3f5f\"},\"type\":\"carpet\"}],\"table\":[{\"cells\":{\"fill\":{\"color\":\"#EBF0F8\"},\"line\":{\"color\":\"white\"}},\"header\":{\"fill\":{\"color\":\"#C8D4E3\"},\"line\":{\"color\":\"white\"}},\"type\":\"table\"}],\"barpolar\":[{\"marker\":{\"line\":{\"color\":\"white\",\"width\":0.5},\"pattern\":{\"fillmode\":\"overlay\",\"size\":10,\"solidity\":0.2}},\"type\":\"barpolar\"}],\"pie\":[{\"automargin\":true,\"type\":\"pie\"}]},\"layout\":{\"autotypenumbers\":\"strict\",\"colorway\":[\"#636efa\",\"#EF553B\",\"#00cc96\",\"#ab63fa\",\"#FFA15A\",\"#19d3f3\",\"#FF6692\",\"#B6E880\",\"#FF97FF\",\"#FECB52\"],\"font\":{\"color\":\"#2a3f5f\"},\"hovermode\":\"closest\",\"hoverlabel\":{\"align\":\"left\"},\"paper_bgcolor\":\"white\",\"plot_bgcolor\":\"white\",\"polar\":{\"bgcolor\":\"white\",\"angularaxis\":{\"gridcolor\":\"#EBF0F8\",\"linecolor\":\"#EBF0F8\",\"ticks\":\"\"},\"radialaxis\":{\"gridcolor\":\"#EBF0F8\",\"linecolor\":\"#EBF0F8\",\"ticks\":\"\"}},\"ternary\":{\"bgcolor\":\"white\",\"aaxis\":{\"gridcolor\":\"#DFE8F3\",\"linecolor\":\"#A2B1C6\",\"ticks\":\"\"},\"baxis\":{\"gridcolor\":\"#DFE8F3\",\"linecolor\":\"#A2B1C6\",\"ticks\":\"\"},\"caxis\":{\"gridcolor\":\"#DFE8F3\",\"linecolor\":\"#A2B1C6\",\"ticks\":\"\"}},\"coloraxis\":{\"colorbar\":{\"outlinewidth\":0,\"ticks\":\"\"}},\"colorscale\":{\"sequential\":[[0.0,\"#0d0887\"],[0.1111111111111111,\"#46039f\"],[0.2222222222222222,\"#7201a8\"],[0.3333333333333333,\"#9c179e\"],[0.4444444444444444,\"#bd3786\"],[0.5555555555555556,\"#d8576b\"],[0.6666666666666666,\"#ed7953\"],[0.7777777777777778,\"#fb9f3a\"],[0.8888888888888888,\"#fdca26\"],[1.0,\"#f0f921\"]],\"sequentialminus\":[[0.0,\"#0d0887\"],[0.1111111111111111,\"#46039f\"],[0.2222222222222222,\"#7201a8\"],[0.3333333333333333,\"#9c179e\"],[0.4444444444444444,\"#bd3786\"],[0.5555555555555556,\"#d8576b\"],[0.6666666666666666,\"#ed7953\"],[0.7777777777777778,\"#fb9f3a\"],[0.8888888888888888,\"#fdca26\"],[1.0,\"#f0f921\"]],\"diverging\":[[0,\"#8e0152\"],[0.1,\"#c51b7d\"],[0.2,\"#de77ae\"],[0.3,\"#f1b6da\"],[0.4,\"#fde0ef\"],[0.5,\"#f7f7f7\"],[0.6,\"#e6f5d0\"],[0.7,\"#b8e186\"],[0.8,\"#7fbc41\"],[0.9,\"#4d9221\"],[1,\"#276419\"]]},\"xaxis\":{\"gridcolor\":\"#EBF0F8\",\"linecolor\":\"#EBF0F8\",\"ticks\":\"\",\"title\":{\"standoff\":15},\"zerolinecolor\":\"#EBF0F8\",\"automargin\":true,\"zerolinewidth\":2},\"yaxis\":{\"gridcolor\":\"#EBF0F8\",\"linecolor\":\"#EBF0F8\",\"ticks\":\"\",\"title\":{\"standoff\":15},\"zerolinecolor\":\"#EBF0F8\",\"automargin\":true,\"zerolinewidth\":2},\"scene\":{\"xaxis\":{\"backgroundcolor\":\"white\",\"gridcolor\":\"#DFE8F3\",\"linecolor\":\"#EBF0F8\",\"showbackground\":true,\"ticks\":\"\",\"zerolinecolor\":\"#EBF0F8\",\"gridwidth\":2},\"yaxis\":{\"backgroundcolor\":\"white\",\"gridcolor\":\"#DFE8F3\",\"linecolor\":\"#EBF0F8\",\"showbackground\":true,\"ticks\":\"\",\"zerolinecolor\":\"#EBF0F8\",\"gridwidth\":2},\"zaxis\":{\"backgroundcolor\":\"white\",\"gridcolor\":\"#DFE8F3\",\"linecolor\":\"#EBF0F8\",\"showbackground\":true,\"ticks\":\"\",\"zerolinecolor\":\"#EBF0F8\",\"gridwidth\":2}},\"shapedefaults\":{\"line\":{\"color\":\"#2a3f5f\"}},\"annotationdefaults\":{\"arrowcolor\":\"#2a3f5f\",\"arrowhead\":0,\"arrowwidth\":1},\"geo\":{\"bgcolor\":\"white\",\"landcolor\":\"white\",\"subunitcolor\":\"#C8D4E3\",\"showland\":true,\"showlakes\":true,\"lakecolor\":\"white\"},\"title\":{\"x\":0.05},\"mapbox\":{\"style\":\"light\"}}},\"xaxis\":{\"anchor\":\"y\",\"domain\":[0.0,0.25],\"title\":{\"text\":\"\\ub144\\ub3c4\"}},\"yaxis\":{\"anchor\":\"x\",\"domain\":[0.0,1.0],\"title\":{\"text\":\"\\uc5d0\\ub108\\uc9c0\\uc0ac\\uc6a9\\ub7c9\"}},\"xaxis2\":{\"anchor\":\"y2\",\"domain\":[0.35,0.6],\"matches\":\"x\",\"title\":{\"text\":\"\\ub144\\ub3c4\"}},\"yaxis2\":{\"anchor\":\"x2\",\"domain\":[0.0,1.0],\"matches\":\"y\",\"showticklabels\":false},\"xaxis3\":{\"anchor\":\"y3\",\"domain\":[0.7,0.95],\"matches\":\"x\",\"title\":{\"text\":\"\\ub144\\ub3c4\"}},\"yaxis3\":{\"anchor\":\"x3\",\"domain\":[0.0,1.0],\"matches\":\"y\",\"showticklabels\":false},\"annotations\":[{\"font\":{},\"showarrow\":false,\"text\":\"\\uc5d0\\ub108\\uc9c0\\uc885\\ub958=\\ub3c4\\uc2dc\\uac00\\uc2a4\",\"x\":0.15999999999999998,\"xanchor\":\"center\",\"xref\":\"paper\",\"y\":1.0,\"yanchor\":\"bottom\",\"yref\":\"paper\"},{\"font\":{},\"showarrow\":false,\"text\":\"\\uc5d0\\ub108\\uc9c0\\uc885\\ub958=\\uc804\\uae30\",\"x\":0.49999999999999994,\"xanchor\":\"center\",\"xref\":\"paper\",\"y\":1.0,\"yanchor\":\"bottom\",\"yref\":\"paper\"},{\"font\":{},\"showarrow\":false,\"text\":\"\\uc5d0\\ub108\\uc9c0\\uc885\\ub958=\\uc9c0\\uc5ed\\ub09c\\ubc29\",\"x\":0.8399999999999999,\"xanchor\":\"center\",\"xref\":\"paper\",\"y\":1.0,\"yanchor\":\"bottom\",\"yref\":\"paper\"}],\"legend\":{\"title\":{\"text\":\"\\uc2dc\\ub3c4\"},\"tracegroupgap\":0},\"margin\":{\"t\":60}},                        {\"responsive\": true}                    ).then(function(){\n",
       "                            \n",
       "var gd = document.getElementById('4c44a7ef-08db-4470-b80f-541c2596cd3d');\n",
       "var x = new MutationObserver(function (mutations, observer) {{\n",
       "        var display = window.getComputedStyle(gd).display;\n",
       "        if (!display || display === 'none') {{\n",
       "            console.log([gd, 'removed!']);\n",
       "            Plotly.purge(gd);\n",
       "            observer.disconnect();\n",
       "        }}\n",
       "}});\n",
       "\n",
       "// Listen for the removal of the full notebook cells\n",
       "var notebookContainer = gd.closest('#notebook-container');\n",
       "if (notebookContainer) {{\n",
       "    x.observe(notebookContainer, {childList: true});\n",
       "}}\n",
       "\n",
       "// Listen for the clearing of the current output cell\n",
       "var outputEl = gd.closest('.output');\n",
       "if (outputEl) {{\n",
       "    x.observe(outputEl, {childList: true});\n",
       "}}\n",
       "\n",
       "                        })                };                });            </script>        </div>"
      ]
     },
     "metadata": {},
     "output_type": "display_data"
    }
   ],
   "source": [
    "fig = df.set_index(['년도','시도','지역','건물동수','연면적']).stack().reset_index()\\\n",
    ".rename({'level_5':'에너지종류',0:'에너지사용량'},axis=1)\\\n",
    ".assign(에너지종류 = lambda df: df.에너지종류.str.split('/').str[-1])\\\n",
    ".groupby(['시도','년도','에너지종류']).agg({'에너지사용량':'sum'}).stack().reset_index()\\\n",
    ".rename({0:'에너지사용량'},axis=1).drop('level_3',axis=1)\\\n",
    ".plot.area(\n",
    "    x='년도',y='에너지사용량',\n",
    "    color='시도',\n",
    "    facet_col='에너지종류',\n",
    ")    \n",
    "fig.update_layout(\n",
    "    xaxis_domain=[0.0, 0.25],\n",
    "    xaxis2_domain=[0.35, 0.60],\n",
    "    xaxis3_domain=[0.70, 0.95]\n",
    ")"
   ]
  },
  {
   "cell_type": "markdown",
   "id": "6471c2f0-cb11-42f0-8596-3eb140bfc2e6",
   "metadata": {},
   "source": [
    "# 4. HW "
   ]
  },
  {
   "cell_type": "markdown",
   "id": "640dd9eb-a382-4f87-9007-6db3ff6ffd89",
   "metadata": {},
   "source": [
    "아래의 코드를 활용하여 Kaggle의 [HRdataset](https://www.kaggle.com/datasets/rhuebner/human-resources-data-set)을 불러오고 물음에 답하라."
   ]
  },
  {
   "cell_type": "code",
   "execution_count": 388,
   "id": "5c4479fe-21dc-439a-a2e6-a1a05d67bec0",
   "metadata": {
    "tags": []
   },
   "outputs": [
    {
     "data": {
      "text/html": [
       "<div>\n",
       "<style scoped>\n",
       "    .dataframe tbody tr th:only-of-type {\n",
       "        vertical-align: middle;\n",
       "    }\n",
       "\n",
       "    .dataframe tbody tr th {\n",
       "        vertical-align: top;\n",
       "    }\n",
       "\n",
       "    .dataframe thead th {\n",
       "        text-align: right;\n",
       "    }\n",
       "</style>\n",
       "<table border=\"1\" class=\"dataframe\">\n",
       "  <thead>\n",
       "    <tr style=\"text-align: right;\">\n",
       "      <th></th>\n",
       "      <th>Employee_Name</th>\n",
       "      <th>EmpID</th>\n",
       "      <th>MarriedID</th>\n",
       "      <th>MaritalStatusID</th>\n",
       "      <th>GenderID</th>\n",
       "      <th>EmpStatusID</th>\n",
       "      <th>DeptID</th>\n",
       "      <th>PerfScoreID</th>\n",
       "      <th>FromDiversityJobFairID</th>\n",
       "      <th>Salary</th>\n",
       "      <th>...</th>\n",
       "      <th>ManagerName</th>\n",
       "      <th>ManagerID</th>\n",
       "      <th>RecruitmentSource</th>\n",
       "      <th>PerformanceScore</th>\n",
       "      <th>EngagementSurvey</th>\n",
       "      <th>EmpSatisfaction</th>\n",
       "      <th>SpecialProjectsCount</th>\n",
       "      <th>LastPerformanceReview_Date</th>\n",
       "      <th>DaysLateLast30</th>\n",
       "      <th>Absences</th>\n",
       "    </tr>\n",
       "  </thead>\n",
       "  <tbody>\n",
       "    <tr>\n",
       "      <th>0</th>\n",
       "      <td>Adinolfi, Wilson  K</td>\n",
       "      <td>10026</td>\n",
       "      <td>0</td>\n",
       "      <td>0</td>\n",
       "      <td>1</td>\n",
       "      <td>1</td>\n",
       "      <td>5</td>\n",
       "      <td>4</td>\n",
       "      <td>0</td>\n",
       "      <td>62506</td>\n",
       "      <td>...</td>\n",
       "      <td>Michael Albert</td>\n",
       "      <td>22.0</td>\n",
       "      <td>LinkedIn</td>\n",
       "      <td>Exceeds</td>\n",
       "      <td>4.60</td>\n",
       "      <td>5</td>\n",
       "      <td>0</td>\n",
       "      <td>1/17/2019</td>\n",
       "      <td>0</td>\n",
       "      <td>1</td>\n",
       "    </tr>\n",
       "    <tr>\n",
       "      <th>1</th>\n",
       "      <td>Ait Sidi, Karthikeyan</td>\n",
       "      <td>10084</td>\n",
       "      <td>1</td>\n",
       "      <td>1</td>\n",
       "      <td>1</td>\n",
       "      <td>5</td>\n",
       "      <td>3</td>\n",
       "      <td>3</td>\n",
       "      <td>0</td>\n",
       "      <td>104437</td>\n",
       "      <td>...</td>\n",
       "      <td>Simon Roup</td>\n",
       "      <td>4.0</td>\n",
       "      <td>Indeed</td>\n",
       "      <td>Fully Meets</td>\n",
       "      <td>4.96</td>\n",
       "      <td>3</td>\n",
       "      <td>6</td>\n",
       "      <td>2/24/2016</td>\n",
       "      <td>0</td>\n",
       "      <td>17</td>\n",
       "    </tr>\n",
       "    <tr>\n",
       "      <th>2</th>\n",
       "      <td>Akinkuolie, Sarah</td>\n",
       "      <td>10196</td>\n",
       "      <td>1</td>\n",
       "      <td>1</td>\n",
       "      <td>0</td>\n",
       "      <td>5</td>\n",
       "      <td>5</td>\n",
       "      <td>3</td>\n",
       "      <td>0</td>\n",
       "      <td>64955</td>\n",
       "      <td>...</td>\n",
       "      <td>Kissy Sullivan</td>\n",
       "      <td>20.0</td>\n",
       "      <td>LinkedIn</td>\n",
       "      <td>Fully Meets</td>\n",
       "      <td>3.02</td>\n",
       "      <td>3</td>\n",
       "      <td>0</td>\n",
       "      <td>5/15/2012</td>\n",
       "      <td>0</td>\n",
       "      <td>3</td>\n",
       "    </tr>\n",
       "    <tr>\n",
       "      <th>3</th>\n",
       "      <td>Alagbe,Trina</td>\n",
       "      <td>10088</td>\n",
       "      <td>1</td>\n",
       "      <td>1</td>\n",
       "      <td>0</td>\n",
       "      <td>1</td>\n",
       "      <td>5</td>\n",
       "      <td>3</td>\n",
       "      <td>0</td>\n",
       "      <td>64991</td>\n",
       "      <td>...</td>\n",
       "      <td>Elijiah Gray</td>\n",
       "      <td>16.0</td>\n",
       "      <td>Indeed</td>\n",
       "      <td>Fully Meets</td>\n",
       "      <td>4.84</td>\n",
       "      <td>5</td>\n",
       "      <td>0</td>\n",
       "      <td>1/3/2019</td>\n",
       "      <td>0</td>\n",
       "      <td>15</td>\n",
       "    </tr>\n",
       "    <tr>\n",
       "      <th>4</th>\n",
       "      <td>Anderson, Carol</td>\n",
       "      <td>10069</td>\n",
       "      <td>0</td>\n",
       "      <td>2</td>\n",
       "      <td>0</td>\n",
       "      <td>5</td>\n",
       "      <td>5</td>\n",
       "      <td>3</td>\n",
       "      <td>0</td>\n",
       "      <td>50825</td>\n",
       "      <td>...</td>\n",
       "      <td>Webster Butler</td>\n",
       "      <td>39.0</td>\n",
       "      <td>Google Search</td>\n",
       "      <td>Fully Meets</td>\n",
       "      <td>5.00</td>\n",
       "      <td>4</td>\n",
       "      <td>0</td>\n",
       "      <td>2/1/2016</td>\n",
       "      <td>0</td>\n",
       "      <td>2</td>\n",
       "    </tr>\n",
       "    <tr>\n",
       "      <th>...</th>\n",
       "      <td>...</td>\n",
       "      <td>...</td>\n",
       "      <td>...</td>\n",
       "      <td>...</td>\n",
       "      <td>...</td>\n",
       "      <td>...</td>\n",
       "      <td>...</td>\n",
       "      <td>...</td>\n",
       "      <td>...</td>\n",
       "      <td>...</td>\n",
       "      <td>...</td>\n",
       "      <td>...</td>\n",
       "      <td>...</td>\n",
       "      <td>...</td>\n",
       "      <td>...</td>\n",
       "      <td>...</td>\n",
       "      <td>...</td>\n",
       "      <td>...</td>\n",
       "      <td>...</td>\n",
       "      <td>...</td>\n",
       "      <td>...</td>\n",
       "    </tr>\n",
       "    <tr>\n",
       "      <th>306</th>\n",
       "      <td>Woodson, Jason</td>\n",
       "      <td>10135</td>\n",
       "      <td>0</td>\n",
       "      <td>0</td>\n",
       "      <td>1</td>\n",
       "      <td>1</td>\n",
       "      <td>5</td>\n",
       "      <td>3</td>\n",
       "      <td>0</td>\n",
       "      <td>65893</td>\n",
       "      <td>...</td>\n",
       "      <td>Kissy Sullivan</td>\n",
       "      <td>20.0</td>\n",
       "      <td>LinkedIn</td>\n",
       "      <td>Fully Meets</td>\n",
       "      <td>4.07</td>\n",
       "      <td>4</td>\n",
       "      <td>0</td>\n",
       "      <td>2/28/2019</td>\n",
       "      <td>0</td>\n",
       "      <td>13</td>\n",
       "    </tr>\n",
       "    <tr>\n",
       "      <th>307</th>\n",
       "      <td>Ybarra, Catherine</td>\n",
       "      <td>10301</td>\n",
       "      <td>0</td>\n",
       "      <td>0</td>\n",
       "      <td>0</td>\n",
       "      <td>5</td>\n",
       "      <td>5</td>\n",
       "      <td>1</td>\n",
       "      <td>0</td>\n",
       "      <td>48513</td>\n",
       "      <td>...</td>\n",
       "      <td>Brannon Miller</td>\n",
       "      <td>12.0</td>\n",
       "      <td>Google Search</td>\n",
       "      <td>PIP</td>\n",
       "      <td>3.20</td>\n",
       "      <td>2</td>\n",
       "      <td>0</td>\n",
       "      <td>9/2/2015</td>\n",
       "      <td>5</td>\n",
       "      <td>4</td>\n",
       "    </tr>\n",
       "    <tr>\n",
       "      <th>308</th>\n",
       "      <td>Zamora, Jennifer</td>\n",
       "      <td>10010</td>\n",
       "      <td>0</td>\n",
       "      <td>0</td>\n",
       "      <td>0</td>\n",
       "      <td>1</td>\n",
       "      <td>3</td>\n",
       "      <td>4</td>\n",
       "      <td>0</td>\n",
       "      <td>220450</td>\n",
       "      <td>...</td>\n",
       "      <td>Janet King</td>\n",
       "      <td>2.0</td>\n",
       "      <td>Employee Referral</td>\n",
       "      <td>Exceeds</td>\n",
       "      <td>4.60</td>\n",
       "      <td>5</td>\n",
       "      <td>6</td>\n",
       "      <td>2/21/2019</td>\n",
       "      <td>0</td>\n",
       "      <td>16</td>\n",
       "    </tr>\n",
       "    <tr>\n",
       "      <th>309</th>\n",
       "      <td>Zhou, Julia</td>\n",
       "      <td>10043</td>\n",
       "      <td>0</td>\n",
       "      <td>0</td>\n",
       "      <td>0</td>\n",
       "      <td>1</td>\n",
       "      <td>3</td>\n",
       "      <td>3</td>\n",
       "      <td>0</td>\n",
       "      <td>89292</td>\n",
       "      <td>...</td>\n",
       "      <td>Simon Roup</td>\n",
       "      <td>4.0</td>\n",
       "      <td>Employee Referral</td>\n",
       "      <td>Fully Meets</td>\n",
       "      <td>5.00</td>\n",
       "      <td>3</td>\n",
       "      <td>5</td>\n",
       "      <td>2/1/2019</td>\n",
       "      <td>0</td>\n",
       "      <td>11</td>\n",
       "    </tr>\n",
       "    <tr>\n",
       "      <th>310</th>\n",
       "      <td>Zima, Colleen</td>\n",
       "      <td>10271</td>\n",
       "      <td>0</td>\n",
       "      <td>4</td>\n",
       "      <td>0</td>\n",
       "      <td>1</td>\n",
       "      <td>5</td>\n",
       "      <td>3</td>\n",
       "      <td>0</td>\n",
       "      <td>45046</td>\n",
       "      <td>...</td>\n",
       "      <td>David Stanley</td>\n",
       "      <td>14.0</td>\n",
       "      <td>LinkedIn</td>\n",
       "      <td>Fully Meets</td>\n",
       "      <td>4.50</td>\n",
       "      <td>5</td>\n",
       "      <td>0</td>\n",
       "      <td>1/30/2019</td>\n",
       "      <td>0</td>\n",
       "      <td>2</td>\n",
       "    </tr>\n",
       "  </tbody>\n",
       "</table>\n",
       "<p>311 rows × 36 columns</p>\n",
       "</div>"
      ],
      "text/plain": [
       "                Employee_Name  EmpID  MarriedID  MaritalStatusID  GenderID  \\\n",
       "0         Adinolfi, Wilson  K  10026          0                0         1   \n",
       "1    Ait Sidi, Karthikeyan     10084          1                1         1   \n",
       "2           Akinkuolie, Sarah  10196          1                1         0   \n",
       "3                Alagbe,Trina  10088          1                1         0   \n",
       "4            Anderson, Carol   10069          0                2         0   \n",
       "..                        ...    ...        ...              ...       ...   \n",
       "306            Woodson, Jason  10135          0                0         1   \n",
       "307        Ybarra, Catherine   10301          0                0         0   \n",
       "308          Zamora, Jennifer  10010          0                0         0   \n",
       "309               Zhou, Julia  10043          0                0         0   \n",
       "310             Zima, Colleen  10271          0                4         0   \n",
       "\n",
       "     EmpStatusID  DeptID  PerfScoreID  FromDiversityJobFairID  Salary  ...  \\\n",
       "0              1       5            4                       0   62506  ...   \n",
       "1              5       3            3                       0  104437  ...   \n",
       "2              5       5            3                       0   64955  ...   \n",
       "3              1       5            3                       0   64991  ...   \n",
       "4              5       5            3                       0   50825  ...   \n",
       "..           ...     ...          ...                     ...     ...  ...   \n",
       "306            1       5            3                       0   65893  ...   \n",
       "307            5       5            1                       0   48513  ...   \n",
       "308            1       3            4                       0  220450  ...   \n",
       "309            1       3            3                       0   89292  ...   \n",
       "310            1       5            3                       0   45046  ...   \n",
       "\n",
       "        ManagerName  ManagerID  RecruitmentSource PerformanceScore  \\\n",
       "0    Michael Albert       22.0           LinkedIn          Exceeds   \n",
       "1        Simon Roup        4.0             Indeed      Fully Meets   \n",
       "2    Kissy Sullivan       20.0           LinkedIn      Fully Meets   \n",
       "3      Elijiah Gray       16.0             Indeed      Fully Meets   \n",
       "4    Webster Butler       39.0      Google Search      Fully Meets   \n",
       "..              ...        ...                ...              ...   \n",
       "306  Kissy Sullivan       20.0           LinkedIn      Fully Meets   \n",
       "307  Brannon Miller       12.0      Google Search              PIP   \n",
       "308      Janet King        2.0  Employee Referral          Exceeds   \n",
       "309      Simon Roup        4.0  Employee Referral      Fully Meets   \n",
       "310   David Stanley       14.0           LinkedIn      Fully Meets   \n",
       "\n",
       "     EngagementSurvey EmpSatisfaction SpecialProjectsCount  \\\n",
       "0                4.60               5                    0   \n",
       "1                4.96               3                    6   \n",
       "2                3.02               3                    0   \n",
       "3                4.84               5                    0   \n",
       "4                5.00               4                    0   \n",
       "..                ...             ...                  ...   \n",
       "306              4.07               4                    0   \n",
       "307              3.20               2                    0   \n",
       "308              4.60               5                    6   \n",
       "309              5.00               3                    5   \n",
       "310              4.50               5                    0   \n",
       "\n",
       "    LastPerformanceReview_Date DaysLateLast30 Absences  \n",
       "0                    1/17/2019              0        1  \n",
       "1                    2/24/2016              0       17  \n",
       "2                    5/15/2012              0        3  \n",
       "3                     1/3/2019              0       15  \n",
       "4                     2/1/2016              0        2  \n",
       "..                         ...            ...      ...  \n",
       "306                  2/28/2019              0       13  \n",
       "307                   9/2/2015              5        4  \n",
       "308                  2/21/2019              0       16  \n",
       "309                   2/1/2019              0       11  \n",
       "310                  1/30/2019              0        2  \n",
       "\n",
       "[311 rows x 36 columns]"
      ]
     },
     "execution_count": 388,
     "metadata": {},
     "output_type": "execute_result"
    }
   ],
   "source": [
    "df = pd.read_csv('https://raw.githubusercontent.com/guebin/DV2022/master/posts/HRDataset_v14.csv')\n",
    "df"
   ]
  },
  {
   "cell_type": "markdown",
   "id": "21a51b30-544e-453b-9f72-e23c539037f4",
   "metadata": {
    "tags": []
   },
   "source": [
    "아래와 같은 시각화를 하라. (`Employee_Name`이 보이도록 할 것)"
   ]
  },
  {
   "attachments": {
    "573cf62d-7a90-40b1-bea8-6c58a362996f.png": {
     "image/png": "[encoded data removed]"
    }
   },
   "cell_type": "markdown",
   "id": "bd2f3d73-826c-4aed-9428-f12d1c8d0e42",
   "metadata": {},
   "source": [
    "![](attachment:573cf62d-7a90-40b1-bea8-6c58a362996f.png)"
   ]
  }
 ],
 "metadata": {
  "kernelspec": {
   "display_name": "Python 3 (ipykernel)",
   "language": "python",
   "name": "python3"
  },
  "language_info": {
   "codemirror_mode": {
    "name": "ipython",
    "version": 3
   },
   "file_extension": ".py",
   "mimetype": "text/x-python",
   "name": "python",
   "nbconvert_exporter": "python",
   "pygments_lexer": "ipython3",
   "version": "3.10.13"
  }
 },
 "nbformat": 4,
 "nbformat_minor": 5
}
