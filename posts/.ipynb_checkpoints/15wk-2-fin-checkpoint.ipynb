{
 "cells": [
  {
   "cell_type": "raw",
   "id": "b4e969ab-4906-4f72-924d-aed615cc483a",
   "metadata": {},
   "source": [
    "---\n",
    "title: \"15wk-2: 기말고사 (예상문제) \"\n",
    "author: \"최규빈\"\n",
    "date: \"12/11/2023\"\n",
    "draft: false\n",
    "categories:\n",
    "  - plotly\n",
    "---"
   ]
  },
  {
   "cell_type": "markdown",
   "id": "17f9ac05-305d-4cf3-8dc8-39bfedea62c9",
   "metadata": {
    "tags": []
   },
   "source": [
    "<a href=\"https://colab.research.google.com/github/guebin/DV2023/blob/main/posts/15wk-2-fin.ipynb\"><img src=\"https://colab.research.google.com/assets/colab-badge.svg\" style=\"text-align: left\"></a>"
   ]
  },
  {
   "cell_type": "code",
   "execution_count": 1,
   "id": "ed421a5a-42c4-40d9-b2b6-ff076d455a26",
   "metadata": {
    "tags": []
   },
   "outputs": [],
   "source": [
    "import numpy as np\n",
    "import pandas as pd\n",
    "import plotly.express as px\n",
    "import plotly.io as pio"
   ]
  },
  {
   "cell_type": "code",
   "execution_count": 2,
   "id": "71bd9243-7e0b-4e07-81dc-2083e8042be9",
   "metadata": {},
   "outputs": [],
   "source": [
    "pd.options.plotting.backend = \"plotly\"\n",
    "pio.templates.default = \"plotly_white\""
   ]
  },
  {
   "cell_type": "markdown",
   "id": "781f0d3b-9619-46c2-87c2-62a2f934fa1e",
   "metadata": {},
   "source": [
    "# 1. NYCTaxi 자료 분석 (dashboard) -- 100점"
   ]
  },
  {
   "cell_type": "markdown",
   "id": "3c9ce0a6-a677-4dc5-b42d-fdb58597d4d4",
   "metadata": {},
   "source": [
    "아래는 NYCTaxi자료에서 기본적인 전처리를 수행한 데이터프레임이다. "
   ]
  },
  {
   "cell_type": "code",
   "execution_count": 16,
   "id": "ad7ea102-8a81-40ec-afee-1e9087a8a442",
   "metadata": {},
   "outputs": [],
   "source": [
    "df = pd.read_csv(\"https://raw.githubusercontent.com/guebin/DV2023/main/posts/NYCTaxi.csv\").assign(\n",
    "    log_trip_duration = lambda df: np.log(df.trip_duration),\n",
    "    pickup_datetime = lambda df: df.pickup_datetime.apply(pd.to_datetime),\n",
    "    dropoff_datetime = lambda df: df.dropoff_datetime.apply(pd.to_datetime),\n",
    "    dist = lambda df: np.sqrt((df.pickup_latitude-df.dropoff_latitude)**2 + (df.pickup_longitude-df.dropoff_longitude)**2),\n",
    "    #---#\n",
    "    vendor_id = lambda df: df.vendor_id.map({1:'A',2:'B'})\n",
    ").assign(\n",
    "    speed = lambda df: df.dist / df.trip_duration,\n",
    "    pickup_hour = lambda df: df.pickup_datetime.dt.hour,\n",
    "    dropoff_hour = lambda df: df.dropoff_datetime.dt.hour,\n",
    "    dayofweek = lambda df: df.pickup_datetime.dt.dayofweek\n",
    ")\n",
    "df_small = df[::100].reset_index(drop=True)"
   ]
  },
  {
   "cell_type": "markdown",
   "id": "3137da29-2721-4291-a92a-2e95711312a5",
   "metadata": {},
   "source": [
    "주어진 자료를 이용하여 (1)-(3)에 해당하는 시각화를 대시보드로 구현하고, 홈페이지를 남겨라. 답안 예시는 아래와 같다. "
   ]
  },
  {
   "attachments": {},
   "cell_type": "markdown",
   "id": "487977e6-b386-47d3-b233-621d2a2b25aa",
   "metadata": {},
   "source": [
    "`(답안)`\n",
    "\n",
    "- <https://guebin.github.io/dash_test/NYCTaxi.html>\n",
    "- <https://github.com/guebin/dash_test> // 저는 의도적으로 코드를 숨겼는데요, 학생들은 `*.qmd` 파일에 답안코드가 존재하는 상태이어야 합니다. "
   ]
  },
  {
   "cell_type": "markdown",
   "id": "85d8e72c-c295-4a71-8e5f-5957f1076b00",
   "metadata": {},
   "source": [
    "**주의사항**\n",
    "\n",
    "- 제출시간 이후에 홈페이지 생성을 시도할 경우 부정행위로 간주하여 0점처리함. (git에 기록남아있음)\n",
    "- 대시보드 구현이 되어있지 않은 경우 0점 처리함 "
   ]
  },
  {
   "cell_type": "markdown",
   "id": "e6996e43-4e65-4c39-8dac-f0a79910f187",
   "metadata": {},
   "source": [
    "**힌트**"
   ]
  },
  {
   "cell_type": "markdown",
   "id": "df98b1b2-5453-4ca2-82ec-ae2056e1d450",
   "metadata": {},
   "source": [
    "아래와 같은 양식으로 qmd를 만들면 편리하다. \n",
    "\n",
    "````{.bash filename=\"NYCTaxi.qmd\"}\n",
    "---\n",
    "title: \"NYCTaxi\"\n",
    "author: \"최규빈(2021-43052)\"\n",
    "format: dashboard\n",
    "execute: \n",
    "  enabled: true\n",
    "  cache: false\n",
    "  freeze: false\n",
    "---\n",
    "\n",
    "```{python}\n",
    "#| output: false\n",
    "# 여기에 온갖코드를 넣음.\n",
    "# 1-(1),(2),(3) 에 대응하는 plotly figure를 아래와 같은 이름으로 저장\n",
    "# fig1 = ...\n",
    "# fig2 = ...\n",
    "# fig3 = ...\n",
    "```\n",
    "\n",
    "# 기말고사1-(1),(2)\n",
    "\n",
    "```{python}\n",
    "#| title: 요일,시간에 따른 평균속력 시각화        \n",
    "fig1.show()\n",
    "```\n",
    "\n",
    "```{python}\n",
    "#| title: 요일,시간에 따른 평균이동거리 시각화        \n",
    "fig2.show()\n",
    "```\n",
    "\n",
    "# 기말고사1-(3)\n",
    "\n",
    "```{python}\n",
    "#| title: 속력별 경로 시각화\n",
    "fig3.show()\n",
    "```\n",
    "````"
   ]
  },
  {
   "cell_type": "markdown",
   "id": "9ee97ea3-41d4-4014-84a9-b6c545e0a193",
   "metadata": {},
   "source": [
    "## `(1)` 요일,시간에 따른 평균속력 시각화 -- 25점"
   ]
  },
  {
   "cell_type": "markdown",
   "id": "82c08885-eb6a-44ae-babf-3cfc9e1c1283",
   "metadata": {},
   "source": [
    "자료 `df`에서 시간에 따른 평균속력을 구하고 이를 대시보드에 시각화하라. \n",
    "\n",
    "**README**\n",
    "\n",
    "- 요일은 `{0:'월',1:'화',2:'수',3:'목',4:'금',5:'토',6:'일'}`의 규칙에 따라 변환할 것"
   ]
  },
  {
   "cell_type": "markdown",
   "id": "20fa3dfc-0921-4b1a-b425-308f21a3e593",
   "metadata": {},
   "source": [
    "## `(2)` 요일,시간에 따른 평균속력 시각화 -- 25점"
   ]
  },
  {
   "cell_type": "markdown",
   "id": "f8907141-169f-4f31-a74b-8e1f05d94cc2",
   "metadata": {},
   "source": [
    "자료 `df`에서 시간에 따른 평균이동거리를 구하고 이를 대시보드에 시각화하라. \n",
    "\n",
    "**README**\n",
    "\n",
    "- 요일은 `{0:'월',1:'화',2:'수',3:'목',4:'금',5:'토',6:'일'}`의 규칙에 따라 변환할 것"
   ]
  },
  {
   "cell_type": "markdown",
   "id": "bac378bf-7ef1-4b30-8cd2-99e38714747a",
   "metadata": {},
   "source": [
    "## `(3)` 속력별 경로시각화 -- 50점"
   ]
  },
  {
   "cell_type": "markdown",
   "id": "52ee1929-9ed8-4fa7-a646-7f7dc36bd740",
   "metadata": {},
   "source": [
    "자료 `df_small`에서 속력을 quatile에 따라 4개의 구간으로 나누고, 구간별 이동경로를 대시보드에 시각화하라. "
   ]
  },
  {
   "cell_type": "markdown",
   "id": "55fa0286-9e9d-488d-891d-007dbfcd10a1",
   "metadata": {},
   "source": [
    "**README**\n",
    "\n",
    "- Zoom = 11 로 설정할것. Figure의 width, height는 설정하지 말것\n",
    "- 기타 설정값에 대해서는 궁금한것이 있다면 질문할 것 "
   ]
  },
  {
   "cell_type": "markdown",
   "id": "a99a1ad8-321c-4138-98e3-3626caec12fd",
   "metadata": {},
   "source": [
    "**힌트**: 아래의 코드를 관찰하세요"
   ]
  },
  {
   "cell_type": "code",
   "execution_count": 15,
   "id": "af7e5828-c6b9-4be2-af26-5ca27b4ded51",
   "metadata": {},
   "outputs": [
    {
     "name": "stdout",
     "output_type": "stream",
     "text": [
      "0    (0.999, 1.75]\n",
      "1    (0.999, 1.75]\n",
      "2      (1.75, 2.5]\n",
      "3      (1.75, 2.5]\n",
      "4      (2.5, 3.25]\n",
      "5      (2.5, 3.25]\n",
      "6      (3.25, 4.0]\n",
      "7      (3.25, 4.0]\n",
      "dtype: category\n",
      "Categories (4, interval[float64, right]): [(0.999, 1.75] < (1.75, 2.5] < (2.5, 3.25] < (3.25, 4.0]]\n",
      "0    매우느림\n",
      "1    매우느림\n",
      "2    조금느림\n",
      "3    조금느림\n",
      "4    조금빠름\n",
      "5    조금빠름\n",
      "6    매우빠름\n",
      "7    매우빠름\n",
      "dtype: category\n",
      "Categories (4, object): ['매우느림' < '조금느림' < '조금빠름' < '매우빠름']\n"
     ]
    }
   ],
   "source": [
    "speed = pd.Series([1,1,2,2,3,3,4,4])\n",
    "print(pd.qcut(speed,4))\n",
    "print(pd.qcut(speed,4,labels=['매우느림','조금느림','조금빠름','매우빠름']))"
   ]
  }
 ],
 "metadata": {
  "kernelspec": {
   "display_name": "Python 3 (ipykernel)",
   "language": "python",
   "name": "python3"
  },
  "language_info": {
   "codemirror_mode": {
    "name": "ipython",
    "version": 3
   },
   "file_extension": ".py",
   "mimetype": "text/x-python",
   "name": "python",
   "nbconvert_exporter": "python",
   "pygments_lexer": "ipython3",
   "version": "3.11.6"
  }
 },
 "nbformat": 4,
 "nbformat_minor": 5
}
