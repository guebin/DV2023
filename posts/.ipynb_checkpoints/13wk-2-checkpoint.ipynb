{
 "cells": [
  {
   "cell_type": "raw",
   "id": "3bf843bf-7dff-4d08-a05f-6da3e5060d45",
   "metadata": {},
   "source": [
    "---\n",
    "title: \"13wk-2: Plotly -- `px`를 활용한 시각화\"\n",
    "author: \"최규빈\"\n",
    "date: \"11/29/2023\"\n",
    "draft: false  \n",
    "execute: \n",
    "  enabled: true\n",
    "  cache: false\n",
    "  freeze: false\n",
    "  error: true\n",
    "categories:\n",
    "  - plotly\n",
    "---"
   ]
  },
  {
   "cell_type": "markdown",
   "id": "fe5084fe-9619-4682-ab12-d638e40f5aff",
   "metadata": {},
   "source": [
    "<a href=\"https://colab.research.google.com/github/guebin/DV2023/blob/main/posts/13wk-2.ipynb\"><img src=\"https://colab.research.google.com/assets/colab-badge.svg\" style=\"text-align: left\"></a>"
   ]
  },
  {
   "cell_type": "markdown",
   "id": "c2f0fa77-6b4c-4abc-88bc-004d583c6526",
   "metadata": {},
   "source": [
    "# 1. 강의영상 "
   ]
  },
  {
   "cell_type": "markdown",
   "id": "edcc2e05-6e8f-4d79-8e48-7f3cf4eb5c85",
   "metadata": {},
   "source": [
    "{{<video ???? >}}"
   ]
  },
  {
   "cell_type": "markdown",
   "id": "481e1762-659a-479f-87cf-0646b2cdbb57",
   "metadata": {},
   "source": [
    "# 2. Imports "
   ]
  },
  {
   "cell_type": "markdown",
   "id": "4522a085-2aa4-41ef-831f-fccaa8f14bf7",
   "metadata": {},
   "source": [
    "# 3. "
   ]
  },
  {
   "cell_type": "code",
   "execution_count": null,
   "id": "8a6121e7-8a50-46a4-a4c8-86734c12e2c9",
   "metadata": {},
   "outputs": [],
   "source": []
  },
  {
   "cell_type": "code",
   "execution_count": null,
   "id": "a90c54b3-fbce-4fb1-b341-9eefedc03fe4",
   "metadata": {},
   "outputs": [],
   "source": []
  }
 ],
 "metadata": {
  "kernelspec": {
   "display_name": "Python 3 (ipykernel)",
   "language": "python",
   "name": "python3"
  },
  "language_info": {
   "codemirror_mode": {
    "name": "ipython",
    "version": 3
   },
   "file_extension": ".py",
   "mimetype": "text/x-python",
   "name": "python",
   "nbconvert_exporter": "python",
   "pygments_lexer": "ipython3",
   "version": "3.10.13"
  }
 },
 "nbformat": 4,
 "nbformat_minor": 5
}
