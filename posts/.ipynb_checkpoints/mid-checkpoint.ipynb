{
 "cells": [
  {
   "cell_type": "raw",
   "id": "bfbe9ce8-f604-428f-8b27-cb3812352b42",
   "metadata": {
    "tags": []
   },
   "source": [
    "---\n",
    "title: \"supp: 중간고사 성적분포\"\n",
    "author: \"최규빈\"\n",
    "date: \"10/31/2023\"\n",
    "draft: false\n",
    "categories:\n",
    "---"
   ]
  },
  {
   "cell_type": "code",
   "execution_count": 38,
   "id": "6d4a5995-cfd6-4acc-8fb5-8ce53588c093",
   "metadata": {
    "tags": []
   },
   "outputs": [],
   "source": [
    "import pandas as pd\n",
    "df = pd.read_csv('https://raw.githubusercontent.com/guebin/DV2023/main/posts/mid.csv')\n",
    "df['Score'].sort_values().reset_index(drop=True).to_csv(\"mid.csv\")"
   ]
  },
  {
   "cell_type": "code",
   "execution_count": null,
   "id": "e76ba48b-f853-4526-bf46-2598c8467f28",
   "metadata": {},
   "outputs": [],
   "source": []
  }
 ],
 "metadata": {
  "kernelspec": {
   "display_name": "Python 3 (ipykernel)",
   "language": "python",
   "name": "python3"
  },
  "language_info": {
   "codemirror_mode": {
    "name": "ipython",
    "version": 3
   },
   "file_extension": ".py",
   "mimetype": "text/x-python",
   "name": "python",
   "nbconvert_exporter": "python",
   "pygments_lexer": "ipython3",
   "version": "3.10.13"
  }
 },
 "nbformat": 4,
 "nbformat_minor": 5
}
