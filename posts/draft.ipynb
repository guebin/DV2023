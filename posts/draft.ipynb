{
 "cells": [
  {
   "cell_type": "raw",
   "id": "533efbea-5da4-4b1c-9b3f-296d5c3e4f02",
   "metadata": {},
   "source": [
    "---\n",
    "title: \"04wk-1: Pandas -- 기본기능, missing, query, 할당, transform column (draft)\"\n",
    "author: \"최규빈\"\n",
    "date: \"09/25/2023\"\n",
    "draft: true\n",
    "categories:\n",
    "  - pandas\n",
    "---"
   ]
  },
  {
   "cell_type": "markdown",
   "id": "394dd547-ec0e-4a17-92bb-175fc5aa1622",
   "metadata": {},
   "source": [
    "<a href=\"https://colab.research.google.com/github/guebin/DV2023/blob/main/posts/04wk-1.ipynb\"><img src=\"https://colab.research.google.com/assets/colab-badge.svg\" style=\"text-align: left\"></a>"
   ]
  },
  {
   "cell_type": "markdown",
   "id": "9504084b-dd14-4351-84e9-b37ed8d5af21",
   "metadata": {},
   "source": [
    "# 1. 강의영상 "
   ]
  },
  {
   "cell_type": "code",
   "execution_count": 1,
   "id": "75c5080a-6988-40ad-9d55-e0c2bd3d9c72",
   "metadata": {},
   "outputs": [],
   "source": [
    "# {{<video https://youtu.be/playlist?list=PLQqh36zP38-yzpW1OqJWO39hEHdj1jGl2&si=BLIWqNA4KaAwp3H6 >}}"
   ]
  },
  {
   "cell_type": "markdown",
   "id": "89333aec-7f78-417d-9d5b-d82f8c35f893",
   "metadata": {},
   "source": [
    "# 2. Imports"
   ]
  },
  {
   "cell_type": "code",
   "execution_count": 2,
   "id": "4dc3e790-18a9-4557-99cd-407ad3857b1c",
   "metadata": {},
   "outputs": [],
   "source": [
    "import numpy as np\n",
    "import pandas as pd"
   ]
  },
  {
   "cell_type": "markdown",
   "id": "be002fba-43f4-49d4-8de3-dd173b99bbe5",
   "metadata": {},
   "source": [
    "# 3. Pandas: 기본기능 "
   ]
  },
  {
   "cell_type": "markdown",
   "id": "aeeb2d4f-9246-4fc0-8378-b6e3de9edb58",
   "metadata": {},
   "source": [
    "## A. 열의 이름 변경"
   ]
  },
  {
   "cell_type": "markdown",
   "id": "7a3601fb-5657-4bd5-b32f-dc2500052a74",
   "metadata": {},
   "source": [
    "`-` 방법1: `df.columns`에 대입"
   ]
  },
  {
   "cell_type": "markdown",
   "id": "7a7e7e94-8b98-4574-9c34-17ed85406e1c",
   "metadata": {},
   "source": [
    "`-` 방법2: `df.set_axis()`"
   ]
  },
  {
   "cell_type": "markdown",
   "id": "a50c0443-a31f-41e6-b607-795ce1153158",
   "metadata": {},
   "source": [
    "`-` 방법3: `df.rename()`"
   ]
  },
  {
   "cell_type": "markdown",
   "id": "d2de2daf-d4c6-42e0-bc07-6cb186325bb0",
   "metadata": {},
   "source": [
    "## B. 행의 이름 변경"
   ]
  },
  {
   "cell_type": "markdown",
   "id": "4270d719-5492-4ba3-a3c3-0880da20a658",
   "metadata": {},
   "source": [
    "`-` 방법1: `df.index`에 대입"
   ]
  },
  {
   "cell_type": "markdown",
   "id": "7ab95dff-4f56-419a-8220-8337e1d1da6f",
   "metadata": {},
   "source": [
    "`-` 방법2: `df.set_axis()`"
   ]
  },
  {
   "cell_type": "markdown",
   "id": "02ab5640-599a-4ca4-b8a3-a71c7b99504a",
   "metadata": {},
   "source": [
    "`-` 방법3: `df.rename()`"
   ]
  },
  {
   "cell_type": "markdown",
   "id": "03913c9d-d400-49c5-95e9-28188a7fe991",
   "metadata": {},
   "source": [
    "`-` 방법4: 임의의 열을 행이름 으로 지정!"
   ]
  },
  {
   "cell_type": "markdown",
   "id": "5a30ae5f-083b-40c5-b32a-d9763dbc02e6",
   "metadata": {},
   "source": [
    "## `#` A~B에 대한 연습문제"
   ]
  },
  {
   "cell_type": "markdown",
   "id": "5f847fba-9159-455a-9a32-0de434593238",
   "metadata": {},
   "source": [
    "`-` 데이터 load "
   ]
  },
  {
   "cell_type": "code",
   "execution_count": 7,
   "id": "a7010f6a-ceb8-4a00-af23-3be22d516054",
   "metadata": {},
   "outputs": [
    {
     "data": {
      "text/html": [
       "<div>\n",
       "<style scoped>\n",
       "    .dataframe tbody tr th:only-of-type {\n",
       "        vertical-align: middle;\n",
       "    }\n",
       "\n",
       "    .dataframe tbody tr th {\n",
       "        vertical-align: top;\n",
       "    }\n",
       "\n",
       "    .dataframe thead th {\n",
       "        text-align: right;\n",
       "    }\n",
       "</style>\n",
       "<table border=\"1\" class=\"dataframe\">\n",
       "  <thead>\n",
       "    <tr style=\"text-align: right;\">\n",
       "      <th></th>\n",
       "      <th>ID</th>\n",
       "      <th>Name</th>\n",
       "      <th>Age</th>\n",
       "      <th>Photo</th>\n",
       "      <th>Nationality</th>\n",
       "      <th>Flag</th>\n",
       "      <th>Overall</th>\n",
       "      <th>Potential</th>\n",
       "      <th>Club</th>\n",
       "      <th>Club Logo</th>\n",
       "      <th>...</th>\n",
       "      <th>Real Face</th>\n",
       "      <th>Position</th>\n",
       "      <th>Joined</th>\n",
       "      <th>Loaned From</th>\n",
       "      <th>Contract Valid Until</th>\n",
       "      <th>Height</th>\n",
       "      <th>Weight</th>\n",
       "      <th>Release Clause</th>\n",
       "      <th>Kit Number</th>\n",
       "      <th>Best Overall Rating</th>\n",
       "    </tr>\n",
       "  </thead>\n",
       "  <tbody>\n",
       "    <tr>\n",
       "      <th>0</th>\n",
       "      <td>209658</td>\n",
       "      <td>L. Goretzka</td>\n",
       "      <td>27</td>\n",
       "      <td>https://cdn.sofifa.net/players/209/658/23_60.png</td>\n",
       "      <td>Germany</td>\n",
       "      <td>https://cdn.sofifa.net/flags/de.png</td>\n",
       "      <td>87</td>\n",
       "      <td>88</td>\n",
       "      <td>FC Bayern München</td>\n",
       "      <td>https://cdn.sofifa.net/teams/21/30.png</td>\n",
       "      <td>...</td>\n",
       "      <td>Yes</td>\n",
       "      <td>&lt;span class=\"pos pos28\"&gt;SUB</td>\n",
       "      <td>Jul 1, 2018</td>\n",
       "      <td>NaN</td>\n",
       "      <td>2026</td>\n",
       "      <td>189cm</td>\n",
       "      <td>82kg</td>\n",
       "      <td>€157M</td>\n",
       "      <td>8.0</td>\n",
       "      <td>NaN</td>\n",
       "    </tr>\n",
       "    <tr>\n",
       "      <th>1</th>\n",
       "      <td>212198</td>\n",
       "      <td>Bruno Fernandes</td>\n",
       "      <td>27</td>\n",
       "      <td>https://cdn.sofifa.net/players/212/198/23_60.png</td>\n",
       "      <td>Portugal</td>\n",
       "      <td>https://cdn.sofifa.net/flags/pt.png</td>\n",
       "      <td>86</td>\n",
       "      <td>87</td>\n",
       "      <td>Manchester United</td>\n",
       "      <td>https://cdn.sofifa.net/teams/11/30.png</td>\n",
       "      <td>...</td>\n",
       "      <td>Yes</td>\n",
       "      <td>&lt;span class=\"pos pos15\"&gt;LCM</td>\n",
       "      <td>Jan 30, 2020</td>\n",
       "      <td>NaN</td>\n",
       "      <td>2026</td>\n",
       "      <td>179cm</td>\n",
       "      <td>69kg</td>\n",
       "      <td>€155M</td>\n",
       "      <td>8.0</td>\n",
       "      <td>NaN</td>\n",
       "    </tr>\n",
       "    <tr>\n",
       "      <th>2</th>\n",
       "      <td>224334</td>\n",
       "      <td>M. Acuña</td>\n",
       "      <td>30</td>\n",
       "      <td>https://cdn.sofifa.net/players/224/334/23_60.png</td>\n",
       "      <td>Argentina</td>\n",
       "      <td>https://cdn.sofifa.net/flags/ar.png</td>\n",
       "      <td>85</td>\n",
       "      <td>85</td>\n",
       "      <td>Sevilla FC</td>\n",
       "      <td>https://cdn.sofifa.net/teams/481/30.png</td>\n",
       "      <td>...</td>\n",
       "      <td>No</td>\n",
       "      <td>&lt;span class=\"pos pos7\"&gt;LB</td>\n",
       "      <td>Sep 14, 2020</td>\n",
       "      <td>NaN</td>\n",
       "      <td>2024</td>\n",
       "      <td>172cm</td>\n",
       "      <td>69kg</td>\n",
       "      <td>€97.7M</td>\n",
       "      <td>19.0</td>\n",
       "      <td>NaN</td>\n",
       "    </tr>\n",
       "    <tr>\n",
       "      <th>3</th>\n",
       "      <td>192985</td>\n",
       "      <td>K. De Bruyne</td>\n",
       "      <td>31</td>\n",
       "      <td>https://cdn.sofifa.net/players/192/985/23_60.png</td>\n",
       "      <td>Belgium</td>\n",
       "      <td>https://cdn.sofifa.net/flags/be.png</td>\n",
       "      <td>91</td>\n",
       "      <td>91</td>\n",
       "      <td>Manchester City</td>\n",
       "      <td>https://cdn.sofifa.net/teams/10/30.png</td>\n",
       "      <td>...</td>\n",
       "      <td>Yes</td>\n",
       "      <td>&lt;span class=\"pos pos13\"&gt;RCM</td>\n",
       "      <td>Aug 30, 2015</td>\n",
       "      <td>NaN</td>\n",
       "      <td>2025</td>\n",
       "      <td>181cm</td>\n",
       "      <td>70kg</td>\n",
       "      <td>€198.9M</td>\n",
       "      <td>17.0</td>\n",
       "      <td>NaN</td>\n",
       "    </tr>\n",
       "    <tr>\n",
       "      <th>4</th>\n",
       "      <td>224232</td>\n",
       "      <td>N. Barella</td>\n",
       "      <td>25</td>\n",
       "      <td>https://cdn.sofifa.net/players/224/232/23_60.png</td>\n",
       "      <td>Italy</td>\n",
       "      <td>https://cdn.sofifa.net/flags/it.png</td>\n",
       "      <td>86</td>\n",
       "      <td>89</td>\n",
       "      <td>Inter</td>\n",
       "      <td>https://cdn.sofifa.net/teams/44/30.png</td>\n",
       "      <td>...</td>\n",
       "      <td>Yes</td>\n",
       "      <td>&lt;span class=\"pos pos13\"&gt;RCM</td>\n",
       "      <td>Sep 1, 2020</td>\n",
       "      <td>NaN</td>\n",
       "      <td>2026</td>\n",
       "      <td>172cm</td>\n",
       "      <td>68kg</td>\n",
       "      <td>€154.4M</td>\n",
       "      <td>23.0</td>\n",
       "      <td>NaN</td>\n",
       "    </tr>\n",
       "  </tbody>\n",
       "</table>\n",
       "<p>5 rows × 29 columns</p>\n",
       "</div>"
      ],
      "text/plain": [
       "       ID             Name  Age  \\\n",
       "0  209658      L. Goretzka   27   \n",
       "1  212198  Bruno Fernandes   27   \n",
       "2  224334         M. Acuña   30   \n",
       "3  192985     K. De Bruyne   31   \n",
       "4  224232       N. Barella   25   \n",
       "\n",
       "                                              Photo Nationality  \\\n",
       "0  https://cdn.sofifa.net/players/209/658/23_60.png     Germany   \n",
       "1  https://cdn.sofifa.net/players/212/198/23_60.png    Portugal   \n",
       "2  https://cdn.sofifa.net/players/224/334/23_60.png   Argentina   \n",
       "3  https://cdn.sofifa.net/players/192/985/23_60.png     Belgium   \n",
       "4  https://cdn.sofifa.net/players/224/232/23_60.png       Italy   \n",
       "\n",
       "                                  Flag  Overall  Potential               Club  \\\n",
       "0  https://cdn.sofifa.net/flags/de.png       87         88  FC Bayern München   \n",
       "1  https://cdn.sofifa.net/flags/pt.png       86         87  Manchester United   \n",
       "2  https://cdn.sofifa.net/flags/ar.png       85         85         Sevilla FC   \n",
       "3  https://cdn.sofifa.net/flags/be.png       91         91    Manchester City   \n",
       "4  https://cdn.sofifa.net/flags/it.png       86         89              Inter   \n",
       "\n",
       "                                 Club Logo  ... Real Face  \\\n",
       "0   https://cdn.sofifa.net/teams/21/30.png  ...       Yes   \n",
       "1   https://cdn.sofifa.net/teams/11/30.png  ...       Yes   \n",
       "2  https://cdn.sofifa.net/teams/481/30.png  ...        No   \n",
       "3   https://cdn.sofifa.net/teams/10/30.png  ...       Yes   \n",
       "4   https://cdn.sofifa.net/teams/44/30.png  ...       Yes   \n",
       "\n",
       "                      Position        Joined Loaned From  \\\n",
       "0  <span class=\"pos pos28\">SUB   Jul 1, 2018         NaN   \n",
       "1  <span class=\"pos pos15\">LCM  Jan 30, 2020         NaN   \n",
       "2    <span class=\"pos pos7\">LB  Sep 14, 2020         NaN   \n",
       "3  <span class=\"pos pos13\">RCM  Aug 30, 2015         NaN   \n",
       "4  <span class=\"pos pos13\">RCM   Sep 1, 2020         NaN   \n",
       "\n",
       "   Contract Valid Until  Height  Weight Release Clause Kit Number  \\\n",
       "0                  2026   189cm    82kg          €157M        8.0   \n",
       "1                  2026   179cm    69kg          €155M        8.0   \n",
       "2                  2024   172cm    69kg         €97.7M       19.0   \n",
       "3                  2025   181cm    70kg        €198.9M       17.0   \n",
       "4                  2026   172cm    68kg        €154.4M       23.0   \n",
       "\n",
       "  Best Overall Rating  \n",
       "0                 NaN  \n",
       "1                 NaN  \n",
       "2                 NaN  \n",
       "3                 NaN  \n",
       "4                 NaN  \n",
       "\n",
       "[5 rows x 29 columns]"
      ]
     },
     "execution_count": 7,
     "metadata": {},
     "output_type": "execute_result"
    }
   ],
   "source": [
    "df = pd.read_csv('https://raw.githubusercontent.com/guebin/DV2022/master/posts/FIFA23_official_data.csv')\n",
    "df.head()"
   ]
  },
  {
   "cell_type": "markdown",
   "id": "0ea5aeb8-1289-42d2-be63-2a5689d656f3",
   "metadata": {},
   "source": [
    "`# 예제1`: 열의 이름 출력하고, 열의 이름중 공백(` `)이 있을 경우 언더바(`_`) 로 바꾸자. "
   ]
  },
  {
   "cell_type": "markdown",
   "id": "90400ff1-bae7-46c7-94cb-d70428a04c68",
   "metadata": {},
   "source": [
    "컬럼출력"
   ]
  },
  {
   "cell_type": "markdown",
   "id": "e8c963f7-b5a4-4547-b039-fe4d864b1788",
   "metadata": {},
   "source": [
    "(1) `df.columns`에 직접대입"
   ]
  },
  {
   "cell_type": "markdown",
   "id": "579ee248-354b-49fe-bfe6-29929fddadbc",
   "metadata": {},
   "source": [
    "(2) `set_axis()` 이용"
   ]
  },
  {
   "cell_type": "markdown",
   "id": "582a8194-b5f5-445b-a374-3e45cb5d5d9d",
   "metadata": {},
   "source": [
    "(3) `rename()` 이용 -- 안중요함"
   ]
  },
  {
   "cell_type": "markdown",
   "id": "55a0e475-89b5-4525-99fb-181f0d351bc0",
   "metadata": {},
   "source": [
    "`#`"
   ]
  },
  {
   "cell_type": "markdown",
   "id": "86e6474f-e1b1-421b-a7e0-e6153e5ad653",
   "metadata": {},
   "source": [
    "`예제2`: ID를 row-index로 지정하라. "
   ]
  },
  {
   "cell_type": "markdown",
   "id": "bea2a1d0-9273-42d6-a5a6-e088f671ae1f",
   "metadata": {},
   "source": [
    "(1) 직접지정 "
   ]
  },
  {
   "cell_type": "markdown",
   "id": "ad17eab7-6bf1-49fd-a630-726ff9c13f44",
   "metadata": {},
   "source": [
    "(2) `set_axis()`"
   ]
  },
  {
   "cell_type": "markdown",
   "id": "0dc51682-5005-4494-92ee-9ec98dc2d094",
   "metadata": {},
   "source": [
    "(3) `rename()` -- 안중요함"
   ]
  },
  {
   "cell_type": "markdown",
   "id": "53eef45e-9e97-427e-a31e-c1aefe1fa6f1",
   "metadata": {},
   "source": [
    "(4) `set_index()`"
   ]
  },
  {
   "cell_type": "markdown",
   "id": "bb05ed6b-076e-46e6-a551-12ff5cb284e5",
   "metadata": {},
   "source": [
    "`#`"
   ]
  },
  {
   "cell_type": "markdown",
   "id": "23a87f9d-4be2-4a87-aa3a-4824a44db6c3",
   "metadata": {},
   "source": [
    "## C. `pd.T`"
   ]
  },
  {
   "cell_type": "markdown",
   "id": "67bdb412-5cbb-4dd4-9ec6-ea384100332a",
   "metadata": {},
   "source": [
    "`-` 데이터 load "
   ]
  },
  {
   "cell_type": "code",
   "execution_count": 4,
   "id": "02ea91f9-4848-4195-b965-1711c8cff91f",
   "metadata": {},
   "outputs": [
    {
     "data": {
      "text/html": [
       "<div>\n",
       "<style scoped>\n",
       "    .dataframe tbody tr th:only-of-type {\n",
       "        vertical-align: middle;\n",
       "    }\n",
       "\n",
       "    .dataframe tbody tr th {\n",
       "        vertical-align: top;\n",
       "    }\n",
       "\n",
       "    .dataframe thead th {\n",
       "        text-align: right;\n",
       "    }\n",
       "</style>\n",
       "<table border=\"1\" class=\"dataframe\">\n",
       "  <thead>\n",
       "    <tr style=\"text-align: right;\">\n",
       "      <th></th>\n",
       "      <th>ID</th>\n",
       "      <th>Name</th>\n",
       "      <th>Age</th>\n",
       "      <th>Photo</th>\n",
       "      <th>Nationality</th>\n",
       "      <th>Flag</th>\n",
       "      <th>Overall</th>\n",
       "      <th>Potential</th>\n",
       "      <th>Club</th>\n",
       "      <th>Club Logo</th>\n",
       "      <th>...</th>\n",
       "      <th>Real Face</th>\n",
       "      <th>Position</th>\n",
       "      <th>Joined</th>\n",
       "      <th>Loaned From</th>\n",
       "      <th>Contract Valid Until</th>\n",
       "      <th>Height</th>\n",
       "      <th>Weight</th>\n",
       "      <th>Release Clause</th>\n",
       "      <th>Kit Number</th>\n",
       "      <th>Best Overall Rating</th>\n",
       "    </tr>\n",
       "  </thead>\n",
       "  <tbody>\n",
       "    <tr>\n",
       "      <th>0</th>\n",
       "      <td>209658</td>\n",
       "      <td>L. Goretzka</td>\n",
       "      <td>27</td>\n",
       "      <td>https://cdn.sofifa.net/players/209/658/23_60.png</td>\n",
       "      <td>Germany</td>\n",
       "      <td>https://cdn.sofifa.net/flags/de.png</td>\n",
       "      <td>87</td>\n",
       "      <td>88</td>\n",
       "      <td>FC Bayern München</td>\n",
       "      <td>https://cdn.sofifa.net/teams/21/30.png</td>\n",
       "      <td>...</td>\n",
       "      <td>Yes</td>\n",
       "      <td>&lt;span class=\"pos pos28\"&gt;SUB</td>\n",
       "      <td>Jul 1, 2018</td>\n",
       "      <td>NaN</td>\n",
       "      <td>2026</td>\n",
       "      <td>189cm</td>\n",
       "      <td>82kg</td>\n",
       "      <td>€157M</td>\n",
       "      <td>8.0</td>\n",
       "      <td>NaN</td>\n",
       "    </tr>\n",
       "    <tr>\n",
       "      <th>1</th>\n",
       "      <td>212198</td>\n",
       "      <td>Bruno Fernandes</td>\n",
       "      <td>27</td>\n",
       "      <td>https://cdn.sofifa.net/players/212/198/23_60.png</td>\n",
       "      <td>Portugal</td>\n",
       "      <td>https://cdn.sofifa.net/flags/pt.png</td>\n",
       "      <td>86</td>\n",
       "      <td>87</td>\n",
       "      <td>Manchester United</td>\n",
       "      <td>https://cdn.sofifa.net/teams/11/30.png</td>\n",
       "      <td>...</td>\n",
       "      <td>Yes</td>\n",
       "      <td>&lt;span class=\"pos pos15\"&gt;LCM</td>\n",
       "      <td>Jan 30, 2020</td>\n",
       "      <td>NaN</td>\n",
       "      <td>2026</td>\n",
       "      <td>179cm</td>\n",
       "      <td>69kg</td>\n",
       "      <td>€155M</td>\n",
       "      <td>8.0</td>\n",
       "      <td>NaN</td>\n",
       "    </tr>\n",
       "    <tr>\n",
       "      <th>2</th>\n",
       "      <td>224334</td>\n",
       "      <td>M. Acuña</td>\n",
       "      <td>30</td>\n",
       "      <td>https://cdn.sofifa.net/players/224/334/23_60.png</td>\n",
       "      <td>Argentina</td>\n",
       "      <td>https://cdn.sofifa.net/flags/ar.png</td>\n",
       "      <td>85</td>\n",
       "      <td>85</td>\n",
       "      <td>Sevilla FC</td>\n",
       "      <td>https://cdn.sofifa.net/teams/481/30.png</td>\n",
       "      <td>...</td>\n",
       "      <td>No</td>\n",
       "      <td>&lt;span class=\"pos pos7\"&gt;LB</td>\n",
       "      <td>Sep 14, 2020</td>\n",
       "      <td>NaN</td>\n",
       "      <td>2024</td>\n",
       "      <td>172cm</td>\n",
       "      <td>69kg</td>\n",
       "      <td>€97.7M</td>\n",
       "      <td>19.0</td>\n",
       "      <td>NaN</td>\n",
       "    </tr>\n",
       "    <tr>\n",
       "      <th>3</th>\n",
       "      <td>192985</td>\n",
       "      <td>K. De Bruyne</td>\n",
       "      <td>31</td>\n",
       "      <td>https://cdn.sofifa.net/players/192/985/23_60.png</td>\n",
       "      <td>Belgium</td>\n",
       "      <td>https://cdn.sofifa.net/flags/be.png</td>\n",
       "      <td>91</td>\n",
       "      <td>91</td>\n",
       "      <td>Manchester City</td>\n",
       "      <td>https://cdn.sofifa.net/teams/10/30.png</td>\n",
       "      <td>...</td>\n",
       "      <td>Yes</td>\n",
       "      <td>&lt;span class=\"pos pos13\"&gt;RCM</td>\n",
       "      <td>Aug 30, 2015</td>\n",
       "      <td>NaN</td>\n",
       "      <td>2025</td>\n",
       "      <td>181cm</td>\n",
       "      <td>70kg</td>\n",
       "      <td>€198.9M</td>\n",
       "      <td>17.0</td>\n",
       "      <td>NaN</td>\n",
       "    </tr>\n",
       "    <tr>\n",
       "      <th>4</th>\n",
       "      <td>224232</td>\n",
       "      <td>N. Barella</td>\n",
       "      <td>25</td>\n",
       "      <td>https://cdn.sofifa.net/players/224/232/23_60.png</td>\n",
       "      <td>Italy</td>\n",
       "      <td>https://cdn.sofifa.net/flags/it.png</td>\n",
       "      <td>86</td>\n",
       "      <td>89</td>\n",
       "      <td>Inter</td>\n",
       "      <td>https://cdn.sofifa.net/teams/44/30.png</td>\n",
       "      <td>...</td>\n",
       "      <td>Yes</td>\n",
       "      <td>&lt;span class=\"pos pos13\"&gt;RCM</td>\n",
       "      <td>Sep 1, 2020</td>\n",
       "      <td>NaN</td>\n",
       "      <td>2026</td>\n",
       "      <td>172cm</td>\n",
       "      <td>68kg</td>\n",
       "      <td>€154.4M</td>\n",
       "      <td>23.0</td>\n",
       "      <td>NaN</td>\n",
       "    </tr>\n",
       "  </tbody>\n",
       "</table>\n",
       "<p>5 rows × 29 columns</p>\n",
       "</div>"
      ],
      "text/plain": [
       "       ID             Name  Age  \\\n",
       "0  209658      L. Goretzka   27   \n",
       "1  212198  Bruno Fernandes   27   \n",
       "2  224334         M. Acuña   30   \n",
       "3  192985     K. De Bruyne   31   \n",
       "4  224232       N. Barella   25   \n",
       "\n",
       "                                              Photo Nationality  \\\n",
       "0  https://cdn.sofifa.net/players/209/658/23_60.png     Germany   \n",
       "1  https://cdn.sofifa.net/players/212/198/23_60.png    Portugal   \n",
       "2  https://cdn.sofifa.net/players/224/334/23_60.png   Argentina   \n",
       "3  https://cdn.sofifa.net/players/192/985/23_60.png     Belgium   \n",
       "4  https://cdn.sofifa.net/players/224/232/23_60.png       Italy   \n",
       "\n",
       "                                  Flag  Overall  Potential               Club  \\\n",
       "0  https://cdn.sofifa.net/flags/de.png       87         88  FC Bayern München   \n",
       "1  https://cdn.sofifa.net/flags/pt.png       86         87  Manchester United   \n",
       "2  https://cdn.sofifa.net/flags/ar.png       85         85         Sevilla FC   \n",
       "3  https://cdn.sofifa.net/flags/be.png       91         91    Manchester City   \n",
       "4  https://cdn.sofifa.net/flags/it.png       86         89              Inter   \n",
       "\n",
       "                                 Club Logo  ... Real Face  \\\n",
       "0   https://cdn.sofifa.net/teams/21/30.png  ...       Yes   \n",
       "1   https://cdn.sofifa.net/teams/11/30.png  ...       Yes   \n",
       "2  https://cdn.sofifa.net/teams/481/30.png  ...        No   \n",
       "3   https://cdn.sofifa.net/teams/10/30.png  ...       Yes   \n",
       "4   https://cdn.sofifa.net/teams/44/30.png  ...       Yes   \n",
       "\n",
       "                      Position        Joined Loaned From  \\\n",
       "0  <span class=\"pos pos28\">SUB   Jul 1, 2018         NaN   \n",
       "1  <span class=\"pos pos15\">LCM  Jan 30, 2020         NaN   \n",
       "2    <span class=\"pos pos7\">LB  Sep 14, 2020         NaN   \n",
       "3  <span class=\"pos pos13\">RCM  Aug 30, 2015         NaN   \n",
       "4  <span class=\"pos pos13\">RCM   Sep 1, 2020         NaN   \n",
       "\n",
       "   Contract Valid Until  Height  Weight Release Clause Kit Number  \\\n",
       "0                  2026   189cm    82kg          €157M        8.0   \n",
       "1                  2026   179cm    69kg          €155M        8.0   \n",
       "2                  2024   172cm    69kg         €97.7M       19.0   \n",
       "3                  2025   181cm    70kg        €198.9M       17.0   \n",
       "4                  2026   172cm    68kg        €154.4M       23.0   \n",
       "\n",
       "  Best Overall Rating  \n",
       "0                 NaN  \n",
       "1                 NaN  \n",
       "2                 NaN  \n",
       "3                 NaN  \n",
       "4                 NaN  \n",
       "\n",
       "[5 rows x 29 columns]"
      ]
     },
     "execution_count": 4,
     "metadata": {},
     "output_type": "execute_result"
    }
   ],
   "source": [
    "df = pd.read_csv('https://raw.githubusercontent.com/guebin/DV2022/master/posts/FIFA23_official_data.csv')\n",
    "df.head()"
   ]
  },
  {
   "cell_type": "markdown",
   "id": "05074e33-34d3-4d3d-932c-bfdb7f274a27",
   "metadata": {},
   "source": [
    "`-` `df.T`를 이용하여 데이터를 살피면 편리함"
   ]
  },
  {
   "cell_type": "markdown",
   "id": "b0f20c2e-ecca-4d4f-84e1-7042e4f9659f",
   "metadata": {},
   "source": [
    "`-` 출력옵션 조정"
   ]
  },
  {
   "cell_type": "markdown",
   "id": "4198d021-cab1-4a24-bccb-df6f4ba4ffb4",
   "metadata": {},
   "source": [
    "- 이 예제에서는 줄이는 옵션을 사용했지만 보통은 늘려서 사용함"
   ]
  },
  {
   "cell_type": "markdown",
   "id": "10316ec0-301d-4448-9e3f-df2e8bb1e98c",
   "metadata": {},
   "source": [
    "## D. `df.dtypes`, `s.dtype`"
   ]
  },
  {
   "cell_type": "markdown",
   "id": "38ff9f81-fe44-4a09-9403-05ff4d718f69",
   "metadata": {},
   "source": [
    "`-` `df.dtypes`"
   ]
  },
  {
   "cell_type": "markdown",
   "id": "dd5892a0-2a60-45c1-9056-f1f0442add14",
   "metadata": {},
   "source": [
    "`-` `s.dtype`"
   ]
  },
  {
   "cell_type": "markdown",
   "id": "d21aaf45-fac9-4594-9bad-813101120a08",
   "metadata": {},
   "source": [
    "`-` `==`를 이용한 자료형 체크"
   ]
  },
  {
   "cell_type": "markdown",
   "id": "863d3d2b-d97e-47ea-9014-cf834c1f281f",
   "metadata": {},
   "source": [
    "`# 예제`: `df`에서 `int64` 자료형만 출력 "
   ]
  },
  {
   "cell_type": "markdown",
   "id": "35ad4718-4b4d-420e-ae57-fe40f123b3f1",
   "metadata": {},
   "source": [
    "`-` (풀이1)"
   ]
  },
  {
   "cell_type": "markdown",
   "id": "37d53010-5292-479e-944d-004ca417d26b",
   "metadata": {},
   "source": [
    "`-` (풀이2)"
   ]
  },
  {
   "cell_type": "markdown",
   "id": "66f56446-1623-488e-bc29-2cd3dfc881be",
   "metadata": {},
   "source": [
    "`#`"
   ]
  },
  {
   "cell_type": "markdown",
   "id": "7bc09325-f114-420d-8981-c91d4fa38dfe",
   "metadata": {},
   "source": [
    "## E. `df.sort_values()`"
   ]
  },
  {
   "cell_type": "markdown",
   "id": "90093171-98ad-45a9-a0f9-4dbbb41cefec",
   "metadata": {},
   "source": [
    "`-` 예시1: 나이가 어린 순서대로 정렬"
   ]
  },
  {
   "cell_type": "markdown",
   "id": "0616525a-1c50-4a7e-a843-909e297d4493",
   "metadata": {},
   "source": [
    "`-` 예시2: 나이가 많은 순서대로 정렬"
   ]
  },
  {
   "cell_type": "markdown",
   "id": "588e028e-7846-4f7f-ae6c-6e5d29ad7665",
   "metadata": {},
   "source": [
    "`-` 예시3: 능력치가 좋은 순서대로 정렬 "
   ]
  },
  {
   "cell_type": "markdown",
   "id": "b73cba10-50f6-4c43-9d83-8c34b56b7a5f",
   "metadata": {},
   "source": [
    "## F. `df.info()`"
   ]
  },
  {
   "cell_type": "markdown",
   "id": "f36e14dc-c6a3-437c-aba3-43c7c83a8490",
   "metadata": {},
   "source": [
    "## G. `df.isna()`"
   ]
  },
  {
   "cell_type": "markdown",
   "id": "6a08b1cd-54f0-4f6d-b9d6-1f1024af566b",
   "metadata": {},
   "source": [
    "`-` 예시1: 열별로 결측치 count"
   ]
  },
  {
   "cell_type": "markdown",
   "id": "415b37cd-245b-4e82-8e94-e39bc7ba642d",
   "metadata": {},
   "source": [
    "`-` 예시2: 결측치가 50% 이상인 열 출력 "
   ]
  },
  {
   "cell_type": "markdown",
   "id": "2e07ceb0-e8a8-45fe-8e70-242e211e3cad",
   "metadata": {},
   "source": [
    "## H. `df.drop()` "
   ]
  },
  {
   "cell_type": "markdown",
   "id": "aa4c4cdc-e8e8-42d6-94ea-62c96ab2a3dd",
   "metadata": {},
   "source": [
    "`-` 예시1: [0,1,2,3] 행을 drop "
   ]
  },
  {
   "cell_type": "markdown",
   "id": "50d47689-0a9f-4b26-ad41-1f14897b88ba",
   "metadata": {},
   "source": [
    "`-` 예시2: ['Name', 'Age'] 열을 drop "
   ]
  },
  {
   "cell_type": "markdown",
   "id": "4b1b9889-20e7-4bf2-b4cb-79e0bb5a9b91",
   "metadata": {},
   "source": [
    "## `#` G~H 에 대한 연습문제 "
   ]
  },
  {
   "cell_type": "markdown",
   "id": "5eaebcc4-ca38-49de-a750-86ee378b89a4",
   "metadata": {},
   "source": [
    "`# 예제`: 결측치가 50퍼 이상인 열을 제외하라. "
   ]
  },
  {
   "cell_type": "markdown",
   "id": "231e05d8-a704-47a1-93df-389cf28c1679",
   "metadata": {},
   "source": [
    "`-` (풀이1)"
   ]
  },
  {
   "cell_type": "markdown",
   "id": "da51eb02-b5b1-4a20-92c7-d75c85386476",
   "metadata": {},
   "source": [
    "`-` (풀이2)"
   ]
  },
  {
   "cell_type": "markdown",
   "id": "51e676e6-0476-4991-9070-aa46e3edebf6",
   "metadata": {},
   "source": [
    "`#`"
   ]
  },
  {
   "cell_type": "markdown",
   "id": "354a21ba-fd0a-4661-b105-10d8d28ac70d",
   "metadata": {},
   "source": [
    "# 4. Pandas: missing "
   ]
  },
  {
   "cell_type": "markdown",
   "id": "1a8fa739-3c3b-4d4a-9a3c-3e7d2b94f6cb",
   "metadata": {},
   "source": [
    "## A. Numpy "
   ]
  },
  {
   "cell_type": "markdown",
   "id": "0a3586f9-2469-4225-ac47-f187471a094b",
   "metadata": {},
   "source": [
    "`-` 발생: `np.nan`"
   ]
  },
  {
   "cell_type": "code",
   "execution_count": 523,
   "id": "700824b5-fcc2-42ce-8132-c7936b6e5d9a",
   "metadata": {},
   "outputs": [
    {
     "data": {
      "text/plain": [
       "nan"
      ]
     },
     "execution_count": 523,
     "metadata": {},
     "output_type": "execute_result"
    }
   ],
   "source": [
    "np.nan"
   ]
  },
  {
   "cell_type": "code",
   "execution_count": 525,
   "id": "b4144045-c8b8-4f3d-bce0-82c85e410eb6",
   "metadata": {},
   "outputs": [
    {
     "data": {
      "text/plain": [
       "[1, 2, 3, nan]"
      ]
     },
     "execution_count": 525,
     "metadata": {},
     "output_type": "execute_result"
    }
   ],
   "source": [
    "[1,2,3,np.nan]"
   ]
  },
  {
   "cell_type": "code",
   "execution_count": 536,
   "id": "410ea9cc-6842-42f2-abe6-912070e73132",
   "metadata": {},
   "outputs": [
    {
     "data": {
      "text/plain": [
       "array([ 1.,  2.,  3., nan])"
      ]
     },
     "execution_count": 536,
     "metadata": {},
     "output_type": "execute_result"
    }
   ],
   "source": [
    "arr = np.array([1,2,3,np.nan])\n",
    "arr"
   ]
  },
  {
   "cell_type": "markdown",
   "id": "73fad41f-66f1-49d4-bd4d-4abe7b4fc14b",
   "metadata": {},
   "source": [
    "`-` np.array에 nan이 있으면 연산결과도 nan"
   ]
  },
  {
   "cell_type": "code",
   "execution_count": 537,
   "id": "7914449d-0223-44ba-a094-e1e5eb000126",
   "metadata": {},
   "outputs": [
    {
     "data": {
      "text/plain": [
       "nan"
      ]
     },
     "execution_count": 537,
     "metadata": {},
     "output_type": "execute_result"
    }
   ],
   "source": [
    "arr.mean()"
   ]
  },
  {
   "cell_type": "markdown",
   "id": "6ebc649d-431b-461f-b7eb-af0c21a4fc9c",
   "metadata": {},
   "source": [
    "`-` type"
   ]
  },
  {
   "cell_type": "code",
   "execution_count": 542,
   "id": "22e9ad5d-2346-4662-b4ff-4a2156bcd64c",
   "metadata": {},
   "outputs": [
    {
     "data": {
      "text/plain": [
       "float"
      ]
     },
     "execution_count": 542,
     "metadata": {},
     "output_type": "execute_result"
    }
   ],
   "source": [
    "type(np.nan) "
   ]
  },
  {
   "cell_type": "code",
   "execution_count": 538,
   "id": "407a2531-66d7-45e5-97b8-536f193cbafb",
   "metadata": {},
   "outputs": [
    {
     "data": {
      "text/plain": [
       "numpy.float64"
      ]
     },
     "execution_count": 538,
     "metadata": {},
     "output_type": "execute_result"
    }
   ],
   "source": [
    "type(arr[0])"
   ]
  },
  {
   "cell_type": "markdown",
   "id": "6b347994-2c8c-48a9-9bc4-3cf8f56dab43",
   "metadata": {},
   "source": [
    "## B. Pandas "
   ]
  },
  {
   "cell_type": "markdown",
   "id": "ef3ac0d3-53fb-4e03-bbc6-d77933054263",
   "metadata": {},
   "source": [
    "`-` 발생: np.nan, pd.NA"
   ]
  },
  {
   "cell_type": "code",
   "execution_count": 546,
   "id": "9cf64968-ae29-47e7-b454-4cbf98d998f5",
   "metadata": {},
   "outputs": [
    {
     "data": {
      "text/plain": [
       "0    NaN\n",
       "1    1.0\n",
       "2    2.0\n",
       "3    3.0\n",
       "dtype: float64"
      ]
     },
     "execution_count": 546,
     "metadata": {},
     "output_type": "execute_result"
    }
   ],
   "source": [
    "pd.Series([np.nan,1,2,3])"
   ]
  },
  {
   "cell_type": "code",
   "execution_count": 545,
   "id": "c29d3242-1e99-4e5b-b4a5-ab93cd241dec",
   "metadata": {},
   "outputs": [
    {
     "data": {
      "text/plain": [
       "0    <NA>\n",
       "1       1\n",
       "2       2\n",
       "3       3\n",
       "dtype: object"
      ]
     },
     "execution_count": 545,
     "metadata": {},
     "output_type": "execute_result"
    }
   ],
   "source": [
    "pd.Series([pd.NA,1,2,3])"
   ]
  },
  {
   "cell_type": "markdown",
   "id": "c062e8ec-56fa-4bbe-8e8e-22cf92cd86e2",
   "metadata": {},
   "source": [
    "`-` pd.Series에 `NaN` 혹은 `<NA>` 가 있다면 연산할때 제외함 "
   ]
  },
  {
   "cell_type": "code",
   "execution_count": 547,
   "id": "694381a3-a7fe-404f-bae6-aa11b848f1d2",
   "metadata": {},
   "outputs": [
    {
     "data": {
      "text/plain": [
       "2.0"
      ]
     },
     "execution_count": 547,
     "metadata": {},
     "output_type": "execute_result"
    }
   ],
   "source": [
    "pd.Series([np.nan,1,2,3]).mean()"
   ]
  },
  {
   "cell_type": "code",
   "execution_count": 548,
   "id": "02236d8b-25ad-4687-9560-2bf23a70e0ad",
   "metadata": {},
   "outputs": [
    {
     "data": {
      "text/plain": [
       "2.0"
      ]
     },
     "execution_count": 548,
     "metadata": {},
     "output_type": "execute_result"
    }
   ],
   "source": [
    "pd.Series([pd.NA,1,2,3]).mean()"
   ]
  },
  {
   "cell_type": "markdown",
   "id": "6e5afa4e-5d03-46fd-8936-bd8a953fb7a6",
   "metadata": {},
   "source": [
    "`-` type"
   ]
  },
  {
   "cell_type": "code",
   "execution_count": 557,
   "id": "8063aebf-acf2-48ac-9bd3-37b89e99920a",
   "metadata": {},
   "outputs": [
    {
     "data": {
      "text/plain": [
       "numpy.float64"
      ]
     },
     "execution_count": 557,
     "metadata": {},
     "output_type": "execute_result"
    }
   ],
   "source": [
    "s1 = pd.Series([np.nan,1,2,3])\n",
    "type(s1[0])"
   ]
  },
  {
   "cell_type": "code",
   "execution_count": 558,
   "id": "ea738470-f902-4411-8615-f50688d6118a",
   "metadata": {},
   "outputs": [
    {
     "data": {
      "text/plain": [
       "pandas._libs.missing.NAType"
      ]
     },
     "execution_count": 558,
     "metadata": {},
     "output_type": "execute_result"
    }
   ],
   "source": [
    "s2 = pd.Series([pd.NA,1,2,3])\n",
    "type(s2[0])"
   ]
  },
  {
   "cell_type": "markdown",
   "id": "ba7d1f73-9403-459f-9560-88dd8b29f856",
   "metadata": {},
   "source": [
    "`-` 검출 ($\\star$)"
   ]
  },
  {
   "cell_type": "code",
   "execution_count": 559,
   "id": "a6f6e828-20ce-44af-b86e-52291cd0e3ab",
   "metadata": {},
   "outputs": [
    {
     "data": {
      "text/plain": [
       "0     True\n",
       "1    False\n",
       "2    False\n",
       "3    False\n",
       "dtype: bool"
      ]
     },
     "execution_count": 559,
     "metadata": {},
     "output_type": "execute_result"
    }
   ],
   "source": [
    "s1.isna()"
   ]
  },
  {
   "cell_type": "code",
   "execution_count": 560,
   "id": "4748086c-eefd-487c-9927-3bd83da625bd",
   "metadata": {},
   "outputs": [
    {
     "data": {
      "text/plain": [
       "0     True\n",
       "1    False\n",
       "2    False\n",
       "3    False\n",
       "dtype: bool"
      ]
     },
     "execution_count": 560,
     "metadata": {},
     "output_type": "execute_result"
    }
   ],
   "source": [
    "s2.isna()"
   ]
  },
  {
   "cell_type": "code",
   "execution_count": 561,
   "id": "a51c3c0a-c44e-466e-b0f1-cdc8c29c6d1e",
   "metadata": {},
   "outputs": [
    {
     "data": {
      "text/plain": [
       "(True, True)"
      ]
     },
     "execution_count": 561,
     "metadata": {},
     "output_type": "execute_result"
    }
   ],
   "source": [
    "pd.isna(s1[0]), pd.isnull(s1[0])"
   ]
  },
  {
   "cell_type": "code",
   "execution_count": 562,
   "id": "232a5b76-ee03-484d-9bfc-ab1de23b34ed",
   "metadata": {},
   "outputs": [
    {
     "data": {
      "text/plain": [
       "(True, True)"
      ]
     },
     "execution_count": 562,
     "metadata": {},
     "output_type": "execute_result"
    }
   ],
   "source": [
    "pd.isna(s2[0]), pd.isnull(s2[0])"
   ]
  },
  {
   "cell_type": "code",
   "execution_count": 564,
   "id": "a0a452d4-992d-43dc-8bb2-9e0d30ffe0d1",
   "metadata": {},
   "outputs": [
    {
     "data": {
      "text/plain": [
       "(139809127572768, 139809127572768)"
      ]
     },
     "execution_count": 564,
     "metadata": {},
     "output_type": "execute_result"
    }
   ],
   "source": [
    "id(pd.isna), id(pd.isnull) # 같은함수"
   ]
  },
  {
   "cell_type": "markdown",
   "id": "e0896138-05ca-4d97-be18-5d0b2e0dcab2",
   "metadata": {},
   "source": [
    "# 5. Pandas: query"
   ]
  },
  {
   "cell_type": "code",
   "execution_count": 399,
   "id": "0cb0fa0b-2135-454b-9903-50376dfa8b58",
   "metadata": {},
   "outputs": [
    {
     "data": {
      "text/html": [
       "<div>\n",
       "<style scoped>\n",
       "    .dataframe tbody tr th:only-of-type {\n",
       "        vertical-align: middle;\n",
       "    }\n",
       "\n",
       "    .dataframe tbody tr th {\n",
       "        vertical-align: top;\n",
       "    }\n",
       "\n",
       "    .dataframe thead th {\n",
       "        text-align: right;\n",
       "    }\n",
       "</style>\n",
       "<table border=\"1\" class=\"dataframe\">\n",
       "  <thead>\n",
       "    <tr style=\"text-align: right;\">\n",
       "      <th></th>\n",
       "      <th>A</th>\n",
       "      <th>B</th>\n",
       "      <th>C</th>\n",
       "      <th>D</th>\n",
       "      <th>E</th>\n",
       "    </tr>\n",
       "  </thead>\n",
       "  <tbody>\n",
       "    <tr>\n",
       "      <th>2022-12-26</th>\n",
       "      <td>-0.270857</td>\n",
       "      <td>-1.228653</td>\n",
       "      <td>1.531689</td>\n",
       "      <td>-0.537053</td>\n",
       "      <td>A</td>\n",
       "    </tr>\n",
       "    <tr>\n",
       "      <th>2022-12-27</th>\n",
       "      <td>-1.002490</td>\n",
       "      <td>-0.237320</td>\n",
       "      <td>0.158735</td>\n",
       "      <td>1.475163</td>\n",
       "      <td>A</td>\n",
       "    </tr>\n",
       "    <tr>\n",
       "      <th>2022-12-28</th>\n",
       "      <td>1.227294</td>\n",
       "      <td>-1.229115</td>\n",
       "      <td>-0.230923</td>\n",
       "      <td>-0.588956</td>\n",
       "      <td>A</td>\n",
       "    </tr>\n",
       "    <tr>\n",
       "      <th>2022-12-29</th>\n",
       "      <td>1.055675</td>\n",
       "      <td>0.207466</td>\n",
       "      <td>-1.342777</td>\n",
       "      <td>0.328476</td>\n",
       "      <td>A</td>\n",
       "    </tr>\n",
       "    <tr>\n",
       "      <th>2022-12-30</th>\n",
       "      <td>-1.361552</td>\n",
       "      <td>0.332200</td>\n",
       "      <td>-0.973502</td>\n",
       "      <td>-0.087079</td>\n",
       "      <td>A</td>\n",
       "    </tr>\n",
       "    <tr>\n",
       "      <th>2022-12-31</th>\n",
       "      <td>-0.427126</td>\n",
       "      <td>-1.098348</td>\n",
       "      <td>-1.574930</td>\n",
       "      <td>-0.984405</td>\n",
       "      <td>A</td>\n",
       "    </tr>\n",
       "    <tr>\n",
       "      <th>2023-01-01</th>\n",
       "      <td>0.708859</td>\n",
       "      <td>0.440459</td>\n",
       "      <td>0.177206</td>\n",
       "      <td>1.278599</td>\n",
       "      <td>A</td>\n",
       "    </tr>\n",
       "    <tr>\n",
       "      <th>2023-01-02</th>\n",
       "      <td>-0.463298</td>\n",
       "      <td>-0.339402</td>\n",
       "      <td>0.796854</td>\n",
       "      <td>0.430886</td>\n",
       "      <td>A</td>\n",
       "    </tr>\n",
       "    <tr>\n",
       "      <th>2023-01-03</th>\n",
       "      <td>0.060733</td>\n",
       "      <td>-0.855747</td>\n",
       "      <td>0.406378</td>\n",
       "      <td>-0.374688</td>\n",
       "      <td>A</td>\n",
       "    </tr>\n",
       "    <tr>\n",
       "      <th>2023-01-04</th>\n",
       "      <td>-0.624314</td>\n",
       "      <td>-2.294164</td>\n",
       "      <td>-1.440067</td>\n",
       "      <td>0.468901</td>\n",
       "      <td>A</td>\n",
       "    </tr>\n",
       "    <tr>\n",
       "      <th>2023-01-05</th>\n",
       "      <td>-0.870416</td>\n",
       "      <td>1.546113</td>\n",
       "      <td>0.511670</td>\n",
       "      <td>0.629909</td>\n",
       "      <td>B</td>\n",
       "    </tr>\n",
       "    <tr>\n",
       "      <th>2023-01-06</th>\n",
       "      <td>-0.824110</td>\n",
       "      <td>0.099533</td>\n",
       "      <td>-0.620332</td>\n",
       "      <td>0.532668</td>\n",
       "      <td>B</td>\n",
       "    </tr>\n",
       "    <tr>\n",
       "      <th>2023-01-07</th>\n",
       "      <td>0.503465</td>\n",
       "      <td>1.242962</td>\n",
       "      <td>1.454505</td>\n",
       "      <td>0.078116</td>\n",
       "      <td>B</td>\n",
       "    </tr>\n",
       "    <tr>\n",
       "      <th>2023-01-08</th>\n",
       "      <td>0.265140</td>\n",
       "      <td>-0.257599</td>\n",
       "      <td>-0.001765</td>\n",
       "      <td>-0.006001</td>\n",
       "      <td>B</td>\n",
       "    </tr>\n",
       "    <tr>\n",
       "      <th>2023-01-09</th>\n",
       "      <td>-0.244641</td>\n",
       "      <td>0.003440</td>\n",
       "      <td>-0.520551</td>\n",
       "      <td>-1.234238</td>\n",
       "      <td>B</td>\n",
       "    </tr>\n",
       "    <tr>\n",
       "      <th>2023-01-10</th>\n",
       "      <td>-0.084888</td>\n",
       "      <td>1.703080</td>\n",
       "      <td>1.120433</td>\n",
       "      <td>-0.086535</td>\n",
       "      <td>B</td>\n",
       "    </tr>\n",
       "    <tr>\n",
       "      <th>2023-01-11</th>\n",
       "      <td>-0.331437</td>\n",
       "      <td>-0.551683</td>\n",
       "      <td>-0.013150</td>\n",
       "      <td>-0.152485</td>\n",
       "      <td>B</td>\n",
       "    </tr>\n",
       "    <tr>\n",
       "      <th>2023-01-12</th>\n",
       "      <td>-0.245932</td>\n",
       "      <td>0.803214</td>\n",
       "      <td>-0.308245</td>\n",
       "      <td>0.867083</td>\n",
       "      <td>B</td>\n",
       "    </tr>\n",
       "    <tr>\n",
       "      <th>2023-01-13</th>\n",
       "      <td>1.634994</td>\n",
       "      <td>2.874205</td>\n",
       "      <td>0.894526</td>\n",
       "      <td>0.299051</td>\n",
       "      <td>B</td>\n",
       "    </tr>\n",
       "    <tr>\n",
       "      <th>2023-01-14</th>\n",
       "      <td>1.215381</td>\n",
       "      <td>0.732784</td>\n",
       "      <td>-0.015137</td>\n",
       "      <td>-0.160478</td>\n",
       "      <td>B</td>\n",
       "    </tr>\n",
       "  </tbody>\n",
       "</table>\n",
       "</div>"
      ],
      "text/plain": [
       "                   A         B         C         D  E\n",
       "2022-12-26 -0.270857 -1.228653  1.531689 -0.537053  A\n",
       "2022-12-27 -1.002490 -0.237320  0.158735  1.475163  A\n",
       "2022-12-28  1.227294 -1.229115 -0.230923 -0.588956  A\n",
       "2022-12-29  1.055675  0.207466 -1.342777  0.328476  A\n",
       "2022-12-30 -1.361552  0.332200 -0.973502 -0.087079  A\n",
       "2022-12-31 -0.427126 -1.098348 -1.574930 -0.984405  A\n",
       "2023-01-01  0.708859  0.440459  0.177206  1.278599  A\n",
       "2023-01-02 -0.463298 -0.339402  0.796854  0.430886  A\n",
       "2023-01-03  0.060733 -0.855747  0.406378 -0.374688  A\n",
       "2023-01-04 -0.624314 -2.294164 -1.440067  0.468901  A\n",
       "2023-01-05 -0.870416  1.546113  0.511670  0.629909  B\n",
       "2023-01-06 -0.824110  0.099533 -0.620332  0.532668  B\n",
       "2023-01-07  0.503465  1.242962  1.454505  0.078116  B\n",
       "2023-01-08  0.265140 -0.257599 -0.001765 -0.006001  B\n",
       "2023-01-09 -0.244641  0.003440 -0.520551 -1.234238  B\n",
       "2023-01-10 -0.084888  1.703080  1.120433 -0.086535  B\n",
       "2023-01-11 -0.331437 -0.551683 -0.013150 -0.152485  B\n",
       "2023-01-12 -0.245932  0.803214 -0.308245  0.867083  B\n",
       "2023-01-13  1.634994  2.874205  0.894526  0.299051  B\n",
       "2023-01-14  1.215381  0.732784 -0.015137 -0.160478  B"
      ]
     },
     "execution_count": 399,
     "metadata": {},
     "output_type": "execute_result"
    }
   ],
   "source": [
    "ts = pd.DataFrame(np.random.normal(size=(20,4)),columns=list('ABCD'),index=pd.date_range('20221226',periods=20)).assign(E=['A']*10+['B']*10)\n",
    "ts"
   ]
  },
  {
   "cell_type": "markdown",
   "id": "c9b06cd5-e56d-4844-a5c9-5320e48bae39",
   "metadata": {},
   "source": [
    "## A. 기본 query"
   ]
  },
  {
   "cell_type": "markdown",
   "id": "f2b86656-16a5-4560-af87-2a2d569d4ac2",
   "metadata": {},
   "source": [
    "`-` 예시1: `A>0 and B<0`"
   ]
  },
  {
   "cell_type": "markdown",
   "id": "a5b30069-1199-49e9-ad02-9e22295406c2",
   "metadata": {},
   "source": [
    "`-` 예시2: `A<B<C`"
   ]
  },
  {
   "cell_type": "markdown",
   "id": "33a168ef-47a3-4d16-a271-0e4f12660069",
   "metadata": {},
   "source": [
    "`-` 예시3: `(A+B/2) > 0`"
   ]
  },
  {
   "cell_type": "markdown",
   "id": "c030b510-5ed3-49cd-8d42-f23f98475c76",
   "metadata": {},
   "source": [
    "`-` 예시4: `(A+B/2) > 0` and `E=='A'`"
   ]
  },
  {
   "cell_type": "markdown",
   "id": "27c90269-e978-41d4-b89d-8e4022947999",
   "metadata": {},
   "source": [
    "## B. 외부변수를 이용 "
   ]
  },
  {
   "cell_type": "markdown",
   "id": "dbb6e9d4-c67d-4dda-9194-28eda4bd1528",
   "metadata": {},
   "source": [
    "`-` 예시: `A > mean(A)`"
   ]
  },
  {
   "cell_type": "markdown",
   "id": "14ad8231-5c4d-4b22-95af-388f7d36429b",
   "metadata": {},
   "source": [
    "## C. Index로 query"
   ]
  },
  {
   "cell_type": "markdown",
   "id": "be4c45d8-25cf-4d10-abd7-eec26583fe98",
   "metadata": {},
   "source": [
    "`-` 예시: (2022년 12월30일 보다 이전 날짜) $\\cup$ (2023년 1월10일)"
   ]
  },
  {
   "cell_type": "markdown",
   "id": "d4e18689-ffdd-4cae-b335-d104fd3224ce",
   "metadata": {},
   "source": [
    "## D. 열의 이름에 공백이 있을 경우"
   ]
  },
  {
   "cell_type": "code",
   "execution_count": 410,
   "id": "83019d67-7c04-4ab0-8906-67d61b27683f",
   "metadata": {},
   "outputs": [
    {
     "data": {
      "text/html": [
       "<div>\n",
       "<style scoped>\n",
       "    .dataframe tbody tr th:only-of-type {\n",
       "        vertical-align: middle;\n",
       "    }\n",
       "\n",
       "    .dataframe tbody tr th {\n",
       "        vertical-align: top;\n",
       "    }\n",
       "\n",
       "    .dataframe thead th {\n",
       "        text-align: right;\n",
       "    }\n",
       "</style>\n",
       "<table border=\"1\" class=\"dataframe\">\n",
       "  <thead>\n",
       "    <tr style=\"text-align: right;\">\n",
       "      <th></th>\n",
       "      <th>ID</th>\n",
       "      <th>Name</th>\n",
       "      <th>Age</th>\n",
       "      <th>Photo</th>\n",
       "      <th>Nationality</th>\n",
       "      <th>Flag</th>\n",
       "      <th>Overall</th>\n",
       "      <th>Potential</th>\n",
       "      <th>Club</th>\n",
       "      <th>Club Logo</th>\n",
       "      <th>...</th>\n",
       "      <th>Real Face</th>\n",
       "      <th>Position</th>\n",
       "      <th>Joined</th>\n",
       "      <th>Loaned From</th>\n",
       "      <th>Contract Valid Until</th>\n",
       "      <th>Height</th>\n",
       "      <th>Weight</th>\n",
       "      <th>Release Clause</th>\n",
       "      <th>Kit Number</th>\n",
       "      <th>Best Overall Rating</th>\n",
       "    </tr>\n",
       "  </thead>\n",
       "  <tbody>\n",
       "    <tr>\n",
       "      <th>0</th>\n",
       "      <td>209658</td>\n",
       "      <td>L. Goretzka</td>\n",
       "      <td>27</td>\n",
       "      <td>https://cdn.sofifa.net/players/209/658/23_60.png</td>\n",
       "      <td>Germany</td>\n",
       "      <td>https://cdn.sofifa.net/flags/de.png</td>\n",
       "      <td>87</td>\n",
       "      <td>88</td>\n",
       "      <td>FC Bayern München</td>\n",
       "      <td>https://cdn.sofifa.net/teams/21/30.png</td>\n",
       "      <td>...</td>\n",
       "      <td>Yes</td>\n",
       "      <td>&lt;span class=\"pos pos28\"&gt;SUB</td>\n",
       "      <td>Jul 1, 2018</td>\n",
       "      <td>NaN</td>\n",
       "      <td>2026</td>\n",
       "      <td>189cm</td>\n",
       "      <td>82kg</td>\n",
       "      <td>€157M</td>\n",
       "      <td>8.0</td>\n",
       "      <td>NaN</td>\n",
       "    </tr>\n",
       "    <tr>\n",
       "      <th>1</th>\n",
       "      <td>212198</td>\n",
       "      <td>Bruno Fernandes</td>\n",
       "      <td>27</td>\n",
       "      <td>https://cdn.sofifa.net/players/212/198/23_60.png</td>\n",
       "      <td>Portugal</td>\n",
       "      <td>https://cdn.sofifa.net/flags/pt.png</td>\n",
       "      <td>86</td>\n",
       "      <td>87</td>\n",
       "      <td>Manchester United</td>\n",
       "      <td>https://cdn.sofifa.net/teams/11/30.png</td>\n",
       "      <td>...</td>\n",
       "      <td>Yes</td>\n",
       "      <td>&lt;span class=\"pos pos15\"&gt;LCM</td>\n",
       "      <td>Jan 30, 2020</td>\n",
       "      <td>NaN</td>\n",
       "      <td>2026</td>\n",
       "      <td>179cm</td>\n",
       "      <td>69kg</td>\n",
       "      <td>€155M</td>\n",
       "      <td>8.0</td>\n",
       "      <td>NaN</td>\n",
       "    </tr>\n",
       "    <tr>\n",
       "      <th>2</th>\n",
       "      <td>224334</td>\n",
       "      <td>M. Acuña</td>\n",
       "      <td>30</td>\n",
       "      <td>https://cdn.sofifa.net/players/224/334/23_60.png</td>\n",
       "      <td>Argentina</td>\n",
       "      <td>https://cdn.sofifa.net/flags/ar.png</td>\n",
       "      <td>85</td>\n",
       "      <td>85</td>\n",
       "      <td>Sevilla FC</td>\n",
       "      <td>https://cdn.sofifa.net/teams/481/30.png</td>\n",
       "      <td>...</td>\n",
       "      <td>No</td>\n",
       "      <td>&lt;span class=\"pos pos7\"&gt;LB</td>\n",
       "      <td>Sep 14, 2020</td>\n",
       "      <td>NaN</td>\n",
       "      <td>2024</td>\n",
       "      <td>172cm</td>\n",
       "      <td>69kg</td>\n",
       "      <td>€97.7M</td>\n",
       "      <td>19.0</td>\n",
       "      <td>NaN</td>\n",
       "    </tr>\n",
       "    <tr>\n",
       "      <th>3</th>\n",
       "      <td>192985</td>\n",
       "      <td>K. De Bruyne</td>\n",
       "      <td>31</td>\n",
       "      <td>https://cdn.sofifa.net/players/192/985/23_60.png</td>\n",
       "      <td>Belgium</td>\n",
       "      <td>https://cdn.sofifa.net/flags/be.png</td>\n",
       "      <td>91</td>\n",
       "      <td>91</td>\n",
       "      <td>Manchester City</td>\n",
       "      <td>https://cdn.sofifa.net/teams/10/30.png</td>\n",
       "      <td>...</td>\n",
       "      <td>Yes</td>\n",
       "      <td>&lt;span class=\"pos pos13\"&gt;RCM</td>\n",
       "      <td>Aug 30, 2015</td>\n",
       "      <td>NaN</td>\n",
       "      <td>2025</td>\n",
       "      <td>181cm</td>\n",
       "      <td>70kg</td>\n",
       "      <td>€198.9M</td>\n",
       "      <td>17.0</td>\n",
       "      <td>NaN</td>\n",
       "    </tr>\n",
       "    <tr>\n",
       "      <th>4</th>\n",
       "      <td>224232</td>\n",
       "      <td>N. Barella</td>\n",
       "      <td>25</td>\n",
       "      <td>https://cdn.sofifa.net/players/224/232/23_60.png</td>\n",
       "      <td>Italy</td>\n",
       "      <td>https://cdn.sofifa.net/flags/it.png</td>\n",
       "      <td>86</td>\n",
       "      <td>89</td>\n",
       "      <td>Inter</td>\n",
       "      <td>https://cdn.sofifa.net/teams/44/30.png</td>\n",
       "      <td>...</td>\n",
       "      <td>Yes</td>\n",
       "      <td>&lt;span class=\"pos pos13\"&gt;RCM</td>\n",
       "      <td>Sep 1, 2020</td>\n",
       "      <td>NaN</td>\n",
       "      <td>2026</td>\n",
       "      <td>172cm</td>\n",
       "      <td>68kg</td>\n",
       "      <td>€154.4M</td>\n",
       "      <td>23.0</td>\n",
       "      <td>NaN</td>\n",
       "    </tr>\n",
       "  </tbody>\n",
       "</table>\n",
       "<p>5 rows × 29 columns</p>\n",
       "</div>"
      ],
      "text/plain": [
       "       ID             Name  Age  \\\n",
       "0  209658      L. Goretzka   27   \n",
       "1  212198  Bruno Fernandes   27   \n",
       "2  224334         M. Acuña   30   \n",
       "3  192985     K. De Bruyne   31   \n",
       "4  224232       N. Barella   25   \n",
       "\n",
       "                                              Photo Nationality  \\\n",
       "0  https://cdn.sofifa.net/players/209/658/23_60.png     Germany   \n",
       "1  https://cdn.sofifa.net/players/212/198/23_60.png    Portugal   \n",
       "2  https://cdn.sofifa.net/players/224/334/23_60.png   Argentina   \n",
       "3  https://cdn.sofifa.net/players/192/985/23_60.png     Belgium   \n",
       "4  https://cdn.sofifa.net/players/224/232/23_60.png       Italy   \n",
       "\n",
       "                                  Flag  Overall  Potential               Club  \\\n",
       "0  https://cdn.sofifa.net/flags/de.png       87         88  FC Bayern München   \n",
       "1  https://cdn.sofifa.net/flags/pt.png       86         87  Manchester United   \n",
       "2  https://cdn.sofifa.net/flags/ar.png       85         85         Sevilla FC   \n",
       "3  https://cdn.sofifa.net/flags/be.png       91         91    Manchester City   \n",
       "4  https://cdn.sofifa.net/flags/it.png       86         89              Inter   \n",
       "\n",
       "                                 Club Logo  ... Real Face  \\\n",
       "0   https://cdn.sofifa.net/teams/21/30.png  ...       Yes   \n",
       "1   https://cdn.sofifa.net/teams/11/30.png  ...       Yes   \n",
       "2  https://cdn.sofifa.net/teams/481/30.png  ...        No   \n",
       "3   https://cdn.sofifa.net/teams/10/30.png  ...       Yes   \n",
       "4   https://cdn.sofifa.net/teams/44/30.png  ...       Yes   \n",
       "\n",
       "                      Position        Joined Loaned From  \\\n",
       "0  <span class=\"pos pos28\">SUB   Jul 1, 2018         NaN   \n",
       "1  <span class=\"pos pos15\">LCM  Jan 30, 2020         NaN   \n",
       "2    <span class=\"pos pos7\">LB  Sep 14, 2020         NaN   \n",
       "3  <span class=\"pos pos13\">RCM  Aug 30, 2015         NaN   \n",
       "4  <span class=\"pos pos13\">RCM   Sep 1, 2020         NaN   \n",
       "\n",
       "   Contract Valid Until  Height  Weight Release Clause Kit Number  \\\n",
       "0                  2026   189cm    82kg          €157M        8.0   \n",
       "1                  2026   179cm    69kg          €155M        8.0   \n",
       "2                  2024   172cm    69kg         €97.7M       19.0   \n",
       "3                  2025   181cm    70kg        €198.9M       17.0   \n",
       "4                  2026   172cm    68kg        €154.4M       23.0   \n",
       "\n",
       "  Best Overall Rating  \n",
       "0                 NaN  \n",
       "1                 NaN  \n",
       "2                 NaN  \n",
       "3                 NaN  \n",
       "4                 NaN  \n",
       "\n",
       "[5 rows x 29 columns]"
      ]
     },
     "execution_count": 410,
     "metadata": {},
     "output_type": "execute_result"
    }
   ],
   "source": [
    "df = pd.read_csv('https://raw.githubusercontent.com/guebin/DV2022/master/posts/FIFA23_official_data.csv')\n",
    "df.head()"
   ]
  },
  {
   "cell_type": "markdown",
   "id": "072113a2-fc29-4fc9-ad21-57600300ad77",
   "metadata": {},
   "source": [
    "`-` 예시: `Skill Moves > 4`"
   ]
  },
  {
   "cell_type": "markdown",
   "id": "60fa3a05-4fbd-42dd-934b-7e4fcc720945",
   "metadata": {},
   "source": [
    "# 6. Pandas: 할당"
   ]
  },
  {
   "cell_type": "code",
   "execution_count": 11,
   "id": "6c0ed28e-74f6-458f-bf40-9e83c9b57047",
   "metadata": {},
   "outputs": [
    {
     "data": {
      "text/html": [
       "<div>\n",
       "<style scoped>\n",
       "    .dataframe tbody tr th:only-of-type {\n",
       "        vertical-align: middle;\n",
       "    }\n",
       "\n",
       "    .dataframe tbody tr th {\n",
       "        vertical-align: top;\n",
       "    }\n",
       "\n",
       "    .dataframe thead th {\n",
       "        text-align: right;\n",
       "    }\n",
       "</style>\n",
       "<table border=\"1\" class=\"dataframe\">\n",
       "  <thead>\n",
       "    <tr style=\"text-align: right;\">\n",
       "      <th></th>\n",
       "      <th>att</th>\n",
       "      <th>rep</th>\n",
       "      <th>mid</th>\n",
       "      <th>fin</th>\n",
       "    </tr>\n",
       "  </thead>\n",
       "  <tbody>\n",
       "    <tr>\n",
       "      <th>0</th>\n",
       "      <td>65</td>\n",
       "      <td>55</td>\n",
       "      <td>50</td>\n",
       "      <td>40</td>\n",
       "    </tr>\n",
       "    <tr>\n",
       "      <th>1</th>\n",
       "      <td>95</td>\n",
       "      <td>100</td>\n",
       "      <td>50</td>\n",
       "      <td>80</td>\n",
       "    </tr>\n",
       "    <tr>\n",
       "      <th>2</th>\n",
       "      <td>65</td>\n",
       "      <td>90</td>\n",
       "      <td>60</td>\n",
       "      <td>30</td>\n",
       "    </tr>\n",
       "    <tr>\n",
       "      <th>3</th>\n",
       "      <td>55</td>\n",
       "      <td>80</td>\n",
       "      <td>75</td>\n",
       "      <td>80</td>\n",
       "    </tr>\n",
       "    <tr>\n",
       "      <th>4</th>\n",
       "      <td>80</td>\n",
       "      <td>30</td>\n",
       "      <td>30</td>\n",
       "      <td>100</td>\n",
       "    </tr>\n",
       "    <tr>\n",
       "      <th>5</th>\n",
       "      <td>75</td>\n",
       "      <td>40</td>\n",
       "      <td>100</td>\n",
       "      <td>15</td>\n",
       "    </tr>\n",
       "    <tr>\n",
       "      <th>6</th>\n",
       "      <td>65</td>\n",
       "      <td>45</td>\n",
       "      <td>45</td>\n",
       "      <td>90</td>\n",
       "    </tr>\n",
       "    <tr>\n",
       "      <th>7</th>\n",
       "      <td>60</td>\n",
       "      <td>60</td>\n",
       "      <td>25</td>\n",
       "      <td>0</td>\n",
       "    </tr>\n",
       "    <tr>\n",
       "      <th>8</th>\n",
       "      <td>95</td>\n",
       "      <td>65</td>\n",
       "      <td>20</td>\n",
       "      <td>10</td>\n",
       "    </tr>\n",
       "    <tr>\n",
       "      <th>9</th>\n",
       "      <td>90</td>\n",
       "      <td>80</td>\n",
       "      <td>80</td>\n",
       "      <td>20</td>\n",
       "    </tr>\n",
       "    <tr>\n",
       "      <th>10</th>\n",
       "      <td>55</td>\n",
       "      <td>75</td>\n",
       "      <td>35</td>\n",
       "      <td>25</td>\n",
       "    </tr>\n",
       "    <tr>\n",
       "      <th>11</th>\n",
       "      <td>95</td>\n",
       "      <td>95</td>\n",
       "      <td>45</td>\n",
       "      <td>0</td>\n",
       "    </tr>\n",
       "    <tr>\n",
       "      <th>12</th>\n",
       "      <td>95</td>\n",
       "      <td>55</td>\n",
       "      <td>15</td>\n",
       "      <td>35</td>\n",
       "    </tr>\n",
       "    <tr>\n",
       "      <th>13</th>\n",
       "      <td>50</td>\n",
       "      <td>80</td>\n",
       "      <td>40</td>\n",
       "      <td>30</td>\n",
       "    </tr>\n",
       "    <tr>\n",
       "      <th>14</th>\n",
       "      <td>50</td>\n",
       "      <td>55</td>\n",
       "      <td>15</td>\n",
       "      <td>85</td>\n",
       "    </tr>\n",
       "    <tr>\n",
       "      <th>15</th>\n",
       "      <td>95</td>\n",
       "      <td>30</td>\n",
       "      <td>30</td>\n",
       "      <td>95</td>\n",
       "    </tr>\n",
       "    <tr>\n",
       "      <th>16</th>\n",
       "      <td>50</td>\n",
       "      <td>50</td>\n",
       "      <td>45</td>\n",
       "      <td>10</td>\n",
       "    </tr>\n",
       "    <tr>\n",
       "      <th>17</th>\n",
       "      <td>65</td>\n",
       "      <td>55</td>\n",
       "      <td>15</td>\n",
       "      <td>45</td>\n",
       "    </tr>\n",
       "    <tr>\n",
       "      <th>18</th>\n",
       "      <td>70</td>\n",
       "      <td>70</td>\n",
       "      <td>40</td>\n",
       "      <td>35</td>\n",
       "    </tr>\n",
       "    <tr>\n",
       "      <th>19</th>\n",
       "      <td>90</td>\n",
       "      <td>90</td>\n",
       "      <td>80</td>\n",
       "      <td>90</td>\n",
       "    </tr>\n",
       "  </tbody>\n",
       "</table>\n",
       "</div>"
      ],
      "text/plain": [
       "    att  rep  mid  fin\n",
       "0    65   55   50   40\n",
       "1    95  100   50   80\n",
       "2    65   90   60   30\n",
       "3    55   80   75   80\n",
       "4    80   30   30  100\n",
       "5    75   40  100   15\n",
       "6    65   45   45   90\n",
       "7    60   60   25    0\n",
       "8    95   65   20   10\n",
       "9    90   80   80   20\n",
       "10   55   75   35   25\n",
       "11   95   95   45    0\n",
       "12   95   55   15   35\n",
       "13   50   80   40   30\n",
       "14   50   55   15   85\n",
       "15   95   30   30   95\n",
       "16   50   50   45   10\n",
       "17   65   55   15   45\n",
       "18   70   70   40   35\n",
       "19   90   90   80   90"
      ]
     },
     "execution_count": 11,
     "metadata": {},
     "output_type": "execute_result"
    }
   ],
   "source": [
    "np.random.seed(43052)\n",
    "att = np.random.choice(np.arange(10,21)*5,20)\n",
    "rep = np.random.choice(np.arange(5,21)*5,20)\n",
    "mid = np.random.choice(np.arange(0,21)*5,20)\n",
    "fin = np.random.choice(np.arange(0,21)*5,20)\n",
    "df = pd.DataFrame({'att':att,'rep':rep,'mid':mid,'fin':fin})\n",
    "df"
   ]
  },
  {
   "cell_type": "markdown",
   "id": "2dae0e22-d5a2-4db6-a15b-324586259dcf",
   "metadata": {},
   "source": [
    "## A. `df.assign()`"
   ]
  },
  {
   "cell_type": "markdown",
   "id": "350291b5-ef29-4877-a083-37174486ae87",
   "metadata": {},
   "source": [
    "`-` 예시: `total = att*0.1 + rep*0.2 + mid*0.35 + fin*0.35` 를 계산하여 할당"
   ]
  },
  {
   "cell_type": "markdown",
   "id": "b569beb7-416e-4814-9b9f-f94572af9a20",
   "metadata": {},
   "source": [
    "> Note: 이 방법은 df를 일시적으로 변화시킴"
   ]
  },
  {
   "cell_type": "markdown",
   "id": "b5689558-2a24-4949-bac6-dab0cee328e9",
   "metadata": {},
   "source": [
    "## B. `df.eval()`"
   ]
  },
  {
   "cell_type": "markdown",
   "id": "db933a3f-d7aa-4ae1-8433-25dad086930f",
   "metadata": {},
   "source": [
    "`-` 예시: `total = att*0.1 + rep*0.2 + mid*0.35 + fin*0.35` 를 계산하여 할당"
   ]
  },
  {
   "cell_type": "markdown",
   "id": "674558e3-0780-4859-a937-e4abd0b02dea",
   "metadata": {},
   "source": [
    "> Note: 이 방법은 df를 일시적으로 변화시킴"
   ]
  },
  {
   "cell_type": "markdown",
   "id": "626e6792-466c-456f-85ef-75ae317d315d",
   "metadata": {},
   "source": [
    "## C. `df[colname] = xxx`"
   ]
  },
  {
   "cell_type": "markdown",
   "id": "d82264b4-cdd0-4424-be0d-fcfef6f6ca0d",
   "metadata": {},
   "source": [
    "`-` 예시: `total = att*0.1 + rep*0.2 + mid*0.35 + fin*0.35` 를 계산하여 할당"
   ]
  },
  {
   "cell_type": "markdown",
   "id": "593aa914-40fe-40b8-90eb-332e64ef1313",
   "metadata": {},
   "source": [
    "> Note: 이 방법은 df를 영구적으로 변화시킴"
   ]
  },
  {
   "cell_type": "markdown",
   "id": "3ab4dea9-9c3c-47dd-9ab2-036d15c8ff85",
   "metadata": {},
   "source": [
    "# 7. Pandas: transform column"
   ]
  },
  {
   "cell_type": "markdown",
   "id": "35486a08-a407-48f2-9b0a-de934a617956",
   "metadata": {},
   "source": [
    "## A. `lambda`"
   ]
  },
  {
   "cell_type": "markdown",
   "id": "1db33a05-6798-4dc8-9255-d4173eddb877",
   "metadata": {},
   "source": [
    "`-` 예시1: $x \\to x+2$ "
   ]
  },
  {
   "cell_type": "markdown",
   "id": "abaccca5-4146-4468-b43b-2e920834af14",
   "metadata": {},
   "source": [
    "`-` 예시2: $x,y \\to x+y$"
   ]
  },
  {
   "cell_type": "markdown",
   "id": "38aef1b8-a05d-496c-a3b5-e513802f2ada",
   "metadata": {},
   "source": [
    "`-` 예시3: '2023-09' $\\to$ 9  "
   ]
  },
  {
   "cell_type": "markdown",
   "id": "6f255922-aa22-442a-9c04-b6b3011f028f",
   "metadata": {},
   "source": [
    "`-` 예시4: '2023-09' $\\to$ 2023,9 "
   ]
  },
  {
   "cell_type": "markdown",
   "id": "19791739-e607-4c3d-8878-da86944ebc6b",
   "metadata": {},
   "source": [
    "`-` 예시5: 문자열이 'cat'이면 1 'dog' 이면 0 // 'cat이면 1 'cat'이 아니면 0 "
   ]
  },
  {
   "cell_type": "markdown",
   "id": "9ca08e43-7c90-4ad6-999d-fb410b8c46fa",
   "metadata": {},
   "source": [
    "`-` Note: `f`로 이름을 정하지 않고 직접 사용 가능"
   ]
  },
  {
   "cell_type": "markdown",
   "id": "fc4228f1-49f4-4220-bf22-ba30603d7b04",
   "metadata": {},
   "source": [
    "## B. `map`"
   ]
  },
  {
   "cell_type": "markdown",
   "id": "4273b208-0f7e-4e5a-b65f-d3d8861df63c",
   "metadata": {},
   "source": [
    "`-` 개념: `map(f,[x1,x2,...xn])=[f(x1),f(x2),...,f(xn)]`"
   ]
  },
  {
   "cell_type": "markdown",
   "id": "5261557c-b482-4b4f-89e0-fcdf5cd5e4ba",
   "metadata": {},
   "source": [
    "`-` 예시1: `x->x+1`을 `[1,2,3]`에 적용 "
   ]
  },
  {
   "cell_type": "markdown",
   "id": "a38b2871-ce95-49e2-86b3-e340af33ff18",
   "metadata": {},
   "source": [
    "`-` 예시2 `df.Height`열 변환하기 "
   ]
  },
  {
   "cell_type": "code",
   "execution_count": 13,
   "id": "e105664d-84b4-403a-ae37-3153ab1ddf73",
   "metadata": {},
   "outputs": [
    {
     "data": {
      "text/plain": [
       "0    189cm\n",
       "1    179cm\n",
       "2    172cm\n",
       "3    181cm\n",
       "4    172cm\n",
       "Name: Height, dtype: object"
      ]
     },
     "execution_count": 13,
     "metadata": {},
     "output_type": "execute_result"
    }
   ],
   "source": [
    "df = pd.read_csv('https://raw.githubusercontent.com/guebin/DV2022/master/posts/FIFA23_official_data.csv')\n",
    "s = df.Height[:5]\n",
    "s"
   ]
  },
  {
   "cell_type": "markdown",
   "id": "d9dddafa-2f72-4913-a128-bed03e3798c6",
   "metadata": {},
   "source": [
    "`# 예시3` `df.Height`열 변환하기 + 변환된 열 할당하기"
   ]
  },
  {
   "cell_type": "code",
   "execution_count": 14,
   "id": "193ae8c7-5600-45ed-8d91-d56ffb0b73d0",
   "metadata": {},
   "outputs": [],
   "source": [
    "df = pd.read_csv('https://raw.githubusercontent.com/guebin/DV2022/master/posts/FIFA23_official_data.csv')"
   ]
  },
  {
   "cell_type": "markdown",
   "id": "79837828-3e76-479e-88e4-ada6400df1c7",
   "metadata": {},
   "source": [
    "`-` (풀이1)"
   ]
  },
  {
   "cell_type": "markdown",
   "id": "34ab37bf-15a7-4130-97cb-db35ad746266",
   "metadata": {},
   "source": [
    "`-` (풀이2) -- 사실 수틀리면 컴프리헨션 쓰면 된다. "
   ]
  },
  {
   "cell_type": "markdown",
   "id": "7eb70310-eea1-4651-9933-6b97bf16ef3c",
   "metadata": {},
   "source": [
    "`#`"
   ]
  },
  {
   "cell_type": "markdown",
   "id": "bfb800ef-cff3-488b-80e1-3ff4f9180ddd",
   "metadata": {},
   "source": [
    "`# 예시4` -- `df.Position` 열에 아래와 같은 변환을 수행하고, 변환된 열을 할당하라. "
   ]
  },
  {
   "cell_type": "markdown",
   "id": "f7f29a16-6ac2-4102-aeec-f50cbab5cbde",
   "metadata": {},
   "source": [
    "|before|after|\n",
    "|:-:|:-:|\n",
    "|`<span class=\"pos pos28\">SUB`|`SUB`|\n",
    "|`<span class=\"pos pos15\">LCM`|`LCM`|\n",
    "|`<span class=\"pos pos7\">LB`|`LB`|\n",
    "|`<span class=\"pos pos13\">RCM`|`RCM`|\n",
    "|`<span class=\"pos pos13\">RCM`|`RCM`|"
   ]
  },
  {
   "cell_type": "code",
   "execution_count": 22,
   "id": "08cb10d2-fcf8-48fc-bba2-0d1225b8b196",
   "metadata": {},
   "outputs": [],
   "source": [
    "df = pd.read_csv('https://raw.githubusercontent.com/guebin/DV2022/master/posts/FIFA23_official_data.csv')"
   ]
  },
  {
   "cell_type": "markdown",
   "id": "8df92ea8-5f06-488a-a6e2-21b9503a08de",
   "metadata": {},
   "source": [
    "`-` (풀이1)"
   ]
  },
  {
   "cell_type": "markdown",
   "id": "3b636e12-1d07-4d2e-a808-a499d8f11d15",
   "metadata": {},
   "source": [
    "`-` (풀이2) -- 리스트컴프리헨션"
   ]
  },
  {
   "cell_type": "markdown",
   "id": "3ab884a2-f689-4e44-a1d5-534315da8bc0",
   "metadata": {},
   "source": [
    "- 개인의견: 이미 람다로 함수를 만들어야 해서 그냥 map을 쓰는게 자연스러움"
   ]
  },
  {
   "cell_type": "markdown",
   "id": "418c99a4-5d44-40e0-879e-aeaa972dbd46",
   "metadata": {},
   "source": [
    "## C. `s.apply(변환함수)`"
   ]
  },
  {
   "cell_type": "markdown",
   "id": "2b49942d-da45-4e8c-b6dc-c899b4f0610a",
   "metadata": {},
   "source": [
    "`-` 예시: 원소별로 처음3개의 숫자만 출력 "
   ]
  },
  {
   "cell_type": "code",
   "execution_count": 39,
   "id": "a6200359-342f-416e-ac05-92efd05adaff",
   "metadata": {},
   "outputs": [],
   "source": [
    "df = pd.read_csv('https://raw.githubusercontent.com/guebin/DV2022/master/posts/FIFA23_official_data.csv')\n",
    "s = df.Height"
   ]
  },
  {
   "cell_type": "markdown",
   "id": "4fb53493-cf6f-46be-ba48-5a23a28ece4d",
   "metadata": {},
   "source": [
    "## D. `s.str`"
   ]
  },
  {
   "cell_type": "markdown",
   "id": "dc079ede-4142-450f-afd6-3a1627048e4b",
   "metadata": {},
   "source": [
    "`-` 예시1: 원소별로 처음 3개의 숫자만 출력 "
   ]
  },
  {
   "cell_type": "code",
   "execution_count": 20,
   "id": "891db8ae-9e91-4329-bb47-6c02f6bdfd58",
   "metadata": {},
   "outputs": [],
   "source": [
    "df = pd.read_csv('https://raw.githubusercontent.com/guebin/DV2022/master/posts/FIFA23_official_data.csv')\n",
    "s = df.Height"
   ]
  },
  {
   "cell_type": "markdown",
   "id": "fe1c739a-4ad2-4b81-8227-3ca22e8aef9f",
   "metadata": {},
   "source": [
    "`-` 예시2: 원소별로 isupper를 수행 "
   ]
  },
  {
   "cell_type": "code",
   "execution_count": 18,
   "id": "3ddfbbe9-7f7a-4f4e-8ee6-782c1a05a085",
   "metadata": {},
   "outputs": [
    {
     "data": {
      "text/plain": [
       "0    A\n",
       "1    B\n",
       "2    C\n",
       "3    d\n",
       "4    e\n",
       "5    F\n",
       "dtype: object"
      ]
     },
     "execution_count": 18,
     "metadata": {},
     "output_type": "execute_result"
    }
   ],
   "source": [
    "s = pd.Series(['A','B','C','d','e','F'])\n",
    "s"
   ]
  },
  {
   "cell_type": "markdown",
   "id": "5be8cd7d-3e1e-4c68-a4db-584a1360693b",
   "metadata": {},
   "source": [
    "## E. `s.astype()`"
   ]
  },
  {
   "cell_type": "markdown",
   "id": "db58361c-53e9-4186-a89a-32038102b1eb",
   "metadata": {},
   "source": [
    "`-` 예시1: 원소의 타입을 모두 `int`형으로 변경 "
   ]
  },
  {
   "cell_type": "code",
   "execution_count": 27,
   "id": "70980ed0-449b-4897-8e34-61994a2fd0f2",
   "metadata": {},
   "outputs": [
    {
     "data": {
      "text/plain": [
       "0    1\n",
       "1    2\n",
       "2    3\n",
       "3    4\n",
       "4    5\n",
       "dtype: object"
      ]
     },
     "execution_count": 27,
     "metadata": {},
     "output_type": "execute_result"
    }
   ],
   "source": [
    "s = pd.Series(list('12345'))\n",
    "s"
   ]
  },
  {
   "cell_type": "markdown",
   "id": "807746c1-6f03-4b59-ba74-d0829833366c",
   "metadata": {},
   "source": [
    "`-` 예시2: 원소별로 (1) 처음3개의 문자열만 취하고 (2) 원소의 타입을 모두 인트형으로 변경 "
   ]
  },
  {
   "cell_type": "code",
   "execution_count": 601,
   "id": "652bc777-97de-4e86-809d-badb7ef85c7b",
   "metadata": {},
   "outputs": [],
   "source": [
    "df = pd.read_csv('https://raw.githubusercontent.com/guebin/DV2022/master/posts/FIFA23_official_data.csv')\n",
    "s = df.Height"
   ]
  },
  {
   "cell_type": "markdown",
   "id": "505d53f9-3719-47d9-823c-b921ba3160fb",
   "metadata": {},
   "source": [
    "# 8. HW "
   ]
  },
  {
   "cell_type": "markdown",
   "id": "004531ab-7b23-483d-930d-8e715cb9f9d2",
   "metadata": {},
   "source": [
    "`-` 문제: 아래의 자료에서 입학년도를 추가하고 싶다면?"
   ]
  },
  {
   "cell_type": "code",
   "execution_count": 38,
   "id": "d9c98a1e-1ba9-4077-b2b8-d9b2ddb78f98",
   "metadata": {},
   "outputs": [
    {
     "data": {
      "text/html": [
       "<div>\n",
       "<style scoped>\n",
       "    .dataframe tbody tr th:only-of-type {\n",
       "        vertical-align: middle;\n",
       "    }\n",
       "\n",
       "    .dataframe tbody tr th {\n",
       "        vertical-align: top;\n",
       "    }\n",
       "\n",
       "    .dataframe thead th {\n",
       "        text-align: right;\n",
       "    }\n",
       "</style>\n",
       "<table border=\"1\" class=\"dataframe\">\n",
       "  <thead>\n",
       "    <tr style=\"text-align: right;\">\n",
       "      <th></th>\n",
       "      <th>student_id</th>\n",
       "      <th>att</th>\n",
       "      <th>rep</th>\n",
       "      <th>mid</th>\n",
       "      <th>fin</th>\n",
       "    </tr>\n",
       "  </thead>\n",
       "  <tbody>\n",
       "    <tr>\n",
       "      <th>0</th>\n",
       "      <td>2023-12362</td>\n",
       "      <td>65</td>\n",
       "      <td>55</td>\n",
       "      <td>50</td>\n",
       "      <td>40</td>\n",
       "    </tr>\n",
       "    <tr>\n",
       "      <th>1</th>\n",
       "      <td>2022-12471</td>\n",
       "      <td>95</td>\n",
       "      <td>100</td>\n",
       "      <td>50</td>\n",
       "      <td>80</td>\n",
       "    </tr>\n",
       "    <tr>\n",
       "      <th>2</th>\n",
       "      <td>2023-12333</td>\n",
       "      <td>65</td>\n",
       "      <td>90</td>\n",
       "      <td>60</td>\n",
       "      <td>30</td>\n",
       "    </tr>\n",
       "    <tr>\n",
       "      <th>3</th>\n",
       "      <td>2022-12400</td>\n",
       "      <td>55</td>\n",
       "      <td>80</td>\n",
       "      <td>75</td>\n",
       "      <td>80</td>\n",
       "    </tr>\n",
       "    <tr>\n",
       "      <th>4</th>\n",
       "      <td>2022-12377</td>\n",
       "      <td>80</td>\n",
       "      <td>30</td>\n",
       "      <td>30</td>\n",
       "      <td>100</td>\n",
       "    </tr>\n",
       "  </tbody>\n",
       "</table>\n",
       "</div>"
      ],
      "text/plain": [
       "   student_id  att  rep  mid  fin\n",
       "0  2023-12362   65   55   50   40\n",
       "1  2022-12471   95  100   50   80\n",
       "2  2023-12333   65   90   60   30\n",
       "3  2022-12400   55   80   75   80\n",
       "4  2022-12377   80   30   30  100"
      ]
     },
     "execution_count": 38,
     "metadata": {},
     "output_type": "execute_result"
    }
   ],
   "source": [
    "np.random.seed(43052)\n",
    "att = np.random.choice(np.arange(10,21)*5,20)\n",
    "rep = np.random.choice(np.arange(5,21)*5,20)\n",
    "mid = np.random.choice(np.arange(0,21)*5,20)\n",
    "fin = np.random.choice(np.arange(0,21)*5,20)\n",
    "student_id = [ '2023-12362', '2022-12471', '2023-12333', '2022-12400', '2022-12377',\n",
    "               '2022-12469', '2023-12314', '2022-12363', '2023-12445', '2023-12336',\n",
    "               '2023-12426', '2022-12380', '2023-12422', '2022-12488', '2022-12370',\n",
    "               '2023-12443', '2022-12463', '2023-12491', '2023-12340', '2022-12312' ]\n",
    "df = pd.DataFrame({'student_id':student_id,'att':att,'rep':rep,'mid':mid,'fin':fin})\n",
    "df.head()"
   ]
  }
 ],
 "metadata": {
  "kernelspec": {
   "display_name": "Python 3 (ipykernel)",
   "language": "python",
   "name": "python3"
  },
  "language_info": {
   "codemirror_mode": {
    "name": "ipython",
    "version": 3
   },
   "file_extension": ".py",
   "mimetype": "text/x-python",
   "name": "python",
   "nbconvert_exporter": "python",
   "pygments_lexer": "ipython3",
   "version": "3.11.5"
  }
 },
 "nbformat": 4,
 "nbformat_minor": 5
}
