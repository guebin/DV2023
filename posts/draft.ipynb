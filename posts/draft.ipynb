{
 "cells": [
  {
   "cell_type": "raw",
   "id": "b52b859d-0cc8-4626-8f3b-48d9de369a45",
   "metadata": {},
   "source": [
    "---\n",
    "title: \"10wk-1: 야후 finance, 출산율 자료 시각화\"\n",
    "author: \"최규빈\"\n",
    "date: \"11/06/2023\"\n",
    "draft: false\n",
    "categories:\n",
    "  - pandas backend, plotly\n",
    "---"
   ]
  },
  {
   "cell_type": "markdown",
   "id": "4d10fdd5-45d0-43f9-9c10-4ecda965218d",
   "metadata": {
    "tags": []
   },
   "source": [
    "<a href=\"https://colab.research.google.com/github/guebin/DV2023/blob/main/posts/10wk-1.ipynb\"><img src=\"https://colab.research.google.com/assets/colab-badge.svg\" style=\"text-align: left\"></a>"
   ]
  },
  {
   "cell_type": "markdown",
   "id": "63ec4622-caa9-4f86-95d5-60328bc3fb64",
   "metadata": {},
   "source": [
    "# 1. 강의영상 "
   ]
  },
  {
   "cell_type": "markdown",
   "id": "a843124e-0fae-4335-ae19-b7ab31a5c2e5",
   "metadata": {},
   "source": [
    "{{<video ???? >}}"
   ]
  },
  {
   "cell_type": "code",
   "execution_count": null,
   "id": "a4d05d89-239f-4f84-89a2-e87c669de7e9",
   "metadata": {},
   "outputs": [],
   "source": []
  }
 ],
 "metadata": {
  "kernelspec": {
   "display_name": "Python 3 (ipykernel)",
   "language": "python",
   "name": "python3"
  },
  "language_info": {
   "codemirror_mode": {
    "name": "ipython",
    "version": 3
   },
   "file_extension": ".py",
   "mimetype": "text/x-python",
   "name": "python",
   "nbconvert_exporter": "python",
   "pygments_lexer": "ipython3",
   "version": "3.10.13"
  }
 },
 "nbformat": 4,
 "nbformat_minor": 5
}
