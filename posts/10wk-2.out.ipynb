{
  "cells": [
    {
      "cell_type": "markdown",
      "metadata": {},
      "source": [
        "# 10wk-2: Plotly with pandas-backend\n",
        "\n",
        "최규빈  \n",
        "2023-11-08\n",
        "\n",
        "<a href=\"https://colab.research.google.com/github/guebin/DV2023/blob/main/posts/10wk-2.ipynb\"><img src=\"https://colab.research.google.com/assets/colab-badge.svg\" style=\"text-align: left\"></a>\n",
        "\n",
        "# 1. 강의영상\n",
        "\n",
        "[????](????)\n",
        "\n",
        "# 2. Imports"
      ],
      "id": "f7bd49fd-9a6e-440d-8a06-37b8e6c218f6"
    },
    {
      "cell_type": "code",
      "execution_count": 1,
      "metadata": {
        "tags": []
      },
      "outputs": [],
      "source": [
        "import numpy as np\n",
        "import pandas as pd \n",
        "import plotly.io as pio"
      ],
      "id": "037f52d9-18a6-45cf-bf9b-d6ddae935299"
    },
    {
      "cell_type": "code",
      "execution_count": 2,
      "metadata": {
        "tags": []
      },
      "outputs": [
        {
          "output_type": "stream",
          "name": "stdout",
          "text": [
            "Templates configuration\n",
            "-----------------------\n",
            "    Default template: 'plotly_white'\n",
            "    Available templates:\n",
            "        ['ggplot2', 'seaborn', 'simple_white', 'plotly',\n",
            "         'plotly_white', 'plotly_dark', 'presentation', 'xgridoff',\n",
            "         'ygridoff', 'gridon', 'none']\n"
          ]
        }
      ],
      "source": [
        "pd.options.plotting.backend = \"plotly\"\n",
        "pio.templates.default = \"plotly_white\"\n",
        "print(pio.templates)"
      ],
      "id": "56c5cbc5-2bdb-48f4-a2bc-c792536fec2f"
    },
    {
      "cell_type": "markdown",
      "metadata": {},
      "source": [
        "# 3. 여러가지 플랏\n",
        "\n",
        "## A. `.plot.bar()`\n",
        "\n",
        "`# 예제1` – 성별 합격률 시각화"
      ],
      "id": "4c9a4c2e-831e-4ae6-a1a1-1c459374bd08"
    },
    {
      "cell_type": "code",
      "execution_count": 3,
      "metadata": {
        "tags": []
      },
      "outputs": [],
      "source": [
        "df = pd.read_csv(\"https://raw.githubusercontent.com/guebin/DV2022/master/posts/Simpson.csv\",index_col=0,header=[0,1]).reset_index().melt(id_vars='index').set_axis(['department','gender','result','count'],axis=1)\n",
        "df"
      ],
      "id": "3366c19c-78b0-47db-a9a6-bc436b53e65a"
    },
    {
      "cell_type": "code",
      "execution_count": 4,
      "metadata": {
        "tags": []
      },
      "outputs": [],
      "source": [
        "df.pivot_table(index='gender',columns='result',values='count',aggfunc='sum')\\\n",
        ".assign(rate = lambda df: df['pass']/(df['fail']+df['pass']))\\\n",
        ".assign(rate = lambda df: df['rate'].round(2))\\\n",
        ".reset_index().rename_axis(None,axis=1)\\\n",
        ".plot.bar(\n",
        "    x='gender', y='rate',\n",
        "    color='gender',\n",
        "    text='rate',\n",
        "    width=600\n",
        ")"
      ],
      "id": "9fa2bac9-9a77-4701-aa89-7ec54d37dcc1"
    },
    {
      "cell_type": "markdown",
      "metadata": {},
      "source": [
        "`#`\n",
        "\n",
        "`# 예제2` – (성별,학과)별 지원자수 시각화"
      ],
      "id": "fade95f7-f53d-420f-b229-0140d7196d87"
    },
    {
      "cell_type": "code",
      "execution_count": 5,
      "metadata": {
        "tags": []
      },
      "outputs": [],
      "source": [
        "df = pd.read_csv(\"https://raw.githubusercontent.com/guebin/DV2022/master/posts/Simpson.csv\",index_col=0,header=[0,1]).reset_index().melt(id_vars='index').set_axis(['department','gender','result','count'],axis=1)\n",
        "df"
      ],
      "id": "77a65bce-80a2-4139-a3a9-d9ddfa5e452c"
    },
    {
      "cell_type": "code",
      "execution_count": 6,
      "metadata": {
        "tags": []
      },
      "outputs": [],
      "source": [
        "df.groupby(['department','gender']).agg({'count':'sum'})\\\n",
        ".stack().reset_index().rename({0:'count'},axis=1).drop('level_2',axis=1)\\\n",
        ".plot.bar(\n",
        "    x='gender',y='count',\n",
        "    color='gender',\n",
        "    facet_col='department',facet_col_wrap=6,\n",
        "    text='count'\n",
        ")"
      ],
      "id": "48d92d4c-af2f-4c09-9cc8-62f1cf6fa0bf"
    },
    {
      "cell_type": "markdown",
      "metadata": {},
      "source": [
        "`#`\n",
        "\n",
        "## B. `.plot.line()`\n",
        "\n",
        "`# 예제1` – 핸드폰 판매량"
      ],
      "id": "297f5f87-767a-4fc1-8159-9decf40cfe39"
    },
    {
      "cell_type": "code",
      "execution_count": 7,
      "metadata": {
        "tags": []
      },
      "outputs": [],
      "source": [
        "df = pd.read_csv('https://raw.githubusercontent.com/guebin/2021DV/master/_notebooks/phone.csv')\n",
        "df"
      ],
      "id": "439af3e6-d29f-4051-bcbf-6b15d856d126"
    },
    {
      "cell_type": "code",
      "execution_count": 8,
      "metadata": {
        "tags": []
      },
      "outputs": [],
      "source": [
        "df.melt(id_vars='Date').set_axis(['날짜','회사','판매량'],axis=1)\\\n",
        ".plot.line(\n",
        "    x='날짜',y='판매량',\n",
        "    color='회사'\n",
        ")"
      ],
      "id": "93dece6d-1971-4795-89cb-a79d7fb9705e"
    },
    {
      "cell_type": "markdown",
      "metadata": {},
      "source": [
        "`#`\n",
        "\n",
        "## C. `.plot.scatter()`"
      ],
      "id": "8586e3ea-7a0b-4883-a46a-e4e88de8b373"
    },
    {
      "cell_type": "code",
      "execution_count": 9,
      "metadata": {
        "tags": []
      },
      "outputs": [],
      "source": [
        "position_dict = {\n",
        "    'GOALKEEPER':{'GK'},\n",
        "    'DEFENDER':{'CB','RCB','LCB','RB','LB','RWB','LWB'},\n",
        "    'MIDFIELDER':{'CM','RCM','LCM','CDM','RDM','LDM','CAM','RAM','LAM','RM','LM'},\n",
        "    'FORWARD':{'ST','CF','RF','LF','RW','LW','RS','LS'},\n",
        "    'SUB':{'SUB'},\n",
        "    'RES':{'RES'}\n",
        "}\n",
        "df = pd.read_csv('https://raw.githubusercontent.com/guebin/DV2021/master/_notebooks/2021-10-25-FIFA22_official_data.csv')\\\n",
        ".loc[:,lambda df: df.isna().mean()<0.5].dropna()\\\n",
        ".assign(Position = lambda df: df.Position.str.split(\">\").str[-1].apply(lambda x: [k for k,v in position_dict.items() if x in v].pop()))\\\n",
        ".assign(Wage = lambda df: df.Wage.str[1:].str.replace('K','000').astype(int))\n",
        "df"
      ],
      "id": "bd1c9d3f-96aa-4a62-80ae-f6d5c9f76d62"
    },
    {
      "cell_type": "code",
      "execution_count": 10,
      "metadata": {
        "tags": []
      },
      "outputs": [],
      "source": [
        "df.query('Position == \"DEFENDER\" or Position == \"FORWARD\"')\\\n",
        ".plot.scatter(\n",
        "    x='ShotPower',y='StandingTackle',\n",
        "    color='Position',\n",
        "    size='Wage',\n",
        "    hover_data = 'Name',\n",
        "    opacity = 0.5,\n",
        "    width=600,height=400\n",
        ")"
      ],
      "id": "70bc5122-82fe-46e7-87ed-89351765c125"
    },
    {
      "cell_type": "markdown",
      "metadata": {},
      "source": [
        "## D. `.plot.box()`\n",
        "\n",
        "`# 예제1` – 전북고등학교"
      ],
      "id": "ec58cdf3-8112-4685-af59-b395657c3edb"
    },
    {
      "cell_type": "code",
      "execution_count": 11,
      "metadata": {
        "tags": []
      },
      "outputs": [],
      "source": [
        "y1=[75,75,76,76,77,77,78,79,79,98] # A선생님에게 통계학을 배운 학생의 점수들\n",
        "y2=[76,76,77,77,78,78,79,80,80,81] # B선생님에게 통계학을 배운 학생의 점수들 "
      ],
      "id": "85c96b6d-b786-4f2d-923b-95c50c085002"
    },
    {
      "cell_type": "code",
      "execution_count": 12,
      "metadata": {
        "tags": []
      },
      "outputs": [],
      "source": [
        "df = pd.DataFrame({\n",
        "    'Class':['A']*len(y1) + ['B']*len(y2),\n",
        "    'Score':y1+y2\n",
        "})\n",
        "df.head()"
      ],
      "id": "a7d36e30-b962-4715-9d99-25b0f34a04ba"
    },
    {
      "cell_type": "code",
      "execution_count": 13,
      "metadata": {
        "tags": []
      },
      "outputs": [],
      "source": [
        "df.plot.box(\n",
        "    x='Class',\n",
        "    y='Score',\n",
        "    color='Class',\n",
        "    points='all',\n",
        "    width=600\n",
        ")"
      ],
      "id": "17998b08-76b9-4a6c-83ab-cc72c854b53a"
    },
    {
      "cell_type": "markdown",
      "metadata": {},
      "source": [
        "`#`\n",
        "\n",
        "`# 예제2` – (년도,시도)별 전기에너지사용량"
      ],
      "id": "1ce269a9-e3ee-4460-9314-2b7e17ab7db4"
    },
    {
      "cell_type": "code",
      "execution_count": 14,
      "metadata": {
        "tags": []
      },
      "outputs": [
        {
          "output_type": "stream",
          "name": "stderr",
          "text": [
            "/tmp/ipykernel_3771566/3228750770.py:9: FutureWarning:\n",
            "\n",
            "DataFrame.applymap has been deprecated. Use DataFrame.map instead.\n"
          ]
        }
      ],
      "source": [
        "url = 'https://raw.githubusercontent.com/guebin/DV2022/main/posts/Energy/{}.csv'\n",
        "prov = ['Seoul', 'Busan', 'Daegu', 'Incheon', \n",
        "        'Gwangju', 'Daejeon', 'Ulsan', 'Sejongsi', \n",
        "        'Gyeonggi-do', 'Gangwon-do', 'Chungcheongbuk-do', \n",
        "        'Chungcheongnam-do', 'Jeollabuk-do', 'Jeollanam-do', \n",
        "        'Gyeongsangbuk-do', 'Gyeongsangnam-do', 'Jeju-do']\n",
        "df = pd.concat([pd.read_csv(url.format(p+y)).assign(년도=y, 시도=p) for p in prov for y in ['2018', '2019', '2020', '2021']]).reset_index(drop=True)\\\n",
        ".assign(년도 = lambda df: df.년도.astype(int))\\\n",
        ".set_index(['년도','시도','지역']).applymap(lambda x: int(str(x).replace(',','')))\\\n",
        ".reset_index()\n",
        "df.head()"
      ],
      "id": "49be2ecd-1d22-4c0f-8b38-aaae598e565b"
    },
    {
      "cell_type": "code",
      "execution_count": 15,
      "metadata": {
        "tags": []
      },
      "outputs": [],
      "source": [
        "df.plot.box(\n",
        "    x='시도',y='에너지사용량(TOE)/전기',\n",
        "    color='시도',\n",
        "    facet_row='년도',\n",
        "    height=1600,\n",
        "    hover_data=['지역','연면적']\n",
        ")"
      ],
      "id": "d9013366-1d4e-440b-8ac2-8faf62916d46"
    },
    {
      "cell_type": "markdown",
      "metadata": {},
      "source": [
        "`#`\n",
        "\n",
        "## E. `.plot.hist()`\n",
        "\n",
        "`# 예제1` – 타이타닉: (연령,성별) 생존자"
      ],
      "id": "91f29f3a-fabf-4355-b38a-8e39835e5e83"
    },
    {
      "cell_type": "code",
      "execution_count": 16,
      "metadata": {
        "tags": []
      },
      "outputs": [],
      "source": [
        "df = pd.read_csv(\"https://raw.githubusercontent.com/guebin/DV2023/main/posts/titanic.csv\")\n",
        "df"
      ],
      "id": "8687a0db-c871-4f43-b675-7ecccbc14906"
    },
    {
      "cell_type": "code",
      "execution_count": 17,
      "metadata": {
        "tags": []
      },
      "outputs": [],
      "source": [
        "df.hist(\n",
        "    x = 'Age',\n",
        "    color = 'Sex',\n",
        "    facet_col = 'Survived',\n",
        "    facet_row = 'Sex'\n",
        ")\n",
        "        "
      ],
      "id": "a9b3037e-b70f-48e8-80c7-db8e29bfc942"
    },
    {
      "cell_type": "markdown",
      "metadata": {},
      "source": [
        "`#`\n",
        "\n",
        "## F. `.plot.area()`\n",
        "\n",
        "`# 예제1` – 핸드폰 판매량"
      ],
      "id": "afabe344-1c79-4229-bf14-9c1fdc78e7f9"
    },
    {
      "cell_type": "code",
      "execution_count": 18,
      "metadata": {
        "tags": []
      },
      "outputs": [],
      "source": [
        "df = pd.read_csv('https://raw.githubusercontent.com/guebin/2021DV/master/_notebooks/phone.csv')\n",
        "df"
      ],
      "id": "d37722bd-88f0-46eb-9bec-c00e2187d416"
    },
    {
      "cell_type": "code",
      "execution_count": 19,
      "metadata": {
        "tags": []
      },
      "outputs": [],
      "source": [
        "df.melt(id_vars='Date').set_axis(['날짜','회사','판매량'],axis=1)\\\n",
        ".plot.area(\n",
        "    x='날짜',y='판매량',\n",
        "    color='회사'\n",
        ")"
      ],
      "id": "f7111dc1-3c1c-4dc4-ba65-0ec1340d2790"
    },
    {
      "cell_type": "markdown",
      "metadata": {},
      "source": [
        "`#`\n",
        "\n",
        "`# 예제2` – 에너지사용량"
      ],
      "id": "16761e93-d870-4bce-8bbd-b72518d56fc2"
    },
    {
      "cell_type": "code",
      "execution_count": 20,
      "metadata": {
        "tags": []
      },
      "outputs": [
        {
          "output_type": "stream",
          "name": "stderr",
          "text": [
            "/tmp/ipykernel_3771566/3228750770.py:9: FutureWarning:\n",
            "\n",
            "DataFrame.applymap has been deprecated. Use DataFrame.map instead.\n"
          ]
        }
      ],
      "source": [
        "url = 'https://raw.githubusercontent.com/guebin/DV2022/main/posts/Energy/{}.csv'\n",
        "prov = ['Seoul', 'Busan', 'Daegu', 'Incheon', \n",
        "        'Gwangju', 'Daejeon', 'Ulsan', 'Sejongsi', \n",
        "        'Gyeonggi-do', 'Gangwon-do', 'Chungcheongbuk-do', \n",
        "        'Chungcheongnam-do', 'Jeollabuk-do', 'Jeollanam-do', \n",
        "        'Gyeongsangbuk-do', 'Gyeongsangnam-do', 'Jeju-do']\n",
        "df = pd.concat([pd.read_csv(url.format(p+y)).assign(년도=y, 시도=p) for p in prov for y in ['2018', '2019', '2020', '2021']]).reset_index(drop=True)\\\n",
        ".assign(년도 = lambda df: df.년도.astype(int))\\\n",
        ".set_index(['년도','시도','지역']).applymap(lambda x: int(str(x).replace(',','')))\\\n",
        ".reset_index()\n",
        "df.head()"
      ],
      "id": "4d3c78d4-34e9-4aec-8695-84ac068d8dee"
    },
    {
      "cell_type": "code",
      "execution_count": 21,
      "metadata": {
        "tags": []
      },
      "outputs": [],
      "source": [
        "df.set_index(['년도','시도','지역','건물동수','연면적']).stack().reset_index()\\\n",
        ".rename({'level_5':'에너지종류',0:'에너지사용량'},axis=1)\\\n",
        ".assign(에너지종류 = lambda df: df.에너지종류.str.split('/').str[-1])\\\n",
        ".groupby(['시도','년도','에너지종류']).agg({'에너지사용량':'sum'}).stack().reset_index()\\\n",
        ".rename({0:'에너지사용량'},axis=1).drop('level_3',axis=1)\\\n",
        ".plot.area(\n",
        "    x='년도',y='에너지사용량',\n",
        "    color='시도',\n",
        "    facet_col='에너지종류'\n",
        ")    "
      ],
      "id": "4344a96b-6a96-4632-b5e5-c3369dfb72f5"
    },
    {
      "cell_type": "markdown",
      "metadata": {},
      "source": [
        "------------------------------------------------------------------------\n",
        "\n",
        "***앞으로 할것*** – 간단한 미세조정들"
      ],
      "id": "6620eef5-00db-4ae5-af06-25ef821b519e"
    },
    {
      "cell_type": "code",
      "execution_count": 22,
      "metadata": {
        "tags": []
      },
      "outputs": [],
      "source": [
        "fig = df.set_index(['년도','시도','지역','건물동수','연면적']).stack().reset_index()\\\n",
        ".rename({'level_5':'에너지종류',0:'에너지사용량'},axis=1)\\\n",
        ".assign(에너지종류 = lambda df: df.에너지종류.str.split('/').str[-1])\\\n",
        ".groupby(['시도','년도','에너지종류']).agg({'에너지사용량':'sum'}).stack().reset_index()\\\n",
        ".rename({0:'에너지사용량'},axis=1).drop('level_3',axis=1)\\\n",
        ".plot.area(\n",
        "    x='년도',y='에너지사용량',\n",
        "    color='시도',\n",
        "    facet_col='에너지종류',\n",
        ")    \n",
        "fig.update_layout(\n",
        "    xaxis_domain=[0.0, 0.25],\n",
        "    xaxis2_domain=[0.35, 0.60],\n",
        "    xaxis3_domain=[0.70, 0.95]\n",
        ")"
      ],
      "id": "3b8eb638-78f9-4103-afb6-bfe98708d1b8"
    }
  ],
  "nbformat": 4,
  "nbformat_minor": 5,
  "metadata": {
    "kernelspec": {
      "name": "python3",
      "display_name": "Python 3 (ipykernel)",
      "language": "python"
    },
    "language_info": {
      "name": "python",
      "codemirror_mode": {
        "name": "ipython",
        "version": "3"
      },
      "file_extension": ".py",
      "mimetype": "text/x-python",
      "nbconvert_exporter": "python",
      "pygments_lexer": "ipython3",
      "version": "3.10.13"
    }
  }
}