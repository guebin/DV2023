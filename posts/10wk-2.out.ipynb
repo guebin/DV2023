{
  "cells": [
    {
      "cell_type": "markdown",
      "metadata": {},
      "source": [
        "# 10wk-2: Plotly – 판다스 백엔드\n",
        "\n",
        "최규빈  \n",
        "2023-11-08\n",
        "\n",
        "<a href=\"https://colab.research.google.com/github/guebin/DV2023/blob/main/posts/10wk-2.ipynb\"><img src=\"https://colab.research.google.com/assets/colab-badge.svg\" style=\"text-align: left\"></a>\n",
        "\n",
        "# 1. 강의영상\n",
        "\n",
        "<https://youtu.be/playlist?list=PLQqh36zP38-wRSxUUDXqCXNhSNiQeVrTP&si=jec_79XD9crgQZwZ>\n",
        "\n",
        "# 2. Imports"
      ],
      "id": "2686285d-5c6b-428b-9387-5650a1081e30"
    },
    {
      "cell_type": "code",
      "execution_count": 1,
      "metadata": {
        "tags": []
      },
      "outputs": [],
      "source": [
        "import numpy as np\n",
        "import pandas as pd \n",
        "import plotly.io as pio"
      ],
      "id": "037f52d9-18a6-45cf-bf9b-d6ddae935299"
    },
    {
      "cell_type": "code",
      "execution_count": 2,
      "metadata": {
        "tags": []
      },
      "outputs": [
        {
          "output_type": "stream",
          "name": "stdout",
          "text": [
            "Templates configuration\n",
            "-----------------------\n",
            "    Default template: 'plotly_white'\n",
            "    Available templates:\n",
            "        ['ggplot2', 'seaborn', 'simple_white', 'plotly',\n",
            "         'plotly_white', 'plotly_dark', 'presentation', 'xgridoff',\n",
            "         'ygridoff', 'gridon', 'none']\n"
          ]
        }
      ],
      "source": [
        "pd.options.plotting.backend = \"plotly\"\n",
        "pio.templates.default = \"plotly_white\"\n",
        "print(pio.templates)"
      ],
      "id": "56c5cbc5-2bdb-48f4-a2bc-c792536fec2f"
    },
    {
      "cell_type": "markdown",
      "metadata": {},
      "source": [
        "# 3. 여러가지 플랏\n",
        "\n",
        "## A. `.plot.bar()`\n",
        "\n",
        "`# 예제1` – 성별 합격률 시각화"
      ],
      "id": "c5a11b3c-24df-48ce-ab4f-2dfd9ad86016"
    },
    {
      "cell_type": "code",
      "execution_count": 3,
      "metadata": {
        "tags": []
      },
      "outputs": [],
      "source": [
        "df = pd.read_csv(\"https://raw.githubusercontent.com/guebin/DV2022/master/posts/Simpson.csv\",index_col=0,header=[0,1]).reset_index().melt(id_vars='index').set_axis(['department','gender','result','count'],axis=1)\n",
        "df"
      ],
      "id": "3366c19c-78b0-47db-a9a6-bc436b53e65a"
    },
    {
      "cell_type": "code",
      "execution_count": 4,
      "metadata": {
        "tags": []
      },
      "outputs": [],
      "source": [
        "df.pivot_table(index='gender',columns='result',values='count',aggfunc='sum')\\\n",
        ".assign(rate = lambda df:  df['pass']/(df['fail']+df['pass']))\\\n",
        ".assign(rate = lambda df:  np.round(df['rate'],2))\\\n",
        ".loc[:,'rate'].reset_index()\\\n",
        ".plot.bar(\n",
        "    x='gender', y='rate',\n",
        "    color='gender',\n",
        "    text='rate',\n",
        "    width=600\n",
        ")"
      ],
      "id": "35e09c52-08dc-43b9-89e0-8e45473869f9"
    },
    {
      "cell_type": "markdown",
      "metadata": {},
      "source": [
        "`#`\n",
        "\n",
        "`# 예제2` – (성별,학과)별 지원자수 시각화"
      ],
      "id": "80ae7053-7c9b-4487-b338-814dffbc15ba"
    },
    {
      "cell_type": "code",
      "execution_count": 5,
      "metadata": {
        "tags": []
      },
      "outputs": [],
      "source": [
        "df = pd.read_csv(\"https://raw.githubusercontent.com/guebin/DV2022/master/posts/Simpson.csv\",index_col=0,header=[0,1]).reset_index().melt(id_vars='index').set_axis(['department','gender','result','count'],axis=1)\n",
        "df"
      ],
      "id": "77a65bce-80a2-4139-a3a9-d9ddfa5e452c"
    },
    {
      "cell_type": "code",
      "execution_count": 6,
      "metadata": {
        "tags": []
      },
      "outputs": [],
      "source": [
        "df.groupby(['department','gender']).agg({'count':'sum'})\\\n",
        ".reset_index()\\\n",
        ".plot.bar(\n",
        "    x='gender',y='count',\n",
        "    color='gender',\n",
        "    text='count',\n",
        "    facet_col='department'\n",
        ")"
      ],
      "id": "45f37346-32cf-45dc-aa48-5d2db03c15db"
    },
    {
      "cell_type": "markdown",
      "metadata": {},
      "source": [
        "`#`\n",
        "\n",
        "## B. `.plot.line()`\n",
        "\n",
        "`# 예제1` – 핸드폰 판매량"
      ],
      "id": "23964a54-981d-4820-b452-50562a309f7a"
    },
    {
      "cell_type": "code",
      "execution_count": 7,
      "metadata": {
        "tags": []
      },
      "outputs": [],
      "source": [
        "df = pd.read_csv('https://raw.githubusercontent.com/guebin/2021DV/master/_notebooks/phone.csv')\n",
        "df"
      ],
      "id": "439af3e6-d29f-4051-bcbf-6b15d856d126"
    },
    {
      "cell_type": "code",
      "execution_count": 8,
      "metadata": {
        "tags": []
      },
      "outputs": [],
      "source": [
        "df.melt(id_vars='Date')\\\n",
        ".set_axis(['날짜','회사','판매량'],axis=1)\\\n",
        ".plot.line(\n",
        "    x='날짜',y='판매량',\n",
        "    color='회사'\n",
        ")"
      ],
      "id": "817e59d3-223a-4c8f-b14f-ce6f16aa242a"
    },
    {
      "cell_type": "markdown",
      "metadata": {},
      "source": [
        "`#`\n",
        "\n",
        "## C. `.plot.scatter()`"
      ],
      "id": "19ec5211-217c-4376-a772-ce6fffdcb761"
    },
    {
      "cell_type": "code",
      "execution_count": 9,
      "metadata": {
        "tags": []
      },
      "outputs": [],
      "source": [
        "position_dict = {\n",
        "    'GOALKEEPER':{'GK'},\n",
        "    'DEFENDER':{'CB','RCB','LCB','RB','LB','RWB','LWB'},\n",
        "    'MIDFIELDER':{'CM','RCM','LCM','CDM','RDM','LDM','CAM','RAM','LAM','RM','LM'},\n",
        "    'FORWARD':{'ST','CF','RF','LF','RW','LW','RS','LS'},\n",
        "    'SUB':{'SUB'},\n",
        "    'RES':{'RES'}\n",
        "}\n",
        "df = pd.read_csv('https://raw.githubusercontent.com/guebin/DV2021/master/_notebooks/2021-10-25-FIFA22_official_data.csv')\\\n",
        ".loc[:,lambda df: df.isna().mean()<0.5].dropna()\\\n",
        ".assign(Position = lambda df: df.Position.str.split(\">\").str[-1].apply(lambda x: [k for k,v in position_dict.items() if x in v].pop()))\\\n",
        ".assign(Wage = lambda df: df.Wage.str[1:].str.replace('K','000').astype(int))\n",
        "df"
      ],
      "id": "bd1c9d3f-96aa-4a62-80ae-f6d5c9f76d62"
    },
    {
      "cell_type": "code",
      "execution_count": 10,
      "metadata": {
        "tags": []
      },
      "outputs": [],
      "source": [
        "df.columns"
      ],
      "id": "6eb35bbe-a367-43ca-a32f-229dd844248d"
    },
    {
      "cell_type": "code",
      "execution_count": 11,
      "metadata": {
        "tags": []
      },
      "outputs": [],
      "source": [
        "df.query('Position ==\"FORWARD\" or Position ==\"DEFENDER\"')\\\n",
        ".plot.scatter(\n",
        "    x='ShotPower',y='SlidingTackle',\n",
        "    color='Position',\n",
        "    size='Wage',\n",
        "    opacity=0.5,\n",
        "    width=600,\n",
        "    hover_data=['Name','Age']\n",
        ")"
      ],
      "id": "c9c33334-4afc-4ab1-8c46-06a62cfc5384"
    },
    {
      "cell_type": "markdown",
      "metadata": {},
      "source": [
        "## D. `.plot.box()`\n",
        "\n",
        "`# 예제1` – 전북고등학교"
      ],
      "id": "4e705216-2156-4bed-ba41-958c856d525e"
    },
    {
      "cell_type": "code",
      "execution_count": 12,
      "metadata": {
        "tags": []
      },
      "outputs": [],
      "source": [
        "y1=[75,75,76,76,77,77,78,79,79,98] # A선생님에게 통계학을 배운 학생의 점수들\n",
        "y2=[76,76,77,77,78,78,79,80,80,81] # B선생님에게 통계학을 배운 학생의 점수들 "
      ],
      "id": "85c96b6d-b786-4f2d-923b-95c50c085002"
    },
    {
      "cell_type": "code",
      "execution_count": 13,
      "metadata": {
        "tags": []
      },
      "outputs": [],
      "source": [
        "df = pd.DataFrame({\n",
        "    'score':y1+y2,\n",
        "    'class':['A']*len(y1) + ['B']*len(y2)\n",
        "})\n",
        "df.plot.box(\n",
        "    x='class',y='score',\n",
        "    color='class',\n",
        "    points='all',\n",
        "    width=600\n",
        ")"
      ],
      "id": "ff48eb21-bf52-43bd-b06b-4c22ab8f71ff"
    },
    {
      "cell_type": "markdown",
      "metadata": {},
      "source": [
        "`#`\n",
        "\n",
        "`# 예제2` – (년도,시도)별 전기에너지사용량"
      ],
      "id": "f97fe3a4-f2c5-44d4-80dc-537cba40e966"
    },
    {
      "cell_type": "code",
      "execution_count": 14,
      "metadata": {
        "tags": []
      },
      "outputs": [
        {
          "output_type": "stream",
          "name": "stderr",
          "text": [
            "/tmp/ipykernel_2984274/3228750770.py:9: FutureWarning:\n",
            "\n",
            "DataFrame.applymap has been deprecated. Use DataFrame.map instead.\n"
          ]
        }
      ],
      "source": [
        "url = 'https://raw.githubusercontent.com/guebin/DV2022/main/posts/Energy/{}.csv'\n",
        "prov = ['Seoul', 'Busan', 'Daegu', 'Incheon', \n",
        "        'Gwangju', 'Daejeon', 'Ulsan', 'Sejongsi', \n",
        "        'Gyeonggi-do', 'Gangwon-do', 'Chungcheongbuk-do', \n",
        "        'Chungcheongnam-do', 'Jeollabuk-do', 'Jeollanam-do', \n",
        "        'Gyeongsangbuk-do', 'Gyeongsangnam-do', 'Jeju-do']\n",
        "df = pd.concat([pd.read_csv(url.format(p+y)).assign(년도=y, 시도=p) for p in prov for y in ['2018', '2019', '2020', '2021']]).reset_index(drop=True)\\\n",
        ".assign(년도 = lambda df: df.년도.astype(int))\\\n",
        ".set_index(['년도','시도','지역']).applymap(lambda x: int(str(x).replace(',','')))\\\n",
        ".reset_index()\n",
        "df.head()"
      ],
      "id": "49be2ecd-1d22-4c0f-8b38-aaae598e565b"
    },
    {
      "cell_type": "code",
      "execution_count": 15,
      "metadata": {
        "tags": []
      },
      "outputs": [],
      "source": [
        "df.plot.box(\n",
        "    x='시도',y='에너지사용량(TOE)/전기',\n",
        "    color='시도',\n",
        "    facet_row='년도',\n",
        "    hover_data=['지역','연면적'],\n",
        "    height=1600\n",
        ")"
      ],
      "id": "fbe087fb-d30b-472b-a980-c2d698cbf179"
    },
    {
      "cell_type": "markdown",
      "metadata": {},
      "source": [
        "`#`\n",
        "\n",
        "## E. `.plot.hist()`\n",
        "\n",
        "`# 예제1` – 타이타닉: (연령,성별) 생존자"
      ],
      "id": "adaeaedd-4e0c-4366-abed-baa40bbd3436"
    },
    {
      "cell_type": "code",
      "execution_count": 16,
      "metadata": {
        "tags": []
      },
      "outputs": [],
      "source": [
        "df = pd.read_csv(\"https://raw.githubusercontent.com/guebin/DV2023/main/posts/titanic.csv\")\n",
        "df"
      ],
      "id": "8687a0db-c871-4f43-b675-7ecccbc14906"
    },
    {
      "cell_type": "code",
      "execution_count": 17,
      "metadata": {
        "tags": []
      },
      "outputs": [],
      "source": [
        "df.plot.hist(\n",
        "    x='Age',\n",
        "    color='Sex',\n",
        "    facet_row='Sex',facet_col='Survived'\n",
        ")"
      ],
      "id": "aea27e4f-3b68-499e-9eb9-a89cda54e3fc"
    },
    {
      "cell_type": "markdown",
      "metadata": {},
      "source": [
        "`#`\n",
        "\n",
        "## F. `.plot.area()`\n",
        "\n",
        "`# 예제1` – 핸드폰 판매량"
      ],
      "id": "53462637-ee0e-4c36-8f18-33a4daa12fe4"
    },
    {
      "cell_type": "code",
      "execution_count": 18,
      "metadata": {
        "tags": []
      },
      "outputs": [],
      "source": [
        "df = pd.read_csv('https://raw.githubusercontent.com/guebin/2021DV/master/_notebooks/phone.csv')\n",
        "df"
      ],
      "id": "d37722bd-88f0-46eb-9bec-c00e2187d416"
    },
    {
      "cell_type": "code",
      "execution_count": 19,
      "metadata": {
        "tags": []
      },
      "outputs": [],
      "source": [
        "df.melt(id_vars='Date')\\\n",
        ".set_axis(['날짜','회사','판매량'],axis=1)\\\n",
        ".plot.area(\n",
        "    x='날짜',y='판매량',\n",
        "    color='회사',\n",
        "    width=600\n",
        ")"
      ],
      "id": "715a1687-9a07-47e5-917e-85d5ba1cb155"
    },
    {
      "cell_type": "markdown",
      "metadata": {},
      "source": [
        "`#`\n",
        "\n",
        "`# 예제2` – 에너지사용량"
      ],
      "id": "591bbc3e-acec-4da5-bb5c-27ace4d36fcb"
    },
    {
      "cell_type": "code",
      "execution_count": 20,
      "metadata": {
        "tags": []
      },
      "outputs": [
        {
          "output_type": "stream",
          "name": "stderr",
          "text": [
            "/tmp/ipykernel_2984274/3228750770.py:9: FutureWarning:\n",
            "\n",
            "DataFrame.applymap has been deprecated. Use DataFrame.map instead.\n"
          ]
        }
      ],
      "source": [
        "url = 'https://raw.githubusercontent.com/guebin/DV2022/main/posts/Energy/{}.csv'\n",
        "prov = ['Seoul', 'Busan', 'Daegu', 'Incheon', \n",
        "        'Gwangju', 'Daejeon', 'Ulsan', 'Sejongsi', \n",
        "        'Gyeonggi-do', 'Gangwon-do', 'Chungcheongbuk-do', \n",
        "        'Chungcheongnam-do', 'Jeollabuk-do', 'Jeollanam-do', \n",
        "        'Gyeongsangbuk-do', 'Gyeongsangnam-do', 'Jeju-do']\n",
        "df = pd.concat([pd.read_csv(url.format(p+y)).assign(년도=y, 시도=p) for p in prov for y in ['2018', '2019', '2020', '2021']]).reset_index(drop=True)\\\n",
        ".assign(년도 = lambda df: df.년도.astype(int))\\\n",
        ".set_index(['년도','시도','지역']).applymap(lambda x: int(str(x).replace(',','')))\\\n",
        ".reset_index()\n",
        "df.head()"
      ],
      "id": "4d3c78d4-34e9-4aec-8695-84ac068d8dee"
    },
    {
      "cell_type": "code",
      "execution_count": 21,
      "metadata": {
        "tags": []
      },
      "outputs": [],
      "source": [
        "df.set_index(['년도','시도','지역','건물동수','연면적']).stack().reset_index()\\\n",
        ".rename({'level_5':'에너지종류', 0:'에너지사용량'},axis=1)\\\n",
        ".assign(에너지종류 = lambda df: df['에너지종류'].str.split('/').str[-1])\\\n",
        ".groupby(['년도','시도','에너지종류']).agg({'에너지사용량':'sum'})\\\n",
        ".stack().reset_index()\\\n",
        ".rename({0:'에너지사용량'},axis=1)\\\n",
        ".plot.area(\n",
        "    x='년도',y='에너지사용량',\n",
        "    color='시도',\n",
        "    facet_col='에너지종류'\n",
        ")"
      ],
      "id": "3ab40dac-d599-46b1-94a8-fbe7b211c8c5"
    },
    {
      "cell_type": "markdown",
      "metadata": {},
      "source": [
        "------------------------------------------------------------------------\n",
        "\n",
        "***간단한 미세조정***"
      ],
      "id": "f65d5d77-9a4f-4ed9-bf6b-5a5e75f22c4c"
    },
    {
      "cell_type": "code",
      "execution_count": 22,
      "metadata": {
        "tags": []
      },
      "outputs": [],
      "source": [
        "fig = df.set_index(['년도','시도','지역','건물동수','연면적']).stack().reset_index()\\\n",
        ".rename({'level_5':'에너지종류', 0:'에너지사용량'},axis=1)\\\n",
        ".assign(에너지종류 = lambda df: df['에너지종류'].str.split('/').str[-1])\\\n",
        ".groupby(['년도','시도','에너지종류']).agg({'에너지사용량':'sum'})\\\n",
        ".stack().reset_index()\\\n",
        ".rename({0:'에너지사용량'},axis=1)\\\n",
        ".plot.area(\n",
        "    x='년도',y='에너지사용량',\n",
        "    color='시도',\n",
        "    facet_col='에너지종류'\n",
        ")\n",
        "fig.update_layout(\n",
        "    xaxis_domain=[0.0, 0.25],\n",
        "    xaxis2_domain=[0.35, 0.60],\n",
        "    xaxis3_domain=[0.70, 0.95]\n",
        ")"
      ],
      "id": "3b8eb638-78f9-4103-afb6-bfe98708d1b8"
    },
    {
      "cell_type": "markdown",
      "metadata": {},
      "source": [
        "# 4. HW\n",
        "\n",
        "아래의 코드를 활용하여 Kaggle의\n",
        "[HRdataset](https://www.kaggle.com/datasets/rhuebner/human-resources-data-set)을\n",
        "불러오고 물음에 답하라."
      ],
      "id": "d260f842-5d0a-41ba-8f07-593748e04aea"
    },
    {
      "cell_type": "code",
      "execution_count": 23,
      "metadata": {
        "tags": []
      },
      "outputs": [],
      "source": [
        "df = pd.read_csv('https://raw.githubusercontent.com/guebin/DV2022/master/posts/HRDataset_v14.csv')\n",
        "df"
      ],
      "id": "a25b1326-d909-4dfb-9d9c-5198a3cda285"
    },
    {
      "cell_type": "markdown",
      "metadata": {},
      "source": [
        "아래와 같은 시각화를 하라. (`Employee_Name`이 보이도록 할 것)\n",
        "\n",
        "![](attachment:10wk-2_files/figure-ipynb/b93fb0cc-6c99-4df7-b5e4-5b9cc8fd9d0d-1-573cf62d-7a90-40b1-bea8-6c58a362996f.png)"
      ],
      "attachments": {
        "10wk-2_files/figure-ipynb/b93fb0cc-6c99-4df7-b5e4-5b9cc8fd9d0d-1-573cf62d-7a90-40b1-bea8-6c58a362996f.png": {
          "image/png": "[encoded data removed]"
        }
      },
      "id": "3d8d7212-0849-4de2-8911-86c33968eb3f"
    }
  ],
  "nbformat": 4,
  "nbformat_minor": 5,
  "metadata": {
    "kernelspec": {
      "name": "python3",
      "display_name": "Python 3 (ipykernel)",
      "language": "python"
    },
    "language_info": {
      "name": "python",
      "codemirror_mode": {
        "name": "ipython",
        "version": "3"
      },
      "file_extension": ".py",
      "mimetype": "text/x-python",
      "nbconvert_exporter": "python",
      "pygments_lexer": "ipython3",
      "version": "3.10.13"
    }
  }
}