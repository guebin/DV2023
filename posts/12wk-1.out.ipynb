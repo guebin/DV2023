{
  "cells": [
    {
      "cell_type": "markdown",
      "metadata": {},
      "source": [
        "# 12wk-1: ???\n",
        "\n",
        "최규빈  \n",
        "2023-11-20\n",
        "\n",
        "<a href=\"https://colab.research.google.com/github/guebin/DV2023/blob/main/posts/12wk-1.ipynb\"><img src=\"https://colab.research.google.com/assets/colab-badge.svg\" style=\"text-align: left\"></a>\n",
        "\n",
        "# 1. 강의영상\n",
        "\n",
        "<https://youtu.be/playlist?list=PLQqh36zP38-wFUcEr7JtSb7MWUYl6QrW_&si=CmWA765p0mnwWTGA>\n",
        "\n",
        "# 2. Imports"
      ],
      "id": "f7677e64-f6b4-4420-9490-d77322f0827d"
    },
    {
      "cell_type": "code",
      "execution_count": 1,
      "metadata": {
        "tags": []
      },
      "outputs": [],
      "source": [
        "import numpy as np\n",
        "import pandas as pd\n",
        "import plotly.express as px\n",
        "import plotly.io as pio\n",
        "import requests\n",
        "import json "
      ],
      "id": "8d6464ef-e26c-44c6-b2e4-a7bfe81a51d6"
    },
    {
      "cell_type": "code",
      "execution_count": 2,
      "metadata": {
        "tags": []
      },
      "outputs": [],
      "source": [
        "pd.options.plotting.backend = \"plotly\"\n",
        "pio.templates.default = \"plotly_white\""
      ],
      "id": "67508001-0a12-4adb-acc8-3fb6e250056f"
    },
    {
      "cell_type": "code",
      "execution_count": 3,
      "metadata": {
        "tags": []
      },
      "outputs": [],
      "source": [
        "us_dict = json.loads(requests.get('https://raw.githubusercontent.com/plotly/datasets/master/geojson-counties-fips.json').text)"
      ],
      "id": "14ce2902-51bb-4b8f-8bd5-e6c0248c455b"
    },
    {
      "cell_type": "code",
      "execution_count": 4,
      "metadata": {
        "tags": []
      },
      "outputs": [],
      "source": [
        "newyork_dict = us_dict.copy()\n",
        "newyork_dict['features'] = [l for l in us_dict['features'] if \"New York\" in l['properties']['NAME']]"
      ],
      "id": "4d22c401-dd20-4ba6-8a03-a32749f75a4d"
    },
    {
      "cell_type": "markdown",
      "metadata": {},
      "source": [
        "# 3."
      ],
      "id": "44011ee3-77ef-4e33-ab33-7f0f868c88bd"
    },
    {
      "cell_type": "code",
      "execution_count": 5,
      "metadata": {
        "tags": []
      },
      "outputs": [],
      "source": [
        "df = pd.read_csv(\"NYCTaxi.csv\")[::100].reset_index(drop=True)\n",
        "df.columns"
      ],
      "id": "4c471a55-1429-4986-bcc8-1838448899bf"
    },
    {
      "cell_type": "code",
      "execution_count": 6,
      "metadata": {
        "tags": []
      },
      "outputs": [],
      "source": [
        "df"
      ],
      "id": "9b150ad5-d769-4520-9c8b-862e6eaa8b8b"
    },
    {
      "cell_type": "code",
      "execution_count": 7,
      "metadata": {
        "tags": []
      },
      "outputs": [],
      "source": [
        "fig = px.scatter_mapbox(\n",
        "    data_frame=df,\n",
        "    lat='pickup_latitude',\n",
        "    lon='pickup_longitude',\n",
        "    opacity=0.3,\n",
        "    center={'lat': 40.7322, 'lon': -73.9052},\n",
        "    mapbox_style='carto-positron',\n",
        "    zoom=10,\n",
        "    width=800,\n",
        "    height=600\n",
        ")\n",
        "fig.update_traces(\n",
        "    marker={'size':2}\n",
        ")\n",
        "fig.show(config={'scrollZoom': False})"
      ],
      "id": "a7babbf0-48ba-4ff5-919b-d2550c34fbf9"
    },
    {
      "cell_type": "code",
      "execution_count": 8,
      "metadata": {
        "tags": []
      },
      "outputs": [],
      "source": [
        "fig = px.density_mapbox(\n",
        "    data_frame=df,\n",
        "    lat = 'pickup_latitude',\n",
        "    lon = 'pickup_longitude',\n",
        "    center = {'lat':40.7322, 'lon':-73.9052},\n",
        "    radius = 1,\n",
        "    #---#\n",
        "    mapbox_style='carto-positron',\n",
        "    zoom=10,\n",
        "    width=800,\n",
        "    height=600\n",
        ")\n",
        "fig.show(config={'scrollZoom': False})"
      ],
      "id": "991c6fa3-736c-4574-9040-4a6d04664040"
    },
    {
      "cell_type": "code",
      "execution_count": 9,
      "metadata": {
        "tags": []
      },
      "outputs": [],
      "source": [
        "fig = px.density_mapbox(\n",
        "    data_frame=df,\n",
        "    lat = 'pickup_latitude',\n",
        "    lon = 'pickup_longitude',\n",
        "    center = {'lat':40.7322, 'lon':-73.9052},\n",
        "    radius = 2,\n",
        "    z='passenger_count',\n",
        "    #---#\n",
        "    mapbox_style='carto-positron',\n",
        "    zoom=10,\n",
        "    width=800,\n",
        "    height=600\n",
        ")\n",
        "fig.show(config={'scrollZoom': False})"
      ],
      "id": "e9ea9caf-21ac-416b-b2f7-265bdf3ee047"
    },
    {
      "cell_type": "code",
      "execution_count": 10,
      "metadata": {
        "tags": []
      },
      "outputs": [],
      "source": [
        "df.assign(log_trip_duration = lambda df: np.log(df.trip_duration))"
      ],
      "id": "1e393645-5573-428c-9cee-64b563bbe2bb"
    },
    {
      "cell_type": "code",
      "execution_count": 11,
      "metadata": {
        "tags": []
      },
      "outputs": [],
      "source": [
        "fig = px.density_mapbox(\n",
        "    data_frame=df.assign(log_trip_duration = lambda df: np.log(df.trip_duration)),\n",
        "    lat = 'pickup_latitude',\n",
        "    lon = 'pickup_longitude',\n",
        "    center = {'lat':40.7322, 'lon':-73.9052},\n",
        "    radius = 1.5,\n",
        "    z='log_trip_duration',\n",
        "    #---#\n",
        "    mapbox_style='carto-positron',\n",
        "    zoom=10,\n",
        "    width=800,\n",
        "    height=600\n",
        ")\n",
        "fig.show(config={'scrollZoom': False})"
      ],
      "id": "7f903b9d-c71d-44a2-b4f6-ed4efb78bf02"
    },
    {
      "cell_type": "code",
      "execution_count": 12,
      "metadata": {
        "tags": []
      },
      "outputs": [],
      "source": [
        "df.assign(alone = df.passenger_count == 1).assign(vendor_id = lambda df: df.vendor_id.astype(str))"
      ],
      "id": "7c986e87-d692-4a2c-a6c7-fd82c7e10fda"
    },
    {
      "cell_type": "code",
      "execution_count": 13,
      "metadata": {
        "tags": []
      },
      "outputs": [],
      "source": [
        "fig = px.scatter_mapbox(\n",
        "    data_frame=df.assign(alone = df.passenger_count == 1).assign(vendor_id = lambda df: df.vendor_id.astype(str)),\n",
        "    lat = 'pickup_latitude',\n",
        "    lon = 'pickup_longitude',\n",
        "    opacity = 0.3,\n",
        "    center = {'lat':40.7322, 'lon':-73.9052},\n",
        "    color = 'vendor_id',\n",
        "    #---#\n",
        "    mapbox_style='carto-positron',\n",
        "    zoom=10,\n",
        "    width=800,\n",
        "    height=600\n",
        ")\n",
        "fig.update_traces(\n",
        "    marker={'size':2}\n",
        ")\n",
        "fig.show(config={'scrollZoom': False})"
      ],
      "id": "b7784a51-cfaf-416c-960a-c59eb05f6426"
    },
    {
      "cell_type": "code",
      "execution_count": 14,
      "metadata": {
        "tags": []
      },
      "outputs": [],
      "source": [
        "# df.pickup_datetime.str.split(' ').str[-1].str.split(':').str[0].apply(int)\n",
        "# df.pickup_datetime.apply(pd.to_datetime).dt.hour"
      ],
      "id": "98195059-e840-41ba-9fc6-8a4bc32fd420"
    },
    {
      "cell_type": "code",
      "execution_count": 15,
      "metadata": {
        "tags": []
      },
      "outputs": [],
      "source": [
        "tidydata = df.assign(\n",
        "    alone = df.passenger_count == 1,\n",
        "    hour = df.pickup_datetime.apply(pd.to_datetime).dt.hour,\n",
        "    vendor_id = df.vendor_id.astype(str),\n",
        "    log_trip_duration = np.log(df.trip_duration)>8\n",
        ").sort_values(by='hour')"
      ],
      "id": "60ea75ec-1e55-46af-97a3-daca2610eacf"
    },
    {
      "cell_type": "code",
      "execution_count": 16,
      "metadata": {
        "tags": []
      },
      "outputs": [],
      "source": [
        "fig = px.scatter_mapbox(\n",
        "    data_frame=tidydata,\n",
        "    lat = 'pickup_latitude',\n",
        "    lon = 'pickup_longitude',\n",
        "    center = {'lat':40.7322, 'lon':-73.9052},\n",
        "    color = 'vendor_id',\n",
        "    size = 'passenger_count',\n",
        "    size_max = 5,\n",
        "    animation_frame = 'hour',\n",
        "    #---#\n",
        "    mapbox_style='carto-positron',\n",
        "    zoom=10,\n",
        "    width=800,\n",
        "    height=600\n",
        ")\n",
        "fig.show(config={'scrollZoom': False})"
      ],
      "id": "efd8e34e-ce97-43f3-9413-a678fd1583ed"
    },
    {
      "cell_type": "code",
      "execution_count": 17,
      "metadata": {
        "tags": []
      },
      "outputs": [],
      "source": [
        "tidydata\\\n",
        ".groupby('vendor_id').agg({'passenger_count':'mean'})\\\n",
        ".reset_index()\\\n",
        ".plot.bar(x='vendor_id',y='passenger_count',color='vendor_id',text='passenger_count')"
      ],
      "id": "a6e144db-c540-408c-bd3d-a74596472d9c"
    },
    {
      "cell_type": "code",
      "execution_count": 18,
      "metadata": {
        "tags": []
      },
      "outputs": [],
      "source": [
        "tidydata.log_trip_duration.min(), tidydata.log_trip_duration.max()"
      ],
      "id": "0048d161-18f0-4e7c-b00e-a039b512c442"
    },
    {
      "cell_type": "code",
      "execution_count": 19,
      "metadata": {
        "tags": []
      },
      "outputs": [],
      "source": [
        "fig = px.scatter_mapbox(\n",
        "    data_frame=tidydata,\n",
        "    lat = 'pickup_latitude',\n",
        "    lon = 'pickup_longitude',\n",
        "    center = {'lat':40.7322, 'lon':-73.9052},\n",
        "    color = 'log_trip_duration',\n",
        "    size = 'passenger_count',    \n",
        "    size_max = 5,\n",
        "    animation_frame = 'hour',\n",
        "    range_color = (tidydata.log_trip_duration.min(), tidydata.log_trip_duration.max()),\n",
        "    #---#\n",
        "    mapbox_style='carto-positron',\n",
        "    zoom=10,\n",
        "    width=800,\n",
        "    height=600\n",
        ")\n",
        "fig.show(config={'scrollZoom': False})"
      ],
      "id": "18f08605-f5f2-4f06-a786-570e8b6e9fbf"
    },
    {
      "cell_type": "code",
      "execution_count": 20,
      "metadata": {
        "tags": []
      },
      "outputs": [],
      "source": [
        "df_small = df[::100].reset_index(drop=True)"
      ],
      "id": "da8112cc-c45d-410d-a9f2-2b016cc36401"
    },
    {
      "cell_type": "code",
      "execution_count": 21,
      "metadata": {
        "tags": []
      },
      "outputs": [],
      "source": [
        "df_small"
      ],
      "id": "e80113fd-2d9f-4166-8dbe-77a005238a91"
    },
    {
      "cell_type": "code",
      "execution_count": 22,
      "metadata": {
        "tags": []
      },
      "outputs": [],
      "source": [
        "def transform(df):\n",
        "    pick_up = df.loc[:,['id','pickup_datetime','pickup_longitude','pickup_latitude']].set_axis(['id','datetime','lon','lat'],axis=1).eval('state = \"pickup\"')\n",
        "    drop_off = df.loc[:,['id','dropoff_datetime','dropoff_longitude','dropoff_latitude']].set_axis(['id','datetime','lon','lat'],axis=1).eval('state = \"dropoff\"')\n",
        "    return pd.concat([pick_up,drop_off],axis=0).reset_index(drop=True)"
      ],
      "id": "a70db1b9-ac97-4785-8128-7101ed919a0b"
    },
    {
      "cell_type": "code",
      "execution_count": 23,
      "metadata": {
        "tags": []
      },
      "outputs": [],
      "source": [
        "pd.concat([transform(df) for i,df in df_small.groupby('id')]).reset_index(drop=True)\\\n",
        ".merge(df_small.drop(['pickup_datetime','pickup_longitude','pickup_latitude','dropoff_datetime','dropoff_longitude','dropoff_latitude'],axis=1))"
      ],
      "id": "b40c2e0a-f0e0-4b14-b13a-2e49b50bf850"
    },
    {
      "cell_type": "code",
      "execution_count": 24,
      "metadata": {
        "tags": []
      },
      "outputs": [],
      "source": [
        "df2 = pd.concat([transform(df) for i,df in df_small.groupby('id')]).reset_index(drop=True)\\\n",
        ".merge(df_small.drop(['pickup_datetime','pickup_longitude','pickup_latitude','dropoff_datetime','dropoff_longitude','dropoff_latitude'],axis=1))"
      ],
      "id": "9c2e4ec2-eebb-49e5-bf17-389adbec0e62"
    },
    {
      "cell_type": "code",
      "execution_count": 25,
      "metadata": {
        "tags": []
      },
      "outputs": [],
      "source": [
        "df2"
      ],
      "id": "78764ee2-c02a-4c55-976a-3470be5765ef"
    },
    {
      "cell_type": "code",
      "execution_count": 26,
      "metadata": {
        "tags": []
      },
      "outputs": [],
      "source": [
        "df2.assign(\n",
        "    alone = lambda df: df.passenger_count == 1,\n",
        "    hour = lambda df: df.datetime.apply(pd.to_datetime).dt.hour\n",
        ")"
      ],
      "id": "50d68ec4-39b7-4c52-a846-85c7f63387b7"
    },
    {
      "cell_type": "code",
      "execution_count": 27,
      "metadata": {
        "tags": []
      },
      "outputs": [],
      "source": [
        "fig = px.line_mapbox(\n",
        "    df2.assign(alone = lambda df: df.passenger_count == 1, hour = lambda df: df.datetime.apply(pd.to_datetime).dt.hour).sort_values('hour'), \n",
        "    lat=\"lat\", \n",
        "    lon=\"lon\", \n",
        "    center = {'lat':40.7322, 'lon':-73.9052},\n",
        "    line_group = 'id',\n",
        "    color='alone',\n",
        "    hover_data = 'hour',\n",
        "    #---#\n",
        "    mapbox_style='carto-positron',\n",
        "    zoom=10,\n",
        "    width=800,\n",
        "    height=600,\n",
        ")\n",
        "fig.add_trace(\n",
        "    px.scatter_mapbox(\n",
        "        data_frame=df2.assign(alone = lambda df: df.passenger_count == 1, hour = lambda df: df.datetime.apply(pd.to_datetime).dt.hour).sort_values('hour'),\n",
        "        lat = 'lat',\n",
        "        lon = 'lon',\n",
        "        center = {'lat':40.7322, 'lon':-73.9052},\n",
        "        color = 'alone',\n",
        "        size = 'trip_duration',\n",
        "        size_max = 10,\n",
        "    ).data[0]\n",
        ")\n",
        "fig.add_trace(\n",
        "    px.scatter_mapbox(\n",
        "        data_frame=df2.assign(alone = lambda df: df.passenger_count == 1, hour = lambda df: df.datetime.apply(pd.to_datetime).dt.hour).sort_values('hour'),\n",
        "        lat = 'lat',\n",
        "        lon = 'lon',\n",
        "        center = {'lat':40.7322, 'lon':-73.9052},\n",
        "        color = 'alone',\n",
        "        size = 'trip_duration',\n",
        "        size_max = 10,\n",
        "    ).data[1]\n",
        ")\n",
        "fig.update_traces(\n",
        "    line={\n",
        "        'width':1,\n",
        "    },\n",
        "    opacity=0.8\n",
        ")\n",
        "fig.show(config={'scrollZoom': False})"
      ],
      "id": "7c5d52d4-27fa-4046-942e-84248e101281"
    }
  ],
  "nbformat": 4,
  "nbformat_minor": 5,
  "metadata": {
    "kernelspec": {
      "name": "python3",
      "display_name": "Python 3 (ipykernel)",
      "language": "python"
    },
    "language_info": {
      "name": "python",
      "codemirror_mode": {
        "name": "ipython",
        "version": "3"
      },
      "file_extension": ".py",
      "mimetype": "text/x-python",
      "nbconvert_exporter": "python",
      "pygments_lexer": "ipython3",
      "version": "3.10.13"
    }
  }
}