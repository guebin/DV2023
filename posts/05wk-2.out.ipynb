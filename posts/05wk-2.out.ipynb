{
  "cells": [
    {
      "cell_type": "markdown",
      "metadata": {},
      "source": [
        "# 05wk-2: Pandas – transform column (꿀팁)\n",
        "\n",
        "최규빈  \n",
        "2023-10-05\n",
        "\n",
        "<a href=\"https://colab.research.google.com/github/guebin/DV2023/blob/main/posts/05wk-2.ipynb\"><img src=\"https://colab.research.google.com/assets/colab-badge.svg\" style=\"text-align: left\"></a>\n",
        "\n",
        "# 1. 강의영상\n",
        "\n",
        "<https://youtu.be/playlist?list=PLQqh36zP38-wVp_fe2YXiERTc0ZEh9Li_&si=rr31LPWCeN_negav>\n",
        "\n",
        "# 2. Imports"
      ],
      "id": "57e09a6a-dfb0-430c-8241-ffc589abc804"
    },
    {
      "cell_type": "code",
      "execution_count": 1,
      "metadata": {
        "tags": []
      },
      "outputs": [],
      "source": [
        "import pandas as pd\n",
        "import numpy as np"
      ],
      "id": "fe18b411-466d-4db9-a900-638ea382a801"
    },
    {
      "cell_type": "markdown",
      "metadata": {},
      "source": [
        "# 3. Pandas: transform column (꿀팁)\n",
        "\n",
        "## A. `lambda`\n",
        "\n",
        "저번시간에 했음\n",
        "\n",
        "## B. `map`\n",
        "\n",
        "저번시간에 했음\n",
        "\n",
        "## C. `s.apply(변환함수)`\n",
        "\n",
        "`-` 예시1: 원소별로 처음3개의 숫자만 출력"
      ],
      "id": "1935e1ce-2480-4e34-a3b2-0cc0e62a139a"
    },
    {
      "cell_type": "code",
      "execution_count": 102,
      "metadata": {
        "tags": []
      },
      "outputs": [],
      "source": [
        "df = pd.read_csv('https://raw.githubusercontent.com/guebin/DV2022/master/posts/FIFA23_official_data.csv')\n",
        "s = df.Height"
      ],
      "id": "99418b4d"
    },
    {
      "cell_type": "code",
      "execution_count": 103,
      "metadata": {
        "tags": []
      },
      "outputs": [],
      "source": [
        "s.apply(lambda x: x[:3])"
      ],
      "id": "f716f1a4"
    },
    {
      "cell_type": "markdown",
      "metadata": {},
      "source": [
        "`-` 예시2: 원소별로 처음3개의 문자만 출력 $\\to$ `str`자료형을\n",
        "`int`자료형으로 변환"
      ],
      "id": "982f8909-0ac6-4cf6-a01d-8ca1750f2d3a"
    },
    {
      "cell_type": "code",
      "execution_count": 104,
      "metadata": {
        "tags": []
      },
      "outputs": [],
      "source": [
        "df = pd.read_csv('https://raw.githubusercontent.com/guebin/DV2022/master/posts/FIFA23_official_data.csv')\n",
        "s = df.Height"
      ],
      "id": "2ca16fd8"
    },
    {
      "cell_type": "markdown",
      "metadata": {},
      "source": [
        "(방법1) – 한번에"
      ],
      "id": "d2c91b69-a2a7-4eec-beb3-6dc2f6401a43"
    },
    {
      "cell_type": "code",
      "execution_count": 105,
      "metadata": {
        "tags": []
      },
      "outputs": [],
      "source": [
        "s.apply(lambda x: int(x[:3]))"
      ],
      "id": "09158410-b4ae-48ca-ac2b-7a5b742bb913"
    },
    {
      "cell_type": "markdown",
      "metadata": {},
      "source": [
        "(방법2) – 연쇄적으로.."
      ],
      "id": "6d3962e4-6e90-4c48-b59a-3b112cd18f81"
    },
    {
      "cell_type": "code",
      "execution_count": 106,
      "metadata": {
        "tags": []
      },
      "outputs": [],
      "source": [
        "s.apply(lambda x: x[:3]).apply(int)"
      ],
      "id": "b7169559-d4e8-49f0-9bc0-ebaf8157c08d"
    },
    {
      "cell_type": "markdown",
      "metadata": {},
      "source": [
        "## D. `s.str`, `idx.str`\n",
        "\n",
        "`-` 예시1: 원소별로 처음 3개의 숫자만 출력"
      ],
      "id": "d25a5b96-8604-46b1-a983-1d2aabe22feb"
    },
    {
      "cell_type": "code",
      "execution_count": 107,
      "metadata": {
        "tags": []
      },
      "outputs": [],
      "source": [
        "df = pd.read_csv('https://raw.githubusercontent.com/guebin/DV2022/master/posts/FIFA23_official_data.csv')\n",
        "s = df.Height"
      ],
      "id": "f7f63076"
    },
    {
      "cell_type": "code",
      "execution_count": 108,
      "metadata": {
        "tags": []
      },
      "outputs": [],
      "source": [
        "s.str[:3]"
      ],
      "id": "9f46cea8-c672-4371-bb0b-0656be640d99"
    },
    {
      "cell_type": "markdown",
      "metadata": {},
      "source": [
        "`-` 예시2: 원소별로 isupper를 수행"
      ],
      "id": "089098aa-7055-47b1-834b-97c3ebea08bb"
    },
    {
      "cell_type": "code",
      "execution_count": 109,
      "metadata": {
        "tags": []
      },
      "outputs": [],
      "source": [
        "s = pd.Series(['A','B','C','d','e','F'])\n",
        "s"
      ],
      "id": "8e1843d3"
    },
    {
      "cell_type": "code",
      "execution_count": 110,
      "metadata": {
        "tags": []
      },
      "outputs": [],
      "source": [
        "s.str.isupper()"
      ],
      "id": "eeb6d9fb-a378-4c93-8f19-a40df8692cbc"
    },
    {
      "cell_type": "markdown",
      "metadata": {},
      "source": [
        "`-` 예시3: 원소별로 공백제거 (pd.Series 뿐만 아니라 pd.Index 자료형에도\n",
        "사용가능)"
      ],
      "id": "b48be160-6e33-4a3c-9c2a-4995687c57f0"
    },
    {
      "cell_type": "code",
      "execution_count": 111,
      "metadata": {
        "tags": []
      },
      "outputs": [],
      "source": [
        "df = pd.read_csv('https://raw.githubusercontent.com/guebin/DV2022/master/posts/FIFA23_official_data.csv')\n",
        "idx = df.columns"
      ],
      "id": "ad2ac0e6"
    },
    {
      "cell_type": "code",
      "execution_count": 112,
      "metadata": {
        "tags": []
      },
      "outputs": [],
      "source": [
        "idx.str.replace(' ','')"
      ],
      "id": "8d54ad50-ee77-49c7-9662-892b97b338dd"
    },
    {
      "cell_type": "markdown",
      "metadata": {},
      "source": [
        "## E. `s.astype()`\n",
        "\n",
        "`-` 예시1: 원소의 타입을 모두 `int`형으로 변경"
      ],
      "id": "17c1c968-61b2-47df-970b-7290d7544267"
    },
    {
      "cell_type": "code",
      "execution_count": 113,
      "metadata": {
        "tags": []
      },
      "outputs": [],
      "source": [
        "s = pd.Series(list('12345'))\n",
        "s"
      ],
      "id": "f97e2a97"
    },
    {
      "cell_type": "code",
      "execution_count": 114,
      "metadata": {
        "tags": []
      },
      "outputs": [],
      "source": [
        "s.astype(int)"
      ],
      "id": "e312ccbe-1a2f-4110-8a71-67ec16140d3f"
    },
    {
      "cell_type": "markdown",
      "metadata": {},
      "source": [
        "`-` 예시2: 원소의 타입을 변환한 이후 브로드캐스팅 (int)"
      ],
      "id": "1b37a419-c266-4ca7-95ed-f116c4991d16"
    },
    {
      "cell_type": "code",
      "execution_count": 115,
      "metadata": {
        "tags": []
      },
      "outputs": [],
      "source": [
        "s1 = pd.Series(list('12345'))\n",
        "s2 = pd.Series([-1,-2,-3,-4,-5])"
      ],
      "id": "4b9cf43a-49c9-45cf-a95f-aa269faaf085"
    },
    {
      "cell_type": "code",
      "execution_count": 116,
      "metadata": {
        "tags": []
      },
      "outputs": [],
      "source": [
        "s1.astype(int)+s2"
      ],
      "id": "c95a5d37-3b83-4e1b-8560-693e3be36678"
    },
    {
      "cell_type": "markdown",
      "metadata": {},
      "source": [
        "`# 예시3`: 원소의 타입을 변환한 이후 브로드캐스팅 (str)"
      ],
      "id": "4a942a40-1112-4d2a-9bd5-7077914540b2"
    },
    {
      "cell_type": "code",
      "execution_count": 117,
      "metadata": {
        "tags": []
      },
      "outputs": [],
      "source": [
        "df = pd.read_csv(\"https://raw.githubusercontent.com/guebin/DV2023/main/posts/titanic.csv\")[:5]\n",
        "df"
      ],
      "id": "2190ec83-1649-4b17-885c-03b338e10af2"
    },
    {
      "cell_type": "markdown",
      "metadata": {},
      "source": [
        "위의 자료에서 `Embarked` 열과 `Pclass`열을 이용하여 아래와 같은\n",
        "`New Feature`를 만들어라.\n",
        "\n",
        "| Embarked | Pclass | New Feature |\n",
        "|:--------:|:------:|:-----------:|\n",
        "|   ‘S’    |   3    |    ‘S3’     |\n",
        "|   ‘C’    |   1    |    ‘C1’     |\n",
        "|   ‘S’    |   3    |    ‘S3’     |\n",
        "|   ‘S’    |   1    |    ‘S1’     |\n",
        "|   ‘S’    |   3    |    ‘S3’     |\n",
        "\n",
        "(풀이)"
      ],
      "id": "ef63c5f0-89c0-4c7f-ab44-fdafdfd6fb4d"
    },
    {
      "cell_type": "code",
      "execution_count": 118,
      "metadata": {
        "tags": []
      },
      "outputs": [],
      "source": [
        "df.Embarked + df.Pclass.astype(str)"
      ],
      "id": "f69cb71f-754c-46cb-a873-abee1adb82d0"
    },
    {
      "cell_type": "markdown",
      "metadata": {},
      "source": [
        "`#`\n",
        "\n",
        "## F. 컴프리헨션, `lambda+map`을 무시하지 말 것\n",
        "\n",
        "`# 예시1`"
      ],
      "id": "9303b6ab-0aa3-48ea-b1e1-3b180ea797c8"
    },
    {
      "cell_type": "code",
      "execution_count": 119,
      "metadata": {},
      "outputs": [],
      "source": [
        "df = pd.read_csv(\"https://raw.githubusercontent.com/guebin/DV2023/main/posts/titanic.csv\")[:5]\n",
        "df"
      ],
      "id": "fd886315-8a17-4c70-8ecc-7b7a6ded5801"
    },
    {
      "cell_type": "markdown",
      "metadata": {},
      "source": [
        "위의 자료에서 아래와 같은 변환을 하고 싶다면?\n",
        "\n",
        "$$\n",
        "f(\\text{sex}, \\text{sibsp}) = \n",
        "\\begin{cases} \n",
        "0.7 + 0.25 \\times \\text{sibsp} & \\text{if } \\text{sex} = \\text{'female'} \\\\\n",
        "0.1 + 0.15 \\times \\text{sibsp} & \\text{otherwise}\n",
        "\\end{cases}\n",
        "$$"
      ],
      "id": "912a683a-2703-48d0-a36b-3f9fb8257245"
    },
    {
      "cell_type": "code",
      "execution_count": 120,
      "metadata": {},
      "outputs": [],
      "source": [
        "df.assign(Prob= list(map(lambda sex,sibsp: 0.7 + sibsp*0.25 if sex=='female' else 0.2 + sibsp*0.15, df.Sex, df.SibSp)))"
      ],
      "id": "5fd1d918-86c2-43cb-be0b-ece8a75cc4b3"
    },
    {
      "cell_type": "markdown",
      "metadata": {},
      "source": [
        "`#`\n",
        "\n",
        "`# 예시2`"
      ],
      "id": "2a369994-9f6a-4b29-a8d2-8c8069315bd3"
    },
    {
      "cell_type": "code",
      "execution_count": 121,
      "metadata": {
        "tags": []
      },
      "outputs": [],
      "source": [
        "df = pd.read_csv(\"https://raw.githubusercontent.com/guebin/DV2023/main/posts/titanic.csv\")[:5]\n",
        "df"
      ],
      "id": "51c1ff25-b34c-41d1-9d6c-9719aecf94ea"
    },
    {
      "cell_type": "markdown",
      "metadata": {},
      "source": [
        "위의 자료에서 Name열을 아래와 같이 분리하는 작업을 수행하라.\n",
        "\n",
        "|     | title | Name                                          |\n",
        "|-----|-------|-----------------------------------------------|\n",
        "| 0   | Mr    | Owen Harris Braund                            |\n",
        "| 1   | Mrs   | John Bradley (Florence Briggs Thayer) Cumings |\n",
        "| 2   | Miss  | Laina Heikkinen                               |\n",
        "| 3   | Mrs   | Jacques Heath (Lily May Peel) Futrelle        |\n",
        "| 4   | Mr    | William Henry Allen                           |\n",
        "\n",
        "(풀이)"
      ],
      "id": "2ee38493-a85a-425f-acdb-5b755392350e"
    },
    {
      "cell_type": "code",
      "execution_count": 122,
      "metadata": {},
      "outputs": [],
      "source": [
        "_lst = [[title,f'{first_name} {last_name}'] for last_name, title, first_name in df.Name.str.replace(', ','/').str.replace('. ','/').str.split('/')]\n",
        "pd.DataFrame(_lst, columns=['title','Name2'])"
      ],
      "id": "bf7d9f68-9e5a-4cef-be79-454180deab90"
    },
    {
      "cell_type": "markdown",
      "metadata": {},
      "source": [
        "참고: “Mr,Mrs,Miss” 만 뽑아내는 코드 (대면수업에서 하려다가 실패한 코드)"
      ],
      "id": "5f7ae899-28f4-49ab-878a-7f2a9fe40eec"
    },
    {
      "cell_type": "code",
      "execution_count": 123,
      "metadata": {
        "tags": []
      },
      "outputs": [],
      "source": [
        "df.Name.str.split(', ').str[-1].str.split('. ').str[0]"
      ],
      "id": "e85cc2cd-777e-4cc5-873d-4a0aa34f1ee9"
    },
    {
      "cell_type": "markdown",
      "metadata": {},
      "source": [
        "`#`\n",
        "\n",
        "# 4. 숙제\n",
        "\n",
        "아래와 같은 데이터프레임이 있다고 하자."
      ],
      "id": "689c1b87-f39e-47c0-8dc1-27008a6a87c6"
    },
    {
      "cell_type": "code",
      "execution_count": 97,
      "metadata": {
        "tags": []
      },
      "outputs": [],
      "source": [
        "df = pd.DataFrame({'A':[1,2,3,4]})\n",
        "df"
      ],
      "id": "b05a84a9-2b1c-406c-9d32-b54e94a143bb"
    },
    {
      "cell_type": "markdown",
      "metadata": {},
      "source": [
        "아래의 결과를 관찰하고 이러한 결과가 나오는 이유를 정리하여 제출하라."
      ],
      "id": "45f933dc-dd8a-486b-a062-dad354b006b4"
    },
    {
      "cell_type": "code",
      "execution_count": 99,
      "metadata": {
        "tags": []
      },
      "outputs": [],
      "source": [
        "df[['A']].apply(np.mean)"
      ],
      "id": "6c7bcc98-ec87-40bd-8f24-f18563aa0790"
    },
    {
      "cell_type": "code",
      "execution_count": 100,
      "metadata": {
        "tags": []
      },
      "outputs": [],
      "source": [
        "df['A'].apply(np.mean)"
      ],
      "id": "f0c2f5f1-883f-4fa0-9929-89ed7d776c10"
    }
  ],
  "nbformat": 4,
  "nbformat_minor": 5,
  "metadata": {
    "kernelspec": {
      "name": "python3",
      "display_name": "Python 3 (ipykernel)",
      "language": "python"
    },
    "language_info": {
      "name": "python",
      "codemirror_mode": {
        "name": "ipython",
        "version": "3"
      },
      "file_extension": ".py",
      "mimetype": "text/x-python",
      "nbconvert_exporter": "python",
      "pygments_lexer": "ipython3",
      "version": "3.10.13"
    }
  }
}