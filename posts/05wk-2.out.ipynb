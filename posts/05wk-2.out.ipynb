{
  "cells": [
    {
      "cell_type": "markdown",
      "metadata": {},
      "source": [
        "# 05wk-2: Pandas – transform column (꿀팁)\n",
        "\n",
        "최규빈  \n",
        "2023-10-05\n",
        "\n",
        "<a href=\"https://colab.research.google.com/github/guebin/DV2023/blob/main/posts/05wk-2.ipynb\"><img src=\"https://colab.research.google.com/assets/colab-badge.svg\" style=\"text-align: left\"></a>\n",
        "\n",
        "# 1. 강의영상\n",
        "\n",
        "<https://youtu.be/playlist?list=PLQqh36zP38-wVp_fe2YXiERTc0ZEh9Li_&si=rr31LPWCeN_negav>\n",
        "\n",
        "# 2. Imports"
      ],
      "id": "d13e7ece-6129-4b3e-83e0-2092edfe532d"
    },
    {
      "cell_type": "code",
      "execution_count": 3,
      "metadata": {
        "tags": []
      },
      "outputs": [],
      "source": [
        "import numpy as np\n",
        "import pandas as pd\n",
        "from plotnine import *"
      ],
      "id": "fe18b411-466d-4db9-a900-638ea382a801"
    },
    {
      "cell_type": "markdown",
      "metadata": {},
      "source": [
        "# 3. Pandas: transform column (꿀팁)\n",
        "\n",
        "## A. `lambda`\n",
        "\n",
        "저번시간에 했음\n",
        "\n",
        "## B. `map`\n",
        "\n",
        "저번시간에 했음\n",
        "\n",
        "## C. `s.apply(변환함수)`\n",
        "\n",
        "`-` 예시1: 원소별로 처음3개의 숫자만 출력"
      ],
      "id": "26354d9b-472b-456f-8767-3a20fe4147f1"
    },
    {
      "cell_type": "code",
      "execution_count": 4,
      "metadata": {
        "tags": []
      },
      "outputs": [],
      "source": [
        "df = pd.read_csv('https://raw.githubusercontent.com/guebin/DV2022/master/posts/FIFA23_official_data.csv')\n",
        "s = df.Height"
      ],
      "id": "99418b4d"
    },
    {
      "cell_type": "code",
      "execution_count": 5,
      "metadata": {
        "tags": []
      },
      "outputs": [],
      "source": [
        "s.apply(lambda x: x[:3])"
      ],
      "id": "f716f1a4"
    },
    {
      "cell_type": "markdown",
      "metadata": {},
      "source": [
        "`-` 예시2: 원소별로 처음3개의 문자만 출력 $\\to$ `str`자료형을\n",
        "`int`자료형으로 변환"
      ],
      "id": "47d7765b-9ab2-4b50-93db-d6004a09f189"
    },
    {
      "cell_type": "code",
      "execution_count": 6,
      "metadata": {
        "tags": []
      },
      "outputs": [],
      "source": [
        "df = pd.read_csv('https://raw.githubusercontent.com/guebin/DV2022/master/posts/FIFA23_official_data.csv')\n",
        "s = df.Height"
      ],
      "id": "2ca16fd8"
    },
    {
      "cell_type": "markdown",
      "metadata": {},
      "source": [
        "(방법1) – 한번에"
      ],
      "id": "dae70e45-6d6d-4ced-9924-4f70c2c2a22a"
    },
    {
      "cell_type": "code",
      "execution_count": 7,
      "metadata": {
        "tags": []
      },
      "outputs": [],
      "source": [
        "s.apply(lambda x: int(x[:3]))"
      ],
      "id": "09158410-b4ae-48ca-ac2b-7a5b742bb913"
    },
    {
      "cell_type": "markdown",
      "metadata": {},
      "source": [
        "(방법2) – 연쇄적으로.."
      ],
      "id": "5cbb3b67-f5a0-4269-bd00-25c62147f270"
    },
    {
      "cell_type": "code",
      "execution_count": 8,
      "metadata": {
        "tags": []
      },
      "outputs": [],
      "source": [
        "s.apply(lambda x: x[:3]).apply(int)"
      ],
      "id": "b7169559-d4e8-49f0-9bc0-ebaf8157c08d"
    },
    {
      "cell_type": "markdown",
      "metadata": {},
      "source": [
        "## D. `s.str`, `idx.str`\n",
        "\n",
        "`-` 예시1: 원소별로 처음 3개의 숫자만 출력"
      ],
      "id": "b3cfe869-06ee-42d8-a256-f8be0a0ae9a4"
    },
    {
      "cell_type": "code",
      "execution_count": 9,
      "metadata": {
        "tags": []
      },
      "outputs": [],
      "source": [
        "df = pd.read_csv('https://raw.githubusercontent.com/guebin/DV2022/master/posts/FIFA23_official_data.csv')\n",
        "s = df.Height"
      ],
      "id": "f7f63076"
    },
    {
      "cell_type": "code",
      "execution_count": 10,
      "metadata": {
        "tags": []
      },
      "outputs": [],
      "source": [
        "s.str[:3]"
      ],
      "id": "9f46cea8-c672-4371-bb0b-0656be640d99"
    },
    {
      "cell_type": "markdown",
      "metadata": {},
      "source": [
        "`-` 예시2: 원소별로 isupper를 수행"
      ],
      "id": "4a611673-17bf-437a-a81a-b7d0314bdbd3"
    },
    {
      "cell_type": "code",
      "execution_count": 11,
      "metadata": {
        "tags": []
      },
      "outputs": [],
      "source": [
        "s = pd.Series(['A','B','C','d','e','F'])\n",
        "s"
      ],
      "id": "8e1843d3"
    },
    {
      "cell_type": "code",
      "execution_count": 12,
      "metadata": {
        "tags": []
      },
      "outputs": [],
      "source": [
        "s.str.isupper()"
      ],
      "id": "eeb6d9fb-a378-4c93-8f19-a40df8692cbc"
    },
    {
      "cell_type": "markdown",
      "metadata": {},
      "source": [
        "`-` 예시3: 원소별로 공백제거 (pd.Series 뿐만 아니라 pd.Index 자료형에도\n",
        "사용가능)"
      ],
      "id": "ee9460af-31ff-4fd9-8d6f-01874da37b60"
    },
    {
      "cell_type": "code",
      "execution_count": 13,
      "metadata": {
        "tags": []
      },
      "outputs": [],
      "source": [
        "df = pd.read_csv('https://raw.githubusercontent.com/guebin/DV2022/master/posts/FIFA23_official_data.csv')\n",
        "idx = df.columns"
      ],
      "id": "ad2ac0e6"
    },
    {
      "cell_type": "code",
      "execution_count": 14,
      "metadata": {
        "tags": []
      },
      "outputs": [],
      "source": [
        "idx.str.replace(' ','')"
      ],
      "id": "8d54ad50-ee77-49c7-9662-892b97b338dd"
    },
    {
      "cell_type": "markdown",
      "metadata": {},
      "source": [
        "## E. `s.astype()`\n",
        "\n",
        "`-` 예시1: 원소의 타입을 모두 `int`형으로 변경"
      ],
      "id": "b320392a-af7b-4393-b7ae-d1f556a20139"
    },
    {
      "cell_type": "code",
      "execution_count": 15,
      "metadata": {
        "tags": []
      },
      "outputs": [],
      "source": [
        "s = pd.Series(list('12345'))\n",
        "s"
      ],
      "id": "f97e2a97"
    },
    {
      "cell_type": "code",
      "execution_count": 16,
      "metadata": {
        "tags": []
      },
      "outputs": [],
      "source": [
        "s.astype(int)"
      ],
      "id": "e312ccbe-1a2f-4110-8a71-67ec16140d3f"
    },
    {
      "cell_type": "markdown",
      "metadata": {},
      "source": [
        "`-` 예시2: 원소의 타입을 변환한 이후 브로드캐스팅 (int)"
      ],
      "id": "58852ba1-48f4-4bd1-8396-a63b9b611a11"
    },
    {
      "cell_type": "code",
      "execution_count": 17,
      "metadata": {
        "tags": []
      },
      "outputs": [],
      "source": [
        "s1 = pd.Series(list('12345'))\n",
        "s2 = pd.Series([-1,-2,-3,-4,-5])"
      ],
      "id": "4b9cf43a-49c9-45cf-a95f-aa269faaf085"
    },
    {
      "cell_type": "code",
      "execution_count": 18,
      "metadata": {
        "tags": []
      },
      "outputs": [],
      "source": [
        "s1.astype(int)+s2"
      ],
      "id": "c95a5d37-3b83-4e1b-8560-693e3be36678"
    },
    {
      "cell_type": "markdown",
      "metadata": {},
      "source": [
        "`# 예시3`: 원소의 타입을 변환한 이후 브로드캐스팅 (str)"
      ],
      "id": "715df1e9-dc62-4192-bd6d-18f72bfd555c"
    },
    {
      "cell_type": "code",
      "execution_count": 19,
      "metadata": {
        "tags": []
      },
      "outputs": [],
      "source": [
        "df = pd.read_csv(\"https://raw.githubusercontent.com/guebin/DV2023/main/posts/titanic.csv\")[:5]\n",
        "df"
      ],
      "id": "2190ec83-1649-4b17-885c-03b338e10af2"
    },
    {
      "cell_type": "markdown",
      "metadata": {},
      "source": [
        "위의 자료에서 `Embarked` 열과 `Pclass`열을 이용하여 아래와 같은\n",
        "`New Feature`를 만들어라.\n",
        "\n",
        "| Embarked | Pclass | New Feature |\n",
        "|:--------:|:------:|:-----------:|\n",
        "|   ‘S’    |   3    |    ‘S3’     |\n",
        "|   ‘C’    |   1    |    ‘C1’     |\n",
        "|   ‘S’    |   3    |    ‘S3’     |\n",
        "|   ‘S’    |   1    |    ‘S1’     |\n",
        "|   ‘S’    |   3    |    ‘S3’     |\n",
        "\n",
        "(풀이)"
      ],
      "id": "ee6be1f5-e258-4349-9733-e511cadcee40"
    },
    {
      "cell_type": "code",
      "execution_count": 20,
      "metadata": {
        "tags": []
      },
      "outputs": [],
      "source": [
        "df.Embarked + df.Pclass.astype(str)"
      ],
      "id": "f69cb71f-754c-46cb-a873-abee1adb82d0"
    },
    {
      "cell_type": "markdown",
      "metadata": {},
      "source": [
        "`#`\n",
        "\n",
        "## F. 컴프리헨션, `lambda+map`을 무시하지 말 것\n",
        "\n",
        "`# 예시1`"
      ],
      "id": "4ee14cf0-d4f5-4932-b6cb-19db6b3392a1"
    },
    {
      "cell_type": "code",
      "execution_count": 21,
      "metadata": {},
      "outputs": [],
      "source": [
        "df = pd.read_csv(\"https://raw.githubusercontent.com/guebin/DV2023/main/posts/titanic.csv\")[:5]\n",
        "df"
      ],
      "id": "fd886315-8a17-4c70-8ecc-7b7a6ded5801"
    },
    {
      "cell_type": "markdown",
      "metadata": {},
      "source": [
        "위의 자료에서 아래와 같은 변환을 하고 싶다면?\n",
        "\n",
        "$$\n",
        "f(\\text{sex}, \\text{sibsp}) = \n",
        "\\begin{cases} \n",
        "0.7 + 0.25 \\times \\text{sibsp} & \\text{if } \\text{sex} = \\text{'female'} \\\\\n",
        "0.1 + 0.15 \\times \\text{sibsp} & \\text{otherwise}\n",
        "\\end{cases}\n",
        "$$"
      ],
      "id": "661c422c-79a4-4ecc-80c1-f831c2a80830"
    },
    {
      "cell_type": "code",
      "execution_count": 22,
      "metadata": {},
      "outputs": [],
      "source": [
        "df.assign(Prob= list(map(lambda sex,sibsp: 0.7 + sibsp*0.25 if sex=='female' else 0.2 + sibsp*0.15, df.Sex, df.SibSp)))"
      ],
      "id": "5fd1d918-86c2-43cb-be0b-ece8a75cc4b3"
    },
    {
      "cell_type": "markdown",
      "metadata": {},
      "source": [
        "`#`\n",
        "\n",
        "`# 예시2`"
      ],
      "id": "2d6f44a5-c6e2-48e2-941b-a0a8141529f2"
    },
    {
      "cell_type": "code",
      "execution_count": 57,
      "metadata": {
        "tags": []
      },
      "outputs": [],
      "source": [
        "df = pd.read_csv(\"https://raw.githubusercontent.com/guebin/DV2023/main/posts/titanic.csv\")[:5]\n",
        "df"
      ],
      "id": "51c1ff25-b34c-41d1-9d6c-9719aecf94ea"
    },
    {
      "cell_type": "markdown",
      "metadata": {},
      "source": [
        "위의 자료에서 Name열을 아래와 같이 분리하는 작업을 수행하라.\n",
        "\n",
        "|     | title | Name                                          |\n",
        "|-----|-------|-----------------------------------------------|\n",
        "| 0   | Mr    | Owen Harris Braund                            |\n",
        "| 1   | Mrs   | John Bradley (Florence Briggs Thayer) Cumings |\n",
        "| 2   | Miss  | Laina Heikkinen                               |\n",
        "| 3   | Mrs   | Jacques Heath (Lily May Peel) Futrelle        |\n",
        "| 4   | Mr    | William Henry Allen                           |\n",
        "\n",
        "(풀이)"
      ],
      "id": "ee7eda96-f424-4a8c-88b3-8a8b3ca63e4b"
    },
    {
      "cell_type": "code",
      "execution_count": 38,
      "metadata": {},
      "outputs": [],
      "source": [
        "_lst = [[title,f'{first_name} {last_name}'] for last_name, title, first_name in df.Name.str.replace(', ','/').str.replace('. ','/').str.split('/')]\n",
        "pd.DataFrame(_lst, columns=['title','Name2'])"
      ],
      "id": "bf7d9f68-9e5a-4cef-be79-454180deab90"
    },
    {
      "cell_type": "markdown",
      "metadata": {},
      "source": [
        "참고: “Mr,Mrs,Miss” 만 뽑아내는 코드 (대면수업에서 하려다가 실패한 코드)"
      ],
      "id": "17968606-80d2-40fe-a7a2-18ec58f40e8f"
    },
    {
      "cell_type": "code",
      "execution_count": 95,
      "metadata": {
        "tags": []
      },
      "outputs": [],
      "source": [
        "df.Name.str.split(', ').str[-1].str.split('. ').str[0]"
      ],
      "id": "e85cc2cd-777e-4cc5-873d-4a0aa34f1ee9"
    },
    {
      "cell_type": "markdown",
      "metadata": {},
      "source": [
        "`#`\n",
        "\n",
        "# 4. 숙제\n",
        "\n",
        "아래와 같은 데이터프레임이 있다고 하자."
      ],
      "id": "6f94dc99-6787-418b-a353-3a90f6b67bbf"
    },
    {
      "cell_type": "code",
      "execution_count": 97,
      "metadata": {
        "tags": []
      },
      "outputs": [],
      "source": [
        "df = pd.DataFrame({'A':[1,2,3,4]})\n",
        "df"
      ],
      "id": "b05a84a9-2b1c-406c-9d32-b54e94a143bb"
    },
    {
      "cell_type": "markdown",
      "metadata": {},
      "source": [
        "아래의 결과를 관찰하고 이러한 결과가 나오는 이유를 정리하여 제출하라."
      ],
      "id": "89906aa2-a5ea-48ce-8f86-d6c71584bb32"
    },
    {
      "cell_type": "code",
      "execution_count": 99,
      "metadata": {
        "tags": []
      },
      "outputs": [],
      "source": [
        "df[['A']].apply(np.mean)"
      ],
      "id": "6c7bcc98-ec87-40bd-8f24-f18563aa0790"
    },
    {
      "cell_type": "code",
      "execution_count": 100,
      "metadata": {
        "tags": []
      },
      "outputs": [],
      "source": [
        "df['A'].apply(np.mean)"
      ],
      "id": "f0c2f5f1-883f-4fa0-9929-89ed7d776c10"
    }
  ],
  "nbformat": 4,
  "nbformat_minor": 5,
  "metadata": {
    "kernelspec": {
      "name": "python3",
      "display_name": "Python 3 (ipykernel)",
      "language": "python"
    },
    "language_info": {
      "name": "python",
      "codemirror_mode": {
        "name": "ipython",
        "version": "3"
      },
      "file_extension": ".py",
      "mimetype": "text/x-python",
      "nbconvert_exporter": "python",
      "pygments_lexer": "ipython3",
      "version": "3.10.13"
    }
  }
}