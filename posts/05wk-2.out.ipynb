{
  "cells": [
    {
      "cell_type": "markdown",
      "metadata": {},
      "source": [
        "# 05wk-2: Pandas – transform column (꿀팁)\n",
        "\n",
        "최규빈  \n",
        "2023-10-05\n",
        "\n",
        "<a href=\"https://colab.research.google.com/github/guebin/DV2023/blob/main/posts/05wk-2.ipynb\"><img src=\"https://colab.research.google.com/assets/colab-badge.svg\" style=\"text-align: left\"></a>\n",
        "\n",
        "# 1. 강의영상\n",
        "\n",
        "<https://youtu.be/playlist?list=PLQqh36zP38-wVp_fe2YXiERTc0ZEh9Li_&si=rr31LPWCeN_negav>\n",
        "\n",
        "# 2. Imports"
      ],
      "id": "a8b89dbb-e849-4265-9443-234a3cefa1ad"
    },
    {
      "cell_type": "code",
      "execution_count": 1,
      "metadata": {
        "tags": []
      },
      "outputs": [],
      "source": [
        "import pandas as pd\n",
        "import numpy as np"
      ],
      "id": "fe18b411-466d-4db9-a900-638ea382a801"
    },
    {
      "cell_type": "markdown",
      "metadata": {},
      "source": [
        "# 3. Pandas: transform column (꿀팁)\n",
        "\n",
        "## A. `lambda`\n",
        "\n",
        "저번시간에 했음\n",
        "\n",
        "## B. `map`\n",
        "\n",
        "저번시간에 했음\n",
        "\n",
        "## C. `s.apply(변환함수)`\n",
        "\n",
        "`-` 예시1: 원소별로 처음3개의 숫자만 출력"
      ],
      "id": "5282e271-c933-4259-8f8b-dc42e1420897"
    },
    {
      "cell_type": "code",
      "execution_count": 102,
      "metadata": {
        "tags": []
      },
      "outputs": [],
      "source": [
        "df = pd.read_csv('https://raw.githubusercontent.com/guebin/DV2022/master/posts/FIFA23_official_data.csv')\n",
        "s = df.Height"
      ],
      "id": "99418b4d"
    },
    {
      "cell_type": "code",
      "execution_count": 103,
      "metadata": {
        "tags": []
      },
      "outputs": [],
      "source": [
        "s.apply(lambda x: x[:3])"
      ],
      "id": "f716f1a4"
    },
    {
      "cell_type": "markdown",
      "metadata": {},
      "source": [
        "`-` 예시2: 원소별로 처음3개의 문자만 출력 $\\to$ `str`자료형을\n",
        "`int`자료형으로 변환"
      ],
      "id": "1d88984c-cbb9-4092-9096-310bbcd03da1"
    },
    {
      "cell_type": "code",
      "execution_count": 104,
      "metadata": {
        "tags": []
      },
      "outputs": [],
      "source": [
        "df = pd.read_csv('https://raw.githubusercontent.com/guebin/DV2022/master/posts/FIFA23_official_data.csv')\n",
        "s = df.Height"
      ],
      "id": "2ca16fd8"
    },
    {
      "cell_type": "markdown",
      "metadata": {},
      "source": [
        "(방법1) – 한번에"
      ],
      "id": "30c13428-c486-46c4-a58e-218d15a6daab"
    },
    {
      "cell_type": "code",
      "execution_count": 105,
      "metadata": {
        "tags": []
      },
      "outputs": [],
      "source": [
        "s.apply(lambda x: int(x[:3]))"
      ],
      "id": "09158410-b4ae-48ca-ac2b-7a5b742bb913"
    },
    {
      "cell_type": "markdown",
      "metadata": {},
      "source": [
        "(방법2) – 연쇄적으로.."
      ],
      "id": "eec4725f-49bb-4e7e-8611-1450c4f43670"
    },
    {
      "cell_type": "code",
      "execution_count": 106,
      "metadata": {
        "tags": []
      },
      "outputs": [],
      "source": [
        "s.apply(lambda x: x[:3]).apply(int)"
      ],
      "id": "b7169559-d4e8-49f0-9bc0-ebaf8157c08d"
    },
    {
      "cell_type": "markdown",
      "metadata": {},
      "source": [
        "## D. `s.str`, `idx.str`\n",
        "\n",
        "`-` 예시1: 원소별로 처음 3개의 숫자만 출력"
      ],
      "id": "db85434e-d722-4a09-820e-62493c1140f5"
    },
    {
      "cell_type": "code",
      "execution_count": 107,
      "metadata": {
        "tags": []
      },
      "outputs": [],
      "source": [
        "df = pd.read_csv('https://raw.githubusercontent.com/guebin/DV2022/master/posts/FIFA23_official_data.csv')\n",
        "s = df.Height"
      ],
      "id": "f7f63076"
    },
    {
      "cell_type": "code",
      "execution_count": 108,
      "metadata": {
        "tags": []
      },
      "outputs": [],
      "source": [
        "s.str[:3]"
      ],
      "id": "9f46cea8-c672-4371-bb0b-0656be640d99"
    },
    {
      "cell_type": "markdown",
      "metadata": {},
      "source": [
        "`-` 예시2: 원소별로 isupper를 수행"
      ],
      "id": "82ec2fc6-240d-49ae-9ff9-2932ec04022d"
    },
    {
      "cell_type": "code",
      "execution_count": 109,
      "metadata": {
        "tags": []
      },
      "outputs": [],
      "source": [
        "s = pd.Series(['A','B','C','d','e','F'])\n",
        "s"
      ],
      "id": "8e1843d3"
    },
    {
      "cell_type": "code",
      "execution_count": 110,
      "metadata": {
        "tags": []
      },
      "outputs": [],
      "source": [
        "s.str.isupper()"
      ],
      "id": "eeb6d9fb-a378-4c93-8f19-a40df8692cbc"
    },
    {
      "cell_type": "markdown",
      "metadata": {},
      "source": [
        "`-` 예시3: 원소별로 공백제거 (pd.Series 뿐만 아니라 pd.Index 자료형에도\n",
        "사용가능)"
      ],
      "id": "9c87c0dc-1bb4-4cd3-bc0b-db4a82f9fa96"
    },
    {
      "cell_type": "code",
      "execution_count": 111,
      "metadata": {
        "tags": []
      },
      "outputs": [],
      "source": [
        "df = pd.read_csv('https://raw.githubusercontent.com/guebin/DV2022/master/posts/FIFA23_official_data.csv')\n",
        "idx = df.columns"
      ],
      "id": "ad2ac0e6"
    },
    {
      "cell_type": "code",
      "execution_count": 112,
      "metadata": {
        "tags": []
      },
      "outputs": [],
      "source": [
        "idx.str.replace(' ','')"
      ],
      "id": "8d54ad50-ee77-49c7-9662-892b97b338dd"
    },
    {
      "cell_type": "markdown",
      "metadata": {},
      "source": [
        "## E. `s.astype()`\n",
        "\n",
        "`-` 예시1: 원소의 타입을 모두 `int`형으로 변경"
      ],
      "id": "9dd3bb95-839d-4093-a70c-6edd741ff678"
    },
    {
      "cell_type": "code",
      "execution_count": 113,
      "metadata": {
        "tags": []
      },
      "outputs": [],
      "source": [
        "s = pd.Series(list('12345'))\n",
        "s"
      ],
      "id": "f97e2a97"
    },
    {
      "cell_type": "code",
      "execution_count": 114,
      "metadata": {
        "tags": []
      },
      "outputs": [],
      "source": [
        "s.astype(int)"
      ],
      "id": "e312ccbe-1a2f-4110-8a71-67ec16140d3f"
    },
    {
      "cell_type": "markdown",
      "metadata": {},
      "source": [
        "`-` 예시2: 원소의 타입을 변환한 이후 브로드캐스팅 (int)"
      ],
      "id": "65fbd15c-d4bb-4e0d-bbe6-027358bed478"
    },
    {
      "cell_type": "code",
      "execution_count": 115,
      "metadata": {
        "tags": []
      },
      "outputs": [],
      "source": [
        "s1 = pd.Series(list('12345'))\n",
        "s2 = pd.Series([-1,-2,-3,-4,-5])"
      ],
      "id": "4b9cf43a-49c9-45cf-a95f-aa269faaf085"
    },
    {
      "cell_type": "code",
      "execution_count": 116,
      "metadata": {
        "tags": []
      },
      "outputs": [],
      "source": [
        "s1.astype(int)+s2"
      ],
      "id": "c95a5d37-3b83-4e1b-8560-693e3be36678"
    },
    {
      "cell_type": "markdown",
      "metadata": {},
      "source": [
        "`# 예시3`: 원소의 타입을 변환한 이후 브로드캐스팅 (str)"
      ],
      "id": "90f59e3d-f820-4163-9ba1-8468a813265b"
    },
    {
      "cell_type": "code",
      "execution_count": 117,
      "metadata": {
        "tags": []
      },
      "outputs": [],
      "source": [
        "df = pd.read_csv(\"https://raw.githubusercontent.com/guebin/DV2023/main/posts/titanic.csv\")[:5]\n",
        "df"
      ],
      "id": "2190ec83-1649-4b17-885c-03b338e10af2"
    },
    {
      "cell_type": "markdown",
      "metadata": {},
      "source": [
        "위의 자료에서 `Embarked` 열과 `Pclass`열을 이용하여 아래와 같은\n",
        "`New Feature`를 만들어라.\n",
        "\n",
        "| Embarked | Pclass | New Feature |\n",
        "|:--------:|:------:|:-----------:|\n",
        "|   ‘S’    |   3    |    ‘S3’     |\n",
        "|   ‘C’    |   1    |    ‘C1’     |\n",
        "|   ‘S’    |   3    |    ‘S3’     |\n",
        "|   ‘S’    |   1    |    ‘S1’     |\n",
        "|   ‘S’    |   3    |    ‘S3’     |\n",
        "\n",
        "(풀이)"
      ],
      "id": "542c3157-8321-47a7-bf44-4554319b22e2"
    },
    {
      "cell_type": "code",
      "execution_count": 118,
      "metadata": {
        "tags": []
      },
      "outputs": [],
      "source": [
        "df.Embarked + df.Pclass.astype(str)"
      ],
      "id": "f69cb71f-754c-46cb-a873-abee1adb82d0"
    },
    {
      "cell_type": "markdown",
      "metadata": {},
      "source": [
        "`#`\n",
        "\n",
        "## F. 컴프리헨션, `lambda+map`을 무시하지 말 것\n",
        "\n",
        "`# 예시1`"
      ],
      "id": "4ff125ca-b7a7-4082-b89f-e506143c2e36"
    },
    {
      "cell_type": "code",
      "execution_count": 119,
      "metadata": {},
      "outputs": [],
      "source": [
        "df = pd.read_csv(\"https://raw.githubusercontent.com/guebin/DV2023/main/posts/titanic.csv\")[:5]\n",
        "df"
      ],
      "id": "fd886315-8a17-4c70-8ecc-7b7a6ded5801"
    },
    {
      "cell_type": "markdown",
      "metadata": {},
      "source": [
        "위의 자료에서 아래와 같은 변환을 하고 싶다면?\n",
        "\n",
        "$$\n",
        "f(\\text{sex}, \\text{sibsp}) = \n",
        "\\begin{cases} \n",
        "0.7 + 0.25 \\times \\text{sibsp} & \\text{if } \\text{sex} = \\text{'female'} \\\\\n",
        "0.1 + 0.15 \\times \\text{sibsp} & \\text{otherwise}\n",
        "\\end{cases}\n",
        "$$"
      ],
      "id": "7fa3feb9-52b5-4a71-969b-8c968a0d6910"
    },
    {
      "cell_type": "code",
      "execution_count": 120,
      "metadata": {},
      "outputs": [],
      "source": [
        "df.assign(Prob= list(map(lambda sex,sibsp: 0.7 + sibsp*0.25 if sex=='female' else 0.2 + sibsp*0.15, df.Sex, df.SibSp)))"
      ],
      "id": "5fd1d918-86c2-43cb-be0b-ece8a75cc4b3"
    },
    {
      "cell_type": "markdown",
      "metadata": {},
      "source": [
        "`#`\n",
        "\n",
        "`# 예시2`"
      ],
      "id": "cd2340e8-b807-4ffc-bde1-8616ac87a02c"
    },
    {
      "cell_type": "code",
      "execution_count": 121,
      "metadata": {
        "tags": []
      },
      "outputs": [],
      "source": [
        "df = pd.read_csv(\"https://raw.githubusercontent.com/guebin/DV2023/main/posts/titanic.csv\")[:5]\n",
        "df"
      ],
      "id": "51c1ff25-b34c-41d1-9d6c-9719aecf94ea"
    },
    {
      "cell_type": "markdown",
      "metadata": {},
      "source": [
        "위의 자료에서 Name열을 아래와 같이 분리하는 작업을 수행하라.\n",
        "\n",
        "|     | title | Name                                          |\n",
        "|-----|-------|-----------------------------------------------|\n",
        "| 0   | Mr    | Owen Harris Braund                            |\n",
        "| 1   | Mrs   | John Bradley (Florence Briggs Thayer) Cumings |\n",
        "| 2   | Miss  | Laina Heikkinen                               |\n",
        "| 3   | Mrs   | Jacques Heath (Lily May Peel) Futrelle        |\n",
        "| 4   | Mr    | William Henry Allen                           |\n",
        "\n",
        "(풀이)"
      ],
      "id": "8c64e628-4d2b-4784-b038-ae135c2ecb40"
    },
    {
      "cell_type": "code",
      "execution_count": 122,
      "metadata": {},
      "outputs": [],
      "source": [
        "_lst = [[title,f'{first_name} {last_name}'] for last_name, title, first_name in df.Name.str.replace(', ','/').str.replace('. ','/').str.split('/')]\n",
        "pd.DataFrame(_lst, columns=['title','Name2'])"
      ],
      "id": "bf7d9f68-9e5a-4cef-be79-454180deab90"
    },
    {
      "cell_type": "markdown",
      "metadata": {},
      "source": [
        "참고: “Mr,Mrs,Miss” 만 뽑아내는 코드 (대면수업에서 하려다가 실패한 코드)"
      ],
      "id": "6f9cd904-cb25-4948-bc07-83d2a4a95562"
    },
    {
      "cell_type": "code",
      "execution_count": 123,
      "metadata": {
        "tags": []
      },
      "outputs": [],
      "source": [
        "df.Name.str.split(', ').str[-1].str.split('. ').str[0]"
      ],
      "id": "e85cc2cd-777e-4cc5-873d-4a0aa34f1ee9"
    },
    {
      "cell_type": "markdown",
      "metadata": {},
      "source": [
        "`#`\n",
        "\n",
        "# 4. 숙제\n",
        "\n",
        "아래와 같은 데이터프레임이 있다고 하자."
      ],
      "id": "62c6d727-22cb-4439-97ca-8e79d242cccd"
    },
    {
      "cell_type": "code",
      "execution_count": 97,
      "metadata": {
        "tags": []
      },
      "outputs": [],
      "source": [
        "df = pd.DataFrame({'A':[1,2,3,4]})\n",
        "df"
      ],
      "id": "b05a84a9-2b1c-406c-9d32-b54e94a143bb"
    },
    {
      "cell_type": "markdown",
      "metadata": {},
      "source": [
        "아래의 결과를 관찰하고 이러한 결과가 나오는 이유를 정리하여 제출하라."
      ],
      "id": "448c04ca-24b1-4c5d-a958-d99d504b725c"
    },
    {
      "cell_type": "code",
      "execution_count": 99,
      "metadata": {
        "tags": []
      },
      "outputs": [],
      "source": [
        "df[['A']].apply(np.mean)"
      ],
      "id": "6c7bcc98-ec87-40bd-8f24-f18563aa0790"
    },
    {
      "cell_type": "code",
      "execution_count": 100,
      "metadata": {
        "tags": []
      },
      "outputs": [],
      "source": [
        "df['A'].apply(np.mean)"
      ],
      "id": "f0c2f5f1-883f-4fa0-9929-89ed7d776c10"
    }
  ],
  "nbformat": 4,
  "nbformat_minor": 5,
  "metadata": {
    "kernelspec": {
      "name": "python3",
      "display_name": "Python 3 (ipykernel)",
      "language": "python"
    },
    "language_info": {
      "name": "python",
      "codemirror_mode": {
        "name": "ipython",
        "version": "3"
      },
      "file_extension": ".py",
      "mimetype": "text/x-python",
      "nbconvert_exporter": "python",
      "pygments_lexer": "ipython3",
      "version": "3.10.13"
    }
  }
}