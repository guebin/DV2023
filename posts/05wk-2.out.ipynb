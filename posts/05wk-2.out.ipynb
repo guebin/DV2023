{
  "cells": [
    {
      "cell_type": "markdown",
      "metadata": {},
      "source": [
        "# 05wk-2: Pandas – transform column (꿀팁)\n",
        "\n",
        "최규빈  \n",
        "2023-10-05\n",
        "\n",
        "<a href=\"https://colab.research.google.com/github/guebin/DV2023/blob/main/posts/05wk-2.ipynb\"><img src=\"https://colab.research.google.com/assets/colab-badge.svg\" style=\"text-align: left\"></a>\n",
        "\n",
        "# 1. 강의영상\n",
        "\n",
        "<https://youtu.be/playlist?list=PLQqh36zP38-wVp_fe2YXiERTc0ZEh9Li_&si=rr31LPWCeN_negav>\n",
        "\n",
        "# 2. Imports"
      ],
      "id": "31350b92-f261-4650-bc8a-caa6b355409d"
    },
    {
      "cell_type": "code",
      "execution_count": 1,
      "metadata": {
        "tags": []
      },
      "outputs": [],
      "source": [
        "import pandas as pd\n",
        "import numpy as np"
      ],
      "id": "fe18b411-466d-4db9-a900-638ea382a801"
    },
    {
      "cell_type": "markdown",
      "metadata": {},
      "source": [
        "# 3. Pandas: transform column (꿀팁)\n",
        "\n",
        "## A. `lambda`\n",
        "\n",
        "저번시간에 했음\n",
        "\n",
        "## B. `map`\n",
        "\n",
        "저번시간에 했음\n",
        "\n",
        "## C. `s.apply(변환함수)`\n",
        "\n",
        "`-` 예시1: 원소별로 처음3개의 숫자만 출력"
      ],
      "id": "9c59152f-f829-471f-9e7e-6b1f642a70ce"
    },
    {
      "cell_type": "code",
      "execution_count": 102,
      "metadata": {
        "tags": []
      },
      "outputs": [],
      "source": [
        "df = pd.read_csv('https://raw.githubusercontent.com/guebin/DV2022/master/posts/FIFA23_official_data.csv')\n",
        "s = df.Height"
      ],
      "id": "99418b4d"
    },
    {
      "cell_type": "code",
      "execution_count": 103,
      "metadata": {
        "tags": []
      },
      "outputs": [],
      "source": [
        "s.apply(lambda x: x[:3])"
      ],
      "id": "f716f1a4"
    },
    {
      "cell_type": "markdown",
      "metadata": {},
      "source": [
        "`-` 예시2: 원소별로 처음3개의 문자만 출력 $\\to$ `str`자료형을\n",
        "`int`자료형으로 변환"
      ],
      "id": "92273904-63f8-4203-837c-3f3e3caa5758"
    },
    {
      "cell_type": "code",
      "execution_count": 104,
      "metadata": {
        "tags": []
      },
      "outputs": [],
      "source": [
        "df = pd.read_csv('https://raw.githubusercontent.com/guebin/DV2022/master/posts/FIFA23_official_data.csv')\n",
        "s = df.Height"
      ],
      "id": "2ca16fd8"
    },
    {
      "cell_type": "markdown",
      "metadata": {},
      "source": [
        "(방법1) – 한번에"
      ],
      "id": "b5a9e9b9-fa9e-4352-ac6a-ef27be041d27"
    },
    {
      "cell_type": "code",
      "execution_count": 105,
      "metadata": {
        "tags": []
      },
      "outputs": [],
      "source": [
        "s.apply(lambda x: int(x[:3]))"
      ],
      "id": "09158410-b4ae-48ca-ac2b-7a5b742bb913"
    },
    {
      "cell_type": "markdown",
      "metadata": {},
      "source": [
        "(방법2) – 연쇄적으로.."
      ],
      "id": "0b774365-01d9-455f-8756-1872361d1b37"
    },
    {
      "cell_type": "code",
      "execution_count": 106,
      "metadata": {
        "tags": []
      },
      "outputs": [],
      "source": [
        "s.apply(lambda x: x[:3]).apply(int)"
      ],
      "id": "b7169559-d4e8-49f0-9bc0-ebaf8157c08d"
    },
    {
      "cell_type": "markdown",
      "metadata": {},
      "source": [
        "## D. `s.str`, `idx.str`\n",
        "\n",
        "`-` 예시1: 원소별로 처음 3개의 숫자만 출력"
      ],
      "id": "87a29ca2-53eb-40e6-b928-10977e5b53c2"
    },
    {
      "cell_type": "code",
      "execution_count": 107,
      "metadata": {
        "tags": []
      },
      "outputs": [],
      "source": [
        "df = pd.read_csv('https://raw.githubusercontent.com/guebin/DV2022/master/posts/FIFA23_official_data.csv')\n",
        "s = df.Height"
      ],
      "id": "f7f63076"
    },
    {
      "cell_type": "code",
      "execution_count": 108,
      "metadata": {
        "tags": []
      },
      "outputs": [],
      "source": [
        "s.str[:3]"
      ],
      "id": "9f46cea8-c672-4371-bb0b-0656be640d99"
    },
    {
      "cell_type": "markdown",
      "metadata": {},
      "source": [
        "`-` 예시2: 원소별로 isupper를 수행"
      ],
      "id": "8e9ea101-3336-46fe-b242-9a19a2bc7679"
    },
    {
      "cell_type": "code",
      "execution_count": 109,
      "metadata": {
        "tags": []
      },
      "outputs": [],
      "source": [
        "s = pd.Series(['A','B','C','d','e','F'])\n",
        "s"
      ],
      "id": "8e1843d3"
    },
    {
      "cell_type": "code",
      "execution_count": 110,
      "metadata": {
        "tags": []
      },
      "outputs": [],
      "source": [
        "s.str.isupper()"
      ],
      "id": "eeb6d9fb-a378-4c93-8f19-a40df8692cbc"
    },
    {
      "cell_type": "markdown",
      "metadata": {},
      "source": [
        "`-` 예시3: 원소별로 공백제거 (pd.Series 뿐만 아니라 pd.Index 자료형에도\n",
        "사용가능)"
      ],
      "id": "a1c10af0-67ce-4371-a364-398de41c80fc"
    },
    {
      "cell_type": "code",
      "execution_count": 111,
      "metadata": {
        "tags": []
      },
      "outputs": [],
      "source": [
        "df = pd.read_csv('https://raw.githubusercontent.com/guebin/DV2022/master/posts/FIFA23_official_data.csv')\n",
        "idx = df.columns"
      ],
      "id": "ad2ac0e6"
    },
    {
      "cell_type": "code",
      "execution_count": 112,
      "metadata": {
        "tags": []
      },
      "outputs": [],
      "source": [
        "idx.str.replace(' ','')"
      ],
      "id": "8d54ad50-ee77-49c7-9662-892b97b338dd"
    },
    {
      "cell_type": "markdown",
      "metadata": {},
      "source": [
        "## E. `s.astype()`\n",
        "\n",
        "`-` 예시1: 원소의 타입을 모두 `int`형으로 변경"
      ],
      "id": "0e89618e-c9f2-4a16-97a3-307313ed7f8d"
    },
    {
      "cell_type": "code",
      "execution_count": 113,
      "metadata": {
        "tags": []
      },
      "outputs": [],
      "source": [
        "s = pd.Series(list('12345'))\n",
        "s"
      ],
      "id": "f97e2a97"
    },
    {
      "cell_type": "code",
      "execution_count": 114,
      "metadata": {
        "tags": []
      },
      "outputs": [],
      "source": [
        "s.astype(int)"
      ],
      "id": "e312ccbe-1a2f-4110-8a71-67ec16140d3f"
    },
    {
      "cell_type": "markdown",
      "metadata": {},
      "source": [
        "`-` 예시2: 원소의 타입을 변환한 이후 브로드캐스팅 (int)"
      ],
      "id": "7acf8b74-0815-4423-909b-e123a3429b65"
    },
    {
      "cell_type": "code",
      "execution_count": 115,
      "metadata": {
        "tags": []
      },
      "outputs": [],
      "source": [
        "s1 = pd.Series(list('12345'))\n",
        "s2 = pd.Series([-1,-2,-3,-4,-5])"
      ],
      "id": "4b9cf43a-49c9-45cf-a95f-aa269faaf085"
    },
    {
      "cell_type": "code",
      "execution_count": 116,
      "metadata": {
        "tags": []
      },
      "outputs": [],
      "source": [
        "s1.astype(int)+s2"
      ],
      "id": "c95a5d37-3b83-4e1b-8560-693e3be36678"
    },
    {
      "cell_type": "markdown",
      "metadata": {},
      "source": [
        "`# 예시3`: 원소의 타입을 변환한 이후 브로드캐스팅 (str)"
      ],
      "id": "3f94a3a9-9802-42fb-aaae-baf264ae8b49"
    },
    {
      "cell_type": "code",
      "execution_count": 117,
      "metadata": {
        "tags": []
      },
      "outputs": [],
      "source": [
        "df = pd.read_csv(\"https://raw.githubusercontent.com/guebin/DV2023/main/posts/titanic.csv\")[:5]\n",
        "df"
      ],
      "id": "2190ec83-1649-4b17-885c-03b338e10af2"
    },
    {
      "cell_type": "markdown",
      "metadata": {},
      "source": [
        "위의 자료에서 `Embarked` 열과 `Pclass`열을 이용하여 아래와 같은\n",
        "`New Feature`를 만들어라.\n",
        "\n",
        "| Embarked | Pclass | New Feature |\n",
        "|:--------:|:------:|:-----------:|\n",
        "|   ‘S’    |   3    |    ‘S3’     |\n",
        "|   ‘C’    |   1    |    ‘C1’     |\n",
        "|   ‘S’    |   3    |    ‘S3’     |\n",
        "|   ‘S’    |   1    |    ‘S1’     |\n",
        "|   ‘S’    |   3    |    ‘S3’     |\n",
        "\n",
        "(풀이)"
      ],
      "id": "8e1784ba-c5c6-458f-8948-98e3168ea953"
    },
    {
      "cell_type": "code",
      "execution_count": 118,
      "metadata": {
        "tags": []
      },
      "outputs": [],
      "source": [
        "df.Embarked + df.Pclass.astype(str)"
      ],
      "id": "f69cb71f-754c-46cb-a873-abee1adb82d0"
    },
    {
      "cell_type": "markdown",
      "metadata": {},
      "source": [
        "`#`\n",
        "\n",
        "## F. 컴프리헨션, `lambda+map`을 무시하지 말 것\n",
        "\n",
        "`# 예시1`"
      ],
      "id": "f863ed5f-7208-456e-b524-36e41c5960a1"
    },
    {
      "cell_type": "code",
      "execution_count": 119,
      "metadata": {},
      "outputs": [],
      "source": [
        "df = pd.read_csv(\"https://raw.githubusercontent.com/guebin/DV2023/main/posts/titanic.csv\")[:5]\n",
        "df"
      ],
      "id": "fd886315-8a17-4c70-8ecc-7b7a6ded5801"
    },
    {
      "cell_type": "markdown",
      "metadata": {},
      "source": [
        "위의 자료에서 아래와 같은 변환을 하고 싶다면?\n",
        "\n",
        "$$\n",
        "f(\\text{sex}, \\text{sibsp}) = \n",
        "\\begin{cases} \n",
        "0.7 + 0.25 \\times \\text{sibsp} & \\text{if } \\text{sex} = \\text{'female'} \\\\\n",
        "0.1 + 0.15 \\times \\text{sibsp} & \\text{otherwise}\n",
        "\\end{cases}\n",
        "$$"
      ],
      "id": "849af0f1-738b-44d0-9c0d-6965ebccc62b"
    },
    {
      "cell_type": "code",
      "execution_count": 120,
      "metadata": {},
      "outputs": [],
      "source": [
        "df.assign(Prob= list(map(lambda sex,sibsp: 0.7 + sibsp*0.25 if sex=='female' else 0.2 + sibsp*0.15, df.Sex, df.SibSp)))"
      ],
      "id": "5fd1d918-86c2-43cb-be0b-ece8a75cc4b3"
    },
    {
      "cell_type": "markdown",
      "metadata": {},
      "source": [
        "`#`\n",
        "\n",
        "`# 예시2`"
      ],
      "id": "c52e7a31-9272-4e94-876a-5e7505acf0d0"
    },
    {
      "cell_type": "code",
      "execution_count": 121,
      "metadata": {
        "tags": []
      },
      "outputs": [],
      "source": [
        "df = pd.read_csv(\"https://raw.githubusercontent.com/guebin/DV2023/main/posts/titanic.csv\")[:5]\n",
        "df"
      ],
      "id": "51c1ff25-b34c-41d1-9d6c-9719aecf94ea"
    },
    {
      "cell_type": "markdown",
      "metadata": {},
      "source": [
        "위의 자료에서 Name열을 아래와 같이 분리하는 작업을 수행하라.\n",
        "\n",
        "|     | title | Name                                          |\n",
        "|-----|-------|-----------------------------------------------|\n",
        "| 0   | Mr    | Owen Harris Braund                            |\n",
        "| 1   | Mrs   | John Bradley (Florence Briggs Thayer) Cumings |\n",
        "| 2   | Miss  | Laina Heikkinen                               |\n",
        "| 3   | Mrs   | Jacques Heath (Lily May Peel) Futrelle        |\n",
        "| 4   | Mr    | William Henry Allen                           |\n",
        "\n",
        "(풀이)"
      ],
      "id": "f63e7e7a-4350-48c4-87a2-000084ae90f0"
    },
    {
      "cell_type": "code",
      "execution_count": 122,
      "metadata": {},
      "outputs": [],
      "source": [
        "_lst = [[title,f'{first_name} {last_name}'] for last_name, title, first_name in df.Name.str.replace(', ','/').str.replace('. ','/').str.split('/')]\n",
        "pd.DataFrame(_lst, columns=['title','Name2'])"
      ],
      "id": "bf7d9f68-9e5a-4cef-be79-454180deab90"
    },
    {
      "cell_type": "markdown",
      "metadata": {},
      "source": [
        "참고: “Mr,Mrs,Miss” 만 뽑아내는 코드 (대면수업에서 하려다가 실패한 코드)"
      ],
      "id": "afdee577-3b26-49e6-88aa-ca620d2e9d74"
    },
    {
      "cell_type": "code",
      "execution_count": 123,
      "metadata": {
        "tags": []
      },
      "outputs": [],
      "source": [
        "df.Name.str.split(', ').str[-1].str.split('. ').str[0]"
      ],
      "id": "e85cc2cd-777e-4cc5-873d-4a0aa34f1ee9"
    },
    {
      "cell_type": "markdown",
      "metadata": {},
      "source": [
        "`#`\n",
        "\n",
        "# 4. 숙제\n",
        "\n",
        "아래와 같은 데이터프레임이 있다고 하자."
      ],
      "id": "213c758c-74e0-4e9e-b813-e5e1b4cd6220"
    },
    {
      "cell_type": "code",
      "execution_count": 97,
      "metadata": {
        "tags": []
      },
      "outputs": [],
      "source": [
        "df = pd.DataFrame({'A':[1,2,3,4]})\n",
        "df"
      ],
      "id": "b05a84a9-2b1c-406c-9d32-b54e94a143bb"
    },
    {
      "cell_type": "markdown",
      "metadata": {},
      "source": [
        "아래의 결과를 관찰하고 이러한 결과가 나오는 이유를 정리하여 제출하라."
      ],
      "id": "548762f2-24fa-4e16-a399-8e304a113de6"
    },
    {
      "cell_type": "code",
      "execution_count": 99,
      "metadata": {
        "tags": []
      },
      "outputs": [],
      "source": [
        "df[['A']].apply(np.mean)"
      ],
      "id": "6c7bcc98-ec87-40bd-8f24-f18563aa0790"
    },
    {
      "cell_type": "code",
      "execution_count": 100,
      "metadata": {
        "tags": []
      },
      "outputs": [],
      "source": [
        "df['A'].apply(np.mean)"
      ],
      "id": "f0c2f5f1-883f-4fa0-9929-89ed7d776c10"
    }
  ],
  "nbformat": 4,
  "nbformat_minor": 5,
  "metadata": {
    "kernelspec": {
      "name": "python3",
      "display_name": "Python 3 (ipykernel)",
      "language": "python"
    },
    "language_info": {
      "name": "python",
      "codemirror_mode": {
        "name": "ipython",
        "version": "3"
      },
      "file_extension": ".py",
      "mimetype": "text/x-python",
      "nbconvert_exporter": "python",
      "pygments_lexer": "ipython3",
      "version": "3.10.13"
    }
  }
}