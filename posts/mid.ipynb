{
 "cells": [
  {
   "cell_type": "raw",
   "id": "bfbe9ce8-f604-428f-8b27-cb3812352b42",
   "metadata": {
    "tags": []
   },
   "source": [
    "---\n",
    "title: \"supp: 중간고사 성적분포\"\n",
    "author: \"최규빈\"\n",
    "date: \"10/31/2023\"\n",
    "draft: false\n",
    "categories:\n",
    "---"
   ]
  },
  {
   "cell_type": "code",
   "execution_count": 5,
   "id": "5449b9fe-639e-4447-9e95-8bbf751be30a",
   "metadata": {
    "tags": []
   },
   "outputs": [],
   "source": [
    "import pandas as pd"
   ]
  },
  {
   "cell_type": "code",
   "execution_count": 30,
   "id": "8b0e652b-3047-4a71-9cd1-6274344d3528",
   "metadata": {
    "tags": []
   },
   "outputs": [
    {
     "data": {
      "text/plain": [
       "<Axes: >"
      ]
     },
     "execution_count": 30,
     "metadata": {},
     "output_type": "execute_result"
    },
    {
     "data": {
      "image/png": "[encoded data removed]",
      "text/plain": [
       "<Figure size 640x480 with 1 Axes>"
      ]
     },
     "metadata": {},
     "output_type": "display_data"
    }
   ],
   "source": [
    "s = pd.read_csv('https://raw.githubusercontent.com/guebin/DV2023/main/posts/mid.csv')['Score'].apply(lambda x: x if x!='미제출' else None)\n",
    "s.hist()"
   ]
  },
  {
   "cell_type": "code",
   "execution_count": 31,
   "id": "e6d9bb53-b83f-4077-960b-1575dc172730",
   "metadata": {
    "tags": []
   },
   "outputs": [
    {
     "data": {
      "text/plain": [
       "['70',\n",
       " '70',\n",
       " '60',\n",
       " '50',\n",
       " '50',\n",
       " '50',\n",
       " '40',\n",
       " '40',\n",
       " '40',\n",
       " '40',\n",
       " '30',\n",
       " '30',\n",
       " '30',\n",
       " '20',\n",
       " '20',\n",
       " '20',\n",
       " '20',\n",
       " '20',\n",
       " '20',\n",
       " '20',\n",
       " '10',\n",
       " '10',\n",
       " '10',\n",
       " '10',\n",
       " '10',\n",
       " '0',\n",
       " '0',\n",
       " '0',\n",
       " '0',\n",
       " '0',\n",
       " '0',\n",
       " '0',\n",
       " '0',\n",
       " '0',\n",
       " '0',\n",
       " '0',\n",
       " '0',\n",
       " '0',\n",
       " '0',\n",
       " '0',\n",
       " '0',\n",
       " '0',\n",
       " '0',\n",
       " '0',\n",
       " '0',\n",
       " '0',\n",
       " '0',\n",
       " '0',\n",
       " '0',\n",
       " '0',\n",
       " '0',\n",
       " '0',\n",
       " '0',\n",
       " '0',\n",
       " '0',\n",
       " '0',\n",
       " '0',\n",
       " '0',\n",
       " '0',\n",
       " '0',\n",
       " '0',\n",
       " '0',\n",
       " '0',\n",
       " '0',\n",
       " '0',\n",
       " None,\n",
       " None,\n",
       " None]"
      ]
     },
     "execution_count": 31,
     "metadata": {},
     "output_type": "execute_result"
    }
   ],
   "source": [
    "list(s.sort_values(ascending=False))"
   ]
  }
 ],
 "metadata": {
  "kernelspec": {
   "display_name": "Python 3 (ipykernel)",
   "language": "python",
   "name": "python3"
  },
  "language_info": {
   "codemirror_mode": {
    "name": "ipython",
    "version": 3
   },
   "file_extension": ".py",
   "mimetype": "text/x-python",
   "name": "python",
   "nbconvert_exporter": "python",
   "pygments_lexer": "ipython3",
   "version": "3.10.13"
  }
 },
 "nbformat": 4,
 "nbformat_minor": 5
}
