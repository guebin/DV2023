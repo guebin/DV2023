{
  "cells": [
    {
      "cell_type": "markdown",
      "metadata": {},
      "source": [
        "# 08wk-2: Pandas – `groupby`, 데이터프레임의 결합\n",
        "\n",
        "최규빈  \n",
        "2023-10-25\n",
        "\n",
        "<a href=\"https://colab.research.google.com/github/guebin/DV2023/blob/main/posts/08wk-2.ipynb\"><img src=\"https://colab.research.google.com/assets/colab-badge.svg\" style=\"text-align: left\"></a>\n",
        "\n",
        "# 1. 강의영상\n",
        "\n",
        "<https://youtu.be/playlist?list=PLQqh36zP38-y9urI5GRsnJd1ERI3k2K5B&si=8GWtBaGXOXQgmo-6>\n",
        "\n",
        "# 2. Imports"
      ],
      "id": "30a69083-f710-408b-8e10-d7a1c6f8bfae"
    },
    {
      "cell_type": "code",
      "execution_count": 2,
      "metadata": {
        "tags": []
      },
      "outputs": [],
      "source": [
        "import pandas as pd \n",
        "import numpy as np"
      ],
      "id": "cell-5"
    },
    {
      "cell_type": "markdown",
      "metadata": {},
      "source": [
        "# 3. `groupby`\n",
        "\n",
        "## A. DataFrameGroupBy\n",
        "\n",
        "`-` `groupby` + `agg` 의 복습"
      ],
      "id": "c06eb1ac-9960-4b09-b436-bf5432de7ed1"
    },
    {
      "cell_type": "code",
      "execution_count": 3,
      "metadata": {
        "tags": []
      },
      "outputs": [],
      "source": [
        "df = pd.DataFrame({'department':['A','A','B','B'], 'gender':['male','female','male','female'],'count':[1,2,3,1]})\n",
        "df"
      ],
      "id": "cell-9"
    },
    {
      "cell_type": "code",
      "execution_count": 7,
      "metadata": {
        "tags": []
      },
      "outputs": [],
      "source": [
        "df.groupby('department').agg({'count':'sum'})"
      ],
      "id": "cell-10"
    },
    {
      "cell_type": "markdown",
      "metadata": {},
      "source": [
        "`-` 의문: 위의 코드에서 `df.groupby('department')`는 어떤 object일까?"
      ],
      "id": "eb8fe66c-b211-43e6-b8c9-c994d2e85797"
    },
    {
      "cell_type": "code",
      "execution_count": 9,
      "metadata": {
        "tags": []
      },
      "outputs": [],
      "source": [
        "g = df.groupby('department')\n",
        "g"
      ],
      "id": "cell-12"
    },
    {
      "cell_type": "code",
      "execution_count": 29,
      "metadata": {
        "tags": []
      },
      "outputs": [],
      "source": [
        "set(dir(g)) & {'__iter__'} # g는 반복문을 돌리기 유리하게 설계되어 있음"
      ],
      "id": "cell-13"
    },
    {
      "cell_type": "code",
      "execution_count": 26,
      "metadata": {
        "tags": []
      },
      "outputs": [],
      "source": [
        "list(g) # for문의 반복인자는 ('A',sub-dataframe)와 같은 형식의 tuple임"
      ],
      "id": "cell-14"
    },
    {
      "cell_type": "markdown",
      "metadata": {},
      "source": [
        "오브젝트 `g`는\n",
        "\n",
        "1.  sub-dataframe 이 모여있는 묶음체이다.\n",
        "2.  반복문을 돌리기에 용이하도록 고안되어있다. (이때 각 반복인자는\n",
        "    `(묵음기준,sub-dataframe)`의 튜플로 이루어져 있음)\n",
        "\n",
        "`-` 제가 이해하는 방식"
      ],
      "id": "d36ece85-5c91-4b82-8b09-d9aa2c25efdf"
    },
    {
      "cell_type": "code",
      "execution_count": 36,
      "metadata": {
        "tags": []
      },
      "outputs": [],
      "source": [
        "dct = {k:df for k,df in g}\n",
        "dct "
      ],
      "id": "cell-17"
    },
    {
      "cell_type": "code",
      "execution_count": 38,
      "metadata": {
        "tags": []
      },
      "outputs": [],
      "source": [
        "display(dct['A'])\n",
        "display(dct['B'])"
      ],
      "id": "cell-18"
    },
    {
      "cell_type": "markdown",
      "metadata": {},
      "source": [
        "## B. `g`를 이용하는 방법\n",
        "\n",
        "`# 예시1`: `g`를 이용하여 원래의 df를 복원하라."
      ],
      "id": "299db688-fff5-4cfa-ac3f-5f44c5d04707"
    },
    {
      "cell_type": "code",
      "execution_count": 39,
      "metadata": {
        "tags": []
      },
      "outputs": [],
      "source": [
        "df = pd.DataFrame({'department':['A','A','B','B'], 'gender':['male','female','male','female'],'count':[1,2,3,1]})\n",
        "g = df.groupby('department')"
      ],
      "id": "cell-21"
    },
    {
      "cell_type": "markdown",
      "metadata": {},
      "source": [
        "(풀이)"
      ],
      "id": "39b7bf14-0acc-4c29-a19d-2b9b87c4ca71"
    },
    {
      "cell_type": "code",
      "execution_count": 44,
      "metadata": {
        "tags": []
      },
      "outputs": [],
      "source": [
        "pd.concat([df for _,df in g])"
      ],
      "id": "cell-23"
    },
    {
      "cell_type": "markdown",
      "metadata": {},
      "source": [
        "`#`\n",
        "\n",
        "`# 예시2`: `g`를 이용하여 아래와 동일한 기능을 하는 코드를 작성하라.\n",
        "(agg 함수 사용금지)"
      ],
      "id": "6ff15156-d052-4101-a66f-936d8dfef8dc"
    },
    {
      "cell_type": "code",
      "execution_count": 45,
      "metadata": {
        "tags": []
      },
      "outputs": [],
      "source": [
        "df = pd.DataFrame({'department':['A','A','B','B'], 'gender':['male','female','male','female'],'count':[1,2,3,1]})\n",
        "df.groupby('department').agg({'count':'sum'})"
      ],
      "id": "cell-26"
    },
    {
      "cell_type": "markdown",
      "metadata": {},
      "source": [
        "(풀이)"
      ],
      "id": "eba0ef61-6e4a-4ac7-94cd-6f86572caba8"
    },
    {
      "cell_type": "code",
      "execution_count": 48,
      "metadata": {
        "tags": []
      },
      "outputs": [],
      "source": [
        "g = df.groupby('department')\n",
        "g"
      ],
      "id": "cell-28"
    },
    {
      "cell_type": "code",
      "execution_count": 57,
      "metadata": {
        "tags": []
      },
      "outputs": [],
      "source": [
        "pd.DataFrame(pd.Series({k:df['count'].sum() for k,df in g}))"
      ],
      "id": "cell-29"
    },
    {
      "cell_type": "markdown",
      "metadata": {},
      "source": [
        "`#`\n",
        "\n",
        "`# 예시3`: 아래는 데이터프레임이 있다고 치자. 이 데이터프레임을 `class`\n",
        "를 기준으로 그룹핑하여 sub-dataframe을 만들고 score가 높은 순서로\n",
        "정렬하는 코드를 작성하라."
      ],
      "id": "7ca05fbf-df60-4449-820d-0ef9692cf18e"
    },
    {
      "cell_type": "code",
      "execution_count": 58,
      "metadata": {
        "tags": []
      },
      "outputs": [],
      "source": [
        "df = pd.DataFrame({'class':['A']*5+['B']*5, 'id':[0,1,2,3,4]*2, 'score':[60,20,40,60,90,20,30,90,95,95]})\n",
        "df"
      ],
      "id": "cell-32"
    },
    {
      "cell_type": "markdown",
      "metadata": {},
      "source": [
        "(풀이)"
      ],
      "id": "273387a0-092c-4da2-80dd-6d9e2f60b729"
    },
    {
      "cell_type": "code",
      "execution_count": 62,
      "metadata": {
        "tags": []
      },
      "outputs": [],
      "source": [
        "pd.concat([df.sort_values('score',ascending=False) for k,df in df.groupby('class')])"
      ],
      "id": "cell-34"
    },
    {
      "cell_type": "markdown",
      "metadata": {},
      "source": [
        "`#`\n",
        "\n",
        "# 4. `concat`"
      ],
      "id": "43191be9-5073-4bb5-bcb8-2bffcd0a89ec"
    },
    {
      "cell_type": "code",
      "execution_count": 95,
      "metadata": {
        "tags": []
      },
      "outputs": [],
      "source": [
        "pass "
      ],
      "id": "cell-37"
    },
    {
      "cell_type": "markdown",
      "metadata": {},
      "source": [
        "# 5. `merge`\n",
        "\n",
        "## A. 가장 빈번하게 사용하는 상황\n",
        "\n",
        "`# 예시1` – `big` dataframe에 `groupby`+`agg`를 사용하여 `small`\n",
        "dataframe이 생긴경우"
      ],
      "id": "539bf192-5d8a-4a58-93f1-14972d18d015"
    },
    {
      "cell_type": "code",
      "execution_count": 79,
      "metadata": {
        "tags": []
      },
      "outputs": [],
      "source": [
        "big = pd.DataFrame({'department':['A','A','B','B'], 'gender':['male','female','male','female'],'count':[1,2,3,1]})\n",
        "small = pd.DataFrame({'department':['A','B'], 'count_sum':[3,4]})"
      ],
      "id": "cell-41"
    },
    {
      "cell_type": "code",
      "execution_count": 80,
      "metadata": {
        "tags": []
      },
      "outputs": [],
      "source": [
        "display(\"big\",big)\n",
        "display(\"small\",small)"
      ],
      "id": "cell-42"
    },
    {
      "cell_type": "markdown",
      "metadata": {},
      "source": [
        "`-` 정보를 종합하기 위해서는 아래와 같이 하면 된다."
      ],
      "id": "dc57135c-e10f-4c0e-8c69-534ae999988c"
    },
    {
      "cell_type": "code",
      "execution_count": 81,
      "metadata": {
        "tags": []
      },
      "outputs": [],
      "source": [
        "pd.merge(big,small)\n",
        "big.merge(small)\n",
        "#---#\n",
        "pd.merge(small,big)\n",
        "small.merge(big)"
      ],
      "id": "cell-44"
    },
    {
      "cell_type": "markdown",
      "metadata": {},
      "source": [
        "`-` merge에 대한 약간의 개념\n",
        "\n",
        "-   상황: 두 데이터프레임은 특정한 **IndexLabel**에 대하여 **서로 다른\n",
        "    정보**를 각각 정리한 상황\n",
        "-   원리: (1) 연결고리파악: 두 데이터프레임에서 공통인 열(IndexLabel)을\n",
        "    찾는다. (2) 병합: 연결고리를 기준으로 데이터의 정보를 병합한다.\n",
        "\n",
        "**이 예시의 경우**\n",
        "\n",
        "-   IndexLabel = 연결고리 = 공통의열 = `department`\n",
        "-   서로다른정보들: 이 예제에서 big은 `department`에 대한 `gender`와\n",
        "    `count`를 정리하고 있음. 그리고 small은 `department`에 대한\n",
        "    `count_sum`을 정리하고 있음. 이는 서로 다른 정보임.\n",
        "\n",
        "***배울게 좀 더 남음: 사실 아래는 같은 코드이다.***"
      ],
      "id": "739db8e6-7b25-474b-bb82-e218576b07f3"
    },
    {
      "cell_type": "code",
      "execution_count": 86,
      "metadata": {
        "tags": []
      },
      "outputs": [],
      "source": [
        "pd.merge(big,small)\n",
        "pd.merge(big,small, on='department')"
      ],
      "id": "cell-48"
    },
    {
      "cell_type": "markdown",
      "metadata": {},
      "source": [
        "`#`\n",
        "\n",
        "## B. 여러가지 파라메터\n",
        "\n",
        "`# 예시1` – on"
      ],
      "id": "73b25967-f374-4714-81b1-72644a27ef43"
    },
    {
      "cell_type": "code",
      "execution_count": 92,
      "metadata": {
        "tags": []
      },
      "outputs": [],
      "source": [
        "big = pd.DataFrame({'department':['A','A','B','B'], 'gender':['male','female','male','female'],'count':[1,2,3,1]})\n",
        "small = big.groupby('department').agg({'count':'sum'}).reset_index()\n",
        "display(\"big\",big)\n",
        "display(\"small\",small)"
      ],
      "id": "cell-52"
    },
    {
      "cell_type": "markdown",
      "metadata": {},
      "source": [
        "`-` 잘못된 코드"
      ],
      "id": "6348e195-cd05-48f4-882f-a3963e1a44ef"
    },
    {
      "cell_type": "code",
      "execution_count": 97,
      "metadata": {
        "tags": []
      },
      "outputs": [],
      "source": [
        "pd.merge(big,small)"
      ],
      "id": "cell-54"
    },
    {
      "cell_type": "markdown",
      "metadata": {},
      "source": [
        "`-` 올바른 코드"
      ],
      "id": "a8cf8c06-b996-4c3b-b49c-d35a6f0c3e44"
    },
    {
      "cell_type": "code",
      "execution_count": 100,
      "metadata": {
        "tags": []
      },
      "outputs": [],
      "source": [
        "pd.merge(big,small,on='department')"
      ],
      "id": "cell-56"
    },
    {
      "cell_type": "markdown",
      "metadata": {},
      "source": [
        "`*` 더(?) 올바른 코드 – 좀 더 제 스타일의 코드"
      ],
      "id": "17ece460-52c7-442b-b4b0-134258459a44"
    },
    {
      "cell_type": "code",
      "execution_count": 105,
      "metadata": {
        "tags": []
      },
      "outputs": [],
      "source": [
        "pd.merge(big,small.rename({'count':'count_sum'},axis=1))"
      ],
      "id": "cell-58"
    },
    {
      "cell_type": "markdown",
      "metadata": {},
      "source": [
        "***배울게 좀 더 남음: 사실 아래는 같은 코드이다.***"
      ],
      "id": "a4568c00-3f6d-4eed-bf9f-12eebf8fb51b"
    },
    {
      "cell_type": "code",
      "execution_count": 108,
      "metadata": {
        "tags": []
      },
      "outputs": [],
      "source": [
        "pd.merge(big,small,on='department')\n",
        "pd.merge(big,small,left_on='department', right_on='department')"
      ],
      "id": "cell-60"
    },
    {
      "cell_type": "markdown",
      "metadata": {},
      "source": [
        "`#`\n",
        "\n",
        "`# 예시2` – left_on, right_on"
      ],
      "id": "7824e382-5ad6-4304-a47a-13892dd40d34"
    },
    {
      "cell_type": "code",
      "execution_count": 110,
      "metadata": {
        "tags": []
      },
      "outputs": [],
      "source": [
        "big = pd.DataFrame({'department':['A','A','B','B'], 'gender':['male','female','male','female'],'count':[1,2,3,1]})\n",
        "small = pd.DataFrame({'dept':['A','B'], 'count':[3,4]})\n",
        "display(\"big\",big)\n",
        "display(\"small\",small)"
      ],
      "id": "cell-63"
    },
    {
      "cell_type": "markdown",
      "metadata": {},
      "source": [
        "-   공통의 열이 오히려 ‘count’ 이고 서로 다른 정보들은\n",
        "    ‘gender’,‘department’,‘dept’ 이다.\n",
        "\n",
        "`-` 잘못된 코드"
      ],
      "id": "6a11fc31-bdfe-4ace-b340-9ab0dd9080a1"
    },
    {
      "cell_type": "code",
      "execution_count": 112,
      "metadata": {
        "tags": []
      },
      "outputs": [],
      "source": [
        "pd.merge(big,small)"
      ],
      "id": "cell-66"
    },
    {
      "cell_type": "markdown",
      "metadata": {},
      "source": [
        "`-` 올바른 코드"
      ],
      "id": "0f16a01d-ca1e-4fb2-b494-75df0cce2091"
    },
    {
      "cell_type": "code",
      "execution_count": 126,
      "metadata": {
        "tags": []
      },
      "outputs": [],
      "source": [
        "pd.merge(big,small,left_on='department',right_on='dept')"
      ],
      "id": "cell-68"
    },
    {
      "cell_type": "markdown",
      "metadata": {},
      "source": [
        "`*` 좀 더 제 스타일의 코드"
      ],
      "id": "a880f54e-e612-42a3-b79d-ea231d9a880b"
    },
    {
      "cell_type": "code",
      "execution_count": 118,
      "metadata": {
        "tags": []
      },
      "outputs": [],
      "source": [
        "pd.merge(big,small.set_axis(['department','count_sum'],axis=1))"
      ],
      "id": "cell-70"
    },
    {
      "cell_type": "markdown",
      "metadata": {},
      "source": [
        "`#`\n",
        "\n",
        "`# 예제3`: how"
      ],
      "id": "9a3167c1-4341-4a3b-8964-54a872c0bef1"
    },
    {
      "cell_type": "code",
      "execution_count": 128,
      "metadata": {
        "tags": []
      },
      "outputs": [],
      "source": [
        "df1 = pd.DataFrame({\n",
        "    'dept':['통계','수학','과학','IAB'], \n",
        "    'count':[20,30,25,50]\n",
        "})\n",
        "df2 = pd.DataFrame({\n",
        "    'dept':['통계','수학','과학','신설학과'], \n",
        "    'desc':['통계학과는...','수학과는...','과학학과는...','이 학과는 내년에 신설될 예정이고...']\n",
        "})\n",
        "display(\"df1\",df1)\n",
        "display(\"df2\",df2)"
      ],
      "id": "cell-73"
    },
    {
      "cell_type": "markdown",
      "metadata": {},
      "source": [
        "-   공통의열인 `dept`와 서로다른 정보인 `count`, `desc` 들의 이름이\n",
        "    예쁘게 정리되어 있어 `on`, `left_on`, `right_on` 와 같은 파라메터를\n",
        "    사용할 필요가 없다."
      ],
      "id": "b0a87bc9-42ec-4fae-8d7b-2b58fc922de4"
    },
    {
      "cell_type": "code",
      "execution_count": 130,
      "metadata": {
        "tags": []
      },
      "outputs": [],
      "source": [
        "pd.merge(df1,df2) # IAB, 신설학과는 사라짐"
      ],
      "id": "cell-75"
    },
    {
      "cell_type": "markdown",
      "metadata": {},
      "source": [
        "`-` 상황: IAB 학과는 df1에만, 신설학과는 df2에만 존재한다. $\\to$ IAB와\n",
        "신설학과를 처리하는 방식에 따라서 4가지 경우로 나누어진다."
      ],
      "id": "a8d5ea33-a3ec-4e76-9276-22cb01585351"
    },
    {
      "cell_type": "code",
      "execution_count": 133,
      "metadata": {
        "tags": []
      },
      "outputs": [],
      "source": [
        "# 경우1: 두 학과 모두 제거 = 두 데이터프레임의 공통만 취함\n",
        "pd.merge(df1,df2)\n",
        "pd.merge(df1,df2,how='inner')"
      ],
      "id": "cell-77"
    },
    {
      "cell_type": "code",
      "execution_count": 134,
      "metadata": {
        "tags": []
      },
      "outputs": [],
      "source": [
        "# 경우2: IAB만 살림 = 왼쪽 데이터프레임에 포함된 모든 학과는 살림\n",
        "pd.merge(df1,df2)\n",
        "pd.merge(df1,df2,how='left')"
      ],
      "id": "cell-78"
    },
    {
      "cell_type": "code",
      "execution_count": 138,
      "metadata": {
        "tags": []
      },
      "outputs": [],
      "source": [
        "# 경우3: 신설학과만 살람 = 오른쪽 데이터프레임에 포함된 모든학과를 살람\n",
        "pd.merge(df1,df2)\n",
        "pd.merge(df1,df2,how='right')"
      ],
      "id": "cell-79"
    },
    {
      "cell_type": "code",
      "execution_count": 136,
      "metadata": {
        "tags": []
      },
      "outputs": [],
      "source": [
        "# 경우4: 두 학과 모두 살림\n",
        "pd.merge(df1,df2)\n",
        "pd.merge(df1,df2,how='outer')"
      ],
      "id": "cell-80"
    },
    {
      "cell_type": "markdown",
      "metadata": {},
      "source": [
        "# 6. `concat`, `merge` 를 이용한 데이터 합치기\n",
        "\n",
        "`# 예제` – 전북대학교 통계학과 교과목\n",
        "\n",
        "주어진 자료가 아래와 같다."
      ],
      "id": "e9699826-4d61-406c-a6b3-a043f9ffa3ad"
    },
    {
      "cell_type": "code",
      "execution_count": 140,
      "metadata": {
        "tags": []
      },
      "outputs": [],
      "source": [
        "df_course2023 = pd.DataFrame({\n",
        "    'name':['최규빈']*3+['최혜미']*2+['이영미']+['양성준'],\n",
        "    'year':[2023]*7,\n",
        "    'course':['파이썬프로그래밍', '데이터시각화', '기계학습활용','수리통계1', '수리통계2','회귀분석1','통계수학']})\n",
        "df_course2023"
      ],
      "id": "cell-84"
    },
    {
      "cell_type": "code",
      "execution_count": 141,
      "metadata": {
        "tags": []
      },
      "outputs": [],
      "source": [
        "df_course2024 = pd.DataFrame({\n",
        "    'name':['최규빈','이영미','이영미','양성준','최혜미'],\n",
        "    'year':[2024]*5,\n",
        "    'course':['기계학습활용','수리통계1', '수리통계2','회귀분석1','통계수학']})\n",
        "df_course2024"
      ],
      "id": "cell-85"
    },
    {
      "cell_type": "code",
      "execution_count": 142,
      "metadata": {
        "tags": []
      },
      "outputs": [],
      "source": [
        "df_score = pd.DataFrame({\n",
        "    'name':['최규빈','최규빈','이영미','이영미','양성준','양성준','최혜미','최혜미'],\n",
        "    'year':[2023,2024]*4,\n",
        "    'score':[1, 1.2, 5,5,5,5,5,5]})\n",
        "df_score"
      ],
      "id": "cell-86"
    },
    {
      "cell_type": "code",
      "execution_count": 150,
      "metadata": {
        "tags": []
      },
      "outputs": [],
      "source": [
        "df_sex = pd.DataFrame({'name':['최규빈','이영미','양성준','최혜미'],\n",
        "                        'sex':['male','female','male','female']})\n",
        "df_sex"
      ],
      "id": "cell-87"
    },
    {
      "cell_type": "markdown",
      "metadata": {},
      "source": [
        "주어진 정보를 바탕으로, 4개의 데이터 프레임을 결합하라.\n",
        "\n",
        "(풀이)"
      ],
      "id": "f0983e92-312f-4e72-91b6-505be219d366"
    },
    {
      "cell_type": "code",
      "execution_count": 152,
      "metadata": {
        "tags": []
      },
      "outputs": [],
      "source": [
        "pd.concat([df_course2023,df_course2024])\\\n",
        ".merge(df_score, on=['name','year'])\\\n",
        ".merge(df_sex, on='name')"
      ],
      "id": "cell-90"
    },
    {
      "cell_type": "markdown",
      "metadata": {},
      "source": [
        "`#`\n",
        "\n",
        "# 7. HW\n",
        "\n",
        "없음"
      ],
      "id": "21e8301b-e453-4de0-bc98-bee444d34b65"
    }
  ],
  "nbformat": 4,
  "nbformat_minor": 5,
  "metadata": {
    "kernelspec": {
      "name": "python3",
      "display_name": "Python 3 (ipykernel)",
      "language": "python"
    },
    "language_info": {
      "name": "python",
      "codemirror_mode": {
        "name": "ipython",
        "version": "3"
      },
      "file_extension": ".py",
      "mimetype": "text/x-python",
      "nbconvert_exporter": "python",
      "pygments_lexer": "ipython3",
      "version": "3.10.13"
    }
  }
}