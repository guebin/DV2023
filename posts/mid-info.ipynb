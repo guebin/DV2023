{
 "cells": [
  {
   "cell_type": "raw",
   "id": "e42a7601-bace-4fdf-ac38-a6cf3e90e12d",
   "metadata": {
    "tags": []
   },
   "source": [
    "---\n",
    "title: \"supp-3: 중간고사 관련 안내사항\"\n",
    "author: \"최규빈\"\n",
    "date: \"10/26/2023\"\n",
    "draft: false\n",
    "---"
   ]
  },
  {
   "cell_type": "markdown",
   "id": "87e5df6c-c055-42fe-83ee-9bc4ccbe6d83",
   "metadata": {
    "tags": []
   },
   "source": [
    "{{<video https://youtu.be/playlist?list=PLQqh36zP38-woyh7udw9WegOqZpLU_Yte&si=Z6ze4oWblcHvFEwZ >}}"
   ]
  },
  {
   "cell_type": "markdown",
   "id": "cc063800",
   "metadata": {},
   "source": [
    "# 1. 시험시간 \n"
   ]
  },
  {
   "cell_type": "markdown",
   "id": "5c09f160",
   "metadata": {},
   "source": [
    "`-` 일시: 2023-10-30, 16:00~ 17:50 \n",
    "\n",
    "`-` 시험시간 중 처음 20분은 장비점검시간으로 활용함 (단, 모든 사람이 준비될 경우 20분을 기다리지 않고 시작) "
   ]
  },
  {
   "cell_type": "markdown",
   "id": "8fbebd5a",
   "metadata": {},
   "source": [
    "> Note: 따라서 1시간50분이 시험시간인 경우 실질적으로 문제를 풀고 답안을 제출할때 까지 쓸 수 있는 시간은 1시간30분입니다."
   ]
  },
  {
   "cell_type": "markdown",
   "id": "96e1b28c-61e6-42a9-bad7-d54e567e10b0",
   "metadata": {
    "tags": []
   },
   "source": [
    "# 2. 시험방식\n"
   ]
  },
  {
   "cell_type": "markdown",
   "id": "94ddc9f9-b5c7-4406-b2ff-bca59d9c7a19",
   "metadata": {},
   "source": [
    "`-` 오픈북: 강의노트 및 본인이 정리한 노트 참고 가능. 인터넷 검색 가능, ChatGPT 사용 가능 (유료버전의 ChatGPT도 사용가능)\n",
    "\n",
    "`-` 비대면 응시를 원칙으로 함. 다만 비대면 시험장소를 구하기 용이하지 않을 경우는 대면응시도 허용함. (즉, 대면/비대면 선택)\n",
    "\n",
    "`-` 대면응시자는 아래의 장소로 모여서 응시\n",
    "\n",
    "- 전북대학교: 학습도서관 203호\n",
    "- 충남대학교: 사범대학 1호관 (글로벌인재양성센터) 108호\n",
    "\n"
   ]
  },
  {
   "cell_type": "markdown",
   "id": "b27bb725",
   "metadata": {},
   "source": [
    "# 3. 시험문제 공개방식 \n",
    "\n"
   ]
  },
  {
   "cell_type": "markdown",
   "id": "b630e715",
   "metadata": {},
   "source": [
    "`-` 강의노트 홈페이지에 upload할 예정"
   ]
  },
  {
   "cell_type": "markdown",
   "id": "69bdf038",
   "metadata": {},
   "source": [
    "# 4. 제출방식 "
   ]
  },
  {
   "cell_type": "markdown",
   "id": "b5f950ea",
   "metadata": {},
   "source": [
    "`-` LMS의 레포트 메뉴를 활용하여 답안지를 제출 (종료시간 이전에 미리 제출가능) \n",
    "\n",
    "`-` 제출양식은 주피터 노트북으로 한다."
   ]
  },
  {
   "cell_type": "markdown",
   "id": "43c09af5",
   "metadata": {},
   "source": [
    "---"
   ]
  },
  {
   "cell_type": "markdown",
   "id": "5f80e4d0",
   "metadata": {},
   "source": [
    "# `#` 비대면응시 관련 세부지침"
   ]
  },
  {
   "cell_type": "markdown",
   "id": "aababe10",
   "metadata": {},
   "source": [
    "## A. 준비물 "
   ]
  },
  {
   "cell_type": "markdown",
   "id": "31631033",
   "metadata": {},
   "source": [
    "`-` 컴퓨터, 노트북, 아이패드 등: 시험지 확인 및 문제풀이 용도 "
   ]
  },
  {
   "cell_type": "markdown",
   "id": "8bbf0ee0",
   "metadata": {},
   "source": [
    "`-` 핸드폰: Zoom을 통하여 주변상황을 및 컴퓨터 화면을 촬영하는 용도 + 학생증 촬영 용도"
   ]
  },
  {
   "cell_type": "markdown",
   "id": "2051b61f",
   "metadata": {},
   "source": [
    "> Note: 중간에 핸드폰 및 노트북이 꺼지지 않도록 배터리 충전기를 준비한다. "
   ]
  },
  {
   "cell_type": "markdown",
   "id": "b53ac5e7",
   "metadata": {},
   "source": [
    "`-` 학생증: 본인 인증 용도 (대리시험 방지)"
   ]
  },
  {
   "cell_type": "markdown",
   "id": "c24eae88-359b-422f-bc96-9aec043f140c",
   "metadata": {},
   "source": [
    ":::{.callout-important}\n",
    "\n",
    "학생증이 없는 경우 신분증 (주민등록증/여권/운전면허증) 으로 대체가능함.\n",
    ":::"
   ]
  },
  {
   "cell_type": "markdown",
   "id": "388139d0",
   "metadata": {},
   "source": [
    "## B. 시험전 준비사항 (16:00~16:20)"
   ]
  },
  {
   "cell_type": "markdown",
   "id": "20b2ee2e",
   "metadata": {},
   "source": [
    "`-` LMS $\\to$ 강의대화 $\\to$ Zoom 화상강의 바로 가기로 입장 \n",
    "\n",
    "- 핸드폰, 컴퓨터 모두 입장 할 것 \n",
    "- 핸드폰은 주변상황 촬영용도 + 학생증 촬영용도 \n",
    "- 컴퓨터는 질문을 위한 용도"
   ]
  },
  {
   "cell_type": "markdown",
   "id": "95de49fa",
   "metadata": {},
   "source": [
    "`-` 줌의 대화명은 소속,이름,기기,학번을 순서대로 적는다. (예시: 전북대_최규빈_핸드폰_202143052)"
   ]
  },
  {
   "cell_type": "markdown",
   "id": "a16b9465",
   "metadata": {},
   "source": [
    "> Note: 동명이인이 있을 수 있으므로 학번을 같이 적으세요"
   ]
  },
  {
   "cell_type": "markdown",
   "id": "f4b84a2a",
   "metadata": {},
   "source": [
    "`-` 핸드폰을 아래와 같이 배치하여 학생의 컴퓨터 화면 및 주변상황이 보이도록 한다.\n",
    "\n",
    "![](https://github.com/guebin/2021IR/blob/master/_notebooks/img.png?raw=true)\n",
    "\n",
    "> Note: 적절한 각도를 설정하기 어려운 경우 주변환경보다 컴퓨터의 화면이 잘 보이도록 설정할 것 "
   ]
  },
  {
   "cell_type": "markdown",
   "id": "c91522a4",
   "metadata": {},
   "source": [
    "`-` 학생증을 준비하여 시험 시작 직전에 본인의 얼굴과 학생증을 함께 촬영한다. (5초간) "
   ]
  },
  {
   "cell_type": "markdown",
   "id": "57149d4d",
   "metadata": {},
   "source": [
    "## C. 시험시간 중 유의사항 (16:20~17:50)"
   ]
  },
  {
   "cell_type": "markdown",
   "id": "e9a296ec",
   "metadata": {},
   "source": [
    "`-` 질문은 줌의 채팅기능을 이용한다. (하울링 방지를 위해 육성질문은 하지 않음) "
   ]
  },
  {
   "cell_type": "markdown",
   "id": "3f9733f5",
   "metadata": {},
   "source": [
    "`-` Zoom에서 스피커 음소거를 하지 않는다. (전체 공지사항등이 있을때 음성으로 공지함) "
   ]
  },
  {
   "cell_type": "markdown",
   "id": "5026f72b",
   "metadata": {},
   "source": [
    "`-` 핸드폰으로 Zoom참가 중 전화가 오면 거절하고 받지 않는다. (전화통화시 Zoom연결이 종료되므로 부정행위로 의심할 수 있음) "
   ]
  },
  {
   "cell_type": "markdown",
   "id": "90c97848",
   "metadata": {},
   "source": [
    "`-` 카카오톡 등 메신저앱을 공유하여 코드공유를 할 경우 F 처리함. "
   ]
  },
  {
   "cell_type": "markdown",
   "id": "e8ef1b51",
   "metadata": {},
   "source": [
    "# `#` 대면응시 관련 세부지침"
   ]
  },
  {
   "cell_type": "markdown",
   "id": "d5b7414a",
   "metadata": {},
   "source": [
    "## A. 준비물 "
   ]
  },
  {
   "cell_type": "markdown",
   "id": "66f55247",
   "metadata": {},
   "source": [
    "`-` 개인노트북, 아이패드 등: 시험지 확인 및 문제풀이 용도"
   ]
  },
  {
   "cell_type": "markdown",
   "id": "7fa6a67c",
   "metadata": {},
   "source": [
    "`-` 휴대폰: 학생증촬영용도"
   ]
  },
  {
   "cell_type": "markdown",
   "id": "91063c33-cf58-4a90-a433-9222d64652f5",
   "metadata": {},
   "source": [
    "`-` 학생증: 본인 인증 용도 (대리시험 방지)"
   ]
  },
  {
   "cell_type": "markdown",
   "id": "ed3d3fec-784e-460a-85ef-76206c75dd48",
   "metadata": {},
   "source": [
    ":::{.callout-important}\n",
    "\n",
    "학생증이 없는 경우 신분증 (주민등록증/여권/운전면허증) 으로 대체가능함.\n",
    ":::"
   ]
  },
  {
   "cell_type": "markdown",
   "id": "a85c5fbf",
   "metadata": {},
   "source": [
    "## B. 시험전 준비사항 (16:00~16:20)"
   ]
  },
  {
   "cell_type": "markdown",
   "id": "0a39e80e",
   "metadata": {},
   "source": [
    "`-` LMS $\\to$ 강의대화 $\\to$ Zoom 화상강의 바로 가기로 입장 (컴퓨터+핸드폰 모두 입장)\n",
    "\n",
    "- 핸드폰, 컴퓨터 모두 입장 할 것 \n",
    "- 핸드폰은 학생증 촬영용도 (촬영이후 핸드폰은 줌에서 나가도 무방)\n",
    "- 컴퓨터는 질문을 위한 용도"
   ]
  },
  {
   "cell_type": "markdown",
   "id": "70165250",
   "metadata": {},
   "source": [
    "`-` 줌의 대화명은 소속,이름,기기,학번을 순서대로 적는다. (예시: 전북대_최규빈_핸드폰_202143052)"
   ]
  },
  {
   "cell_type": "markdown",
   "id": "58568f00",
   "metadata": {},
   "source": [
    "> Note: 동명이인이 있을 수 있으므로 학번을 같이 적으세요"
   ]
  },
  {
   "cell_type": "markdown",
   "id": "59c38cd0",
   "metadata": {},
   "source": [
    "`-` 학생증을 준비하여 시험 시작 직전에 본인의 얼굴과 학생증을 함께 촬영한다. (5초간) "
   ]
  },
  {
   "cell_type": "markdown",
   "id": "b8931e86",
   "metadata": {},
   "source": [
    "## C. 시험시간 중 유의사항 (16:20~17:50)"
   ]
  },
  {
   "cell_type": "markdown",
   "id": "2f40f25c",
   "metadata": {},
   "source": [
    "`-` 질문은 줌의 채팅기능을 이용한다. \n",
    "\n",
    "- 제가 앞에 있더라도 줌으로 질문해주세요 (비대면응시자들과의 형평성을 위해서)"
   ]
  },
  {
   "cell_type": "markdown",
   "id": "6354afe1",
   "metadata": {},
   "source": [
    "`-` 카카오톡 등 메신저앱을 공유하여 코드공유를 할 경우 F 처리함. "
   ]
  },
  {
   "cell_type": "markdown",
   "id": "c01b60ff",
   "metadata": {},
   "source": [
    "--- "
   ]
  },
  {
   "cell_type": "markdown",
   "id": "3be7835e",
   "metadata": {},
   "source": [
    "# `#` ChatGPT 유료버전에 대하여 "
   ]
  },
  {
   "cell_type": "markdown",
   "id": "7612fb60",
   "metadata": {},
   "source": [
    "`-` 유료버전을 사용하여도 치팅아님 (그림입력이 가능하다는 장점이 있음)\n",
    "\n",
    "- 추천하진 않음 \n",
    "- ChatGPT를 유료버전을 사용해야만 풀 수 있는 문제는 출제하지 않음. "
   ]
  }
 ],
 "metadata": {
  "kernelspec": {
   "display_name": "Python 3 (ipykernel)",
   "language": "python",
   "name": "python3"
  },
  "language_info": {
   "codemirror_mode": {
    "name": "ipython",
    "version": 3
   },
   "file_extension": ".py",
   "mimetype": "text/x-python",
   "name": "python",
   "nbconvert_exporter": "python",
   "pygments_lexer": "ipython3",
   "version": "3.10.13"
  }
 },
 "nbformat": 4,
 "nbformat_minor": 5
}
