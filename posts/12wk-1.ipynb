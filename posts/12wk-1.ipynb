{
 "cells": [
  {
   "cell_type": "raw",
   "id": "325ab9ed-4110-43b0-81f3-23bb086f9e7b",
   "metadata": {},
   "source": [
    "---\n",
    "title: \"12wk-1: ???\"\n",
    "author: \"최규빈\"\n",
    "date: \"11/20/2023\"\n",
    "draft: true\n",
    "execute: \n",
    "  enabled: true\n",
    "  cache: false\n",
    "  freeze: false\n",
    "categories:\n",
    "  - plotly\n",
    "---"
   ]
  },
  {
   "cell_type": "markdown",
   "id": "91a92992-055b-428d-aba4-550be02eac37",
   "metadata": {},
   "source": [
    "<a href=\"https://colab.research.google.com/github/guebin/DV2023/blob/main/posts/12wk-1.ipynb\"><img src=\"https://colab.research.google.com/assets/colab-badge.svg\" style=\"text-align: left\"></a>"
   ]
  },
  {
   "cell_type": "markdown",
   "id": "f37b149d-e756-4713-bc53-bab39b765c7c",
   "metadata": {},
   "source": [
    "# 1. 강의영상 "
   ]
  },
  {
   "cell_type": "markdown",
   "id": "4efe9f89-c71c-4dbf-942f-3db944a6ee62",
   "metadata": {},
   "source": [
    "{{<video https://youtu.be/playlist?list=PLQqh36zP38-wFUcEr7JtSb7MWUYl6QrW_&si=CmWA765p0mnwWTGA >}}"
   ]
  }
 ],
 "metadata": {
  "kernelspec": {
   "display_name": "Python 3 (ipykernel)",
   "language": "python",
   "name": "python3"
  },
  "language_info": {
   "codemirror_mode": {
    "name": "ipython",
    "version": 3
   },
   "file_extension": ".py",
   "mimetype": "text/x-python",
   "name": "python",
   "nbconvert_exporter": "python",
   "pygments_lexer": "ipython3",
   "version": "3.10.13"
  }
 },
 "nbformat": 4,
 "nbformat_minor": 5
}
