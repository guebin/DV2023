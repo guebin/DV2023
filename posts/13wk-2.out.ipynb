{
  "cells": [
    {
      "cell_type": "markdown",
      "metadata": {},
      "source": [
        "# 13wk-2: Pandas – `apply`, `map`, `applymap`\n",
        "\n",
        "최규빈  \n",
        "2023-11-29\n",
        "\n",
        "<a href=\"https://colab.research.google.com/github/guebin/DV2023/blob/main/posts/13wk-2.ipynb\"><img src=\"https://colab.research.google.com/assets/colab-badge.svg\" style=\"text-align: left\"></a>\n",
        "\n",
        "# 1. 강의영상\n",
        "\n",
        "<https://youtu.be/playlist?list=PLQqh36zP38-zXG48IUJyVy56_cRtuoouw&si=5Luw0g5BJz9lyN9p>\n",
        "\n",
        "# 2. Imports"
      ],
      "id": "d8f06b22-1592-4a8f-abf7-d71068b0e4fc"
    },
    {
      "cell_type": "code",
      "execution_count": 1,
      "metadata": {
        "tags": []
      },
      "outputs": [],
      "source": [
        "import numpy as np\n",
        "import pandas as pd"
      ],
      "id": "01fe1358-c052-4f83-8e8b-57e377b4aa16"
    },
    {
      "cell_type": "markdown",
      "metadata": {},
      "source": [
        "# 3. `apply`\n",
        "\n",
        "## A. Motive\n",
        "\n",
        "`-` 아래와 같은 상황이 있었다. (05wk-2의 숙제)"
      ],
      "id": "c1e62da6-e931-4c98-a8cd-690733e0f9ab"
    },
    {
      "cell_type": "code",
      "execution_count": 2,
      "metadata": {
        "tags": []
      },
      "outputs": [],
      "source": [
        "df = pd.DataFrame({'A':[1,2,3,4]})\n",
        "df"
      ],
      "id": "2e676a1e-79b5-43d2-bbc8-6d12a5aad752"
    },
    {
      "cell_type": "code",
      "execution_count": 3,
      "metadata": {
        "tags": []
      },
      "outputs": [],
      "source": [
        "df[['A']].apply(np.mean)"
      ],
      "id": "5d93f62f-78b7-4343-9fa9-a48a44121176"
    },
    {
      "cell_type": "code",
      "execution_count": 4,
      "metadata": {
        "tags": []
      },
      "outputs": [],
      "source": [
        "df['A'].apply(np.mean)"
      ],
      "id": "6cd54e47-4aaa-4276-b216-75effe1dfd0c"
    },
    {
      "cell_type": "markdown",
      "metadata": {},
      "source": [
        "## B. `s.apply()`\n",
        "\n",
        "`-` 가능한 형태는 아래와 같다.\n",
        "\n",
        "1.  변환함수(스칼라입력,스칼라출력): 로그, 제곱\n",
        "2.  변환함수(벡터입력,벡터출력): 표준화, 정렬\n",
        "3.  집계함수(벡터입력,스칼라출력): 평균, 최대값\n",
        "\n",
        "쓸모있는건 1 뿐이다.\n",
        "\n",
        "`# 예제1` – `s.apply` + 스칼라입력, 스칼라출력"
      ],
      "id": "655c69c3-93c6-47ba-8106-9a8df56fca52"
    },
    {
      "cell_type": "code",
      "execution_count": 197,
      "metadata": {
        "tags": []
      },
      "outputs": [],
      "source": [
        "s = pd.Series([1,2,3])\n",
        "s"
      ],
      "id": "cc4bb6de"
    },
    {
      "cell_type": "code",
      "execution_count": 198,
      "metadata": {
        "tags": []
      },
      "outputs": [],
      "source": [
        "s.apply(lambda x: -x)"
      ],
      "id": "95721c5a-0952-47f2-96d4-605863d91f32"
    },
    {
      "cell_type": "markdown",
      "metadata": {},
      "source": [
        "이건 사실 아래의 동작으로 이해하면 된다.\n",
        "\n",
        "    1 -> -1 \n",
        "    2 -> -2\n",
        "    3 -> -3 \n",
        "\n",
        "코드로는 아래와 같은 느낌"
      ],
      "id": "c99efc33-22e9-49ff-9c21-5e16ca215149"
    },
    {
      "cell_type": "code",
      "execution_count": 199,
      "metadata": {
        "tags": []
      },
      "outputs": [],
      "source": [
        "[(lambda x: -x)(i) for i in s]"
      ],
      "id": "97cfa4a4-98f7-4887-b1d7-3a8ebd3888ab"
    },
    {
      "cell_type": "markdown",
      "metadata": {},
      "source": [
        "`#`\n",
        "\n",
        "`# 예제2` – `s.apply` + 벡터입력/스칼라출력(집계함수) // 가능은한데\n",
        "사실상 스칼라입력,스칼라출력으로 해석해야함"
      ],
      "id": "a04b501a-1b8a-4dfb-9956-c6a6308c3649"
    },
    {
      "cell_type": "code",
      "execution_count": 207,
      "metadata": {
        "tags": []
      },
      "outputs": [],
      "source": [
        "s = pd.Series([1,2,3])\n",
        "s"
      ],
      "id": "e61b8986-9825-42b2-9953-1081c18e504b"
    },
    {
      "cell_type": "code",
      "execution_count": 208,
      "metadata": {
        "tags": []
      },
      "outputs": [],
      "source": [
        "s.apply(np.sum) # ??"
      ],
      "id": "c7dcf3fc-e945-44f1-a9e0-9f05c2e178e4"
    },
    {
      "cell_type": "markdown",
      "metadata": {},
      "source": [
        "-   에러는 안나지만 원하는 동작은 아님\n",
        "\n",
        "이것은 사실 아래의 동작으로 이해할 수 있다.\n",
        "\n",
        "    1 -> sum(1) = 1 \n",
        "    2 -> sum(2) = 2\n",
        "    3 -> sum(3) = 3\n",
        "\n",
        "코드로는 아래의 느낌"
      ],
      "id": "fd1e8f50-7bcf-415a-8947-bb15b12bcea9"
    },
    {
      "cell_type": "code",
      "execution_count": 43,
      "metadata": {
        "tags": []
      },
      "outputs": [],
      "source": [
        "[np.sum(i) for i in s]"
      ],
      "id": "053f28f5-2e92-4b41-b0a8-518258e3ada5"
    },
    {
      "cell_type": "markdown",
      "metadata": {},
      "source": [
        "`#`\n",
        "\n",
        "`# 예제3` – `s.apply` + 벡터입력/벡터출력 // 가능은 한데 사실상\n",
        "스칼라입력,스칼라출력 함수로 해석해야함"
      ],
      "id": "c1d0767d-a785-4f57-a715-a3780975b8cd"
    },
    {
      "cell_type": "code",
      "execution_count": 202,
      "metadata": {
        "tags": []
      },
      "outputs": [],
      "source": [
        "s = pd.Series([1,2,3])\n",
        "s"
      ],
      "id": "315e2769-57a4-4358-b3af-a86586f90faa"
    },
    {
      "cell_type": "code",
      "execution_count": 206,
      "metadata": {
        "tags": []
      },
      "outputs": [],
      "source": [
        "s.apply(lambda x: x-np.mean(x))"
      ],
      "id": "f1aa6661-8915-4455-be76-2be26553dcad"
    },
    {
      "cell_type": "markdown",
      "metadata": {},
      "source": [
        "-   에러는 안나지만 원하는 동작은 아님\n",
        "\n",
        "이것은 사실 아래의 동작으로 이해할 수 있다.\n",
        "\n",
        "    1 -> 1-mean(1) = 0 \n",
        "    2 -> 2-mean(2) = 0\n",
        "    3 -> 3-mean(3) = 0\n",
        "\n",
        "코드로는 아래의 느낌"
      ],
      "id": "86fe4745-81c3-4749-a0f0-66b90016b41d"
    },
    {
      "cell_type": "code",
      "execution_count": 205,
      "metadata": {
        "tags": []
      },
      "outputs": [],
      "source": [
        "[i-np.mean(i) for i in s]"
      ],
      "id": "245bcdf1-1a0c-4454-8fbe-0fec2d8ce175"
    },
    {
      "cell_type": "markdown",
      "metadata": {},
      "source": [
        "`#`\n",
        "\n",
        "## C. `df.apply()`\n",
        "\n",
        "`-` 가능한 형태는 아래와 같다.\n",
        "\n",
        "1.  변환함수(벡터입력,벡터출력): 표준화, 정렬\n",
        "2.  집계함수(벡터입력,스칼라출력): 평균, 최대값\n",
        "\n",
        "쓸모있는건 1,2 모두이다.\n",
        "\n",
        "`# 예제1` – `df.apply` + 스칼라입력, 스칼라출력 (불가능)"
      ],
      "id": "f15e61d0-85bf-4363-be45-253babfb3560"
    },
    {
      "cell_type": "code",
      "execution_count": 209,
      "metadata": {
        "tags": []
      },
      "outputs": [],
      "source": [
        "df = pd.DataFrame({'X':[0.1,0.2,0.3],'Y':[-0.1,-0.2,-0.3]})\n",
        "df"
      ],
      "id": "114f432e-6cab-42bc-8782-2f7e14c97ff1"
    },
    {
      "cell_type": "code",
      "execution_count": 210,
      "metadata": {
        "tags": []
      },
      "outputs": [],
      "source": [
        "df.apply(lambda x: 'pos' if x>0 else 'neg')"
      ],
      "id": "f64bcffa-86a7-46a1-88f7-df63aea361ca"
    },
    {
      "cell_type": "markdown",
      "metadata": {},
      "source": [
        "`# 예제2` – `df.apply` + 스칼라입력,스칼라출력? 벡터입력,벡터출력!!"
      ],
      "id": "6f85c046-9bd9-46cf-a420-c580492a5bc8"
    },
    {
      "cell_type": "code",
      "execution_count": 211,
      "metadata": {
        "tags": []
      },
      "outputs": [],
      "source": [
        "df = pd.DataFrame({'X':[0.1,0.2,0.3],'Y':[-0.1,-0.2,-0.3]})\n",
        "df"
      ],
      "id": "952e14cb-5452-4472-a9de-e532bd524b67"
    },
    {
      "cell_type": "code",
      "execution_count": 218,
      "metadata": {
        "tags": []
      },
      "outputs": [],
      "source": [
        "df.apply(lambda x: x**2) # 이건 스칼라입력, 스칼라출력 아니고 벡터입력 벡터출력으로 컴퓨터가 해석함"
      ],
      "id": "36989783-c858-4bbb-9845-ac4c753c8cb0"
    },
    {
      "cell_type": "markdown",
      "metadata": {},
      "source": [
        "이것은 사실 아래의 동작으로 이해할 수 있다.\n",
        "\n",
        "    df['X'] -> (df['X'])**2\n",
        "    df['Y'] -> (df['Y'])**2\n",
        "\n",
        "코드로는 아래의 느낌이다."
      ],
      "id": "5054b402-d901-4b67-9e34-7348576bb3ba"
    },
    {
      "cell_type": "code",
      "execution_count": 221,
      "metadata": {
        "tags": []
      },
      "outputs": [],
      "source": [
        "[(lambda x: x**2)(df[i]) for i in df]"
      ],
      "id": "97b6373b-dfb6-4edc-abb5-4f1cc548f50b"
    },
    {
      "cell_type": "markdown",
      "metadata": {},
      "source": [
        "`#`\n",
        "\n",
        "`# 예제3` – `df.apply` + 벡터입력,스칼라출력(집계함수)"
      ],
      "id": "f7276f1b-bd5b-4a71-9457-4e146578e17b"
    },
    {
      "cell_type": "code",
      "execution_count": 222,
      "metadata": {
        "tags": []
      },
      "outputs": [],
      "source": [
        "df = pd.DataFrame({'X':[0.1,0.2,0.3],'Y':[-0.1,-0.2,-0.3]})\n",
        "df"
      ],
      "id": "6b872348-b62a-4d1b-8738-0b3dd78c22e0"
    },
    {
      "cell_type": "code",
      "execution_count": 223,
      "metadata": {
        "tags": []
      },
      "outputs": [],
      "source": [
        "df.apply(np.sum)"
      ],
      "id": "857f11f4-6522-4797-a88d-ff65fbc05cbf"
    },
    {
      "cell_type": "markdown",
      "metadata": {},
      "source": [
        "`#`\n",
        "\n",
        "`# 예제4` – `df.apply` + 벡터입력,스칼라출력(집계함수)"
      ],
      "id": "b3b3f1b2-d873-42bb-947a-22f21feee19f"
    },
    {
      "cell_type": "code",
      "execution_count": 237,
      "metadata": {
        "tags": []
      },
      "outputs": [],
      "source": [
        "df = pd.DataFrame({'X':[0.1,0.2,0.3],'Y':[-0.1,-0.2,-0.3]})\n",
        "df"
      ],
      "id": "93d3d168-e8d0-4ee0-a5f8-e2a65e0e9aab"
    },
    {
      "cell_type": "code",
      "execution_count": 238,
      "metadata": {
        "tags": []
      },
      "outputs": [],
      "source": [
        "df.apply(np.sum,axis=1)"
      ],
      "id": "52ee1b6a-3018-4550-8cb3-5fe433f9897c"
    },
    {
      "cell_type": "markdown",
      "metadata": {},
      "source": [
        "> `s.apply`에서는 `axis`가 유효한 인자가 아니지만 `df.apply`에서는\n",
        "> `axis`가 유효한 입력이고 디폴트값은 0이다.\n",
        "\n",
        "`#`\n",
        "\n",
        "`# 예제5` – `df.apply` + 벡터입력,벡터출력"
      ],
      "id": "37c92416-405c-400a-a967-3fe1ea3f838c"
    },
    {
      "cell_type": "code",
      "execution_count": 257,
      "metadata": {
        "tags": []
      },
      "outputs": [],
      "source": [
        "df = pd.DataFrame({'X':[1,2,3],'Y':[4,5,6]})\n",
        "df"
      ],
      "id": "21e68450-6c12-4405-8be2-9d04b6fc9d08"
    },
    {
      "cell_type": "code",
      "execution_count": 259,
      "metadata": {
        "tags": []
      },
      "outputs": [],
      "source": [
        "df.apply(lambda x: x-np.mean(x))"
      ],
      "id": "b8495b52-3e7b-4e29-bf8f-f282cfa62884"
    },
    {
      "cell_type": "code",
      "execution_count": 260,
      "metadata": {
        "tags": []
      },
      "outputs": [],
      "source": [
        "df.apply(lambda x: x-np.mean(x),axis=1)"
      ],
      "id": "60d2f011-632a-4320-956e-5795bcd4b17f"
    },
    {
      "cell_type": "markdown",
      "metadata": {},
      "source": [
        "`#`\n",
        "\n",
        "`# 예제6` – `df.apply` + 벡터입력, 벡터출력"
      ],
      "id": "6641ecac-04af-457b-b8a8-2594c53c8551"
    },
    {
      "cell_type": "code",
      "execution_count": 264,
      "metadata": {
        "tags": []
      },
      "outputs": [],
      "source": [
        "df = pd.DataFrame({'X':[ 3.285,  0.328, -1.261],'Y':[ 1.068,  0.145, -0.222]})\n",
        "df"
      ],
      "id": "a22809a0-90d5-458a-b556-fe755858eda4"
    },
    {
      "cell_type": "code",
      "execution_count": 273,
      "metadata": {
        "tags": []
      },
      "outputs": [],
      "source": [
        "df.apply(np.sort)"
      ],
      "id": "0fda0cb4-6ee2-4bcc-89bb-6f86b8a4f2be"
    },
    {
      "cell_type": "code",
      "execution_count": 278,
      "metadata": {
        "tags": []
      },
      "outputs": [],
      "source": [
        "df.apply(np.sort, axis=1)"
      ],
      "id": "bd39f8e7-4edb-4260-b758-69f5d30ade2e"
    },
    {
      "cell_type": "code",
      "execution_count": 279,
      "metadata": {
        "tags": []
      },
      "outputs": [],
      "source": [
        "df.apply(lambda x: x*0+np.sort(x), axis=1) # 그다지 안중요한 트릭.."
      ],
      "id": "eedb8f68-fc7c-49b2-97b0-ff12b8e2c1e6"
    },
    {
      "cell_type": "markdown",
      "metadata": {},
      "source": [
        "`#`\n",
        "\n",
        "# 4. `map`\n",
        "\n",
        "`-` 그냥 모든 원소에 동일적용\n",
        "\n",
        "## A. `s.map()`\n",
        "\n",
        "`-` 가능한 형태는 아래와 같다.\n",
        "\n",
        "1.  변환함수(스칼라입력,스칼라출력): 로그, 제곱\n",
        "2.  변환함수(벡터입력,벡터출력): 표준화, 정렬\n",
        "3.  집계함수(벡터입력,스칼라출력): 평균, 최대값\n",
        "4.  딕셔너리\n",
        "\n",
        "쓸모있는건 1,4 이다. 특히 4는 특정상황에서 매우 쓸모있음\n",
        "\n",
        "`# 예제1` – `s.map` + 스칼라입력,스칼라출력"
      ],
      "id": "d5127cc6-6aa7-4eae-b880-2b36c3707a53"
    },
    {
      "cell_type": "code",
      "execution_count": 281,
      "metadata": {
        "tags": []
      },
      "outputs": [],
      "source": [
        "s = pd.Series(['A','B','B','B','A'])\n",
        "s"
      ],
      "id": "fdef7271-fc80-441e-9909-609b8dcb297d"
    },
    {
      "cell_type": "code",
      "execution_count": 282,
      "metadata": {
        "tags": []
      },
      "outputs": [],
      "source": [
        "s.map(lambda x: x.lower())"
      ],
      "id": "a66d975d-c47d-4579-bb57-d1b7cfaf2ca8"
    },
    {
      "cell_type": "markdown",
      "metadata": {},
      "source": [
        "`#`\n",
        "\n",
        "`# 예제2` – `s.map` + 스칼라입력,스칼라출력"
      ],
      "id": "2b67a16f-b62c-41fe-a415-0fa7f9eab5de"
    },
    {
      "cell_type": "code",
      "execution_count": 283,
      "metadata": {
        "tags": []
      },
      "outputs": [],
      "source": [
        "s = pd.Series([1,3,4,2])\n",
        "s"
      ],
      "id": "0215c9e0-12f3-45c8-abca-7d44fa91c33b"
    },
    {
      "cell_type": "code",
      "execution_count": 284,
      "metadata": {
        "tags": []
      },
      "outputs": [],
      "source": [
        "s.map(lambda x: x**2)"
      ],
      "id": "ee2b7b13-777f-4f91-a48f-f48f3556743a"
    },
    {
      "cell_type": "markdown",
      "metadata": {},
      "source": [
        "`#`\n",
        "\n",
        "`# 예제3` – `s.map` + 벡터입력,스칼라출력 // 가능은한데 사실\n",
        "스칼라입력,스칼라출력으로 해석해야함"
      ],
      "id": "1fb832f6-d94d-48c8-a2e5-f062de24b45b"
    },
    {
      "cell_type": "code",
      "execution_count": 285,
      "metadata": {
        "tags": []
      },
      "outputs": [],
      "source": [
        "s = pd.Series([1,3,4,2])\n",
        "s"
      ],
      "id": "ff1bbe2e-7a76-44dd-8e04-7b88588926c1"
    },
    {
      "cell_type": "code",
      "execution_count": 161,
      "metadata": {
        "tags": []
      },
      "outputs": [],
      "source": [
        "s.map(np.sum)"
      ],
      "id": "5dbfe9a3-052c-44dc-903c-6e2014ae7226"
    },
    {
      "cell_type": "markdown",
      "metadata": {},
      "source": [
        "`#`\n",
        "\n",
        "`# 예제4` – `s.map` + 벡터입력,벡터출력 // 가능은한데 사실\n",
        "스칼라입력,스칼라출력으로 해석해야함"
      ],
      "id": "3c2f09c9-c000-46e8-aa66-02705151dcf3"
    },
    {
      "cell_type": "code",
      "execution_count": 287,
      "metadata": {
        "tags": []
      },
      "outputs": [],
      "source": [
        "s = pd.Series([1,3,4,2])\n",
        "s"
      ],
      "id": "3db924ed-1b21-44c9-bcd7-f70c26d12b2f"
    },
    {
      "cell_type": "code",
      "execution_count": 289,
      "metadata": {
        "tags": []
      },
      "outputs": [],
      "source": [
        "s.map(lambda x: x-np.mean(x))"
      ],
      "id": "c4b047a8-6bbc-4d52-bdee-d19133e9178d"
    },
    {
      "cell_type": "markdown",
      "metadata": {},
      "source": [
        "`#`\n",
        "\n",
        "`# 예제5` – `s.map` + 딕셔너리"
      ],
      "id": "2cfe2e85-02de-40b7-9ebe-c26776ce07aa"
    },
    {
      "cell_type": "code",
      "execution_count": 290,
      "metadata": {
        "tags": []
      },
      "outputs": [],
      "source": [
        "s = pd.Series(['A','B','B','B','A'])\n",
        "s"
      ],
      "id": "6b7b3386-25ac-433b-837e-16c84878ae48"
    },
    {
      "cell_type": "code",
      "execution_count": 292,
      "metadata": {
        "tags": []
      },
      "outputs": [],
      "source": [
        "s.map({'A':'A+','B':'B0'})"
      ],
      "id": "4e939093-2806-4da8-be48-4f99909a6a0d"
    },
    {
      "cell_type": "markdown",
      "metadata": {},
      "source": [
        "`#`\n",
        "\n",
        "## B. `df.map()` = `df.applymap()`\n",
        "\n",
        "> **코랩실습자를 위한 주의사항1**\n",
        ">\n",
        "> 코랩에서 실습할경우\n",
        ">\n",
        "> ``` python\n",
        "> df.map()\n",
        "> ```\n",
        ">\n",
        "> 이 동작하지 않습니다. 대신 아래와 같이 `applymap`이 동작합니다.\n",
        ">\n",
        "> ``` python\n",
        "> df.applymap()\n",
        "> ```\n",
        ">\n",
        "> 이것은 코랩에서 기본으로 설치되어있는 pandas의 버전이 너무 낮아서\n",
        "> 생기는 문제입니다. 따라서 코랩을 쓰시는 분들은 아래의 강의노트들을\n",
        "> `df.applymap()`으로 바꿔서 실습하시기 바랍니다.\n",
        "\n",
        "> **코랩실습자를 위한 주의사항2**\n",
        ">\n",
        "> 만약 코랩에서도 `df.map()`을 사용하시려면 pandas를 높은버전으로 새로\n",
        "> 설치하고 사용하시면 됩니다. 즉\n",
        ">\n",
        ">     1. 코랩커널재시작 (컴퓨터 다시 할당)\n",
        ">     2. `import pandas as pd` 를 하기 전에 `!pip install pandas -U`를 이용하여 판다스를 최신버전으로 재설치 \n",
        ">     3. 판다스를 임포트 하고 (`import pandas as pd`) 실습\n",
        ">\n",
        "> 와 같이 하시면 됩니다.\n",
        "\n",
        "`-` 가능한 형태는 아래와 같다.\n",
        "\n",
        "1.  변환함수(스칼라입력,스칼라출력): 로그, 제곱\n",
        "2.  집계함수(벡터입력,스칼라출력)\n",
        "\n",
        "1만 쓸모있다. 여기에서 `df.map(변환함수)` 꼴은 사실\n",
        "`df.applymap(변환함수)`와 가능이 같다.\n",
        "\n",
        "`# 예제1` – `df.map` + 스칼라입력,스칼라출력"
      ],
      "id": "da0cbe19-8bf5-465d-9a5c-8202b27cca13"
    },
    {
      "cell_type": "code",
      "execution_count": 313,
      "metadata": {
        "tags": []
      },
      "outputs": [],
      "source": [
        "df = pd.DataFrame({'A':[2143,2143],'B':['-',3456]})\n",
        "df"
      ],
      "id": "6bb7d5c8-022b-47f1-8dec-c891b4a5da20"
    },
    {
      "cell_type": "code",
      "execution_count": 314,
      "metadata": {
        "tags": []
      },
      "outputs": [],
      "source": [
        "df.map(lambda x: 0 if x == '-' else x)"
      ],
      "id": "b2717f07-aab3-48c4-99d3-040814e9d65e"
    },
    {
      "cell_type": "markdown",
      "metadata": {},
      "source": [
        "`#`\n",
        "\n",
        "`# 예제2` – `df.map` + 벡터입력,벡터출력 // 불가능해"
      ],
      "id": "9e6d9caf-1b67-4877-a35f-b0721258d341"
    },
    {
      "cell_type": "code",
      "execution_count": 293,
      "metadata": {
        "tags": []
      },
      "outputs": [],
      "source": [
        "df = pd.DataFrame({'A':np.random.randn(5), 'B':np.random.randn(5)+5})\n",
        "df"
      ],
      "id": "e8cc61df-3581-4e0e-9228-2edcb836b5be"
    },
    {
      "cell_type": "code",
      "execution_count": 297,
      "metadata": {
        "tags": []
      },
      "outputs": [],
      "source": [
        "df.map(np.sort) # 불가능.."
      ],
      "id": "94b4082b-74ae-4324-a421-e558b55bae53"
    },
    {
      "cell_type": "markdown",
      "metadata": {},
      "source": [
        "`#`\n",
        "\n",
        "`# 예제3` – `df.map` + 벡터입력,스칼라출력(집계함수) // 가능하긴한데\n",
        "사실 스칼라입력,스칼라출력으로 해석해야함"
      ],
      "id": "a7b0ddb7-7205-497e-ba01-ba6f10fe9512"
    },
    {
      "cell_type": "code",
      "execution_count": 300,
      "metadata": {
        "tags": []
      },
      "outputs": [],
      "source": [
        "df = pd.DataFrame({'A':np.random.randn(5), 'B':np.random.randn(5)+5})\n",
        "df"
      ],
      "id": "9fd2ee9a-31e4-4722-8555-e8f7b474ec88"
    },
    {
      "cell_type": "code",
      "execution_count": 303,
      "metadata": {
        "tags": []
      },
      "outputs": [],
      "source": [
        "df.map(np.mean) # 사실상 스칼라입력,스칼라출력으로 봐야함"
      ],
      "id": "9f26d949-2712-4268-bf04-9a1c4221d57c"
    },
    {
      "cell_type": "markdown",
      "metadata": {},
      "source": [
        "`#`\n",
        "\n",
        "`# 예제4` – `df.map` + 딕셔너리 // 불가능"
      ],
      "id": "8c0f9ef0-bb35-44be-85f6-bc0ba0b8620c"
    },
    {
      "cell_type": "code",
      "execution_count": 307,
      "metadata": {
        "tags": []
      },
      "outputs": [],
      "source": [
        "df = pd.DataFrame({'guebin':[0,1,0,1,0,1],'hynn':[0,1,1,1,1,1]})\n",
        "df"
      ],
      "id": "063f1149-77cc-4c5c-8bf6-f62f4e8d5c71"
    },
    {
      "cell_type": "code",
      "execution_count": 310,
      "metadata": {
        "tags": []
      },
      "outputs": [],
      "source": [
        "df.map({0:'fail',1:'pass'})"
      ],
      "id": "a1809966-7aa8-4c5a-a8a6-6d094928db83"
    },
    {
      "cell_type": "markdown",
      "metadata": {},
      "source": [
        "`#`\n",
        "\n",
        "# 5. HW\n",
        "\n",
        "아래의 자료가 있다고 하자."
      ],
      "id": "2cbfebfc-ebba-4655-99bf-1a92adf2b042"
    },
    {
      "cell_type": "code",
      "execution_count": 437,
      "metadata": {
        "tags": []
      },
      "outputs": [],
      "source": [
        "df = pd.DataFrame({'guebin':[0,1,0,1,0,1],'hynn':[0,1,1,1,1,1]})\n",
        "df"
      ],
      "id": "933c70fc-265d-4b74-a29f-0b5391b68e03"
    },
    {
      "cell_type": "markdown",
      "metadata": {},
      "source": [
        "이 자료를 `lambda`와 `df.applymap`을 이용하여 아래와 같이 변경하라."
      ],
      "id": "34e36306-9eb2-4aea-bb4b-4e12d2bffecf"
    },
    {
      "cell_type": "code",
      "execution_count": 439,
      "metadata": {
        "tags": []
      },
      "outputs": [],
      "source": [
        "#"
      ],
      "id": "a8d8d709-54b3-4c1f-8797-601e67b94ec8"
    }
  ],
  "nbformat": 4,
  "nbformat_minor": 5,
  "metadata": {
    "kernelspec": {
      "name": "python3",
      "display_name": "Python 3 (ipykernel)",
      "language": "python"
    },
    "language_info": {
      "name": "python",
      "codemirror_mode": {
        "name": "ipython",
        "version": "3"
      },
      "file_extension": ".py",
      "mimetype": "text/x-python",
      "nbconvert_exporter": "python",
      "pygments_lexer": "ipython3",
      "version": "3.10.13"
    }
  }
}