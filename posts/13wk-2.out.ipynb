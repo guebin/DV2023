{
  "cells": [
    {
      "cell_type": "markdown",
      "metadata": {},
      "source": [
        "# 13wk-2: Plotly – `px`를 활용한 시각화\n",
        "\n",
        "최규빈  \n",
        "2023-11-29\n",
        "\n",
        "<a href=\"https://colab.research.google.com/github/guebin/DV2023/blob/main/posts/13wk-2.ipynb\"><img src=\"https://colab.research.google.com/assets/colab-badge.svg\" style=\"text-align: left\"></a>\n",
        "\n",
        "# 1. 강의영상\n",
        "\n",
        "[????](????)\n",
        "\n",
        "# 2. Imports"
      ],
      "id": "3ebef2d3-6310-4e1d-a9c9-608462e2d17c"
    },
    {
      "cell_type": "code",
      "execution_count": 1,
      "metadata": {
        "tags": []
      },
      "outputs": [],
      "source": [
        "import numpy as np\n",
        "import pandas as pd\n",
        "import matplotlib.pyplot as plt\n",
        "#---#\n",
        "import plotly.express as px\n",
        "import plotly.graph_objects as go\n",
        "import plotly.io as pio"
      ],
      "id": "01fe1358-c052-4f83-8e8b-57e377b4aa16"
    },
    {
      "cell_type": "code",
      "execution_count": 2,
      "metadata": {
        "tags": []
      },
      "outputs": [],
      "source": [
        "pd.options.plotting.backend = \"plotly\"\n",
        "pio.templates.default = \"plotly_white\""
      ],
      "id": "940e12c5-285e-4905-9a2f-b2067fa84d85"
    },
    {
      "cell_type": "markdown",
      "metadata": {},
      "source": [
        "# 3. 기본예제"
      ],
      "id": "4d032525-a1a6-41b7-8492-aa405bbcd250"
    },
    {
      "cell_type": "code",
      "execution_count": 3,
      "metadata": {
        "tags": []
      },
      "outputs": [],
      "source": [
        "x= np.linspace(0,5,100)\n",
        "y= np.sin(2*x)\n",
        "px.line(\n",
        "    x=x,y=y,\n",
        "    #---#\n",
        "    title = \"예시1: 간단한 라인플랏\",\n",
        ")"
      ],
      "id": "8a6121e7-8a50-46a4-a4c8-86734c12e2c9"
    },
    {
      "cell_type": "markdown",
      "metadata": {},
      "source": [
        "`-` x,y축의 이름 수정"
      ],
      "id": "29de807c-d8db-4c00-acf9-8d5ad9f8193c"
    },
    {
      "cell_type": "code",
      "execution_count": 4,
      "metadata": {
        "tags": []
      },
      "outputs": [
        {
          "output_type": "stream",
          "name": "stdout",
          "text": [
            "Layout({\n",
            "    'legend': {'tracegroupgap': 0},\n",
            "    'template': '...',\n",
            "    'title': {'text': '예시2: 간단한 라인플랏 (x,y-axis 수정)'},\n",
            "    'xaxis': {'anchor': 'y', 'domain': [0.0, 1.0], 'title': {'text': 'x'}},\n",
            "    'yaxis': {'anchor': 'x', 'domain': [0.0, 1.0], 'title': {'text': 'y'}}\n",
            "})"
          ]
        }
      ],
      "source": [
        "x= np.linspace(0,5,100)\n",
        "y= np.sin(2*x)\n",
        "fig = px.line(\n",
        "    x=x,y=y,\n",
        "    #---#\n",
        "    title = \"예시2: 간단한 라인플랏 (x,y-axis 수정)\"\n",
        ")\n",
        "print(fig.layout)\n",
        "fig['layout']['xaxis']['title']['text'] = r'$x\\text{-axis}$'\n",
        "fig['layout']['yaxis']['title']['text'] = r'$y\\text{-axis}$'\n",
        "fig"
      ],
      "id": "4b26398e-e246-47b3-bcad-bd1f5334a498"
    },
    {
      "cell_type": "markdown",
      "metadata": {},
      "source": [
        "`-` x,y축의 이름 수정"
      ],
      "id": "225d076b-5b2b-4fef-8864-38f10d1bcce5"
    },
    {
      "cell_type": "code",
      "execution_count": 5,
      "metadata": {
        "tags": []
      },
      "outputs": [],
      "source": [
        "x= np.linspace(0,5,100)\n",
        "y1= np.sin(2*x)\n",
        "y2= np.cos(2*x)\n",
        "fig = px.line(\n",
        "    x=x,y=[y1,y2],\n",
        "    #---#\n",
        "    title = \"예시3: 겹쳐그리기 (x,y-axis 수정) \"\n",
        ")\n",
        "fig['layout']['xaxis']['title']['text'] = r'$x\\text{-axis}$'\n",
        "fig['layout']['yaxis']['title']['text'] = r'$y\\text{-axis}$'\n",
        "fig"
      ],
      "id": "96a4a88e-5e3e-4018-a8e4-91f061b29822"
    },
    {
      "cell_type": "code",
      "execution_count": 6,
      "metadata": {
        "tags": []
      },
      "outputs": [],
      "source": [
        "x= np.linspace(0,5,100)\n",
        "y1= np.sin(2*x)\n",
        "y2= np.cos(2*x)\n",
        "fig = px.line(\n",
        "    x=x,y=[y1,y2],\n",
        "    #---#\n",
        "    title = \"예시4: 겹쳐그리기 (x,y-axis 수정 + label 수정)\"\n",
        ")\n",
        "fig['layout']['xaxis']['title']['text'] = r'$x\\text{-axis}$'\n",
        "fig['layout']['yaxis']['title']['text'] = r'$y\\text{-axis}$'\n",
        "fig['data'][0]['name'] = r'$\\sin(2x)$'\n",
        "fig['data'][1]['name'] = r'$\\cos(2x)$'\n",
        "fig"
      ],
      "id": "3107b0f8-2a1a-436e-b885-1de7c6b7ae08"
    },
    {
      "cell_type": "code",
      "execution_count": 7,
      "metadata": {
        "tags": []
      },
      "outputs": [],
      "source": [
        "x= np.linspace(0,5,100)\n",
        "y1= np.sin(2*x)\n",
        "y2= np.cos(2*x)\n",
        "fig = px.line(\n",
        "    x=x,y=[y1,y2],\n",
        "    #---#\n",
        "    title = \"예시5: 겹쳐그리기 (x,y-axis 수정 + label 수정 + 선의타입수정)\"\n",
        ")\n",
        "fig['layout']['xaxis']['title']['text'] = r'$x\\text{-axis}$'\n",
        "fig['layout']['yaxis']['title']['text'] = r'$y\\text{-axis}$'\n",
        "fig['data'][0]['name'] = r'$\\sin(2x)$'\n",
        "fig['data'][1]['name'] = r'$\\cos(2x)$'\n",
        "fig"
      ],
      "id": "83661c63-055c-4131-a94d-c9e6325c5c7a"
    },
    {
      "cell_type": "code",
      "execution_count": 8,
      "metadata": {
        "tags": []
      },
      "outputs": [],
      "source": [
        "x= np.linspace(0,5,100)\n",
        "y1= np.sin(2*x)\n",
        "y2= np.cos(2*x)\n",
        "fig = px.line(\n",
        "    x=x,y=[y1,y2],\n",
        "    #---#\n",
        "    title = \"예시6: 겹쳐그리기 (x,y-axis 수정 + label 수정 + 선의타입수정 + 모드변경)\"\n",
        ")\n",
        "fig['layout']['xaxis']['title']['text'] = r'$x\\text{-axis}$'\n",
        "fig['layout']['yaxis']['title']['text'] = r'$y\\text{-axis}$'\n",
        "fig['data'][0]['name'] = r'$\\sin(2x)$'\n",
        "fig['data'][1]['name'] = r'$\\cos(2x)$'\n",
        "fig['data'][0]['line']['dash'] = 'dash'\n",
        "fig['data'][1]['mode'] = 'lines+markers'\n",
        "fig"
      ],
      "id": "22887a52-a24e-4a97-8830-df669d8a5b57"
    },
    {
      "cell_type": "markdown",
      "metadata": {},
      "source": [
        "# 4. `px.scatter`"
      ],
      "id": "47969c8f-37d5-483d-8355-fc7e95214094"
    },
    {
      "cell_type": "code",
      "execution_count": 9,
      "metadata": {},
      "outputs": [],
      "source": [
        "px.scatter(\n",
        "    x=[1,2,3],y=[2,3,4],\n",
        "    #---#\n",
        ")"
      ],
      "id": "c455669a"
    }
  ],
  "nbformat": 4,
  "nbformat_minor": 5,
  "metadata": {
    "kernelspec": {
      "name": "python3",
      "display_name": "Python 3 (ipykernel)",
      "language": "python"
    },
    "language_info": {
      "name": "python",
      "codemirror_mode": {
        "name": "ipython",
        "version": "3"
      },
      "file_extension": ".py",
      "mimetype": "text/x-python",
      "nbconvert_exporter": "python",
      "pygments_lexer": "ipython3",
      "version": "3.10.13"
    }
  }
}