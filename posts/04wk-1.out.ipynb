{
  "cells": [
    {
      "cell_type": "markdown",
      "metadata": {},
      "source": [
        "# 04wk-1: (draft)\n",
        "\n",
        "최규빈  \n",
        "2023-09-25\n",
        "\n",
        "<a href=\"https://colab.research.google.com/github/guebin/DV2023/blob/main/posts/04wk-1.ipynb\"><img src=\"https://colab.research.google.com/assets/colab-badge.svg\" style=\"text-align: left\"></a>\n",
        "\n",
        "# 1. 강의영상"
      ],
      "id": "dbd38e27-a854-4fd7-8da7-5da802bd7038"
    },
    {
      "cell_type": "code",
      "execution_count": 4,
      "metadata": {},
      "outputs": [],
      "source": [
        "# {{<video https://youtu.be/playlist?list=PLQqh36zP38-yzpW1OqJWO39hEHdj1jGl2&si=BLIWqNA4KaAwp3H6 >}}"
      ],
      "id": "75c5080a-6988-40ad-9d55-e0c2bd3d9c72"
    },
    {
      "cell_type": "markdown",
      "metadata": {},
      "source": [
        "# 2. Imports"
      ],
      "id": "e189872a-9da1-41b3-8939-d1ad30e04962"
    },
    {
      "cell_type": "code",
      "execution_count": 3,
      "metadata": {},
      "outputs": [],
      "source": [
        "import numpy as np\n",
        "import pandas as pd"
      ],
      "id": "4dc3e790-18a9-4557-99cd-407ad3857b1c"
    },
    {
      "cell_type": "markdown",
      "metadata": {},
      "source": [
        "# 3. Pandas: 기본기능\n",
        "\n",
        "## A. 열의 이름 변경\n",
        "\n",
        "`-` 방법1: `df.columns`에 대입"
      ],
      "id": "025c7927-4265-4254-8ffe-faf4a1871d9d"
    },
    {
      "cell_type": "code",
      "execution_count": 102,
      "metadata": {},
      "outputs": [],
      "source": [
        "df = pd.DataFrame(np.random.randn(5,3))\n",
        "df"
      ],
      "id": "8516cf58-fdb4-4235-a990-737fa95109c4"
    },
    {
      "cell_type": "code",
      "execution_count": 103,
      "metadata": {},
      "outputs": [],
      "source": [
        "df.columns = ['A','B','C']\n",
        "df"
      ],
      "id": "af5a2f56-2052-4a45-8c6d-f8b641a11682"
    },
    {
      "cell_type": "markdown",
      "metadata": {},
      "source": [
        "`-` 방법2: `df.set_axis()`"
      ],
      "id": "48bd616d-ac3f-4ac0-9b86-f1f77d917d34"
    },
    {
      "cell_type": "code",
      "execution_count": 104,
      "metadata": {},
      "outputs": [],
      "source": [
        "df = pd.DataFrame(np.random.randn(5,3))\n",
        "df"
      ],
      "id": "1d03a587-bd79-44ab-b934-17a6eb45dd19"
    },
    {
      "cell_type": "code",
      "execution_count": 105,
      "metadata": {},
      "outputs": [],
      "source": [
        "df.set_axis(['A','B','C'],axis=1)"
      ],
      "id": "3af6b621-554c-44ca-9c3e-e5e786a4c568"
    },
    {
      "cell_type": "markdown",
      "metadata": {},
      "source": [
        "`-` 방법3: `df.rename()`"
      ],
      "id": "e6a856f1-7f30-4b48-a066-59c0bb204ac4"
    },
    {
      "cell_type": "code",
      "execution_count": 106,
      "metadata": {},
      "outputs": [],
      "source": [
        "df = pd.DataFrame(np.random.randn(5,3))\n",
        "df"
      ],
      "id": "f05f9ea8-fc7e-40f9-aa12-b51fbef6910e"
    },
    {
      "cell_type": "code",
      "execution_count": 107,
      "metadata": {},
      "outputs": [],
      "source": [
        "df.rename({0:'A'},axis=1)"
      ],
      "id": "30a79f85-753e-4f5b-b389-c3fe743c8432"
    },
    {
      "cell_type": "markdown",
      "metadata": {},
      "source": [
        "## B. 행의 이름 변경\n",
        "\n",
        "`-` 방법1: `df.index`에 대입"
      ],
      "id": "1a8681b4-bb62-459d-a269-f73a0e407a69"
    },
    {
      "cell_type": "code",
      "execution_count": 108,
      "metadata": {},
      "outputs": [],
      "source": [
        "df = pd.DataFrame(np.random.randn(2,3))\n",
        "df"
      ],
      "id": "7c2c97ca-4d5c-410a-8a6d-772993dc84fd"
    },
    {
      "cell_type": "code",
      "execution_count": 109,
      "metadata": {},
      "outputs": [],
      "source": [
        "df.index = ['hynn','iu']\n",
        "df"
      ],
      "id": "4e58c756-7c91-4a27-b26e-db5f1db4eccd"
    },
    {
      "cell_type": "markdown",
      "metadata": {},
      "source": [
        "`-` 방법2: `df.set_axis()`"
      ],
      "id": "964f0873-8ddf-4e24-85bb-7e3564ff34c4"
    },
    {
      "cell_type": "code",
      "execution_count": 110,
      "metadata": {},
      "outputs": [],
      "source": [
        "df = pd.DataFrame(np.random.randn(2,3))\n",
        "df"
      ],
      "id": "f618216a-eb16-49ee-b4ff-9803c9d966a5"
    },
    {
      "cell_type": "code",
      "execution_count": 111,
      "metadata": {},
      "outputs": [],
      "source": [
        "df.set_axis(list('AB'))"
      ],
      "id": "e3d85d75-5210-4990-a4e1-735a25033d93"
    },
    {
      "cell_type": "markdown",
      "metadata": {},
      "source": [
        "`-` 방법3: `df.rename()`"
      ],
      "id": "bf9ba7e1-9e6a-4d3b-b53e-147955bcb964"
    },
    {
      "cell_type": "code",
      "execution_count": 112,
      "metadata": {},
      "outputs": [],
      "source": [
        "df = pd.DataFrame(np.random.randn(2,3))\n",
        "df"
      ],
      "id": "5a30bb1d-dff4-488c-ad97-45aa6e9cccb9"
    },
    {
      "cell_type": "code",
      "execution_count": 113,
      "metadata": {},
      "outputs": [],
      "source": [
        "df.rename({0:'A'})"
      ],
      "id": "8a5c013c-2ee3-45e4-8c6f-b11f61031328"
    },
    {
      "cell_type": "markdown",
      "metadata": {},
      "source": [
        "`-` 방법4: 임의의 행을 열로 지정!"
      ],
      "id": "de21356f-1660-4443-8926-5540ab31cc07"
    },
    {
      "cell_type": "code",
      "execution_count": 114,
      "metadata": {},
      "outputs": [],
      "source": [
        "df = pd.DataFrame({'id':[43052,43053], 'X1':[1,2],'X2':[2,3]})\n",
        "df"
      ],
      "id": "c62a83dc-50ce-49d2-91cc-62d8fb11d79b"
    },
    {
      "cell_type": "code",
      "execution_count": 115,
      "metadata": {},
      "outputs": [],
      "source": [
        "df.set_index('id')"
      ],
      "id": "6779a07b-cb34-406b-b914-18829031c5d5"
    },
    {
      "cell_type": "markdown",
      "metadata": {},
      "source": [
        "## `#` A~B에 대한 연습문제\n",
        "\n",
        "`-` 데이터 load"
      ],
      "id": "1eab0f3f-fb45-42b6-964c-91dd87a81e94"
    },
    {
      "cell_type": "code",
      "execution_count": 571,
      "metadata": {},
      "outputs": [],
      "source": [
        "df = pd.read_csv('https://raw.githubusercontent.com/guebin/DV2022/master/posts/FIFA23_official_data.csv')\n",
        "df.head()"
      ],
      "id": "a7010f6a-ceb8-4a00-af23-3be22d516054"
    },
    {
      "cell_type": "markdown",
      "metadata": {},
      "source": [
        "`# 예제1`: 열의 이름 출력하고, 열의 이름중 공백(``)이 있을 경우\n",
        "언더바(`_`) 로 바꾸자.\n",
        "\n",
        "컬럼출력"
      ],
      "id": "97da51ff-d1f6-4713-837a-062a038cbe89"
    },
    {
      "cell_type": "code",
      "execution_count": 344,
      "metadata": {},
      "outputs": [],
      "source": [
        "df.columns"
      ],
      "id": "5825d09e-9b2a-42b9-866c-89a5234810c4"
    },
    {
      "cell_type": "markdown",
      "metadata": {},
      "source": [
        "1.  df.columns에 직접대입"
      ],
      "id": "dc45a4a3-9584-4476-ae9c-4547a2e33961"
    },
    {
      "cell_type": "code",
      "execution_count": 345,
      "metadata": {},
      "outputs": [],
      "source": [
        "new_columns = [s.replace(' ','_') for s in df.columns]  \n",
        "# df.columns = new_columns"
      ],
      "id": "b6303d9a-186a-4ef9-bb40-4ce2549deb7e"
    },
    {
      "cell_type": "markdown",
      "metadata": {},
      "source": [
        "1.  `set_axis()` 이용"
      ],
      "id": "1e526cd7-bb4d-47a5-93dd-c363ca4db7d4"
    },
    {
      "cell_type": "code",
      "execution_count": 346,
      "metadata": {},
      "outputs": [],
      "source": [
        "new_columns = [s.replace(' ','_') for s in df.columns]  \n",
        "df.set_axis(new_columns,axis=1)"
      ],
      "id": "09f84fae-1337-448e-ab25-190826f46f24"
    },
    {
      "cell_type": "markdown",
      "metadata": {},
      "source": [
        "1.  `rename()` 이용 – 안중요함"
      ],
      "id": "ab627ffc-e2b9-4210-9fd2-8503b4fdaa41"
    },
    {
      "cell_type": "code",
      "execution_count": 347,
      "metadata": {},
      "outputs": [],
      "source": [
        "dct = {k:k.replace(' ','_') for k in df.columns}\n",
        "df.rename(dct, axis=1)"
      ],
      "id": "8ea6c5fa-72b6-4a8b-8742-837854b9ef9f"
    },
    {
      "cell_type": "markdown",
      "metadata": {},
      "source": [
        "`#`\n",
        "\n",
        "`예제2`: ID를 row-index로 지정하라.\n",
        "\n",
        "1.  직접지정"
      ],
      "id": "7e4a5a30-bdf9-448b-90bc-fbde399f05ca"
    },
    {
      "cell_type": "code",
      "execution_count": 348,
      "metadata": {},
      "outputs": [],
      "source": [
        "# df.index = df.ID"
      ],
      "id": "ff14d94d-0f0c-4844-90be-728497e657fc"
    },
    {
      "cell_type": "markdown",
      "metadata": {},
      "source": [
        "1.  `set_axis()`"
      ],
      "id": "47b9e9a7-2c1c-4f6b-8d56-44c643acb168"
    },
    {
      "cell_type": "code",
      "execution_count": 349,
      "metadata": {},
      "outputs": [],
      "source": [
        "df.set_axis(df.ID)"
      ],
      "id": "5db7f561-9582-47b8-9582-9e6dfb384a0c"
    },
    {
      "cell_type": "markdown",
      "metadata": {},
      "source": [
        "1.  `rename()` – 안중요함"
      ],
      "id": "abe348ed-a63f-407a-8102-337acd047ba1"
    },
    {
      "cell_type": "code",
      "execution_count": 350,
      "metadata": {},
      "outputs": [],
      "source": [
        "dct = {k:v for k,v in zip(df.index,df.ID)}\n",
        "df.rename(dct)"
      ],
      "id": "641c1cda-d38b-47ef-9fe8-abeb0b724eb6"
    },
    {
      "cell_type": "markdown",
      "metadata": {},
      "source": [
        "1.  `set_index()`"
      ],
      "id": "5d82c25a-86f0-44b9-b320-eeb866172340"
    },
    {
      "cell_type": "code",
      "execution_count": 351,
      "metadata": {},
      "outputs": [],
      "source": [
        "df.set_index('ID')"
      ],
      "id": "dfb268b8-1106-44c4-b8bf-e814171f2e21"
    },
    {
      "cell_type": "markdown",
      "metadata": {},
      "source": [
        "`#`\n",
        "\n",
        "## C. `pd.T`\n",
        "\n",
        "`-` 이렇게 데이터를 보면 편리함"
      ],
      "id": "88ee86ee-236c-48d1-800b-67448082c012"
    },
    {
      "cell_type": "code",
      "execution_count": 352,
      "metadata": {},
      "outputs": [],
      "source": [
        "df.T.iloc[:,:3]"
      ],
      "id": "019e91e1-f7c5-4dc5-84df-e3b8488085fc"
    },
    {
      "cell_type": "markdown",
      "metadata": {},
      "source": [
        "`-` 아래를 이용하면 출력옵션을 조정할 수 있다."
      ],
      "id": "8e9d6c09-dba6-4fb1-afe5-3cb2ea7cb8e0"
    },
    {
      "cell_type": "code",
      "execution_count": 353,
      "metadata": {},
      "outputs": [],
      "source": [
        "pd.options.display.max_rows = 10\n",
        "display(df.T.iloc[:,:3])\n",
        "pd.reset_option(\"display.max_rows\")"
      ],
      "id": "c8b638a2-536a-4439-a4d7-7cb099e675c9"
    },
    {
      "cell_type": "markdown",
      "metadata": {},
      "source": [
        "-   이 예제에서는 줄이는 옵션을 사용했지만 보통은 늘려서 사용함\n",
        "\n",
        "## D. `df.dtypes`, `s.dtype`\n",
        "\n",
        "`-` `df.dtypes`"
      ],
      "id": "e28678da-34c0-4a09-b615-118c3da83689"
    },
    {
      "cell_type": "code",
      "execution_count": 354,
      "metadata": {},
      "outputs": [],
      "source": [
        "df.dtypes"
      ],
      "id": "6f55b7f7-1b11-4d86-9c56-020a2e4e04b5"
    },
    {
      "cell_type": "markdown",
      "metadata": {},
      "source": [
        "`-` `s.dtype`"
      ],
      "id": "3ae21053-f376-4398-a9f4-f8b77770e00d"
    },
    {
      "cell_type": "code",
      "execution_count": 355,
      "metadata": {},
      "outputs": [],
      "source": [
        "df.Name.dtype"
      ],
      "id": "806e20f9-ed4e-4f13-aad0-480b28b2aa4c"
    },
    {
      "cell_type": "code",
      "execution_count": 356,
      "metadata": {},
      "outputs": [],
      "source": [
        "df.Age.dtype"
      ],
      "id": "fe6941d1-8903-4d57-8bad-35308c67d431"
    },
    {
      "cell_type": "code",
      "execution_count": 359,
      "metadata": {},
      "outputs": [],
      "source": [
        "df['International Reputation'].dtype"
      ],
      "id": "f4ab825c-6f5e-47fa-a570-71741eca12bc"
    },
    {
      "cell_type": "markdown",
      "metadata": {},
      "source": [
        "`-` 자료형은 numpy에서 왔음"
      ],
      "id": "9a3f223a-4983-4d58-82a9-dba1ebb4c42a"
    },
    {
      "cell_type": "code",
      "execution_count": 332,
      "metadata": {},
      "outputs": [],
      "source": [
        "df.Name.dtype == np.object_"
      ],
      "id": "154f0553-bcc2-47d7-a690-cb5456a7a42f"
    },
    {
      "cell_type": "code",
      "execution_count": 335,
      "metadata": {},
      "outputs": [],
      "source": [
        "df.Age.dtype == np.int64"
      ],
      "id": "ea494926-2cdb-4ceb-ae48-16ba76587d2d"
    },
    {
      "cell_type": "code",
      "execution_count": 360,
      "metadata": {},
      "outputs": [],
      "source": [
        "df['International Reputation'].dtype == np.float64"
      ],
      "id": "30c9d330-7052-473d-8a04-428f08a8087f"
    },
    {
      "cell_type": "markdown",
      "metadata": {},
      "source": [
        "`# 예제`: df에서 `int64` 자료형만 출력\n",
        "\n",
        "(풀이1)"
      ],
      "id": "ce2b5152-949f-4e49-a580-7b3f8da618a6"
    },
    {
      "cell_type": "code",
      "execution_count": 361,
      "metadata": {},
      "outputs": [],
      "source": [
        "pd.Series(list(df.dtypes))"
      ],
      "id": "766da3b5-ee60-4d27-bd10-a110527e75f7"
    },
    {
      "cell_type": "code",
      "execution_count": 362,
      "metadata": {},
      "outputs": [],
      "source": [
        "df.iloc[:,[0,2,6,7,12]]"
      ],
      "id": "7ff22c45-001e-4e66-942e-f2aa09d12ec7"
    },
    {
      "cell_type": "markdown",
      "metadata": {},
      "source": [
        "(풀이2)"
      ],
      "id": "916d857e-aa92-44c7-9a9f-c5f1fdc3e539"
    },
    {
      "cell_type": "code",
      "execution_count": 363,
      "metadata": {},
      "outputs": [],
      "source": [
        "df.loc[:,[o == np.int64 for o in df.dtypes]]"
      ],
      "id": "f90a842c-d95c-4daa-bb99-78c59e76f5b4"
    },
    {
      "cell_type": "markdown",
      "metadata": {},
      "source": [
        "`#`\n",
        "\n",
        "## E. `df.sort_values()`\n",
        "\n",
        "`-` 예시1: 나이가 어린 순서대로 정렬"
      ],
      "id": "09d15043-4d3b-454d-ba06-d0be4f24ae26"
    },
    {
      "cell_type": "code",
      "execution_count": 364,
      "metadata": {},
      "outputs": [],
      "source": [
        "df.sort_values('Age')"
      ],
      "id": "100cc447-fa95-4f1d-a641-ff86bcc52fc4"
    },
    {
      "cell_type": "markdown",
      "metadata": {},
      "source": [
        "`-` 예시2: 나이가 많은 순서대로 정렬"
      ],
      "id": "a2b15c6e-2a08-45f7-8792-b72d9c7f9c64"
    },
    {
      "cell_type": "code",
      "execution_count": 365,
      "metadata": {},
      "outputs": [],
      "source": [
        "df.sort_values('Age',ascending=False)"
      ],
      "id": "fa536dbe-5760-4417-bec5-252cadf1e558"
    },
    {
      "cell_type": "markdown",
      "metadata": {},
      "source": [
        "`-` 예시3: 능력치가 좋은 순서대로 정렬"
      ],
      "id": "4612b090-daf7-4b49-8e72-293c6a7a08d5"
    },
    {
      "cell_type": "code",
      "execution_count": 366,
      "metadata": {},
      "outputs": [],
      "source": [
        "df.sort_values('Overall',ascending=False)"
      ],
      "id": "1f2c4dd6-1772-4f65-95d6-e8dc69bda656"
    },
    {
      "cell_type": "markdown",
      "metadata": {},
      "source": [
        "## F. `df.info()`"
      ],
      "id": "1a989996-27fa-42dc-b879-a72b01cc1e26"
    },
    {
      "cell_type": "code",
      "execution_count": 367,
      "metadata": {},
      "outputs": [
        {
          "output_type": "stream",
          "name": "stdout",
          "text": [
            "<class 'pandas.core.frame.DataFrame'>\n",
            "RangeIndex: 17660 entries, 0 to 17659\n",
            "Data columns (total 29 columns):\n",
            " #   Column                    Non-Null Count  Dtype  \n",
            "---  ------                    --------------  -----  \n",
            " 0   ID                        17660 non-null  int64  \n",
            " 1   Name                      17660 non-null  object \n",
            " 2   Age                       17660 non-null  int64  \n",
            " 3   Photo                     17660 non-null  object \n",
            " 4   Nationality               17660 non-null  object \n",
            " 5   Flag                      17660 non-null  object \n",
            " 6   Overall                   17660 non-null  int64  \n",
            " 7   Potential                 17660 non-null  int64  \n",
            " 8   Club                      17449 non-null  object \n",
            " 9   Club Logo                 17660 non-null  object \n",
            " 10  Value                     17660 non-null  object \n",
            " 11  Wage                      17660 non-null  object \n",
            " 12  Special                   17660 non-null  int64  \n",
            " 13  Preferred Foot            17660 non-null  object \n",
            " 14  International Reputation  17660 non-null  float64\n",
            " 15  Weak Foot                 17660 non-null  float64\n",
            " 16  Skill Moves               17660 non-null  float64\n",
            " 17  Work Rate                 17660 non-null  object \n",
            " 18  Body Type                 17622 non-null  object \n",
            " 19  Real Face                 17622 non-null  object \n",
            " 20  Position                  17625 non-null  object \n",
            " 21  Joined                    16562 non-null  object \n",
            " 22  Loaned From               694 non-null    object \n",
            " 23  Contract Valid Until      17299 non-null  object \n",
            " 24  Height                    17660 non-null  object \n",
            " 25  Weight                    17660 non-null  object \n",
            " 26  Release Clause            16509 non-null  object \n",
            " 27  Kit Number                17625 non-null  float64\n",
            " 28  Best Overall Rating       21 non-null     object \n",
            "dtypes: float64(4), int64(5), object(20)\n",
            "memory usage: 3.9+ MB"
          ]
        }
      ],
      "source": [
        "df.info()"
      ],
      "id": "714a11ac-ba75-4462-a1f0-4575bd8cd75b"
    },
    {
      "cell_type": "markdown",
      "metadata": {},
      "source": [
        "## G. `df.isna()`\n",
        "\n",
        "`-` 예시1: 결측치 count"
      ],
      "id": "832a888b-2ce8-491e-8332-61161ba9ec0f"
    },
    {
      "cell_type": "code",
      "execution_count": 368,
      "metadata": {},
      "outputs": [],
      "source": [
        "df.isna()"
      ],
      "id": "9cedd224-57f4-4902-af1f-77b2eacb4204"
    },
    {
      "cell_type": "code",
      "execution_count": 369,
      "metadata": {},
      "outputs": [],
      "source": [
        "df.isna().sum(axis=0)\n",
        "df.isna().sum()"
      ],
      "id": "8c4d0cab-ef7e-4f56-81c7-da0e9e8612f1"
    },
    {
      "cell_type": "markdown",
      "metadata": {},
      "source": [
        "`-` 예시2: 결측치가 50% 이상인 열 출력"
      ],
      "id": "dc3f8d11-6d48-465d-9a6c-6911f96d06b3"
    },
    {
      "cell_type": "code",
      "execution_count": 370,
      "metadata": {},
      "outputs": [],
      "source": [
        "df.loc[:,(df.isna().sum() / len(df)) > 0.5]"
      ],
      "id": "162d9673-7ba4-48a3-a2e8-01988d3da789"
    },
    {
      "cell_type": "markdown",
      "metadata": {},
      "source": [
        "## H. `df.drop()`\n",
        "\n",
        "`-` 예시1: 행을 drop"
      ],
      "id": "37422019-39e8-4ae2-b45a-2de9733ccebf"
    },
    {
      "cell_type": "code",
      "execution_count": 384,
      "metadata": {},
      "outputs": [],
      "source": [
        "df.drop([0,1,2,3])\n",
        "df.drop([0,1,2,3],axis=0)"
      ],
      "id": "71c6364f-f3d7-4cb7-9176-c5ce4d9953bc"
    },
    {
      "cell_type": "markdown",
      "metadata": {},
      "source": [
        "`-` 예시2: 열을 drop"
      ],
      "id": "29d85643-76c9-44cf-8ce3-ec1ee0db01a8"
    },
    {
      "cell_type": "code",
      "execution_count": 383,
      "metadata": {},
      "outputs": [],
      "source": [
        "df.drop(columns=['Name','Age'])\n",
        "df.drop(['Name','Age'],axis=1)"
      ],
      "id": "ec0e8ef8-3fe6-4324-afa1-7a7148b6024c"
    },
    {
      "cell_type": "markdown",
      "metadata": {},
      "source": [
        "## `#` G~H 에 대한 연습문제\n",
        "\n",
        "`# 예제`: 결측치가 50퍼 이상인 열을 제외하라.\n",
        "\n",
        "(풀이1)"
      ],
      "id": "52efa12d-c7b0-4f11-bbba-a9c91d22d40a"
    },
    {
      "cell_type": "code",
      "execution_count": 393,
      "metadata": {},
      "outputs": [],
      "source": [
        "df.isna().mean() > 0.5"
      ],
      "id": "9618ff3e-c749-4eba-96d2-822be122d6bc"
    },
    {
      "cell_type": "code",
      "execution_count": 394,
      "metadata": {},
      "outputs": [],
      "source": [
        "df.drop(columns=['Loaned From','Best Overall Rating'])"
      ],
      "id": "c7f6cc81-9e06-4f8f-b8a0-2819ef01a3b9"
    },
    {
      "cell_type": "markdown",
      "metadata": {},
      "source": [
        "(풀이2)"
      ],
      "id": "346cd891-f90f-4cf9-8a51-bdfe19d36a62"
    },
    {
      "cell_type": "code",
      "execution_count": 398,
      "metadata": {},
      "outputs": [],
      "source": [
        "df.loc[:,df.isna().mean() < 0.5]"
      ],
      "id": "2cdb68a3-9042-41de-aef1-7dd7df215886"
    },
    {
      "cell_type": "markdown",
      "metadata": {},
      "source": [
        "`#`\n",
        "\n",
        "# 4. Pandas: Missing\n",
        "\n",
        "## A. Numpy\n",
        "\n",
        "`-` 발생: `np.nan`"
      ],
      "id": "2815aebf-8d2c-42ab-ba43-143ebefd038a"
    },
    {
      "cell_type": "code",
      "execution_count": 523,
      "metadata": {},
      "outputs": [],
      "source": [
        "np.nan"
      ],
      "id": "700824b5-fcc2-42ce-8132-c7936b6e5d9a"
    },
    {
      "cell_type": "code",
      "execution_count": 525,
      "metadata": {},
      "outputs": [],
      "source": [
        "[1,2,3,np.nan]"
      ],
      "id": "b4144045-c8b8-4f3d-bce0-82c85e410eb6"
    },
    {
      "cell_type": "code",
      "execution_count": 536,
      "metadata": {},
      "outputs": [],
      "source": [
        "arr = np.array([1,2,3,np.nan])\n",
        "arr"
      ],
      "id": "410ea9cc-6842-42f2-abe6-912070e73132"
    },
    {
      "cell_type": "markdown",
      "metadata": {},
      "source": [
        "`-` np.array에 nan이 있으면 연산결과도 nan"
      ],
      "id": "cf9c33b6-6b00-49d1-9ce7-60531506400e"
    },
    {
      "cell_type": "code",
      "execution_count": 537,
      "metadata": {},
      "outputs": [],
      "source": [
        "arr.mean()"
      ],
      "id": "7914449d-0223-44ba-a094-e1e5eb000126"
    },
    {
      "cell_type": "markdown",
      "metadata": {},
      "source": [
        "`-` type"
      ],
      "id": "d60d0891-9133-417c-ac8e-7e4de2047e10"
    },
    {
      "cell_type": "code",
      "execution_count": 542,
      "metadata": {},
      "outputs": [],
      "source": [
        "type(np.nan) "
      ],
      "id": "22e9ad5d-2346-4662-b4ff-4a2156bcd64c"
    },
    {
      "cell_type": "code",
      "execution_count": 538,
      "metadata": {},
      "outputs": [],
      "source": [
        "type(arr[0])"
      ],
      "id": "407a2531-66d7-45e5-97b8-536f193cbafb"
    },
    {
      "cell_type": "markdown",
      "metadata": {},
      "source": [
        "## B. Pandas\n",
        "\n",
        "`-` 발생: np.nan, pd.NA"
      ],
      "id": "ee2569fa-4613-4641-ab20-03f28336cdfd"
    },
    {
      "cell_type": "code",
      "execution_count": 546,
      "metadata": {},
      "outputs": [],
      "source": [
        "pd.Series([np.nan,1,2,3])"
      ],
      "id": "9cf64968-ae29-47e7-b454-4cbf98d998f5"
    },
    {
      "cell_type": "code",
      "execution_count": 545,
      "metadata": {},
      "outputs": [],
      "source": [
        "pd.Series([pd.NA,1,2,3])"
      ],
      "id": "c29d3242-1e99-4e5b-b4a5-ab93cd241dec"
    },
    {
      "cell_type": "markdown",
      "metadata": {},
      "source": [
        "`-` pd.Series에 nan 혹은 <NA> 가 있다면 연산할때 제외함"
      ],
      "id": "ab6165e9-6e92-423d-8bfe-cb74b2481c05"
    },
    {
      "cell_type": "code",
      "execution_count": 547,
      "metadata": {},
      "outputs": [],
      "source": [
        "pd.Series([np.nan,1,2,3]).mean()"
      ],
      "id": "694381a3-a7fe-404f-bae6-aa11b848f1d2"
    },
    {
      "cell_type": "code",
      "execution_count": 548,
      "metadata": {},
      "outputs": [],
      "source": [
        "pd.Series([pd.NA,1,2,3]).mean()"
      ],
      "id": "02236d8b-25ad-4687-9560-2bf23a70e0ad"
    },
    {
      "cell_type": "markdown",
      "metadata": {},
      "source": [
        "`-` type"
      ],
      "id": "7c8c6381-961b-476a-9a86-ad41c3ee3a63"
    },
    {
      "cell_type": "code",
      "execution_count": 557,
      "metadata": {},
      "outputs": [],
      "source": [
        "s1 = pd.Series([np.nan,1,2,3])\n",
        "type(s1[0])"
      ],
      "id": "8063aebf-acf2-48ac-9bd3-37b89e99920a"
    },
    {
      "cell_type": "code",
      "execution_count": 558,
      "metadata": {},
      "outputs": [],
      "source": [
        "s2 = pd.Series([pd.NA,1,2,3])\n",
        "type(s2[0])"
      ],
      "id": "ea738470-f902-4411-8615-f50688d6118a"
    },
    {
      "cell_type": "markdown",
      "metadata": {},
      "source": [
        "`-` 검출 ($\\star$)"
      ],
      "id": "ac3736f1-1e2f-451a-8cf1-0961e46bccf4"
    },
    {
      "cell_type": "code",
      "execution_count": 559,
      "metadata": {},
      "outputs": [],
      "source": [
        "s1.isna()"
      ],
      "id": "a6f6e828-20ce-44af-b86e-52291cd0e3ab"
    },
    {
      "cell_type": "code",
      "execution_count": 560,
      "metadata": {},
      "outputs": [],
      "source": [
        "s2.isna()"
      ],
      "id": "4748086c-eefd-487c-9927-3bd83da625bd"
    },
    {
      "cell_type": "code",
      "execution_count": 561,
      "metadata": {},
      "outputs": [],
      "source": [
        "pd.isna(s1[0]), pd.isnull(s1[0])"
      ],
      "id": "a51c3c0a-c44e-466e-b0f1-cdc8c29c6d1e"
    },
    {
      "cell_type": "code",
      "execution_count": 562,
      "metadata": {},
      "outputs": [],
      "source": [
        "pd.isna(s2[0]), pd.isnull(s2[0])"
      ],
      "id": "232a5b76-ee03-484d-9bfc-ab1de23b34ed"
    },
    {
      "cell_type": "code",
      "execution_count": 564,
      "metadata": {},
      "outputs": [],
      "source": [
        "id(pd.isna), id(pd.isnull) # 같은함수"
      ],
      "id": "a0a452d4-992d-43dc-8bb2-9e0d30ffe0d1"
    },
    {
      "cell_type": "markdown",
      "metadata": {},
      "source": [
        "# 5. Pandas: query"
      ],
      "id": "67ddd5dd-d476-4cf9-8eea-572d1bab9b3c"
    },
    {
      "cell_type": "code",
      "execution_count": 399,
      "metadata": {},
      "outputs": [],
      "source": [
        "ts = pd.DataFrame(np.random.normal(size=(20,4)),columns=list('ABCD'),index=pd.date_range('20221226',periods=20)).assign(E=['A']*10+['B']*10)\n",
        "ts"
      ],
      "id": "0cb0fa0b-2135-454b-9903-50376dfa8b58"
    },
    {
      "cell_type": "markdown",
      "metadata": {},
      "source": [
        "## A. 기본 query\n",
        "\n",
        "`-` 예시1: `A>0 and B<0`"
      ],
      "id": "a83e6a8a-b894-4ece-9ecc-e150ac00ccd1"
    },
    {
      "cell_type": "code",
      "execution_count": 400,
      "metadata": {},
      "outputs": [],
      "source": [
        "ts.query('A>0 and B<0')"
      ],
      "id": "a3240240-a6ae-4e8c-855e-15722380c118"
    },
    {
      "cell_type": "markdown",
      "metadata": {},
      "source": [
        "`-` 예시2: `A<B<C`"
      ],
      "id": "e87e663c-2bdc-44a3-9cf4-e2d736b9745e"
    },
    {
      "cell_type": "code",
      "execution_count": 401,
      "metadata": {},
      "outputs": [],
      "source": [
        "ts.query('A<B<C')"
      ],
      "id": "9fb79ec2-220a-4c8e-840b-d461c78447ef"
    },
    {
      "cell_type": "markdown",
      "metadata": {},
      "source": [
        "`-` 예시3: `(A+B/2) > 0`"
      ],
      "id": "0f681afe-1a2b-412a-a9f7-36ad255d3d5a"
    },
    {
      "cell_type": "code",
      "execution_count": 402,
      "metadata": {},
      "outputs": [],
      "source": [
        "ts.query('(A+B)>0')"
      ],
      "id": "52801425-d694-4031-9e10-7579d5451af1"
    },
    {
      "cell_type": "markdown",
      "metadata": {},
      "source": [
        "`-` 예시4: `(A+B/2) > 0` and `E=='A'`"
      ],
      "id": "737c72da-ee37-4335-9ad6-bcb43182f4a8"
    },
    {
      "cell_type": "code",
      "execution_count": 403,
      "metadata": {},
      "outputs": [],
      "source": [
        "ts.query('(A+B)>0 and E==\"A\"')"
      ],
      "id": "b1c63456-7f16-41a9-93af-10396dac71b4"
    },
    {
      "cell_type": "code",
      "execution_count": 404,
      "metadata": {},
      "outputs": [],
      "source": [
        "ts.query(\"(A+B)>0 and E=='A'\")"
      ],
      "id": "eeca6e7d-e14f-48c2-be47-76de70d9c272"
    },
    {
      "cell_type": "markdown",
      "metadata": {},
      "source": [
        "## B. 외부변수를 이용\n",
        "\n",
        "`-` 예시"
      ],
      "id": "604f9725-6e04-4123-92b0-d25eb4674d5b"
    },
    {
      "cell_type": "code",
      "execution_count": 405,
      "metadata": {},
      "outputs": [],
      "source": [
        "mean = ts.A.mean()\n",
        "mean"
      ],
      "id": "7440e264-b72d-42a5-9ebf-7ca2533edce7"
    },
    {
      "cell_type": "code",
      "execution_count": 406,
      "metadata": {},
      "outputs": [],
      "source": [
        "ts.query('A > @mean')"
      ],
      "id": "88dddd64-afd9-4008-96c1-15b5dfeac676"
    },
    {
      "cell_type": "markdown",
      "metadata": {},
      "source": [
        "## C. Index로 query\n",
        "\n",
        "`-` 예시"
      ],
      "id": "1eb41411-3e7c-48f4-b8d9-80ae472f09d0"
    },
    {
      "cell_type": "code",
      "execution_count": 407,
      "metadata": {},
      "outputs": [],
      "source": [
        "ts.query('index <= \"2022-12-30\" or index == \"2023-01-10\"')"
      ],
      "id": "300ea217-e1cf-451c-8733-93782a337d9f"
    },
    {
      "cell_type": "markdown",
      "metadata": {},
      "source": [
        "## D. 열의 이름에 공백이 있을 경우\n",
        "\n",
        "`-` 예시1: 열의 이름에 공백이 있으면 백틱을 이용하면 된다."
      ],
      "id": "0201e959-d43b-4311-8337-0103fd82957a"
    },
    {
      "cell_type": "code",
      "execution_count": 410,
      "metadata": {},
      "outputs": [],
      "source": [
        "df = pd.read_csv('https://raw.githubusercontent.com/guebin/DV2022/master/posts/FIFA23_official_data.csv')\n",
        "df.head()"
      ],
      "id": "83019d67-7c04-4ab0-8906-67d61b27683f"
    },
    {
      "cell_type": "code",
      "execution_count": 429,
      "metadata": {},
      "outputs": [],
      "source": [
        "df.query(\"`Skill Moves` > 4\")"
      ],
      "id": "2ad0e89a-9b4a-44c9-a76f-682c2c310315"
    },
    {
      "cell_type": "markdown",
      "metadata": {},
      "source": [
        "# 6. Pandas: 할당\n",
        "\n",
        "`-` 자료"
      ],
      "id": "a0cfb070-4bbc-4bb2-a8ad-404cb4161f08"
    },
    {
      "cell_type": "code",
      "execution_count": 219,
      "metadata": {},
      "outputs": [],
      "source": [
        "np.random.seed(43052)\n",
        "att = np.random.choice(np.arange(10,21)*5,20)\n",
        "rep = np.random.choice(np.arange(5,21)*5,20)\n",
        "mid = np.random.choice(np.arange(0,21)*5,20)\n",
        "fin = np.random.choice(np.arange(0,21)*5,20)\n",
        "df = pd.DataFrame({'att':att,'rep':rep,'mid':mid,'fin':fin})\n",
        "df"
      ],
      "id": "6c0ed28e-74f6-458f-bf40-9e83c9b57047"
    },
    {
      "cell_type": "markdown",
      "metadata": {},
      "source": [
        "## A. `df.assign()`\n",
        "\n",
        "`-` 방법1: assign을 이용한 추가"
      ],
      "id": "9b718d74-a3c8-435c-92b4-18dbdca3b9a0"
    },
    {
      "cell_type": "code",
      "execution_count": 220,
      "metadata": {},
      "outputs": [],
      "source": [
        "df.assign(total = df.att*0.1 + df.rep*0.2 + df.mid*0.35 + df.fin*0.35) "
      ],
      "id": "f401ec56-8374-41dc-9e8f-a62e092cffa5"
    },
    {
      "cell_type": "markdown",
      "metadata": {},
      "source": [
        "> 이 방법은 df를 일시적으로 변화시킴\n",
        "\n",
        "## B. `df.eval()`\n",
        "\n",
        "`-` 방법2: eval을 이용한 추가"
      ],
      "id": "1b98a94c-bd32-48ab-991d-7273d88678e7"
    },
    {
      "cell_type": "code",
      "execution_count": 221,
      "metadata": {},
      "outputs": [],
      "source": [
        "df.eval('total = att*0.1 + rep*0.2 + mid*0.3 + fin*0.4') "
      ],
      "id": "5aff3424-c498-4892-a857-beafea26f787"
    },
    {
      "cell_type": "markdown",
      "metadata": {},
      "source": [
        "> 이 방법은 df를 일시적으로 변화시킴\n",
        "\n",
        "## C. `df[colname] = xxx`\n",
        "\n",
        "`-` 방법3: `df['total']` 을 이용한 할당"
      ],
      "id": "188c9d49-c415-4185-adaa-a017e398b7e0"
    },
    {
      "cell_type": "code",
      "execution_count": 183,
      "metadata": {},
      "outputs": [],
      "source": [
        "df['total'] = df.att*0.1 + df.rep*0.2 + df.mid*0.3 + df.fin*0.4\n",
        "df"
      ],
      "id": "de95a596-ea8a-44fc-ab22-d4a60a58fc27"
    },
    {
      "cell_type": "markdown",
      "metadata": {},
      "source": [
        "> 이 방법은 df를 영구적으로 변화시킴\n",
        "\n",
        "# 7. Pandas: transform column\n",
        "\n",
        "## A. `lambda`\n",
        "\n",
        "`-` 예시1: $x \\to x+2$"
      ],
      "id": "d00236dd-03d2-4d65-abd3-9f00fc434b0f"
    },
    {
      "cell_type": "code",
      "execution_count": 3,
      "metadata": {},
      "outputs": [],
      "source": [
        "f = lambda x: x+2 \n",
        "f(3)"
      ],
      "id": "23a07e54-8008-4320-973f-a1e4c9be7128"
    },
    {
      "cell_type": "markdown",
      "metadata": {},
      "source": [
        "`-` 예시2: $x,y \\to x+y$"
      ],
      "id": "e3612c92-9297-4ee2-96f1-d7618fbbe641"
    },
    {
      "cell_type": "code",
      "execution_count": 4,
      "metadata": {},
      "outputs": [],
      "source": [
        "f = lambda x,y: x+y \n",
        "f(3,5)"
      ],
      "id": "f2b0c947-5fc6-44a0-bf91-7dc09d822045"
    },
    {
      "cell_type": "markdown",
      "metadata": {},
      "source": [
        "`-` 예시3: ‘2023-09’ $\\to$ 9"
      ],
      "id": "97edeb2f-26de-4a47-b724-95196373d95c"
    },
    {
      "cell_type": "code",
      "execution_count": 16,
      "metadata": {},
      "outputs": [],
      "source": [
        "int('2023-09'[-2:])"
      ],
      "id": "876eeeda-3028-48f8-b726-217c7e0a56fb"
    },
    {
      "cell_type": "code",
      "execution_count": 17,
      "metadata": {},
      "outputs": [],
      "source": [
        "f = lambda x: int(x[-2:])\n",
        "f('2023-09')"
      ],
      "id": "b4f7da6f-6a82-4518-b867-ce9ff4d35034"
    },
    {
      "cell_type": "code",
      "execution_count": 18,
      "metadata": {},
      "outputs": [],
      "source": [
        "f('2022-10')"
      ],
      "id": "1ed552e2-4914-4523-9fc0-827d93c125df"
    },
    {
      "cell_type": "markdown",
      "metadata": {},
      "source": [
        "`-` 예시4: ‘2023-09’ $\\to$ 2023,9"
      ],
      "id": "7f4cc781-fe25-4552-a4da-9622f304c53a"
    },
    {
      "cell_type": "code",
      "execution_count": 21,
      "metadata": {},
      "outputs": [],
      "source": [
        "f = lambda x: (int(x[:4]),int(x[-2:]))\n",
        "f('2023-09')"
      ],
      "id": "8eb94e89-20fc-44c3-9983-f0d19fe6fa06"
    },
    {
      "cell_type": "markdown",
      "metadata": {},
      "source": [
        "`-` 예시5: 문자열이 ‘cat’이면 1 ’dog’ 이면 0"
      ],
      "id": "2bfcb712-a774-4aba-b4a5-0e445e5ed006"
    },
    {
      "cell_type": "code",
      "execution_count": 23,
      "metadata": {},
      "outputs": [],
      "source": [
        "f = lambda x: 1 if x=='cat' else 0 "
      ],
      "id": "61ae303e-d3a8-4707-92ca-5f77d4636f5a"
    },
    {
      "cell_type": "code",
      "execution_count": 25,
      "metadata": {},
      "outputs": [],
      "source": [
        "f('cat'),f('dog')"
      ],
      "id": "b9688dd6-6299-4065-813f-2b663aee8bc9"
    },
    {
      "cell_type": "markdown",
      "metadata": {},
      "source": [
        "`-` `f`로 이름을 정하지 않고 직접 사용 가능"
      ],
      "id": "65c6b1a7-adcd-4b98-adb9-cbe8145e34d2"
    },
    {
      "cell_type": "code",
      "execution_count": 430,
      "metadata": {},
      "outputs": [],
      "source": [
        "(lambda x: x+1)(1)"
      ],
      "id": "cb17eb0b-3e41-4c1d-8046-c7b2ccbbc425"
    },
    {
      "cell_type": "code",
      "execution_count": 431,
      "metadata": {},
      "outputs": [],
      "source": [
        "(lambda x,y: x+y)(2,3)"
      ],
      "id": "adb82d85-cdf8-4442-b2f7-6e62604081d1"
    },
    {
      "cell_type": "markdown",
      "metadata": {},
      "source": [
        "## B. `map`\n",
        "\n",
        "`-` 개념: `map(f,[x1,x2,...xn])=[f(x1),f(x2),...,f(xn)]`\n",
        "\n",
        "`-` 예시1"
      ],
      "id": "33f4306a-2f68-4868-afc0-d6d9eb3ee243"
    },
    {
      "cell_type": "code",
      "execution_count": 433,
      "metadata": {},
      "outputs": [],
      "source": [
        "f = lambda x: x+1 \n",
        "list(map(f,[1,2,3]))"
      ],
      "id": "1396564c-99bf-4ea2-8066-ab3a90562305"
    },
    {
      "cell_type": "markdown",
      "metadata": {},
      "source": [
        "`-` 예시2"
      ],
      "id": "81dea286-0652-428a-a2cb-fb3213f2dd12"
    },
    {
      "cell_type": "code",
      "execution_count": 438,
      "metadata": {},
      "outputs": [],
      "source": [
        "s = df.Height[:5]\n",
        "s"
      ],
      "id": "e105664d-84b4-403a-ae37-3153ab1ddf73"
    },
    {
      "cell_type": "code",
      "execution_count": 439,
      "metadata": {},
      "outputs": [],
      "source": [
        "x = s[0]\n",
        "x"
      ],
      "id": "14461886-0b72-49f7-a9d3-e101feab1a9a"
    },
    {
      "cell_type": "code",
      "execution_count": 442,
      "metadata": {},
      "outputs": [],
      "source": [
        "list(map(lambda x: int(x[:-2]),s))"
      ],
      "id": "b96ba38e-1f14-4d0f-acea-1a70f9b68fe4"
    },
    {
      "cell_type": "markdown",
      "metadata": {},
      "source": [
        "`# 예시3` – 예시2를 이용하여 `df.Height`열을 int형으로 변환하라.\n",
        "\n",
        "(풀이1)"
      ],
      "id": "bc24bd84-0b01-4042-b372-1c0c16dfb58e"
    },
    {
      "cell_type": "code",
      "execution_count": 447,
      "metadata": {},
      "outputs": [],
      "source": [
        "df.assign(Height = list(map(lambda x: int(x.replace('cm','')), df.Height)))"
      ],
      "id": "d3aaf87f-9aa6-4fb2-a7ba-f044535669bf"
    },
    {
      "cell_type": "markdown",
      "metadata": {},
      "source": [
        "(풀이2) – 사실 수틀리면 컴프리헨션 쓰면 된다."
      ],
      "id": "6f401590-db2a-4b0b-8b0e-badc04459c54"
    },
    {
      "cell_type": "code",
      "execution_count": 457,
      "metadata": {},
      "outputs": [],
      "source": [
        "df.assign(Height = [int(s.replace('cm', '')) for s in df.Height])"
      ],
      "id": "dd56d0e6-5c87-4889-942c-2840636a9eab"
    },
    {
      "cell_type": "markdown",
      "metadata": {},
      "source": [
        "`#`\n",
        "\n",
        "`# 예시4` – `df.Position` 열에 아래와 같은 변환을 수행하라.\n",
        "\n",
        "|            before             | after |\n",
        "|:-----------------------------:|:-----:|\n",
        "| `<span class=\"pos pos28\">SUB` | `SUB` |\n",
        "| `<span class=\"pos pos15\">LCM` | `LCM` |\n",
        "|  `<span class=\"pos pos7\">LB`  | `LB`  |\n",
        "| `<span class=\"pos pos13\">RCM` | `RCM` |\n",
        "| `<span class=\"pos pos13\">RCM` | `RCM` |\n",
        "\n",
        "(풀이1)"
      ],
      "id": "a9ab1378-9e74-41db-a86b-43639650c846"
    },
    {
      "cell_type": "code",
      "execution_count": 460,
      "metadata": {},
      "outputs": [],
      "source": [
        "x = df.Position[0]\n",
        "x"
      ],
      "id": "c2ae4f83-d0f5-400e-a2c6-7a95907f4112"
    },
    {
      "cell_type": "code",
      "execution_count": 477,
      "metadata": {},
      "outputs": [],
      "source": [
        "df.assign(Position = list(map(lambda x: x.split(\">\")[-1] if not pd.isna(x) else 'None', df.Position)))"
      ],
      "id": "bdf9af7d-444a-4599-b1b2-9317c8b86f81"
    },
    {
      "cell_type": "markdown",
      "metadata": {},
      "source": [
        "(풀이2) – 리스트컴프리헨션"
      ],
      "id": "82afa8a1-45ce-45aa-baf1-7f4c614fc576"
    },
    {
      "cell_type": "code",
      "execution_count": 518,
      "metadata": {},
      "outputs": [],
      "source": [
        "f = lambda x: x.split(\">\")[-1] if not pd.isna(x) else 'None' "
      ],
      "id": "21e3da43-5800-47b9-bc19-87aa84855a68"
    },
    {
      "cell_type": "code",
      "execution_count": 522,
      "metadata": {},
      "outputs": [],
      "source": [
        "df.assign(Position = [f(s) for s in df.Position])"
      ],
      "id": "6ab3c09e-d5db-4497-9573-c19cf7b27f65"
    },
    {
      "cell_type": "markdown",
      "metadata": {},
      "source": [
        "-   개인의견: 이미 람다로 함수를 만들어야 해서 그냥 map을 쓰는게\n",
        "    자연스러움\n",
        "\n",
        "## C. `s.apply(변환함수)`\n",
        "\n",
        "`-` 아래의 자료를 가정하자."
      ],
      "id": "f5015230-c6d8-4949-850e-fee22e9d9034"
    },
    {
      "cell_type": "code",
      "execution_count": 576,
      "metadata": {},
      "outputs": [],
      "source": [
        "df = pd.read_csv('https://raw.githubusercontent.com/guebin/DV2022/master/posts/FIFA23_official_data.csv')\n",
        "s = df.Height"
      ],
      "id": "69b85db2-d887-4b1b-8d02-5ba27b1c836c"
    },
    {
      "cell_type": "markdown",
      "metadata": {},
      "source": [
        "`-` 아래는 같은 코드이다."
      ],
      "id": "510a8192-e662-4e49-a174-cf52561bffad"
    },
    {
      "cell_type": "code",
      "execution_count": 580,
      "metadata": {},
      "outputs": [],
      "source": [
        "pd.Series(map(lambda x: int(x[:-2]),s))"
      ],
      "id": "61a9f79c-0fdc-469e-b46a-634e2fb81740"
    },
    {
      "cell_type": "code",
      "execution_count": 582,
      "metadata": {},
      "outputs": [],
      "source": [
        "s.apply(lambda x: int(x[:-2])) # 편한가?"
      ],
      "id": "03d18c52-da00-4239-9376-08248ae60610"
    },
    {
      "cell_type": "markdown",
      "metadata": {},
      "source": [
        "## D. `s.str`\n",
        "\n",
        "`-` 예시1"
      ],
      "id": "fc94c8ec-052d-41e2-82e6-545c3ac0fe6c"
    },
    {
      "cell_type": "code",
      "execution_count": 586,
      "metadata": {},
      "outputs": [],
      "source": [
        "df = pd.read_csv('https://raw.githubusercontent.com/guebin/DV2022/master/posts/FIFA23_official_data.csv')\n",
        "s = df.Height"
      ],
      "id": "1d5a3333-9fa0-4f8b-9e14-420e9a03a2b1"
    },
    {
      "cell_type": "code",
      "execution_count": 590,
      "metadata": {},
      "outputs": [],
      "source": [
        "s.str[:3]"
      ],
      "id": "db7bfb80-0976-4865-87aa-9e05f770dd4d"
    },
    {
      "cell_type": "markdown",
      "metadata": {},
      "source": [
        "`-` 예시2"
      ],
      "id": "ccba31e1-75e9-47b7-9218-eff39e2e7074"
    },
    {
      "cell_type": "code",
      "execution_count": 592,
      "metadata": {},
      "outputs": [],
      "source": [
        "s = pd.Series(['A','B','C','d','e','F'])\n",
        "s"
      ],
      "id": "3ddfbbe9-7f7a-4f4e-8ee6-782c1a05a085"
    },
    {
      "cell_type": "code",
      "execution_count": 593,
      "metadata": {},
      "outputs": [],
      "source": [
        "s.str.isupper()"
      ],
      "id": "7b484b29-89b2-4218-97d5-b1802029ef66"
    },
    {
      "cell_type": "markdown",
      "metadata": {},
      "source": [
        "## E. `s.astype()`\n",
        "\n",
        "`-` 예시1"
      ],
      "id": "c1534de6-9882-49f7-b9f2-17a75997b080"
    },
    {
      "cell_type": "code",
      "execution_count": 596,
      "metadata": {},
      "outputs": [],
      "source": [
        "s = pd.Series(list('12345'))\n",
        "s"
      ],
      "id": "70980ed0-449b-4897-8e34-61994a2fd0f2"
    },
    {
      "cell_type": "code",
      "execution_count": 597,
      "metadata": {},
      "outputs": [],
      "source": [
        "s.astype(np.int64)"
      ],
      "id": "631dbf09-4816-476a-a1bc-42b61b9d28f8"
    },
    {
      "cell_type": "markdown",
      "metadata": {},
      "source": [
        "`-` 예시2"
      ],
      "id": "eda99bc1-9107-4ffe-a855-59a51df2fa15"
    },
    {
      "cell_type": "code",
      "execution_count": 601,
      "metadata": {},
      "outputs": [],
      "source": [
        "df = pd.read_csv('https://raw.githubusercontent.com/guebin/DV2022/master/posts/FIFA23_official_data.csv')\n",
        "s = df.Height"
      ],
      "id": "652bc777-97de-4e86-809d-badb7ef85c7b"
    },
    {
      "cell_type": "code",
      "execution_count": 603,
      "metadata": {},
      "outputs": [],
      "source": [
        "s.str[:3].astype(np.int64)"
      ],
      "id": "69f2131a-85ed-49c1-b2b4-ecd03a3418bf"
    },
    {
      "cell_type": "markdown",
      "metadata": {},
      "source": [
        "# 8. HW\n",
        "\n",
        "`-` 문제: 아래의 자료에서 입학년도를 추가하고 싶다면?"
      ],
      "id": "8a2ea3b8-b6bc-4225-8833-764f917c0a07"
    },
    {
      "cell_type": "code",
      "execution_count": 565,
      "metadata": {},
      "outputs": [],
      "source": [
        "np.random.seed(43052)\n",
        "att = np.random.choice(np.arange(10,21)*5,20)\n",
        "rep = np.random.choice(np.arange(5,21)*5,20)\n",
        "mid = np.random.choice(np.arange(0,21)*5,20)\n",
        "fin = np.random.choice(np.arange(0,21)*5,20)\n",
        "student_id = [ '2023-12362', '2022-12471', '2023-12333', '2022-12400', '2022-12377',\n",
        "               '2022-12469', '2023-12314', '2022-12363', '2023-12445', '2023-12336',\n",
        "               '2023-12426', '2022-12380', '2023-12422', '2022-12488', '2022-12370',\n",
        "               '2023-12443', '2022-12463', '2023-12491', '2023-12340', '2022-12312' ]\n",
        "df = pd.DataFrame({'student_id':student_id,'att':att,'rep':rep,'mid':mid,'fin':fin})\n",
        "df.head()"
      ],
      "id": "d9c98a1e-1ba9-4077-b2b8-d9b2ddb78f98"
    }
  ],
  "nbformat": 4,
  "nbformat_minor": 5,
  "metadata": {
    "kernelspec": {
      "name": "python3",
      "display_name": "Python 3 (ipykernel)",
      "language": "python"
    },
    "language_info": {
      "name": "python",
      "codemirror_mode": {
        "name": "ipython",
        "version": "3"
      },
      "file_extension": ".py",
      "mimetype": "text/x-python",
      "nbconvert_exporter": "python",
      "pygments_lexer": "ipython3",
      "version": "3.11.5"
    }
  }
}