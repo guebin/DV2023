{
  "cells": [
    {
      "cell_type": "markdown",
      "metadata": {},
      "source": [
        "# 04wk-1: Pandas – 기본기능, missing, query, 할당, transform column\n",
        "\n",
        "최규빈  \n",
        "2023-09-25\n",
        "\n",
        "<a href=\"https://colab.research.google.com/github/guebin/DV2023/blob/main/posts/04wk-1.ipynb\"><img src=\"https://colab.research.google.com/assets/colab-badge.svg\" style=\"text-align: left\"></a>\n",
        "\n",
        "# 1. 강의영상\n",
        "\n",
        "<https://youtu.be/playlist?list=PLQqh36zP38-wi_K3B-HLTRaqfsSqusBO7&si=fU5_FogVGOLPGCQt>\n",
        "\n",
        "# 2. Imports"
      ],
      "id": "f868775c-197d-4a1d-a6ad-f87dcad7b9ea"
    },
    {
      "cell_type": "code",
      "execution_count": 1,
      "metadata": {},
      "outputs": [],
      "source": [
        "import numpy as np\n",
        "import pandas as pd"
      ],
      "id": "a5b7b95b-bbda-41f2-a5e9-16b90680d91d"
    },
    {
      "cell_type": "markdown",
      "metadata": {},
      "source": [
        "# 3. Pandas: 기본기능\n",
        "\n",
        "## A. 열의 이름 변경\n",
        "\n",
        "`-` 방법1: `df.columns`에 대입"
      ],
      "id": "09b983cc-ddcc-474d-b22b-3c15059dc3b5"
    },
    {
      "cell_type": "code",
      "execution_count": 2,
      "metadata": {},
      "outputs": [],
      "source": [
        "df = pd.DataFrame(np.random.randn(3,2))\n",
        "df.columns = ['A','B']\n",
        "df"
      ],
      "id": "fb8a8f68-aec5-40ce-9172-3c7536079503"
    },
    {
      "cell_type": "markdown",
      "metadata": {},
      "source": [
        "`-` 방법2: `df.set_axis()`"
      ],
      "id": "551497b7-0e4e-4513-9179-9008b5f70998"
    },
    {
      "cell_type": "code",
      "execution_count": 3,
      "metadata": {},
      "outputs": [],
      "source": [
        "df = pd.DataFrame(np.random.randn(3,2))\n",
        "df.set_axis(['A','B'],axis=1)"
      ],
      "id": "e5237cf0-4c00-46fa-aae6-a38ef71b68f7"
    },
    {
      "cell_type": "markdown",
      "metadata": {},
      "source": [
        "`-` 방법3: `df.rename()`"
      ],
      "id": "cf2b4c73-efc7-4db6-bc3f-7d8c2aea24b6"
    },
    {
      "cell_type": "code",
      "execution_count": 4,
      "metadata": {},
      "outputs": [],
      "source": [
        "df = pd.DataFrame(np.random.randn(3,2))\n",
        "#df.rename(columns={0:'AA',1:'BB'})\n",
        "df.rename({0:'AA',1:'BB'},axis=1)"
      ],
      "id": "a1defd02-9043-4032-9b8c-3f5f421b5682"
    },
    {
      "cell_type": "markdown",
      "metadata": {},
      "source": [
        "## B. 행의 이름 변경\n",
        "\n",
        "`-` 방법1: `df.index`에 대입"
      ],
      "id": "8af162d9-9b3c-47c3-ad67-b0028d111a4f"
    },
    {
      "cell_type": "code",
      "execution_count": 5,
      "metadata": {},
      "outputs": [],
      "source": [
        "df = pd.DataFrame(np.random.randn(3,2))\n",
        "df"
      ],
      "id": "2496dda7-f044-40f6-9e15-792d7af5c1a2"
    },
    {
      "cell_type": "code",
      "execution_count": 6,
      "metadata": {},
      "outputs": [],
      "source": [
        "df.index = ['guebin','jiyoon','boram']\n",
        "df"
      ],
      "id": "009b015d-3596-4902-9742-6c70d7acd3ca"
    },
    {
      "cell_type": "markdown",
      "metadata": {},
      "source": [
        "`-` 방법2: `df.set_axis()`"
      ],
      "id": "dcb97d1b-c6ec-49ed-84f9-1f113146f355"
    },
    {
      "cell_type": "code",
      "execution_count": 7,
      "metadata": {},
      "outputs": [],
      "source": [
        "df = pd.DataFrame(np.random.randn(3,2))\n",
        "df.set_axis([11,22,33],axis=0)"
      ],
      "id": "055084e9-c7ab-474b-9bab-72c30428b40f"
    },
    {
      "cell_type": "markdown",
      "metadata": {},
      "source": [
        "`-` 방법3: `df.rename()`"
      ],
      "id": "4e048445-a28d-47fb-9ff8-2631eb0719a7"
    },
    {
      "cell_type": "code",
      "execution_count": 8,
      "metadata": {},
      "outputs": [],
      "source": [
        "df = pd.DataFrame(np.random.randn(3,2))\n",
        "df.rename({1:'guebin'},axis=0)"
      ],
      "id": "cce20b8e-a42a-4ee5-9470-5d25e4e781cc"
    },
    {
      "cell_type": "markdown",
      "metadata": {},
      "source": [
        "`-` 방법4: 임의의 열을 행이름 으로 지정!"
      ],
      "id": "76ca8c58-1fed-4ccc-9a6b-3e0c9bcdddaf"
    },
    {
      "cell_type": "code",
      "execution_count": 9,
      "metadata": {},
      "outputs": [],
      "source": [
        "df = pd.DataFrame({'id':['2021-43052','2021-43052'], 'hour':[3,2], 'height':[176,172]})\n",
        "df.set_index('id')"
      ],
      "id": "72fcb89c-8eef-40d2-a88e-c6694e3eb346"
    },
    {
      "cell_type": "markdown",
      "metadata": {},
      "source": [
        "## `#` A~B에 대한 연습문제\n",
        "\n",
        "`-` 데이터 load"
      ],
      "id": "e5714af1-c807-4066-9f8e-2bd93ac0ecc3"
    },
    {
      "cell_type": "code",
      "execution_count": 10,
      "metadata": {},
      "outputs": [],
      "source": [
        "df = pd.read_csv('https://raw.githubusercontent.com/guebin/DV2022/master/posts/FIFA23_official_data.csv')\n",
        "df.head()"
      ],
      "id": "97d28044-4376-4649-a2eb-a7b227633ab8"
    },
    {
      "cell_type": "markdown",
      "metadata": {},
      "source": [
        "`# 예제1`: 열의 이름 출력하고, 열의 이름중 공백(``)이 있을 경우\n",
        "언더바(`_`) 로 바꾸자.\n",
        "\n",
        "컬럼출력"
      ],
      "id": "37bb0d97-235f-4c5f-8d27-f3db3b6cb57a"
    },
    {
      "cell_type": "code",
      "execution_count": 11,
      "metadata": {},
      "outputs": [],
      "source": [
        "df.columns"
      ],
      "id": "ccc92bb6-1962-414a-8bf7-f3b482330467"
    },
    {
      "cell_type": "markdown",
      "metadata": {},
      "source": [
        "1.  `df.columns`에 직접대입"
      ],
      "id": "52f3660e-e072-4386-a410-ba659b4c8093"
    },
    {
      "cell_type": "code",
      "execution_count": 12,
      "metadata": {},
      "outputs": [],
      "source": [
        "new_colnames = [l.replace(' ','_') for l in df.columns]"
      ],
      "id": "bfb10d7a-5bee-4b6a-bdc7-1b4617720fff"
    },
    {
      "cell_type": "code",
      "execution_count": 13,
      "metadata": {},
      "outputs": [],
      "source": [
        "# df.columns = new_colnames\n",
        "# df"
      ],
      "id": "27032583-f4d6-4687-818e-8a9638d31412"
    },
    {
      "cell_type": "markdown",
      "metadata": {},
      "source": [
        "1.  `set_axis()` 이용"
      ],
      "id": "a0f68cb9-a203-4c47-ae29-1d970573983b"
    },
    {
      "cell_type": "code",
      "execution_count": 14,
      "metadata": {},
      "outputs": [],
      "source": [
        "df.set_axis(new_colnames,axis=1)"
      ],
      "id": "51de51db-f5b6-4e9d-88b1-24624dff087f"
    },
    {
      "cell_type": "markdown",
      "metadata": {},
      "source": [
        "1.  `rename()` 이용 – 안중요함"
      ],
      "id": "05803d5b-633a-49df-a545-9612810f42f0"
    },
    {
      "cell_type": "code",
      "execution_count": 15,
      "metadata": {},
      "outputs": [],
      "source": [
        "dct = {l:l.replace(' ','_') for l in df.columns}\n",
        "df.rename(dct,axis=1)"
      ],
      "id": "39f43fcc-6a22-4928-84e2-c54c5561d638"
    },
    {
      "cell_type": "markdown",
      "metadata": {},
      "source": [
        "`#`\n",
        "\n",
        "`예제2`: ID를 row-index로 지정하라.\n",
        "\n",
        "1.  직접지정"
      ],
      "id": "3f0712a0-e97d-4b4d-beb5-a01aca84ce77"
    },
    {
      "cell_type": "code",
      "execution_count": 16,
      "metadata": {},
      "outputs": [],
      "source": [
        "# df.index = df.ID\n",
        "# df"
      ],
      "id": "26048a50-68ad-48a9-a33d-c3c701805d81"
    },
    {
      "cell_type": "markdown",
      "metadata": {},
      "source": [
        "1.  `set_axis()`"
      ],
      "id": "ada53b6f-39b6-46a6-8f3a-b036b7e6de41"
    },
    {
      "cell_type": "code",
      "execution_count": 17,
      "metadata": {},
      "outputs": [],
      "source": [
        "df.set_axis(df.ID,axis=0)"
      ],
      "id": "b56824a5-71f3-4aef-8c4b-a8c116f08457"
    },
    {
      "cell_type": "markdown",
      "metadata": {},
      "source": [
        "1.  `rename()` – 안중요함"
      ],
      "id": "dbccb5aa-c7da-4946-b005-0662e5b639a5"
    },
    {
      "cell_type": "code",
      "execution_count": 18,
      "metadata": {},
      "outputs": [],
      "source": [
        "dct = {idx:ID for idx, ID in zip(df.index,df.ID)}"
      ],
      "id": "7acc939a-f300-43be-b48b-bc8cd31e7a1c"
    },
    {
      "cell_type": "code",
      "execution_count": 19,
      "metadata": {},
      "outputs": [],
      "source": [
        "df.rename(dct,axis=0)"
      ],
      "id": "0608a538-09a9-40b4-b18a-92ca82b5978f"
    },
    {
      "cell_type": "markdown",
      "metadata": {},
      "source": [
        "1.  `set_index()`"
      ],
      "id": "fbd0a3b2-4a4e-47fc-a6e8-d2c1459ee7b7"
    },
    {
      "cell_type": "code",
      "execution_count": 20,
      "metadata": {},
      "outputs": [],
      "source": [
        "df.set_index('ID')"
      ],
      "id": "618831be-295c-482a-b9b7-153aff37b756"
    },
    {
      "cell_type": "markdown",
      "metadata": {},
      "source": [
        "`#`\n",
        "\n",
        "## C. `df.T`\n",
        "\n",
        "`-` 데이터 load"
      ],
      "id": "cca9295b-9644-4125-b208-1cf3a0112d3f"
    },
    {
      "cell_type": "code",
      "execution_count": 21,
      "metadata": {},
      "outputs": [],
      "source": [
        "df = pd.read_csv('https://raw.githubusercontent.com/guebin/DV2022/master/posts/FIFA23_official_data.csv')\n",
        "df.head()"
      ],
      "id": "7201b589-2c63-48ab-ae02-8bcde1693ef1"
    },
    {
      "cell_type": "markdown",
      "metadata": {},
      "source": [
        "`-` `df.T`를 이용하여 데이터를 살피면 편리함"
      ],
      "id": "dbe51434-ead4-41de-92b0-974c51866f8a"
    },
    {
      "cell_type": "code",
      "execution_count": 22,
      "metadata": {},
      "outputs": [],
      "source": [
        "df.T.iloc[:,0:2]"
      ],
      "id": "58bdc0b0-2148-4e42-b8ef-4241406d7aec"
    },
    {
      "cell_type": "markdown",
      "metadata": {},
      "source": [
        "`-` 출력옵션 조정"
      ],
      "id": "0f16c453-5bf3-42f1-a613-38967999ea8f"
    },
    {
      "cell_type": "code",
      "execution_count": 23,
      "metadata": {},
      "outputs": [],
      "source": [
        "pd.options.display.max_rows = 12\n",
        "display(df.T.iloc[:,:3])\n",
        "pd.reset_option(\"display.max_rows\")"
      ],
      "id": "841d9e3a-1d72-4525-900b-8aeb5b0e22fb"
    },
    {
      "cell_type": "markdown",
      "metadata": {},
      "source": [
        "-   이 예제에서는 줄이는 옵션을 사용했지만 보통은 늘려서 사용함\n",
        "\n",
        "## D. `df.dtypes`, `s.dtype`\n",
        "\n",
        "`-` `df.dtypes`"
      ],
      "id": "48e90e4e-c896-4bf9-90ef-a664a929b84f"
    },
    {
      "cell_type": "code",
      "execution_count": 24,
      "metadata": {},
      "outputs": [],
      "source": [
        "df.dtypes"
      ],
      "id": "99d1cefe-4d91-4460-846f-f962484d7ac1"
    },
    {
      "cell_type": "markdown",
      "metadata": {},
      "source": [
        "`-` `s.dtype`"
      ],
      "id": "8ecd13cb-b950-491b-9993-aea46cd3bb4d"
    },
    {
      "cell_type": "code",
      "execution_count": 25,
      "metadata": {},
      "outputs": [],
      "source": [
        "df.Name.dtype"
      ],
      "id": "32be4864-ca50-4e72-bd64-3daec799f28f"
    },
    {
      "cell_type": "markdown",
      "metadata": {},
      "source": [
        "`-` `==`를 이용한 자료형 체크"
      ],
      "id": "2d2e9b98-3e1d-4b6c-b708-03b78c333bc9"
    },
    {
      "cell_type": "code",
      "execution_count": 26,
      "metadata": {},
      "outputs": [],
      "source": [
        "df.Name.dtype == np.object_"
      ],
      "id": "441ad4be-5d7c-4485-87bc-73e31c589873"
    },
    {
      "cell_type": "code",
      "execution_count": 27,
      "metadata": {},
      "outputs": [],
      "source": [
        "df.Age.dtype == np.int64"
      ],
      "id": "fcb45169-a725-4c78-a3f2-1c280ef30bd7"
    },
    {
      "cell_type": "markdown",
      "metadata": {},
      "source": [
        "`# 예제`: `df`에서 `int64` 자료형만 출력\n",
        "\n",
        "`-` (풀이1)"
      ],
      "id": "c4c5ab5e-1c2d-4ab9-a79a-7e88172cc0dc"
    },
    {
      "cell_type": "code",
      "execution_count": 28,
      "metadata": {},
      "outputs": [],
      "source": [
        "pd.Series(list(df.dtypes))"
      ],
      "id": "7bfcbe8a-529d-4dbb-8e1e-555dd14a9d0c"
    },
    {
      "cell_type": "code",
      "execution_count": 29,
      "metadata": {},
      "outputs": [],
      "source": [
        "df.iloc[:,[0,2,6,7,12]]"
      ],
      "id": "e4eb1bf8-5eda-4ca8-bbc5-80f9923e8cf0"
    },
    {
      "cell_type": "markdown",
      "metadata": {},
      "source": [
        "`-` (풀이2)"
      ],
      "id": "9cd83ce4-f8d9-46ac-80f1-461289a05175"
    },
    {
      "cell_type": "code",
      "execution_count": 30,
      "metadata": {},
      "outputs": [],
      "source": [
        "df.loc[:,[o == np.int64 for o in df.dtypes]]"
      ],
      "id": "cbade23f-215a-4508-8b6a-20d38344969b"
    },
    {
      "cell_type": "markdown",
      "metadata": {},
      "source": [
        "`#`\n",
        "\n",
        "## E. `df.sort_values()`\n",
        "\n",
        "`-` 예시1: 나이가 어린 순서대로 정렬"
      ],
      "id": "6319d9a5-2738-4b65-bce7-0ec351f16acf"
    },
    {
      "cell_type": "code",
      "execution_count": 31,
      "metadata": {},
      "outputs": [],
      "source": [
        "df.sort_values(by='Age')"
      ],
      "id": "1a1706ec-067e-4567-b3f0-c2d3a7c404bc"
    },
    {
      "cell_type": "markdown",
      "metadata": {},
      "source": [
        "`-` 예시2: 나이가 많은 순서대로 정렬"
      ],
      "id": "317e9b0a-a99c-4710-8a83-a7cc16c7a193"
    },
    {
      "cell_type": "code",
      "execution_count": 32,
      "metadata": {},
      "outputs": [],
      "source": [
        "df.sort_values(by='Age',ascending=False)"
      ],
      "id": "bdd42216-6494-45ad-ad16-86a9951835ec"
    },
    {
      "cell_type": "markdown",
      "metadata": {},
      "source": [
        "`-` 예시3: 능력치가 좋은 순서대로 정렬"
      ],
      "id": "e986f58f-af2f-4833-ab97-56cea09f7ffb"
    },
    {
      "cell_type": "code",
      "execution_count": 33,
      "metadata": {},
      "outputs": [],
      "source": [
        "df.sort_values(by = 'Overall',ascending=False)"
      ],
      "id": "d1987d02-60fc-4230-a1e7-7f62c81bceae"
    },
    {
      "cell_type": "markdown",
      "metadata": {},
      "source": [
        "## F. `df.info()`"
      ],
      "id": "8fc95371-9f35-4554-9d49-837c140cf791"
    },
    {
      "cell_type": "code",
      "execution_count": 34,
      "metadata": {},
      "outputs": [
        {
          "output_type": "stream",
          "name": "stdout",
          "text": [
            "<class 'pandas.core.frame.DataFrame'>\n",
            "RangeIndex: 17660 entries, 0 to 17659\n",
            "Data columns (total 29 columns):\n",
            " #   Column                    Non-Null Count  Dtype  \n",
            "---  ------                    --------------  -----  \n",
            " 0   ID                        17660 non-null  int64  \n",
            " 1   Name                      17660 non-null  object \n",
            " 2   Age                       17660 non-null  int64  \n",
            " 3   Photo                     17660 non-null  object \n",
            " 4   Nationality               17660 non-null  object \n",
            " 5   Flag                      17660 non-null  object \n",
            " 6   Overall                   17660 non-null  int64  \n",
            " 7   Potential                 17660 non-null  int64  \n",
            " 8   Club                      17449 non-null  object \n",
            " 9   Club Logo                 17660 non-null  object \n",
            " 10  Value                     17660 non-null  object \n",
            " 11  Wage                      17660 non-null  object \n",
            " 12  Special                   17660 non-null  int64  \n",
            " 13  Preferred Foot            17660 non-null  object \n",
            " 14  International Reputation  17660 non-null  float64\n",
            " 15  Weak Foot                 17660 non-null  float64\n",
            " 16  Skill Moves               17660 non-null  float64\n",
            " 17  Work Rate                 17660 non-null  object \n",
            " 18  Body Type                 17622 non-null  object \n",
            " 19  Real Face                 17622 non-null  object \n",
            " 20  Position                  17625 non-null  object \n",
            " 21  Joined                    16562 non-null  object \n",
            " 22  Loaned From               694 non-null    object \n",
            " 23  Contract Valid Until      17299 non-null  object \n",
            " 24  Height                    17660 non-null  object \n",
            " 25  Weight                    17660 non-null  object \n",
            " 26  Release Clause            16509 non-null  object \n",
            " 27  Kit Number                17625 non-null  float64\n",
            " 28  Best Overall Rating       21 non-null     object \n",
            "dtypes: float64(4), int64(5), object(20)\n",
            "memory usage: 3.9+ MB"
          ]
        }
      ],
      "source": [
        "df.info()"
      ],
      "id": "c52268b5-6722-4f2f-9108-cb27d79c8ac0"
    },
    {
      "cell_type": "markdown",
      "metadata": {},
      "source": [
        "## G. `df.isna()`\n",
        "\n",
        "`-` 예시1: 열별로 결측치 count"
      ],
      "id": "b0133156-9a9e-45f6-a074-c0e383dea2f8"
    },
    {
      "cell_type": "code",
      "execution_count": 35,
      "metadata": {},
      "outputs": [],
      "source": [
        "df.isna().sum(axis=0)"
      ],
      "id": "2ef9dcb3-3321-4aa6-b4c2-383e587d62f0"
    },
    {
      "cell_type": "markdown",
      "metadata": {},
      "source": [
        "`-` 예시2: 결측치가 50% 이상인 열 출력"
      ],
      "id": "52a899a5-a623-4bea-8c8c-9cd46b1a8340"
    },
    {
      "cell_type": "code",
      "execution_count": 36,
      "metadata": {},
      "outputs": [],
      "source": [
        "df.loc[:,df.isna().sum(axis=0) / len(df) > 0.5] "
      ],
      "id": "df24b385-83c3-4983-9200-3629acd4f535"
    },
    {
      "cell_type": "markdown",
      "metadata": {},
      "source": [
        "> axis 사용하기 어렵다면\n",
        "> <https://guebin.github.io/PP2023/posts/02_DataScience/2023-04-12-6wk-2.html>\n",
        "> 를 복습할 것!\n",
        "\n",
        "## H. `df.drop()`\n",
        "\n",
        "`-` 예시1: \\[0,1,2,3\\] 행을 drop"
      ],
      "id": "4232a184-429d-4bb9-b60c-6db0a636aa6f"
    },
    {
      "cell_type": "code",
      "execution_count": 37,
      "metadata": {},
      "outputs": [],
      "source": [
        "df.drop([0,1,2,3],axis=0)"
      ],
      "id": "de3d099c-a64e-4df0-abf3-4cfc5b0f865a"
    },
    {
      "cell_type": "markdown",
      "metadata": {},
      "source": [
        "`-` 예시2: \\[‘Name’, ‘Age’\\] 열을 drop"
      ],
      "id": "63e8bb10-b1fa-48c1-bb18-8481cb73c5d0"
    },
    {
      "cell_type": "code",
      "execution_count": 38,
      "metadata": {},
      "outputs": [],
      "source": [
        "df.drop(['Name','Age'],axis=1)"
      ],
      "id": "982fc114-533a-4de6-8bc4-024380635dd4"
    },
    {
      "cell_type": "markdown",
      "metadata": {},
      "source": [
        "## `#` G~H 에 대한 연습문제\n",
        "\n",
        "`# 예제`: 결측치가 50퍼 이상인 열을 제외하라.\n",
        "\n",
        "`-` (풀이1)"
      ],
      "id": "0d89b726-39a3-4908-ac86-6903d661f074"
    },
    {
      "cell_type": "code",
      "execution_count": 39,
      "metadata": {},
      "outputs": [],
      "source": [
        "df.isna().mean(axis=0) > 0.5"
      ],
      "id": "58092db4-9560-488b-8031-8bfc0a644a82"
    },
    {
      "cell_type": "code",
      "execution_count": 40,
      "metadata": {},
      "outputs": [],
      "source": [
        "df.drop(['Loaned From','Best Overall Rating'],axis=1)"
      ],
      "id": "2cc7e9f0-3c66-48dc-acd0-4f95bed27ad7"
    },
    {
      "cell_type": "markdown",
      "metadata": {},
      "source": [
        "`-` (풀이2)"
      ],
      "id": "e3816a51-a019-423b-aba5-16aede54c228"
    },
    {
      "cell_type": "code",
      "execution_count": 41,
      "metadata": {},
      "outputs": [],
      "source": [
        "df.loc[:,df.isna().mean() < 0.5]"
      ],
      "id": "48c28b5c-6961-426a-8dfc-8895ae368194"
    },
    {
      "cell_type": "markdown",
      "metadata": {},
      "source": [
        "`#`\n",
        "\n",
        "# 4. Pandas: missing\n",
        "\n",
        "## A. Numpy\n",
        "\n",
        "`-` 발생: `np.nan`"
      ],
      "id": "dfe2592a-7937-409c-bafe-e897d2b131d5"
    },
    {
      "cell_type": "code",
      "execution_count": 42,
      "metadata": {},
      "outputs": [],
      "source": [
        "np.nan"
      ],
      "id": "958b2131-29a9-4ffe-a26f-2eef957989be"
    },
    {
      "cell_type": "code",
      "execution_count": 43,
      "metadata": {},
      "outputs": [],
      "source": [
        "[1,2,3,np.nan]"
      ],
      "id": "bdac2172-2889-4aa2-901b-00c7b0e9f1a0"
    },
    {
      "cell_type": "code",
      "execution_count": 44,
      "metadata": {},
      "outputs": [],
      "source": [
        "arr = np.array([1,2,3,np.nan])\n",
        "arr"
      ],
      "id": "296bb459-954b-402f-9fc7-7c1f3cd487a8"
    },
    {
      "cell_type": "markdown",
      "metadata": {},
      "source": [
        "`-` np.array에 nan이 있으면 연산결과도 nan"
      ],
      "id": "391cd56a-f571-48d5-b1bc-278ad9c83c0f"
    },
    {
      "cell_type": "code",
      "execution_count": 45,
      "metadata": {},
      "outputs": [],
      "source": [
        "arr.mean()"
      ],
      "id": "36972c72-c3b2-4dcf-b9c4-ca13bbd46fd1"
    },
    {
      "cell_type": "markdown",
      "metadata": {},
      "source": [
        "`-` type"
      ],
      "id": "abe576c1-f185-4a7e-a7e4-929cc5a266d3"
    },
    {
      "cell_type": "code",
      "execution_count": 46,
      "metadata": {},
      "outputs": [],
      "source": [
        "type(np.nan) "
      ],
      "id": "cb946945-8b0b-4ade-b3ad-b95f704bc38e"
    },
    {
      "cell_type": "code",
      "execution_count": 47,
      "metadata": {},
      "outputs": [],
      "source": [
        "type(arr[-1])"
      ],
      "id": "d0bed1aa-a571-4db8-855e-d77e9381adae"
    },
    {
      "cell_type": "markdown",
      "metadata": {},
      "source": [
        "## B. Pandas\n",
        "\n",
        "`-` 발생: np.nan, pd.NA"
      ],
      "id": "9c7b0658-f485-412c-8c2b-b196a914b41d"
    },
    {
      "cell_type": "code",
      "execution_count": 48,
      "metadata": {},
      "outputs": [],
      "source": [
        "pd.Series([np.nan,1,2,3])"
      ],
      "id": "519fe575-740b-4fae-9551-5572748070d0"
    },
    {
      "cell_type": "code",
      "execution_count": 49,
      "metadata": {},
      "outputs": [],
      "source": [
        "pd.Series([pd.NA,1,2,3])"
      ],
      "id": "a6b05792-4641-4b55-a93e-0f81c47d195a"
    },
    {
      "cell_type": "markdown",
      "metadata": {},
      "source": [
        "`-` pd.Series에 `NaN` 혹은 `<NA>` 가 있다면 연산할때 제외함"
      ],
      "id": "3f9c8a52-e3f9-4762-af84-070b7a84586c"
    },
    {
      "cell_type": "code",
      "execution_count": 50,
      "metadata": {},
      "outputs": [],
      "source": [
        "pd.Series([np.nan,1,2,3]).mean()"
      ],
      "id": "98e06d64-7038-4206-a717-1a282ed05d0e"
    },
    {
      "cell_type": "code",
      "execution_count": 51,
      "metadata": {},
      "outputs": [],
      "source": [
        "pd.Series([pd.NA,1,2,3]).mean()"
      ],
      "id": "f278237a-706b-465e-8c32-273b3124ff9d"
    },
    {
      "cell_type": "markdown",
      "metadata": {},
      "source": [
        "`-` type"
      ],
      "id": "a71e5089-7d6e-4210-9908-2f9f03f440a3"
    },
    {
      "cell_type": "code",
      "execution_count": 52,
      "metadata": {},
      "outputs": [],
      "source": [
        "s1 = pd.Series([np.nan,1,2,3])\n",
        "type(s1[0])"
      ],
      "id": "0a8a013e-54cb-4c6d-b2a0-53d496564731"
    },
    {
      "cell_type": "code",
      "execution_count": 53,
      "metadata": {},
      "outputs": [],
      "source": [
        "s2 = pd.Series([pd.NA,1,2,3])\n",
        "type(s2[0])"
      ],
      "id": "2a274ce0-bb17-4575-80a1-a3486e78af39"
    },
    {
      "cell_type": "markdown",
      "metadata": {},
      "source": [
        "`-` 검출 ($\\star$)"
      ],
      "id": "9f7e287f-6318-4064-8adb-c7cd6c3c41a6"
    },
    {
      "cell_type": "code",
      "execution_count": 54,
      "metadata": {},
      "outputs": [],
      "source": [
        "s1.isna()"
      ],
      "id": "1476c039-e5f1-48b3-9dc6-63737cf5d4b0"
    },
    {
      "cell_type": "code",
      "execution_count": 55,
      "metadata": {},
      "outputs": [],
      "source": [
        "s2.isna()"
      ],
      "id": "01a7641f-0020-49c2-937f-e0e469336e8c"
    },
    {
      "cell_type": "code",
      "execution_count": 56,
      "metadata": {},
      "outputs": [],
      "source": [
        "s1[0]"
      ],
      "id": "a2ff1cda-5a86-44ff-9931-eaf517916a44"
    },
    {
      "cell_type": "code",
      "execution_count": 57,
      "metadata": {},
      "outputs": [],
      "source": [
        "pd.isna(s1[0]), pd.isnull(s1[0])"
      ],
      "id": "17b6b709-365a-4999-80fb-df59282784e5"
    },
    {
      "cell_type": "code",
      "execution_count": 58,
      "metadata": {},
      "outputs": [],
      "source": [
        "pd.isna(s2[0]), pd.isnull(s2[0])"
      ],
      "id": "09e51111-fd91-40d6-877d-f176b0514a07"
    },
    {
      "cell_type": "code",
      "execution_count": 59,
      "metadata": {},
      "outputs": [],
      "source": [
        "id(pd.isna), id(pd.isnull) # 같은함수"
      ],
      "id": "8630afa3-5f5a-4854-becf-a6d28c8ba872"
    },
    {
      "cell_type": "markdown",
      "metadata": {},
      "source": [
        "# 5. Pandas: query"
      ],
      "id": "074d85e9-7bd9-4b59-844b-af2188c97e79"
    },
    {
      "cell_type": "code",
      "execution_count": 60,
      "metadata": {},
      "outputs": [],
      "source": [
        "ts = pd.DataFrame(np.random.normal(size=(20,4)),columns=list('ABCD'),index=pd.date_range('20221226',periods=20)).assign(E=['A']*10+['B']*10)\n",
        "ts"
      ],
      "id": "bea1e526-90f3-4598-a453-da30808f2591"
    },
    {
      "cell_type": "markdown",
      "metadata": {},
      "source": [
        "## A. 기본 query\n",
        "\n",
        "`-` 예시1: `A>0 and B<0`"
      ],
      "id": "9559ca0b-fe71-48fb-b86c-9f51267807be"
    },
    {
      "cell_type": "code",
      "execution_count": 61,
      "metadata": {},
      "outputs": [],
      "source": [
        "ts.query('A>0 and B<0')"
      ],
      "id": "b43839dd-ef02-424a-81c5-6d2369f5ca0d"
    },
    {
      "cell_type": "markdown",
      "metadata": {},
      "source": [
        "`-` 예시2: `A<B<C`"
      ],
      "id": "beb71a9c-79c6-4ab6-a6c4-8b4c7cc8b70b"
    },
    {
      "cell_type": "code",
      "execution_count": 62,
      "metadata": {},
      "outputs": [],
      "source": [
        "ts.query('A<B<C')"
      ],
      "id": "72d6af09-d46a-47e8-8ecc-dc94f77da40a"
    },
    {
      "cell_type": "markdown",
      "metadata": {},
      "source": [
        "`-` 예시3: `(A+B)/2 > 0`"
      ],
      "id": "0e40bc34-4882-4e43-be29-c91f55694abe"
    },
    {
      "cell_type": "code",
      "execution_count": 63,
      "metadata": {},
      "outputs": [],
      "source": [
        "ts.query('(A+B)/2>0')"
      ],
      "id": "2b6f888d-043c-4e1b-93c4-27a52b580127"
    },
    {
      "cell_type": "markdown",
      "metadata": {},
      "source": [
        "`-` 예시4: `(A+B)/2 > 0` and `E=='A'`"
      ],
      "id": "ca08b775-efd2-44d6-8c88-273e3d2f690b"
    },
    {
      "cell_type": "code",
      "execution_count": 64,
      "metadata": {},
      "outputs": [],
      "source": [
        "ts.query('(A+B)/2>0 and E==\"A\"')"
      ],
      "id": "f3b721d7-ad74-4339-989c-1ad2681306fb"
    },
    {
      "cell_type": "code",
      "execution_count": 65,
      "metadata": {},
      "outputs": [],
      "source": [
        "ts.query(\"(A+B)/2>0 and E=='A'\")"
      ],
      "id": "a6a86873-4e34-43c7-b8a5-e78aaf1b61bf"
    },
    {
      "cell_type": "markdown",
      "metadata": {},
      "source": [
        "## B. 외부변수를 이용\n",
        "\n",
        "`-` 예시: `A > mean(A)`"
      ],
      "id": "710c9578-68cd-43c9-9226-9b1f0dfdfab7"
    },
    {
      "cell_type": "code",
      "execution_count": 66,
      "metadata": {},
      "outputs": [],
      "source": [
        "value = np.percentile(ts.A,77) # ts.A 에서 77 percentile에 해당하는 숫자\n",
        "ts.query(\"A > @value\")"
      ],
      "id": "1b2ec3bc-89a1-416d-a2a7-3ea51e4016b1"
    },
    {
      "cell_type": "markdown",
      "metadata": {},
      "source": [
        "> **Note**\n",
        ">\n",
        "> 명확한 전달을 위해서 영상에서 설명한 예제를 조금 바꿨습니다.\n",
        "\n",
        "## C. Index로 query\n",
        "\n",
        "`-` 예시: (2022년 12월30일 보다 이전 날짜) $\\cup$ (2023년 1월10일)"
      ],
      "id": "badd79ec-0c1c-4e8d-8fad-c62935bb28b2"
    },
    {
      "cell_type": "code",
      "execution_count": 67,
      "metadata": {},
      "outputs": [],
      "source": [
        "ts.query('index < \"2022-12-30\" or index == \"2023-01-10\"')"
      ],
      "id": "73004ff0-bcec-4a8b-8cd5-de67ef9558b9"
    },
    {
      "cell_type": "markdown",
      "metadata": {},
      "source": [
        "## D. 열의 이름에 공백이 있을 경우"
      ],
      "id": "a63a9457-6002-402b-8e29-c2f4e78d2500"
    },
    {
      "cell_type": "code",
      "execution_count": 68,
      "metadata": {},
      "outputs": [],
      "source": [
        "df = pd.read_csv('https://raw.githubusercontent.com/guebin/DV2022/master/posts/FIFA23_official_data.csv')\n",
        "df.head()"
      ],
      "id": "0d239c79-6c0e-45b2-9d6c-8e5a87730289"
    },
    {
      "cell_type": "markdown",
      "metadata": {},
      "source": [
        "`-` 예시: `Skill Moves > 4`"
      ],
      "id": "a6db4285-d425-40e2-905d-802de98d81aa"
    },
    {
      "cell_type": "code",
      "execution_count": 69,
      "metadata": {},
      "outputs": [],
      "source": [
        "df.query('`Skill Moves` > 4')"
      ],
      "id": "423f42cc-596a-4eb1-8e31-977f371f2b58"
    },
    {
      "cell_type": "markdown",
      "metadata": {},
      "source": [
        "# 6. Pandas: 할당"
      ],
      "id": "c4a83005-85b2-4d39-99f1-bb1964b4812e"
    },
    {
      "cell_type": "code",
      "execution_count": 70,
      "metadata": {},
      "outputs": [],
      "source": [
        "np.random.seed(43052)\n",
        "att = np.random.choice(np.arange(10,21)*5,20)\n",
        "rep = np.random.choice(np.arange(5,21)*5,20)\n",
        "mid = np.random.choice(np.arange(0,21)*5,20)\n",
        "fin = np.random.choice(np.arange(0,21)*5,20)\n",
        "df = pd.DataFrame({'att':att,'rep':rep,'mid':mid,'fin':fin})\n",
        "df"
      ],
      "id": "05d651e0-9f20-4535-94a4-834cba676c44"
    },
    {
      "cell_type": "markdown",
      "metadata": {},
      "source": [
        "## A. `df.assign()`\n",
        "\n",
        "`-` 예시: `total = att*0.1 + rep*0.2 + mid*0.35 + fin*0.35` 를 계산하여\n",
        "할당"
      ],
      "id": "0882233e-38af-48f4-8dc3-48a821ca6495"
    },
    {
      "cell_type": "code",
      "execution_count": 71,
      "metadata": {},
      "outputs": [],
      "source": [
        "df.assign(total = df.att*0.1 + df.rep*0.2 + df.mid*0.35 + df.fin*0.35)"
      ],
      "id": "eb0ca43f-ad75-4b39-b99d-5f6d12cee7d7"
    },
    {
      "cell_type": "markdown",
      "metadata": {},
      "source": [
        "> Note: 이 방법은 df를 일시적으로 변화시킴\n",
        "\n",
        "## B. `df.eval()`\n",
        "\n",
        "`-` 예시: `total = att*0.1 + rep*0.2 + mid*0.35 + fin*0.35` 를 계산하여\n",
        "할당"
      ],
      "id": "79774a51-5334-4c09-8b10-d77dba63f891"
    },
    {
      "cell_type": "code",
      "execution_count": 72,
      "metadata": {},
      "outputs": [],
      "source": [
        "df.eval('total = att*0.1 + rep*0.2 + mid*0.35 + fin*0.35')"
      ],
      "id": "7138e5f6-62bf-4467-b7da-720a52eed4d4"
    },
    {
      "cell_type": "markdown",
      "metadata": {},
      "source": [
        "> Note: 이 방법은 df를 일시적으로 변화시킴\n",
        "\n",
        "## C. `df[colname] = xxx`\n",
        "\n",
        "`-` 예시: `total = att*0.1 + rep*0.2 + mid*0.35 + fin*0.35` 를 계산하여\n",
        "할당."
      ],
      "id": "dbfc8670-3f27-4bb4-8b1b-df8ae15c3117"
    },
    {
      "cell_type": "code",
      "execution_count": 73,
      "metadata": {},
      "outputs": [],
      "source": [
        "df['total'] = df.att*0.1 + df.rep*0.2 + df.mid*0.35 + df.fin*0.35\n",
        "df"
      ],
      "id": "b0a3c887-5ae0-44a2-a31a-2eeaf8a3b1f4"
    },
    {
      "cell_type": "markdown",
      "metadata": {},
      "source": [
        "> Note: 이 방법은 df를 영구적으로 변화시킴\n",
        "\n",
        "# 7. Pandas: transform column\n",
        "\n",
        "## A. `lambda`\n",
        "\n",
        "`-` 예시1: $x \\to x+2$"
      ],
      "id": "7311752a-4601-42c5-950e-fdab2b118cd6"
    },
    {
      "cell_type": "code",
      "execution_count": 74,
      "metadata": {},
      "outputs": [],
      "source": [
        "f = lambda x: x+2\n",
        "f(1)"
      ],
      "id": "db5b5b35-d40d-43ee-a526-beb48db708e1"
    },
    {
      "cell_type": "markdown",
      "metadata": {},
      "source": [
        "`-` 예시2: $x,y \\to x+y$"
      ],
      "id": "937ca4a9-d1fa-4041-a2ad-2c1e85d53bfd"
    },
    {
      "cell_type": "code",
      "execution_count": 75,
      "metadata": {},
      "outputs": [],
      "source": [
        "f = lambda x,y: x+y\n",
        "f(1,2)"
      ],
      "id": "c3f00aa3-fde3-4b64-9c65-d6f45470a783"
    },
    {
      "cell_type": "markdown",
      "metadata": {},
      "source": [
        "`-` 예시3: ‘2023-09’ $\\to$ 9"
      ],
      "id": "7d3a878d-50e3-41e5-988a-c8f2e42f05e3"
    },
    {
      "cell_type": "code",
      "execution_count": 76,
      "metadata": {},
      "outputs": [],
      "source": [
        "f = lambda x: int(x[-2:])\n",
        "f('2023-09')"
      ],
      "id": "1a2dea0e-7af9-462e-9164-36d19792f300"
    },
    {
      "cell_type": "markdown",
      "metadata": {},
      "source": [
        "`-` 예시4: ‘2023-09’ $\\to$ (2023,9)"
      ],
      "id": "b49f4432-1f42-4ea2-b023-7a8d7a0759e0"
    },
    {
      "cell_type": "code",
      "execution_count": 77,
      "metadata": {},
      "outputs": [],
      "source": [
        "f = lambda x: (int(x[:4]),int(x[-2:]))\n",
        "f('2023-09')"
      ],
      "id": "98dd3cbf-3f1d-4c85-99e9-181cc05f5ad9"
    },
    {
      "cell_type": "markdown",
      "metadata": {},
      "source": [
        "`-` 예시5: 문자열이 ‘cat’이면 1 ’dog’ 이면 0 // ’cat이면 1 ’cat’이\n",
        "아니면 0"
      ],
      "id": "70386589-0775-46ae-8509-17ce128ce22a"
    },
    {
      "cell_type": "code",
      "execution_count": 78,
      "metadata": {},
      "outputs": [],
      "source": [
        "f = lambda x: 1 if x=='cat' else 0"
      ],
      "id": "ca6801b6-30ee-4e22-bb7f-829801a3b9bf"
    },
    {
      "cell_type": "code",
      "execution_count": 79,
      "metadata": {},
      "outputs": [],
      "source": [
        "f('cat'), f('dog')"
      ],
      "id": "91ab45eb-9e86-4f5c-af23-9ee66efc427b"
    },
    {
      "cell_type": "markdown",
      "metadata": {},
      "source": [
        "`-` Note: `f`로 이름을 정하지 않고 직접 사용 가능"
      ],
      "id": "c80cf939-4a41-49e3-9471-170bec54d4d6"
    },
    {
      "cell_type": "code",
      "execution_count": 80,
      "metadata": {},
      "outputs": [],
      "source": [
        "(lambda x: x+1)(2)"
      ],
      "id": "94adbbbb-9de1-42d3-84eb-cfabe796b426"
    },
    {
      "cell_type": "markdown",
      "metadata": {},
      "source": [
        "## B. `map`\n",
        "\n",
        "`-` 개념: `map(f,[x1,x2,...xn])=[f(x1),f(x2),...,f(xn)]`\n",
        "\n",
        "`-` 예시1: `x->x+1`을 `[1,2,3]`에 적용"
      ],
      "id": "cba2ef30-2c43-4674-84cd-fc1d71745b2e"
    },
    {
      "cell_type": "code",
      "execution_count": 81,
      "metadata": {},
      "outputs": [],
      "source": [
        "list(map(lambda x: x+1, [1,-5,3]))"
      ],
      "id": "63eef659-e0ec-4bbb-8706-5d6fe69388a5"
    },
    {
      "cell_type": "markdown",
      "metadata": {},
      "source": [
        "`-` 예시2 `df.Height`열 변환하기"
      ],
      "id": "df660498-95bd-42cc-9c47-61525b0c8b1d"
    },
    {
      "cell_type": "code",
      "execution_count": 82,
      "metadata": {},
      "outputs": [],
      "source": [
        "df = pd.read_csv('https://raw.githubusercontent.com/guebin/DV2022/master/posts/FIFA23_official_data.csv')\n",
        "s = df.Height[:5]\n",
        "s"
      ],
      "id": "f90dc1cc-7310-4573-af87-6ec9f21285a0"
    },
    {
      "cell_type": "code",
      "execution_count": 83,
      "metadata": {},
      "outputs": [],
      "source": [
        "x = s[0]\n",
        "x"
      ],
      "id": "309b8c53-8da9-4b65-9f83-5bf8f2b3e020"
    },
    {
      "cell_type": "code",
      "execution_count": 84,
      "metadata": {},
      "outputs": [],
      "source": [
        "list(map(lambda x: int(x.replace('cm','')), s))"
      ],
      "id": "49fed4af-14b8-46ff-82c4-eaf0bb29bda3"
    },
    {
      "cell_type": "markdown",
      "metadata": {},
      "source": [
        "`# 예시3` `df.Height`열 변환하기 + 변환된 열 할당하기"
      ],
      "id": "e5866304-df3f-46db-bcc8-2e758f59aa20"
    },
    {
      "cell_type": "code",
      "execution_count": 85,
      "metadata": {},
      "outputs": [],
      "source": [
        "df = pd.read_csv('https://raw.githubusercontent.com/guebin/DV2022/master/posts/FIFA23_official_data.csv')"
      ],
      "id": "7125ab40-b628-4d0f-9346-6ca037bfe691"
    },
    {
      "cell_type": "markdown",
      "metadata": {},
      "source": [
        "`-` (풀이1)"
      ],
      "id": "3d26010a-47c5-4601-bf3e-2016197fc142"
    },
    {
      "cell_type": "code",
      "execution_count": 86,
      "metadata": {},
      "outputs": [],
      "source": [
        "df.assign(Height= list(map(lambda x: int(x.replace('cm','')), df.Height)))"
      ],
      "id": "f8eb1f27-8e5d-406f-bb78-ca510f6ad7c3"
    },
    {
      "cell_type": "markdown",
      "metadata": {},
      "source": [
        "`-` (풀이2) – 사실 수틀리면 컴프리헨션 쓰면 된다."
      ],
      "id": "72a8e083-910e-461b-8289-feca22c35d47"
    },
    {
      "cell_type": "code",
      "execution_count": 87,
      "metadata": {},
      "outputs": [],
      "source": [
        "df.assign(Height= [int(height.replace('cm','')) for height in df.Height])"
      ],
      "id": "79b01be5-8750-46ba-ac96-eeeb502f8326"
    },
    {
      "cell_type": "markdown",
      "metadata": {},
      "source": [
        "`#`\n",
        "\n",
        "`# 예시4` – `df.Position` 열에 아래와 같은 변환을 수행하고, 변환된 열을\n",
        "할당하라.\n",
        "\n",
        "|            before             | after |\n",
        "|:-----------------------------:|:-----:|\n",
        "| `<span class=\"pos pos28\">SUB` | `SUB` |\n",
        "| `<span class=\"pos pos15\">LCM` | `LCM` |\n",
        "|  `<span class=\"pos pos7\">LB`  | `LB`  |\n",
        "| `<span class=\"pos pos13\">RCM` | `RCM` |\n",
        "| `<span class=\"pos pos13\">RCM` | `RCM` |"
      ],
      "id": "65ffc26d-b2a4-4014-b00a-07f2cb836818"
    },
    {
      "cell_type": "code",
      "execution_count": 88,
      "metadata": {},
      "outputs": [],
      "source": [
        "df = pd.read_csv('https://raw.githubusercontent.com/guebin/DV2022/master/posts/FIFA23_official_data.csv')"
      ],
      "id": "1740daed-76f9-4e66-b006-3a7a039adc30"
    },
    {
      "cell_type": "markdown",
      "metadata": {},
      "source": [
        "`-` (풀이1)"
      ],
      "id": "4aad3514-cf74-4744-adae-3627b65cd451"
    },
    {
      "cell_type": "code",
      "execution_count": 89,
      "metadata": {},
      "outputs": [],
      "source": [
        "x = df.Position[0]\n",
        "x"
      ],
      "id": "6b5769cf-c229-403c-a46a-89661e8d7c54"
    },
    {
      "cell_type": "code",
      "execution_count": 90,
      "metadata": {},
      "outputs": [],
      "source": [
        "df.assign(Position = list(map(lambda x: x.split('>')[-1] if not pd.isna(x) else 'NA', df.Position)))"
      ],
      "id": "32e13810-553b-4b44-b4ca-e54a5b22869b"
    },
    {
      "cell_type": "markdown",
      "metadata": {},
      "source": [
        "`-` (풀이2) – 리스트컴프리헨션"
      ],
      "id": "f8dea0fa-42da-427a-92c3-9e8139719468"
    },
    {
      "cell_type": "code",
      "execution_count": 91,
      "metadata": {},
      "outputs": [],
      "source": [
        "f = lambda x: x.split('>')[-1] if not pd.isna(x) else 'NA'"
      ],
      "id": "1d22dc66-3a7d-463a-bbaa-46777b36fa47"
    },
    {
      "cell_type": "code",
      "execution_count": 92,
      "metadata": {},
      "outputs": [],
      "source": [
        "df.assign(Position = [f(x) for x in df.Position])"
      ],
      "id": "73a56701-c872-4c8b-9f1b-b463875c5198"
    },
    {
      "cell_type": "markdown",
      "metadata": {},
      "source": [
        "-   개인의견: 이미 람다로 함수를 만들어야 해서 그냥 map을 쓰는게\n",
        "    자연스러움\n",
        "\n",
        "# 8. HW\n",
        "\n",
        "`-` 문제: 아래의 자료에서 입학년도를 추가하고 싶다면?"
      ],
      "id": "1dc0da98-2b77-4dd3-893e-4802b72bf232"
    },
    {
      "cell_type": "code",
      "execution_count": 93,
      "metadata": {},
      "outputs": [],
      "source": [
        "np.random.seed(43052)\n",
        "att = np.random.choice(np.arange(10,21)*5,20)\n",
        "rep = np.random.choice(np.arange(5,21)*5,20)\n",
        "mid = np.random.choice(np.arange(0,21)*5,20)\n",
        "fin = np.random.choice(np.arange(0,21)*5,20)\n",
        "student_id = [ '2023-12362', '2022-12471', '2023-12333', '2022-12400', '2022-12377',\n",
        "               '2022-12469', '2023-12314', '2022-12363', '2023-12445', '2023-12336',\n",
        "               '2023-12426', '2022-12380', '2023-12422', '2022-12488', '2022-12370',\n",
        "               '2023-12443', '2022-12463', '2023-12491', '2023-12340', '2022-12312' ]\n",
        "df = pd.DataFrame({'student_id':student_id,'att':att,'rep':rep,'mid':mid,'fin':fin})\n",
        "df.head()"
      ],
      "id": "d9c98a1e-1ba9-4077-b2b8-d9b2ddb78f98"
    },
    {
      "cell_type": "code",
      "execution_count": 630,
      "metadata": {},
      "outputs": [],
      "source": [
        "# 출력결과가 아래와 같아야 한다."
      ],
      "id": "ddb78cf2-9a04-44c5-958d-5469695af61a"
    }
  ],
  "nbformat": 4,
  "nbformat_minor": 5,
  "metadata": {
    "kernelspec": {
      "name": "python3",
      "display_name": "Python 3 (ipykernel)",
      "language": "python"
    },
    "language_info": {
      "name": "python",
      "codemirror_mode": {
        "name": "ipython",
        "version": "3"
      },
      "file_extension": ".py",
      "mimetype": "text/x-python",
      "nbconvert_exporter": "python",
      "pygments_lexer": "ipython3",
      "version": "3.10.13"
    }
  }
}