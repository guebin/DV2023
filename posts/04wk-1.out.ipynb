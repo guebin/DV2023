{
  "cells": [
    {
      "cell_type": "markdown",
      "metadata": {},
      "source": [
        "# 04wk-1: Pandas – 기본기능, missing, `query`, 할당, transform column\n",
        "\n",
        "최규빈  \n",
        "2023-09-25\n",
        "\n",
        "<a href=\"https://colab.research.google.com/github/guebin/DV2023/blob/main/posts/04wk-1.ipynb\"><img src=\"https://colab.research.google.com/assets/colab-badge.svg\" style=\"text-align: left\"></a>\n",
        "\n",
        "# 1. 강의영상\n",
        "\n",
        "<https://youtu.be/playlist?list=PLQqh36zP38-wi_K3B-HLTRaqfsSqusBO7&si=fU5_FogVGOLPGCQt>\n",
        "\n",
        "# 2. Imports"
      ],
      "id": "f2ae0392-116c-40d3-9b82-8d29e90c10d0"
    },
    {
      "cell_type": "code",
      "execution_count": 1,
      "metadata": {},
      "outputs": [],
      "source": [
        "import numpy as np\n",
        "import pandas as pd"
      ],
      "id": "a5b7b95b-bbda-41f2-a5e9-16b90680d91d"
    },
    {
      "cell_type": "markdown",
      "metadata": {},
      "source": [
        "# 3. Pandas: 기본기능\n",
        "\n",
        "## A. 열의 이름 변경\n",
        "\n",
        "`-` 방법1: `df.columns`에 대입"
      ],
      "id": "488fae11-c25f-410e-85eb-aff537fe8fe7"
    },
    {
      "cell_type": "code",
      "execution_count": 2,
      "metadata": {},
      "outputs": [],
      "source": [
        "df = pd.DataFrame(np.random.randn(3,2))\n",
        "df.columns = ['A','B']\n",
        "df"
      ],
      "id": "fb8a8f68-aec5-40ce-9172-3c7536079503"
    },
    {
      "cell_type": "markdown",
      "metadata": {},
      "source": [
        "`-` 방법2: `df.set_axis()`"
      ],
      "id": "e20c672b-e123-47bf-b318-cb73bc56ebc2"
    },
    {
      "cell_type": "code",
      "execution_count": 3,
      "metadata": {},
      "outputs": [],
      "source": [
        "df = pd.DataFrame(np.random.randn(3,2))\n",
        "df.set_axis(['A','B'],axis=1)"
      ],
      "id": "e5237cf0-4c00-46fa-aae6-a38ef71b68f7"
    },
    {
      "cell_type": "markdown",
      "metadata": {},
      "source": [
        "`-` 방법3: `df.rename()`"
      ],
      "id": "3b3c8408-2bd0-4c37-b1cd-697fc1111f07"
    },
    {
      "cell_type": "code",
      "execution_count": 4,
      "metadata": {},
      "outputs": [],
      "source": [
        "df = pd.DataFrame(np.random.randn(3,2))\n",
        "#df.rename(columns={0:'AA',1:'BB'})\n",
        "df.rename({0:'AA',1:'BB'},axis=1)"
      ],
      "id": "a1defd02-9043-4032-9b8c-3f5f421b5682"
    },
    {
      "cell_type": "markdown",
      "metadata": {},
      "source": [
        "## B. 행의 이름 변경\n",
        "\n",
        "`-` 방법1: `df.index`에 대입"
      ],
      "id": "f7595d3e-f4ba-421f-8409-0c6fd6b58163"
    },
    {
      "cell_type": "code",
      "execution_count": 5,
      "metadata": {},
      "outputs": [],
      "source": [
        "df = pd.DataFrame(np.random.randn(3,2))\n",
        "df"
      ],
      "id": "2496dda7-f044-40f6-9e15-792d7af5c1a2"
    },
    {
      "cell_type": "code",
      "execution_count": 6,
      "metadata": {},
      "outputs": [],
      "source": [
        "df.index = ['guebin','jiyoon','boram']\n",
        "df"
      ],
      "id": "009b015d-3596-4902-9742-6c70d7acd3ca"
    },
    {
      "cell_type": "markdown",
      "metadata": {},
      "source": [
        "`-` 방법2: `df.set_axis()`"
      ],
      "id": "4c287693-205c-45ba-8d4d-63b96b6b799b"
    },
    {
      "cell_type": "code",
      "execution_count": 7,
      "metadata": {},
      "outputs": [],
      "source": [
        "df = pd.DataFrame(np.random.randn(3,2))\n",
        "df.set_axis([11,22,33],axis=0)"
      ],
      "id": "055084e9-c7ab-474b-9bab-72c30428b40f"
    },
    {
      "cell_type": "markdown",
      "metadata": {},
      "source": [
        "`-` 방법3: `df.rename()`"
      ],
      "id": "f8ae6a05-b7e7-4f3e-8ae1-bb22ca89a07c"
    },
    {
      "cell_type": "code",
      "execution_count": 8,
      "metadata": {},
      "outputs": [],
      "source": [
        "df = pd.DataFrame(np.random.randn(3,2))\n",
        "df.rename({1:'guebin'},axis=0)"
      ],
      "id": "cce20b8e-a42a-4ee5-9470-5d25e4e781cc"
    },
    {
      "cell_type": "markdown",
      "metadata": {},
      "source": [
        "`-` 방법4: 임의의 열을 행이름 으로 지정!"
      ],
      "id": "b7deb388-d629-4db2-9383-e170b6f752e2"
    },
    {
      "cell_type": "code",
      "execution_count": 9,
      "metadata": {},
      "outputs": [],
      "source": [
        "df = pd.DataFrame({'id':['2021-43052','2021-43052'], 'hour':[3,2], 'height':[176,172]})\n",
        "df.set_index('id')"
      ],
      "id": "72fcb89c-8eef-40d2-a88e-c6694e3eb346"
    },
    {
      "cell_type": "markdown",
      "metadata": {},
      "source": [
        "## `#` A~B에 대한 연습문제\n",
        "\n",
        "`-` 데이터 load"
      ],
      "id": "52d82bb3-4b0b-40fa-91af-731d7611d4be"
    },
    {
      "cell_type": "code",
      "execution_count": 10,
      "metadata": {},
      "outputs": [],
      "source": [
        "df = pd.read_csv('https://raw.githubusercontent.com/guebin/DV2022/master/posts/FIFA23_official_data.csv')\n",
        "df.head()"
      ],
      "id": "97d28044-4376-4649-a2eb-a7b227633ab8"
    },
    {
      "cell_type": "markdown",
      "metadata": {},
      "source": [
        "`# 예제1`: 열의 이름 출력하고, 열의 이름중 공백(``)이 있을 경우\n",
        "언더바(`_`) 로 바꾸자.\n",
        "\n",
        "컬럼출력"
      ],
      "id": "4a777e8a-2bca-4eec-ba7a-f2d317c469eb"
    },
    {
      "cell_type": "code",
      "execution_count": 11,
      "metadata": {},
      "outputs": [],
      "source": [
        "df.columns"
      ],
      "id": "ccc92bb6-1962-414a-8bf7-f3b482330467"
    },
    {
      "cell_type": "markdown",
      "metadata": {},
      "source": [
        "1.  `df.columns`에 직접대입"
      ],
      "id": "47fafda7-ea34-424a-9f43-c687c456ea21"
    },
    {
      "cell_type": "code",
      "execution_count": 12,
      "metadata": {},
      "outputs": [],
      "source": [
        "new_colnames = [l.replace(' ','_') for l in df.columns]"
      ],
      "id": "bfb10d7a-5bee-4b6a-bdc7-1b4617720fff"
    },
    {
      "cell_type": "code",
      "execution_count": 13,
      "metadata": {},
      "outputs": [],
      "source": [
        "# df.columns = new_colnames\n",
        "# df"
      ],
      "id": "27032583-f4d6-4687-818e-8a9638d31412"
    },
    {
      "cell_type": "markdown",
      "metadata": {},
      "source": [
        "1.  `set_axis()` 이용"
      ],
      "id": "b3a54c6c-a15c-4df7-9fe8-b0877705d961"
    },
    {
      "cell_type": "code",
      "execution_count": 14,
      "metadata": {},
      "outputs": [],
      "source": [
        "df.set_axis(new_colnames,axis=1)"
      ],
      "id": "51de51db-f5b6-4e9d-88b1-24624dff087f"
    },
    {
      "cell_type": "markdown",
      "metadata": {},
      "source": [
        "1.  `rename()` 이용 – 안중요함"
      ],
      "id": "d94ce648-555f-42eb-b76a-4e9b3effff0c"
    },
    {
      "cell_type": "code",
      "execution_count": 15,
      "metadata": {},
      "outputs": [],
      "source": [
        "dct = {l:l.replace(' ','_') for l in df.columns}\n",
        "df.rename(dct,axis=1)"
      ],
      "id": "39f43fcc-6a22-4928-84e2-c54c5561d638"
    },
    {
      "cell_type": "markdown",
      "metadata": {},
      "source": [
        "`#`\n",
        "\n",
        "`예제2`: ID를 row-index로 지정하라.\n",
        "\n",
        "1.  직접지정"
      ],
      "id": "f2f397bb-c318-492f-a5c6-e5a3972700e1"
    },
    {
      "cell_type": "code",
      "execution_count": 16,
      "metadata": {},
      "outputs": [],
      "source": [
        "# df.index = df.ID\n",
        "# df"
      ],
      "id": "26048a50-68ad-48a9-a33d-c3c701805d81"
    },
    {
      "cell_type": "markdown",
      "metadata": {},
      "source": [
        "1.  `set_axis()`"
      ],
      "id": "99328316-15d1-4994-b820-e9c1d735ebc0"
    },
    {
      "cell_type": "code",
      "execution_count": 17,
      "metadata": {},
      "outputs": [],
      "source": [
        "df.set_axis(df.ID,axis=0)"
      ],
      "id": "b56824a5-71f3-4aef-8c4b-a8c116f08457"
    },
    {
      "cell_type": "markdown",
      "metadata": {},
      "source": [
        "1.  `rename()` – 안중요함"
      ],
      "id": "f5711137-5a9a-4419-8f9b-101f22023ba9"
    },
    {
      "cell_type": "code",
      "execution_count": 18,
      "metadata": {},
      "outputs": [],
      "source": [
        "dct = {idx:ID for idx, ID in zip(df.index,df.ID)}"
      ],
      "id": "7acc939a-f300-43be-b48b-bc8cd31e7a1c"
    },
    {
      "cell_type": "code",
      "execution_count": 19,
      "metadata": {},
      "outputs": [],
      "source": [
        "df.rename(dct,axis=0)"
      ],
      "id": "0608a538-09a9-40b4-b18a-92ca82b5978f"
    },
    {
      "cell_type": "markdown",
      "metadata": {},
      "source": [
        "1.  `set_index()`"
      ],
      "id": "2497ddee-9ae1-48b4-bbb8-a84f0e1e8251"
    },
    {
      "cell_type": "code",
      "execution_count": 20,
      "metadata": {},
      "outputs": [],
      "source": [
        "df.set_index('ID')"
      ],
      "id": "618831be-295c-482a-b9b7-153aff37b756"
    },
    {
      "cell_type": "markdown",
      "metadata": {},
      "source": [
        "`#`\n",
        "\n",
        "## C. `df.T`\n",
        "\n",
        "`-` 데이터 load"
      ],
      "id": "745a04c6-ff1a-4105-b092-3054723251cd"
    },
    {
      "cell_type": "code",
      "execution_count": 21,
      "metadata": {},
      "outputs": [],
      "source": [
        "df = pd.read_csv('https://raw.githubusercontent.com/guebin/DV2022/master/posts/FIFA23_official_data.csv')\n",
        "df.head()"
      ],
      "id": "7201b589-2c63-48ab-ae02-8bcde1693ef1"
    },
    {
      "cell_type": "markdown",
      "metadata": {},
      "source": [
        "`-` `df.T`를 이용하여 데이터를 살피면 편리함"
      ],
      "id": "476de13e-4947-4989-ae32-ebeaccaa147d"
    },
    {
      "cell_type": "code",
      "execution_count": 22,
      "metadata": {},
      "outputs": [],
      "source": [
        "df.T.iloc[:,0:2]"
      ],
      "id": "58bdc0b0-2148-4e42-b8ef-4241406d7aec"
    },
    {
      "cell_type": "markdown",
      "metadata": {},
      "source": [
        "`-` 출력옵션 조정"
      ],
      "id": "6fb11a4a-9e2d-48c9-ae23-59375d4fd6a3"
    },
    {
      "cell_type": "code",
      "execution_count": 23,
      "metadata": {},
      "outputs": [],
      "source": [
        "pd.options.display.max_rows = 12\n",
        "display(df.T.iloc[:,:3])\n",
        "pd.reset_option(\"display.max_rows\")"
      ],
      "id": "841d9e3a-1d72-4525-900b-8aeb5b0e22fb"
    },
    {
      "cell_type": "markdown",
      "metadata": {},
      "source": [
        "-   이 예제에서는 줄이는 옵션을 사용했지만 보통은 늘려서 사용함\n",
        "\n",
        "## D. `df.dtypes`, `s.dtype`\n",
        "\n",
        "`-` `df.dtypes`"
      ],
      "id": "fe3d954c-0895-4ac3-ad9c-188f52ad856d"
    },
    {
      "cell_type": "code",
      "execution_count": 24,
      "metadata": {},
      "outputs": [],
      "source": [
        "df.dtypes"
      ],
      "id": "99d1cefe-4d91-4460-846f-f962484d7ac1"
    },
    {
      "cell_type": "markdown",
      "metadata": {},
      "source": [
        "`-` `s.dtype`"
      ],
      "id": "707e48ee-0d72-4a11-9f08-0aa505cb26dd"
    },
    {
      "cell_type": "code",
      "execution_count": 25,
      "metadata": {},
      "outputs": [],
      "source": [
        "df.Name.dtype"
      ],
      "id": "32be4864-ca50-4e72-bd64-3daec799f28f"
    },
    {
      "cell_type": "markdown",
      "metadata": {},
      "source": [
        "`-` `==`를 이용한 자료형 체크"
      ],
      "id": "770e586f-260c-4481-b1fc-87c5f123a567"
    },
    {
      "cell_type": "code",
      "execution_count": 26,
      "metadata": {},
      "outputs": [],
      "source": [
        "df.Name.dtype == np.object_"
      ],
      "id": "441ad4be-5d7c-4485-87bc-73e31c589873"
    },
    {
      "cell_type": "code",
      "execution_count": 27,
      "metadata": {},
      "outputs": [],
      "source": [
        "df.Age.dtype == np.int64"
      ],
      "id": "fcb45169-a725-4c78-a3f2-1c280ef30bd7"
    },
    {
      "cell_type": "markdown",
      "metadata": {},
      "source": [
        "`# 예제`: `df`에서 `int64` 자료형만 출력\n",
        "\n",
        "`-` (풀이1)"
      ],
      "id": "8f8c6926-7ec3-4de7-b765-930391ae876e"
    },
    {
      "cell_type": "code",
      "execution_count": 28,
      "metadata": {},
      "outputs": [],
      "source": [
        "pd.Series(list(df.dtypes))"
      ],
      "id": "7bfcbe8a-529d-4dbb-8e1e-555dd14a9d0c"
    },
    {
      "cell_type": "code",
      "execution_count": 29,
      "metadata": {},
      "outputs": [],
      "source": [
        "df.iloc[:,[0,2,6,7,12]]"
      ],
      "id": "e4eb1bf8-5eda-4ca8-bbc5-80f9923e8cf0"
    },
    {
      "cell_type": "markdown",
      "metadata": {},
      "source": [
        "`-` (풀이2)"
      ],
      "id": "7c3647e8-860b-49af-83ab-15f6d3fd94ff"
    },
    {
      "cell_type": "code",
      "execution_count": 30,
      "metadata": {},
      "outputs": [],
      "source": [
        "df.loc[:,[o == np.int64 for o in df.dtypes]]"
      ],
      "id": "cbade23f-215a-4508-8b6a-20d38344969b"
    },
    {
      "cell_type": "markdown",
      "metadata": {},
      "source": [
        "`#`\n",
        "\n",
        "## E. `df.sort_values()`\n",
        "\n",
        "`-` 예시1: 나이가 어린 순서대로 정렬"
      ],
      "id": "01742090-7bd1-4423-87ee-afa82f68a18c"
    },
    {
      "cell_type": "code",
      "execution_count": 31,
      "metadata": {},
      "outputs": [],
      "source": [
        "df.sort_values(by='Age')"
      ],
      "id": "1a1706ec-067e-4567-b3f0-c2d3a7c404bc"
    },
    {
      "cell_type": "markdown",
      "metadata": {},
      "source": [
        "`-` 예시2: 나이가 많은 순서대로 정렬"
      ],
      "id": "5c9740d4-5cb4-4293-9762-facc5155bcb0"
    },
    {
      "cell_type": "code",
      "execution_count": 32,
      "metadata": {},
      "outputs": [],
      "source": [
        "df.sort_values(by='Age',ascending=False)"
      ],
      "id": "bdd42216-6494-45ad-ad16-86a9951835ec"
    },
    {
      "cell_type": "markdown",
      "metadata": {},
      "source": [
        "`-` 예시3: 능력치가 좋은 순서대로 정렬"
      ],
      "id": "cc5afe26-15c8-4f41-b169-1a2ab4d63ad1"
    },
    {
      "cell_type": "code",
      "execution_count": 33,
      "metadata": {},
      "outputs": [],
      "source": [
        "df.sort_values(by = 'Overall',ascending=False)"
      ],
      "id": "d1987d02-60fc-4230-a1e7-7f62c81bceae"
    },
    {
      "cell_type": "markdown",
      "metadata": {},
      "source": [
        "## F. `df.info()`"
      ],
      "id": "993a1f6c-8828-4d93-be37-fec3c8830552"
    },
    {
      "cell_type": "code",
      "execution_count": 34,
      "metadata": {},
      "outputs": [
        {
          "output_type": "stream",
          "name": "stdout",
          "text": [
            "<class 'pandas.core.frame.DataFrame'>\n",
            "RangeIndex: 17660 entries, 0 to 17659\n",
            "Data columns (total 29 columns):\n",
            " #   Column                    Non-Null Count  Dtype  \n",
            "---  ------                    --------------  -----  \n",
            " 0   ID                        17660 non-null  int64  \n",
            " 1   Name                      17660 non-null  object \n",
            " 2   Age                       17660 non-null  int64  \n",
            " 3   Photo                     17660 non-null  object \n",
            " 4   Nationality               17660 non-null  object \n",
            " 5   Flag                      17660 non-null  object \n",
            " 6   Overall                   17660 non-null  int64  \n",
            " 7   Potential                 17660 non-null  int64  \n",
            " 8   Club                      17449 non-null  object \n",
            " 9   Club Logo                 17660 non-null  object \n",
            " 10  Value                     17660 non-null  object \n",
            " 11  Wage                      17660 non-null  object \n",
            " 12  Special                   17660 non-null  int64  \n",
            " 13  Preferred Foot            17660 non-null  object \n",
            " 14  International Reputation  17660 non-null  float64\n",
            " 15  Weak Foot                 17660 non-null  float64\n",
            " 16  Skill Moves               17660 non-null  float64\n",
            " 17  Work Rate                 17660 non-null  object \n",
            " 18  Body Type                 17622 non-null  object \n",
            " 19  Real Face                 17622 non-null  object \n",
            " 20  Position                  17625 non-null  object \n",
            " 21  Joined                    16562 non-null  object \n",
            " 22  Loaned From               694 non-null    object \n",
            " 23  Contract Valid Until      17299 non-null  object \n",
            " 24  Height                    17660 non-null  object \n",
            " 25  Weight                    17660 non-null  object \n",
            " 26  Release Clause            16509 non-null  object \n",
            " 27  Kit Number                17625 non-null  float64\n",
            " 28  Best Overall Rating       21 non-null     object \n",
            "dtypes: float64(4), int64(5), object(20)\n",
            "memory usage: 3.9+ MB"
          ]
        }
      ],
      "source": [
        "df.info()"
      ],
      "id": "c52268b5-6722-4f2f-9108-cb27d79c8ac0"
    },
    {
      "cell_type": "markdown",
      "metadata": {},
      "source": [
        "## G. `df.isna()`\n",
        "\n",
        "`-` 예시1: 열별로 결측치 count"
      ],
      "id": "cfe9cd48-0417-4e9f-8674-f7a544c6703a"
    },
    {
      "cell_type": "code",
      "execution_count": 35,
      "metadata": {},
      "outputs": [],
      "source": [
        "df.isna().sum(axis=0)"
      ],
      "id": "2ef9dcb3-3321-4aa6-b4c2-383e587d62f0"
    },
    {
      "cell_type": "markdown",
      "metadata": {},
      "source": [
        "`-` 예시2: 결측치가 50% 이상인 열 출력"
      ],
      "id": "e2e3212e-e723-4b76-9be5-de83953623c6"
    },
    {
      "cell_type": "code",
      "execution_count": 36,
      "metadata": {},
      "outputs": [],
      "source": [
        "df.loc[:,df.isna().sum(axis=0) / len(df) > 0.5] "
      ],
      "id": "df24b385-83c3-4983-9200-3629acd4f535"
    },
    {
      "cell_type": "markdown",
      "metadata": {},
      "source": [
        "> axis 사용하기 어렵다면\n",
        "> <https://guebin.github.io/PP2023/posts/02_DataScience/2023-04-12-6wk-2.html>\n",
        "> 를 복습할 것!\n",
        "\n",
        "## H. `df.drop()`\n",
        "\n",
        "`-` 예시1: \\[0,1,2,3\\] 행을 drop"
      ],
      "id": "f7cc1e3c-d972-47bd-bab6-84a457f86cb3"
    },
    {
      "cell_type": "code",
      "execution_count": 37,
      "metadata": {},
      "outputs": [],
      "source": [
        "df.drop([0,1,2,3],axis=0)"
      ],
      "id": "de3d099c-a64e-4df0-abf3-4cfc5b0f865a"
    },
    {
      "cell_type": "markdown",
      "metadata": {},
      "source": [
        "`-` 예시2: \\[‘Name’, ‘Age’\\] 열을 drop"
      ],
      "id": "a4c331eb-d826-449f-a064-c2fe07422436"
    },
    {
      "cell_type": "code",
      "execution_count": 38,
      "metadata": {},
      "outputs": [],
      "source": [
        "df.drop(['Name','Age'],axis=1)"
      ],
      "id": "982fc114-533a-4de6-8bc4-024380635dd4"
    },
    {
      "cell_type": "markdown",
      "metadata": {},
      "source": [
        "## `#` G~H 에 대한 연습문제\n",
        "\n",
        "`# 예제`: 결측치가 50퍼 이상인 열을 제외하라.\n",
        "\n",
        "`-` (풀이1)"
      ],
      "id": "c1b076f9-ae51-47a6-85c7-184d0ada4a21"
    },
    {
      "cell_type": "code",
      "execution_count": 39,
      "metadata": {},
      "outputs": [],
      "source": [
        "df.isna().mean(axis=0) > 0.5"
      ],
      "id": "58092db4-9560-488b-8031-8bfc0a644a82"
    },
    {
      "cell_type": "code",
      "execution_count": 40,
      "metadata": {},
      "outputs": [],
      "source": [
        "df.drop(['Loaned From','Best Overall Rating'],axis=1)"
      ],
      "id": "2cc7e9f0-3c66-48dc-acd0-4f95bed27ad7"
    },
    {
      "cell_type": "markdown",
      "metadata": {},
      "source": [
        "`-` (풀이2)"
      ],
      "id": "2789a79b-a9c8-4d1c-8729-13f18f66569f"
    },
    {
      "cell_type": "code",
      "execution_count": 41,
      "metadata": {},
      "outputs": [],
      "source": [
        "df.loc[:,df.isna().mean() < 0.5]"
      ],
      "id": "48c28b5c-6961-426a-8dfc-8895ae368194"
    },
    {
      "cell_type": "markdown",
      "metadata": {},
      "source": [
        "`#`\n",
        "\n",
        "# 4. Pandas: missing\n",
        "\n",
        "## A. Numpy\n",
        "\n",
        "`-` 발생: `np.nan`"
      ],
      "id": "52f6a1ca-eba4-4e53-8ff4-3acbae954ed7"
    },
    {
      "cell_type": "code",
      "execution_count": 42,
      "metadata": {},
      "outputs": [],
      "source": [
        "np.nan"
      ],
      "id": "958b2131-29a9-4ffe-a26f-2eef957989be"
    },
    {
      "cell_type": "code",
      "execution_count": 43,
      "metadata": {},
      "outputs": [],
      "source": [
        "[1,2,3,np.nan]"
      ],
      "id": "bdac2172-2889-4aa2-901b-00c7b0e9f1a0"
    },
    {
      "cell_type": "code",
      "execution_count": 44,
      "metadata": {},
      "outputs": [],
      "source": [
        "arr = np.array([1,2,3,np.nan])\n",
        "arr"
      ],
      "id": "296bb459-954b-402f-9fc7-7c1f3cd487a8"
    },
    {
      "cell_type": "markdown",
      "metadata": {},
      "source": [
        "`-` np.array에 nan이 있으면 연산결과도 nan"
      ],
      "id": "6a636bb3-f80b-48a4-a59d-a1f6a9e77d02"
    },
    {
      "cell_type": "code",
      "execution_count": 45,
      "metadata": {},
      "outputs": [],
      "source": [
        "arr.mean()"
      ],
      "id": "36972c72-c3b2-4dcf-b9c4-ca13bbd46fd1"
    },
    {
      "cell_type": "markdown",
      "metadata": {},
      "source": [
        "`-` type"
      ],
      "id": "ce2fd208-9b14-4074-8b4e-bec93764c2f6"
    },
    {
      "cell_type": "code",
      "execution_count": 46,
      "metadata": {},
      "outputs": [],
      "source": [
        "type(np.nan) "
      ],
      "id": "cb946945-8b0b-4ade-b3ad-b95f704bc38e"
    },
    {
      "cell_type": "code",
      "execution_count": 47,
      "metadata": {},
      "outputs": [],
      "source": [
        "type(arr[-1])"
      ],
      "id": "d0bed1aa-a571-4db8-855e-d77e9381adae"
    },
    {
      "cell_type": "markdown",
      "metadata": {},
      "source": [
        "## B. Pandas\n",
        "\n",
        "`-` 발생: np.nan, pd.NA"
      ],
      "id": "8a27ee3d-35d9-4383-b787-d2a3fb576741"
    },
    {
      "cell_type": "code",
      "execution_count": 48,
      "metadata": {},
      "outputs": [],
      "source": [
        "pd.Series([np.nan,1,2,3])"
      ],
      "id": "519fe575-740b-4fae-9551-5572748070d0"
    },
    {
      "cell_type": "code",
      "execution_count": 49,
      "metadata": {},
      "outputs": [],
      "source": [
        "pd.Series([pd.NA,1,2,3])"
      ],
      "id": "a6b05792-4641-4b55-a93e-0f81c47d195a"
    },
    {
      "cell_type": "markdown",
      "metadata": {},
      "source": [
        "`-` pd.Series에 `NaN` 혹은 `<NA>` 가 있다면 연산할때 제외함"
      ],
      "id": "f3aacd85-fe76-4183-8023-1edf3fcab8b6"
    },
    {
      "cell_type": "code",
      "execution_count": 50,
      "metadata": {},
      "outputs": [],
      "source": [
        "pd.Series([np.nan,1,2,3]).mean()"
      ],
      "id": "98e06d64-7038-4206-a717-1a282ed05d0e"
    },
    {
      "cell_type": "code",
      "execution_count": 51,
      "metadata": {},
      "outputs": [],
      "source": [
        "pd.Series([pd.NA,1,2,3]).mean()"
      ],
      "id": "f278237a-706b-465e-8c32-273b3124ff9d"
    },
    {
      "cell_type": "markdown",
      "metadata": {},
      "source": [
        "`-` type"
      ],
      "id": "71fcc258-81fd-476e-a907-c0158f1acd60"
    },
    {
      "cell_type": "code",
      "execution_count": 52,
      "metadata": {},
      "outputs": [],
      "source": [
        "s1 = pd.Series([np.nan,1,2,3])\n",
        "type(s1[0])"
      ],
      "id": "0a8a013e-54cb-4c6d-b2a0-53d496564731"
    },
    {
      "cell_type": "code",
      "execution_count": 53,
      "metadata": {},
      "outputs": [],
      "source": [
        "s2 = pd.Series([pd.NA,1,2,3])\n",
        "type(s2[0])"
      ],
      "id": "2a274ce0-bb17-4575-80a1-a3486e78af39"
    },
    {
      "cell_type": "markdown",
      "metadata": {},
      "source": [
        "`-` 검출 ($\\star$)"
      ],
      "id": "194929e4-dba3-4393-80cc-ef55eff92a63"
    },
    {
      "cell_type": "code",
      "execution_count": 54,
      "metadata": {},
      "outputs": [],
      "source": [
        "s1.isna()"
      ],
      "id": "1476c039-e5f1-48b3-9dc6-63737cf5d4b0"
    },
    {
      "cell_type": "code",
      "execution_count": 55,
      "metadata": {},
      "outputs": [],
      "source": [
        "s2.isna()"
      ],
      "id": "01a7641f-0020-49c2-937f-e0e469336e8c"
    },
    {
      "cell_type": "code",
      "execution_count": 56,
      "metadata": {},
      "outputs": [],
      "source": [
        "s1[0]"
      ],
      "id": "a2ff1cda-5a86-44ff-9931-eaf517916a44"
    },
    {
      "cell_type": "code",
      "execution_count": 57,
      "metadata": {},
      "outputs": [],
      "source": [
        "pd.isna(s1[0]), pd.isnull(s1[0])"
      ],
      "id": "17b6b709-365a-4999-80fb-df59282784e5"
    },
    {
      "cell_type": "code",
      "execution_count": 58,
      "metadata": {},
      "outputs": [],
      "source": [
        "pd.isna(s2[0]), pd.isnull(s2[0])"
      ],
      "id": "09e51111-fd91-40d6-877d-f176b0514a07"
    },
    {
      "cell_type": "code",
      "execution_count": 59,
      "metadata": {},
      "outputs": [],
      "source": [
        "id(pd.isna), id(pd.isnull) # 같은함수"
      ],
      "id": "8630afa3-5f5a-4854-becf-a6d28c8ba872"
    },
    {
      "cell_type": "markdown",
      "metadata": {},
      "source": [
        "# 5. Pandas: query"
      ],
      "id": "1d3559af-cb2e-47eb-befb-646ce6b0073f"
    },
    {
      "cell_type": "code",
      "execution_count": 60,
      "metadata": {},
      "outputs": [],
      "source": [
        "ts = pd.DataFrame(np.random.normal(size=(20,4)),columns=list('ABCD'),index=pd.date_range('20221226',periods=20)).assign(E=['A']*10+['B']*10)\n",
        "ts"
      ],
      "id": "bea1e526-90f3-4598-a453-da30808f2591"
    },
    {
      "cell_type": "markdown",
      "metadata": {},
      "source": [
        "## A. 기본 query\n",
        "\n",
        "`-` 예시1: `A>0 and B<0`"
      ],
      "id": "5c3b5b71-7ae3-41a0-8338-74f3bf4405e1"
    },
    {
      "cell_type": "code",
      "execution_count": 61,
      "metadata": {},
      "outputs": [],
      "source": [
        "ts.query('A>0 and B<0')"
      ],
      "id": "b43839dd-ef02-424a-81c5-6d2369f5ca0d"
    },
    {
      "cell_type": "markdown",
      "metadata": {},
      "source": [
        "`-` 예시2: `A<B<C`"
      ],
      "id": "7e930d51-6a50-4f6c-8b9a-436352366e9e"
    },
    {
      "cell_type": "code",
      "execution_count": 62,
      "metadata": {},
      "outputs": [],
      "source": [
        "ts.query('A<B<C')"
      ],
      "id": "72d6af09-d46a-47e8-8ecc-dc94f77da40a"
    },
    {
      "cell_type": "markdown",
      "metadata": {},
      "source": [
        "`-` 예시3: `(A+B)/2 > 0`"
      ],
      "id": "2afec83d-4417-458b-b296-948ea2300329"
    },
    {
      "cell_type": "code",
      "execution_count": 63,
      "metadata": {},
      "outputs": [],
      "source": [
        "ts.query('(A+B)/2>0')"
      ],
      "id": "2b6f888d-043c-4e1b-93c4-27a52b580127"
    },
    {
      "cell_type": "markdown",
      "metadata": {},
      "source": [
        "`-` 예시4: `(A+B)/2 > 0` and `E=='A'`"
      ],
      "id": "94d2adb1-e635-4108-9286-c36118863ebc"
    },
    {
      "cell_type": "code",
      "execution_count": 64,
      "metadata": {},
      "outputs": [],
      "source": [
        "ts.query('(A+B)/2>0 and E==\"A\"')"
      ],
      "id": "f3b721d7-ad74-4339-989c-1ad2681306fb"
    },
    {
      "cell_type": "code",
      "execution_count": 65,
      "metadata": {},
      "outputs": [],
      "source": [
        "ts.query(\"(A+B)/2>0 and E=='A'\")"
      ],
      "id": "a6a86873-4e34-43c7-b8a5-e78aaf1b61bf"
    },
    {
      "cell_type": "markdown",
      "metadata": {},
      "source": [
        "## B. 외부변수를 이용\n",
        "\n",
        "`-` 예시: `A > mean(A)`"
      ],
      "id": "7aaf54c4-15ee-466b-ae29-0ac55a3a0a75"
    },
    {
      "cell_type": "code",
      "execution_count": 66,
      "metadata": {},
      "outputs": [],
      "source": [
        "value = np.percentile(ts.A,77) # ts.A 에서 77 percentile에 해당하는 숫자\n",
        "ts.query(\"A > @value\")"
      ],
      "id": "1b2ec3bc-89a1-416d-a2a7-3ea51e4016b1"
    },
    {
      "cell_type": "markdown",
      "metadata": {},
      "source": [
        "> **Note**\n",
        ">\n",
        "> 명확한 전달을 위해서 영상에서 설명한 예제를 조금 바꿨습니다.\n",
        "\n",
        "## C. Index로 query\n",
        "\n",
        "`-` 예시: (2022년 12월30일 보다 이전 날짜) $\\cup$ (2023년 1월10일)"
      ],
      "id": "a95a99dc-a8ca-4281-8c4a-6655ec8059f5"
    },
    {
      "cell_type": "code",
      "execution_count": 67,
      "metadata": {},
      "outputs": [],
      "source": [
        "ts.query('index < \"2022-12-30\" or index == \"2023-01-10\"')"
      ],
      "id": "73004ff0-bcec-4a8b-8cd5-de67ef9558b9"
    },
    {
      "cell_type": "markdown",
      "metadata": {},
      "source": [
        "## D. 열의 이름에 공백이 있을 경우"
      ],
      "id": "edecaf5d-4113-4dd6-8dbb-429f7ac2e9f3"
    },
    {
      "cell_type": "code",
      "execution_count": 68,
      "metadata": {},
      "outputs": [],
      "source": [
        "df = pd.read_csv('https://raw.githubusercontent.com/guebin/DV2022/master/posts/FIFA23_official_data.csv')\n",
        "df.head()"
      ],
      "id": "0d239c79-6c0e-45b2-9d6c-8e5a87730289"
    },
    {
      "cell_type": "markdown",
      "metadata": {},
      "source": [
        "`-` 예시: `Skill Moves > 4`"
      ],
      "id": "9ab5580b-38b3-4418-bdaa-c4bbc85b6c37"
    },
    {
      "cell_type": "code",
      "execution_count": 69,
      "metadata": {},
      "outputs": [],
      "source": [
        "df.query('`Skill Moves` > 4')"
      ],
      "id": "423f42cc-596a-4eb1-8e31-977f371f2b58"
    },
    {
      "cell_type": "markdown",
      "metadata": {},
      "source": [
        "# 6. Pandas: 할당"
      ],
      "id": "6dab87ed-4570-4293-aa31-f8f11957e568"
    },
    {
      "cell_type": "code",
      "execution_count": 70,
      "metadata": {},
      "outputs": [],
      "source": [
        "np.random.seed(43052)\n",
        "att = np.random.choice(np.arange(10,21)*5,20)\n",
        "rep = np.random.choice(np.arange(5,21)*5,20)\n",
        "mid = np.random.choice(np.arange(0,21)*5,20)\n",
        "fin = np.random.choice(np.arange(0,21)*5,20)\n",
        "df = pd.DataFrame({'att':att,'rep':rep,'mid':mid,'fin':fin})\n",
        "df"
      ],
      "id": "05d651e0-9f20-4535-94a4-834cba676c44"
    },
    {
      "cell_type": "markdown",
      "metadata": {},
      "source": [
        "## A. `df.assign()`\n",
        "\n",
        "`-` 예시: `total = att*0.1 + rep*0.2 + mid*0.35 + fin*0.35` 를 계산하여\n",
        "할당"
      ],
      "id": "bb1ed26b-a645-4d6c-a8f6-ee81f86dec72"
    },
    {
      "cell_type": "code",
      "execution_count": 71,
      "metadata": {},
      "outputs": [],
      "source": [
        "df.assign(total = df.att*0.1 + df.rep*0.2 + df.mid*0.35 + df.fin*0.35)"
      ],
      "id": "eb0ca43f-ad75-4b39-b99d-5f6d12cee7d7"
    },
    {
      "cell_type": "markdown",
      "metadata": {},
      "source": [
        "> Note: 이 방법은 df를 일시적으로 변화시킴\n",
        "\n",
        "## B. `df.eval()`\n",
        "\n",
        "`-` 예시: `total = att*0.1 + rep*0.2 + mid*0.35 + fin*0.35` 를 계산하여\n",
        "할당"
      ],
      "id": "acaacaee-c7bd-44da-a234-a9f86e62aaa9"
    },
    {
      "cell_type": "code",
      "execution_count": 72,
      "metadata": {},
      "outputs": [],
      "source": [
        "df.eval('total = att*0.1 + rep*0.2 + mid*0.35 + fin*0.35')"
      ],
      "id": "7138e5f6-62bf-4467-b7da-720a52eed4d4"
    },
    {
      "cell_type": "markdown",
      "metadata": {},
      "source": [
        "> Note: 이 방법은 df를 일시적으로 변화시킴\n",
        "\n",
        "## C. `df[colname] = xxx`\n",
        "\n",
        "`-` 예시: `total = att*0.1 + rep*0.2 + mid*0.35 + fin*0.35` 를 계산하여\n",
        "할당."
      ],
      "id": "3386ab81-d378-4feb-9d84-c670066def5c"
    },
    {
      "cell_type": "code",
      "execution_count": 73,
      "metadata": {},
      "outputs": [],
      "source": [
        "df['total'] = df.att*0.1 + df.rep*0.2 + df.mid*0.35 + df.fin*0.35\n",
        "df"
      ],
      "id": "b0a3c887-5ae0-44a2-a31a-2eeaf8a3b1f4"
    },
    {
      "cell_type": "markdown",
      "metadata": {},
      "source": [
        "> Note: 이 방법은 df를 영구적으로 변화시킴\n",
        "\n",
        "# 7. Pandas: transform column\n",
        "\n",
        "## A. `lambda`\n",
        "\n",
        "`-` 예시1: $x \\to x+2$"
      ],
      "id": "76ed8081-06ff-46a5-9f5c-67c1d6797fc4"
    },
    {
      "cell_type": "code",
      "execution_count": 74,
      "metadata": {},
      "outputs": [],
      "source": [
        "f = lambda x: x+2\n",
        "f(1)"
      ],
      "id": "db5b5b35-d40d-43ee-a526-beb48db708e1"
    },
    {
      "cell_type": "markdown",
      "metadata": {},
      "source": [
        "`-` 예시2: $x,y \\to x+y$"
      ],
      "id": "e5160be3-58fa-4d07-ba02-c1b3fc1f1fc8"
    },
    {
      "cell_type": "code",
      "execution_count": 75,
      "metadata": {},
      "outputs": [],
      "source": [
        "f = lambda x,y: x+y\n",
        "f(1,2)"
      ],
      "id": "c3f00aa3-fde3-4b64-9c65-d6f45470a783"
    },
    {
      "cell_type": "markdown",
      "metadata": {},
      "source": [
        "`-` 예시3: ‘2023-09’ $\\to$ 9"
      ],
      "id": "6e0c32ec-c596-4f4c-a6dc-0faf3144480a"
    },
    {
      "cell_type": "code",
      "execution_count": 76,
      "metadata": {},
      "outputs": [],
      "source": [
        "f = lambda x: int(x[-2:])\n",
        "f('2023-09')"
      ],
      "id": "1a2dea0e-7af9-462e-9164-36d19792f300"
    },
    {
      "cell_type": "markdown",
      "metadata": {},
      "source": [
        "`-` 예시4: ‘2023-09’ $\\to$ (2023,9)"
      ],
      "id": "3644b547-04cf-4087-a0b7-a0fb991a9565"
    },
    {
      "cell_type": "code",
      "execution_count": 77,
      "metadata": {},
      "outputs": [],
      "source": [
        "f = lambda x: (int(x[:4]),int(x[-2:]))\n",
        "f('2023-09')"
      ],
      "id": "98dd3cbf-3f1d-4c85-99e9-181cc05f5ad9"
    },
    {
      "cell_type": "markdown",
      "metadata": {},
      "source": [
        "`-` 예시5: 문자열이 ‘cat’이면 1 ’dog’ 이면 0 // ’cat이면 1 ’cat’이\n",
        "아니면 0"
      ],
      "id": "b9cf8d89-fc7f-49f2-96b4-7486119d5ca1"
    },
    {
      "cell_type": "code",
      "execution_count": 78,
      "metadata": {},
      "outputs": [],
      "source": [
        "f = lambda x: 1 if x=='cat' else 0"
      ],
      "id": "ca6801b6-30ee-4e22-bb7f-829801a3b9bf"
    },
    {
      "cell_type": "code",
      "execution_count": 79,
      "metadata": {},
      "outputs": [],
      "source": [
        "f('cat'), f('dog')"
      ],
      "id": "91ab45eb-9e86-4f5c-af23-9ee66efc427b"
    },
    {
      "cell_type": "markdown",
      "metadata": {},
      "source": [
        "`-` Note: `f`로 이름을 정하지 않고 직접 사용 가능"
      ],
      "id": "1196cb6f-df88-4f93-8d3e-92734547f4cb"
    },
    {
      "cell_type": "code",
      "execution_count": 80,
      "metadata": {},
      "outputs": [],
      "source": [
        "(lambda x: x+1)(2)"
      ],
      "id": "94adbbbb-9de1-42d3-84eb-cfabe796b426"
    },
    {
      "cell_type": "markdown",
      "metadata": {},
      "source": [
        "## B. `map`\n",
        "\n",
        "`-` 개념: `map(f,[x1,x2,...xn])=[f(x1),f(x2),...,f(xn)]`\n",
        "\n",
        "`-` 예시1: `x->x+1`을 `[1,2,3]`에 적용"
      ],
      "id": "f34b7268-3111-4f2c-afe3-0850df23662c"
    },
    {
      "cell_type": "code",
      "execution_count": 81,
      "metadata": {},
      "outputs": [],
      "source": [
        "list(map(lambda x: x+1, [1,-5,3]))"
      ],
      "id": "63eef659-e0ec-4bbb-8706-5d6fe69388a5"
    },
    {
      "cell_type": "markdown",
      "metadata": {},
      "source": [
        "`-` 예시2 `df.Height`열 변환하기"
      ],
      "id": "7829cbbf-a90c-4ee7-8b37-a19b0dd229ec"
    },
    {
      "cell_type": "code",
      "execution_count": 82,
      "metadata": {},
      "outputs": [],
      "source": [
        "df = pd.read_csv('https://raw.githubusercontent.com/guebin/DV2022/master/posts/FIFA23_official_data.csv')\n",
        "s = df.Height[:5]\n",
        "s"
      ],
      "id": "f90dc1cc-7310-4573-af87-6ec9f21285a0"
    },
    {
      "cell_type": "code",
      "execution_count": 83,
      "metadata": {},
      "outputs": [],
      "source": [
        "x = s[0]\n",
        "x"
      ],
      "id": "309b8c53-8da9-4b65-9f83-5bf8f2b3e020"
    },
    {
      "cell_type": "code",
      "execution_count": 84,
      "metadata": {},
      "outputs": [],
      "source": [
        "list(map(lambda x: int(x.replace('cm','')), s))"
      ],
      "id": "49fed4af-14b8-46ff-82c4-eaf0bb29bda3"
    },
    {
      "cell_type": "markdown",
      "metadata": {},
      "source": [
        "`# 예시3` `df.Height`열 변환하기 + 변환된 열 할당하기"
      ],
      "id": "93e3200e-f66c-4861-8a13-b3ba30396ab1"
    },
    {
      "cell_type": "code",
      "execution_count": 85,
      "metadata": {},
      "outputs": [],
      "source": [
        "df = pd.read_csv('https://raw.githubusercontent.com/guebin/DV2022/master/posts/FIFA23_official_data.csv')"
      ],
      "id": "7125ab40-b628-4d0f-9346-6ca037bfe691"
    },
    {
      "cell_type": "markdown",
      "metadata": {},
      "source": [
        "`-` (풀이1)"
      ],
      "id": "e880d3c1-b72a-4f6e-b033-cc6f8bb28577"
    },
    {
      "cell_type": "code",
      "execution_count": 86,
      "metadata": {},
      "outputs": [],
      "source": [
        "df.assign(Height= list(map(lambda x: int(x.replace('cm','')), df.Height)))"
      ],
      "id": "f8eb1f27-8e5d-406f-bb78-ca510f6ad7c3"
    },
    {
      "cell_type": "markdown",
      "metadata": {},
      "source": [
        "`-` (풀이2) – 사실 수틀리면 컴프리헨션 쓰면 된다."
      ],
      "id": "09593071-155d-4f35-95ec-620b6354faba"
    },
    {
      "cell_type": "code",
      "execution_count": 87,
      "metadata": {},
      "outputs": [],
      "source": [
        "df.assign(Height= [int(height.replace('cm','')) for height in df.Height])"
      ],
      "id": "79b01be5-8750-46ba-ac96-eeeb502f8326"
    },
    {
      "cell_type": "markdown",
      "metadata": {},
      "source": [
        "`#`\n",
        "\n",
        "`# 예시4` – `df.Position` 열에 아래와 같은 변환을 수행하고, 변환된 열을\n",
        "할당하라.\n",
        "\n",
        "|            before             | after |\n",
        "|:-----------------------------:|:-----:|\n",
        "| `<span class=\"pos pos28\">SUB` | `SUB` |\n",
        "| `<span class=\"pos pos15\">LCM` | `LCM` |\n",
        "|  `<span class=\"pos pos7\">LB`  | `LB`  |\n",
        "| `<span class=\"pos pos13\">RCM` | `RCM` |\n",
        "| `<span class=\"pos pos13\">RCM` | `RCM` |"
      ],
      "id": "5eddfc44-69ab-4604-bead-048c3f0523c5"
    },
    {
      "cell_type": "code",
      "execution_count": 88,
      "metadata": {},
      "outputs": [],
      "source": [
        "df = pd.read_csv('https://raw.githubusercontent.com/guebin/DV2022/master/posts/FIFA23_official_data.csv')"
      ],
      "id": "1740daed-76f9-4e66-b006-3a7a039adc30"
    },
    {
      "cell_type": "markdown",
      "metadata": {},
      "source": [
        "`-` (풀이1)"
      ],
      "id": "9f2759be-c981-41ac-8bbb-a25d2b5d0d7a"
    },
    {
      "cell_type": "code",
      "execution_count": 89,
      "metadata": {},
      "outputs": [],
      "source": [
        "x = df.Position[0]\n",
        "x"
      ],
      "id": "6b5769cf-c229-403c-a46a-89661e8d7c54"
    },
    {
      "cell_type": "code",
      "execution_count": 90,
      "metadata": {},
      "outputs": [],
      "source": [
        "df.assign(Position = list(map(lambda x: x.split('>')[-1] if not pd.isna(x) else 'NA', df.Position)))"
      ],
      "id": "32e13810-553b-4b44-b4ca-e54a5b22869b"
    },
    {
      "cell_type": "markdown",
      "metadata": {},
      "source": [
        "`-` (풀이2) – 리스트컴프리헨션"
      ],
      "id": "5046fba4-56af-45ba-9ae4-cbca900bf81f"
    },
    {
      "cell_type": "code",
      "execution_count": 91,
      "metadata": {},
      "outputs": [],
      "source": [
        "f = lambda x: x.split('>')[-1] if not pd.isna(x) else 'NA'"
      ],
      "id": "1d22dc66-3a7d-463a-bbaa-46777b36fa47"
    },
    {
      "cell_type": "code",
      "execution_count": 92,
      "metadata": {},
      "outputs": [],
      "source": [
        "df.assign(Position = [f(x) for x in df.Position])"
      ],
      "id": "73a56701-c872-4c8b-9f1b-b463875c5198"
    },
    {
      "cell_type": "markdown",
      "metadata": {},
      "source": [
        "-   개인의견: 이미 람다로 함수를 만들어야 해서 그냥 map을 쓰는게\n",
        "    자연스러움\n",
        "\n",
        "# 8. HW\n",
        "\n",
        "`-` 문제: 아래의 자료에서 입학년도를 추가하고 싶다면?"
      ],
      "id": "5cdc641b-30ec-4bae-bc7d-69c60e15d543"
    },
    {
      "cell_type": "code",
      "execution_count": 93,
      "metadata": {},
      "outputs": [],
      "source": [
        "np.random.seed(43052)\n",
        "att = np.random.choice(np.arange(10,21)*5,20)\n",
        "rep = np.random.choice(np.arange(5,21)*5,20)\n",
        "mid = np.random.choice(np.arange(0,21)*5,20)\n",
        "fin = np.random.choice(np.arange(0,21)*5,20)\n",
        "student_id = [ '2023-12362', '2022-12471', '2023-12333', '2022-12400', '2022-12377',\n",
        "               '2022-12469', '2023-12314', '2022-12363', '2023-12445', '2023-12336',\n",
        "               '2023-12426', '2022-12380', '2023-12422', '2022-12488', '2022-12370',\n",
        "               '2023-12443', '2022-12463', '2023-12491', '2023-12340', '2022-12312' ]\n",
        "df = pd.DataFrame({'student_id':student_id,'att':att,'rep':rep,'mid':mid,'fin':fin})\n",
        "df.head()"
      ],
      "id": "d9c98a1e-1ba9-4077-b2b8-d9b2ddb78f98"
    },
    {
      "cell_type": "code",
      "execution_count": 630,
      "metadata": {},
      "outputs": [],
      "source": [
        "# 출력결과가 아래와 같아야 한다."
      ],
      "id": "ddb78cf2-9a04-44c5-958d-5469695af61a"
    }
  ],
  "nbformat": 4,
  "nbformat_minor": 5,
  "metadata": {
    "kernelspec": {
      "name": "python3",
      "display_name": "Python 3 (ipykernel)",
      "language": "python"
    },
    "language_info": {
      "name": "python",
      "codemirror_mode": {
        "name": "ipython",
        "version": "3"
      },
      "file_extension": ".py",
      "mimetype": "text/x-python",
      "nbconvert_exporter": "python",
      "pygments_lexer": "ipython3",
      "version": "3.10.13"
    }
  }
}