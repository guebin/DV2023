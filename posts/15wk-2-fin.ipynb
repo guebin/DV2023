{
 "cells": [
  {
   "cell_type": "raw",
   "id": "b4e969ab-4906-4f72-924d-aed615cc483a",
   "metadata": {},
   "source": [
    "---\n",
    "title: \"15wk-2: 기말고사 (예상문제) \"\n",
    "author: \"최규빈\"\n",
    "date: \"12/18/2023\"\n",
    "draft: false\n",
    "categories:\n",
    "  - plotly\n",
    "---"
   ]
  },
  {
   "cell_type": "markdown",
   "id": "973143cb-19b7-498d-a6f7-33e43330c829",
   "metadata": {},
   "source": [
    ":::{.callout-warning}\n",
    "# 기말고사 관련\n",
    "\n",
    "**공지사항**\n",
    "\n",
    "- 시험일: 12월18일(월)\n",
    "- 시험시간: 16:00~17:50 \n",
    "- 대면/비대면: 전북대 충남대 모두 \"대면\"시험으로 진행. 줌 필요X\n",
    "- 구글검색 허용, ChatGPT 허용\n",
    "\n",
    "**주의사항**\n",
    "\n",
    "- 부정행위적발시 기말고사점수 0점 처리함. \n",
    "- 본인확인을 위한 학생증 or 신분증을 지참. \n",
    "- 모두 대면시험이므로 별도의 준비시간없이 바로 시작함. \n",
    "- 질문은 카카오톡 채널을 통해서만 받으며, 대면질문은 받지 않음. (충남대 학생들은 대면질문이 불가능하므로) \n",
    "- 지연제출시 5분단위로 감점이 있음. (중간고사때는 조금 늦어도 별도의 감점은 없었지만, 다른 학생들과의 형평성에 어긋난다는 피드백이 있어서 수정함.) **전북대의 경우 JBNU 와이파이를 이용할시 속도이슈가 있으니 개인노트북보다는 실습실의 컴퓨터로 제출하는 것을 권장함.**\n",
    "\n",
    ":::"
   ]
  },
  {
   "cell_type": "markdown",
   "id": "17f9ac05-305d-4cf3-8dc8-39bfedea62c9",
   "metadata": {
    "tags": []
   },
   "source": [
    "<a href=\"https://colab.research.google.com/github/guebin/DV2023/blob/main/posts/15wk-2-fin.ipynb\"><img src=\"https://colab.research.google.com/assets/colab-badge.svg\" style=\"text-align: left\"></a>"
   ]
  },
  {
   "cell_type": "code",
   "execution_count": 475,
   "id": "ed421a5a-42c4-40d9-b2b6-ff076d455a26",
   "metadata": {
    "tags": []
   },
   "outputs": [],
   "source": [
    "import numpy as np\n",
    "import pandas as pd\n",
    "import plotly.express as px\n",
    "import plotly.io as pio\n",
    "import json\n",
    "import requests\n",
    "import pickle"
   ]
  },
  {
   "cell_type": "code",
   "execution_count": 6,
   "id": "71bd9243-7e0b-4e07-81dc-2083e8042be9",
   "metadata": {},
   "outputs": [],
   "source": [
    "pd.options.plotting.backend = \"plotly\"\n",
    "pio.templates.default = \"plotly_white\""
   ]
  },
  {
   "cell_type": "markdown",
   "id": "781f0d3b-9619-46c2-87c2-62a2f934fa1e",
   "metadata": {},
   "source": [
    "# 1. NYCTaxi 자료 분석 (dashboard) -- 100점"
   ]
  },
  {
   "cell_type": "markdown",
   "id": "3c9ce0a6-a677-4dc5-b42d-fdb58597d4d4",
   "metadata": {},
   "source": [
    "아래는 NYCTaxi자료에서 기본적인 전처리를 수행한 데이터프레임이다. "
   ]
  },
  {
   "cell_type": "code",
   "execution_count": 7,
   "id": "ad7ea102-8a81-40ec-afee-1e9087a8a442",
   "metadata": {},
   "outputs": [],
   "source": [
    "df = pd.read_csv(\"https://raw.githubusercontent.com/guebin/DV2023/main/posts/NYCTaxi.csv\").assign(\n",
    "    log_trip_duration = lambda df: np.log(df.trip_duration),\n",
    "    pickup_datetime = lambda df: df.pickup_datetime.apply(pd.to_datetime),\n",
    "    dropoff_datetime = lambda df: df.dropoff_datetime.apply(pd.to_datetime),\n",
    "    dist = lambda df: np.sqrt((df.pickup_latitude-df.dropoff_latitude)**2 + (df.pickup_longitude-df.dropoff_longitude)**2),\n",
    "    #---#\n",
    "    vendor_id = lambda df: df.vendor_id.map({1:'A',2:'B'})\n",
    ").assign(\n",
    "    speed = lambda df: df.dist / df.trip_duration,\n",
    "    pickup_hour = lambda df: df.pickup_datetime.dt.hour,\n",
    "    dropoff_hour = lambda df: df.dropoff_datetime.dt.hour,\n",
    "    dayofweek = lambda df: df.pickup_datetime.dt.dayofweek\n",
    ")\n",
    "df_small = df[::100].reset_index(drop=True)"
   ]
  },
  {
   "cell_type": "markdown",
   "id": "3137da29-2721-4291-a92a-2e95711312a5",
   "metadata": {},
   "source": [
    "주어진 자료를 이용하여 (1)-(3)에 해당하는 시각화를 대시보드로 구현하고, 홈페이지를 남겨라. 답안 예시는 아래와 같다. "
   ]
  },
  {
   "cell_type": "markdown",
   "id": "487977e6-b386-47d3-b233-621d2a2b25aa",
   "metadata": {},
   "source": [
    "`(답안예시)`\n",
    "\n",
    "- <https://guebin.github.io/DASH>\n",
    "- <https://github.com/guebin/DASH> // 저는 의도적으로 코드를 숨겼는데요, 학생들은 `NYCTaxi.qmd` 와 같은 파일에 답안코드가 존재하는 상태이어야 합니다. "
   ]
  },
  {
   "cell_type": "markdown",
   "id": "85d8e72c-c295-4a71-8e5f-5957f1076b00",
   "metadata": {},
   "source": [
    "**주의사항**\n",
    "\n",
    "- 제출시간 이후에 대시보드 생성을 시도할 경우 부정행위로 간주하여 기말고사 전체를 0점처리함. (git에 기록남아있음)\n",
    "- 대시보드 구현이 되어있지 않은 경우 0점 처리함\n",
    "- `xaxis`, `yaxis`, `lengend` 등을 조정하는 것이 문제의도임. (구현되어있지 않으면 0점처리함)"
   ]
  },
  {
   "cell_type": "markdown",
   "id": "e6996e43-4e65-4c39-8dac-f0a79910f187",
   "metadata": {},
   "source": [
    "**힌트**"
   ]
  },
  {
   "cell_type": "markdown",
   "id": "df98b1b2-5453-4ca2-82ec-ae2056e1d450",
   "metadata": {},
   "source": [
    "아래와 같은 양식으로 qmd를 만들면 그림이 중복되어 출력되는 문제^[현재 quarto dashboard가 불완전(정식버전이 아니라 prereleased version임)하여 생기는 버그인듯합니다]가 발생하지 않음. \n",
    "\n",
    "````{.bash filename=\"NYCTaxi.qmd\"}\n",
    "---\n",
    "title: \"NYCTaxi\"\n",
    "author: \"최규빈(2021-43052)\"\n",
    "format: dashboard\n",
    "execute: \n",
    "  enabled: true\n",
    "  cache: false\n",
    "  freeze: false\n",
    "---\n",
    "\n",
    "```{python}\n",
    "#| output: false\n",
    "# 여기에 온갖코드를 넣음.\n",
    "# 1-(1),(2),(3) 에 대응하는 plotly figure를 아래와 같은 이름으로 저장\n",
    "# fig1 = ...\n",
    "# fig2 = ...\n",
    "# fig3 = ...\n",
    "```\n",
    "\n",
    "# 기말고사1-(1),(2)\n",
    "\n",
    "```{python}\n",
    "#| title: 요일,시간에 따른 평균속력 시각화        \n",
    "fig1.show()\n",
    "```\n",
    "\n",
    "```{python}\n",
    "#| title: 요일,시간에 따른 평균이동거리 시각화        \n",
    "fig2.show()\n",
    "```\n",
    "\n",
    "# 기말고사1-(3)\n",
    "\n",
    "```{python}\n",
    "#| title: 속력별 경로 시각화\n",
    "fig3.show()\n",
    "```\n",
    "````"
   ]
  },
  {
   "cell_type": "markdown",
   "id": "9ee97ea3-41d4-4014-84a9-b6c545e0a193",
   "metadata": {},
   "source": [
    "## `(1)` 요일,시간에 따른 평균속력 시각화 -- 25점"
   ]
  },
  {
   "cell_type": "markdown",
   "id": "82c08885-eb6a-44ae-babf-3cfc9e1c1283",
   "metadata": {},
   "source": [
    "자료 `df`에서 시간에 따른 평균속력을 구하고 이를 대시보드에 시각화하라. \n",
    "\n",
    "**README**\n",
    "\n",
    "- 요일은 `{0:'월',1:'화',2:'수',3:'목',4:'금',5:'토',6:'일'}`의 규칙에 따라 변환할 것"
   ]
  },
  {
   "cell_type": "markdown",
   "id": "20fa3dfc-0921-4b1a-b425-308f21a3e593",
   "metadata": {},
   "source": [
    "## `(2)` 요일,시간에 따른 평균이동거리 시각화 -- 25점"
   ]
  },
  {
   "cell_type": "markdown",
   "id": "f8907141-169f-4f31-a74b-8e1f05d94cc2",
   "metadata": {},
   "source": [
    "자료 `df`에서 시간에 따른 평균이동거리를 구하고 이를 대시보드에 시각화하라. \n",
    "\n",
    "**README**\n",
    "\n",
    "- 요일은 `{0:'월',1:'화',2:'수',3:'목',4:'금',5:'토',6:'일'}`의 규칙에 따라 변환할 것"
   ]
  },
  {
   "cell_type": "markdown",
   "id": "bac378bf-7ef1-4b30-8cd2-99e38714747a",
   "metadata": {},
   "source": [
    "## `(3)` 속력별 경로시각화 -- 50점"
   ]
  },
  {
   "cell_type": "markdown",
   "id": "52ee1929-9ed8-4fa7-a646-7f7dc36bd740",
   "metadata": {},
   "source": [
    "자료 `df_small`에서 속력을 quatile에 따라 4개의 구간으로 나누고, 구간별 이동경로를 대시보드에 시각화하라. "
   ]
  },
  {
   "cell_type": "markdown",
   "id": "55fa0286-9e9d-488d-891d-007dbfcd10a1",
   "metadata": {},
   "source": [
    "**README**\n",
    "\n",
    "- Zoom = 11 로 설정할것. Figure의 width, height는 설정하지 말것\n",
    "- 기타 설정값에 대해서는 궁금한것이 있다면 질문할 것 "
   ]
  },
  {
   "cell_type": "markdown",
   "id": "a99a1ad8-321c-4138-98e3-3626caec12fd",
   "metadata": {},
   "source": [
    "**힌트**: "
   ]
  },
  {
   "cell_type": "markdown",
   "id": "014e67e9-acb5-4240-8940-389a6b72cdfe",
   "metadata": {},
   "source": [
    "*힌트1*: 아래의 코드를 관찰하세요. "
   ]
  },
  {
   "cell_type": "code",
   "execution_count": 8,
   "id": "af7e5828-c6b9-4be2-af26-5ca27b4ded51",
   "metadata": {},
   "outputs": [
    {
     "name": "stdout",
     "output_type": "stream",
     "text": [
      "0    (0.999, 1.75]\n",
      "1    (0.999, 1.75]\n",
      "2      (1.75, 2.5]\n",
      "3      (1.75, 2.5]\n",
      "4      (2.5, 3.25]\n",
      "5      (2.5, 3.25]\n",
      "6      (3.25, 4.0]\n",
      "7      (3.25, 4.0]\n",
      "dtype: category\n",
      "Categories (4, interval[float64, right]): [(0.999, 1.75] < (1.75, 2.5] < (2.5, 3.25] < (3.25, 4.0]]\n",
      "0    매우느림\n",
      "1    매우느림\n",
      "2    조금느림\n",
      "3    조금느림\n",
      "4    조금빠름\n",
      "5    조금빠름\n",
      "6    매우빠름\n",
      "7    매우빠름\n",
      "dtype: category\n",
      "Categories (4, object): ['매우느림' < '조금느림' < '조금빠름' < '매우빠름']\n"
     ]
    }
   ],
   "source": [
    "speed = pd.Series([1,1,2,2,3,3,4,4])\n",
    "print(pd.qcut(speed,4))\n",
    "print(pd.qcut(speed,4,labels=['매우느림','조금느림','조금빠름','매우빠름']))"
   ]
  },
  {
   "cell_type": "markdown",
   "id": "5cbab97b-ce00-42b7-9777-4dcbd2978ec1",
   "metadata": {},
   "source": [
    "*힌트2*: 1-(3)에 해당하는 그림을 fig3로 저장한후 아래의 코드를 관찰하세요 \n",
    "\n",
    "```Python\n",
    "for i in range(150):\n",
    "    print(fig3.data[i].mode)\n",
    "```"
   ]
  },
  {
   "cell_type": "markdown",
   "id": "7ead8306-49d7-45ee-871c-11d6a6298526",
   "metadata": {},
   "source": [
    "이를 이용하여 legend를 수정하는 방법을 생각해보세요. "
   ]
  }
 ],
 "metadata": {
  "kernelspec": {
   "display_name": "Python 3 (ipykernel)",
   "language": "python",
   "name": "python3"
  },
  "language_info": {
   "codemirror_mode": {
    "name": "ipython",
    "version": 3
   },
   "file_extension": ".py",
   "mimetype": "text/x-python",
   "name": "python",
   "nbconvert_exporter": "python",
   "pygments_lexer": "ipython3",
   "version": "3.10.13"
  }
 },
 "nbformat": 4,
 "nbformat_minor": 5
}
