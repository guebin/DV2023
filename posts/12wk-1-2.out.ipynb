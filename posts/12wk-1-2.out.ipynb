{
  "cells": [
    {
      "cell_type": "markdown",
      "metadata": {},
      "source": [
        "# 12wk-2: NYCTaxi 자료 분석 (2)\n",
        "\n",
        "최규빈  \n",
        "2023-11-20\n",
        "\n",
        "# 1. 강의영상\n",
        "\n",
        "<https://youtu.be/playlist?list=PLQqh36zP38-wFUcEr7JtSb7MWUYl6QrW_&si=CmWA765p0mnwWTGA>\n",
        "\n",
        "# 2. Imports"
      ],
      "id": "596495e5-43fc-4943-9294-487ed09a9a98"
    },
    {
      "cell_type": "code",
      "execution_count": 1,
      "metadata": {},
      "outputs": [],
      "source": [
        "import numpy as np\n",
        "import pandas as pd\n",
        "import plotly.express as px\n",
        "import plotly.io as pio"
      ],
      "id": "82df11f9-bf9b-4a15-b7e2-ef8bf07e2721"
    },
    {
      "cell_type": "code",
      "execution_count": 2,
      "metadata": {
        "tags": []
      },
      "outputs": [],
      "source": [
        "pd.options.plotting.backend = \"plotly\"\n",
        "pio.templates.default = \"plotly_white\""
      ],
      "id": "c4f7a494-4ea5-4d20-a29c-e3e854921fbf"
    },
    {
      "cell_type": "markdown",
      "metadata": {},
      "source": [
        "# 3. 데이터준비"
      ],
      "id": "bd31b11a-960d-4780-9935-54ad286f6d71"
    },
    {
      "cell_type": "code",
      "execution_count": 3,
      "metadata": {
        "tags": []
      },
      "outputs": [],
      "source": [
        "df = pd.read_csv(\"NYCTaxi.csv\")[::100].reset_index(drop=True)\n",
        "df_feature = df.assign(\n",
        "    log_trip_duration = np.log(df.trip_duration),\n",
        "    pickup_datetime = df.pickup_datetime.apply(pd.to_datetime),\n",
        "    dropoff_datetime = df.dropoff_datetime.apply(pd.to_datetime),\n",
        "    dist = np.sqrt((df.pickup_latitude-df.dropoff_latitude)**2 + (df.pickup_longitude-df.dropoff_longitude)**2),\n",
        "    #---#\n",
        "    vendor_id = df.vendor_id.map({1:'A',2:'B'})\n",
        ").assign(\n",
        "    speed = lambda df: df.dist / df.trip_duration,\n",
        "    pickup_hour = lambda df: df.pickup_datetime.dt.hour,\n",
        "    dropoff_hour = lambda df: df.dropoff_datetime.dt.hour,\n",
        "    dayofweek = lambda df: df.pickup_datetime.dt.dayofweek\n",
        ")"
      ],
      "id": "c4aef7b1-b794-4a4d-b7a8-097f2e8b8428"
    },
    {
      "cell_type": "markdown",
      "metadata": {},
      "source": [
        "# 4. 시각화3 – 애니메이션\n",
        "\n",
        "## A. scatter / (vendor_id,hour)\n",
        "\n",
        "`-` 시각화"
      ],
      "id": "e71c8510-cc92-462e-9b3c-2b6d57908eb7"
    },
    {
      "cell_type": "code",
      "execution_count": 4,
      "metadata": {
        "tags": []
      },
      "outputs": [],
      "source": [
        "fig = px.scatter_mapbox(\n",
        "    data_frame=df_feature.sort_values('pickup_hour'),\n",
        "    lat = 'pickup_latitude',\n",
        "    lon = 'pickup_longitude',\n",
        "    center = {'lat':40.7322, 'lon':-73.9052},\n",
        "    color = 'vendor_id',\n",
        "    size = 'passenger_count',\n",
        "    size_max = 5,\n",
        "    animation_frame = 'pickup_hour',\n",
        "    #---#\n",
        "    mapbox_style='carto-positron',\n",
        "    zoom=10,\n",
        "    width=750,\n",
        "    height=600\n",
        ")\n",
        "fig.show(config={'scrollZoom': False})"
      ],
      "id": "31f32c79-c39e-4302-b0a1-32b02af72a71"
    },
    {
      "cell_type": "markdown",
      "metadata": {},
      "source": [
        "-   B가 전체적으로 동그라미가 큰것같지 않어..?\n",
        "-   시간대별로 확실히 빈도가 다르다\n",
        "\n",
        "`-` 추가시각화1 – `vendor_id`별 `passenger_count`를 barplot으로 시각화"
      ],
      "id": "eb410ca1-9934-41df-ad57-1f3431cdaf26"
    },
    {
      "cell_type": "code",
      "execution_count": 5,
      "metadata": {
        "tags": []
      },
      "outputs": [],
      "source": [
        "df_feature.groupby('vendor_id').agg({'passenger_count':'mean'})\\\n",
        ".reset_index()\\\n",
        ".plot.bar(y='vendor_id',x='passenger_count',color='vendor_id')"
      ],
      "id": "1232f295-60eb-48b4-a2db-6709d89614b3"
    },
    {
      "cell_type": "markdown",
      "metadata": {},
      "source": [
        "-   B가 평균적으로 승객수가 더 많다. (B는 대형차량 위주로 빌려주는\n",
        "    회사인가?)\n",
        "\n",
        "`-` 추가시각화2 – `vendor_id`별 `passenger_count`를 boxplot으로 시각화"
      ],
      "id": "e42e89a5-dec3-4638-bd1d-3c878e6015b9"
    },
    {
      "cell_type": "code",
      "execution_count": 6,
      "metadata": {
        "tags": []
      },
      "outputs": [],
      "source": [
        "df_feature.plot.box(x='vendor_id',y='passenger_count',color='vendor_id')"
      ],
      "id": "bd8426e2-b417-430a-aded-2c1158f45980"
    },
    {
      "cell_type": "markdown",
      "metadata": {},
      "source": [
        "`-` 추가시각화3 – `vendor_id`별 `passenger_count`를 histogram으로 시각화"
      ],
      "id": "df553f66-791d-45d3-ab00-6d70a11a810c"
    },
    {
      "cell_type": "code",
      "execution_count": 7,
      "metadata": {
        "tags": []
      },
      "outputs": [],
      "source": [
        "df_feature.plot.hist(x='passenger_count',color='vendor_id',facet_col='vendor_id')"
      ],
      "id": "e66eedee-7be4-463d-9663-748b7ee0180a"
    },
    {
      "cell_type": "markdown",
      "metadata": {},
      "source": [
        "-   1~4인 손님의 경우 A,B의 모양이 비슷한데, B는 5인 이상의 손님이\n",
        "    특이하게 많은 편이다. (B가 A에 비하여 1인손님이 좀 더 적고, 2인\n",
        "    손님은 좀 더 많긴함)\n",
        "\n",
        "`-` 추가시각화4 – `pickup_hour`별 `count`를 barplot으로 시각화"
      ],
      "id": "03c13eaf-c8e7-4c23-a4d4-239738348945"
    },
    {
      "cell_type": "code",
      "execution_count": 8,
      "metadata": {
        "tags": []
      },
      "outputs": [],
      "source": [
        "df_feature.pickup_hour.value_counts().sort_index().plot.bar()"
      ],
      "id": "8ae06961-0cb0-407f-ba8b-a10996cf6694"
    },
    {
      "cell_type": "markdown",
      "metadata": {},
      "source": [
        "`-` 추가시각화5 – (`pickup_hour`,`vendor_id`)별 `count`를 barplot으로\n",
        "시각화"
      ],
      "id": "df2a4b14-1f66-4a40-8a41-fe01dd7f9f79"
    },
    {
      "cell_type": "code",
      "execution_count": 9,
      "metadata": {
        "tags": []
      },
      "outputs": [],
      "source": [
        "df_feature.groupby(['vendor_id','pickup_hour']).size()\\\n",
        ".reset_index().rename({0:'count'},axis=1)\\\n",
        ".plot.bar(x='pickup_hour',y='count',color='vendor_id',facet_col='vendor_id')"
      ],
      "id": "6efe4ad2-a0e2-43a3-8526-c7435b9cd502"
    },
    {
      "cell_type": "markdown",
      "metadata": {},
      "source": [
        "`-` 추가시각화6 – (`pickup_hour`,`vendor_id`)별 `count`를 areaplot으로\n",
        "시각화"
      ],
      "id": "1f606b5c-8d53-4ebd-aa36-f15fdcd36f83"
    },
    {
      "cell_type": "code",
      "execution_count": 10,
      "metadata": {
        "tags": []
      },
      "outputs": [],
      "source": [
        "df_feature.groupby(['vendor_id','pickup_hour']).size()\\\n",
        ".reset_index().rename({0:'count'},axis=1)\\\n",
        ".plot.area(x='pickup_hour',y='count',color='vendor_id')"
      ],
      "id": "6392ae73-cde2-4b1b-aef4-7624adfce9e3"
    },
    {
      "cell_type": "markdown",
      "metadata": {},
      "source": [
        "`-` 추가시각화7 – (`pickup_hour`,`vendor_id`)별 `count`를 lineplot으로\n",
        "시각화"
      ],
      "id": "7dd3ac79-8a09-42b9-938f-abe62460808d"
    },
    {
      "cell_type": "code",
      "execution_count": 11,
      "metadata": {
        "tags": []
      },
      "outputs": [],
      "source": [
        "df_feature.groupby(['vendor_id','pickup_hour']).size()\\\n",
        ".reset_index().rename({0:'count'},axis=1)\\\n",
        ".plot.line(x='pickup_hour',y='count',color='vendor_id')"
      ],
      "id": "928ceab0-1cd9-4bdb-8c90-967bc755e604"
    },
    {
      "cell_type": "markdown",
      "metadata": {},
      "source": [
        "## B. scatter / (vendor_id,day_of_week)"
      ],
      "id": "6b82170e-c178-47cd-8b88-e6430736a8d2"
    },
    {
      "cell_type": "code",
      "execution_count": 12,
      "metadata": {
        "tags": []
      },
      "outputs": [],
      "source": [
        "fig = px.scatter_mapbox(\n",
        "    data_frame=df_feature.sort_values('dayofweek'),\n",
        "    lat = 'pickup_latitude',\n",
        "    lon = 'pickup_longitude',\n",
        "    center = {'lat':40.7322, 'lon':-73.9052},\n",
        "    color = 'vendor_id',\n",
        "    size = 'passenger_count',\n",
        "    size_max = 5,\n",
        "    animation_frame = 'dayofweek',\n",
        "    #---#\n",
        "    mapbox_style='carto-positron',\n",
        "    zoom=10,\n",
        "    width=750,\n",
        "    height=600\n",
        ")\n",
        "fig.show(config={'scrollZoom': False})"
      ],
      "id": "1e0cd357-eed5-4752-9d71-ea0eac2b2132"
    },
    {
      "cell_type": "markdown",
      "metadata": {},
      "source": [
        "-   생각보다 요일별 특징은 그다지 뚜렷하지 않음\n",
        "\n",
        "# 5. 시각화4 – `heatmap`\n",
        "\n",
        "## A. (요일,시간)에 따른 `count` 시각화"
      ],
      "id": "426e5faf-71c1-49d7-8f9b-a062fbdf0dea"
    },
    {
      "cell_type": "code",
      "execution_count": 13,
      "metadata": {
        "tags": []
      },
      "outputs": [],
      "source": [
        "tidydata = df_feature.pivot_table(\n",
        "    index = 'pickup_hour',\n",
        "    columns = 'dayofweek',\n",
        "    aggfunc='size'\n",
        ").stack().reset_index().rename({0:'count'},axis=1)\n",
        "#---# \n",
        "px.density_heatmap(\n",
        "    data_frame=tidydata,\n",
        "    x='pickup_hour',\n",
        "    y='dayofweek',\n",
        "    z='count',\n",
        "    nbinsx=24,\n",
        "    nbinsy=7,\n",
        "    height=500,\n",
        ")"
      ],
      "id": "b2831c03-1fc8-43e2-9fd8-f341f804c5b6"
    },
    {
      "cell_type": "markdown",
      "metadata": {},
      "source": [
        "-   노란색: 불금? 피크타임?"
      ],
      "id": "3005d7f2-975a-4c63-ac4f-0af3d55694d0"
    },
    {
      "cell_type": "code",
      "execution_count": 14,
      "metadata": {
        "tags": []
      },
      "outputs": [],
      "source": [
        "240*3"
      ],
      "id": "77eac542-474c-475f-928e-b5dfb108ef67"
    },
    {
      "cell_type": "markdown",
      "metadata": {},
      "source": [
        "## B. (요일,시간)에 따른 `dist` 시각화"
      ],
      "id": "1f2d62d3-c1e5-4ac6-8253-c493dc4c7408"
    },
    {
      "cell_type": "code",
      "execution_count": 15,
      "metadata": {
        "tags": []
      },
      "outputs": [],
      "source": [
        "tidydata = df_feature.pivot_table(\n",
        "    index = 'pickup_hour',\n",
        "    columns = 'dayofweek',\n",
        "    values = 'dist',\n",
        "    aggfunc='mean'\n",
        ").stack().reset_index().rename({0:'dist'},axis=1)\n",
        "#---# \n",
        "px.density_heatmap(\n",
        "    data_frame=tidydata,\n",
        "    x='pickup_hour',\n",
        "    y='dayofweek',\n",
        "    z='dist',\n",
        "    nbinsx=24,\n",
        "    nbinsy=7,\n",
        "    height=500,\n",
        ")"
      ],
      "id": "f201528b-9d5f-4972-bc16-4fa0661929c9"
    },
    {
      "cell_type": "markdown",
      "metadata": {},
      "source": [
        "-   노란색: 일요일 아침부터 장거리.. (관광객? 공항가는 사람일까?\n",
        "    놀러가는 사람일까?)\n",
        "\n",
        "## C. (요일,시간)에 따른 `speed` 시각화"
      ],
      "id": "c3aa18a6-3246-4f18-a755-00385e89cb86"
    },
    {
      "cell_type": "code",
      "execution_count": 16,
      "metadata": {
        "tags": []
      },
      "outputs": [],
      "source": [
        "tidydata = df_feature.pivot_table(\n",
        "    index = 'pickup_hour',\n",
        "    columns = 'dayofweek',\n",
        "    values = 'speed',\n",
        "    aggfunc='mean'\n",
        ").stack().reset_index().rename({0:'speed'},axis=1)\n",
        "#---# \n",
        "px.density_heatmap(\n",
        "    data_frame=tidydata,\n",
        "    x='pickup_hour',\n",
        "    y='dayofweek',\n",
        "    z='speed',\n",
        "    nbinsx=24,\n",
        "    nbinsy=7,\n",
        "    height=500\n",
        ")"
      ],
      "id": "9764c090-aefa-40e2-a993-bbfe002699f6"
    },
    {
      "cell_type": "markdown",
      "metadata": {},
      "source": [
        "-   남색 = 교통체증이 심한 곳\n",
        "\n",
        "# 6. 시각화5 – 경로시각화\n",
        "\n",
        "`-` 이거는 너무 무거워서 좀 작은 데이터로 실습합니다."
      ],
      "id": "87226b66-cfd7-44af-8ff5-b1838770b988"
    },
    {
      "cell_type": "code",
      "execution_count": 17,
      "metadata": {
        "tags": []
      },
      "outputs": [],
      "source": [
        "df_feature_small = df_feature[::100].reset_index(drop=True)"
      ],
      "id": "a872243a-c0e3-4d06-92a3-b3f2a8f538e3"
    },
    {
      "cell_type": "markdown",
      "metadata": {},
      "source": [
        "## A. 예비학습\n",
        "\n",
        "## B. 전처리"
      ],
      "id": "40a84ac7-f2dd-421b-a80b-710a6af00a95"
    },
    {
      "cell_type": "code",
      "execution_count": 18,
      "metadata": {
        "tags": []
      },
      "outputs": [],
      "source": [
        "pcols = ['pickup_datetime','pickup_longitude','pickup_latitude']\n",
        "dcols = ['dropoff_datetime','dropoff_longitude','dropoff_latitude']"
      ],
      "id": "242aeb7b-9754-4ac4-b842-cadc7bb67e18"
    },
    {
      "cell_type": "code",
      "execution_count": 19,
      "metadata": {
        "tags": []
      },
      "outputs": [],
      "source": [
        "def transform(df):\n",
        "    pick_up = df.loc[:,['id']+pcols].set_axis(['id','datetime','lon','lat'],axis=1).eval('state = \"pickup\"')\n",
        "    drop_off = df.loc[:,['id']+dcols].set_axis(['id','datetime','lon','lat'],axis=1).eval('state = \"dropoff\"')\n",
        "    return pd.concat([pick_up,drop_off],axis=0).reset_index(drop=True)"
      ],
      "id": "16917e7f-ce13-4f15-9510-1c5afb208986"
    },
    {
      "cell_type": "code",
      "execution_count": 20,
      "metadata": {
        "tags": []
      },
      "outputs": [],
      "source": [
        "df_left = pd.concat([transform(df) for i,df in df_feature_small.groupby('id')]).reset_index(drop=True)\n",
        "df_right = df_feature_small.drop(pcols+dcols,axis=1)\n",
        "df_feature_small2 = pd.merge(df_left,df_right)"
      ],
      "id": "ddabc022-1c3d-4529-859c-32c13ce270e9"
    },
    {
      "cell_type": "code",
      "execution_count": 21,
      "metadata": {
        "tags": []
      },
      "outputs": [],
      "source": [
        "df_feature_small2"
      ],
      "id": "84aa77a3-5c9d-4d6b-a5a4-eb4f569f266a"
    },
    {
      "cell_type": "markdown",
      "metadata": {},
      "source": [
        "## C. `vendor_id` 별 시각화"
      ],
      "id": "df3ff7f6-8664-4e66-8226-b04cc4949790"
    },
    {
      "cell_type": "code",
      "execution_count": 22,
      "metadata": {
        "tags": []
      },
      "outputs": [],
      "source": [
        "fig = px.line_mapbox(\n",
        "    data_frame=df_feature_small2,\n",
        "    lat=\"lat\", \n",
        "    lon=\"lon\", \n",
        "    center = {'lat':40.7322, 'lon':-73.9052},\n",
        "    line_group = 'id',\n",
        "    color='vendor_id',\n",
        "    #---#\n",
        "    mapbox_style='carto-positron',\n",
        "    zoom=10,\n",
        "    width=750,\n",
        "    height=600,\n",
        ")\n",
        "trace_data = px.scatter_mapbox(\n",
        "        data_frame=df_feature_small2,\n",
        "        lat = 'lat',\n",
        "        lon = 'lon',\n",
        "        center = {'lat':40.7322, 'lon':-73.9052},\n",
        "        color = 'vendor_id',\n",
        "        size = 'trip_duration',\n",
        "        size_max = 10,\n",
        ").data\n",
        "for d in trace_data: \n",
        "    fig.add_trace(d)\n",
        "fig.update_traces(\n",
        "    line={\n",
        "        'width':1,\n",
        "    },\n",
        "    opacity=0.8\n",
        ")\n",
        "fig.show(config={'scrollZoom': False})"
      ],
      "id": "60bc0ecc-4389-46ec-a44b-9842d1c6ecd9"
    },
    {
      "cell_type": "markdown",
      "metadata": {},
      "source": [
        "## D. `dayofweek`별 시각화"
      ],
      "id": "b82b8e8e-9b03-474c-b263-d5146669af8a"
    },
    {
      "cell_type": "code",
      "execution_count": 23,
      "metadata": {
        "tags": []
      },
      "outputs": [],
      "source": [
        "tidydata = df_feature_small2.assign(dayofweek=lambda df: df.dayofweek.astype(str)).sort_values('dayofweek')\n",
        "\n",
        "fig = px.line_mapbox(\n",
        "    data_frame=tidydata,\n",
        "    lat=\"lat\", \n",
        "    lon=\"lon\", \n",
        "    center = {'lat':40.7322, 'lon':-73.9052},\n",
        "    line_group = 'id',\n",
        "    color='dayofweek',\n",
        "    #---#\n",
        "    mapbox_style='carto-positron',\n",
        "    zoom=10,\n",
        "    width=750,\n",
        "    height=600,\n",
        ")\n",
        "trace_data = px.scatter_mapbox(\n",
        "        data_frame=tidydata,\n",
        "        lat = 'lat',\n",
        "        lon = 'lon',\n",
        "        center = {'lat':40.7322, 'lon':-73.9052},\n",
        "        color = 'dayofweek',\n",
        "        size = 'trip_duration',\n",
        "        size_max = 10,\n",
        ").data\n",
        "for d in trace_data: \n",
        "    fig.add_trace(d)\n",
        "fig.update_traces(\n",
        "    line={\n",
        "        'width':1,\n",
        "    },\n",
        "    opacity=0.8\n",
        ")\n",
        "fig.show(config={'scrollZoom': False})"
      ],
      "id": "8e9bf769-ed26-409a-9f8d-99069c4836f5"
    },
    {
      "cell_type": "markdown",
      "metadata": {},
      "source": [
        "## E. `speed`별 시각화"
      ],
      "id": "2a155025-2c96-421e-9beb-40fe03f03426"
    },
    {
      "cell_type": "code",
      "execution_count": 24,
      "metadata": {
        "tags": []
      },
      "outputs": [],
      "source": [
        "df_feature_small2.assign(\n",
        "    speed_cut = lambda df: pd.qcut(df.speed,4)\n",
        ")"
      ],
      "id": "b287296b-486b-4fe6-97c5-dc15f3f202d8"
    },
    {
      "cell_type": "code",
      "execution_count": 25,
      "metadata": {
        "tags": []
      },
      "outputs": [
        {
          "output_type": "stream",
          "name": "stderr",
          "text": [
            "/home/cgb2/anaconda3/envs/ag/lib/python3.10/site-packages/plotly/express/_core.py:2044: FutureWarning:\n",
            "\n",
            "The default of observed=False is deprecated and will be changed to True in a future version of pandas. Pass observed=False to retain current behavior or observed=True to adopt the future default and silence this warning.\n",
            "\n",
            "/home/cgb2/anaconda3/envs/ag/lib/python3.10/site-packages/plotly/express/_core.py:2044: FutureWarning:\n",
            "\n",
            "The default of observed=False is deprecated and will be changed to True in a future version of pandas. Pass observed=False to retain current behavior or observed=True to adopt the future default and silence this warning.\n"
          ]
        }
      ],
      "source": [
        "tidydata = df_feature_small2.assign(\n",
        "    speed_cut = lambda df: pd.qcut(df.speed,4)\n",
        ").sort_values('speed_cut')\n",
        "fig = px.line_mapbox(\n",
        "    data_frame=tidydata,\n",
        "    lat=\"lat\", \n",
        "    lon=\"lon\", \n",
        "    center = {'lat':40.7322, 'lon':-73.9052},\n",
        "    line_group = 'id',\n",
        "    color='speed_cut',\n",
        "    #---#\n",
        "    mapbox_style='carto-positron',\n",
        "    zoom=10,\n",
        "    width=750,\n",
        "    height=600,\n",
        ")\n",
        "trace_data = px.scatter_mapbox(\n",
        "        data_frame=tidydata,\n",
        "        lat = 'lat',\n",
        "        lon = 'lon',\n",
        "        center = {'lat':40.7322, 'lon':-73.9052},\n",
        "        color = 'speed_cut',\n",
        "        size = 'trip_duration',\n",
        "        size_max = 10,\n",
        ").data\n",
        "for d in trace_data: \n",
        "    fig.add_trace(d)\n",
        "fig.update_traces(\n",
        "    line={\n",
        "        'width':1,\n",
        "    },\n",
        "    opacity=0.8\n",
        ")\n",
        "fig.show(config={'scrollZoom': False})"
      ],
      "id": "accf7965-2010-44f3-bae9-96b580021d35"
    }
  ],
  "nbformat": 4,
  "nbformat_minor": 5,
  "metadata": {
    "kernelspec": {
      "name": "python3",
      "display_name": "Python 3 (ipykernel)",
      "language": "python"
    },
    "language_info": {
      "name": "python",
      "codemirror_mode": {
        "name": "ipython",
        "version": "3"
      },
      "file_extension": ".py",
      "mimetype": "text/x-python",
      "nbconvert_exporter": "python",
      "pygments_lexer": "ipython3",
      "version": "3.10.13"
    }
  }
}